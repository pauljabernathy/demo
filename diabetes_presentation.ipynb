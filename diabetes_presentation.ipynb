{
 "cells": [
  {
   "cell_type": "markdown",
   "metadata": {},
   "source": [
    "This uses the <a href=\"https://www.kaggle.com/uciml/pima-indians-diabetes-database?select=diabetes.csv\">Pima Indians Diabetes Dataset</a> downloaded from Kaggle.  It contains measurements of 768 women of Pima ancestry.  The target variable is whether or not they had diabetes and the other attributes are health variables.\n",
    "    \n",
    "In this notebook, we will attempt to train various machine learning models to predict whether or not the patient has diabetes based on the other attributes given.  The algorithms used will be Logistic Regression, Random Forests, and Neural Networks.  We will use scikit-learn 0.23.2 for Logistic Regression and Random Forests.  For Neural Networks will will use Tensorflow 2.0.0 and Keras 2.3.1."
   ]
  },
  {
   "cell_type": "markdown",
   "metadata": {},
   "source": [
    "First, impor the usual suspects."
   ]
  },
  {
   "cell_type": "code",
   "execution_count": 29,
   "metadata": {},
   "outputs": [],
   "source": [
    "# dataframes and plots\n",
    "import pandas as pd\n",
    "import numpy as np\n",
    "import matplotlib.pyplot as plt\n",
    "import seaborn as sns"
   ]
  },
  {
   "cell_type": "code",
   "execution_count": 2,
   "metadata": {},
   "outputs": [],
   "source": [
    "# scikit-learn data splitting and prediction analysis\n",
    "from sklearn.model_selection import train_test_split\n",
    "from sklearn.metrics import accuracy_score, confusion_matrix, classification_report"
   ]
  },
  {
   "cell_type": "code",
   "execution_count": 3,
   "metadata": {},
   "outputs": [
    {
     "name": "stderr",
     "output_type": "stream",
     "text": [
      "Using TensorFlow backend.\n"
     ]
    }
   ],
   "source": [
    "# the models used\n",
    "from sklearn.linear_model import LogisticRegression\n",
    "from sklearn.ensemble import RandomForestClassifier\n",
    "\n",
    "import tensorflow as tf\n",
    "from keras.models import Sequential\n",
    "from keras.layers import Dense\n",
    "from keras.utils import to_categorical"
   ]
  },
  {
   "cell_type": "code",
   "execution_count": 48,
   "metadata": {},
   "outputs": [
    {
     "name": "stdout",
     "output_type": "stream",
     "text": [
      "0.23.2\n",
      "2.3.1\n",
      "2.0.0\n"
     ]
    }
   ],
   "source": [
    "import sklearn\n",
    "print(sklearn.__version__)\n",
    "import keras\n",
    "print(keras.__version__)\n",
    "import tensorflow\n",
    "print(tensorflow.__version__)"
   ]
  },
  {
   "cell_type": "code",
   "execution_count": 4,
   "metadata": {},
   "outputs": [
    {
     "data": {
      "text/plain": [
       "(768, 9)"
      ]
     },
     "execution_count": 4,
     "metadata": {},
     "output_type": "execute_result"
    }
   ],
   "source": [
    "diab = pd.read_csv('diabetes.csv')\n",
    "diab.shape"
   ]
  },
  {
   "cell_type": "code",
   "execution_count": 5,
   "metadata": {},
   "outputs": [
    {
     "data": {
      "text/html": [
       "<div>\n",
       "<style scoped>\n",
       "    .dataframe tbody tr th:only-of-type {\n",
       "        vertical-align: middle;\n",
       "    }\n",
       "\n",
       "    .dataframe tbody tr th {\n",
       "        vertical-align: top;\n",
       "    }\n",
       "\n",
       "    .dataframe thead th {\n",
       "        text-align: right;\n",
       "    }\n",
       "</style>\n",
       "<table border=\"1\" class=\"dataframe\">\n",
       "  <thead>\n",
       "    <tr style=\"text-align: right;\">\n",
       "      <th></th>\n",
       "      <th>Pregnancies</th>\n",
       "      <th>Glucose</th>\n",
       "      <th>BloodPressure</th>\n",
       "      <th>SkinThickness</th>\n",
       "      <th>Insulin</th>\n",
       "      <th>BMI</th>\n",
       "      <th>DiabetesPedigreeFunction</th>\n",
       "      <th>Age</th>\n",
       "      <th>Outcome</th>\n",
       "    </tr>\n",
       "  </thead>\n",
       "  <tbody>\n",
       "    <tr>\n",
       "      <th>0</th>\n",
       "      <td>6</td>\n",
       "      <td>148</td>\n",
       "      <td>72</td>\n",
       "      <td>35</td>\n",
       "      <td>0</td>\n",
       "      <td>33.6</td>\n",
       "      <td>0.627</td>\n",
       "      <td>50</td>\n",
       "      <td>1</td>\n",
       "    </tr>\n",
       "    <tr>\n",
       "      <th>1</th>\n",
       "      <td>1</td>\n",
       "      <td>85</td>\n",
       "      <td>66</td>\n",
       "      <td>29</td>\n",
       "      <td>0</td>\n",
       "      <td>26.6</td>\n",
       "      <td>0.351</td>\n",
       "      <td>31</td>\n",
       "      <td>0</td>\n",
       "    </tr>\n",
       "    <tr>\n",
       "      <th>2</th>\n",
       "      <td>8</td>\n",
       "      <td>183</td>\n",
       "      <td>64</td>\n",
       "      <td>0</td>\n",
       "      <td>0</td>\n",
       "      <td>23.3</td>\n",
       "      <td>0.672</td>\n",
       "      <td>32</td>\n",
       "      <td>1</td>\n",
       "    </tr>\n",
       "    <tr>\n",
       "      <th>3</th>\n",
       "      <td>1</td>\n",
       "      <td>89</td>\n",
       "      <td>66</td>\n",
       "      <td>23</td>\n",
       "      <td>94</td>\n",
       "      <td>28.1</td>\n",
       "      <td>0.167</td>\n",
       "      <td>21</td>\n",
       "      <td>0</td>\n",
       "    </tr>\n",
       "    <tr>\n",
       "      <th>4</th>\n",
       "      <td>0</td>\n",
       "      <td>137</td>\n",
       "      <td>40</td>\n",
       "      <td>35</td>\n",
       "      <td>168</td>\n",
       "      <td>43.1</td>\n",
       "      <td>2.288</td>\n",
       "      <td>33</td>\n",
       "      <td>1</td>\n",
       "    </tr>\n",
       "  </tbody>\n",
       "</table>\n",
       "</div>"
      ],
      "text/plain": [
       "   Pregnancies  Glucose  BloodPressure  SkinThickness  Insulin   BMI  \\\n",
       "0            6      148             72             35        0  33.6   \n",
       "1            1       85             66             29        0  26.6   \n",
       "2            8      183             64              0        0  23.3   \n",
       "3            1       89             66             23       94  28.1   \n",
       "4            0      137             40             35      168  43.1   \n",
       "\n",
       "   DiabetesPedigreeFunction  Age  Outcome  \n",
       "0                     0.627   50        1  \n",
       "1                     0.351   31        0  \n",
       "2                     0.672   32        1  \n",
       "3                     0.167   21        0  \n",
       "4                     2.288   33        1  "
      ]
     },
     "execution_count": 5,
     "metadata": {},
     "output_type": "execute_result"
    }
   ],
   "source": [
    "diab.head()"
   ]
  },
  {
   "cell_type": "code",
   "execution_count": 6,
   "metadata": {},
   "outputs": [
    {
     "data": {
      "text/plain": [
       "0    500\n",
       "1    268\n",
       "Name: Outcome, dtype: int64"
      ]
     },
     "execution_count": 6,
     "metadata": {},
     "output_type": "execute_result"
    }
   ],
   "source": [
    "diab.Outcome.value_counts()"
   ]
  },
  {
   "cell_type": "markdown",
   "metadata": {},
   "source": [
    "So in this data set, 500 were not diagnosed as diabetic and 268 were."
   ]
  },
  {
   "cell_type": "markdown",
   "metadata": {},
   "source": [
    "Before going furthing, I would like to convert the columns to lowercase names.  I just find it easier to type."
   ]
  },
  {
   "cell_type": "code",
   "execution_count": 7,
   "metadata": {},
   "outputs": [
    {
     "data": {
      "text/plain": [
       "Index(['pregnancies', 'glucose', 'bloodpressure', 'skinthickness', 'insulin',\n",
       "       'bmi', 'diabetespedigreefunction', 'age', 'outcome'],\n",
       "      dtype='object')"
      ]
     },
     "execution_count": 7,
     "metadata": {},
     "output_type": "execute_result"
    }
   ],
   "source": [
    "lower_case_columns = []\n",
    "new_column_names = {}\n",
    "for column in diab.columns:\n",
    "    new_column_names[column] = column.lower()\n",
    "diab = diab.rename(columns = new_column_names)\n",
    "diab.columns"
   ]
  },
  {
   "cell_type": "markdown",
   "metadata": {},
   "source": [
    "Next, I am curious how each one is correlated to the target."
   ]
  },
  {
   "cell_type": "code",
   "execution_count": 8,
   "metadata": {},
   "outputs": [
    {
     "data": {
      "text/plain": [
       "<AxesSubplot:>"
      ]
     },
     "execution_count": 8,
     "metadata": {},
     "output_type": "execute_result"
    },
    {
     "data": {
      "image/png": "[encoded data removed]",
      "text/plain": [
       "<Figure size 432x288 with 2 Axes>"
      ]
     },
     "metadata": {
      "needs_background": "light"
     },
     "output_type": "display_data"
    }
   ],
   "source": [
    "sns.heatmap(diab.corr())"
   ]
  },
  {
   "cell_type": "markdown",
   "metadata": {},
   "source": [
    "Listing the correlations with the outcome might be clearer.  So let's find the correlation of each variable with the outcome and list them in descending order."
   ]
  },
  {
   "cell_type": "code",
   "execution_count": 9,
   "metadata": {},
   "outputs": [
    {
     "data": {
      "text/plain": [
       "[('glucose', 0.4665813983068733),\n",
       " ('bmi', 0.29269466264444505),\n",
       " ('age', 0.23835598302719765),\n",
       " ('pregnancies', 0.2218981530339865),\n",
       " ('diabetespedigreefunction', 0.17384406565295976),\n",
       " ('insulin', 0.13054795488404788),\n",
       " ('skinthickness', 0.07475223191831944),\n",
       " ('bloodpressure', 0.06506835955033273)]"
      ]
     },
     "execution_count": 9,
     "metadata": {},
     "output_type": "execute_result"
    }
   ],
   "source": [
    "correlations = []\n",
    "for column in diab.columns[:-1]:\n",
    "    correlations.append((column,  diab.outcome.corr(diab[column])))\n",
    "correlations.sort(key = lambda kv: kv[1], reverse=True)\n",
    "correlations"
   ]
  },
  {
   "cell_type": "code",
   "execution_count": null,
   "metadata": {},
   "outputs": [],
   "source": []
  },
  {
   "cell_type": "markdown",
   "metadata": {},
   "source": [
    "Before using some algorithms liks logistic regression and neural networks, it often works best to scan the columns, often to between -1 and 1 or 0 and 1.  Another possbility is to scale the values by how many standard deviations they are from the mean."
   ]
  },
  {
   "cell_type": "code",
   "execution_count": 10,
   "metadata": {},
   "outputs": [
    {
     "data": {
      "text/html": [
       "<div>\n",
       "<style scoped>\n",
       "    .dataframe tbody tr th:only-of-type {\n",
       "        vertical-align: middle;\n",
       "    }\n",
       "\n",
       "    .dataframe tbody tr th {\n",
       "        vertical-align: top;\n",
       "    }\n",
       "\n",
       "    .dataframe thead th {\n",
       "        text-align: right;\n",
       "    }\n",
       "</style>\n",
       "<table border=\"1\" class=\"dataframe\">\n",
       "  <thead>\n",
       "    <tr style=\"text-align: right;\">\n",
       "      <th></th>\n",
       "      <th>pregnancies</th>\n",
       "      <th>glucose</th>\n",
       "      <th>bloodpressure</th>\n",
       "      <th>skinthickness</th>\n",
       "      <th>insulin</th>\n",
       "      <th>bmi</th>\n",
       "      <th>diabetespedigreefunction</th>\n",
       "      <th>age</th>\n",
       "      <th>outcome</th>\n",
       "    </tr>\n",
       "  </thead>\n",
       "  <tbody>\n",
       "    <tr>\n",
       "      <th>count</th>\n",
       "      <td>768.000000</td>\n",
       "      <td>768.000000</td>\n",
       "      <td>768.000000</td>\n",
       "      <td>768.000000</td>\n",
       "      <td>768.000000</td>\n",
       "      <td>768.000000</td>\n",
       "      <td>768.000000</td>\n",
       "      <td>768.000000</td>\n",
       "      <td>768.000000</td>\n",
       "    </tr>\n",
       "    <tr>\n",
       "      <th>mean</th>\n",
       "      <td>3.845052</td>\n",
       "      <td>120.894531</td>\n",
       "      <td>69.105469</td>\n",
       "      <td>20.536458</td>\n",
       "      <td>79.799479</td>\n",
       "      <td>31.992578</td>\n",
       "      <td>0.471876</td>\n",
       "      <td>33.240885</td>\n",
       "      <td>0.348958</td>\n",
       "    </tr>\n",
       "    <tr>\n",
       "      <th>std</th>\n",
       "      <td>3.369578</td>\n",
       "      <td>31.972618</td>\n",
       "      <td>19.355807</td>\n",
       "      <td>15.952218</td>\n",
       "      <td>115.244002</td>\n",
       "      <td>7.884160</td>\n",
       "      <td>0.331329</td>\n",
       "      <td>11.760232</td>\n",
       "      <td>0.476951</td>\n",
       "    </tr>\n",
       "    <tr>\n",
       "      <th>min</th>\n",
       "      <td>0.000000</td>\n",
       "      <td>0.000000</td>\n",
       "      <td>0.000000</td>\n",
       "      <td>0.000000</td>\n",
       "      <td>0.000000</td>\n",
       "      <td>0.000000</td>\n",
       "      <td>0.078000</td>\n",
       "      <td>21.000000</td>\n",
       "      <td>0.000000</td>\n",
       "    </tr>\n",
       "    <tr>\n",
       "      <th>25%</th>\n",
       "      <td>1.000000</td>\n",
       "      <td>99.000000</td>\n",
       "      <td>62.000000</td>\n",
       "      <td>0.000000</td>\n",
       "      <td>0.000000</td>\n",
       "      <td>27.300000</td>\n",
       "      <td>0.243750</td>\n",
       "      <td>24.000000</td>\n",
       "      <td>0.000000</td>\n",
       "    </tr>\n",
       "    <tr>\n",
       "      <th>50%</th>\n",
       "      <td>3.000000</td>\n",
       "      <td>117.000000</td>\n",
       "      <td>72.000000</td>\n",
       "      <td>23.000000</td>\n",
       "      <td>30.500000</td>\n",
       "      <td>32.000000</td>\n",
       "      <td>0.372500</td>\n",
       "      <td>29.000000</td>\n",
       "      <td>0.000000</td>\n",
       "    </tr>\n",
       "    <tr>\n",
       "      <th>75%</th>\n",
       "      <td>6.000000</td>\n",
       "      <td>140.250000</td>\n",
       "      <td>80.000000</td>\n",
       "      <td>32.000000</td>\n",
       "      <td>127.250000</td>\n",
       "      <td>36.600000</td>\n",
       "      <td>0.626250</td>\n",
       "      <td>41.000000</td>\n",
       "      <td>1.000000</td>\n",
       "    </tr>\n",
       "    <tr>\n",
       "      <th>max</th>\n",
       "      <td>17.000000</td>\n",
       "      <td>199.000000</td>\n",
       "      <td>122.000000</td>\n",
       "      <td>99.000000</td>\n",
       "      <td>846.000000</td>\n",
       "      <td>67.100000</td>\n",
       "      <td>2.420000</td>\n",
       "      <td>81.000000</td>\n",
       "      <td>1.000000</td>\n",
       "    </tr>\n",
       "  </tbody>\n",
       "</table>\n",
       "</div>"
      ],
      "text/plain": [
       "       pregnancies     glucose  bloodpressure  skinthickness     insulin  \\\n",
       "count   768.000000  768.000000     768.000000     768.000000  768.000000   \n",
       "mean      3.845052  120.894531      69.105469      20.536458   79.799479   \n",
       "std       3.369578   31.972618      19.355807      15.952218  115.244002   \n",
       "min       0.000000    0.000000       0.000000       0.000000    0.000000   \n",
       "25%       1.000000   99.000000      62.000000       0.000000    0.000000   \n",
       "50%       3.000000  117.000000      72.000000      23.000000   30.500000   \n",
       "75%       6.000000  140.250000      80.000000      32.000000  127.250000   \n",
       "max      17.000000  199.000000     122.000000      99.000000  846.000000   \n",
       "\n",
       "              bmi  diabetespedigreefunction         age     outcome  \n",
       "count  768.000000                768.000000  768.000000  768.000000  \n",
       "mean    31.992578                  0.471876   33.240885    0.348958  \n",
       "std      7.884160                  0.331329   11.760232    0.476951  \n",
       "min      0.000000                  0.078000   21.000000    0.000000  \n",
       "25%     27.300000                  0.243750   24.000000    0.000000  \n",
       "50%     32.000000                  0.372500   29.000000    0.000000  \n",
       "75%     36.600000                  0.626250   41.000000    1.000000  \n",
       "max     67.100000                  2.420000   81.000000    1.000000  "
      ]
     },
     "execution_count": 10,
     "metadata": {},
     "output_type": "execute_result"
    }
   ],
   "source": [
    "diab.describe()"
   ]
  },
  {
   "cell_type": "markdown",
   "metadata": {},
   "source": [
    "If you look at all the graphs, you will see that most of the variables are not normally distributed, so I won't use the standard deviation methond.  I will simply shrink and stratch each attribute to fit between 0 and 1."
   ]
  },
  {
   "cell_type": "code",
   "execution_count": 11,
   "metadata": {},
   "outputs": [
    {
     "data": {
      "text/plain": [
       "\"\\nUncomment to show all the graphs.\\nfor column in list(diab.columns[:-1]):\\n    if diab[column].dtype == 'int64':\\n        sns.countplot(diab[column])\\n    else:\\n        sns.distplot(diab[column])\\n    plt.show()\\n\""
      ]
     },
     "execution_count": 11,
     "metadata": {},
     "output_type": "execute_result"
    }
   ],
   "source": [
    "'''\n",
    "Uncomment to show all the graphs.\n",
    "for column in list(diab.columns[:-1]):\n",
    "    if diab[column].dtype == 'int64':\n",
    "        sns.countplot(diab[column])\n",
    "    else:\n",
    "        sns.distplot(diab[column])\n",
    "    plt.show()\n",
    "'''"
   ]
  },
  {
   "cell_type": "code",
   "execution_count": 12,
   "metadata": {},
   "outputs": [],
   "source": [
    "def linear_scale_column(column):\n",
    "    column = pd.Series(column)  # make sure it is a series so we can do a vectorized operation\n",
    "    min = column.min()\n",
    "    max = column.max()\n",
    "    column = column.apply(lambda n: (n - min) / (max - min))\n",
    "    return column"
   ]
  },
  {
   "cell_type": "code",
   "execution_count": 13,
   "metadata": {},
   "outputs": [],
   "source": [
    "for column_name in ['pregnancies',\n",
    " 'glucose',\n",
    " 'bloodpressure',\n",
    " 'skinthickness',\n",
    " 'insulin',\n",
    " 'bmi',\n",
    " 'diabetespedigreefunction',\n",
    " 'age']:\n",
    "    diab[column_name] = linear_scale_column(diab[column_name])"
   ]
  },
  {
   "cell_type": "code",
   "execution_count": 14,
   "metadata": {},
   "outputs": [
    {
     "data": {
      "text/html": [
       "<div>\n",
       "<style scoped>\n",
       "    .dataframe tbody tr th:only-of-type {\n",
       "        vertical-align: middle;\n",
       "    }\n",
       "\n",
       "    .dataframe tbody tr th {\n",
       "        vertical-align: top;\n",
       "    }\n",
       "\n",
       "    .dataframe thead th {\n",
       "        text-align: right;\n",
       "    }\n",
       "</style>\n",
       "<table border=\"1\" class=\"dataframe\">\n",
       "  <thead>\n",
       "    <tr style=\"text-align: right;\">\n",
       "      <th></th>\n",
       "      <th>pregnancies</th>\n",
       "      <th>glucose</th>\n",
       "      <th>bloodpressure</th>\n",
       "      <th>skinthickness</th>\n",
       "      <th>insulin</th>\n",
       "      <th>bmi</th>\n",
       "      <th>diabetespedigreefunction</th>\n",
       "      <th>age</th>\n",
       "      <th>outcome</th>\n",
       "    </tr>\n",
       "  </thead>\n",
       "  <tbody>\n",
       "    <tr>\n",
       "      <th>count</th>\n",
       "      <td>768.000000</td>\n",
       "      <td>768.000000</td>\n",
       "      <td>768.000000</td>\n",
       "      <td>768.000000</td>\n",
       "      <td>768.000000</td>\n",
       "      <td>768.000000</td>\n",
       "      <td>768.000000</td>\n",
       "      <td>768.000000</td>\n",
       "      <td>768.000000</td>\n",
       "    </tr>\n",
       "    <tr>\n",
       "      <th>mean</th>\n",
       "      <td>0.226180</td>\n",
       "      <td>0.607510</td>\n",
       "      <td>0.566438</td>\n",
       "      <td>0.207439</td>\n",
       "      <td>0.094326</td>\n",
       "      <td>0.476790</td>\n",
       "      <td>0.168179</td>\n",
       "      <td>0.204015</td>\n",
       "      <td>0.348958</td>\n",
       "    </tr>\n",
       "    <tr>\n",
       "      <th>std</th>\n",
       "      <td>0.198210</td>\n",
       "      <td>0.160666</td>\n",
       "      <td>0.158654</td>\n",
       "      <td>0.161134</td>\n",
       "      <td>0.136222</td>\n",
       "      <td>0.117499</td>\n",
       "      <td>0.141473</td>\n",
       "      <td>0.196004</td>\n",
       "      <td>0.476951</td>\n",
       "    </tr>\n",
       "    <tr>\n",
       "      <th>min</th>\n",
       "      <td>0.000000</td>\n",
       "      <td>0.000000</td>\n",
       "      <td>0.000000</td>\n",
       "      <td>0.000000</td>\n",
       "      <td>0.000000</td>\n",
       "      <td>0.000000</td>\n",
       "      <td>0.000000</td>\n",
       "      <td>0.000000</td>\n",
       "      <td>0.000000</td>\n",
       "    </tr>\n",
       "    <tr>\n",
       "      <th>25%</th>\n",
       "      <td>0.058824</td>\n",
       "      <td>0.497487</td>\n",
       "      <td>0.508197</td>\n",
       "      <td>0.000000</td>\n",
       "      <td>0.000000</td>\n",
       "      <td>0.406855</td>\n",
       "      <td>0.070773</td>\n",
       "      <td>0.050000</td>\n",
       "      <td>0.000000</td>\n",
       "    </tr>\n",
       "    <tr>\n",
       "      <th>50%</th>\n",
       "      <td>0.176471</td>\n",
       "      <td>0.587940</td>\n",
       "      <td>0.590164</td>\n",
       "      <td>0.232323</td>\n",
       "      <td>0.036052</td>\n",
       "      <td>0.476900</td>\n",
       "      <td>0.125747</td>\n",
       "      <td>0.133333</td>\n",
       "      <td>0.000000</td>\n",
       "    </tr>\n",
       "    <tr>\n",
       "      <th>75%</th>\n",
       "      <td>0.352941</td>\n",
       "      <td>0.704774</td>\n",
       "      <td>0.655738</td>\n",
       "      <td>0.323232</td>\n",
       "      <td>0.150414</td>\n",
       "      <td>0.545455</td>\n",
       "      <td>0.234095</td>\n",
       "      <td>0.333333</td>\n",
       "      <td>1.000000</td>\n",
       "    </tr>\n",
       "    <tr>\n",
       "      <th>max</th>\n",
       "      <td>1.000000</td>\n",
       "      <td>1.000000</td>\n",
       "      <td>1.000000</td>\n",
       "      <td>1.000000</td>\n",
       "      <td>1.000000</td>\n",
       "      <td>1.000000</td>\n",
       "      <td>1.000000</td>\n",
       "      <td>1.000000</td>\n",
       "      <td>1.000000</td>\n",
       "    </tr>\n",
       "  </tbody>\n",
       "</table>\n",
       "</div>"
      ],
      "text/plain": [
       "       pregnancies     glucose  bloodpressure  skinthickness     insulin  \\\n",
       "count   768.000000  768.000000     768.000000     768.000000  768.000000   \n",
       "mean      0.226180    0.607510       0.566438       0.207439    0.094326   \n",
       "std       0.198210    0.160666       0.158654       0.161134    0.136222   \n",
       "min       0.000000    0.000000       0.000000       0.000000    0.000000   \n",
       "25%       0.058824    0.497487       0.508197       0.000000    0.000000   \n",
       "50%       0.176471    0.587940       0.590164       0.232323    0.036052   \n",
       "75%       0.352941    0.704774       0.655738       0.323232    0.150414   \n",
       "max       1.000000    1.000000       1.000000       1.000000    1.000000   \n",
       "\n",
       "              bmi  diabetespedigreefunction         age     outcome  \n",
       "count  768.000000                768.000000  768.000000  768.000000  \n",
       "mean     0.476790                  0.168179    0.204015    0.348958  \n",
       "std      0.117499                  0.141473    0.196004    0.476951  \n",
       "min      0.000000                  0.000000    0.000000    0.000000  \n",
       "25%      0.406855                  0.070773    0.050000    0.000000  \n",
       "50%      0.476900                  0.125747    0.133333    0.000000  \n",
       "75%      0.545455                  0.234095    0.333333    1.000000  \n",
       "max      1.000000                  1.000000    1.000000    1.000000  "
      ]
     },
     "execution_count": 14,
     "metadata": {},
     "output_type": "execute_result"
    }
   ],
   "source": [
    "diab.describe()"
   ]
  },
  {
   "cell_type": "markdown",
   "metadata": {},
   "source": [
    "So now they are all between 0 and 1.  Interestingly, the correlations are stil the same."
   ]
  },
  {
   "cell_type": "code",
   "execution_count": 15,
   "metadata": {},
   "outputs": [
    {
     "data": {
      "text/plain": [
       "[('glucose', 0.4665813983068734),\n",
       " ('bmi', 0.2926946626444452),\n",
       " ('age', 0.23835598302719743),\n",
       " ('pregnancies', 0.22189815303398672),\n",
       " ('diabetespedigreefunction', 0.17384406565295984),\n",
       " ('insulin', 0.1305479548840473),\n",
       " ('skinthickness', 0.0747522319183193),\n",
       " ('bloodpressure', 0.06506835955033263)]"
      ]
     },
     "execution_count": 15,
     "metadata": {},
     "output_type": "execute_result"
    }
   ],
   "source": [
    "correlations = []\n",
    "for column in diab.columns[:-1]:\n",
    "    correlations.append((column,  diab.outcome.corr(diab[column])))\n",
    "correlations.sort(key = lambda kv: kv[1], reverse=True)\n",
    "correlations"
   ]
  },
  {
   "cell_type": "code",
   "execution_count": null,
   "metadata": {},
   "outputs": [],
   "source": []
  },
  {
   "cell_type": "markdown",
   "metadata": {},
   "source": [
    "Now we'll start training algorithms and doing predictions."
   ]
  },
  {
   "cell_type": "code",
   "execution_count": 17,
   "metadata": {},
   "outputs": [],
   "source": [
    "x_train, x_test, y_train, y_test = train_test_split(diab[diab.columns[:-1]], diab.outcome, test_size=.3, random_state=37)"
   ]
  },
  {
   "cell_type": "code",
   "execution_count": 18,
   "metadata": {},
   "outputs": [
    {
     "name": "stdout",
     "output_type": "stream",
     "text": [
      "0.7792207792207793\n",
      "[[141  10]\n",
      " [ 41  39]]\n"
     ]
    }
   ],
   "source": [
    "lr = LogisticRegression()\n",
    "lr.fit(x_train, y_train)\n",
    "lr_predictions = lr.predict(x_test)\n",
    "print(accuracy_score(y_test, lr_predictions))\n",
    "print(confusion_matrix(y_test, lr_predictions))"
   ]
  },
  {
   "cell_type": "code",
   "execution_count": 19,
   "metadata": {},
   "outputs": [
    {
     "data": {
      "text/plain": [
       "0    0.65368\n",
       "1    0.34632\n",
       "Name: outcome, dtype: float64"
      ]
     },
     "execution_count": 19,
     "metadata": {},
     "output_type": "execute_result"
    }
   ],
   "source": [
    "pd.Series(y_test).value_counts() / len(y_test)"
   ]
  },
  {
   "cell_type": "code",
   "execution_count": 20,
   "metadata": {},
   "outputs": [
    {
     "data": {
      "text/plain": [
       "0    0.787879\n",
       "1    0.212121\n",
       "dtype: float64"
      ]
     },
     "execution_count": 20,
     "metadata": {},
     "output_type": "execute_result"
    }
   ],
   "source": [
    "pd.Series(lr_predictions).value_counts() / len(lr_predictions)"
   ]
  },
  {
   "cell_type": "code",
   "execution_count": 21,
   "metadata": {},
   "outputs": [],
   "source": [
    "def do_one_run(model, x_train, x_test, y_train, y_test):\n",
    "    model.fit(x_train, y_train)\n",
    "    predictions = model.predict(x_test)\n",
    "    print(accuracy_score(y_test, predictions))\n",
    "    print(confusion_matrix(y_test, predictions))\n",
    "    #return predictions"
   ]
  },
  {
   "cell_type": "code",
   "execution_count": 22,
   "metadata": {},
   "outputs": [
    {
     "name": "stdout",
     "output_type": "stream",
     "text": [
      "0.7792207792207793\n",
      "[[141  10]\n",
      " [ 41  39]]\n"
     ]
    }
   ],
   "source": [
    "#lr_predictions = do_one_run(lr, x_train, x_test, y_train, y_test)\n",
    "do_one_run(lr, x_train, x_test, y_train, y_test)"
   ]
  },
  {
   "cell_type": "markdown",
   "metadata": {},
   "source": [
    "Now try Random Forests."
   ]
  },
  {
   "cell_type": "code",
   "execution_count": 23,
   "metadata": {},
   "outputs": [
    {
     "name": "stdout",
     "output_type": "stream",
     "text": [
      "0.7575757575757576\n",
      "[[134  17]\n",
      " [ 39  41]]\n"
     ]
    }
   ],
   "source": [
    "rf = RandomForestClassifier()\n",
    "#rf_predictions = do_one_run(rf, x_train, x_test, y_train, y_test)\n",
    "do_one_run(rf, x_train, x_test, y_train, y_test)"
   ]
  },
  {
   "cell_type": "markdown",
   "metadata": {},
   "source": [
    "But due to the radomness involved, there is some veriability in Random Forests"
   ]
  },
  {
   "cell_type": "code",
   "execution_count": 24,
   "metadata": {},
   "outputs": [
    {
     "name": "stdout",
     "output_type": "stream",
     "text": [
      "0.7575757575757576\n",
      "[[133  18]\n",
      " [ 38  42]]\n",
      "0.7575757575757576\n",
      "[[131  20]\n",
      " [ 36  44]]\n",
      "0.7792207792207793\n",
      "[[136  15]\n",
      " [ 36  44]]\n",
      "0.7532467532467533\n",
      "[[133  18]\n",
      " [ 39  41]]\n",
      "0.7705627705627706\n",
      "[[132  19]\n",
      " [ 34  46]]\n",
      "0.7489177489177489\n",
      "[[132  19]\n",
      " [ 39  41]]\n"
     ]
    }
   ],
   "source": [
    "do_one_run(rf, x_train, x_test, y_train, y_test)\n",
    "do_one_run(rf, x_train, x_test, y_train, y_test)\n",
    "do_one_run(rf, x_train, x_test, y_train, y_test)\n",
    "do_one_run(rf, x_train, x_test, y_train, y_test)\n",
    "do_one_run(rf, x_train, x_test, y_train, y_test)\n",
    "do_one_run(rf, x_train, x_test, y_train, y_test)"
   ]
  },
  {
   "cell_type": "markdown",
   "metadata": {},
   "source": [
    "So let's use the n_estimators parameter to increase the number of trees and see if that gives us more agreement between runs of the program."
   ]
  },
  {
   "cell_type": "code",
   "execution_count": 25,
   "metadata": {},
   "outputs": [
    {
     "name": "stdout",
     "output_type": "stream",
     "text": [
      "0.7532467532467533\n",
      "[[132  19]\n",
      " [ 38  42]]\n",
      "0.7575757575757576\n",
      "[[132  19]\n",
      " [ 37  43]]\n",
      "0.7489177489177489\n",
      "[[132  19]\n",
      " [ 39  41]]\n",
      "0.7445887445887446\n",
      "[[131  20]\n",
      " [ 39  41]]\n"
     ]
    }
   ],
   "source": [
    "'''rf = RandomForestClassifier(n_estimators=700)\n",
    "do_one_run(rf, x_train, x_test, y_train, y_test)\n",
    "do_one_run(rf, x_train, x_test, y_train, y_test)\n",
    "do_one_run(rf, x_train, x_test, y_train, y_test)\n",
    "do_one_run(rf, x_train, x_test, y_train, y_test)'''"
   ]
  },
  {
   "cell_type": "code",
   "execution_count": 26,
   "metadata": {},
   "outputs": [
    {
     "name": "stdout",
     "output_type": "stream",
     "text": [
      "0.7532467532467533\n",
      "[[131  20]\n",
      " [ 37  43]]\n",
      "0.7532467532467533\n",
      "[[131  20]\n",
      " [ 37  43]]\n",
      "0.7619047619047619\n",
      "[[132  19]\n",
      " [ 36  44]]\n",
      "0.7445887445887446\n",
      "[[131  20]\n",
      " [ 39  41]]\n"
     ]
    }
   ],
   "source": [
    "rf = RandomForestClassifier(n_estimators=5000)\n",
    "do_one_run(rf, x_train, x_test, y_train, y_test)\n",
    "do_one_run(rf, x_train, x_test, y_train, y_test)\n",
    "do_one_run(rf, x_train, x_test, y_train, y_test)\n",
    "do_one_run(rf, x_train, x_test, y_train, y_test)"
   ]
  },
  {
   "cell_type": "markdown",
   "metadata": {},
   "source": [
    "Let's remind ourselfs what the Logistic Regression result was.  (The results of Logistic Regression are stable from one run to the next)."
   ]
  },
  {
   "cell_type": "code",
   "execution_count": 27,
   "metadata": {},
   "outputs": [
    {
     "name": "stdout",
     "output_type": "stream",
     "text": [
      "0.7792207792207793\n",
      "[[141  10]\n",
      " [ 41  39]]\n"
     ]
    }
   ],
   "source": [
    "do_one_run(lr, x_train, x_test, y_train, y_test)"
   ]
  },
  {
   "cell_type": "markdown",
   "metadata": {},
   "source": [
    "So Logistic Regression has a slightly better accuracy score than Random Forest with n_estimators=5000.  In this data set, with this train test split, Random Forests do seem to have a slightly lower number of false negatives (bad) and a slightly higher number of true negatives (bad)."
   ]
  },
  {
   "cell_type": "code",
   "execution_count": null,
   "metadata": {},
   "outputs": [],
   "source": []
  },
  {
   "cell_type": "markdown",
   "metadata": {},
   "source": [
    "Now let's look at neural networks."
   ]
  },
  {
   "cell_type": "code",
   "execution_count": 30,
   "metadata": {},
   "outputs": [
    {
     "name": "stdout",
     "output_type": "stream",
     "text": [
      "0.7575757575757576\n",
      "[[124  27]\n",
      " [ 29  51]]\n"
     ]
    }
   ],
   "source": [
    "model = Sequential()\n",
    "model.add(Dense(16, input_dim=8, activation='relu'))\n",
    "model.add(Dense(16, input_dim=16, activation='relu'))\n",
    "model.add(Dense(16, input_dim=16, activation='relu'))\n",
    "model.add(Dense(16, input_dim=16, activation='relu'))\n",
    "model.add(Dense(16, input_dim=16, activation='relu'))\n",
    "#model.add(Dense(1, activation='sigmoid'))\n",
    "model.add(Dense(2, activation='softmax'))\n",
    "model.compile(loss='categorical_crossentropy', optimizer='adam', metrics=['accuracy'])\n",
    "\n",
    "num_epochs = 100\n",
    "y_binary = to_categorical(y_train)\n",
    "model.fit(x_train, y_binary, epochs=num_epochs, verbose=0)\n",
    "\n",
    "dnn_predictions = model.predict(x_test)\n",
    "y_test_binary = to_categorical(y_test)\n",
    "\n",
    "pred = np.apply_along_axis(lambda r: 1 if r[1] > r[0] else 0, 1, dnn_predictions)\n",
    "confusion_matrix(y_test, pred)\n",
    "print(accuracy_score(y_test, pred))\n",
    "print(confusion_matrix(y_test, pred))"
   ]
  },
  {
   "cell_type": "markdown",
   "metadata": {},
   "source": [
    "Let's make a function where we can more easily change a few parameters and re run."
   ]
  },
  {
   "cell_type": "code",
   "execution_count": 31,
   "metadata": {},
   "outputs": [],
   "source": [
    "def do_one_dnn_run(num_layers, layer_size_ratio, num_epochs = 100):\n",
    "    model = Sequential()\n",
    "    layer_width = 8 * layer_size_ratio\n",
    "    model.add(Dense(layer_width, input_dim=8, activation='relu'))\n",
    "    for i in range(num_layers - 1):\n",
    "        model.add(Dense(layer_width, input_dim=layer_width, activation='relu'))\n",
    "    #model.add(Dense(1, activation='sigmoid'))\n",
    "    model.add(Dense(2, activation='softmax'))\n",
    "    model.compile(loss='categorical_crossentropy', optimizer='adam', metrics=['accuracy'])\n",
    "\n",
    "    \n",
    "    y_binary = to_categorical(y_train)\n",
    "    model.fit(x_train, y_binary, epochs=num_epochs, verbose=0)\n",
    "\n",
    "    dnn_predictions = model.predict(x_test)\n",
    "    y_test_binary = to_categorical(y_test)\n",
    "\n",
    "    pred = np.apply_along_axis(lambda r: 1 if r[1] > r[0] else 0, 1, dnn_predictions)\n",
    "    print(accuracy_score(y_test, pred))\n",
    "    print(confusion_matrix(y_test, pred))\n",
    "    "
   ]
  },
  {
   "cell_type": "code",
   "execution_count": 32,
   "metadata": {},
   "outputs": [
    {
     "name": "stdout",
     "output_type": "stream",
     "text": [
      "0.7402597402597403\n",
      "[[131  20]\n",
      " [ 40  40]]\n"
     ]
    }
   ],
   "source": [
    "do_one_dnn_run(5, 2, 100)"
   ]
  },
  {
   "cell_type": "code",
   "execution_count": 35,
   "metadata": {},
   "outputs": [
    {
     "name": "stdout",
     "output_type": "stream",
     "text": [
      "0.7748917748917749\n",
      "[[123  28]\n",
      " [ 24  56]]\n",
      "0.7575757575757576\n",
      "[[123  28]\n",
      " [ 28  52]]\n",
      "0.7575757575757576\n",
      "[[129  22]\n",
      " [ 34  46]]\n",
      "0.7705627705627706\n",
      "[[127  24]\n",
      " [ 29  51]]\n"
     ]
    }
   ],
   "source": [
    "do_one_dnn_run(5, 2, 100)\n",
    "do_one_dnn_run(5, 2, 100)\n",
    "do_one_dnn_run(5, 2, 100)\n",
    "do_one_dnn_run(5, 2, 100)"
   ]
  },
  {
   "cell_type": "code",
   "execution_count": 33,
   "metadata": {},
   "outputs": [
    {
     "name": "stdout",
     "output_type": "stream",
     "text": [
      "0.7316017316017316\n",
      "[[113  38]\n",
      " [ 24  56]]\n"
     ]
    }
   ],
   "source": [
    "do_one_dnn_run(10, 2, 100)"
   ]
  },
  {
   "cell_type": "code",
   "execution_count": 36,
   "metadata": {},
   "outputs": [
    {
     "name": "stdout",
     "output_type": "stream",
     "text": [
      "0.7878787878787878\n",
      "[[132  19]\n",
      " [ 30  50]]\n",
      "0.7359307359307359\n",
      "[[110  41]\n",
      " [ 20  60]]\n",
      "0.7619047619047619\n",
      "[[121  30]\n",
      " [ 25  55]]\n",
      "0.7619047619047619\n",
      "[[120  31]\n",
      " [ 24  56]]\n"
     ]
    }
   ],
   "source": [
    "do_one_dnn_run(10, 2, 100)\n",
    "do_one_dnn_run(10, 2, 100)\n",
    "do_one_dnn_run(10, 2, 100)\n",
    "do_one_dnn_run(10, 2, 100)"
   ]
  },
  {
   "cell_type": "code",
   "execution_count": 37,
   "metadata": {},
   "outputs": [
    {
     "name": "stdout",
     "output_type": "stream",
     "text": [
      "0.70995670995671\n",
      "[[113  38]\n",
      " [ 29  51]]\n",
      "0.7532467532467533\n",
      "[[128  23]\n",
      " [ 34  46]]\n",
      "0.7402597402597403\n",
      "[[121  30]\n",
      " [ 30  50]]\n",
      "0.696969696969697\n",
      "[[110  41]\n",
      " [ 29  51]]\n",
      "0.7575757575757576\n",
      "[[124  27]\n",
      " [ 29  51]]\n"
     ]
    }
   ],
   "source": [
    "do_one_dnn_run(5, 4, 100)\n",
    "do_one_dnn_run(5, 4, 100)\n",
    "do_one_dnn_run(5, 4, 100)\n",
    "do_one_dnn_run(5, 4, 100)\n",
    "do_one_dnn_run(5, 4, 100)"
   ]
  },
  {
   "cell_type": "code",
   "execution_count": 38,
   "metadata": {},
   "outputs": [
    {
     "name": "stdout",
     "output_type": "stream",
     "text": [
      "0.7316017316017316\n",
      "[[143   8]\n",
      " [ 54  26]]\n",
      "0.7316017316017316\n",
      "[[118  33]\n",
      " [ 29  51]]\n",
      "0.7272727272727273\n",
      "[[103  48]\n",
      " [ 15  65]]\n"
     ]
    }
   ],
   "source": [
    "do_one_dnn_run(25, 2, 100)\n",
    "do_one_dnn_run(25, 2, 100)\n",
    "do_one_dnn_run(25, 2, 100)"
   ]
  },
  {
   "cell_type": "code",
   "execution_count": 40,
   "metadata": {},
   "outputs": [
    {
     "name": "stdout",
     "output_type": "stream",
     "text": [
      "0.7186147186147186\n",
      "[[103  48]\n",
      " [ 17  63]]\n",
      "0.7316017316017316\n",
      "[[120  31]\n",
      " [ 31  49]]\n"
     ]
    }
   ],
   "source": [
    "do_one_dnn_run(25, 2, 100)\n",
    "do_one_dnn_run(25, 2, 100)"
   ]
  },
  {
   "cell_type": "code",
   "execution_count": 41,
   "metadata": {},
   "outputs": [
    {
     "name": "stdout",
     "output_type": "stream",
     "text": [
      "0.7575757575757576\n",
      "[[126  25]\n",
      " [ 31  49]]\n",
      "0.6796536796536796\n",
      "[[116  35]\n",
      " [ 39  41]]\n",
      "0.6753246753246753\n",
      "[[111  40]\n",
      " [ 35  45]]\n",
      "0.7402597402597403\n",
      "[[119  32]\n",
      " [ 28  52]]\n"
     ]
    }
   ],
   "source": [
    "do_one_dnn_run(5, 2, 400)\n",
    "do_one_dnn_run(5, 2, 400)\n",
    "do_one_dnn_run(5, 2, 400)\n",
    "do_one_dnn_run(5, 2, 400)"
   ]
  },
  {
   "cell_type": "markdown",
   "metadata": {},
   "source": [
    "It is quite possible that I am not setting up the network correctly or tuning the parameters properly.  However, so far I am not seeing anything about the neural network runs that seems to give it an advantage over logistic regression.  A few of the neural network runs have had a slightly higher accuracy score, but most do not.  Increasing the number of layers or the number of neurons in a layer does not seem to be working."
   ]
  },
  {
   "cell_type": "markdown",
   "metadata": {},
   "source": [
    "For further research:\n",
    "\n",
    "    -More experimenting with Neural Networks.  I am still someone new to it.\n",
    "    -Experiment with parameter tuning on Random Forests.\n",
    "    -Train with different train/test splits.\n",
    "    -Functions that run multiple runs of an algorithm and aggregate the results.\n",
    "    -principal component analysis.\n",
    "    "
   ]
  },
  {
   "cell_type": "markdown",
   "metadata": {},
   "source": [
    "Conclusion:\n",
    "    \n",
    "In this dataset, using a Logistic Regression model with scikit-learn, we can predict whether or not a woman was diagnosed with diabetes, based on the other variables given, with about 77.9% accuracy.  Logistic Regression is slightly more accurate than Random Forest, and more accurate than most of the attemps with Neural Networks."
   ]
  },
  {
   "cell_type": "code",
   "execution_count": null,
   "metadata": {},
   "outputs": [],
   "source": []
  }
 ],
 "metadata": {
  "kernelspec": {
   "display_name": "Python 3",
   "language": "python",
   "name": "python3"
  },
  "language_info": {
   "codemirror_mode": {
    "name": "ipython",
    "version": 3
   },
   "file_extension": ".py",
   "mimetype": "text/x-python",
   "name": "python",
   "nbconvert_exporter": "python",
   "pygments_lexer": "ipython3",
   "version": "3.7.9"
  }
 },
 "nbformat": 4,
 "nbformat_minor": 4
}
