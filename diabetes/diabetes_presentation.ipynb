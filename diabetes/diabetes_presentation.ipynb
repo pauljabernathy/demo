{
 "cells": [
  {
   "cell_type": "markdown",
   "metadata": {},
   "source": [
    "## Introduction\n",
    "\n",
    "This analysis uses the <a href=\"https://www.kaggle.com/uciml/pima-indians-diabetes-database?select=diabetes.csv\">Pima Indians Diabetes Dataset</a> downloaded from Kaggle.  It contains measurements of 768 women of Pima ancestry.  The target variable is whether or not they had diabetes.  The other 8 attributes are input variables.\n",
    "    \n",
    "In this notebook, we will attempt to train 3 different machine learning models to predict whether or not the patient has diabetes based on the other attributes given.  The algorithms used will be <a href=\"https://en.wikipedia.org/wiki/Logistic_regression\">Logistic Regression</a>, <a href=\"https://en.wikipedia.org/wiki/Random_forest\">Random Forests</a>, and <a href=\"https://en.wikipedia.org/wiki/Neural_network\">Neural Networks</a>.  We will use scikit-learn for Logistic Regression and Random Forests.  For Neural Networks will will use Keras with Tensorflow underneath."
   ]
  },
  {
   "cell_type": "markdown",
   "metadata": {},
   "source": [
    "First, import the usual suspects."
   ]
  },
  {
   "cell_type": "code",
   "execution_count": 1,
   "metadata": {},
   "outputs": [],
   "source": [
    "# dataframes and plots\n",
    "import pandas as pd\n",
    "import numpy as np\n",
    "import matplotlib.pyplot as plt\n",
    "import seaborn as sns"
   ]
  },
  {
   "cell_type": "code",
   "execution_count": 2,
   "metadata": {},
   "outputs": [],
   "source": [
    "# scikit-learn data splitting and prediction analysis\n",
    "from sklearn.model_selection import train_test_split\n",
    "from sklearn.metrics import accuracy_score, confusion_matrix"
   ]
  },
  {
   "cell_type": "code",
   "execution_count": 3,
   "metadata": {},
   "outputs": [
    {
     "name": "stderr",
     "output_type": "stream",
     "text": [
      "Using TensorFlow backend.\n"
     ]
    }
   ],
   "source": [
    "# the models used\n",
    "from sklearn.linear_model import LogisticRegression\n",
    "from sklearn.ensemble import RandomForestClassifier\n",
    "\n",
    "import tensorflow as tf\n",
    "from keras.models import Sequential\n",
    "from keras.layers import Dense\n",
    "from keras.utils import to_categorical"
   ]
  },
  {
   "cell_type": "markdown",
   "metadata": {},
   "source": [
    "Show the versions being used."
   ]
  },
  {
   "cell_type": "code",
   "execution_count": 4,
   "metadata": {},
   "outputs": [
    {
     "name": "stdout",
     "output_type": "stream",
     "text": [
      "sklearn 0.23.2\n",
      "keras 2.3.1\n",
      "tensorflow 2.0.0\n"
     ]
    }
   ],
   "source": [
    "import sklearn\n",
    "print('sklearn', sklearn.__version__)\n",
    "import keras\n",
    "print('keras', keras.__version__)\n",
    "import tensorflow\n",
    "print('tensorflow', tensorflow.__version__)"
   ]
  },
  {
   "cell_type": "markdown",
   "metadata": {},
   "source": [
    "<br>\n",
    "<br>\n",
    "<h2>The data set</h2>"
   ]
  },
  {
   "cell_type": "markdown",
   "metadata": {},
   "source": [
    "Now, get the dataframe.  You could do <code>\"diab = pd.read_csv('diabetes.csv')\"</code>.  But I wrote a function that loads the data and changes the column names to all lower case letters (a personal preference - makes it easier to type)."
   ]
  },
  {
   "cell_type": "code",
   "execution_count": 5,
   "metadata": {},
   "outputs": [],
   "source": [
    "def get_df(file_name):\n",
    "    '''\n",
    "    Load the dataset from the csv file.\n",
    "    :return: a DataFrame containing the dataset\n",
    "    '''\n",
    "    diab = pd.read_csv(file_name)\n",
    "    new_column_names = {}\n",
    "    for column in diab.columns:\n",
    "        new_column_names[column] = column.lower()\n",
    "    diab = diab.rename(columns=new_column_names)\n",
    "    return diab"
   ]
  },
  {
   "cell_type": "code",
   "execution_count": 6,
   "metadata": {},
   "outputs": [],
   "source": [
    "diab = get_df('diabetes.csv')"
   ]
  },
  {
   "cell_type": "code",
   "execution_count": 7,
   "metadata": {},
   "outputs": [
    {
     "data": {
      "text/html": [
       "<div>\n",
       "<style scoped>\n",
       "    .dataframe tbody tr th:only-of-type {\n",
       "        vertical-align: middle;\n",
       "    }\n",
       "\n",
       "    .dataframe tbody tr th {\n",
       "        vertical-align: top;\n",
       "    }\n",
       "\n",
       "    .dataframe thead th {\n",
       "        text-align: right;\n",
       "    }\n",
       "</style>\n",
       "<table border=\"1\" class=\"dataframe\">\n",
       "  <thead>\n",
       "    <tr style=\"text-align: right;\">\n",
       "      <th></th>\n",
       "      <th>pregnancies</th>\n",
       "      <th>glucose</th>\n",
       "      <th>bloodpressure</th>\n",
       "      <th>skinthickness</th>\n",
       "      <th>insulin</th>\n",
       "      <th>bmi</th>\n",
       "      <th>diabetespedigreefunction</th>\n",
       "      <th>age</th>\n",
       "      <th>outcome</th>\n",
       "    </tr>\n",
       "  </thead>\n",
       "  <tbody>\n",
       "    <tr>\n",
       "      <th>0</th>\n",
       "      <td>6</td>\n",
       "      <td>148</td>\n",
       "      <td>72</td>\n",
       "      <td>35</td>\n",
       "      <td>0</td>\n",
       "      <td>33.6</td>\n",
       "      <td>0.627</td>\n",
       "      <td>50</td>\n",
       "      <td>1</td>\n",
       "    </tr>\n",
       "    <tr>\n",
       "      <th>1</th>\n",
       "      <td>1</td>\n",
       "      <td>85</td>\n",
       "      <td>66</td>\n",
       "      <td>29</td>\n",
       "      <td>0</td>\n",
       "      <td>26.6</td>\n",
       "      <td>0.351</td>\n",
       "      <td>31</td>\n",
       "      <td>0</td>\n",
       "    </tr>\n",
       "    <tr>\n",
       "      <th>2</th>\n",
       "      <td>8</td>\n",
       "      <td>183</td>\n",
       "      <td>64</td>\n",
       "      <td>0</td>\n",
       "      <td>0</td>\n",
       "      <td>23.3</td>\n",
       "      <td>0.672</td>\n",
       "      <td>32</td>\n",
       "      <td>1</td>\n",
       "    </tr>\n",
       "    <tr>\n",
       "      <th>3</th>\n",
       "      <td>1</td>\n",
       "      <td>89</td>\n",
       "      <td>66</td>\n",
       "      <td>23</td>\n",
       "      <td>94</td>\n",
       "      <td>28.1</td>\n",
       "      <td>0.167</td>\n",
       "      <td>21</td>\n",
       "      <td>0</td>\n",
       "    </tr>\n",
       "    <tr>\n",
       "      <th>4</th>\n",
       "      <td>0</td>\n",
       "      <td>137</td>\n",
       "      <td>40</td>\n",
       "      <td>35</td>\n",
       "      <td>168</td>\n",
       "      <td>43.1</td>\n",
       "      <td>2.288</td>\n",
       "      <td>33</td>\n",
       "      <td>1</td>\n",
       "    </tr>\n",
       "  </tbody>\n",
       "</table>\n",
       "</div>"
      ],
      "text/plain": [
       "   pregnancies  glucose  bloodpressure  skinthickness  insulin   bmi  \\\n",
       "0            6      148             72             35        0  33.6   \n",
       "1            1       85             66             29        0  26.6   \n",
       "2            8      183             64              0        0  23.3   \n",
       "3            1       89             66             23       94  28.1   \n",
       "4            0      137             40             35      168  43.1   \n",
       "\n",
       "   diabetespedigreefunction  age  outcome  \n",
       "0                     0.627   50        1  \n",
       "1                     0.351   31        0  \n",
       "2                     0.672   32        1  \n",
       "3                     0.167   21        0  \n",
       "4                     2.288   33        1  "
      ]
     },
     "execution_count": 7,
     "metadata": {},
     "output_type": "execute_result"
    }
   ],
   "source": [
    "diab.head()"
   ]
  },
  {
   "cell_type": "code",
   "execution_count": 8,
   "metadata": {},
   "outputs": [
    {
     "data": {
      "text/plain": [
       "0    500\n",
       "1    268\n",
       "Name: outcome, dtype: int64"
      ]
     },
     "execution_count": 8,
     "metadata": {},
     "output_type": "execute_result"
    }
   ],
   "source": [
    "diab.outcome.value_counts()"
   ]
  },
  {
   "cell_type": "code",
   "execution_count": 9,
   "metadata": {},
   "outputs": [
    {
     "data": {
      "text/plain": [
       "0    0.651042\n",
       "1    0.348958\n",
       "Name: outcome, dtype: float64"
      ]
     },
     "execution_count": 9,
     "metadata": {},
     "output_type": "execute_result"
    }
   ],
   "source": [
    "diab.outcome.value_counts() / diab.shape[0]"
   ]
  },
  {
   "cell_type": "markdown",
   "metadata": {},
   "source": [
    "So in this data set, 500 (about 65%) were not diagnosed as diabetic and 268 (about 35%) were."
   ]
  },
  {
   "cell_type": "markdown",
   "metadata": {},
   "source": [
    "I am interested to know how correlated each input variable is to the target variable."
   ]
  },
  {
   "cell_type": "code",
   "execution_count": 10,
   "metadata": {},
   "outputs": [
    {
     "data": {
      "text/plain": [
       "<AxesSubplot:>"
      ]
     },
     "execution_count": 10,
     "metadata": {},
     "output_type": "execute_result"
    },
    {
     "data": {
      "image/png": "[encoded data removed]",
      "text/plain": [
       "<Figure size 432x288 with 2 Axes>"
      ]
     },
     "metadata": {
      "needs_background": "light"
     },
     "output_type": "display_data"
    }
   ],
   "source": [
    "sns.heatmap(diab.corr())"
   ]
  },
  {
   "cell_type": "markdown",
   "metadata": {},
   "source": [
    "This is a little difficult to read, especially if you are only intrested in correlations between the inputs and the target, not between inputs and other inputs, so let's list the correlations of each input to the target."
   ]
  },
  {
   "cell_type": "code",
   "execution_count": 11,
   "metadata": {},
   "outputs": [
    {
     "data": {
      "text/plain": [
       "[('glucose', 0.4665813983068733),\n",
       " ('bmi', 0.29269466264444505),\n",
       " ('age', 0.23835598302719765),\n",
       " ('pregnancies', 0.2218981530339865),\n",
       " ('diabetespedigreefunction', 0.17384406565295976),\n",
       " ('insulin', 0.13054795488404788),\n",
       " ('skinthickness', 0.07475223191831944),\n",
       " ('bloodpressure', 0.06506835955033273)]"
      ]
     },
     "execution_count": 11,
     "metadata": {},
     "output_type": "execute_result"
    }
   ],
   "source": [
    "correlations = []\n",
    "for column in diab.columns[:-1]:\n",
    "    correlations.append((column,  diab.outcome.corr(diab[column])))\n",
    "correlations.sort(key = lambda kv: kv[1], reverse=True)\n",
    "correlations"
   ]
  },
  {
   "cell_type": "markdown",
   "metadata": {},
   "source": [
    "<br>\n",
    "<br>\n",
    "<h2>Data Preparation</h2>"
   ]
  },
  {
   "cell_type": "markdown",
   "metadata": {},
   "source": [
    "Before using some algorithms liks logistic regression and neural networks, it often works best to scan the columns, often to between -1 and 1 or 0 and 1.  Another possbility is to scale the values by how many standard deviations they are from the mean."
   ]
  },
  {
   "cell_type": "code",
   "execution_count": 12,
   "metadata": {},
   "outputs": [],
   "source": [
    "#diab.describe()"
   ]
  },
  {
   "cell_type": "markdown",
   "metadata": {},
   "source": [
    "We do not use the standard deviation method here because most of the variables are not normally distributed.  (The easiest way to see that is to view a graph of all the variables, which is not included here to save space.)"
   ]
  },
  {
   "cell_type": "code",
   "execution_count": 13,
   "metadata": {},
   "outputs": [],
   "source": [
    "def linear_scale_column(column):\n",
    "    '''\n",
    "    Scale the column so all the values are between 0 and 1.\n",
    "    :param column:\n",
    "    :return:\n",
    "    '''\n",
    "    column = pd.Series(column)  # make sure it is a series so we can do a vectorized operation\n",
    "    min = column.min()\n",
    "    max = column.max()\n",
    "    column = column.apply(lambda n: (n - min) / (max - min))\n",
    "    return column"
   ]
  },
  {
   "cell_type": "code",
   "execution_count": 14,
   "metadata": {},
   "outputs": [],
   "source": [
    "for column_name in ['pregnancies',\n",
    " 'glucose',\n",
    " 'bloodpressure',\n",
    " 'skinthickness',\n",
    " 'insulin',\n",
    " 'bmi',\n",
    " 'diabetespedigreefunction',\n",
    " 'age']:\n",
    "    diab[column_name] = linear_scale_column(diab[column_name])"
   ]
  },
  {
   "cell_type": "markdown",
   "metadata": {},
   "source": [
    "'''\n",
    "Uncomment to show all the graphs.\n",
    "for column in list(diab.columns[:-1]):\n",
    "    if diab[column].dtype == 'int64':\n",
    "        sns.countplot(diab[column])\n",
    "    else:\n",
    "        sns.distplot(diab[column])\n",
    "    plt.show()\n",
    "'''"
   ]
  },
  {
   "cell_type": "code",
   "execution_count": 15,
   "metadata": {},
   "outputs": [],
   "source": [
    "#diab.describe()"
   ]
  },
  {
   "cell_type": "markdown",
   "metadata": {},
   "source": [
    "So now they are all between 0 and 1.  The correlations are stil the same."
   ]
  },
  {
   "cell_type": "code",
   "execution_count": 16,
   "metadata": {},
   "outputs": [
    {
     "data": {
      "text/plain": [
       "[('glucose', 0.4665813983068734),\n",
       " ('bmi', 0.2926946626444452),\n",
       " ('age', 0.23835598302719743),\n",
       " ('pregnancies', 0.22189815303398672),\n",
       " ('diabetespedigreefunction', 0.17384406565295984),\n",
       " ('insulin', 0.1305479548840473),\n",
       " ('skinthickness', 0.0747522319183193),\n",
       " ('bloodpressure', 0.06506835955033263)]"
      ]
     },
     "execution_count": 16,
     "metadata": {},
     "output_type": "execute_result"
    }
   ],
   "source": [
    "correlations = []\n",
    "for column in diab.columns[:-1]:\n",
    "    correlations.append((column,  diab.outcome.corr(diab[column])))\n",
    "correlations.sort(key = lambda kv: kv[1], reverse=True)\n",
    "correlations"
   ]
  },
  {
   "cell_type": "markdown",
   "metadata": {},
   "source": [
    "For this data set, there was no other data manipulation necessary, so we can go on to training the algorithms."
   ]
  },
  {
   "cell_type": "markdown",
   "metadata": {},
   "source": [
    "<br>\n",
    "<br>\n",
    "<h2>Training the Algorithms</h2>"
   ]
  },
  {
   "cell_type": "markdown",
   "metadata": {},
   "source": [
    "Now we'll start training algorithms and doing predictions.\n",
    "\n",
    "The first step is to split the data into a training and testing set."
   ]
  },
  {
   "cell_type": "code",
   "execution_count": 17,
   "metadata": {},
   "outputs": [],
   "source": [
    "x_train, x_test, y_train, y_test = train_test_split(diab[diab.columns[:-1]], diab.outcome, test_size=.3, random_state=37)"
   ]
  },
  {
   "cell_type": "markdown",
   "metadata": {},
   "source": [
    "To save some typing, let's make a function to do this."
   ]
  },
  {
   "cell_type": "code",
   "execution_count": 18,
   "metadata": {},
   "outputs": [],
   "source": [
    "def get_train_test_split(diab):\n",
    "    '''\n",
    "    Split the data into the train and test portions.  This function really isn't all that necessary in it's current\n",
    "    form.  It just saves a little bit of typing.\n",
    "    :param diab:\n",
    "    :return: a four part tuple\n",
    "    '''\n",
    "    x_train, x_test, y_train, y_test = train_test_split(diab[diab.columns[:-1]], diab.outcome, test_size=.3, random_state=37)\n",
    "    return x_train, x_test, y_train, y_test"
   ]
  },
  {
   "cell_type": "markdown",
   "metadata": {},
   "source": [
    "<h3>Logistic Regression and Random Forests</h3>"
   ]
  },
  {
   "cell_type": "markdown",
   "metadata": {},
   "source": [
    "Now, train and evaluate a Logistic Regression model."
   ]
  },
  {
   "cell_type": "code",
   "execution_count": 19,
   "metadata": {},
   "outputs": [
    {
     "name": "stdout",
     "output_type": "stream",
     "text": [
      "0.7792207792207793\n",
      "[[141  10]\n",
      " [ 41  39]]\n"
     ]
    }
   ],
   "source": [
    "lr = LogisticRegression()\n",
    "lr.fit(x_train, y_train)\n",
    "lr_predictions = lr.predict(x_test)\n",
    "print(accuracy_score(y_test, lr_predictions))\n",
    "print(confusion_matrix(y_test, lr_predictions))"
   ]
  },
  {
   "cell_type": "markdown",
   "metadata": {},
   "source": [
    "So it gets almost 80% correct.  Let's compare it's prediction proportions to the real ones."
   ]
  },
  {
   "cell_type": "code",
   "execution_count": 20,
   "metadata": {},
   "outputs": [
    {
     "data": {
      "text/plain": [
       "0    0.65368\n",
       "1    0.34632\n",
       "Name: outcome, dtype: float64"
      ]
     },
     "execution_count": 20,
     "metadata": {},
     "output_type": "execute_result"
    }
   ],
   "source": [
    "pd.Series(y_test).value_counts() / len(y_test)"
   ]
  },
  {
   "cell_type": "code",
   "execution_count": 21,
   "metadata": {},
   "outputs": [
    {
     "data": {
      "text/plain": [
       "0    0.787879\n",
       "1    0.212121\n",
       "dtype: float64"
      ]
     },
     "execution_count": 21,
     "metadata": {},
     "output_type": "execute_result"
    }
   ],
   "source": [
    "pd.Series(lr_predictions).value_counts() / len(lr_predictions)"
   ]
  },
  {
   "cell_type": "markdown",
   "metadata": {},
   "source": [
    "So the Logistic Regression model is predicting more negatives than it should be."
   ]
  },
  {
   "cell_type": "markdown",
   "metadata": {},
   "source": [
    "Next, let's try Randoms Forests.  Since Random Forests have some randomness, the results can changes slightly from one run to the next.  So let's make a function to run the training and predicting so we can do it with just one line of code."
   ]
  },
  {
   "cell_type": "markdown",
   "metadata": {},
   "source": [
    "Now try Random Forests."
   ]
  },
  {
   "cell_type": "code",
   "execution_count": 22,
   "metadata": {},
   "outputs": [
    {
     "name": "stdout",
     "output_type": "stream",
     "text": [
      "0.7662337662337663\n",
      "[[135  16]\n",
      " [ 38  42]]\n"
     ]
    }
   ],
   "source": [
    "rf = RandomForestClassifier()\n",
    "rf.fit(x_train, y_train)\n",
    "rf_predictions = rf.predict(x_test)\n",
    "print(accuracy_score(y_test, rf_predictions))\n",
    "print(confusion_matrix(y_test, rf_predictions))"
   ]
  },
  {
   "cell_type": "markdown",
   "metadata": {},
   "source": [
    "But due to the radomness involved, there is some variation in Random Forest training.  So it would be nice to be able to run a machine learning algorithm multiple times without having to type the same lines over and over again.  So let's write a few functions."
   ]
  },
  {
   "cell_type": "code",
   "execution_count": 23,
   "metadata": {},
   "outputs": [],
   "source": [
    "def do_one_run(model, x_train, x_test, y_train, y_test, print_only=False):\n",
    "    '''\n",
    "    Do one train / test cycle of the given model with the given data.\n",
    "    :param model: the sklearn model\n",
    "    :param x_train: the DataFrame holding the input variables of the training set\n",
    "    :param x_test: the DataFrame holding the input variables of the test set\n",
    "    :param y_train: the target column of the training set\n",
    "    :param y_test: the target column of the test set\n",
    "    :param print_only: whether you should print the results or return for later aggregation\n",
    "    :return:\n",
    "    '''\n",
    "    model.fit(x_train, y_train)\n",
    "    predictions = model.predict(x_test)\n",
    "    if print_only:\n",
    "        show_accuracy_stats(y_test, predictions)\n",
    "    else:\n",
    "        return predictions\n"
   ]
  },
  {
   "cell_type": "code",
   "execution_count": null,
   "metadata": {},
   "outputs": [],
   "source": []
  },
  {
   "cell_type": "code",
   "execution_count": 24,
   "metadata": {},
   "outputs": [],
   "source": [
    "def do_random_forest_single(diab):\n",
    "    '''\n",
    "    Run one train / test cycle for Random Forests and print the results.\n",
    "    :param diab: the DataFrame\n",
    "    :return: nothing\n",
    "    '''\n",
    "    rf = RandomForestClassifier()\n",
    "    x_train, x_test, y_train, y_test = get_train_test_split(diab)\n",
    "    do_one_run(rf, x_train, x_test, y_train, y_test, True)"
   ]
  },
  {
   "cell_type": "code",
   "execution_count": 25,
   "metadata": {},
   "outputs": [],
   "source": [
    "def do_logistic_single(diab):\n",
    "    '''\n",
    "    Run one train / test cycle for Logistic Regression and print the results.\n",
    "    :param diab: the DataFrame\n",
    "    :return:  nothing\n",
    "    '''\n",
    "    lr = LogisticRegression(max_iter=5000)\n",
    "    x_train, x_test, y_train, y_test = get_train_test_split(diab)\n",
    "    do_one_run(lr, x_train, x_test, y_train, y_test, True)"
   ]
  },
  {
   "cell_type": "code",
   "execution_count": 26,
   "metadata": {},
   "outputs": [],
   "source": [
    "def show_accuracy_stats(y_test, predictions):\n",
    "    print(accuracy_score(y_test, predictions))\n",
    "    print(confusion_matrix(y_test, predictions))"
   ]
  },
  {
   "cell_type": "code",
   "execution_count": 27,
   "metadata": {},
   "outputs": [
    {
     "name": "stdout",
     "output_type": "stream",
     "text": [
      "0.7792207792207793\n",
      "[[141  10]\n",
      " [ 41  39]]\n"
     ]
    }
   ],
   "source": [
    "do_logistic_single(diab)"
   ]
  },
  {
   "cell_type": "code",
   "execution_count": 28,
   "metadata": {},
   "outputs": [
    {
     "name": "stdout",
     "output_type": "stream",
     "text": [
      "0.7575757575757576\n",
      "[[131  20]\n",
      " [ 36  44]]\n"
     ]
    }
   ],
   "source": [
    "do_random_forest_single(diab)"
   ]
  },
  {
   "cell_type": "code",
   "execution_count": 29,
   "metadata": {},
   "outputs": [
    {
     "name": "stdout",
     "output_type": "stream",
     "text": [
      "0.7489177489177489\n",
      "[[133  18]\n",
      " [ 40  40]]\n"
     ]
    }
   ],
   "source": [
    "do_random_forest_single(diab)"
   ]
  },
  {
   "cell_type": "markdown",
   "metadata": {},
   "source": [
    "You see the slightly different results for Random Forests.\n",
    "\n",
    "Now, let's write functions to run it multiple times and combine the results."
   ]
  },
  {
   "cell_type": "code",
   "execution_count": 30,
   "metadata": {},
   "outputs": [],
   "source": [
    "def aggregate_predictions(predictions_list, one_prob):\n",
    "    '''\n",
    "    :param predictions_list:\n",
    "    :param one_prob: the probability of getting one, if you randomly choose 1 or 0\n",
    "    :return:\n",
    "    '''\n",
    "    predictions_np = np.array(predictions_list)\n",
    "    predictions_mean = (np.apply_along_axis(sum, 0, predictions_np) / predictions_np.shape[0]).reshape(1, predictions_np.shape[1])\n",
    "    agg = np.apply_along_axis(lambda n: 1 if n > one_prob else (np.random.choice([1, 0], p=[one_prob, 1 - one_prob]) if n == one_prob else 0), 0, predictions_mean)\n",
    "    return agg\n"
   ]
  },
  {
   "cell_type": "code",
   "execution_count": 31,
   "metadata": {},
   "outputs": [],
   "source": [
    "def run_aggregations(model, x_train, x_test, y_train, y_test, the_function=do_one_run, num_runs=10):\n",
    "    '''\n",
    "    Run the model many times, using the given function, and aggregate the results.  Really, \"average\" might be the\n",
    "    better word.\n",
    "    Currently, the function parameter is not necessary.  I had intended this to be used for any of the model types\n",
    "    (logistic, random forests, and neural networks), but neural networks required a slight different function,\n",
    "    so I added the function parameter.  Then I discovered that the neural network algorithm needs a new model each\n",
    "    time, so I just made the do_dnn_many() function to be the neural network equivalent of this function.\n",
    "    :param model: The sklearn model.  In this case, either LogisticRegression or RandomForest.\n",
    "    :param the_function: The function to use.\n",
    "    :param num_runs: How many times to run it.\n",
    "    :return:\n",
    "    '''\n",
    "    lists = []\n",
    "    for i in range(num_runs):\n",
    "        result = the_function(model, x_train, x_test, y_train, y_test)\n",
    "        lists.append(result)\n",
    "        #show_accuracy_stats(y_test, result)\n",
    "\n",
    "    predictions_np = np.array(lists)\n",
    "    one_prob = sum(y_test) / len(y_test)\n",
    "    agg = aggregate_predictions(predictions_np, one_prob)\n",
    "    print(\"\\naggregate results:\")\n",
    "    show_accuracy_stats(y_test, agg)\n",
    "    return agg"
   ]
  },
  {
   "cell_type": "markdown",
   "metadata": {},
   "source": [
    "And functions to run Logistic Regression and Random Forests many times."
   ]
  },
  {
   "cell_type": "code",
   "execution_count": 32,
   "metadata": {},
   "outputs": [],
   "source": [
    "def do_logistic_many(diab):\n",
    "    '''\n",
    "    Do many train / test cycles of logistic regression.  Not really needed since it is the same for each run.\n",
    "    :param diab:\n",
    "    :return:\n",
    "    '''\n",
    "    print(\"\\nrunning logistic regressions:\")\n",
    "    model = LogisticRegression(max_iter=5000)\n",
    "    x_train, x_test, y_train, y_test = get_train_test_split(diab)\n",
    "    return run_aggregations(model, x_train, x_test, y_train, y_test, the_function=do_one_run)"
   ]
  },
  {
   "cell_type": "code",
   "execution_count": 33,
   "metadata": {},
   "outputs": [],
   "source": [
    "def do_random_forest_many(diab):\n",
    "    '''\n",
    "    Do many train / test cycles of Random Forests and print the aggregated results.\n",
    "    :param diab:\n",
    "    :return:\n",
    "    '''\n",
    "    print(\"\\nrunning random forests:\")\n",
    "    model = RandomForestClassifier()\n",
    "    x_train, x_test, y_train, y_test = get_train_test_split(diab)\n",
    "    return run_aggregations(model, x_train, x_test, y_train, y_test, the_function=do_one_run)"
   ]
  },
  {
   "cell_type": "code",
   "execution_count": 34,
   "metadata": {},
   "outputs": [
    {
     "name": "stdout",
     "output_type": "stream",
     "text": [
      "\n",
      "running random forests:\n",
      "\n",
      "aggregate results:\n",
      "0.7619047619047619\n",
      "[[131  20]\n",
      " [ 35  45]]\n"
     ]
    }
   ],
   "source": [
    "rf = do_random_forest_many(diab)"
   ]
  },
  {
   "cell_type": "code",
   "execution_count": 35,
   "metadata": {},
   "outputs": [
    {
     "name": "stdout",
     "output_type": "stream",
     "text": [
      "\n",
      "running logistic regressions:\n",
      "\n",
      "aggregate results:\n",
      "0.7792207792207793\n",
      "[[141  10]\n",
      " [ 41  39]]\n"
     ]
    }
   ],
   "source": [
    "lg = do_logistic_many(diab)"
   ]
  },
  {
   "cell_type": "markdown",
   "metadata": {},
   "source": [
    "It seems that the Logistic Regression results do not change from one run to the next."
   ]
  },
  {
   "cell_type": "markdown",
   "metadata": {},
   "source": [
    "<h3>Neural Networks</h3>"
   ]
  },
  {
   "cell_type": "markdown",
   "metadata": {},
   "source": [
    "And now let's turn our attention to Neural Networks.\n",
    "\n",
    "I'll create a simple Neural Network model with 8 inputs (one for each independent variable).  We can change the number of layers based on a parameter in the function below, and the number of nodes in the hidden layers can also be specified.  Foe example, a call to make_dnn_model(2, 4) will lead to a network with 8 input nodes, a layer with 32 nodes, another layer with 32 nodes, and an output layer.\n",
    "\n",
    "As with Random Forests, there is some randomness involved in training the neural network so the results are not deterministic.  So I'll make functions to run it multiple times.  Because the Neural Network is run in a slightly different way that the Random Forest, I can't reuse the run_aggregations() function from before, so do_dnn_many will combine the work of run_X_many() and run_aggregations()."
   ]
  },
  {
   "cell_type": "code",
   "execution_count": 36,
   "metadata": {},
   "outputs": [],
   "source": [
    "def make_dnn_model(num_layers, layer_size_ratio):\n",
    "    '''\n",
    "    make a very simple, or even simplistic, neural network model\n",
    "    :param num_layers: how many layers\n",
    "    :param layer_size_ratio: ratio of size of middle layers to the input layer\n",
    "    :return:\n",
    "    '''\n",
    "    model = Sequential()\n",
    "    layer_width = 8 * layer_size_ratio\n",
    "    # TODO:  Don't hard code 8 (the number of input variables in this particular case) in here\n",
    "    model.add(Dense(layer_width, input_dim=8, activation='relu'))\n",
    "    for i in range(num_layers - 1):\n",
    "        model.add(Dense(layer_width, input_dim=layer_width, activation='relu'))\n",
    "    model.add(Dense(2, activation='softmax'))\n",
    "    model.compile(loss='categorical_crossentropy', optimizer='adam', metrics=['accuracy'])\n",
    "    return model\n"
   ]
  },
  {
   "cell_type": "code",
   "execution_count": 37,
   "metadata": {},
   "outputs": [],
   "source": [
    "def do_one_dnn_run(model, x_train, x_test, y_train, y_test, num_epochs=100, print_only=False):\n",
    "    '''\n",
    "    Do one train / test run of the given neural network model.\n",
    "    :param num_epochs: how many epochs to use in the neural network training\n",
    "    :param print_only: to print the results or return them for aggregation later\n",
    "    :return:\n",
    "    '''\n",
    "    y_binary = to_categorical(y_train)\n",
    "    model.fit(x_train, y_binary, epochs=num_epochs, verbose=0)\n",
    "\n",
    "    dnn_predictions = model.predict(x_test)\n",
    "\n",
    "    pred = np.apply_along_axis(lambda r: 1 if r[1] > r[0] else 0, 1, dnn_predictions)\n",
    "    if print_only:\n",
    "        show_accuracy_stats(y_test, pred)\n",
    "    else:\n",
    "        return pred"
   ]
  },
  {
   "cell_type": "code",
   "execution_count": 38,
   "metadata": {},
   "outputs": [],
   "source": [
    "def do_dnn_single(diab):\n",
    "    '''\n",
    "    Make a DNN model and run it once.\n",
    "    :param diab:\n",
    "    :return:\n",
    "    '''\n",
    "    model = make_dnn_model(5, 4)\n",
    "    x_train, x_test, y_train, y_test = get_train_test_split(diab)\n",
    "    do_one_dnn_run(model, x_train, x_test, y_train, y_test, print_only=True)"
   ]
  },
  {
   "cell_type": "code",
   "execution_count": 39,
   "metadata": {},
   "outputs": [],
   "source": [
    "def do_dnn_many(diab, num_runs=10, num_layers=5, layer_size_ratio=4):\n",
    "    '''\n",
    "    Run the DNN train / test cycle many times and aggregate the results.\n",
    "    :param diab:\n",
    "    :return:\n",
    "    '''\n",
    "    print(\"\\ndoing DNN:\")\n",
    "    x_train, x_test, y_train, y_test = get_train_test_split(diab)\n",
    "    lists = []\n",
    "    for i in range(num_runs):\n",
    "        model = make_dnn_model(num_layers, layer_size_ratio)\n",
    "        result = do_one_dnn_run(model, x_train, x_test, y_train, y_test)\n",
    "        lists.append(result)\n",
    "        #show_accuracy_stats(y_test, result)\n",
    "\n",
    "    predictions_np = np.array(lists)\n",
    "    one_prob = sum(y_test) / len(y_test)\n",
    "    agg = aggregate_predictions(predictions_np, one_prob)\n",
    "    print(\"\\naggregate results:\")\n",
    "    show_accuracy_stats(y_test, agg)\n",
    "    return agg"
   ]
  },
  {
   "cell_type": "code",
   "execution_count": 40,
   "metadata": {},
   "outputs": [
    {
     "name": "stdout",
     "output_type": "stream",
     "text": [
      "\n",
      "doing DNN:\n",
      "\n",
      "aggregate results:\n",
      "0.7489177489177489\n",
      "[[114  37]\n",
      " [ 21  59]]\n"
     ]
    }
   ],
   "source": [
    "dnn_predictions_5_4 = do_dnn_many(diab, 5, 4)"
   ]
  },
  {
   "cell_type": "code",
   "execution_count": 41,
   "metadata": {},
   "outputs": [
    {
     "name": "stdout",
     "output_type": "stream",
     "text": [
      "\n",
      "doing DNN:\n",
      "\n",
      "aggregate results:\n",
      "0.7878787878787878\n",
      "[[133  18]\n",
      " [ 31  49]]\n"
     ]
    }
   ],
   "source": [
    "dnn_predictions_10_2 = do_dnn_many(diab, 10, 2)"
   ]
  },
  {
   "cell_type": "code",
   "execution_count": 42,
   "metadata": {},
   "outputs": [
    {
     "name": "stdout",
     "output_type": "stream",
     "text": [
      "\n",
      "doing DNN:\n",
      "\n",
      "aggregate results:\n",
      "0.7359307359307359\n",
      "[[117  34]\n",
      " [ 27  53]]\n"
     ]
    }
   ],
   "source": [
    "dnn_predictions_10_4 = do_dnn_many(diab, 10, 4)"
   ]
  },
  {
   "cell_type": "markdown",
   "metadata": {},
   "source": [
    "From the few examples I have tried, (10, 2) seems the best parameter set."
   ]
  },
  {
   "cell_type": "markdown",
   "metadata": {},
   "source": [
    "<br>\n",
    "<br>\n",
    "<h2>Comparing the three algorithms</h2>"
   ]
  },
  {
   "cell_type": "markdown",
   "metadata": {},
   "source": [
    "Now let's look at each of them together, and the aggregated results from all three."
   ]
  },
  {
   "cell_type": "code",
   "execution_count": 43,
   "metadata": {},
   "outputs": [
    {
     "name": "stdout",
     "output_type": "stream",
     "text": [
      "\n",
      "running logistic regressions:\n",
      "\n",
      "aggregate results:\n",
      "0.7792207792207793\n",
      "[[141  10]\n",
      " [ 41  39]]\n",
      "\n",
      "running random forests:\n",
      "\n",
      "aggregate results:\n",
      "0.7489177489177489\n",
      "[[131  20]\n",
      " [ 38  42]]\n",
      "\n",
      "doing DNN:\n",
      "\n",
      "aggregate results:\n",
      "0.7748917748917749\n",
      "[[129  22]\n",
      " [ 30  50]]\n"
     ]
    }
   ],
   "source": [
    "lg_predictions = do_logistic_many(diab)\n",
    "rf_predictions = do_random_forest_many(diab)\n",
    "dnn_predictions = do_dnn_many(diab, 10, 2)\n",
    "agg = aggregate_predictions([lg_predictions, rf_predictions, dnn_predictions], 0.348958)"
   ]
  },
  {
   "cell_type": "code",
   "execution_count": 44,
   "metadata": {},
   "outputs": [
    {
     "name": "stdout",
     "output_type": "stream",
     "text": [
      "0.7835497835497836\n",
      "[[135  16]\n",
      " [ 34  46]]\n"
     ]
    }
   ],
   "source": [
    "show_accuracy_stats(y_test, agg)"
   ]
  },
  {
   "cell_type": "markdown",
   "metadata": {},
   "source": [
    "## Conclusion:\n",
    "    \n",
    "In this dataset, using a Logistic Regression model with scikit-learn, we can predict whether or not a woman was diagnosed with diabetes, based on the other variables given, with about 77.9% accuracy.  Logistic Regression was more accurate than Random Forests and most of the attemps with Neural Networks."
   ]
  },
  {
   "cell_type": "markdown",
   "metadata": {},
   "source": [
    "In my observations of the Machine Learning community, it seems that Neural Networks and Random Forests are very popular algorithms.  And they do perform well in many circumstances.  However, in this case, they did not outperform Logistic Regression and take more time and electricity to train (especially Neural Networks).    I don't have much experience with Neural Networks thought, so I remain very open to the possibility that there is a better way to set up and run the network.\n",
    "\n",
    "However despite Logistic Regression having a higher accuracy score, more True Negatives, and fewer False Positives, it does have more False Negatives and fewer True Positives than the others.  It seems that among the cases that actually are Negatives (that is, women without diabetes, which almost 2/3 are), Logistic Regression does the best job of determining that it is negative.  But for those that are positive, Random Forests and Neural Netorks do a better job.\n",
    "\n",
    "In a medical diagnosis, a False Negative could be more harmful than a False Positive.  It could depend on the illness and what actions are taken after a positive diagnosis (retest, invasive treatment, etc.).  But False Positives can be dangerous if they lead someone who is sick to not get treatment.\n",
    "\n",
    "So if False Negatives are a greater problem than False Positives, then Logisitc Regression may not be the best algorithm to use in this case, even though it is slightly more accurate.\n",
    "\n",
    "One possible candidate would be the aggregation of all three models, which has an overall accuracy nearly identical to Logistic Regression but with fewer False Negatives."
   ]
  },
  {
   "cell_type": "markdown",
   "metadata": {},
   "source": [
    "<h3>For further research:</h3>\n",
    "\n",
    "<ul>\n",
    "    <li>More experimenting with Neural Networks.  I am still someone new to it.</li>\n",
    "    <li>Experiment with parameter tuning on Random Forests.</li>\n",
    "    <li>A similar analysis with a larger data set.</li>\n",
    "    <li>Train with different train/test splits.</li>\n",
    "    <li>Principal Component Analysis - can we get it down from 8 inputs to, say, 5?</li>\n",
    "</ul>\n",
    "    "
   ]
  },
  {
   "cell_type": "code",
   "execution_count": null,
   "metadata": {},
   "outputs": [],
   "source": []
  }
 ],
 "metadata": {
  "kernelspec": {
   "display_name": "Python 3",
   "language": "python",
   "name": "python3"
  },
  "language_info": {
   "codemirror_mode": {
    "name": "ipython",
    "version": 3
   },
   "file_extension": ".py",
   "mimetype": "text/x-python",
   "name": "python",
   "nbconvert_exporter": "python",
   "pygments_lexer": "ipython3",
   "version": "3.7.9"
  }
 },
 "nbformat": 4,
 "nbformat_minor": 4
}
