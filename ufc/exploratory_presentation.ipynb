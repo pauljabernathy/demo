{
 "cells": [
  {
   "cell_type": "code",
   "execution_count": null,
   "metadata": {},
   "outputs": [],
   "source": []
  },
  {
   "cell_type": "code",
   "execution_count": 1,
   "metadata": {},
   "outputs": [],
   "source": [
    "# import the usual suspects\n",
    "import pandas as pd\n",
    "import numpy as np\n",
    "import matplotlib.pyplot as plt\n",
    "import seaborn as sns"
   ]
  },
  {
   "cell_type": "code",
   "execution_count": 2,
   "metadata": {},
   "outputs": [],
   "source": [
    "# import the class for loading the main fights data set\n",
    "from cleanser import *"
   ]
  },
  {
   "cell_type": "code",
   "execution_count": 3,
   "metadata": {},
   "outputs": [],
   "source": [
    "cleanser = RawFightsCleanser()\n",
    "fights = cleanser.load_and_cleanse('raw_total_fight_data.csv', sep=';')"
   ]
  },
  {
   "cell_type": "code",
   "execution_count": 4,
   "metadata": {},
   "outputs": [],
   "source": [
    "# Just curious, look at Royce Gracie's fights"
   ]
  },
  {
   "cell_type": "code",
   "execution_count": 5,
   "metadata": {},
   "outputs": [
    {
     "data": {
      "text/html": [
       "<div>\n",
       "<style scoped>\n",
       "    .dataframe tbody tr th:only-of-type {\n",
       "        vertical-align: middle;\n",
       "    }\n",
       "\n",
       "    .dataframe tbody tr th {\n",
       "        vertical-align: top;\n",
       "    }\n",
       "\n",
       "    .dataframe thead th {\n",
       "        text-align: right;\n",
       "    }\n",
       "</style>\n",
       "<table border=\"1\" class=\"dataframe\">\n",
       "  <thead>\n",
       "    <tr style=\"text-align: right;\">\n",
       "      <th></th>\n",
       "      <th>r_fighter</th>\n",
       "      <th>b_fighter</th>\n",
       "      <th>winner</th>\n",
       "      <th>loser</th>\n",
       "      <th>win_by</th>\n",
       "    </tr>\n",
       "  </thead>\n",
       "  <tbody>\n",
       "    <tr>\n",
       "      <th>4590</th>\n",
       "      <td>Matt Hughes</td>\n",
       "      <td>Royce Gracie</td>\n",
       "      <td>Matt Hughes</td>\n",
       "      <td>Royce Gracie</td>\n",
       "      <td>KO/TKO</td>\n",
       "    </tr>\n",
       "    <tr>\n",
       "      <th>5099</th>\n",
       "      <td>Ken Shamrock</td>\n",
       "      <td>Royce Gracie</td>\n",
       "      <td>None</td>\n",
       "      <td>None</td>\n",
       "      <td>Other</td>\n",
       "    </tr>\n",
       "    <tr>\n",
       "      <th>5107</th>\n",
       "      <td>Royce Gracie</td>\n",
       "      <td>Dan Severn</td>\n",
       "      <td>Royce Gracie</td>\n",
       "      <td>Dan Severn</td>\n",
       "      <td>Submission</td>\n",
       "    </tr>\n",
       "    <tr>\n",
       "      <th>5109</th>\n",
       "      <td>Royce Gracie</td>\n",
       "      <td>Keith Hackney</td>\n",
       "      <td>Royce Gracie</td>\n",
       "      <td>Keith Hackney</td>\n",
       "      <td>Submission</td>\n",
       "    </tr>\n",
       "    <tr>\n",
       "      <th>5113</th>\n",
       "      <td>Royce Gracie</td>\n",
       "      <td>Ron van Clief</td>\n",
       "      <td>Royce Gracie</td>\n",
       "      <td>Ron van Clief</td>\n",
       "      <td>Submission</td>\n",
       "    </tr>\n",
       "    <tr>\n",
       "      <th>5117</th>\n",
       "      <td>Royce Gracie</td>\n",
       "      <td>Kimo Leopoldo</td>\n",
       "      <td>Royce Gracie</td>\n",
       "      <td>Kimo Leopoldo</td>\n",
       "      <td>Submission</td>\n",
       "    </tr>\n",
       "    <tr>\n",
       "      <th>5121</th>\n",
       "      <td>Royce Gracie</td>\n",
       "      <td>Patrick Smith</td>\n",
       "      <td>Royce Gracie</td>\n",
       "      <td>Patrick Smith</td>\n",
       "      <td>KO/TKO</td>\n",
       "    </tr>\n",
       "    <tr>\n",
       "      <th>5122</th>\n",
       "      <td>Royce Gracie</td>\n",
       "      <td>Remco Pardoel</td>\n",
       "      <td>Royce Gracie</td>\n",
       "      <td>Remco Pardoel</td>\n",
       "      <td>Submission</td>\n",
       "    </tr>\n",
       "    <tr>\n",
       "      <th>5124</th>\n",
       "      <td>Royce Gracie</td>\n",
       "      <td>Jason DeLucia</td>\n",
       "      <td>Royce Gracie</td>\n",
       "      <td>Jason DeLucia</td>\n",
       "      <td>Submission</td>\n",
       "    </tr>\n",
       "    <tr>\n",
       "      <th>5128</th>\n",
       "      <td>Royce Gracie</td>\n",
       "      <td>Minoki Ichihara</td>\n",
       "      <td>Royce Gracie</td>\n",
       "      <td>Minoki Ichihara</td>\n",
       "      <td>Submission</td>\n",
       "    </tr>\n",
       "    <tr>\n",
       "      <th>5136</th>\n",
       "      <td>Royce Gracie</td>\n",
       "      <td>Gerard Gordeau</td>\n",
       "      <td>Royce Gracie</td>\n",
       "      <td>Gerard Gordeau</td>\n",
       "      <td>Submission</td>\n",
       "    </tr>\n",
       "    <tr>\n",
       "      <th>5138</th>\n",
       "      <td>Royce Gracie</td>\n",
       "      <td>Ken Shamrock</td>\n",
       "      <td>Royce Gracie</td>\n",
       "      <td>Ken Shamrock</td>\n",
       "      <td>Submission</td>\n",
       "    </tr>\n",
       "    <tr>\n",
       "      <th>5141</th>\n",
       "      <td>Royce Gracie</td>\n",
       "      <td>Art Jimmerson</td>\n",
       "      <td>Royce Gracie</td>\n",
       "      <td>Art Jimmerson</td>\n",
       "      <td>Submission</td>\n",
       "    </tr>\n",
       "  </tbody>\n",
       "</table>\n",
       "</div>"
      ],
      "text/plain": [
       "         r_fighter        b_fighter        winner            loser      win_by\n",
       "4590   Matt Hughes     Royce Gracie   Matt Hughes     Royce Gracie      KO/TKO\n",
       "5099  Ken Shamrock     Royce Gracie          None             None       Other\n",
       "5107  Royce Gracie       Dan Severn  Royce Gracie       Dan Severn  Submission\n",
       "5109  Royce Gracie    Keith Hackney  Royce Gracie    Keith Hackney  Submission\n",
       "5113  Royce Gracie    Ron van Clief  Royce Gracie    Ron van Clief  Submission\n",
       "5117  Royce Gracie    Kimo Leopoldo  Royce Gracie    Kimo Leopoldo  Submission\n",
       "5121  Royce Gracie    Patrick Smith  Royce Gracie    Patrick Smith      KO/TKO\n",
       "5122  Royce Gracie    Remco Pardoel  Royce Gracie    Remco Pardoel  Submission\n",
       "5124  Royce Gracie    Jason DeLucia  Royce Gracie    Jason DeLucia  Submission\n",
       "5128  Royce Gracie  Minoki Ichihara  Royce Gracie  Minoki Ichihara  Submission\n",
       "5136  Royce Gracie   Gerard Gordeau  Royce Gracie   Gerard Gordeau  Submission\n",
       "5138  Royce Gracie     Ken Shamrock  Royce Gracie     Ken Shamrock  Submission\n",
       "5141  Royce Gracie    Art Jimmerson  Royce Gracie    Art Jimmerson  Submission"
      ]
     },
     "execution_count": 5,
     "metadata": {},
     "output_type": "execute_result"
    }
   ],
   "source": [
    "fights[(fights.r_fighter == 'Royce Gracie') | (fights.b_fighter == 'Royce Gracie')][['r_fighter', 'b_fighter', 'winner', 'loser', 'win_by']]"
   ]
  },
  {
   "cell_type": "code",
   "execution_count": 6,
   "metadata": {},
   "outputs": [
    {
     "data": {
      "text/html": [
       "<div>\n",
       "<style scoped>\n",
       "    .dataframe tbody tr th:only-of-type {\n",
       "        vertical-align: middle;\n",
       "    }\n",
       "\n",
       "    .dataframe tbody tr th {\n",
       "        vertical-align: top;\n",
       "    }\n",
       "\n",
       "    .dataframe thead th {\n",
       "        text-align: right;\n",
       "    }\n",
       "</style>\n",
       "<table border=\"1\" class=\"dataframe\">\n",
       "  <thead>\n",
       "    <tr style=\"text-align: right;\">\n",
       "      <th></th>\n",
       "      <th>r_fighter</th>\n",
       "      <th>b_fighter</th>\n",
       "      <th>winner</th>\n",
       "      <th>loser</th>\n",
       "    </tr>\n",
       "  </thead>\n",
       "  <tbody>\n",
       "    <tr>\n",
       "      <th>177</th>\n",
       "      <td>Alex Caceres</td>\n",
       "      <td>Kron Gracie</td>\n",
       "      <td>Kron Gracie</td>\n",
       "      <td>Alex Caceres</td>\n",
       "    </tr>\n",
       "    <tr>\n",
       "      <th>2818</th>\n",
       "      <td>Tim Kennedy</td>\n",
       "      <td>Roger Gracie</td>\n",
       "      <td>Tim Kennedy</td>\n",
       "      <td>Roger Gracie</td>\n",
       "    </tr>\n",
       "    <tr>\n",
       "      <th>3816</th>\n",
       "      <td>Matt Hughes</td>\n",
       "      <td>Renzo Gracie</td>\n",
       "      <td>Matt Hughes</td>\n",
       "      <td>Renzo Gracie</td>\n",
       "    </tr>\n",
       "    <tr>\n",
       "      <th>3875</th>\n",
       "      <td>Joey Beltran</td>\n",
       "      <td>Rolles Gracie</td>\n",
       "      <td>Joey Beltran</td>\n",
       "      <td>Rolles Gracie</td>\n",
       "    </tr>\n",
       "    <tr>\n",
       "      <th>4590</th>\n",
       "      <td>Matt Hughes</td>\n",
       "      <td>Royce Gracie</td>\n",
       "      <td>Matt Hughes</td>\n",
       "      <td>Royce Gracie</td>\n",
       "    </tr>\n",
       "    <tr>\n",
       "      <th>5099</th>\n",
       "      <td>Ken Shamrock</td>\n",
       "      <td>Royce Gracie</td>\n",
       "      <td>None</td>\n",
       "      <td>None</td>\n",
       "    </tr>\n",
       "    <tr>\n",
       "      <th>5107</th>\n",
       "      <td>Royce Gracie</td>\n",
       "      <td>Dan Severn</td>\n",
       "      <td>Royce Gracie</td>\n",
       "      <td>Dan Severn</td>\n",
       "    </tr>\n",
       "    <tr>\n",
       "      <th>5109</th>\n",
       "      <td>Royce Gracie</td>\n",
       "      <td>Keith Hackney</td>\n",
       "      <td>Royce Gracie</td>\n",
       "      <td>Keith Hackney</td>\n",
       "    </tr>\n",
       "    <tr>\n",
       "      <th>5113</th>\n",
       "      <td>Royce Gracie</td>\n",
       "      <td>Ron van Clief</td>\n",
       "      <td>Royce Gracie</td>\n",
       "      <td>Ron van Clief</td>\n",
       "    </tr>\n",
       "    <tr>\n",
       "      <th>5117</th>\n",
       "      <td>Royce Gracie</td>\n",
       "      <td>Kimo Leopoldo</td>\n",
       "      <td>Royce Gracie</td>\n",
       "      <td>Kimo Leopoldo</td>\n",
       "    </tr>\n",
       "    <tr>\n",
       "      <th>5121</th>\n",
       "      <td>Royce Gracie</td>\n",
       "      <td>Patrick Smith</td>\n",
       "      <td>Royce Gracie</td>\n",
       "      <td>Patrick Smith</td>\n",
       "    </tr>\n",
       "    <tr>\n",
       "      <th>5122</th>\n",
       "      <td>Royce Gracie</td>\n",
       "      <td>Remco Pardoel</td>\n",
       "      <td>Royce Gracie</td>\n",
       "      <td>Remco Pardoel</td>\n",
       "    </tr>\n",
       "    <tr>\n",
       "      <th>5124</th>\n",
       "      <td>Royce Gracie</td>\n",
       "      <td>Jason DeLucia</td>\n",
       "      <td>Royce Gracie</td>\n",
       "      <td>Jason DeLucia</td>\n",
       "    </tr>\n",
       "    <tr>\n",
       "      <th>5128</th>\n",
       "      <td>Royce Gracie</td>\n",
       "      <td>Minoki Ichihara</td>\n",
       "      <td>Royce Gracie</td>\n",
       "      <td>Minoki Ichihara</td>\n",
       "    </tr>\n",
       "    <tr>\n",
       "      <th>5136</th>\n",
       "      <td>Royce Gracie</td>\n",
       "      <td>Gerard Gordeau</td>\n",
       "      <td>Royce Gracie</td>\n",
       "      <td>Gerard Gordeau</td>\n",
       "    </tr>\n",
       "    <tr>\n",
       "      <th>5138</th>\n",
       "      <td>Royce Gracie</td>\n",
       "      <td>Ken Shamrock</td>\n",
       "      <td>Royce Gracie</td>\n",
       "      <td>Ken Shamrock</td>\n",
       "    </tr>\n",
       "    <tr>\n",
       "      <th>5141</th>\n",
       "      <td>Royce Gracie</td>\n",
       "      <td>Art Jimmerson</td>\n",
       "      <td>Royce Gracie</td>\n",
       "      <td>Art Jimmerson</td>\n",
       "    </tr>\n",
       "  </tbody>\n",
       "</table>\n",
       "</div>"
      ],
      "text/plain": [
       "         r_fighter        b_fighter        winner            loser\n",
       "177   Alex Caceres      Kron Gracie   Kron Gracie     Alex Caceres\n",
       "2818   Tim Kennedy     Roger Gracie   Tim Kennedy     Roger Gracie\n",
       "3816   Matt Hughes     Renzo Gracie   Matt Hughes     Renzo Gracie\n",
       "3875  Joey Beltran    Rolles Gracie  Joey Beltran    Rolles Gracie\n",
       "4590   Matt Hughes     Royce Gracie   Matt Hughes     Royce Gracie\n",
       "5099  Ken Shamrock     Royce Gracie          None             None\n",
       "5107  Royce Gracie       Dan Severn  Royce Gracie       Dan Severn\n",
       "5109  Royce Gracie    Keith Hackney  Royce Gracie    Keith Hackney\n",
       "5113  Royce Gracie    Ron van Clief  Royce Gracie    Ron van Clief\n",
       "5117  Royce Gracie    Kimo Leopoldo  Royce Gracie    Kimo Leopoldo\n",
       "5121  Royce Gracie    Patrick Smith  Royce Gracie    Patrick Smith\n",
       "5122  Royce Gracie    Remco Pardoel  Royce Gracie    Remco Pardoel\n",
       "5124  Royce Gracie    Jason DeLucia  Royce Gracie    Jason DeLucia\n",
       "5128  Royce Gracie  Minoki Ichihara  Royce Gracie  Minoki Ichihara\n",
       "5136  Royce Gracie   Gerard Gordeau  Royce Gracie   Gerard Gordeau\n",
       "5138  Royce Gracie     Ken Shamrock  Royce Gracie     Ken Shamrock\n",
       "5141  Royce Gracie    Art Jimmerson  Royce Gracie    Art Jimmerson"
      ]
     },
     "execution_count": 6,
     "metadata": {},
     "output_type": "execute_result"
    }
   ],
   "source": [
    "# just curious - how many fights include Gracies?\n",
    "is_gracie = fights.apply(lambda row: 'gracie' in row.r_fighter.lower() or 'gracie' in row.b_fighter.lower(), axis=1)\n",
    "fights[is_gracie][['r_fighter', 'b_fighter', 'winner', 'loser']]"
   ]
  },
  {
   "cell_type": "code",
   "execution_count": 7,
   "metadata": {},
   "outputs": [],
   "source": [
    "# Let's write functions to get the fights for any given fighter, and their numeric record."
   ]
  },
  {
   "cell_type": "code",
   "execution_count": 8,
   "metadata": {},
   "outputs": [],
   "source": [
    "def get_fights_for_fighter(fighter_name, fights_df = fights):\n",
    "    return fights_df[(fights_df.r_fighter == fighter_name) | (fights_df.b_fighter == fighter_name)]"
   ]
  },
  {
   "cell_type": "code",
   "execution_count": 9,
   "metadata": {},
   "outputs": [],
   "source": [
    "def get_record_summary(fighter_name, fights_df = fights):\n",
    "    #record = get_record(fighter_name, fights_df)\n",
    "    summary = {}\n",
    "    summary['wins'] = (fights_df['winner'] == fighter_name).sum()\n",
    "    summary['losses'] = (fights_df['winner'] == fighter_name).sum()\n",
    "    summary['losses'] = (fights_df['loser'] == fighter_name).sum()\n",
    "    summary['draws'] = (((fights_df['r_fighter'] == fighter_name) | (fights_df['b_fighter'] == fighter_name) ) & (fights_df['winner'] == 'None')).sum()\n",
    "    summary['win loss ratio'] = summary ['wins'] / (summary['wins'] + summary['losses'])\n",
    "    \n",
    "    return summary"
   ]
  },
  {
   "cell_type": "code",
   "execution_count": 10,
   "metadata": {},
   "outputs": [
    {
     "data": {
      "text/html": [
       "<div>\n",
       "<style scoped>\n",
       "    .dataframe tbody tr th:only-of-type {\n",
       "        vertical-align: middle;\n",
       "    }\n",
       "\n",
       "    .dataframe tbody tr th {\n",
       "        vertical-align: top;\n",
       "    }\n",
       "\n",
       "    .dataframe thead th {\n",
       "        text-align: right;\n",
       "    }\n",
       "</style>\n",
       "<table border=\"1\" class=\"dataframe\">\n",
       "  <thead>\n",
       "    <tr style=\"text-align: right;\">\n",
       "      <th></th>\n",
       "      <th>r_fighter</th>\n",
       "      <th>b_fighter</th>\n",
       "      <th>winner</th>\n",
       "      <th>loser</th>\n",
       "      <th>win_by</th>\n",
       "    </tr>\n",
       "  </thead>\n",
       "  <tbody>\n",
       "    <tr>\n",
       "      <th>4590</th>\n",
       "      <td>Matt Hughes</td>\n",
       "      <td>Royce Gracie</td>\n",
       "      <td>Matt Hughes</td>\n",
       "      <td>Royce Gracie</td>\n",
       "      <td>KO/TKO</td>\n",
       "    </tr>\n",
       "    <tr>\n",
       "      <th>5099</th>\n",
       "      <td>Ken Shamrock</td>\n",
       "      <td>Royce Gracie</td>\n",
       "      <td>None</td>\n",
       "      <td>None</td>\n",
       "      <td>Other</td>\n",
       "    </tr>\n",
       "    <tr>\n",
       "      <th>5107</th>\n",
       "      <td>Royce Gracie</td>\n",
       "      <td>Dan Severn</td>\n",
       "      <td>Royce Gracie</td>\n",
       "      <td>Dan Severn</td>\n",
       "      <td>Submission</td>\n",
       "    </tr>\n",
       "    <tr>\n",
       "      <th>5109</th>\n",
       "      <td>Royce Gracie</td>\n",
       "      <td>Keith Hackney</td>\n",
       "      <td>Royce Gracie</td>\n",
       "      <td>Keith Hackney</td>\n",
       "      <td>Submission</td>\n",
       "    </tr>\n",
       "    <tr>\n",
       "      <th>5113</th>\n",
       "      <td>Royce Gracie</td>\n",
       "      <td>Ron van Clief</td>\n",
       "      <td>Royce Gracie</td>\n",
       "      <td>Ron van Clief</td>\n",
       "      <td>Submission</td>\n",
       "    </tr>\n",
       "    <tr>\n",
       "      <th>5117</th>\n",
       "      <td>Royce Gracie</td>\n",
       "      <td>Kimo Leopoldo</td>\n",
       "      <td>Royce Gracie</td>\n",
       "      <td>Kimo Leopoldo</td>\n",
       "      <td>Submission</td>\n",
       "    </tr>\n",
       "    <tr>\n",
       "      <th>5121</th>\n",
       "      <td>Royce Gracie</td>\n",
       "      <td>Patrick Smith</td>\n",
       "      <td>Royce Gracie</td>\n",
       "      <td>Patrick Smith</td>\n",
       "      <td>KO/TKO</td>\n",
       "    </tr>\n",
       "    <tr>\n",
       "      <th>5122</th>\n",
       "      <td>Royce Gracie</td>\n",
       "      <td>Remco Pardoel</td>\n",
       "      <td>Royce Gracie</td>\n",
       "      <td>Remco Pardoel</td>\n",
       "      <td>Submission</td>\n",
       "    </tr>\n",
       "    <tr>\n",
       "      <th>5124</th>\n",
       "      <td>Royce Gracie</td>\n",
       "      <td>Jason DeLucia</td>\n",
       "      <td>Royce Gracie</td>\n",
       "      <td>Jason DeLucia</td>\n",
       "      <td>Submission</td>\n",
       "    </tr>\n",
       "    <tr>\n",
       "      <th>5128</th>\n",
       "      <td>Royce Gracie</td>\n",
       "      <td>Minoki Ichihara</td>\n",
       "      <td>Royce Gracie</td>\n",
       "      <td>Minoki Ichihara</td>\n",
       "      <td>Submission</td>\n",
       "    </tr>\n",
       "    <tr>\n",
       "      <th>5136</th>\n",
       "      <td>Royce Gracie</td>\n",
       "      <td>Gerard Gordeau</td>\n",
       "      <td>Royce Gracie</td>\n",
       "      <td>Gerard Gordeau</td>\n",
       "      <td>Submission</td>\n",
       "    </tr>\n",
       "    <tr>\n",
       "      <th>5138</th>\n",
       "      <td>Royce Gracie</td>\n",
       "      <td>Ken Shamrock</td>\n",
       "      <td>Royce Gracie</td>\n",
       "      <td>Ken Shamrock</td>\n",
       "      <td>Submission</td>\n",
       "    </tr>\n",
       "    <tr>\n",
       "      <th>5141</th>\n",
       "      <td>Royce Gracie</td>\n",
       "      <td>Art Jimmerson</td>\n",
       "      <td>Royce Gracie</td>\n",
       "      <td>Art Jimmerson</td>\n",
       "      <td>Submission</td>\n",
       "    </tr>\n",
       "  </tbody>\n",
       "</table>\n",
       "</div>"
      ],
      "text/plain": [
       "         r_fighter        b_fighter        winner            loser      win_by\n",
       "4590   Matt Hughes     Royce Gracie   Matt Hughes     Royce Gracie      KO/TKO\n",
       "5099  Ken Shamrock     Royce Gracie          None             None       Other\n",
       "5107  Royce Gracie       Dan Severn  Royce Gracie       Dan Severn  Submission\n",
       "5109  Royce Gracie    Keith Hackney  Royce Gracie    Keith Hackney  Submission\n",
       "5113  Royce Gracie    Ron van Clief  Royce Gracie    Ron van Clief  Submission\n",
       "5117  Royce Gracie    Kimo Leopoldo  Royce Gracie    Kimo Leopoldo  Submission\n",
       "5121  Royce Gracie    Patrick Smith  Royce Gracie    Patrick Smith      KO/TKO\n",
       "5122  Royce Gracie    Remco Pardoel  Royce Gracie    Remco Pardoel  Submission\n",
       "5124  Royce Gracie    Jason DeLucia  Royce Gracie    Jason DeLucia  Submission\n",
       "5128  Royce Gracie  Minoki Ichihara  Royce Gracie  Minoki Ichihara  Submission\n",
       "5136  Royce Gracie   Gerard Gordeau  Royce Gracie   Gerard Gordeau  Submission\n",
       "5138  Royce Gracie     Ken Shamrock  Royce Gracie     Ken Shamrock  Submission\n",
       "5141  Royce Gracie    Art Jimmerson  Royce Gracie    Art Jimmerson  Submission"
      ]
     },
     "execution_count": 10,
     "metadata": {},
     "output_type": "execute_result"
    }
   ],
   "source": [
    "get_fights_for_fighter('Royce Gracie')[['r_fighter', 'b_fighter', 'winner', 'loser', 'win_by']]"
   ]
  },
  {
   "cell_type": "code",
   "execution_count": 11,
   "metadata": {},
   "outputs": [
    {
     "name": "stdout",
     "output_type": "stream",
     "text": [
      "{'wins': 11, 'losses': 1, 'draws': 1, 'win loss ratio': 0.9166666666666666}\n"
     ]
    }
   ],
   "source": [
    "print(get_record_summary('Royce Gracie'))"
   ]
  },
  {
   "cell_type": "code",
   "execution_count": 12,
   "metadata": {},
   "outputs": [
    {
     "name": "stdout",
     "output_type": "stream",
     "text": [
      "{'wins': 11, 'losses': 1, 'draws': 1, 'win loss ratio': 0.9166666666666666}\n"
     ]
    }
   ],
   "source": [
    "print(get_record_summary('Royce Gracie', fights))"
   ]
  },
  {
   "cell_type": "markdown",
   "metadata": {},
   "source": [
    "Matt Hughes beat Royce Gracie.  And he is also one of the few fighters famous enough for me to have heard of.  Let's look at his record."
   ]
  },
  {
   "cell_type": "code",
   "execution_count": 13,
   "metadata": {},
   "outputs": [
    {
     "name": "stdout",
     "output_type": "stream",
     "text": [
      "{'wins': 18, 'losses': 7, 'draws': 0, 'win loss ratio': 0.72}\n"
     ]
    }
   ],
   "source": [
    "print(get_record_summary('Matt Hughes'))"
   ]
  },
  {
   "cell_type": "code",
   "execution_count": 14,
   "metadata": {},
   "outputs": [
    {
     "data": {
      "text/html": [
       "<div>\n",
       "<style scoped>\n",
       "    .dataframe tbody tr th:only-of-type {\n",
       "        vertical-align: middle;\n",
       "    }\n",
       "\n",
       "    .dataframe tbody tr th {\n",
       "        vertical-align: top;\n",
       "    }\n",
       "\n",
       "    .dataframe thead th {\n",
       "        text-align: right;\n",
       "    }\n",
       "</style>\n",
       "<table border=\"1\" class=\"dataframe\">\n",
       "  <thead>\n",
       "    <tr style=\"text-align: right;\">\n",
       "      <th></th>\n",
       "      <th>winner</th>\n",
       "      <th>win_by</th>\n",
       "      <th>loser</th>\n",
       "    </tr>\n",
       "  </thead>\n",
       "  <tbody>\n",
       "    <tr>\n",
       "      <th>3441</th>\n",
       "      <td>Josh Koscheck</td>\n",
       "      <td>KO/TKO</td>\n",
       "      <td>Matt Hughes</td>\n",
       "    </tr>\n",
       "    <tr>\n",
       "      <th>3667</th>\n",
       "      <td>BJ Penn</td>\n",
       "      <td>KO/TKO</td>\n",
       "      <td>Matt Hughes</td>\n",
       "    </tr>\n",
       "    <tr>\n",
       "      <th>3742</th>\n",
       "      <td>Matt Hughes</td>\n",
       "      <td>Submission</td>\n",
       "      <td>Ricardo Almeida</td>\n",
       "    </tr>\n",
       "    <tr>\n",
       "      <th>3816</th>\n",
       "      <td>Matt Hughes</td>\n",
       "      <td>KO/TKO</td>\n",
       "      <td>Renzo Gracie</td>\n",
       "    </tr>\n",
       "    <tr>\n",
       "      <th>4029</th>\n",
       "      <td>Matt Hughes</td>\n",
       "      <td>Decision - Unanimous</td>\n",
       "      <td>Matt Serra</td>\n",
       "    </tr>\n",
       "    <tr>\n",
       "      <th>4231</th>\n",
       "      <td>Thiago Alves</td>\n",
       "      <td>KO/TKO</td>\n",
       "      <td>Matt Hughes</td>\n",
       "    </tr>\n",
       "    <tr>\n",
       "      <th>4313</th>\n",
       "      <td>Georges St-Pierre</td>\n",
       "      <td>Submission</td>\n",
       "      <td>Matt Hughes</td>\n",
       "    </tr>\n",
       "    <tr>\n",
       "      <th>4461</th>\n",
       "      <td>Matt Hughes</td>\n",
       "      <td>Decision - Unanimous</td>\n",
       "      <td>Chris Lytle</td>\n",
       "    </tr>\n",
       "    <tr>\n",
       "      <th>4502</th>\n",
       "      <td>Georges St-Pierre</td>\n",
       "      <td>KO/TKO</td>\n",
       "      <td>Matt Hughes</td>\n",
       "    </tr>\n",
       "    <tr>\n",
       "      <th>4536</th>\n",
       "      <td>Matt Hughes</td>\n",
       "      <td>KO/TKO</td>\n",
       "      <td>BJ Penn</td>\n",
       "    </tr>\n",
       "    <tr>\n",
       "      <th>4590</th>\n",
       "      <td>Matt Hughes</td>\n",
       "      <td>KO/TKO</td>\n",
       "      <td>Royce Gracie</td>\n",
       "    </tr>\n",
       "    <tr>\n",
       "      <th>4644</th>\n",
       "      <td>Matt Hughes</td>\n",
       "      <td>Submission</td>\n",
       "      <td>Joe Riggs</td>\n",
       "    </tr>\n",
       "    <tr>\n",
       "      <th>4698</th>\n",
       "      <td>Matt Hughes</td>\n",
       "      <td>Submission</td>\n",
       "      <td>Frank Trigg</td>\n",
       "    </tr>\n",
       "    <tr>\n",
       "      <th>4724</th>\n",
       "      <td>Matt Hughes</td>\n",
       "      <td>Submission</td>\n",
       "      <td>Georges St-Pierre</td>\n",
       "    </tr>\n",
       "    <tr>\n",
       "      <th>4740</th>\n",
       "      <td>Matt Hughes</td>\n",
       "      <td>Decision - Unanimous</td>\n",
       "      <td>Renato Verissimo</td>\n",
       "    </tr>\n",
       "    <tr>\n",
       "      <th>4755</th>\n",
       "      <td>BJ Penn</td>\n",
       "      <td>Submission</td>\n",
       "      <td>Matt Hughes</td>\n",
       "    </tr>\n",
       "    <tr>\n",
       "      <th>4761</th>\n",
       "      <td>Matt Hughes</td>\n",
       "      <td>Submission</td>\n",
       "      <td>Frank Trigg</td>\n",
       "    </tr>\n",
       "    <tr>\n",
       "      <th>4786</th>\n",
       "      <td>Matt Hughes</td>\n",
       "      <td>Decision - Unanimous</td>\n",
       "      <td>Sean Sherk</td>\n",
       "    </tr>\n",
       "    <tr>\n",
       "      <th>4804</th>\n",
       "      <td>Matt Hughes</td>\n",
       "      <td>TKO - Doctor's Stoppage</td>\n",
       "      <td>Gil Castillo</td>\n",
       "    </tr>\n",
       "    <tr>\n",
       "      <th>4818</th>\n",
       "      <td>Matt Hughes</td>\n",
       "      <td>KO/TKO</td>\n",
       "      <td>Carlos Newton</td>\n",
       "    </tr>\n",
       "    <tr>\n",
       "      <th>4841</th>\n",
       "      <td>Matt Hughes</td>\n",
       "      <td>KO/TKO</td>\n",
       "      <td>Hayato Sakurai</td>\n",
       "    </tr>\n",
       "    <tr>\n",
       "      <th>4857</th>\n",
       "      <td>Matt Hughes</td>\n",
       "      <td>KO/TKO</td>\n",
       "      <td>Carlos Newton</td>\n",
       "    </tr>\n",
       "    <tr>\n",
       "      <th>4900</th>\n",
       "      <td>Dennis Hallman</td>\n",
       "      <td>Submission</td>\n",
       "      <td>Matt Hughes</td>\n",
       "    </tr>\n",
       "    <tr>\n",
       "      <th>4921</th>\n",
       "      <td>Matt Hughes</td>\n",
       "      <td>TKO - Doctor's Stoppage</td>\n",
       "      <td>Marcelo Aguiar</td>\n",
       "    </tr>\n",
       "    <tr>\n",
       "      <th>4948</th>\n",
       "      <td>Matt Hughes</td>\n",
       "      <td>Decision - Unanimous</td>\n",
       "      <td>Valeri Ignatov</td>\n",
       "    </tr>\n",
       "  </tbody>\n",
       "</table>\n",
       "</div>"
      ],
      "text/plain": [
       "                 winner                   win_by              loser\n",
       "3441      Josh Koscheck                   KO/TKO        Matt Hughes\n",
       "3667            BJ Penn                   KO/TKO        Matt Hughes\n",
       "3742        Matt Hughes               Submission    Ricardo Almeida\n",
       "3816        Matt Hughes                   KO/TKO       Renzo Gracie\n",
       "4029        Matt Hughes     Decision - Unanimous         Matt Serra\n",
       "4231       Thiago Alves                   KO/TKO        Matt Hughes\n",
       "4313  Georges St-Pierre               Submission        Matt Hughes\n",
       "4461        Matt Hughes     Decision - Unanimous        Chris Lytle\n",
       "4502  Georges St-Pierre                   KO/TKO        Matt Hughes\n",
       "4536        Matt Hughes                   KO/TKO            BJ Penn\n",
       "4590        Matt Hughes                   KO/TKO       Royce Gracie\n",
       "4644        Matt Hughes               Submission          Joe Riggs\n",
       "4698        Matt Hughes               Submission        Frank Trigg\n",
       "4724        Matt Hughes               Submission  Georges St-Pierre\n",
       "4740        Matt Hughes     Decision - Unanimous   Renato Verissimo\n",
       "4755            BJ Penn               Submission        Matt Hughes\n",
       "4761        Matt Hughes               Submission        Frank Trigg\n",
       "4786        Matt Hughes     Decision - Unanimous         Sean Sherk\n",
       "4804        Matt Hughes  TKO - Doctor's Stoppage       Gil Castillo\n",
       "4818        Matt Hughes                   KO/TKO      Carlos Newton\n",
       "4841        Matt Hughes                   KO/TKO     Hayato Sakurai\n",
       "4857        Matt Hughes                   KO/TKO      Carlos Newton\n",
       "4900     Dennis Hallman               Submission        Matt Hughes\n",
       "4921        Matt Hughes  TKO - Doctor's Stoppage     Marcelo Aguiar\n",
       "4948        Matt Hughes     Decision - Unanimous     Valeri Ignatov"
      ]
     },
     "execution_count": 14,
     "metadata": {},
     "output_type": "execute_result"
    }
   ],
   "source": [
    "get_fights_for_fighter('Matt Hughes')[['winner', 'win_by', 'loser']]"
   ]
  },
  {
   "cell_type": "markdown",
   "metadata": {},
   "source": [
    "Another famous UFC figher is George St. Pierre.  Let's look at his record."
   ]
  },
  {
   "cell_type": "code",
   "execution_count": 15,
   "metadata": {},
   "outputs": [
    {
     "data": {
      "text/html": [
       "<div>\n",
       "<style scoped>\n",
       "    .dataframe tbody tr th:only-of-type {\n",
       "        vertical-align: middle;\n",
       "    }\n",
       "\n",
       "    .dataframe tbody tr th {\n",
       "        vertical-align: top;\n",
       "    }\n",
       "\n",
       "    .dataframe thead th {\n",
       "        text-align: right;\n",
       "    }\n",
       "</style>\n",
       "<table border=\"1\" class=\"dataframe\">\n",
       "  <thead>\n",
       "    <tr style=\"text-align: right;\">\n",
       "      <th></th>\n",
       "      <th>winner</th>\n",
       "      <th>win_by</th>\n",
       "      <th>loser</th>\n",
       "    </tr>\n",
       "  </thead>\n",
       "  <tbody>\n",
       "    <tr>\n",
       "      <th>793</th>\n",
       "      <td>Georges St-Pierre</td>\n",
       "      <td>Submission</td>\n",
       "      <td>Michael Bisping</td>\n",
       "    </tr>\n",
       "    <tr>\n",
       "      <th>2660</th>\n",
       "      <td>Georges St-Pierre</td>\n",
       "      <td>Decision - Split</td>\n",
       "      <td>Johny Hendricks</td>\n",
       "    </tr>\n",
       "    <tr>\n",
       "      <th>2923</th>\n",
       "      <td>Georges St-Pierre</td>\n",
       "      <td>Decision - Unanimous</td>\n",
       "      <td>Nick Diaz</td>\n",
       "    </tr>\n",
       "    <tr>\n",
       "      <th>3047</th>\n",
       "      <td>Georges St-Pierre</td>\n",
       "      <td>Decision - Unanimous</td>\n",
       "      <td>Carlos Condit</td>\n",
       "    </tr>\n",
       "    <tr>\n",
       "      <th>3552</th>\n",
       "      <td>Georges St-Pierre</td>\n",
       "      <td>Decision - Unanimous</td>\n",
       "      <td>Jake Shields</td>\n",
       "    </tr>\n",
       "    <tr>\n",
       "      <th>3644</th>\n",
       "      <td>Georges St-Pierre</td>\n",
       "      <td>Decision - Unanimous</td>\n",
       "      <td>Josh Koscheck</td>\n",
       "    </tr>\n",
       "    <tr>\n",
       "      <th>3835</th>\n",
       "      <td>Georges St-Pierre</td>\n",
       "      <td>Decision - Unanimous</td>\n",
       "      <td>Dan Hardy</td>\n",
       "    </tr>\n",
       "    <tr>\n",
       "      <th>3997</th>\n",
       "      <td>Georges St-Pierre</td>\n",
       "      <td>Decision - Unanimous</td>\n",
       "      <td>Thiago Alves</td>\n",
       "    </tr>\n",
       "    <tr>\n",
       "      <th>4092</th>\n",
       "      <td>Georges St-Pierre</td>\n",
       "      <td>KO/TKO</td>\n",
       "      <td>BJ Penn</td>\n",
       "    </tr>\n",
       "    <tr>\n",
       "      <th>4191</th>\n",
       "      <td>Georges St-Pierre</td>\n",
       "      <td>Decision - Unanimous</td>\n",
       "      <td>Jon Fitch</td>\n",
       "    </tr>\n",
       "    <tr>\n",
       "      <th>4253</th>\n",
       "      <td>Georges St-Pierre</td>\n",
       "      <td>KO/TKO</td>\n",
       "      <td>Matt Serra</td>\n",
       "    </tr>\n",
       "    <tr>\n",
       "      <th>4313</th>\n",
       "      <td>Georges St-Pierre</td>\n",
       "      <td>Submission</td>\n",
       "      <td>Matt Hughes</td>\n",
       "    </tr>\n",
       "    <tr>\n",
       "      <th>4378</th>\n",
       "      <td>Georges St-Pierre</td>\n",
       "      <td>Decision - Unanimous</td>\n",
       "      <td>Josh Koscheck</td>\n",
       "    </tr>\n",
       "    <tr>\n",
       "      <th>4440</th>\n",
       "      <td>Matt Serra</td>\n",
       "      <td>KO/TKO</td>\n",
       "      <td>Georges St-Pierre</td>\n",
       "    </tr>\n",
       "    <tr>\n",
       "      <th>4502</th>\n",
       "      <td>Georges St-Pierre</td>\n",
       "      <td>KO/TKO</td>\n",
       "      <td>Matt Hughes</td>\n",
       "    </tr>\n",
       "    <tr>\n",
       "      <th>4619</th>\n",
       "      <td>Georges St-Pierre</td>\n",
       "      <td>Decision - Split</td>\n",
       "      <td>BJ Penn</td>\n",
       "    </tr>\n",
       "    <tr>\n",
       "      <th>4645</th>\n",
       "      <td>Georges St-Pierre</td>\n",
       "      <td>KO/TKO</td>\n",
       "      <td>Sean Sherk</td>\n",
       "    </tr>\n",
       "    <tr>\n",
       "      <th>4676</th>\n",
       "      <td>Georges St-Pierre</td>\n",
       "      <td>Submission</td>\n",
       "      <td>Frank Trigg</td>\n",
       "    </tr>\n",
       "    <tr>\n",
       "      <th>4700</th>\n",
       "      <td>Georges St-Pierre</td>\n",
       "      <td>Decision - Unanimous</td>\n",
       "      <td>Jason Miller</td>\n",
       "    </tr>\n",
       "    <tr>\n",
       "      <th>4724</th>\n",
       "      <td>Matt Hughes</td>\n",
       "      <td>Submission</td>\n",
       "      <td>Georges St-Pierre</td>\n",
       "    </tr>\n",
       "    <tr>\n",
       "      <th>4743</th>\n",
       "      <td>Georges St-Pierre</td>\n",
       "      <td>KO/TKO</td>\n",
       "      <td>Jay Hieron</td>\n",
       "    </tr>\n",
       "    <tr>\n",
       "      <th>4758</th>\n",
       "      <td>Georges St-Pierre</td>\n",
       "      <td>Decision - Unanimous</td>\n",
       "      <td>Karo Parisyan</td>\n",
       "    </tr>\n",
       "  </tbody>\n",
       "</table>\n",
       "</div>"
      ],
      "text/plain": [
       "                 winner                win_by              loser\n",
       "793   Georges St-Pierre            Submission    Michael Bisping\n",
       "2660  Georges St-Pierre      Decision - Split    Johny Hendricks\n",
       "2923  Georges St-Pierre  Decision - Unanimous          Nick Diaz\n",
       "3047  Georges St-Pierre  Decision - Unanimous      Carlos Condit\n",
       "3552  Georges St-Pierre  Decision - Unanimous       Jake Shields\n",
       "3644  Georges St-Pierre  Decision - Unanimous      Josh Koscheck\n",
       "3835  Georges St-Pierre  Decision - Unanimous          Dan Hardy\n",
       "3997  Georges St-Pierre  Decision - Unanimous       Thiago Alves\n",
       "4092  Georges St-Pierre                KO/TKO            BJ Penn\n",
       "4191  Georges St-Pierre  Decision - Unanimous          Jon Fitch\n",
       "4253  Georges St-Pierre                KO/TKO         Matt Serra\n",
       "4313  Georges St-Pierre            Submission        Matt Hughes\n",
       "4378  Georges St-Pierre  Decision - Unanimous      Josh Koscheck\n",
       "4440         Matt Serra                KO/TKO  Georges St-Pierre\n",
       "4502  Georges St-Pierre                KO/TKO        Matt Hughes\n",
       "4619  Georges St-Pierre      Decision - Split            BJ Penn\n",
       "4645  Georges St-Pierre                KO/TKO         Sean Sherk\n",
       "4676  Georges St-Pierre            Submission        Frank Trigg\n",
       "4700  Georges St-Pierre  Decision - Unanimous       Jason Miller\n",
       "4724        Matt Hughes            Submission  Georges St-Pierre\n",
       "4743  Georges St-Pierre                KO/TKO         Jay Hieron\n",
       "4758  Georges St-Pierre  Decision - Unanimous      Karo Parisyan"
      ]
     },
     "execution_count": 15,
     "metadata": {},
     "output_type": "execute_result"
    }
   ],
   "source": [
    "get_fights_for_fighter('Georges St-Pierre')[['winner', 'win_by', 'loser']]"
   ]
  },
  {
   "cell_type": "code",
   "execution_count": 16,
   "metadata": {},
   "outputs": [
    {
     "data": {
      "text/plain": [
       "1915"
      ]
     },
     "execution_count": 16,
     "metadata": {},
     "output_type": "execute_result"
    }
   ],
   "source": [
    "# I wonder who has the \"best\" record.  It is hard to define who has the best record, but I'll start by sorting them by number of wins.\n",
    "all_fighters = set(fights.r_fighter).union(set(fights.b_fighter))\n",
    "len(all_fighters)"
   ]
  },
  {
   "cell_type": "code",
   "execution_count": 17,
   "metadata": {},
   "outputs": [],
   "source": [
    "class RecordSummary:\n",
    "    def __init__(self, name, wins, losses, ties):\n",
    "        self.name = name\n",
    "        self.wins = wins\n",
    "        self.losses = losses\n",
    "        self.ties = ties\n",
    "        \n",
    "    def __str__(self):\n",
    "        return '{ name: ' + self.name + ', ' + str(self.wins) + ', ' + str(self.losses) + ', ' + str(self.ties) + ', ' + str(self.wins / (self.wins + self.losses)) + '}'\n",
    "    \n",
    "    def __repr__(self):\n",
    "        return self.__str__()\n",
    "    \n",
    "    def __lt__(self, other):\n",
    "        return (self.wins < other.wins)\n",
    "    \n",
    "    "
   ]
  },
  {
   "cell_type": "code",
   "execution_count": 18,
   "metadata": {},
   "outputs": [
    {
     "name": "stderr",
     "output_type": "stream",
     "text": [
      "C:\\Users\\paulj_1e1uzlz\\anaconda3\\envs\\tf-gpu\\lib\\site-packages\\ipykernel_launcher.py:8: RuntimeWarning: invalid value encountered in longlong_scalars\n",
      "  \n"
     ]
    }
   ],
   "source": [
    "all_summaries = []\n",
    "for fighter in all_fighters:\n",
    "    #print(fighter, ':  ', get_record_summary(fighter))\n",
    "    m = get_record_summary(fighter)\n",
    "    rs = RecordSummary(fighter, m['wins'], m['losses'], m['draws'])\n",
    "    all_summaries.append(rs)"
   ]
  },
  {
   "cell_type": "code",
   "execution_count": null,
   "metadata": {},
   "outputs": [],
   "source": []
  },
  {
   "cell_type": "code",
   "execution_count": 19,
   "metadata": {},
   "outputs": [
    {
     "data": {
      "text/plain": [
       "[{ name: Donald Cerrone, 23, 9, 0, 0.71875},\n",
       " { name: Georges St-Pierre, 20, 2, 0, 0.9090909090909091},\n",
       " { name: Michael Bisping, 20, 9, 0, 0.6896551724137931},\n",
       " { name: Demian Maia, 20, 9, 0, 0.6896551724137931},\n",
       " { name: Jim Miller, 19, 12, 1, 0.6129032258064516},\n",
       " { name: Diego Sanchez, 18, 11, 0, 0.6206896551724138},\n",
       " { name: Matt Hughes, 18, 7, 0, 0.72},\n",
       " { name: Rafael Dos Anjos, 18, 9, 0, 0.6666666666666666},\n",
       " { name: Jon Jones, 18, 1, 1, 0.9473684210526315},\n",
       " { name: Anderson Silva, 17, 6, 1, 0.7391304347826086},\n",
       " { name: Frankie Edgar, 17, 6, 1, 0.7391304347826086},\n",
       " { name: Dustin Poirier, 17, 4, 1, 0.8095238095238095},\n",
       " { name: Andrei Arlovski, 16, 12, 1, 0.5714285714285714},\n",
       " { name: Lyoto Machida, 16, 8, 0, 0.6666666666666666},\n",
       " { name: Chuck Liddell, 16, 7, 0, 0.6956521739130435},\n",
       " { name: Max Holloway, 16, 4, 0, 0.8},\n",
       " { name: Gleison Tibau, 16, 12, 0, 0.5714285714285714},\n",
       " { name: Frank Mir, 16, 11, 0, 0.5925925925925926},\n",
       " { name: Randy Couture, 16, 8, 0, 0.6666666666666666},\n",
       " { name: Tito Ortiz, 15, 11, 1, 0.5769230769230769}]"
      ]
     },
     "execution_count": 19,
     "metadata": {},
     "output_type": "execute_result"
    }
   ],
   "source": [
    "all_summaries.sort()\n",
    "all_summaries = all_summaries[::-1]\n",
    "all_summaries[:20]"
   ]
  },
  {
   "cell_type": "markdown",
   "metadata": {},
   "source": [
    "So the above are the 20 people with the most wins.  Of those, notice George St. Pierre and Jon Jones having very few losses."
   ]
  },
  {
   "cell_type": "code",
   "execution_count": null,
   "metadata": {},
   "outputs": [],
   "source": []
  },
  {
   "cell_type": "code",
   "execution_count": 20,
   "metadata": {},
   "outputs": [],
   "source": [
    "# Let's do some exploration of some attributes"
   ]
  },
  {
   "cell_type": "code",
   "execution_count": 21,
   "metadata": {},
   "outputs": [
    {
     "data": {
      "text/plain": [
       "<AxesSubplot:xlabel='r_kd', ylabel='count'>"
      ]
     },
     "execution_count": 21,
     "metadata": {},
     "output_type": "execute_result"
    },
    {
     "data": {
      "image/png": "[encoded data removed]",
      "text/plain": [
       "<Figure size 432x288 with 1 Axes>"
      ]
     },
     "metadata": {
      "needs_background": "light"
     },
     "output_type": "display_data"
    }
   ],
   "source": [
    "sns.countplot(data=fights, x='r_kd')"
   ]
  },
  {
   "cell_type": "markdown",
   "metadata": {},
   "source": [
    "The most basic question is, if we want to predict if Red or Blue won, what is the percentage of each winning"
   ]
  },
  {
   "cell_type": "code",
   "execution_count": 22,
   "metadata": {},
   "outputs": [
    {
     "data": {
      "text/plain": [
       "<AxesSubplot:xlabel='r_b_winner', ylabel='count'>"
      ]
     },
     "execution_count": 22,
     "metadata": {},
     "output_type": "execute_result"
    },
    {
     "data": {
      "image/png": "[encoded data removed]",
      "text/plain": [
       "<Figure size 432x288 with 1 Axes>"
      ]
     },
     "metadata": {
      "needs_background": "light"
     },
     "output_type": "display_data"
    }
   ],
   "source": [
    "sns.countplot(fights.r_b_winner)"
   ]
  },
  {
   "cell_type": "code",
   "execution_count": 23,
   "metadata": {},
   "outputs": [
    {
     "data": {
      "text/plain": [
       "r       3470\n",
       "b       1591\n",
       "None      83\n",
       "Name: r_b_winner, dtype: int64"
      ]
     },
     "execution_count": 23,
     "metadata": {},
     "output_type": "execute_result"
    }
   ],
   "source": [
    "# put numerically\n",
    "fights.r_b_winner.value_counts()"
   ]
  },
  {
   "cell_type": "code",
   "execution_count": 24,
   "metadata": {},
   "outputs": [
    {
     "data": {
      "text/plain": [
       "r       0.674572\n",
       "b       0.309292\n",
       "None    0.016135\n",
       "Name: r_b_winner, dtype: float64"
      ]
     },
     "execution_count": 24,
     "metadata": {},
     "output_type": "execute_result"
    }
   ],
   "source": [
    "fights.r_b_winner.value_counts() / fights.shape[0]"
   ]
  },
  {
   "cell_type": "markdown",
   "metadata": {},
   "source": [
    "So the \"red\" fighter wins about 67% of the time.  From what I understand, the Red fighter is supposed to be the favored one, so whoever picks them does an OK job.\n",
    "This also means that anything we do to predict the winner will have to have a higher accuracy rate that 0.674572.  Otherwise, we would just predict \"red wins\" every time."
   ]
  },
  {
   "cell_type": "code",
   "execution_count": null,
   "metadata": {},
   "outputs": [],
   "source": []
  },
  {
   "cell_type": "markdown",
   "metadata": {},
   "source": [
    "Now go back to the idea of how fights end and investigate what is more effective.\n",
    "First, let's look at how fights ended."
   ]
  },
  {
   "cell_type": "code",
   "execution_count": 25,
   "metadata": {},
   "outputs": [
    {
     "data": {
      "text/plain": [
       "Decision - Unanimous       1737\n",
       "KO/TKO                     1647\n",
       "Submission                 1083\n",
       "Decision - Split            486\n",
       "TKO - Doctor's Stoppage      70\n",
       "Decision - Majority          56\n",
       "Overturned                   35\n",
       "DQ                           15\n",
       "Could Not Continue           13\n",
       "Other                         2\n",
       "Name: win_by, dtype: int64"
      ]
     },
     "execution_count": 25,
     "metadata": {},
     "output_type": "execute_result"
    }
   ],
   "source": [
    "fights.win_by.value_counts()"
   ]
  },
  {
   "cell_type": "markdown",
   "metadata": {},
   "source": [
    "As I said in the introductory page, when there is a \"submission\", the losing figher has \"tapped\" and admitted defeat, typically due to a joint lock or a choke.  Most of the other values here, such as Decision or TKO/KO, are due to the fight being decided by strikes, not grappling.  There could be a few TKO/KO fights where someone is choked unconcious, but otherwise, most fights not labeled \"submission\" were ended by striking and not grappling."
   ]
  },
  {
   "cell_type": "markdown",
   "metadata": {},
   "source": [
    "I wonder if the rate of winning by submission has changed over time.  Maybe the strategy has changed since the early days where Royce Gracie shocked so many people by submitting them with a lesser know style.\n",
    "Let's graph the number of fights that have ended by submission as a function of time"
   ]
  },
  {
   "cell_type": "code",
   "execution_count": 26,
   "metadata": {},
   "outputs": [],
   "source": [
    "fights['was_sub'] = fights.win_by == 'Submission'"
   ]
  },
  {
   "cell_type": "code",
   "execution_count": 27,
   "metadata": {},
   "outputs": [],
   "source": [
    "fights['was_sub'] = fights.win_by.apply(lambda x: 1 if x == 'Submission' else 0)"
   ]
  },
  {
   "cell_type": "code",
   "execution_count": 28,
   "metadata": {},
   "outputs": [
    {
     "data": {
      "text/plain": [
       "[<matplotlib.lines.Line2D at 0x25db352a948>]"
      ]
     },
     "execution_count": 28,
     "metadata": {},
     "output_type": "execute_result"
    },
    {
     "data": {
      "image/png": "[encoded data removed]",
      "text/plain": [
       "<Figure size 432x288 with 1 Axes>"
      ]
     },
     "metadata": {
      "needs_background": "light"
     },
     "output_type": "display_data"
    }
   ],
   "source": [
    "plt.plot([x for x in range(fights.shape[0])], fights.was_sub.cumsum())"
   ]
  },
  {
   "cell_type": "markdown",
   "metadata": {},
   "source": [
    "The slope of the ratio between submissions and total fights has remained relatively constant."
   ]
  },
  {
   "cell_type": "code",
   "execution_count": 29,
   "metadata": {},
   "outputs": [
    {
     "data": {
      "text/plain": [
       "[<matplotlib.lines.Line2D at 0x25db3f58988>]"
      ]
     },
     "execution_count": 29,
     "metadata": {},
     "output_type": "execute_result"
    },
    {
     "data": {
      "image/png": "[encoded data removed]",
      "text/plain": [
       "<Figure size 432x288 with 1 Axes>"
      ]
     },
     "metadata": {
      "needs_background": "light"
     },
     "output_type": "display_data"
    }
   ],
   "source": [
    "# Another way to look at it.  Plot the current ratio of submissions to all fights over time.\n",
    "i = [x for x in range(fights.shape[0])]\n",
    "plt.plot(i, fights.was_sub.cumsum() / i)"
   ]
  },
  {
   "cell_type": "markdown",
   "metadata": {},
   "source": [
    "Again, it quickly converges to a value in the range of .2 and stays relatively constant.  So approximately one fifth of UFC fights have ended in a submission.  This means that the other four fifths are presumably being decided by strikes, not submissions.\n",
    "While this might not be enough information to determine a training strategy for a potential fighter, from this it looks like someone should not train exclusively in grappling (even though I currently have been taking Brazillian Jiu Jitsu and think it can be very effective for self defense)."
   ]
  },
  {
   "cell_type": "markdown",
   "metadata": {},
   "source": [
    "The other data set has a little bit more detail on the finish."
   ]
  },
  {
   "cell_type": "code",
   "execution_count": 30,
   "metadata": {},
   "outputs": [],
   "source": [
    "ufc = pd.read_csv('ufc-master.csv')"
   ]
  },
  {
   "cell_type": "code",
   "execution_count": 31,
   "metadata": {},
   "outputs": [
    {
     "data": {
      "text/plain": [
       "(4292, 110)"
      ]
     },
     "execution_count": 31,
     "metadata": {},
     "output_type": "execute_result"
    }
   ],
   "source": [
    "ufc.shape"
   ]
  },
  {
   "cell_type": "code",
   "execution_count": 32,
   "metadata": {},
   "outputs": [
    {
     "data": {
      "text/plain": [
       "U-DEC         1543\n",
       "KO/TKO        1291\n",
       "SUB            758\n",
       "S-DEC          435\n",
       "M-DEC           26\n",
       "DQ              12\n",
       "Overturned       2\n",
       "Name: finish, dtype: int64"
      ]
     },
     "execution_count": 32,
     "metadata": {},
     "output_type": "execute_result"
    }
   ],
   "source": [
    "ufc.finish.value_counts()"
   ]
  },
  {
   "cell_type": "code",
   "execution_count": 33,
   "metadata": {},
   "outputs": [
    {
     "data": {
      "text/plain": [
       "0.18637816572412097"
      ]
     },
     "execution_count": 33,
     "metadata": {},
     "output_type": "execute_result"
    }
   ],
   "source": [
    "(ufc.finish == 'SUB').sum()/ ufc.finish.value_counts().sum()"
   ]
  },
  {
   "cell_type": "code",
   "execution_count": 34,
   "metadata": {},
   "outputs": [
    {
     "ename": "SyntaxError",
     "evalue": "invalid syntax (<ipython-input-34-0a8a3e22b2ff>, line 1)",
     "output_type": "error",
     "traceback": [
      "\u001b[1;36m  File \u001b[1;32m\"<ipython-input-34-0a8a3e22b2ff>\"\u001b[1;36m, line \u001b[1;32m1\u001b[0m\n\u001b[1;33m    So in this data set, about 18.6% are ending in a submission, similar to the other one.\u001b[0m\n\u001b[1;37m                  ^\u001b[0m\n\u001b[1;31mSyntaxError\u001b[0m\u001b[1;31m:\u001b[0m invalid syntax\n"
     ]
    }
   ],
   "source": [
    "So in this data set, about 18.6% are ending in a submission, similar to the other one."
   ]
  },
  {
   "cell_type": "code",
   "execution_count": null,
   "metadata": {},
   "outputs": [],
   "source": [
    "This data also has a finish_details column, although many of the values are blank."
   ]
  },
  {
   "cell_type": "code",
   "execution_count": null,
   "metadata": {},
   "outputs": [],
   "source": [
    "ufc.finish_details.value_counts()"
   ]
  },
  {
   "cell_type": "markdown",
   "metadata": {},
   "source": [
    "Let's break it down for submissions and non submissions."
   ]
  },
  {
   "cell_type": "code",
   "execution_count": null,
   "metadata": {},
   "outputs": [],
   "source": [
    "subs = ufc[ufc.finish == 'SUB']\n",
    "not_sub = ufc[ufc.finish != 'SUB']"
   ]
  },
  {
   "cell_type": "code",
   "execution_count": null,
   "metadata": {},
   "outputs": [],
   "source": [
    "subs.finish_details.value_counts()"
   ]
  },
  {
   "cell_type": "markdown",
   "metadata": {},
   "source": [
    "So if you are going to submit somebody, the rear naked choke seems to be your most likely option.\n",
    "If you are not familiar with grappling or jiu jitsu, the rear naked choke is where you choke somebody from behind (hence the \"rear\").  The \"naked\" comes from the fact that the traditional Japanese Jiu Jitsu uniform, called a \"gi\", it not necessary.\n",
    "A guillotine choke is difficult to describe, but it is sort of a front headlock choke.\n",
    "One of the most popular chokes in Jiu Jitsu, the regular Triangle Choke, is fouth on the list, which is a little surprising.  Also, I notice that heel hooks, which are popular in Brazillian Jiu Jitsu competition right now, are low on the list.\n",
    "One of my favorite moves, the Omoplata, has finished someone off 2 times in the UFC.  It looks like a great move, but maybe I should have a backup."
   ]
  },
  {
   "cell_type": "markdown",
   "metadata": {},
   "source": [
    "Let's look at fights that ended due to striking."
   ]
  },
  {
   "cell_type": "code",
   "execution_count": null,
   "metadata": {},
   "outputs": [],
   "source": [
    "not_sub.finish_details.value_counts()"
   ]
  },
  {
   "cell_type": "markdown",
   "metadata": {},
   "source": [
    "For the sake of this, let's combine things like \"Punch\" and \"Punches\" into one category."
   ]
  },
  {
   "cell_type": "code",
   "execution_count": null,
   "metadata": {},
   "outputs": [],
   "source": [
    "not_sub['finish_details'] = not_sub['finish_details'].apply(lambda s: 'Punches' if s == 'Punch' else s)\n",
    "not_sub['finish_details'] = not_sub['finish_details'].apply(lambda s: 'Kicks' if s == 'Kick' else s)\n",
    "not_sub['finish_details'] = not_sub['finish_details'].apply(lambda s: 'Elbows' if s == 'Elbow' else s)\n",
    "not_sub['finish_details'] = not_sub['finish_details'].apply(lambda s: 'Knees' if s == 'Knee' else s)\n",
    "not_sub['finish_details'] = not_sub['finish_details'].apply(lambda s: 'Knees' if s == 'Flying Knee' else s)"
   ]
  },
  {
   "cell_type": "code",
   "execution_count": null,
   "metadata": {},
   "outputs": [],
   "source": [
    "not_sub.finish_details.value_counts()"
   ]
  },
  {
   "cell_type": "markdown",
   "metadata": {},
   "source": [
    "Based on this, punches seems the most common way to end the fight.  This does not capture all the things that went into it before that could have gotten the opponent tired and battered.  So it might be premature to say that the flying kicks of the kung fu movies is a bunch of hooie hah.  But, at least as far as finishin the fight, if I were training to be a UFC fighter I would focus on punches more than kicks."
   ]
  }
 ],
 "metadata": {
  "kernelspec": {
   "display_name": "Python 3",
   "language": "python",
   "name": "python3"
  },
  "language_info": {
   "codemirror_mode": {
    "name": "ipython",
    "version": 3
   },
   "file_extension": ".py",
   "mimetype": "text/x-python",
   "name": "python",
   "nbconvert_exporter": "python",
   "pygments_lexer": "ipython3",
   "version": "3.7.9"
  }
 },
 "nbformat": 4,
 "nbformat_minor": 4
}
