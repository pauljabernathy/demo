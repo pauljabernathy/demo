{
 "cells": [
  {
   "cell_type": "code",
   "execution_count": 1,
   "metadata": {},
   "outputs": [],
   "source": [
    "import pandas as pd\n",
    "import numpy as np\n",
    "import matplotlib.pyplot as plt\n",
    "import seaborn as sns"
   ]
  },
  {
   "cell_type": "code",
   "execution_count": 2,
   "metadata": {},
   "outputs": [
    {
     "data": {
      "text/plain": [
       "\"\\nSome questions.\\nBig question - what is more effective - punching, kicking, or grappling?\\nmay need to change to striking (kick, punch, elbow, knees) vs grappling\\n\\nhow do most fights end?\\ncan you estimate the efficacy of punchs, kicks, guards, etc. throughout the fight, before the end?\\nAre some strategies more effective against certain people than others?\\n\\nother ones\\nWho has the best record?  Most wins?  best win percentage?\\nCan you classify people as strikers or grapplers?\\nHow much does height and reach matter?  That is, how much does long arms help?\\nIn fights where there is a weight difference, how much does size matter?\\n\\nCan you predict who will win a fight based on each person's record and past methods of winning?\\n\""
      ]
     },
     "execution_count": 2,
     "metadata": {},
     "output_type": "execute_result"
    }
   ],
   "source": [
    "\"\"\"\n",
    "Some questions.\n",
    "Big question - what is more effective - punching, kicking, or grappling?\n",
    "may need to change to striking (kick, punch, elbow, knees) vs grappling\n",
    "\n",
    "how do most fights end?\n",
    "can you estimate the efficacy of punchs, kicks, guards, etc. throughout the fight, before the end?\n",
    "Are some strategies more effective against certain people than others?\n",
    "\n",
    "other ones\n",
    "Who has the best record?  Most wins?  best win percentage?\n",
    "Can you classify people as strikers or grapplers?\n",
    "How much does height and reach matter?  That is, how much does long arms help?\n",
    "In fights where there is a weight difference, how much does size matter?\n",
    "\n",
    "Can you predict who will win a fight based on each person's record and past methods of winning?\n",
    "\"\"\""
   ]
  },
  {
   "cell_type": "code",
   "execution_count": 3,
   "metadata": {},
   "outputs": [],
   "source": [
    "ufc = pd.read_csv('ufc-master.csv')"
   ]
  },
  {
   "cell_type": "code",
   "execution_count": null,
   "metadata": {},
   "outputs": [],
   "source": []
  },
  {
   "cell_type": "code",
   "execution_count": 4,
   "metadata": {},
   "outputs": [
    {
     "data": {
      "text/plain": [
       "(4292, 110)"
      ]
     },
     "execution_count": 4,
     "metadata": {},
     "output_type": "execute_result"
    }
   ],
   "source": [
    "ufc.shape"
   ]
  },
  {
   "cell_type": "code",
   "execution_count": 5,
   "metadata": {},
   "outputs": [
    {
     "data": {
      "text/plain": [
       "0      SUB\n",
       "1      SUB\n",
       "2    U-DEC\n",
       "3      SUB\n",
       "4    U-DEC\n",
       "Name: finish, dtype: object"
      ]
     },
     "execution_count": 5,
     "metadata": {},
     "output_type": "execute_result"
    }
   ],
   "source": [
    "ufc.finish.head()"
   ]
  },
  {
   "cell_type": "code",
   "execution_count": 6,
   "metadata": {},
   "outputs": [
    {
     "data": {
      "text/plain": [
       "U-DEC         1543\n",
       "KO/TKO        1291\n",
       "SUB            758\n",
       "S-DEC          435\n",
       "M-DEC           26\n",
       "DQ              12\n",
       "Overturned       2\n",
       "Name: finish, dtype: int64"
      ]
     },
     "execution_count": 6,
     "metadata": {},
     "output_type": "execute_result"
    }
   ],
   "source": [
    "ufc.finish.value_counts()"
   ]
  },
  {
   "cell_type": "code",
   "execution_count": 7,
   "metadata": {},
   "outputs": [],
   "source": [
    "fights = pd.read_csv('raw_total_fight_data.csv', sep=';')"
   ]
  },
  {
   "cell_type": "code",
   "execution_count": 8,
   "metadata": {},
   "outputs": [
    {
     "name": "stdout",
     "output_type": "stream",
     "text": [
      "<class 'pandas.core.frame.DataFrame'>\n",
      "RangeIndex: 5144 entries, 0 to 5143\n",
      "Data columns (total 41 columns):\n",
      " #   Column           Non-Null Count  Dtype \n",
      "---  ------           --------------  ----- \n",
      " 0   R_fighter        5144 non-null   object\n",
      " 1   B_fighter        5144 non-null   object\n",
      " 2   R_KD             5144 non-null   int64 \n",
      " 3   B_KD             5144 non-null   int64 \n",
      " 4   R_SIG_STR.       5144 non-null   object\n",
      " 5   B_SIG_STR.       5144 non-null   object\n",
      " 6   R_SIG_STR_pct    5144 non-null   object\n",
      " 7   B_SIG_STR_pct    5144 non-null   object\n",
      " 8   R_TOTAL_STR.     5144 non-null   object\n",
      " 9   B_TOTAL_STR.     5144 non-null   object\n",
      " 10  R_TD             5144 non-null   object\n",
      " 11  B_TD             5144 non-null   object\n",
      " 12  R_TD_pct         5144 non-null   object\n",
      " 13  B_TD_pct         5144 non-null   object\n",
      " 14  R_SUB_ATT        5144 non-null   int64 \n",
      " 15  B_SUB_ATT        5144 non-null   int64 \n",
      " 16  R_PASS           5144 non-null   int64 \n",
      " 17  B_PASS           5144 non-null   int64 \n",
      " 18  R_REV            5144 non-null   int64 \n",
      " 19  B_REV            5144 non-null   int64 \n",
      " 20  R_HEAD           5144 non-null   object\n",
      " 21  B_HEAD           5144 non-null   object\n",
      " 22  R_BODY           5144 non-null   object\n",
      " 23  B_BODY           5144 non-null   object\n",
      " 24  R_LEG            5144 non-null   object\n",
      " 25  B_LEG            5144 non-null   object\n",
      " 26  R_DISTANCE       5144 non-null   object\n",
      " 27  B_DISTANCE       5144 non-null   object\n",
      " 28  R_CLINCH         5144 non-null   object\n",
      " 29  B_CLINCH         5144 non-null   object\n",
      " 30  R_GROUND         5144 non-null   object\n",
      " 31  B_GROUND         5144 non-null   object\n",
      " 32  win_by           5144 non-null   object\n",
      " 33  last_round       5144 non-null   int64 \n",
      " 34  last_round_time  5144 non-null   object\n",
      " 35  Format           5144 non-null   object\n",
      " 36  Referee          5121 non-null   object\n",
      " 37  date             5144 non-null   object\n",
      " 38  location         5144 non-null   object\n",
      " 39  Fight_type       5144 non-null   object\n",
      " 40  Winner           5061 non-null   object\n",
      "dtypes: int64(9), object(32)\n",
      "memory usage: 1.6+ MB\n"
     ]
    }
   ],
   "source": [
    "fights.info()"
   ]
  },
  {
   "cell_type": "code",
   "execution_count": 9,
   "metadata": {},
   "outputs": [
    {
     "data": {
      "text/html": [
       "<div>\n",
       "<style scoped>\n",
       "    .dataframe tbody tr th:only-of-type {\n",
       "        vertical-align: middle;\n",
       "    }\n",
       "\n",
       "    .dataframe tbody tr th {\n",
       "        vertical-align: top;\n",
       "    }\n",
       "\n",
       "    .dataframe thead th {\n",
       "        text-align: right;\n",
       "    }\n",
       "</style>\n",
       "<table border=\"1\" class=\"dataframe\">\n",
       "  <thead>\n",
       "    <tr style=\"text-align: right;\">\n",
       "      <th></th>\n",
       "      <th>R_KD</th>\n",
       "      <th>B_KD</th>\n",
       "      <th>R_SUB_ATT</th>\n",
       "      <th>B_SUB_ATT</th>\n",
       "      <th>R_PASS</th>\n",
       "      <th>B_PASS</th>\n",
       "      <th>R_REV</th>\n",
       "      <th>B_REV</th>\n",
       "      <th>last_round</th>\n",
       "    </tr>\n",
       "  </thead>\n",
       "  <tbody>\n",
       "    <tr>\n",
       "      <th>count</th>\n",
       "      <td>5144.000000</td>\n",
       "      <td>5144.000000</td>\n",
       "      <td>5144.000000</td>\n",
       "      <td>5144.000000</td>\n",
       "      <td>5144.000000</td>\n",
       "      <td>5144.000000</td>\n",
       "      <td>5144.000000</td>\n",
       "      <td>5144.000000</td>\n",
       "      <td>5144.000000</td>\n",
       "    </tr>\n",
       "    <tr>\n",
       "      <th>mean</th>\n",
       "      <td>0.252333</td>\n",
       "      <td>0.180404</td>\n",
       "      <td>0.510886</td>\n",
       "      <td>0.361003</td>\n",
       "      <td>1.401439</td>\n",
       "      <td>0.831260</td>\n",
       "      <td>0.141719</td>\n",
       "      <td>0.134137</td>\n",
       "      <td>2.288297</td>\n",
       "    </tr>\n",
       "    <tr>\n",
       "      <th>std</th>\n",
       "      <td>0.523318</td>\n",
       "      <td>0.459646</td>\n",
       "      <td>0.948139</td>\n",
       "      <td>0.809795</td>\n",
       "      <td>2.301587</td>\n",
       "      <td>1.651515</td>\n",
       "      <td>0.427448</td>\n",
       "      <td>0.416798</td>\n",
       "      <td>1.003732</td>\n",
       "    </tr>\n",
       "    <tr>\n",
       "      <th>min</th>\n",
       "      <td>0.000000</td>\n",
       "      <td>0.000000</td>\n",
       "      <td>0.000000</td>\n",
       "      <td>0.000000</td>\n",
       "      <td>0.000000</td>\n",
       "      <td>0.000000</td>\n",
       "      <td>0.000000</td>\n",
       "      <td>0.000000</td>\n",
       "      <td>1.000000</td>\n",
       "    </tr>\n",
       "    <tr>\n",
       "      <th>25%</th>\n",
       "      <td>0.000000</td>\n",
       "      <td>0.000000</td>\n",
       "      <td>0.000000</td>\n",
       "      <td>0.000000</td>\n",
       "      <td>0.000000</td>\n",
       "      <td>0.000000</td>\n",
       "      <td>0.000000</td>\n",
       "      <td>0.000000</td>\n",
       "      <td>1.000000</td>\n",
       "    </tr>\n",
       "    <tr>\n",
       "      <th>50%</th>\n",
       "      <td>0.000000</td>\n",
       "      <td>0.000000</td>\n",
       "      <td>0.000000</td>\n",
       "      <td>0.000000</td>\n",
       "      <td>0.000000</td>\n",
       "      <td>0.000000</td>\n",
       "      <td>0.000000</td>\n",
       "      <td>0.000000</td>\n",
       "      <td>3.000000</td>\n",
       "    </tr>\n",
       "    <tr>\n",
       "      <th>75%</th>\n",
       "      <td>0.000000</td>\n",
       "      <td>0.000000</td>\n",
       "      <td>1.000000</td>\n",
       "      <td>0.000000</td>\n",
       "      <td>2.000000</td>\n",
       "      <td>1.000000</td>\n",
       "      <td>0.000000</td>\n",
       "      <td>0.000000</td>\n",
       "      <td>3.000000</td>\n",
       "    </tr>\n",
       "    <tr>\n",
       "      <th>max</th>\n",
       "      <td>5.000000</td>\n",
       "      <td>4.000000</td>\n",
       "      <td>10.000000</td>\n",
       "      <td>7.000000</td>\n",
       "      <td>26.000000</td>\n",
       "      <td>14.000000</td>\n",
       "      <td>5.000000</td>\n",
       "      <td>3.000000</td>\n",
       "      <td>5.000000</td>\n",
       "    </tr>\n",
       "  </tbody>\n",
       "</table>\n",
       "</div>"
      ],
      "text/plain": [
       "              R_KD         B_KD    R_SUB_ATT    B_SUB_ATT       R_PASS  \\\n",
       "count  5144.000000  5144.000000  5144.000000  5144.000000  5144.000000   \n",
       "mean      0.252333     0.180404     0.510886     0.361003     1.401439   \n",
       "std       0.523318     0.459646     0.948139     0.809795     2.301587   \n",
       "min       0.000000     0.000000     0.000000     0.000000     0.000000   \n",
       "25%       0.000000     0.000000     0.000000     0.000000     0.000000   \n",
       "50%       0.000000     0.000000     0.000000     0.000000     0.000000   \n",
       "75%       0.000000     0.000000     1.000000     0.000000     2.000000   \n",
       "max       5.000000     4.000000    10.000000     7.000000    26.000000   \n",
       "\n",
       "            B_PASS        R_REV        B_REV   last_round  \n",
       "count  5144.000000  5144.000000  5144.000000  5144.000000  \n",
       "mean      0.831260     0.141719     0.134137     2.288297  \n",
       "std       1.651515     0.427448     0.416798     1.003732  \n",
       "min       0.000000     0.000000     0.000000     1.000000  \n",
       "25%       0.000000     0.000000     0.000000     1.000000  \n",
       "50%       0.000000     0.000000     0.000000     3.000000  \n",
       "75%       1.000000     0.000000     0.000000     3.000000  \n",
       "max      14.000000     5.000000     3.000000     5.000000  "
      ]
     },
     "execution_count": 9,
     "metadata": {},
     "output_type": "execute_result"
    }
   ],
   "source": [
    "fights.describe()"
   ]
  },
  {
   "cell_type": "code",
   "execution_count": 10,
   "metadata": {},
   "outputs": [],
   "source": [
    "fights = fights.replace(np.NaN, 'None')"
   ]
  },
  {
   "cell_type": "code",
   "execution_count": 11,
   "metadata": {},
   "outputs": [
    {
     "data": {
      "text/plain": [
       "Decision - Unanimous       1737\n",
       "KO/TKO                     1647\n",
       "Submission                 1083\n",
       "Decision - Split            486\n",
       "TKO - Doctor's Stoppage      70\n",
       "Decision - Majority          56\n",
       "Overturned                   35\n",
       "DQ                           15\n",
       "Could Not Continue           13\n",
       "Other                         2\n",
       "Name: win_by, dtype: int64"
      ]
     },
     "execution_count": 11,
     "metadata": {},
     "output_type": "execute_result"
    }
   ],
   "source": [
    "fights['win_by'].value_counts()"
   ]
  },
  {
   "cell_type": "code",
   "execution_count": 12,
   "metadata": {},
   "outputs": [
    {
     "data": {
      "text/plain": [
       "(5144, 41)"
      ]
     },
     "execution_count": 12,
     "metadata": {},
     "output_type": "execute_result"
    }
   ],
   "source": [
    "fights.shape"
   ]
  },
  {
   "cell_type": "code",
   "execution_count": 13,
   "metadata": {},
   "outputs": [
    {
     "data": {
      "text/html": [
       "<div>\n",
       "<style scoped>\n",
       "    .dataframe tbody tr th:only-of-type {\n",
       "        vertical-align: middle;\n",
       "    }\n",
       "\n",
       "    .dataframe tbody tr th {\n",
       "        vertical-align: top;\n",
       "    }\n",
       "\n",
       "    .dataframe thead th {\n",
       "        text-align: right;\n",
       "    }\n",
       "</style>\n",
       "<table border=\"1\" class=\"dataframe\">\n",
       "  <thead>\n",
       "    <tr style=\"text-align: right;\">\n",
       "      <th></th>\n",
       "      <th>R_fighter</th>\n",
       "      <th>B_fighter</th>\n",
       "      <th>R_KD</th>\n",
       "      <th>B_KD</th>\n",
       "      <th>R_SIG_STR.</th>\n",
       "      <th>B_SIG_STR.</th>\n",
       "      <th>R_SIG_STR_pct</th>\n",
       "      <th>B_SIG_STR_pct</th>\n",
       "      <th>R_TOTAL_STR.</th>\n",
       "      <th>B_TOTAL_STR.</th>\n",
       "      <th>...</th>\n",
       "      <th>B_GROUND</th>\n",
       "      <th>win_by</th>\n",
       "      <th>last_round</th>\n",
       "      <th>last_round_time</th>\n",
       "      <th>Format</th>\n",
       "      <th>Referee</th>\n",
       "      <th>date</th>\n",
       "      <th>location</th>\n",
       "      <th>Fight_type</th>\n",
       "      <th>Winner</th>\n",
       "    </tr>\n",
       "  </thead>\n",
       "  <tbody>\n",
       "    <tr>\n",
       "      <th>5139</th>\n",
       "      <td>Gerard Gordeau</td>\n",
       "      <td>Kevin Rosier</td>\n",
       "      <td>1</td>\n",
       "      <td>0</td>\n",
       "      <td>11 of 17</td>\n",
       "      <td>0 of 3</td>\n",
       "      <td>64%</td>\n",
       "      <td>0%</td>\n",
       "      <td>11 of 17</td>\n",
       "      <td>0 of 3</td>\n",
       "      <td>...</td>\n",
       "      <td>0 of 0</td>\n",
       "      <td>KO/TKO</td>\n",
       "      <td>1</td>\n",
       "      <td>0:59</td>\n",
       "      <td>No Time Limit</td>\n",
       "      <td>Joao Alberto Barreto</td>\n",
       "      <td>November 12, 1993</td>\n",
       "      <td>Denver, Colorado, USA</td>\n",
       "      <td>Open Weight Bout</td>\n",
       "      <td>Gerard Gordeau</td>\n",
       "    </tr>\n",
       "    <tr>\n",
       "      <th>5140</th>\n",
       "      <td>Ken Shamrock</td>\n",
       "      <td>Patrick Smith</td>\n",
       "      <td>0</td>\n",
       "      <td>0</td>\n",
       "      <td>1 of 1</td>\n",
       "      <td>4 of 8</td>\n",
       "      <td>100%</td>\n",
       "      <td>50%</td>\n",
       "      <td>4 of 4</td>\n",
       "      <td>16 of 20</td>\n",
       "      <td>...</td>\n",
       "      <td>2 of 6</td>\n",
       "      <td>Submission</td>\n",
       "      <td>1</td>\n",
       "      <td>1:49</td>\n",
       "      <td>No Time Limit</td>\n",
       "      <td>Joao Alberto Barreto</td>\n",
       "      <td>November 12, 1993</td>\n",
       "      <td>Denver, Colorado, USA</td>\n",
       "      <td>Open Weight Bout</td>\n",
       "      <td>Ken Shamrock</td>\n",
       "    </tr>\n",
       "    <tr>\n",
       "      <th>5141</th>\n",
       "      <td>Royce Gracie</td>\n",
       "      <td>Art Jimmerson</td>\n",
       "      <td>0</td>\n",
       "      <td>0</td>\n",
       "      <td>0 of 3</td>\n",
       "      <td>0 of 0</td>\n",
       "      <td>0%</td>\n",
       "      <td>0%</td>\n",
       "      <td>4 of 7</td>\n",
       "      <td>0 of 0</td>\n",
       "      <td>...</td>\n",
       "      <td>0 of 0</td>\n",
       "      <td>Submission</td>\n",
       "      <td>1</td>\n",
       "      <td>2:18</td>\n",
       "      <td>No Time Limit</td>\n",
       "      <td>Joao Alberto Barreto</td>\n",
       "      <td>November 12, 1993</td>\n",
       "      <td>Denver, Colorado, USA</td>\n",
       "      <td>Open Weight Bout</td>\n",
       "      <td>Royce Gracie</td>\n",
       "    </tr>\n",
       "    <tr>\n",
       "      <th>5142</th>\n",
       "      <td>Kevin Rosier</td>\n",
       "      <td>Zane Frazier</td>\n",
       "      <td>2</td>\n",
       "      <td>0</td>\n",
       "      <td>15 of 27</td>\n",
       "      <td>12 of 28</td>\n",
       "      <td>55%</td>\n",
       "      <td>42%</td>\n",
       "      <td>38 of 53</td>\n",
       "      <td>13 of 29</td>\n",
       "      <td>...</td>\n",
       "      <td>2 of 2</td>\n",
       "      <td>KO/TKO</td>\n",
       "      <td>1</td>\n",
       "      <td>4:20</td>\n",
       "      <td>No Time Limit</td>\n",
       "      <td>Joao Alberto Barreto</td>\n",
       "      <td>November 12, 1993</td>\n",
       "      <td>Denver, Colorado, USA</td>\n",
       "      <td>Open Weight Bout</td>\n",
       "      <td>Kevin Rosier</td>\n",
       "    </tr>\n",
       "    <tr>\n",
       "      <th>5143</th>\n",
       "      <td>Gerard Gordeau</td>\n",
       "      <td>Teila Tuli</td>\n",
       "      <td>0</td>\n",
       "      <td>0</td>\n",
       "      <td>3 of 5</td>\n",
       "      <td>0 of 1</td>\n",
       "      <td>60%</td>\n",
       "      <td>0%</td>\n",
       "      <td>3 of 5</td>\n",
       "      <td>0 of 1</td>\n",
       "      <td>...</td>\n",
       "      <td>0 of 0</td>\n",
       "      <td>KO/TKO</td>\n",
       "      <td>1</td>\n",
       "      <td>0:26</td>\n",
       "      <td>No Time Limit</td>\n",
       "      <td>Joao Alberto Barreto</td>\n",
       "      <td>November 12, 1993</td>\n",
       "      <td>Denver, Colorado, USA</td>\n",
       "      <td>Open Weight Bout</td>\n",
       "      <td>Gerard Gordeau</td>\n",
       "    </tr>\n",
       "  </tbody>\n",
       "</table>\n",
       "<p>5 rows × 41 columns</p>\n",
       "</div>"
      ],
      "text/plain": [
       "           R_fighter      B_fighter  R_KD  B_KD R_SIG_STR. B_SIG_STR.  \\\n",
       "5139  Gerard Gordeau   Kevin Rosier     1     0   11 of 17     0 of 3   \n",
       "5140    Ken Shamrock  Patrick Smith     0     0     1 of 1     4 of 8   \n",
       "5141    Royce Gracie  Art Jimmerson     0     0     0 of 3     0 of 0   \n",
       "5142    Kevin Rosier   Zane Frazier     2     0   15 of 27   12 of 28   \n",
       "5143  Gerard Gordeau     Teila Tuli     0     0     3 of 5     0 of 1   \n",
       "\n",
       "     R_SIG_STR_pct B_SIG_STR_pct R_TOTAL_STR. B_TOTAL_STR.  ... B_GROUND  \\\n",
       "5139           64%            0%     11 of 17       0 of 3  ...   0 of 0   \n",
       "5140          100%           50%       4 of 4     16 of 20  ...   2 of 6   \n",
       "5141            0%            0%       4 of 7       0 of 0  ...   0 of 0   \n",
       "5142           55%           42%     38 of 53     13 of 29  ...   2 of 2   \n",
       "5143           60%            0%       3 of 5       0 of 1  ...   0 of 0   \n",
       "\n",
       "          win_by last_round last_round_time         Format  \\\n",
       "5139      KO/TKO          1            0:59  No Time Limit   \n",
       "5140  Submission          1            1:49  No Time Limit   \n",
       "5141  Submission          1            2:18  No Time Limit   \n",
       "5142      KO/TKO          1            4:20  No Time Limit   \n",
       "5143      KO/TKO          1            0:26  No Time Limit   \n",
       "\n",
       "                   Referee               date               location  \\\n",
       "5139  Joao Alberto Barreto  November 12, 1993  Denver, Colorado, USA   \n",
       "5140  Joao Alberto Barreto  November 12, 1993  Denver, Colorado, USA   \n",
       "5141  Joao Alberto Barreto  November 12, 1993  Denver, Colorado, USA   \n",
       "5142  Joao Alberto Barreto  November 12, 1993  Denver, Colorado, USA   \n",
       "5143  Joao Alberto Barreto  November 12, 1993  Denver, Colorado, USA   \n",
       "\n",
       "            Fight_type          Winner  \n",
       "5139  Open Weight Bout  Gerard Gordeau  \n",
       "5140  Open Weight Bout    Ken Shamrock  \n",
       "5141  Open Weight Bout    Royce Gracie  \n",
       "5142  Open Weight Bout    Kevin Rosier  \n",
       "5143  Open Weight Bout  Gerard Gordeau  \n",
       "\n",
       "[5 rows x 41 columns]"
      ]
     },
     "execution_count": 13,
     "metadata": {},
     "output_type": "execute_result"
    }
   ],
   "source": [
    "fights.tail()"
   ]
  },
  {
   "cell_type": "code",
   "execution_count": 14,
   "metadata": {},
   "outputs": [],
   "source": [
    "def find_loser(row):\n",
    "    if row.Winner == row.R_fighter:\n",
    "        return row.B_fighter\n",
    "    elif row.Winner == row.B_fighter:\n",
    "        return row.R_fighter\n",
    "    else:\n",
    "        return 'None'"
   ]
  },
  {
   "cell_type": "code",
   "execution_count": 15,
   "metadata": {},
   "outputs": [],
   "source": [
    "fights['loser'] = fights.apply(find_loser, axis=1)"
   ]
  },
  {
   "cell_type": "code",
   "execution_count": 16,
   "metadata": {},
   "outputs": [
    {
     "data": {
      "text/html": [
       "<div>\n",
       "<style scoped>\n",
       "    .dataframe tbody tr th:only-of-type {\n",
       "        vertical-align: middle;\n",
       "    }\n",
       "\n",
       "    .dataframe tbody tr th {\n",
       "        vertical-align: top;\n",
       "    }\n",
       "\n",
       "    .dataframe thead th {\n",
       "        text-align: right;\n",
       "    }\n",
       "</style>\n",
       "<table border=\"1\" class=\"dataframe\">\n",
       "  <thead>\n",
       "    <tr style=\"text-align: right;\">\n",
       "      <th></th>\n",
       "      <th>Winner</th>\n",
       "      <th>win_by</th>\n",
       "    </tr>\n",
       "  </thead>\n",
       "  <tbody>\n",
       "    <tr>\n",
       "      <th>4590</th>\n",
       "      <td>Matt Hughes</td>\n",
       "      <td>KO/TKO</td>\n",
       "    </tr>\n",
       "    <tr>\n",
       "      <th>5099</th>\n",
       "      <td>None</td>\n",
       "      <td>Other</td>\n",
       "    </tr>\n",
       "    <tr>\n",
       "      <th>5107</th>\n",
       "      <td>Royce Gracie</td>\n",
       "      <td>Submission</td>\n",
       "    </tr>\n",
       "    <tr>\n",
       "      <th>5109</th>\n",
       "      <td>Royce Gracie</td>\n",
       "      <td>Submission</td>\n",
       "    </tr>\n",
       "    <tr>\n",
       "      <th>5113</th>\n",
       "      <td>Royce Gracie</td>\n",
       "      <td>Submission</td>\n",
       "    </tr>\n",
       "    <tr>\n",
       "      <th>5117</th>\n",
       "      <td>Royce Gracie</td>\n",
       "      <td>Submission</td>\n",
       "    </tr>\n",
       "    <tr>\n",
       "      <th>5121</th>\n",
       "      <td>Royce Gracie</td>\n",
       "      <td>KO/TKO</td>\n",
       "    </tr>\n",
       "    <tr>\n",
       "      <th>5122</th>\n",
       "      <td>Royce Gracie</td>\n",
       "      <td>Submission</td>\n",
       "    </tr>\n",
       "    <tr>\n",
       "      <th>5124</th>\n",
       "      <td>Royce Gracie</td>\n",
       "      <td>Submission</td>\n",
       "    </tr>\n",
       "    <tr>\n",
       "      <th>5128</th>\n",
       "      <td>Royce Gracie</td>\n",
       "      <td>Submission</td>\n",
       "    </tr>\n",
       "    <tr>\n",
       "      <th>5136</th>\n",
       "      <td>Royce Gracie</td>\n",
       "      <td>Submission</td>\n",
       "    </tr>\n",
       "    <tr>\n",
       "      <th>5138</th>\n",
       "      <td>Royce Gracie</td>\n",
       "      <td>Submission</td>\n",
       "    </tr>\n",
       "    <tr>\n",
       "      <th>5141</th>\n",
       "      <td>Royce Gracie</td>\n",
       "      <td>Submission</td>\n",
       "    </tr>\n",
       "  </tbody>\n",
       "</table>\n",
       "</div>"
      ],
      "text/plain": [
       "            Winner      win_by\n",
       "4590   Matt Hughes      KO/TKO\n",
       "5099          None       Other\n",
       "5107  Royce Gracie  Submission\n",
       "5109  Royce Gracie  Submission\n",
       "5113  Royce Gracie  Submission\n",
       "5117  Royce Gracie  Submission\n",
       "5121  Royce Gracie      KO/TKO\n",
       "5122  Royce Gracie  Submission\n",
       "5124  Royce Gracie  Submission\n",
       "5128  Royce Gracie  Submission\n",
       "5136  Royce Gracie  Submission\n",
       "5138  Royce Gracie  Submission\n",
       "5141  Royce Gracie  Submission"
      ]
     },
     "execution_count": 16,
     "metadata": {},
     "output_type": "execute_result"
    }
   ],
   "source": [
    "fights[(fights.R_fighter == 'Royce Gracie') | (fights.B_fighter == 'Royce Gracie')][['Winner', 'win_by']]"
   ]
  },
  {
   "cell_type": "code",
   "execution_count": 17,
   "metadata": {},
   "outputs": [],
   "source": [
    "rg = fights[(fights.R_fighter == 'Royce Gracie') | (fights.B_fighter == 'Royce Gracie')]"
   ]
  },
  {
   "cell_type": "code",
   "execution_count": 18,
   "metadata": {},
   "outputs": [
    {
     "data": {
      "text/html": [
       "<div>\n",
       "<style scoped>\n",
       "    .dataframe tbody tr th:only-of-type {\n",
       "        vertical-align: middle;\n",
       "    }\n",
       "\n",
       "    .dataframe tbody tr th {\n",
       "        vertical-align: top;\n",
       "    }\n",
       "\n",
       "    .dataframe thead th {\n",
       "        text-align: right;\n",
       "    }\n",
       "</style>\n",
       "<table border=\"1\" class=\"dataframe\">\n",
       "  <thead>\n",
       "    <tr style=\"text-align: right;\">\n",
       "      <th></th>\n",
       "      <th>R_fighter</th>\n",
       "      <th>B_fighter</th>\n",
       "      <th>R_KD</th>\n",
       "      <th>B_KD</th>\n",
       "      <th>R_SIG_STR.</th>\n",
       "      <th>B_SIG_STR.</th>\n",
       "      <th>R_SIG_STR_pct</th>\n",
       "      <th>B_SIG_STR_pct</th>\n",
       "      <th>R_TOTAL_STR.</th>\n",
       "      <th>B_TOTAL_STR.</th>\n",
       "      <th>...</th>\n",
       "      <th>win_by</th>\n",
       "      <th>last_round</th>\n",
       "      <th>last_round_time</th>\n",
       "      <th>Format</th>\n",
       "      <th>Referee</th>\n",
       "      <th>date</th>\n",
       "      <th>location</th>\n",
       "      <th>Fight_type</th>\n",
       "      <th>Winner</th>\n",
       "      <th>loser</th>\n",
       "    </tr>\n",
       "  </thead>\n",
       "  <tbody>\n",
       "    <tr>\n",
       "      <th>4590</th>\n",
       "      <td>Matt Hughes</td>\n",
       "      <td>Royce Gracie</td>\n",
       "      <td>0</td>\n",
       "      <td>0</td>\n",
       "      <td>32 of 40</td>\n",
       "      <td>7 of 11</td>\n",
       "      <td>80%</td>\n",
       "      <td>63%</td>\n",
       "      <td>33 of 41</td>\n",
       "      <td>14 of 18</td>\n",
       "      <td>...</td>\n",
       "      <td>KO/TKO</td>\n",
       "      <td>1</td>\n",
       "      <td>4:39</td>\n",
       "      <td>3 Rnd (5-5-5)</td>\n",
       "      <td>John McCarthy</td>\n",
       "      <td>May 27, 2006</td>\n",
       "      <td>Los Angeles, California, USA</td>\n",
       "      <td>Catch Weight Bout</td>\n",
       "      <td>Matt Hughes</td>\n",
       "      <td>Royce Gracie</td>\n",
       "    </tr>\n",
       "    <tr>\n",
       "      <th>5099</th>\n",
       "      <td>Ken Shamrock</td>\n",
       "      <td>Royce Gracie</td>\n",
       "      <td>0</td>\n",
       "      <td>0</td>\n",
       "      <td>10 of 22</td>\n",
       "      <td>3 of 12</td>\n",
       "      <td>45%</td>\n",
       "      <td>25%</td>\n",
       "      <td>98 of 123</td>\n",
       "      <td>355 of 366</td>\n",
       "      <td>...</td>\n",
       "      <td>Other</td>\n",
       "      <td>2</td>\n",
       "      <td>5:00</td>\n",
       "      <td>1 Rnd + OT (31-5)</td>\n",
       "      <td>John McCarthy</td>\n",
       "      <td>April 07, 1995</td>\n",
       "      <td>Charlotte, North Carolina, USA</td>\n",
       "      <td>UFC Superfight Championship Bout</td>\n",
       "      <td>None</td>\n",
       "      <td>None</td>\n",
       "    </tr>\n",
       "    <tr>\n",
       "      <th>5107</th>\n",
       "      <td>Royce Gracie</td>\n",
       "      <td>Dan Severn</td>\n",
       "      <td>0</td>\n",
       "      <td>0</td>\n",
       "      <td>0 of 4</td>\n",
       "      <td>4 of 7</td>\n",
       "      <td>0%</td>\n",
       "      <td>57%</td>\n",
       "      <td>80 of 84</td>\n",
       "      <td>27 of 43</td>\n",
       "      <td>...</td>\n",
       "      <td>Submission</td>\n",
       "      <td>1</td>\n",
       "      <td>15:49</td>\n",
       "      <td>No Time Limit</td>\n",
       "      <td>John McCarthy</td>\n",
       "      <td>December 16, 1994</td>\n",
       "      <td>Tulsa, Oklahoma, USA</td>\n",
       "      <td>UFC 4 Tournament Title Bout</td>\n",
       "      <td>Royce Gracie</td>\n",
       "      <td>Dan Severn</td>\n",
       "    </tr>\n",
       "    <tr>\n",
       "      <th>5109</th>\n",
       "      <td>Royce Gracie</td>\n",
       "      <td>Keith Hackney</td>\n",
       "      <td>0</td>\n",
       "      <td>0</td>\n",
       "      <td>11 of 23</td>\n",
       "      <td>4 of 13</td>\n",
       "      <td>47%</td>\n",
       "      <td>30%</td>\n",
       "      <td>45 of 58</td>\n",
       "      <td>7 of 16</td>\n",
       "      <td>...</td>\n",
       "      <td>Submission</td>\n",
       "      <td>1</td>\n",
       "      <td>5:32</td>\n",
       "      <td>No Time Limit</td>\n",
       "      <td>John McCarthy</td>\n",
       "      <td>December 16, 1994</td>\n",
       "      <td>Tulsa, Oklahoma, USA</td>\n",
       "      <td>Open Weight Bout</td>\n",
       "      <td>Royce Gracie</td>\n",
       "      <td>Keith Hackney</td>\n",
       "    </tr>\n",
       "    <tr>\n",
       "      <th>5113</th>\n",
       "      <td>Royce Gracie</td>\n",
       "      <td>Ron van Clief</td>\n",
       "      <td>0</td>\n",
       "      <td>0</td>\n",
       "      <td>7 of 11</td>\n",
       "      <td>0 of 2</td>\n",
       "      <td>63%</td>\n",
       "      <td>0%</td>\n",
       "      <td>27 of 31</td>\n",
       "      <td>0 of 2</td>\n",
       "      <td>...</td>\n",
       "      <td>Submission</td>\n",
       "      <td>1</td>\n",
       "      <td>3:49</td>\n",
       "      <td>No Time Limit</td>\n",
       "      <td>John McCarthy</td>\n",
       "      <td>December 16, 1994</td>\n",
       "      <td>Tulsa, Oklahoma, USA</td>\n",
       "      <td>Open Weight Bout</td>\n",
       "      <td>Royce Gracie</td>\n",
       "      <td>Ron van Clief</td>\n",
       "    </tr>\n",
       "    <tr>\n",
       "      <th>5117</th>\n",
       "      <td>Royce Gracie</td>\n",
       "      <td>Kimo Leopoldo</td>\n",
       "      <td>0</td>\n",
       "      <td>0</td>\n",
       "      <td>2 of 6</td>\n",
       "      <td>6 of 9</td>\n",
       "      <td>33%</td>\n",
       "      <td>66%</td>\n",
       "      <td>17 of 21</td>\n",
       "      <td>6 of 10</td>\n",
       "      <td>...</td>\n",
       "      <td>Submission</td>\n",
       "      <td>1</td>\n",
       "      <td>4:40</td>\n",
       "      <td>No Time Limit</td>\n",
       "      <td>John McCarthy</td>\n",
       "      <td>September 09, 1994</td>\n",
       "      <td>Charlotte, North Carolina, USA</td>\n",
       "      <td>Open Weight Bout</td>\n",
       "      <td>Royce Gracie</td>\n",
       "      <td>Kimo Leopoldo</td>\n",
       "    </tr>\n",
       "    <tr>\n",
       "      <th>5121</th>\n",
       "      <td>Royce Gracie</td>\n",
       "      <td>Patrick Smith</td>\n",
       "      <td>0</td>\n",
       "      <td>0</td>\n",
       "      <td>4 of 4</td>\n",
       "      <td>1 of 2</td>\n",
       "      <td>100%</td>\n",
       "      <td>50%</td>\n",
       "      <td>11 of 11</td>\n",
       "      <td>2 of 3</td>\n",
       "      <td>...</td>\n",
       "      <td>KO/TKO</td>\n",
       "      <td>1</td>\n",
       "      <td>1:17</td>\n",
       "      <td>No Time Limit</td>\n",
       "      <td>John McCarthy</td>\n",
       "      <td>March 11, 1994</td>\n",
       "      <td>Denver, Colorado, USA</td>\n",
       "      <td>UFC 2 Tournament Title Bout</td>\n",
       "      <td>Royce Gracie</td>\n",
       "      <td>Patrick Smith</td>\n",
       "    </tr>\n",
       "    <tr>\n",
       "      <th>5122</th>\n",
       "      <td>Royce Gracie</td>\n",
       "      <td>Remco Pardoel</td>\n",
       "      <td>0</td>\n",
       "      <td>0</td>\n",
       "      <td>0 of 0</td>\n",
       "      <td>0 of 0</td>\n",
       "      <td>0%</td>\n",
       "      <td>0%</td>\n",
       "      <td>0 of 0</td>\n",
       "      <td>0 of 0</td>\n",
       "      <td>...</td>\n",
       "      <td>Submission</td>\n",
       "      <td>1</td>\n",
       "      <td>1:31</td>\n",
       "      <td>No Time Limit</td>\n",
       "      <td>John McCarthy</td>\n",
       "      <td>March 11, 1994</td>\n",
       "      <td>Denver, Colorado, USA</td>\n",
       "      <td>Open Weight Bout</td>\n",
       "      <td>Royce Gracie</td>\n",
       "      <td>Remco Pardoel</td>\n",
       "    </tr>\n",
       "    <tr>\n",
       "      <th>5124</th>\n",
       "      <td>Royce Gracie</td>\n",
       "      <td>Jason DeLucia</td>\n",
       "      <td>0</td>\n",
       "      <td>0</td>\n",
       "      <td>0 of 0</td>\n",
       "      <td>0 of 0</td>\n",
       "      <td>0%</td>\n",
       "      <td>0%</td>\n",
       "      <td>0 of 0</td>\n",
       "      <td>0 of 0</td>\n",
       "      <td>...</td>\n",
       "      <td>Submission</td>\n",
       "      <td>1</td>\n",
       "      <td>1:07</td>\n",
       "      <td>No Time Limit</td>\n",
       "      <td>John McCarthy</td>\n",
       "      <td>March 11, 1994</td>\n",
       "      <td>Denver, Colorado, USA</td>\n",
       "      <td>Open Weight Bout</td>\n",
       "      <td>Royce Gracie</td>\n",
       "      <td>Jason DeLucia</td>\n",
       "    </tr>\n",
       "    <tr>\n",
       "      <th>5128</th>\n",
       "      <td>Royce Gracie</td>\n",
       "      <td>Minoki Ichihara</td>\n",
       "      <td>0</td>\n",
       "      <td>0</td>\n",
       "      <td>2 of 4</td>\n",
       "      <td>3 of 7</td>\n",
       "      <td>50%</td>\n",
       "      <td>42%</td>\n",
       "      <td>110 of 114</td>\n",
       "      <td>12 of 16</td>\n",
       "      <td>...</td>\n",
       "      <td>Submission</td>\n",
       "      <td>1</td>\n",
       "      <td>5:08</td>\n",
       "      <td>No Time Limit</td>\n",
       "      <td>John McCarthy</td>\n",
       "      <td>March 11, 1994</td>\n",
       "      <td>Denver, Colorado, USA</td>\n",
       "      <td>Open Weight Bout</td>\n",
       "      <td>Royce Gracie</td>\n",
       "      <td>Minoki Ichihara</td>\n",
       "    </tr>\n",
       "    <tr>\n",
       "      <th>5136</th>\n",
       "      <td>Royce Gracie</td>\n",
       "      <td>Gerard Gordeau</td>\n",
       "      <td>0</td>\n",
       "      <td>0</td>\n",
       "      <td>1 of 2</td>\n",
       "      <td>0 of 0</td>\n",
       "      <td>50%</td>\n",
       "      <td>0%</td>\n",
       "      <td>3 of 4</td>\n",
       "      <td>0 of 0</td>\n",
       "      <td>...</td>\n",
       "      <td>Submission</td>\n",
       "      <td>1</td>\n",
       "      <td>1:44</td>\n",
       "      <td>No Time Limit</td>\n",
       "      <td>Joao Alberto Barreto</td>\n",
       "      <td>November 12, 1993</td>\n",
       "      <td>Denver, Colorado, USA</td>\n",
       "      <td>UFC 1 Tournament Title Bout</td>\n",
       "      <td>Royce Gracie</td>\n",
       "      <td>Gerard Gordeau</td>\n",
       "    </tr>\n",
       "    <tr>\n",
       "      <th>5138</th>\n",
       "      <td>Royce Gracie</td>\n",
       "      <td>Ken Shamrock</td>\n",
       "      <td>0</td>\n",
       "      <td>0</td>\n",
       "      <td>0 of 0</td>\n",
       "      <td>0 of 0</td>\n",
       "      <td>0%</td>\n",
       "      <td>0%</td>\n",
       "      <td>12 of 12</td>\n",
       "      <td>0 of 0</td>\n",
       "      <td>...</td>\n",
       "      <td>Submission</td>\n",
       "      <td>1</td>\n",
       "      <td>0:57</td>\n",
       "      <td>No Time Limit</td>\n",
       "      <td>Joao Alberto Barreto</td>\n",
       "      <td>November 12, 1993</td>\n",
       "      <td>Denver, Colorado, USA</td>\n",
       "      <td>Open Weight Bout</td>\n",
       "      <td>Royce Gracie</td>\n",
       "      <td>Ken Shamrock</td>\n",
       "    </tr>\n",
       "    <tr>\n",
       "      <th>5141</th>\n",
       "      <td>Royce Gracie</td>\n",
       "      <td>Art Jimmerson</td>\n",
       "      <td>0</td>\n",
       "      <td>0</td>\n",
       "      <td>0 of 3</td>\n",
       "      <td>0 of 0</td>\n",
       "      <td>0%</td>\n",
       "      <td>0%</td>\n",
       "      <td>4 of 7</td>\n",
       "      <td>0 of 0</td>\n",
       "      <td>...</td>\n",
       "      <td>Submission</td>\n",
       "      <td>1</td>\n",
       "      <td>2:18</td>\n",
       "      <td>No Time Limit</td>\n",
       "      <td>Joao Alberto Barreto</td>\n",
       "      <td>November 12, 1993</td>\n",
       "      <td>Denver, Colorado, USA</td>\n",
       "      <td>Open Weight Bout</td>\n",
       "      <td>Royce Gracie</td>\n",
       "      <td>Art Jimmerson</td>\n",
       "    </tr>\n",
       "  </tbody>\n",
       "</table>\n",
       "<p>13 rows × 42 columns</p>\n",
       "</div>"
      ],
      "text/plain": [
       "         R_fighter        B_fighter  R_KD  B_KD R_SIG_STR. B_SIG_STR.  \\\n",
       "4590   Matt Hughes     Royce Gracie     0     0   32 of 40    7 of 11   \n",
       "5099  Ken Shamrock     Royce Gracie     0     0   10 of 22    3 of 12   \n",
       "5107  Royce Gracie       Dan Severn     0     0     0 of 4     4 of 7   \n",
       "5109  Royce Gracie    Keith Hackney     0     0   11 of 23    4 of 13   \n",
       "5113  Royce Gracie    Ron van Clief     0     0    7 of 11     0 of 2   \n",
       "5117  Royce Gracie    Kimo Leopoldo     0     0     2 of 6     6 of 9   \n",
       "5121  Royce Gracie    Patrick Smith     0     0     4 of 4     1 of 2   \n",
       "5122  Royce Gracie    Remco Pardoel     0     0     0 of 0     0 of 0   \n",
       "5124  Royce Gracie    Jason DeLucia     0     0     0 of 0     0 of 0   \n",
       "5128  Royce Gracie  Minoki Ichihara     0     0     2 of 4     3 of 7   \n",
       "5136  Royce Gracie   Gerard Gordeau     0     0     1 of 2     0 of 0   \n",
       "5138  Royce Gracie     Ken Shamrock     0     0     0 of 0     0 of 0   \n",
       "5141  Royce Gracie    Art Jimmerson     0     0     0 of 3     0 of 0   \n",
       "\n",
       "     R_SIG_STR_pct B_SIG_STR_pct R_TOTAL_STR. B_TOTAL_STR.  ...      win_by  \\\n",
       "4590           80%           63%     33 of 41     14 of 18  ...      KO/TKO   \n",
       "5099           45%           25%    98 of 123   355 of 366  ...       Other   \n",
       "5107            0%           57%     80 of 84     27 of 43  ...  Submission   \n",
       "5109           47%           30%     45 of 58      7 of 16  ...  Submission   \n",
       "5113           63%            0%     27 of 31       0 of 2  ...  Submission   \n",
       "5117           33%           66%     17 of 21      6 of 10  ...  Submission   \n",
       "5121          100%           50%     11 of 11       2 of 3  ...      KO/TKO   \n",
       "5122            0%            0%       0 of 0       0 of 0  ...  Submission   \n",
       "5124            0%            0%       0 of 0       0 of 0  ...  Submission   \n",
       "5128           50%           42%   110 of 114     12 of 16  ...  Submission   \n",
       "5136           50%            0%       3 of 4       0 of 0  ...  Submission   \n",
       "5138            0%            0%     12 of 12       0 of 0  ...  Submission   \n",
       "5141            0%            0%       4 of 7       0 of 0  ...  Submission   \n",
       "\n",
       "     last_round last_round_time             Format               Referee  \\\n",
       "4590          1            4:39      3 Rnd (5-5-5)         John McCarthy   \n",
       "5099          2            5:00  1 Rnd + OT (31-5)         John McCarthy   \n",
       "5107          1           15:49      No Time Limit         John McCarthy   \n",
       "5109          1            5:32      No Time Limit         John McCarthy   \n",
       "5113          1            3:49      No Time Limit         John McCarthy   \n",
       "5117          1            4:40      No Time Limit         John McCarthy   \n",
       "5121          1            1:17      No Time Limit         John McCarthy   \n",
       "5122          1            1:31      No Time Limit         John McCarthy   \n",
       "5124          1            1:07      No Time Limit         John McCarthy   \n",
       "5128          1            5:08      No Time Limit         John McCarthy   \n",
       "5136          1            1:44      No Time Limit  Joao Alberto Barreto   \n",
       "5138          1            0:57      No Time Limit  Joao Alberto Barreto   \n",
       "5141          1            2:18      No Time Limit  Joao Alberto Barreto   \n",
       "\n",
       "                    date                        location  \\\n",
       "4590        May 27, 2006    Los Angeles, California, USA   \n",
       "5099      April 07, 1995  Charlotte, North Carolina, USA   \n",
       "5107   December 16, 1994            Tulsa, Oklahoma, USA   \n",
       "5109   December 16, 1994            Tulsa, Oklahoma, USA   \n",
       "5113   December 16, 1994            Tulsa, Oklahoma, USA   \n",
       "5117  September 09, 1994  Charlotte, North Carolina, USA   \n",
       "5121      March 11, 1994           Denver, Colorado, USA   \n",
       "5122      March 11, 1994           Denver, Colorado, USA   \n",
       "5124      March 11, 1994           Denver, Colorado, USA   \n",
       "5128      March 11, 1994           Denver, Colorado, USA   \n",
       "5136   November 12, 1993           Denver, Colorado, USA   \n",
       "5138   November 12, 1993           Denver, Colorado, USA   \n",
       "5141   November 12, 1993           Denver, Colorado, USA   \n",
       "\n",
       "                            Fight_type        Winner            loser  \n",
       "4590                 Catch Weight Bout   Matt Hughes     Royce Gracie  \n",
       "5099  UFC Superfight Championship Bout          None             None  \n",
       "5107       UFC 4 Tournament Title Bout  Royce Gracie       Dan Severn  \n",
       "5109                  Open Weight Bout  Royce Gracie    Keith Hackney  \n",
       "5113                  Open Weight Bout  Royce Gracie    Ron van Clief  \n",
       "5117                  Open Weight Bout  Royce Gracie    Kimo Leopoldo  \n",
       "5121       UFC 2 Tournament Title Bout  Royce Gracie    Patrick Smith  \n",
       "5122                  Open Weight Bout  Royce Gracie    Remco Pardoel  \n",
       "5124                  Open Weight Bout  Royce Gracie    Jason DeLucia  \n",
       "5128                  Open Weight Bout  Royce Gracie  Minoki Ichihara  \n",
       "5136       UFC 1 Tournament Title Bout  Royce Gracie   Gerard Gordeau  \n",
       "5138                  Open Weight Bout  Royce Gracie     Ken Shamrock  \n",
       "5141                  Open Weight Bout  Royce Gracie    Art Jimmerson  \n",
       "\n",
       "[13 rows x 42 columns]"
      ]
     },
     "execution_count": 18,
     "metadata": {},
     "output_type": "execute_result"
    }
   ],
   "source": [
    "rg"
   ]
  },
  {
   "cell_type": "code",
   "execution_count": 19,
   "metadata": {},
   "outputs": [
    {
     "data": {
      "text/html": [
       "<div>\n",
       "<style scoped>\n",
       "    .dataframe tbody tr th:only-of-type {\n",
       "        vertical-align: middle;\n",
       "    }\n",
       "\n",
       "    .dataframe tbody tr th {\n",
       "        vertical-align: top;\n",
       "    }\n",
       "\n",
       "    .dataframe thead th {\n",
       "        text-align: right;\n",
       "    }\n",
       "</style>\n",
       "<table border=\"1\" class=\"dataframe\">\n",
       "  <thead>\n",
       "    <tr style=\"text-align: right;\">\n",
       "      <th></th>\n",
       "      <th>Winner</th>\n",
       "      <th>win_by</th>\n",
       "      <th>loser</th>\n",
       "    </tr>\n",
       "  </thead>\n",
       "  <tbody>\n",
       "    <tr>\n",
       "      <th>4590</th>\n",
       "      <td>Matt Hughes</td>\n",
       "      <td>KO/TKO</td>\n",
       "      <td>Royce Gracie</td>\n",
       "    </tr>\n",
       "    <tr>\n",
       "      <th>5099</th>\n",
       "      <td>None</td>\n",
       "      <td>Other</td>\n",
       "      <td>None</td>\n",
       "    </tr>\n",
       "    <tr>\n",
       "      <th>5107</th>\n",
       "      <td>Royce Gracie</td>\n",
       "      <td>Submission</td>\n",
       "      <td>Dan Severn</td>\n",
       "    </tr>\n",
       "    <tr>\n",
       "      <th>5109</th>\n",
       "      <td>Royce Gracie</td>\n",
       "      <td>Submission</td>\n",
       "      <td>Keith Hackney</td>\n",
       "    </tr>\n",
       "    <tr>\n",
       "      <th>5113</th>\n",
       "      <td>Royce Gracie</td>\n",
       "      <td>Submission</td>\n",
       "      <td>Ron van Clief</td>\n",
       "    </tr>\n",
       "    <tr>\n",
       "      <th>5117</th>\n",
       "      <td>Royce Gracie</td>\n",
       "      <td>Submission</td>\n",
       "      <td>Kimo Leopoldo</td>\n",
       "    </tr>\n",
       "    <tr>\n",
       "      <th>5121</th>\n",
       "      <td>Royce Gracie</td>\n",
       "      <td>KO/TKO</td>\n",
       "      <td>Patrick Smith</td>\n",
       "    </tr>\n",
       "    <tr>\n",
       "      <th>5122</th>\n",
       "      <td>Royce Gracie</td>\n",
       "      <td>Submission</td>\n",
       "      <td>Remco Pardoel</td>\n",
       "    </tr>\n",
       "    <tr>\n",
       "      <th>5124</th>\n",
       "      <td>Royce Gracie</td>\n",
       "      <td>Submission</td>\n",
       "      <td>Jason DeLucia</td>\n",
       "    </tr>\n",
       "    <tr>\n",
       "      <th>5128</th>\n",
       "      <td>Royce Gracie</td>\n",
       "      <td>Submission</td>\n",
       "      <td>Minoki Ichihara</td>\n",
       "    </tr>\n",
       "    <tr>\n",
       "      <th>5136</th>\n",
       "      <td>Royce Gracie</td>\n",
       "      <td>Submission</td>\n",
       "      <td>Gerard Gordeau</td>\n",
       "    </tr>\n",
       "    <tr>\n",
       "      <th>5138</th>\n",
       "      <td>Royce Gracie</td>\n",
       "      <td>Submission</td>\n",
       "      <td>Ken Shamrock</td>\n",
       "    </tr>\n",
       "    <tr>\n",
       "      <th>5141</th>\n",
       "      <td>Royce Gracie</td>\n",
       "      <td>Submission</td>\n",
       "      <td>Art Jimmerson</td>\n",
       "    </tr>\n",
       "  </tbody>\n",
       "</table>\n",
       "</div>"
      ],
      "text/plain": [
       "            Winner      win_by            loser\n",
       "4590   Matt Hughes      KO/TKO     Royce Gracie\n",
       "5099          None       Other             None\n",
       "5107  Royce Gracie  Submission       Dan Severn\n",
       "5109  Royce Gracie  Submission    Keith Hackney\n",
       "5113  Royce Gracie  Submission    Ron van Clief\n",
       "5117  Royce Gracie  Submission    Kimo Leopoldo\n",
       "5121  Royce Gracie      KO/TKO    Patrick Smith\n",
       "5122  Royce Gracie  Submission    Remco Pardoel\n",
       "5124  Royce Gracie  Submission    Jason DeLucia\n",
       "5128  Royce Gracie  Submission  Minoki Ichihara\n",
       "5136  Royce Gracie  Submission   Gerard Gordeau\n",
       "5138  Royce Gracie  Submission     Ken Shamrock\n",
       "5141  Royce Gracie  Submission    Art Jimmerson"
      ]
     },
     "execution_count": 19,
     "metadata": {},
     "output_type": "execute_result"
    }
   ],
   "source": [
    "rg[['Winner', 'win_by', 'loser']]"
   ]
  },
  {
   "cell_type": "code",
   "execution_count": 20,
   "metadata": {},
   "outputs": [
    {
     "data": {
      "text/plain": [
       "11"
      ]
     },
     "execution_count": 20,
     "metadata": {},
     "output_type": "execute_result"
    }
   ],
   "source": [
    "(rg['Winner'] == 'Royce Gracie').sum()"
   ]
  },
  {
   "cell_type": "code",
   "execution_count": 21,
   "metadata": {},
   "outputs": [
    {
     "data": {
      "text/plain": [
       "1"
      ]
     },
     "execution_count": 21,
     "metadata": {},
     "output_type": "execute_result"
    }
   ],
   "source": [
    "((rg['Winner'] != 'Royce Gracie') & (rg['Winner'] != 'None')).sum()"
   ]
  },
  {
   "cell_type": "code",
   "execution_count": 22,
   "metadata": {},
   "outputs": [
    {
     "data": {
      "text/plain": [
       "1"
      ]
     },
     "execution_count": 22,
     "metadata": {},
     "output_type": "execute_result"
    }
   ],
   "source": [
    "(rg['loser'] == 'Royce Gracie').sum()"
   ]
  },
  {
   "cell_type": "code",
   "execution_count": 23,
   "metadata": {},
   "outputs": [],
   "source": [
    "def get_record(fighter_name, fights_df = fights):\n",
    "    return fights_df[(fights_df.R_fighter == fighter_name) | (fights_df.B_fighter == fighter_name)]"
   ]
  },
  {
   "cell_type": "code",
   "execution_count": 24,
   "metadata": {},
   "outputs": [],
   "source": [
    "def get_record_summary(fighter_name, fights_df = fights):\n",
    "    record = get_record(fighter_name, fights_df)\n",
    "    summary = {}\n",
    "    summary['wins'] = (fights_df['Winner'] == fighter_name).sum()\n",
    "    summary['losses'] = (fights_df['loser'] == fighter_name).sum()\n",
    "    summary['draws'] = (((fights_df['R_fighter'] == fighter_name) | (fights_df['B_fighter'] == fighter_name) ) & (fights_df['Winner'] == 'None')).sum()\n",
    "    summary['win loss ratio'] = summary ['wins'] / (summary['wins'] + summary['losses'])\n",
    "    \n",
    "    return summary"
   ]
  },
  {
   "cell_type": "code",
   "execution_count": 25,
   "metadata": {},
   "outputs": [
    {
     "data": {
      "text/html": [
       "<div>\n",
       "<style scoped>\n",
       "    .dataframe tbody tr th:only-of-type {\n",
       "        vertical-align: middle;\n",
       "    }\n",
       "\n",
       "    .dataframe tbody tr th {\n",
       "        vertical-align: top;\n",
       "    }\n",
       "\n",
       "    .dataframe thead th {\n",
       "        text-align: right;\n",
       "    }\n",
       "</style>\n",
       "<table border=\"1\" class=\"dataframe\">\n",
       "  <thead>\n",
       "    <tr style=\"text-align: right;\">\n",
       "      <th></th>\n",
       "      <th>Winner</th>\n",
       "      <th>win_by</th>\n",
       "    </tr>\n",
       "  </thead>\n",
       "  <tbody>\n",
       "    <tr>\n",
       "      <th>4590</th>\n",
       "      <td>Matt Hughes</td>\n",
       "      <td>KO/TKO</td>\n",
       "    </tr>\n",
       "    <tr>\n",
       "      <th>5099</th>\n",
       "      <td>None</td>\n",
       "      <td>Other</td>\n",
       "    </tr>\n",
       "    <tr>\n",
       "      <th>5107</th>\n",
       "      <td>Royce Gracie</td>\n",
       "      <td>Submission</td>\n",
       "    </tr>\n",
       "    <tr>\n",
       "      <th>5109</th>\n",
       "      <td>Royce Gracie</td>\n",
       "      <td>Submission</td>\n",
       "    </tr>\n",
       "    <tr>\n",
       "      <th>5113</th>\n",
       "      <td>Royce Gracie</td>\n",
       "      <td>Submission</td>\n",
       "    </tr>\n",
       "    <tr>\n",
       "      <th>5117</th>\n",
       "      <td>Royce Gracie</td>\n",
       "      <td>Submission</td>\n",
       "    </tr>\n",
       "    <tr>\n",
       "      <th>5121</th>\n",
       "      <td>Royce Gracie</td>\n",
       "      <td>KO/TKO</td>\n",
       "    </tr>\n",
       "    <tr>\n",
       "      <th>5122</th>\n",
       "      <td>Royce Gracie</td>\n",
       "      <td>Submission</td>\n",
       "    </tr>\n",
       "    <tr>\n",
       "      <th>5124</th>\n",
       "      <td>Royce Gracie</td>\n",
       "      <td>Submission</td>\n",
       "    </tr>\n",
       "    <tr>\n",
       "      <th>5128</th>\n",
       "      <td>Royce Gracie</td>\n",
       "      <td>Submission</td>\n",
       "    </tr>\n",
       "    <tr>\n",
       "      <th>5136</th>\n",
       "      <td>Royce Gracie</td>\n",
       "      <td>Submission</td>\n",
       "    </tr>\n",
       "    <tr>\n",
       "      <th>5138</th>\n",
       "      <td>Royce Gracie</td>\n",
       "      <td>Submission</td>\n",
       "    </tr>\n",
       "    <tr>\n",
       "      <th>5141</th>\n",
       "      <td>Royce Gracie</td>\n",
       "      <td>Submission</td>\n",
       "    </tr>\n",
       "  </tbody>\n",
       "</table>\n",
       "</div>"
      ],
      "text/plain": [
       "            Winner      win_by\n",
       "4590   Matt Hughes      KO/TKO\n",
       "5099          None       Other\n",
       "5107  Royce Gracie  Submission\n",
       "5109  Royce Gracie  Submission\n",
       "5113  Royce Gracie  Submission\n",
       "5117  Royce Gracie  Submission\n",
       "5121  Royce Gracie      KO/TKO\n",
       "5122  Royce Gracie  Submission\n",
       "5124  Royce Gracie  Submission\n",
       "5128  Royce Gracie  Submission\n",
       "5136  Royce Gracie  Submission\n",
       "5138  Royce Gracie  Submission\n",
       "5141  Royce Gracie  Submission"
      ]
     },
     "execution_count": 25,
     "metadata": {},
     "output_type": "execute_result"
    }
   ],
   "source": [
    "get_record('Royce Gracie')[['Winner', 'win_by']]"
   ]
  },
  {
   "cell_type": "code",
   "execution_count": 26,
   "metadata": {},
   "outputs": [
    {
     "name": "stdout",
     "output_type": "stream",
     "text": [
      "{'wins': 11, 'losses': 1, 'draws': 1, 'win loss ratio': 0.9166666666666666}\n"
     ]
    }
   ],
   "source": [
    "print(get_record_summary('Royce Gracie'))"
   ]
  },
  {
   "cell_type": "code",
   "execution_count": 27,
   "metadata": {},
   "outputs": [
    {
     "name": "stdout",
     "output_type": "stream",
     "text": [
      "{'wins': 18, 'losses': 7, 'draws': 0, 'win loss ratio': 0.72}\n"
     ]
    }
   ],
   "source": [
    "print(get_record_summary('Matt Hughes'))"
   ]
  },
  {
   "cell_type": "code",
   "execution_count": 28,
   "metadata": {},
   "outputs": [
    {
     "data": {
      "text/html": [
       "<div>\n",
       "<style scoped>\n",
       "    .dataframe tbody tr th:only-of-type {\n",
       "        vertical-align: middle;\n",
       "    }\n",
       "\n",
       "    .dataframe tbody tr th {\n",
       "        vertical-align: top;\n",
       "    }\n",
       "\n",
       "    .dataframe thead th {\n",
       "        text-align: right;\n",
       "    }\n",
       "</style>\n",
       "<table border=\"1\" class=\"dataframe\">\n",
       "  <thead>\n",
       "    <tr style=\"text-align: right;\">\n",
       "      <th></th>\n",
       "      <th>Winner</th>\n",
       "      <th>loser</th>\n",
       "      <th>win_by</th>\n",
       "    </tr>\n",
       "  </thead>\n",
       "  <tbody>\n",
       "    <tr>\n",
       "      <th>3441</th>\n",
       "      <td>Josh Koscheck</td>\n",
       "      <td>Matt Hughes</td>\n",
       "      <td>KO/TKO</td>\n",
       "    </tr>\n",
       "    <tr>\n",
       "      <th>3667</th>\n",
       "      <td>BJ Penn</td>\n",
       "      <td>Matt Hughes</td>\n",
       "      <td>KO/TKO</td>\n",
       "    </tr>\n",
       "    <tr>\n",
       "      <th>3742</th>\n",
       "      <td>Matt Hughes</td>\n",
       "      <td>Ricardo Almeida</td>\n",
       "      <td>Submission</td>\n",
       "    </tr>\n",
       "    <tr>\n",
       "      <th>3816</th>\n",
       "      <td>Matt Hughes</td>\n",
       "      <td>Renzo Gracie</td>\n",
       "      <td>KO/TKO</td>\n",
       "    </tr>\n",
       "    <tr>\n",
       "      <th>4029</th>\n",
       "      <td>Matt Hughes</td>\n",
       "      <td>Matt Serra</td>\n",
       "      <td>Decision - Unanimous</td>\n",
       "    </tr>\n",
       "    <tr>\n",
       "      <th>4231</th>\n",
       "      <td>Thiago Alves</td>\n",
       "      <td>Matt Hughes</td>\n",
       "      <td>KO/TKO</td>\n",
       "    </tr>\n",
       "    <tr>\n",
       "      <th>4313</th>\n",
       "      <td>Georges St-Pierre</td>\n",
       "      <td>Matt Hughes</td>\n",
       "      <td>Submission</td>\n",
       "    </tr>\n",
       "    <tr>\n",
       "      <th>4461</th>\n",
       "      <td>Matt Hughes</td>\n",
       "      <td>Chris Lytle</td>\n",
       "      <td>Decision - Unanimous</td>\n",
       "    </tr>\n",
       "    <tr>\n",
       "      <th>4502</th>\n",
       "      <td>Georges St-Pierre</td>\n",
       "      <td>Matt Hughes</td>\n",
       "      <td>KO/TKO</td>\n",
       "    </tr>\n",
       "    <tr>\n",
       "      <th>4536</th>\n",
       "      <td>Matt Hughes</td>\n",
       "      <td>BJ Penn</td>\n",
       "      <td>KO/TKO</td>\n",
       "    </tr>\n",
       "    <tr>\n",
       "      <th>4590</th>\n",
       "      <td>Matt Hughes</td>\n",
       "      <td>Royce Gracie</td>\n",
       "      <td>KO/TKO</td>\n",
       "    </tr>\n",
       "    <tr>\n",
       "      <th>4644</th>\n",
       "      <td>Matt Hughes</td>\n",
       "      <td>Joe Riggs</td>\n",
       "      <td>Submission</td>\n",
       "    </tr>\n",
       "    <tr>\n",
       "      <th>4698</th>\n",
       "      <td>Matt Hughes</td>\n",
       "      <td>Frank Trigg</td>\n",
       "      <td>Submission</td>\n",
       "    </tr>\n",
       "    <tr>\n",
       "      <th>4724</th>\n",
       "      <td>Matt Hughes</td>\n",
       "      <td>Georges St-Pierre</td>\n",
       "      <td>Submission</td>\n",
       "    </tr>\n",
       "    <tr>\n",
       "      <th>4740</th>\n",
       "      <td>Matt Hughes</td>\n",
       "      <td>Renato Verissimo</td>\n",
       "      <td>Decision - Unanimous</td>\n",
       "    </tr>\n",
       "    <tr>\n",
       "      <th>4755</th>\n",
       "      <td>BJ Penn</td>\n",
       "      <td>Matt Hughes</td>\n",
       "      <td>Submission</td>\n",
       "    </tr>\n",
       "    <tr>\n",
       "      <th>4761</th>\n",
       "      <td>Matt Hughes</td>\n",
       "      <td>Frank Trigg</td>\n",
       "      <td>Submission</td>\n",
       "    </tr>\n",
       "    <tr>\n",
       "      <th>4786</th>\n",
       "      <td>Matt Hughes</td>\n",
       "      <td>Sean Sherk</td>\n",
       "      <td>Decision - Unanimous</td>\n",
       "    </tr>\n",
       "    <tr>\n",
       "      <th>4804</th>\n",
       "      <td>Matt Hughes</td>\n",
       "      <td>Gil Castillo</td>\n",
       "      <td>TKO - Doctor's Stoppage</td>\n",
       "    </tr>\n",
       "    <tr>\n",
       "      <th>4818</th>\n",
       "      <td>Matt Hughes</td>\n",
       "      <td>Carlos Newton</td>\n",
       "      <td>KO/TKO</td>\n",
       "    </tr>\n",
       "    <tr>\n",
       "      <th>4841</th>\n",
       "      <td>Matt Hughes</td>\n",
       "      <td>Hayato Sakurai</td>\n",
       "      <td>KO/TKO</td>\n",
       "    </tr>\n",
       "    <tr>\n",
       "      <th>4857</th>\n",
       "      <td>Matt Hughes</td>\n",
       "      <td>Carlos Newton</td>\n",
       "      <td>KO/TKO</td>\n",
       "    </tr>\n",
       "    <tr>\n",
       "      <th>4900</th>\n",
       "      <td>Dennis Hallman</td>\n",
       "      <td>Matt Hughes</td>\n",
       "      <td>Submission</td>\n",
       "    </tr>\n",
       "    <tr>\n",
       "      <th>4921</th>\n",
       "      <td>Matt Hughes</td>\n",
       "      <td>Marcelo Aguiar</td>\n",
       "      <td>TKO - Doctor's Stoppage</td>\n",
       "    </tr>\n",
       "    <tr>\n",
       "      <th>4948</th>\n",
       "      <td>Matt Hughes</td>\n",
       "      <td>Valeri Ignatov</td>\n",
       "      <td>Decision - Unanimous</td>\n",
       "    </tr>\n",
       "  </tbody>\n",
       "</table>\n",
       "</div>"
      ],
      "text/plain": [
       "                 Winner              loser                   win_by\n",
       "3441      Josh Koscheck        Matt Hughes                   KO/TKO\n",
       "3667            BJ Penn        Matt Hughes                   KO/TKO\n",
       "3742        Matt Hughes    Ricardo Almeida               Submission\n",
       "3816        Matt Hughes       Renzo Gracie                   KO/TKO\n",
       "4029        Matt Hughes         Matt Serra     Decision - Unanimous\n",
       "4231       Thiago Alves        Matt Hughes                   KO/TKO\n",
       "4313  Georges St-Pierre        Matt Hughes               Submission\n",
       "4461        Matt Hughes        Chris Lytle     Decision - Unanimous\n",
       "4502  Georges St-Pierre        Matt Hughes                   KO/TKO\n",
       "4536        Matt Hughes            BJ Penn                   KO/TKO\n",
       "4590        Matt Hughes       Royce Gracie                   KO/TKO\n",
       "4644        Matt Hughes          Joe Riggs               Submission\n",
       "4698        Matt Hughes        Frank Trigg               Submission\n",
       "4724        Matt Hughes  Georges St-Pierre               Submission\n",
       "4740        Matt Hughes   Renato Verissimo     Decision - Unanimous\n",
       "4755            BJ Penn        Matt Hughes               Submission\n",
       "4761        Matt Hughes        Frank Trigg               Submission\n",
       "4786        Matt Hughes         Sean Sherk     Decision - Unanimous\n",
       "4804        Matt Hughes       Gil Castillo  TKO - Doctor's Stoppage\n",
       "4818        Matt Hughes      Carlos Newton                   KO/TKO\n",
       "4841        Matt Hughes     Hayato Sakurai                   KO/TKO\n",
       "4857        Matt Hughes      Carlos Newton                   KO/TKO\n",
       "4900     Dennis Hallman        Matt Hughes               Submission\n",
       "4921        Matt Hughes     Marcelo Aguiar  TKO - Doctor's Stoppage\n",
       "4948        Matt Hughes     Valeri Ignatov     Decision - Unanimous"
      ]
     },
     "execution_count": 28,
     "metadata": {},
     "output_type": "execute_result"
    }
   ],
   "source": [
    "get_record('Matt Hughes')[['Winner', 'loser', 'win_by']]"
   ]
  },
  {
   "cell_type": "code",
   "execution_count": 29,
   "metadata": {},
   "outputs": [
    {
     "data": {
      "text/plain": [
       "'Marlon Moraes'"
      ]
     },
     "execution_count": 29,
     "metadata": {},
     "output_type": "execute_result"
    }
   ],
   "source": [
    "find_loser(fights.iloc[0])"
   ]
  },
  {
   "cell_type": "code",
   "execution_count": 30,
   "metadata": {},
   "outputs": [
    {
     "data": {
      "text/html": [
       "<div>\n",
       "<style scoped>\n",
       "    .dataframe tbody tr th:only-of-type {\n",
       "        vertical-align: middle;\n",
       "    }\n",
       "\n",
       "    .dataframe tbody tr th {\n",
       "        vertical-align: top;\n",
       "    }\n",
       "\n",
       "    .dataframe thead th {\n",
       "        text-align: right;\n",
       "    }\n",
       "</style>\n",
       "<table border=\"1\" class=\"dataframe\">\n",
       "  <thead>\n",
       "    <tr style=\"text-align: right;\">\n",
       "      <th></th>\n",
       "      <th>R_fighter</th>\n",
       "      <th>B_fighter</th>\n",
       "      <th>Winner</th>\n",
       "    </tr>\n",
       "  </thead>\n",
       "  <tbody>\n",
       "    <tr>\n",
       "      <th>0</th>\n",
       "      <td>Henry Cejudo</td>\n",
       "      <td>Marlon Moraes</td>\n",
       "      <td>Henry Cejudo</td>\n",
       "    </tr>\n",
       "    <tr>\n",
       "      <th>1</th>\n",
       "      <td>Valentina Shevchenko</td>\n",
       "      <td>Jessica Eye</td>\n",
       "      <td>Valentina Shevchenko</td>\n",
       "    </tr>\n",
       "    <tr>\n",
       "      <th>2</th>\n",
       "      <td>Tony Ferguson</td>\n",
       "      <td>Donald Cerrone</td>\n",
       "      <td>Tony Ferguson</td>\n",
       "    </tr>\n",
       "    <tr>\n",
       "      <th>3</th>\n",
       "      <td>Jimmie Rivera</td>\n",
       "      <td>Petr Yan</td>\n",
       "      <td>Petr Yan</td>\n",
       "    </tr>\n",
       "    <tr>\n",
       "      <th>4</th>\n",
       "      <td>Tai Tuivasa</td>\n",
       "      <td>Blagoy Ivanov</td>\n",
       "      <td>Blagoy Ivanov</td>\n",
       "    </tr>\n",
       "  </tbody>\n",
       "</table>\n",
       "</div>"
      ],
      "text/plain": [
       "              R_fighter       B_fighter                Winner\n",
       "0          Henry Cejudo   Marlon Moraes          Henry Cejudo\n",
       "1  Valentina Shevchenko     Jessica Eye  Valentina Shevchenko\n",
       "2         Tony Ferguson  Donald Cerrone         Tony Ferguson\n",
       "3         Jimmie Rivera        Petr Yan              Petr Yan\n",
       "4           Tai Tuivasa   Blagoy Ivanov         Blagoy Ivanov"
      ]
     },
     "execution_count": 30,
     "metadata": {},
     "output_type": "execute_result"
    }
   ],
   "source": [
    "fights.head()[['R_fighter', 'B_fighter', 'Winner']]"
   ]
  },
  {
   "cell_type": "code",
   "execution_count": 31,
   "metadata": {},
   "outputs": [
    {
     "name": "stdout",
     "output_type": "stream",
     "text": [
      "Marlon Moraes\n",
      "Jessica Eye\n",
      "Donald Cerrone\n",
      "Jimmie Rivera\n",
      "Tai Tuivasa\n"
     ]
    }
   ],
   "source": [
    "for i in range(5):\n",
    "    print(find_loser(fights.iloc[i]))"
   ]
  },
  {
   "cell_type": "code",
   "execution_count": 32,
   "metadata": {},
   "outputs": [
    {
     "data": {
      "text/html": [
       "<div>\n",
       "<style scoped>\n",
       "    .dataframe tbody tr th:only-of-type {\n",
       "        vertical-align: middle;\n",
       "    }\n",
       "\n",
       "    .dataframe tbody tr th {\n",
       "        vertical-align: top;\n",
       "    }\n",
       "\n",
       "    .dataframe thead th {\n",
       "        text-align: right;\n",
       "    }\n",
       "</style>\n",
       "<table border=\"1\" class=\"dataframe\">\n",
       "  <thead>\n",
       "    <tr style=\"text-align: right;\">\n",
       "      <th></th>\n",
       "      <th>R_fighter</th>\n",
       "      <th>B_fighter</th>\n",
       "      <th>Winner</th>\n",
       "      <th>loser</th>\n",
       "    </tr>\n",
       "  </thead>\n",
       "  <tbody>\n",
       "    <tr>\n",
       "      <th>0</th>\n",
       "      <td>Henry Cejudo</td>\n",
       "      <td>Marlon Moraes</td>\n",
       "      <td>Henry Cejudo</td>\n",
       "      <td>Marlon Moraes</td>\n",
       "    </tr>\n",
       "    <tr>\n",
       "      <th>1</th>\n",
       "      <td>Valentina Shevchenko</td>\n",
       "      <td>Jessica Eye</td>\n",
       "      <td>Valentina Shevchenko</td>\n",
       "      <td>Jessica Eye</td>\n",
       "    </tr>\n",
       "    <tr>\n",
       "      <th>2</th>\n",
       "      <td>Tony Ferguson</td>\n",
       "      <td>Donald Cerrone</td>\n",
       "      <td>Tony Ferguson</td>\n",
       "      <td>Donald Cerrone</td>\n",
       "    </tr>\n",
       "    <tr>\n",
       "      <th>3</th>\n",
       "      <td>Jimmie Rivera</td>\n",
       "      <td>Petr Yan</td>\n",
       "      <td>Petr Yan</td>\n",
       "      <td>Jimmie Rivera</td>\n",
       "    </tr>\n",
       "    <tr>\n",
       "      <th>4</th>\n",
       "      <td>Tai Tuivasa</td>\n",
       "      <td>Blagoy Ivanov</td>\n",
       "      <td>Blagoy Ivanov</td>\n",
       "      <td>Tai Tuivasa</td>\n",
       "    </tr>\n",
       "  </tbody>\n",
       "</table>\n",
       "</div>"
      ],
      "text/plain": [
       "              R_fighter       B_fighter                Winner           loser\n",
       "0          Henry Cejudo   Marlon Moraes          Henry Cejudo   Marlon Moraes\n",
       "1  Valentina Shevchenko     Jessica Eye  Valentina Shevchenko     Jessica Eye\n",
       "2         Tony Ferguson  Donald Cerrone         Tony Ferguson  Donald Cerrone\n",
       "3         Jimmie Rivera        Petr Yan              Petr Yan   Jimmie Rivera\n",
       "4           Tai Tuivasa   Blagoy Ivanov         Blagoy Ivanov     Tai Tuivasa"
      ]
     },
     "execution_count": 32,
     "metadata": {},
     "output_type": "execute_result"
    }
   ],
   "source": [
    "fights.head()[['R_fighter', 'B_fighter', 'Winner', 'loser']]"
   ]
  },
  {
   "cell_type": "code",
   "execution_count": 33,
   "metadata": {},
   "outputs": [
    {
     "data": {
      "text/html": [
       "<div>\n",
       "<style scoped>\n",
       "    .dataframe tbody tr th:only-of-type {\n",
       "        vertical-align: middle;\n",
       "    }\n",
       "\n",
       "    .dataframe tbody tr th {\n",
       "        vertical-align: top;\n",
       "    }\n",
       "\n",
       "    .dataframe thead th {\n",
       "        text-align: right;\n",
       "    }\n",
       "</style>\n",
       "<table border=\"1\" class=\"dataframe\">\n",
       "  <thead>\n",
       "    <tr style=\"text-align: right;\">\n",
       "      <th></th>\n",
       "      <th>Winner</th>\n",
       "      <th>win_by</th>\n",
       "      <th>loser</th>\n",
       "    </tr>\n",
       "  </thead>\n",
       "  <tbody>\n",
       "    <tr>\n",
       "      <th>3441</th>\n",
       "      <td>Josh Koscheck</td>\n",
       "      <td>KO/TKO</td>\n",
       "      <td>Matt Hughes</td>\n",
       "    </tr>\n",
       "    <tr>\n",
       "      <th>3667</th>\n",
       "      <td>BJ Penn</td>\n",
       "      <td>KO/TKO</td>\n",
       "      <td>Matt Hughes</td>\n",
       "    </tr>\n",
       "    <tr>\n",
       "      <th>3742</th>\n",
       "      <td>Matt Hughes</td>\n",
       "      <td>Submission</td>\n",
       "      <td>Ricardo Almeida</td>\n",
       "    </tr>\n",
       "    <tr>\n",
       "      <th>3816</th>\n",
       "      <td>Matt Hughes</td>\n",
       "      <td>KO/TKO</td>\n",
       "      <td>Renzo Gracie</td>\n",
       "    </tr>\n",
       "    <tr>\n",
       "      <th>4029</th>\n",
       "      <td>Matt Hughes</td>\n",
       "      <td>Decision - Unanimous</td>\n",
       "      <td>Matt Serra</td>\n",
       "    </tr>\n",
       "    <tr>\n",
       "      <th>4231</th>\n",
       "      <td>Thiago Alves</td>\n",
       "      <td>KO/TKO</td>\n",
       "      <td>Matt Hughes</td>\n",
       "    </tr>\n",
       "    <tr>\n",
       "      <th>4313</th>\n",
       "      <td>Georges St-Pierre</td>\n",
       "      <td>Submission</td>\n",
       "      <td>Matt Hughes</td>\n",
       "    </tr>\n",
       "    <tr>\n",
       "      <th>4461</th>\n",
       "      <td>Matt Hughes</td>\n",
       "      <td>Decision - Unanimous</td>\n",
       "      <td>Chris Lytle</td>\n",
       "    </tr>\n",
       "    <tr>\n",
       "      <th>4502</th>\n",
       "      <td>Georges St-Pierre</td>\n",
       "      <td>KO/TKO</td>\n",
       "      <td>Matt Hughes</td>\n",
       "    </tr>\n",
       "    <tr>\n",
       "      <th>4536</th>\n",
       "      <td>Matt Hughes</td>\n",
       "      <td>KO/TKO</td>\n",
       "      <td>BJ Penn</td>\n",
       "    </tr>\n",
       "    <tr>\n",
       "      <th>4590</th>\n",
       "      <td>Matt Hughes</td>\n",
       "      <td>KO/TKO</td>\n",
       "      <td>Royce Gracie</td>\n",
       "    </tr>\n",
       "    <tr>\n",
       "      <th>4644</th>\n",
       "      <td>Matt Hughes</td>\n",
       "      <td>Submission</td>\n",
       "      <td>Joe Riggs</td>\n",
       "    </tr>\n",
       "    <tr>\n",
       "      <th>4698</th>\n",
       "      <td>Matt Hughes</td>\n",
       "      <td>Submission</td>\n",
       "      <td>Frank Trigg</td>\n",
       "    </tr>\n",
       "    <tr>\n",
       "      <th>4724</th>\n",
       "      <td>Matt Hughes</td>\n",
       "      <td>Submission</td>\n",
       "      <td>Georges St-Pierre</td>\n",
       "    </tr>\n",
       "    <tr>\n",
       "      <th>4740</th>\n",
       "      <td>Matt Hughes</td>\n",
       "      <td>Decision - Unanimous</td>\n",
       "      <td>Renato Verissimo</td>\n",
       "    </tr>\n",
       "    <tr>\n",
       "      <th>4755</th>\n",
       "      <td>BJ Penn</td>\n",
       "      <td>Submission</td>\n",
       "      <td>Matt Hughes</td>\n",
       "    </tr>\n",
       "    <tr>\n",
       "      <th>4761</th>\n",
       "      <td>Matt Hughes</td>\n",
       "      <td>Submission</td>\n",
       "      <td>Frank Trigg</td>\n",
       "    </tr>\n",
       "    <tr>\n",
       "      <th>4786</th>\n",
       "      <td>Matt Hughes</td>\n",
       "      <td>Decision - Unanimous</td>\n",
       "      <td>Sean Sherk</td>\n",
       "    </tr>\n",
       "    <tr>\n",
       "      <th>4804</th>\n",
       "      <td>Matt Hughes</td>\n",
       "      <td>TKO - Doctor's Stoppage</td>\n",
       "      <td>Gil Castillo</td>\n",
       "    </tr>\n",
       "    <tr>\n",
       "      <th>4818</th>\n",
       "      <td>Matt Hughes</td>\n",
       "      <td>KO/TKO</td>\n",
       "      <td>Carlos Newton</td>\n",
       "    </tr>\n",
       "    <tr>\n",
       "      <th>4841</th>\n",
       "      <td>Matt Hughes</td>\n",
       "      <td>KO/TKO</td>\n",
       "      <td>Hayato Sakurai</td>\n",
       "    </tr>\n",
       "    <tr>\n",
       "      <th>4857</th>\n",
       "      <td>Matt Hughes</td>\n",
       "      <td>KO/TKO</td>\n",
       "      <td>Carlos Newton</td>\n",
       "    </tr>\n",
       "    <tr>\n",
       "      <th>4900</th>\n",
       "      <td>Dennis Hallman</td>\n",
       "      <td>Submission</td>\n",
       "      <td>Matt Hughes</td>\n",
       "    </tr>\n",
       "    <tr>\n",
       "      <th>4921</th>\n",
       "      <td>Matt Hughes</td>\n",
       "      <td>TKO - Doctor's Stoppage</td>\n",
       "      <td>Marcelo Aguiar</td>\n",
       "    </tr>\n",
       "    <tr>\n",
       "      <th>4948</th>\n",
       "      <td>Matt Hughes</td>\n",
       "      <td>Decision - Unanimous</td>\n",
       "      <td>Valeri Ignatov</td>\n",
       "    </tr>\n",
       "  </tbody>\n",
       "</table>\n",
       "</div>"
      ],
      "text/plain": [
       "                 Winner                   win_by              loser\n",
       "3441      Josh Koscheck                   KO/TKO        Matt Hughes\n",
       "3667            BJ Penn                   KO/TKO        Matt Hughes\n",
       "3742        Matt Hughes               Submission    Ricardo Almeida\n",
       "3816        Matt Hughes                   KO/TKO       Renzo Gracie\n",
       "4029        Matt Hughes     Decision - Unanimous         Matt Serra\n",
       "4231       Thiago Alves                   KO/TKO        Matt Hughes\n",
       "4313  Georges St-Pierre               Submission        Matt Hughes\n",
       "4461        Matt Hughes     Decision - Unanimous        Chris Lytle\n",
       "4502  Georges St-Pierre                   KO/TKO        Matt Hughes\n",
       "4536        Matt Hughes                   KO/TKO            BJ Penn\n",
       "4590        Matt Hughes                   KO/TKO       Royce Gracie\n",
       "4644        Matt Hughes               Submission          Joe Riggs\n",
       "4698        Matt Hughes               Submission        Frank Trigg\n",
       "4724        Matt Hughes               Submission  Georges St-Pierre\n",
       "4740        Matt Hughes     Decision - Unanimous   Renato Verissimo\n",
       "4755            BJ Penn               Submission        Matt Hughes\n",
       "4761        Matt Hughes               Submission        Frank Trigg\n",
       "4786        Matt Hughes     Decision - Unanimous         Sean Sherk\n",
       "4804        Matt Hughes  TKO - Doctor's Stoppage       Gil Castillo\n",
       "4818        Matt Hughes                   KO/TKO      Carlos Newton\n",
       "4841        Matt Hughes                   KO/TKO     Hayato Sakurai\n",
       "4857        Matt Hughes                   KO/TKO      Carlos Newton\n",
       "4900     Dennis Hallman               Submission        Matt Hughes\n",
       "4921        Matt Hughes  TKO - Doctor's Stoppage     Marcelo Aguiar\n",
       "4948        Matt Hughes     Decision - Unanimous     Valeri Ignatov"
      ]
     },
     "execution_count": 33,
     "metadata": {},
     "output_type": "execute_result"
    }
   ],
   "source": [
    "get_record('Matt Hughes')[['Winner', 'win_by', 'loser']]"
   ]
  },
  {
   "cell_type": "code",
   "execution_count": 38,
   "metadata": {},
   "outputs": [
    {
     "data": {
      "text/html": [
       "<div>\n",
       "<style scoped>\n",
       "    .dataframe tbody tr th:only-of-type {\n",
       "        vertical-align: middle;\n",
       "    }\n",
       "\n",
       "    .dataframe tbody tr th {\n",
       "        vertical-align: top;\n",
       "    }\n",
       "\n",
       "    .dataframe thead th {\n",
       "        text-align: right;\n",
       "    }\n",
       "</style>\n",
       "<table border=\"1\" class=\"dataframe\">\n",
       "  <thead>\n",
       "    <tr style=\"text-align: right;\">\n",
       "      <th></th>\n",
       "      <th>Winner</th>\n",
       "      <th>win_by</th>\n",
       "    </tr>\n",
       "  </thead>\n",
       "  <tbody>\n",
       "    <tr>\n",
       "      <th>3816</th>\n",
       "      <td>Matt Hughes</td>\n",
       "      <td>KO/TKO</td>\n",
       "    </tr>\n",
       "  </tbody>\n",
       "</table>\n",
       "</div>"
      ],
      "text/plain": [
       "           Winner  win_by\n",
       "3816  Matt Hughes  KO/TKO"
      ]
     },
     "execution_count": 38,
     "metadata": {},
     "output_type": "execute_result"
    }
   ],
   "source": [
    "get_record('Renzo Gracie')[['Winner', 'win_by']]"
   ]
  },
  {
   "cell_type": "code",
   "execution_count": 40,
   "metadata": {},
   "outputs": [
    {
     "data": {
      "text/plain": [
       "Index(['R_fighter', 'B_fighter', 'R_KD', 'B_KD', 'R_SIG_STR.', 'B_SIG_STR.',\n",
       "       'R_SIG_STR_pct', 'B_SIG_STR_pct', 'R_TOTAL_STR.', 'B_TOTAL_STR.',\n",
       "       'R_TD', 'B_TD', 'R_TD_pct', 'B_TD_pct', 'R_SUB_ATT', 'B_SUB_ATT',\n",
       "       'R_PASS', 'B_PASS', 'R_REV', 'B_REV', 'R_HEAD', 'B_HEAD', 'R_BODY',\n",
       "       'B_BODY', 'R_LEG', 'B_LEG', 'R_DISTANCE', 'B_DISTANCE', 'R_CLINCH',\n",
       "       'B_CLINCH', 'R_GROUND', 'B_GROUND', 'win_by', 'last_round',\n",
       "       'last_round_time', 'Format', 'Referee', 'date', 'location',\n",
       "       'Fight_type', 'Winner', 'loser'],\n",
       "      dtype='object')"
      ]
     },
     "execution_count": 40,
     "metadata": {},
     "output_type": "execute_result"
    }
   ],
   "source": [
    "fights.columns"
   ]
  },
  {
   "cell_type": "code",
   "execution_count": 44,
   "metadata": {},
   "outputs": [
    {
     "data": {
      "text/plain": [
       "{'R_fighter': 'r_fighter',\n",
       " 'B_fighter': 'b_fighter',\n",
       " 'R_KD': 'r_kd',\n",
       " 'B_KD': 'b_kd',\n",
       " 'R_SIG_STR.': 'r_sig_str.',\n",
       " 'B_SIG_STR.': 'b_sig_str.',\n",
       " 'R_SIG_STR_pct': 'r_sig_str_pct',\n",
       " 'B_SIG_STR_pct': 'b_sig_str_pct',\n",
       " 'R_TOTAL_STR.': 'r_total_str.',\n",
       " 'B_TOTAL_STR.': 'b_total_str.',\n",
       " 'R_TD': 'r_td',\n",
       " 'B_TD': 'b_td',\n",
       " 'R_TD_pct': 'r_td_pct',\n",
       " 'B_TD_pct': 'b_td_pct',\n",
       " 'R_SUB_ATT': 'r_sub_att',\n",
       " 'B_SUB_ATT': 'b_sub_att',\n",
       " 'R_PASS': 'r_pass',\n",
       " 'B_PASS': 'b_pass',\n",
       " 'R_REV': 'r_rev',\n",
       " 'B_REV': 'b_rev',\n",
       " 'R_HEAD': 'r_head',\n",
       " 'B_HEAD': 'b_head',\n",
       " 'R_BODY': 'r_body',\n",
       " 'B_BODY': 'b_body',\n",
       " 'R_LEG': 'r_leg',\n",
       " 'B_LEG': 'b_leg',\n",
       " 'R_DISTANCE': 'r_distance',\n",
       " 'B_DISTANCE': 'b_distance',\n",
       " 'R_CLINCH': 'r_clinch',\n",
       " 'B_CLINCH': 'b_clinch',\n",
       " 'R_GROUND': 'r_ground',\n",
       " 'B_GROUND': 'b_ground',\n",
       " 'win_by': 'win_by',\n",
       " 'last_round': 'last_round',\n",
       " 'last_round_time': 'last_round_time',\n",
       " 'Format': 'format',\n",
       " 'Referee': 'referee',\n",
       " 'date': 'date',\n",
       " 'location': 'location',\n",
       " 'Fight_type': 'fight_type',\n",
       " 'Winner': 'winner',\n",
       " 'loser': 'loser'}"
      ]
     },
     "execution_count": 44,
     "metadata": {},
     "output_type": "execute_result"
    }
   ],
   "source": [
    "col_names_map = {}\n",
    "for column in fights.columns:\n",
    "    col_names_map[column] = column.lower()\n",
    "col_names_map"
   ]
  },
  {
   "cell_type": "code",
   "execution_count": 46,
   "metadata": {},
   "outputs": [
    {
     "data": {
      "text/plain": [
       "Index(['r_fighter', 'b_fighter', 'r_kd', 'b_kd', 'r_sig_str.', 'b_sig_str.',\n",
       "       'r_sig_str_pct', 'b_sig_str_pct', 'r_total_str.', 'b_total_str.',\n",
       "       'r_td', 'b_td', 'r_td_pct', 'b_td_pct', 'r_sub_att', 'b_sub_att',\n",
       "       'r_pass', 'b_pass', 'r_rev', 'b_rev', 'r_head', 'b_head', 'r_body',\n",
       "       'b_body', 'r_leg', 'b_leg', 'r_distance', 'b_distance', 'r_clinch',\n",
       "       'b_clinch', 'r_ground', 'b_ground', 'win_by', 'last_round',\n",
       "       'last_round_time', 'format', 'referee', 'date', 'location',\n",
       "       'fight_type', 'winner', 'loser'],\n",
       "      dtype='object')"
      ]
     },
     "execution_count": 46,
     "metadata": {},
     "output_type": "execute_result"
    }
   ],
   "source": [
    "fights = fights.rename(columns=col_names_map)\n",
    "fights.columns"
   ]
  },
  {
   "cell_type": "code",
   "execution_count": 47,
   "metadata": {},
   "outputs": [
    {
     "data": {
      "text/html": [
       "<div>\n",
       "<style scoped>\n",
       "    .dataframe tbody tr th:only-of-type {\n",
       "        vertical-align: middle;\n",
       "    }\n",
       "\n",
       "    .dataframe tbody tr th {\n",
       "        vertical-align: top;\n",
       "    }\n",
       "\n",
       "    .dataframe thead th {\n",
       "        text-align: right;\n",
       "    }\n",
       "</style>\n",
       "<table border=\"1\" class=\"dataframe\">\n",
       "  <thead>\n",
       "    <tr style=\"text-align: right;\">\n",
       "      <th></th>\n",
       "      <th>r_fighter</th>\n",
       "      <th>b_fighter</th>\n",
       "      <th>winner</th>\n",
       "      <th>loser</th>\n",
       "    </tr>\n",
       "  </thead>\n",
       "  <tbody>\n",
       "    <tr>\n",
       "      <th>177</th>\n",
       "      <td>Alex Caceres</td>\n",
       "      <td>Kron Gracie</td>\n",
       "      <td>Kron Gracie</td>\n",
       "      <td>Alex Caceres</td>\n",
       "    </tr>\n",
       "    <tr>\n",
       "      <th>2818</th>\n",
       "      <td>Tim Kennedy</td>\n",
       "      <td>Roger Gracie</td>\n",
       "      <td>Tim Kennedy</td>\n",
       "      <td>Roger Gracie</td>\n",
       "    </tr>\n",
       "    <tr>\n",
       "      <th>3816</th>\n",
       "      <td>Matt Hughes</td>\n",
       "      <td>Renzo Gracie</td>\n",
       "      <td>Matt Hughes</td>\n",
       "      <td>Renzo Gracie</td>\n",
       "    </tr>\n",
       "    <tr>\n",
       "      <th>3875</th>\n",
       "      <td>Joey Beltran</td>\n",
       "      <td>Rolles Gracie</td>\n",
       "      <td>Joey Beltran</td>\n",
       "      <td>Rolles Gracie</td>\n",
       "    </tr>\n",
       "    <tr>\n",
       "      <th>4590</th>\n",
       "      <td>Matt Hughes</td>\n",
       "      <td>Royce Gracie</td>\n",
       "      <td>Matt Hughes</td>\n",
       "      <td>Royce Gracie</td>\n",
       "    </tr>\n",
       "    <tr>\n",
       "      <th>5099</th>\n",
       "      <td>Ken Shamrock</td>\n",
       "      <td>Royce Gracie</td>\n",
       "      <td>None</td>\n",
       "      <td>None</td>\n",
       "    </tr>\n",
       "    <tr>\n",
       "      <th>5107</th>\n",
       "      <td>Royce Gracie</td>\n",
       "      <td>Dan Severn</td>\n",
       "      <td>Royce Gracie</td>\n",
       "      <td>Dan Severn</td>\n",
       "    </tr>\n",
       "    <tr>\n",
       "      <th>5109</th>\n",
       "      <td>Royce Gracie</td>\n",
       "      <td>Keith Hackney</td>\n",
       "      <td>Royce Gracie</td>\n",
       "      <td>Keith Hackney</td>\n",
       "    </tr>\n",
       "    <tr>\n",
       "      <th>5113</th>\n",
       "      <td>Royce Gracie</td>\n",
       "      <td>Ron van Clief</td>\n",
       "      <td>Royce Gracie</td>\n",
       "      <td>Ron van Clief</td>\n",
       "    </tr>\n",
       "    <tr>\n",
       "      <th>5117</th>\n",
       "      <td>Royce Gracie</td>\n",
       "      <td>Kimo Leopoldo</td>\n",
       "      <td>Royce Gracie</td>\n",
       "      <td>Kimo Leopoldo</td>\n",
       "    </tr>\n",
       "    <tr>\n",
       "      <th>5121</th>\n",
       "      <td>Royce Gracie</td>\n",
       "      <td>Patrick Smith</td>\n",
       "      <td>Royce Gracie</td>\n",
       "      <td>Patrick Smith</td>\n",
       "    </tr>\n",
       "    <tr>\n",
       "      <th>5122</th>\n",
       "      <td>Royce Gracie</td>\n",
       "      <td>Remco Pardoel</td>\n",
       "      <td>Royce Gracie</td>\n",
       "      <td>Remco Pardoel</td>\n",
       "    </tr>\n",
       "    <tr>\n",
       "      <th>5124</th>\n",
       "      <td>Royce Gracie</td>\n",
       "      <td>Jason DeLucia</td>\n",
       "      <td>Royce Gracie</td>\n",
       "      <td>Jason DeLucia</td>\n",
       "    </tr>\n",
       "    <tr>\n",
       "      <th>5128</th>\n",
       "      <td>Royce Gracie</td>\n",
       "      <td>Minoki Ichihara</td>\n",
       "      <td>Royce Gracie</td>\n",
       "      <td>Minoki Ichihara</td>\n",
       "    </tr>\n",
       "    <tr>\n",
       "      <th>5136</th>\n",
       "      <td>Royce Gracie</td>\n",
       "      <td>Gerard Gordeau</td>\n",
       "      <td>Royce Gracie</td>\n",
       "      <td>Gerard Gordeau</td>\n",
       "    </tr>\n",
       "    <tr>\n",
       "      <th>5138</th>\n",
       "      <td>Royce Gracie</td>\n",
       "      <td>Ken Shamrock</td>\n",
       "      <td>Royce Gracie</td>\n",
       "      <td>Ken Shamrock</td>\n",
       "    </tr>\n",
       "    <tr>\n",
       "      <th>5141</th>\n",
       "      <td>Royce Gracie</td>\n",
       "      <td>Art Jimmerson</td>\n",
       "      <td>Royce Gracie</td>\n",
       "      <td>Art Jimmerson</td>\n",
       "    </tr>\n",
       "  </tbody>\n",
       "</table>\n",
       "</div>"
      ],
      "text/plain": [
       "         r_fighter        b_fighter        winner            loser\n",
       "177   Alex Caceres      Kron Gracie   Kron Gracie     Alex Caceres\n",
       "2818   Tim Kennedy     Roger Gracie   Tim Kennedy     Roger Gracie\n",
       "3816   Matt Hughes     Renzo Gracie   Matt Hughes     Renzo Gracie\n",
       "3875  Joey Beltran    Rolles Gracie  Joey Beltran    Rolles Gracie\n",
       "4590   Matt Hughes     Royce Gracie   Matt Hughes     Royce Gracie\n",
       "5099  Ken Shamrock     Royce Gracie          None             None\n",
       "5107  Royce Gracie       Dan Severn  Royce Gracie       Dan Severn\n",
       "5109  Royce Gracie    Keith Hackney  Royce Gracie    Keith Hackney\n",
       "5113  Royce Gracie    Ron van Clief  Royce Gracie    Ron van Clief\n",
       "5117  Royce Gracie    Kimo Leopoldo  Royce Gracie    Kimo Leopoldo\n",
       "5121  Royce Gracie    Patrick Smith  Royce Gracie    Patrick Smith\n",
       "5122  Royce Gracie    Remco Pardoel  Royce Gracie    Remco Pardoel\n",
       "5124  Royce Gracie    Jason DeLucia  Royce Gracie    Jason DeLucia\n",
       "5128  Royce Gracie  Minoki Ichihara  Royce Gracie  Minoki Ichihara\n",
       "5136  Royce Gracie   Gerard Gordeau  Royce Gracie   Gerard Gordeau\n",
       "5138  Royce Gracie     Ken Shamrock  Royce Gracie     Ken Shamrock\n",
       "5141  Royce Gracie    Art Jimmerson  Royce Gracie    Art Jimmerson"
      ]
     },
     "execution_count": 47,
     "metadata": {},
     "output_type": "execute_result"
    }
   ],
   "source": [
    "# just curious - how many fights include Gracies?\n",
    "is_gracie = fights.apply(lambda row: 'gracie' in row.r_fighter.lower() or 'gracie' in row.b_fighter.lower(), axis=1)\n",
    "fights[is_gracie][['r_fighter', 'b_fighter', 'winner', 'loser']]"
   ]
  },
  {
   "cell_type": "code",
   "execution_count": null,
   "metadata": {},
   "outputs": [],
   "source": []
  },
  {
   "cell_type": "code",
   "execution_count": null,
   "metadata": {},
   "outputs": [],
   "source": []
  },
  {
   "cell_type": "code",
   "execution_count": 48,
   "metadata": {},
   "outputs": [
    {
     "ename": "KeyError",
     "evalue": "\"['Fight_type'] not in index\"",
     "output_type": "error",
     "traceback": [
      "\u001b[1;31m---------------------------------------------------------------------------\u001b[0m",
      "\u001b[1;31mKeyError\u001b[0m                                  Traceback (most recent call last)",
      "\u001b[1;32m<ipython-input-48-41239bebd4ed>\u001b[0m in \u001b[0;36m<module>\u001b[1;34m\u001b[0m\n\u001b[1;32m----> 1\u001b[1;33m \u001b[0mfights\u001b[0m\u001b[1;33m[\u001b[0m\u001b[1;33m[\u001b[0m\u001b[1;34m'last_round'\u001b[0m\u001b[1;33m,\u001b[0m \u001b[1;34m'last_round_time'\u001b[0m\u001b[1;33m,\u001b[0m \u001b[1;34m'format'\u001b[0m\u001b[1;33m,\u001b[0m \u001b[1;34m'Fight_type'\u001b[0m\u001b[1;33m]\u001b[0m\u001b[1;33m]\u001b[0m\u001b[1;33m.\u001b[0m\u001b[0mhead\u001b[0m\u001b[1;33m(\u001b[0m\u001b[1;36m20\u001b[0m\u001b[1;33m)\u001b[0m\u001b[1;33m\u001b[0m\u001b[1;33m\u001b[0m\u001b[0m\n\u001b[0m",
      "\u001b[1;32m~\\anaconda3\\envs\\tf-gpu\\lib\\site-packages\\pandas\\core\\frame.py\u001b[0m in \u001b[0;36m__getitem__\u001b[1;34m(self, key)\u001b[0m\n\u001b[0;32m   2906\u001b[0m             \u001b[1;32mif\u001b[0m \u001b[0mis_iterator\u001b[0m\u001b[1;33m(\u001b[0m\u001b[0mkey\u001b[0m\u001b[1;33m)\u001b[0m\u001b[1;33m:\u001b[0m\u001b[1;33m\u001b[0m\u001b[1;33m\u001b[0m\u001b[0m\n\u001b[0;32m   2907\u001b[0m                 \u001b[0mkey\u001b[0m \u001b[1;33m=\u001b[0m \u001b[0mlist\u001b[0m\u001b[1;33m(\u001b[0m\u001b[0mkey\u001b[0m\u001b[1;33m)\u001b[0m\u001b[1;33m\u001b[0m\u001b[1;33m\u001b[0m\u001b[0m\n\u001b[1;32m-> 2908\u001b[1;33m             \u001b[0mindexer\u001b[0m \u001b[1;33m=\u001b[0m \u001b[0mself\u001b[0m\u001b[1;33m.\u001b[0m\u001b[0mloc\u001b[0m\u001b[1;33m.\u001b[0m\u001b[0m_get_listlike_indexer\u001b[0m\u001b[1;33m(\u001b[0m\u001b[0mkey\u001b[0m\u001b[1;33m,\u001b[0m \u001b[0maxis\u001b[0m\u001b[1;33m=\u001b[0m\u001b[1;36m1\u001b[0m\u001b[1;33m,\u001b[0m \u001b[0mraise_missing\u001b[0m\u001b[1;33m=\u001b[0m\u001b[1;32mTrue\u001b[0m\u001b[1;33m)\u001b[0m\u001b[1;33m[\u001b[0m\u001b[1;36m1\u001b[0m\u001b[1;33m]\u001b[0m\u001b[1;33m\u001b[0m\u001b[1;33m\u001b[0m\u001b[0m\n\u001b[0m\u001b[0;32m   2909\u001b[0m \u001b[1;33m\u001b[0m\u001b[0m\n\u001b[0;32m   2910\u001b[0m         \u001b[1;31m# take() does not accept boolean indexers\u001b[0m\u001b[1;33m\u001b[0m\u001b[1;33m\u001b[0m\u001b[1;33m\u001b[0m\u001b[0m\n",
      "\u001b[1;32m~\\anaconda3\\envs\\tf-gpu\\lib\\site-packages\\pandas\\core\\indexing.py\u001b[0m in \u001b[0;36m_get_listlike_indexer\u001b[1;34m(self, key, axis, raise_missing)\u001b[0m\n\u001b[0;32m   1252\u001b[0m             \u001b[0mkeyarr\u001b[0m\u001b[1;33m,\u001b[0m \u001b[0mindexer\u001b[0m\u001b[1;33m,\u001b[0m \u001b[0mnew_indexer\u001b[0m \u001b[1;33m=\u001b[0m \u001b[0max\u001b[0m\u001b[1;33m.\u001b[0m\u001b[0m_reindex_non_unique\u001b[0m\u001b[1;33m(\u001b[0m\u001b[0mkeyarr\u001b[0m\u001b[1;33m)\u001b[0m\u001b[1;33m\u001b[0m\u001b[1;33m\u001b[0m\u001b[0m\n\u001b[0;32m   1253\u001b[0m \u001b[1;33m\u001b[0m\u001b[0m\n\u001b[1;32m-> 1254\u001b[1;33m         \u001b[0mself\u001b[0m\u001b[1;33m.\u001b[0m\u001b[0m_validate_read_indexer\u001b[0m\u001b[1;33m(\u001b[0m\u001b[0mkeyarr\u001b[0m\u001b[1;33m,\u001b[0m \u001b[0mindexer\u001b[0m\u001b[1;33m,\u001b[0m \u001b[0maxis\u001b[0m\u001b[1;33m,\u001b[0m \u001b[0mraise_missing\u001b[0m\u001b[1;33m=\u001b[0m\u001b[0mraise_missing\u001b[0m\u001b[1;33m)\u001b[0m\u001b[1;33m\u001b[0m\u001b[1;33m\u001b[0m\u001b[0m\n\u001b[0m\u001b[0;32m   1255\u001b[0m         \u001b[1;32mreturn\u001b[0m \u001b[0mkeyarr\u001b[0m\u001b[1;33m,\u001b[0m \u001b[0mindexer\u001b[0m\u001b[1;33m\u001b[0m\u001b[1;33m\u001b[0m\u001b[0m\n\u001b[0;32m   1256\u001b[0m \u001b[1;33m\u001b[0m\u001b[0m\n",
      "\u001b[1;32m~\\anaconda3\\envs\\tf-gpu\\lib\\site-packages\\pandas\\core\\indexing.py\u001b[0m in \u001b[0;36m_validate_read_indexer\u001b[1;34m(self, key, indexer, axis, raise_missing)\u001b[0m\n\u001b[0;32m   1302\u001b[0m             \u001b[1;32mif\u001b[0m \u001b[0mraise_missing\u001b[0m\u001b[1;33m:\u001b[0m\u001b[1;33m\u001b[0m\u001b[1;33m\u001b[0m\u001b[0m\n\u001b[0;32m   1303\u001b[0m                 \u001b[0mnot_found\u001b[0m \u001b[1;33m=\u001b[0m \u001b[0mlist\u001b[0m\u001b[1;33m(\u001b[0m\u001b[0mset\u001b[0m\u001b[1;33m(\u001b[0m\u001b[0mkey\u001b[0m\u001b[1;33m)\u001b[0m \u001b[1;33m-\u001b[0m \u001b[0mset\u001b[0m\u001b[1;33m(\u001b[0m\u001b[0max\u001b[0m\u001b[1;33m)\u001b[0m\u001b[1;33m)\u001b[0m\u001b[1;33m\u001b[0m\u001b[1;33m\u001b[0m\u001b[0m\n\u001b[1;32m-> 1304\u001b[1;33m                 \u001b[1;32mraise\u001b[0m \u001b[0mKeyError\u001b[0m\u001b[1;33m(\u001b[0m\u001b[1;34mf\"{not_found} not in index\"\u001b[0m\u001b[1;33m)\u001b[0m\u001b[1;33m\u001b[0m\u001b[1;33m\u001b[0m\u001b[0m\n\u001b[0m\u001b[0;32m   1305\u001b[0m \u001b[1;33m\u001b[0m\u001b[0m\n\u001b[0;32m   1306\u001b[0m             \u001b[1;31m# we skip the warning on Categorical\u001b[0m\u001b[1;33m\u001b[0m\u001b[1;33m\u001b[0m\u001b[1;33m\u001b[0m\u001b[0m\n",
      "\u001b[1;31mKeyError\u001b[0m: \"['Fight_type'] not in index\""
     ]
    }
   ],
   "source": [
    "fights[['last_round', 'last_round_time', 'format', 'Fight_type']].head(20)"
   ]
  },
  {
   "cell_type": "code",
   "execution_count": null,
   "metadata": {},
   "outputs": [],
   "source": [
    "# After rerunning, there are errors caused by doing cells out of order.\n",
    "# TODO:  Fix these.  Or abandon this notebook since it was scratch work anyway."
   ]
  },
  {
   "cell_type": "code",
   "execution_count": null,
   "metadata": {},
   "outputs": [],
   "source": [
    "# Let's do some exploration of some attributes"
   ]
  },
  {
   "cell_type": "code",
   "execution_count": null,
   "metadata": {},
   "outputs": [],
   "source": [
    "fights.columns"
   ]
  },
  {
   "cell_type": "code",
   "execution_count": null,
   "metadata": {},
   "outputs": [],
   "source": [
    "sns.countplot(data=fights, x='R_KD')"
   ]
  },
  {
   "cell_type": "code",
   "execution_count": null,
   "metadata": {},
   "outputs": [],
   "source": [
    "fights.R_KD.value_counts()"
   ]
  },
  {
   "cell_type": "code",
   "execution_count": null,
   "metadata": {},
   "outputs": [],
   "source": [
    "fights.B_KD.value_counts()"
   ]
  },
  {
   "cell_type": "code",
   "execution_count": null,
   "metadata": {},
   "outputs": [],
   "source": [
    "# Is the R or B player more likely to win?\n",
    "# I forget, is one the favorite?"
   ]
  },
  {
   "cell_type": "code",
   "execution_count": null,
   "metadata": {},
   "outputs": [],
   "source": [
    "def winner_b_r(row):\n",
    "    if row['Winner'] == row.R_fighter:\n",
    "        return 'R'\n",
    "    elif row['Winner'] == row.B_fighter:\n",
    "        return 'B'\n",
    "    else:\n",
    "        return 'None'"
   ]
  },
  {
   "cell_type": "code",
   "execution_count": null,
   "metadata": {},
   "outputs": [],
   "source": [
    "fights['r_b_winner'] = fights.apply(lambda row: winner_b_r(row), axis=1)"
   ]
  },
  {
   "cell_type": "code",
   "execution_count": null,
   "metadata": {},
   "outputs": [],
   "source": [
    "fights.head()[['R_fighter', 'B_fighter', 'Winner', 'r_b_winner']]"
   ]
  },
  {
   "cell_type": "code",
   "execution_count": null,
   "metadata": {},
   "outputs": [],
   "source": [
    "sns.countplot(data=fights, x=\"r_b_winner\")"
   ]
  },
  {
   "cell_type": "code",
   "execution_count": null,
   "metadata": {},
   "outputs": [],
   "source": [
    "# looks like the R fighter usually wins.  Maybe they define it by R is the favorite, but I don't know for sure."
   ]
  },
  {
   "cell_type": "code",
   "execution_count": null,
   "metadata": {},
   "outputs": [],
   "source": [
    "# For other columns, like strikes, etc."
   ]
  },
  {
   "cell_type": "code",
   "execution_count": null,
   "metadata": {},
   "outputs": [],
   "source": [
    "sns.countplot(data=fights, x=\"R_SIG_STR.\")"
   ]
  },
  {
   "cell_type": "code",
   "execution_count": null,
   "metadata": {},
   "outputs": [],
   "source": [
    "fights['R_SIG_STR.'].head()"
   ]
  },
  {
   "cell_type": "code",
   "execution_count": null,
   "metadata": {},
   "outputs": [],
   "source": [
    "type(fights['R_SIG_STR_pct'].iloc[0])"
   ]
  },
  {
   "cell_type": "code",
   "execution_count": null,
   "metadata": {},
   "outputs": [],
   "source": [
    "# Convert X_SIG_STR_pct to a decimal 52% -> .52"
   ]
  },
  {
   "cell_type": "code",
   "execution_count": null,
   "metadata": {},
   "outputs": [],
   "source": [
    "fights.R_SIG_STR_pct = fights.R_SIG_STR_pct.str.replace('%', '').apply(lambda x: int(x))"
   ]
  },
  {
   "cell_type": "code",
   "execution_count": null,
   "metadata": {},
   "outputs": [],
   "source": [
    "sns.countplot(fights.R_SIG_STR_pct)"
   ]
  },
  {
   "cell_type": "code",
   "execution_count": null,
   "metadata": {},
   "outputs": [],
   "source": [
    "sns.countplot(data=fights, x='R_SIG_STR_pct')"
   ]
  },
  {
   "cell_type": "code",
   "execution_count": null,
   "metadata": {},
   "outputs": [],
   "source": [
    "# sns.countplot(fights.R_SIG_STR_pct) and sns.countplot(data=fights, x='R_SIG_STR_pct') are the same."
   ]
  },
  {
   "cell_type": "code",
   "execution_count": null,
   "metadata": {},
   "outputs": [],
   "source": [
    "# There is one percent value that is way higher than the others.\n",
    "fights.R_SIG_STR_pct.value_counts()"
   ]
  },
  {
   "cell_type": "code",
   "execution_count": null,
   "metadata": {},
   "outputs": [],
   "source": [
    "fights.B_SIG_STR_pct = fights.B_SIG_STR_pct.str.replace('%', '').apply(lambda x: int(x))"
   ]
  },
  {
   "cell_type": "code",
   "execution_count": null,
   "metadata": {},
   "outputs": [],
   "source": [
    "sns.countplot(fights.B_SIG_STR_pct)"
   ]
  },
  {
   "cell_type": "code",
   "execution_count": null,
   "metadata": {},
   "outputs": [],
   "source": [
    "fights.B_SIG_STR_pct.value_counts()"
   ]
  },
  {
   "cell_type": "code",
   "execution_count": null,
   "metadata": {},
   "outputs": [],
   "source": [
    "fights.B_SIG_STR_pct.head()\n",
    "#fights.b_sig_str_pct.head()"
   ]
  },
  {
   "cell_type": "code",
   "execution_count": null,
   "metadata": {},
   "outputs": [],
   "source": []
  },
  {
   "cell_type": "code",
   "execution_count": null,
   "metadata": {},
   "outputs": [],
   "source": [
    "fights.B_SIG_STR_pct.describe()"
   ]
  },
  {
   "cell_type": "code",
   "execution_count": null,
   "metadata": {},
   "outputs": [],
   "source": [
    "#50 is significantly higher for B also."
   ]
  },
  {
   "cell_type": "code",
   "execution_count": null,
   "metadata": {},
   "outputs": [],
   "source": [
    "# compare mean values of significant strikes for R and B\n",
    "print(fights.R_SIG_STR_pct.mean(), fights.B_SIG_STR_pct.mean())\n",
    "# looks like R lands more strikes"
   ]
  },
  {
   "cell_type": "code",
   "execution_count": null,
   "metadata": {},
   "outputs": [],
   "source": [
    "# This is taking too long.  I want a quick look at a lot of columns.\n",
    "# Make a list of columns I want to see, and do head(), value_counts(), describe() for each\n",
    "fights.R_SIG_STR_pct.describe()"
   ]
  },
  {
   "cell_type": "code",
   "execution_count": null,
   "metadata": {},
   "outputs": [],
   "source": [
    "# But many columns do not lend themselves to graphing and summarization.  Many are not relevant at all.\n",
    "# For example, I don't care who the referee is.  I supposed a bad ref could affect the fight, but overall I don't think it will matter.\n",
    "# Things like ref, location, and a few other variables that probably don't matter and are hard to put into a graph or an ML\n",
    "# algorithm I will ignore, at least for the time being."
   ]
  },
  {
   "cell_type": "code",
   "execution_count": null,
   "metadata": {},
   "outputs": [],
   "source": [
    "columns_of_interest = []"
   ]
  },
  {
   "cell_type": "code",
   "execution_count": null,
   "metadata": {},
   "outputs": [],
   "source": [
    "columns = set(fights.columns.copy())\n",
    "#columns"
   ]
  },
  {
   "cell_type": "code",
   "execution_count": null,
   "metadata": {},
   "outputs": [],
   "source": [
    "fights.columns"
   ]
  },
  {
   "cell_type": "code",
   "execution_count": null,
   "metadata": {},
   "outputs": [],
   "source": [
    "columns_of_interest = columns.difference(['R_fighter', 'B_fighter', 'Referee', 'date', 'location'])\n",
    "#list(columns_of_interest)"
   ]
  },
  {
   "cell_type": "code",
   "execution_count": null,
   "metadata": {},
   "outputs": [],
   "source": [
    "columns_of_interest = list(fights.columns.copy())\n",
    "columns_to_remove = ['R_fighter', 'B_fighter', 'Referee', 'date', 'location']\n",
    "for c in columns_to_remove:\n",
    "    columns_of_interest.remove(c)"
   ]
  },
  {
   "cell_type": "code",
   "execution_count": null,
   "metadata": {},
   "outputs": [],
   "source": [
    "fights[columns_of_interest].head()"
   ]
  },
  {
   "cell_type": "code",
   "execution_count": null,
   "metadata": {},
   "outputs": [],
   "source": [
    "# Another issue - some columns are things like \"90 of 171.\"  I want numeric data.\n",
    "# => convert each of those into three columns - 90, 171, and 90/171 = .526.  Ok, it already has a percent for X_SIG_STR."
   ]
  },
  {
   "cell_type": "code",
   "execution_count": null,
   "metadata": {},
   "outputs": [],
   "source": []
  },
  {
   "cell_type": "code",
   "execution_count": null,
   "metadata": {},
   "outputs": [],
   "source": [
    "fights.head()"
   ]
  },
  {
   "cell_type": "code",
   "execution_count": null,
   "metadata": {},
   "outputs": [],
   "source": [
    "# The . at the end of some column names is annoying.  Also, I don't like having them in all caps.  That is annoying to type."
   ]
  },
  {
   "cell_type": "code",
   "execution_count": null,
   "metadata": {},
   "outputs": [],
   "source": [
    "fights = fights.rename(columns={'R_SIG_STR.': 'R_SIG_STR'})"
   ]
  },
  {
   "cell_type": "code",
   "execution_count": null,
   "metadata": {},
   "outputs": [],
   "source": [
    "cols_with_period = []\n",
    "new_column_names = {}\n",
    "for c in fights.columns: #columns_of_interest:\n",
    "    if c.endswith('.'):\n",
    "        print(c)\n",
    "        cols_with_period.append(c)\n",
    "        new_column_names[c] = c.replace('.', '')\n",
    "new_column_names"
   ]
  },
  {
   "cell_type": "code",
   "execution_count": null,
   "metadata": {},
   "outputs": [],
   "source": [
    "fights = fights.rename(columns=new_column_names)"
   ]
  },
  {
   "cell_type": "code",
   "execution_count": null,
   "metadata": {},
   "outputs": [],
   "source": [
    "fights.columns"
   ]
  },
  {
   "cell_type": "code",
   "execution_count": null,
   "metadata": {},
   "outputs": [],
   "source": [
    "col_names_map = {}\n",
    "for column in fights.columns:\n",
    "    col_names_map[column] = column.lower()\n",
    "#col_names_map"
   ]
  },
  {
   "cell_type": "code",
   "execution_count": null,
   "metadata": {},
   "outputs": [],
   "source": [
    "fights = fights.rename(columns=col_names_map)"
   ]
  },
  {
   "cell_type": "code",
   "execution_count": null,
   "metadata": {},
   "outputs": [],
   "source": [
    "fights.columns"
   ]
  },
  {
   "cell_type": "code",
   "execution_count": null,
   "metadata": {},
   "outputs": [],
   "source": [
    "fights.head()"
   ]
  },
  {
   "cell_type": "code",
   "execution_count": null,
   "metadata": {},
   "outputs": [],
   "source": [
    "# OK, we lowercased the column names, so they are easier to type.\n",
    "# Now where were we?  The columns with 59 out of 70 or whatever."
   ]
  },
  {
   "cell_type": "code",
   "execution_count": null,
   "metadata": {},
   "outputs": [],
   "source": [
    "# Now I need to redo the columns_of_interest.\n",
    "# Lesson => rename the columns earlier in the process."
   ]
  },
  {
   "cell_type": "code",
   "execution_count": null,
   "metadata": {},
   "outputs": [],
   "source": [
    "columns_of_interest = list(fights.columns.copy())\n",
    "columns_to_remove = ['r_fighter', 'b_fighter', 'referee', 'date', 'location']\n",
    "for c in columns_to_remove:\n",
    "    columns_of_interest.remove(c)"
   ]
  },
  {
   "cell_type": "code",
   "execution_count": null,
   "metadata": {},
   "outputs": [],
   "source": [
    "fights[columns_of_interest].head()"
   ]
  },
  {
   "cell_type": "code",
   "execution_count": null,
   "metadata": {},
   "outputs": [],
   "source": [
    "fights[['r_sig_str', 'b_sig_str',\n",
    "       'r_sig_str_pct', 'b_sig_str_pct', 'r_total_str', 'b_total_str', 'r_td',\n",
    "       'b_td', 'r_td_pct', 'b_td_pct', 'r_sub_att', 'b_sub_att', 'r_pass',\n",
    "       'b_pass', 'r_rev', 'b_rev', 'r_head', 'b_head']].head()"
   ]
  },
  {
   "cell_type": "code",
   "execution_count": null,
   "metadata": {},
   "outputs": [],
   "source": [
    "fights[['r_body', 'b_body',\n",
    "       'r_leg', 'b_leg', 'r_distance', 'b_distance', 'r_clinch', 'b_clinch',\n",
    "       'r_ground', 'b_ground', 'win_by', 'last_round', 'last_round_time',\n",
    "       'format']]"
   ]
  },
  {
   "cell_type": "code",
   "execution_count": null,
   "metadata": {},
   "outputs": [],
   "source": [
    "composite_column_roots = ['sig_str']"
   ]
  },
  {
   "cell_type": "code",
   "execution_count": null,
   "metadata": {},
   "outputs": [],
   "source": []
  },
  {
   "cell_type": "code",
   "execution_count": null,
   "metadata": {},
   "outputs": [],
   "source": []
  },
  {
   "cell_type": "code",
   "execution_count": null,
   "metadata": {},
   "outputs": [],
   "source": []
  },
  {
   "cell_type": "code",
   "execution_count": null,
   "metadata": {},
   "outputs": [],
   "source": [
    "# Let's look at the records of all the fighters"
   ]
  },
  {
   "cell_type": "code",
   "execution_count": null,
   "metadata": {},
   "outputs": [],
   "source": [
    "fights.r_fighter.value_counts()"
   ]
  },
  {
   "cell_type": "code",
   "execution_count": null,
   "metadata": {},
   "outputs": [],
   "source": [
    "fights.r_fighter.unique().shape"
   ]
  },
  {
   "cell_type": "code",
   "execution_count": null,
   "metadata": {},
   "outputs": [],
   "source": [
    "fights.b_fighter.unique().shape"
   ]
  },
  {
   "cell_type": "code",
   "execution_count": null,
   "metadata": {},
   "outputs": [],
   "source": [
    "all_fighters = set(fights.r_fighter).union(set(fights.b_fighter))"
   ]
  },
  {
   "cell_type": "code",
   "execution_count": null,
   "metadata": {},
   "outputs": [],
   "source": [
    "len(all_fighters)"
   ]
  },
  {
   "cell_type": "code",
   "execution_count": null,
   "metadata": {},
   "outputs": [],
   "source": [
    "for fighter in all_fighters:\n",
    "    print(fighter, ':  ', get_record_summary(fighter))"
   ]
  },
  {
   "cell_type": "code",
   "execution_count": null,
   "metadata": {},
   "outputs": [],
   "source": [
    "class RecordSummary:\n",
    "    def __init__(self, name, wins, losses, ties):\n",
    "        self.name = name\n",
    "        self.wins = wins\n",
    "        self.losses = losses\n",
    "        self.ties = ties\n",
    "        \n",
    "    def __str__(self):\n",
    "        return '{ name: ' + self.name + ', ' + str(self.wins) + ', ' + str(self.losses) + ', ' + str(self.ties) + ', ' + str(self.wins / (self.wins + self.losses)) + '}'\n",
    "    \n",
    "    def __repr__(self):\n",
    "        return self.__str__()\n",
    "    \n",
    "    def __lt__(self, other):\n",
    "        return (self.wins < other.wins)\n",
    "    \n",
    "    "
   ]
  },
  {
   "cell_type": "code",
   "execution_count": null,
   "metadata": {},
   "outputs": [],
   "source": [
    "s = RecordSummary('bob', 5, 3, 8)"
   ]
  },
  {
   "cell_type": "code",
   "execution_count": null,
   "metadata": {},
   "outputs": [],
   "source": [
    "s"
   ]
  },
  {
   "cell_type": "code",
   "execution_count": null,
   "metadata": {},
   "outputs": [],
   "source": [
    "print(s)"
   ]
  },
  {
   "cell_type": "code",
   "execution_count": null,
   "metadata": {},
   "outputs": [],
   "source": [
    "t = RecordSummary('alice', 4, 3, 8)\n",
    "t"
   ]
  },
  {
   "cell_type": "code",
   "execution_count": null,
   "metadata": {},
   "outputs": [],
   "source": [
    "s < t"
   ]
  },
  {
   "cell_type": "code",
   "execution_count": null,
   "metadata": {},
   "outputs": [],
   "source": [
    "s > t"
   ]
  },
  {
   "cell_type": "code",
   "execution_count": null,
   "metadata": {},
   "outputs": [],
   "source": [
    "all_summaries = []\n",
    "for fighter in all_fighters:\n",
    "    #print(fighter, ':  ', get_record_summary(fighter))\n",
    "    m = get_record_summary(fighter)\n",
    "    rs = RecordSummary(fighter, m['wins'], m['losses'], m['draws'])\n",
    "    all_summaries.append(rs)"
   ]
  },
  {
   "cell_type": "code",
   "execution_count": null,
   "metadata": {},
   "outputs": [],
   "source": [
    "len(all_summaries)"
   ]
  },
  {
   "cell_type": "code",
   "execution_count": null,
   "metadata": {},
   "outputs": [],
   "source": [
    "all_summaries.sort()"
   ]
  },
  {
   "cell_type": "code",
   "execution_count": null,
   "metadata": {},
   "outputs": [],
   "source": [
    "all_summaries"
   ]
  },
  {
   "cell_type": "code",
   "execution_count": null,
   "metadata": {},
   "outputs": [],
   "source": [
    "all_summaries[::-1]"
   ]
  },
  {
   "cell_type": "code",
   "execution_count": null,
   "metadata": {},
   "outputs": [],
   "source": [
    "get_record('Georges St-Pierre')[['Winner', 'win_by']]"
   ]
  },
  {
   "cell_type": "code",
   "execution_count": null,
   "metadata": {},
   "outputs": [],
   "source": [
    "get_record('Jeremy Stephens')[['Winner', 'win_by']]"
   ]
  },
  {
   "cell_type": "code",
   "execution_count": null,
   "metadata": {},
   "outputs": [],
   "source": [
    "get_record_summary('Jeremy Stephens')"
   ]
  },
  {
   "cell_type": "code",
   "execution_count": null,
   "metadata": {},
   "outputs": [],
   "source": []
  },
  {
   "cell_type": "code",
   "execution_count": null,
   "metadata": {},
   "outputs": [],
   "source": [
    "import fighters_cleanser\n",
    "import constants"
   ]
  },
  {
   "cell_type": "code",
   "execution_count": null,
   "metadata": {},
   "outputs": [],
   "source": [
    "fights = fighters_cleanser.load_cleanse_and_merge(constants.DEFAULT_FIGHTERS_FILE_NAME, constants.DEFAULT_FIGHTS_FILE_NAME)\n",
    "fights.shape"
   ]
  },
  {
   "cell_type": "code",
   "execution_count": null,
   "metadata": {},
   "outputs": [],
   "source": [
    "fights.head()"
   ]
  },
  {
   "cell_type": "code",
   "execution_count": null,
   "metadata": {},
   "outputs": [],
   "source": [
    "# Do not do the below, because it has people who are not in fighters.\n",
    "#fights = cleanser.load_and_cleanse('raw_total_fight_data.csv', sep=';')\n",
    "#fights.shape"
   ]
  },
  {
   "cell_type": "code",
   "execution_count": null,
   "metadata": {},
   "outputs": [],
   "source": [
    "fights['winner'].isnull().sum()"
   ]
  },
  {
   "cell_type": "code",
   "execution_count": null,
   "metadata": {},
   "outputs": [],
   "source": [
    "(fights['winner'] == \"None\").sum()"
   ]
  },
  {
   "cell_type": "code",
   "execution_count": null,
   "metadata": {},
   "outputs": [],
   "source": [
    "fights.shape[0] * 2"
   ]
  },
  {
   "cell_type": "code",
   "execution_count": null,
   "metadata": {},
   "outputs": [],
   "source": [
    "# Coun the number of experienced wins, losses, and ties.  Since there are two sides to every fight, the total will be twice the number of fights.\n",
    "# Ties can get you tripped up because there are two ties for every match that ends in a tie.\n",
    "num_ties = (fights['winner'] == \"None\").sum() * 2\n",
    "num_wins = fights.shape[0] - num_ties / 2\n",
    "num_losses = fights.shape[0] - num_ties / 2\n",
    "num_wins, num_losses, num_ties"
   ]
  },
  {
   "cell_type": "code",
   "execution_count": null,
   "metadata": {},
   "outputs": [],
   "source": [
    "num_wins + num_losses + num_ties == fights.shape[0] * 2"
   ]
  },
  {
   "cell_type": "code",
   "execution_count": null,
   "metadata": {},
   "outputs": [],
   "source": [
    "fights['winner'].isnull().sum(), (fights['winner'] == \"None\").sum()"
   ]
  },
  {
   "cell_type": "code",
   "execution_count": null,
   "metadata": {},
   "outputs": [],
   "source": []
  },
  {
   "cell_type": "code",
   "execution_count": null,
   "metadata": {},
   "outputs": [],
   "source": [
    "#from cleanser import RawFightsCleanser\n",
    "#cleanser = RawFightsCleanser()"
   ]
  },
  {
   "cell_type": "code",
   "execution_count": null,
   "metadata": {},
   "outputs": [],
   "source": [
    "fighters = fighters_cleanser.load_and_cleanse(constants.DEFAULT_FIGHTERS_FILE_NAME)\n",
    "fighters.shape"
   ]
  },
  {
   "cell_type": "code",
   "execution_count": null,
   "metadata": {},
   "outputs": [],
   "source": [
    "fighters.columns"
   ]
  },
  {
   "cell_type": "code",
   "execution_count": null,
   "metadata": {},
   "outputs": [],
   "source": [
    "wins = np.random.choice(a=fighters.index, size=fights.shape[0])\n",
    "wins"
   ]
  },
  {
   "cell_type": "code",
   "execution_count": null,
   "metadata": {},
   "outputs": [],
   "source": [
    "len(wins)"
   ]
  },
  {
   "cell_type": "code",
   "execution_count": null,
   "metadata": {},
   "outputs": [],
   "source": [
    "fights1 = fights.copy()"
   ]
  },
  {
   "cell_type": "code",
   "execution_count": null,
   "metadata": {},
   "outputs": [],
   "source": [
    "#fights.shape, fights1.shape"
   ]
  },
  {
   "cell_type": "code",
   "execution_count": null,
   "metadata": {},
   "outputs": [],
   "source": [
    "#fights.head()"
   ]
  },
  {
   "cell_type": "code",
   "execution_count": null,
   "metadata": {},
   "outputs": [],
   "source": [
    "# wins = np.random.choice(a=fighters.index, size=fights.shape[0])\n",
    "wins = np.random.choice(a=fighters.index, size=int(num_wins))\n",
    "wins"
   ]
  },
  {
   "cell_type": "code",
   "execution_count": null,
   "metadata": {},
   "outputs": [],
   "source": [
    "sim1 = fighters.copy()[['fighter_name']]\n",
    "sim1['wins'] = 0\n",
    "sim1['losses'] = 0\n",
    "sim1['ties'] = 0"
   ]
  },
  {
   "cell_type": "code",
   "execution_count": null,
   "metadata": {},
   "outputs": [],
   "source": [
    "# sim1.head()"
   ]
  },
  {
   "cell_type": "code",
   "execution_count": null,
   "metadata": {},
   "outputs": [],
   "source": [
    "for i in range(len(wins)):\n",
    "    sim1.loc[wins[i], 'wins'] = sim1.loc[wins[i], 'wins'] + 1"
   ]
  },
  {
   "cell_type": "code",
   "execution_count": null,
   "metadata": {},
   "outputs": [],
   "source": [
    "losses = np.random.choice(a=fighters.index, size=int(num_losses))\n",
    "losses"
   ]
  },
  {
   "cell_type": "code",
   "execution_count": null,
   "metadata": {},
   "outputs": [],
   "source": [
    "for i in range(len(losses)):\n",
    "    sim1.loc[losses[i], 'losses'] = sim1.loc[losses[i], 'losses'] + 1\n"
   ]
  },
  {
   "cell_type": "code",
   "execution_count": null,
   "metadata": {},
   "outputs": [],
   "source": [
    "for i in range(len(ties)):\n",
    "    sim1.loc[ties[i], 'ties'] = sim1.loc[ties[i], 'ties'] + 1"
   ]
  },
  {
   "cell_type": "code",
   "execution_count": null,
   "metadata": {},
   "outputs": [],
   "source": [
    "ties = np.random.choice(a=fighters.index, size=int(num_ties))\n",
    "ties"
   ]
  },
  {
   "cell_type": "code",
   "execution_count": null,
   "metadata": {},
   "outputs": [],
   "source": [
    "sim1.wins.value_counts()"
   ]
  },
  {
   "cell_type": "code",
   "execution_count": null,
   "metadata": {},
   "outputs": [],
   "source": [
    "sns.countplot(sim1.wins)"
   ]
  },
  {
   "cell_type": "code",
   "execution_count": null,
   "metadata": {},
   "outputs": [],
   "source": [
    "sim1.losses.value_counts()"
   ]
  },
  {
   "cell_type": "code",
   "execution_count": null,
   "metadata": {},
   "outputs": [],
   "source": [
    "sns.countplot(sim1.losses)"
   ]
  },
  {
   "cell_type": "code",
   "execution_count": null,
   "metadata": {},
   "outputs": [],
   "source": [
    "sim1.ties.value_counts()"
   ]
  },
  {
   "cell_type": "code",
   "execution_count": null,
   "metadata": {},
   "outputs": [],
   "source": [
    "sns.countplot(sim1.ties)"
   ]
  },
  {
   "cell_type": "code",
   "execution_count": null,
   "metadata": {},
   "outputs": [],
   "source": [
    "sim1.sort_values('wins', ascending=False)"
   ]
  },
  {
   "cell_type": "code",
   "execution_count": null,
   "metadata": {},
   "outputs": [],
   "source": [
    "#sim1.head()"
   ]
  },
  {
   "cell_type": "code",
   "execution_count": null,
   "metadata": {},
   "outputs": [],
   "source": [
    "sim1.sort_values('losses', ascending=False)"
   ]
  },
  {
   "cell_type": "code",
   "execution_count": null,
   "metadata": {},
   "outputs": [],
   "source": [
    "sim1.sort_values('ties', ascending=False)"
   ]
  },
  {
   "cell_type": "code",
   "execution_count": null,
   "metadata": {},
   "outputs": [],
   "source": []
  },
  {
   "cell_type": "code",
   "execution_count": null,
   "metadata": {},
   "outputs": [],
   "source": []
  },
  {
   "cell_type": "code",
   "execution_count": null,
   "metadata": {},
   "outputs": [],
   "source": [
    "total_record = {}\n",
    "for i in range(len(fighters)):\n",
    "    name = fighters.iloc[i]['fighter_name']\n",
    "    total_record[name] = get_record_summary(name)"
   ]
  },
  {
   "cell_type": "code",
   "execution_count": null,
   "metadata": {},
   "outputs": [],
   "source": [
    "#total_record"
   ]
  },
  {
   "cell_type": "code",
   "execution_count": null,
   "metadata": {},
   "outputs": [],
   "source": [
    "len(total_record)"
   ]
  },
  {
   "cell_type": "code",
   "execution_count": null,
   "metadata": {},
   "outputs": [],
   "source": [
    "total_record['Georges St-Pierre']"
   ]
  },
  {
   "cell_type": "code",
   "execution_count": null,
   "metadata": {},
   "outputs": [],
   "source": [
    "fighters.columns"
   ]
  },
  {
   "cell_type": "code",
   "execution_count": null,
   "metadata": {},
   "outputs": [],
   "source": [
    "#fighters['wins'] = 0\n",
    "#fighters['losses'] = 0\n",
    "#fighters['ties'] = 0\n",
    "fighters.drop('losses', axis=1, inplace=True)"
   ]
  },
  {
   "cell_type": "code",
   "execution_count": null,
   "metadata": {},
   "outputs": [],
   "source": [
    "fighters['wins'] = fighters.apply(lambda row: total_record[row.fighter_name]['wins'], axis=1)\n",
    "fighters['losses'] = fighters.apply(lambda row: total_record[row.fighter_name]['losses'], axis=1)\n",
    "fighters['ties'] = fighters.apply(lambda row: total_record[row.fighter_name]['draws'], axis=1)"
   ]
  },
  {
   "cell_type": "code",
   "execution_count": null,
   "metadata": {},
   "outputs": [],
   "source": [
    "fighters.head()"
   ]
  },
  {
   "cell_type": "code",
   "execution_count": null,
   "metadata": {},
   "outputs": [],
   "source": [
    "get_record_summary('Aaron Phillips')"
   ]
  },
  {
   "cell_type": "code",
   "execution_count": null,
   "metadata": {},
   "outputs": [],
   "source": [
    "get_record_summary('Aaron Riley')"
   ]
  },
  {
   "cell_type": "code",
   "execution_count": null,
   "metadata": {},
   "outputs": [],
   "source": [
    "get_record_summary('Aaron Rosa')"
   ]
  },
  {
   "cell_type": "code",
   "execution_count": null,
   "metadata": {},
   "outputs": [],
   "source": [
    "total_record['Aaron Riley']"
   ]
  },
  {
   "cell_type": "code",
   "execution_count": null,
   "metadata": {},
   "outputs": [],
   "source": [
    "total_record['Aaron Riley']['losses']"
   ]
  },
  {
   "cell_type": "code",
   "execution_count": null,
   "metadata": {},
   "outputs": [],
   "source": [
    "l = fighters.apply(lambda row: total_record[row.fighter_name]['losses'], axis=1)"
   ]
  },
  {
   "cell_type": "code",
   "execution_count": null,
   "metadata": {},
   "outputs": [],
   "source": [
    "l"
   ]
  },
  {
   "cell_type": "code",
   "execution_count": null,
   "metadata": {},
   "outputs": [],
   "source": [
    "get_record_summary('Aaron Simpson')"
   ]
  },
  {
   "cell_type": "code",
   "execution_count": null,
   "metadata": {},
   "outputs": [],
   "source": [
    "fighters[fighters.fighter_name == 'Royce Gracie']"
   ]
  },
  {
   "cell_type": "code",
   "execution_count": null,
   "metadata": {},
   "outputs": [],
   "source": [
    "list(fighters.fighter_name).sort()\n",
    "fighters.fighter_name"
   ]
  },
  {
   "cell_type": "code",
   "execution_count": null,
   "metadata": {},
   "outputs": [],
   "source": [
    "fighters.fighter_name"
   ]
  },
  {
   "cell_type": "code",
   "execution_count": null,
   "metadata": {},
   "outputs": [],
   "source": [
    "'Royce Gracie' in set(fighters.fighter_name)"
   ]
  },
  {
   "cell_type": "code",
   "execution_count": null,
   "metadata": {},
   "outputs": [],
   "source": [
    "'Hiromitsu Miura' in set(fighters.fighter_name)"
   ]
  },
  {
   "cell_type": "code",
   "execution_count": null,
   "metadata": {},
   "outputs": [],
   "source": [
    "# Q:  Why is Royce Gracie not in the data set?  Must have been removed in the other times we removed things, but on what criteria?  \n",
    "# In theory it doesn't matter for the analsys, but I thought I was only removing people who did not have any actual fights.\n",
    "# If there is some flaw in what I have removed, I wonder if that affects the quality of the analysis by giving an unrepresentative data set.\n",
    "# A:\n",
    "# Anyway, back to the task at hand."
   ]
  },
  {
   "cell_type": "code",
   "execution_count": null,
   "metadata": {},
   "outputs": [],
   "source": [
    "fighters.wins.value_counts()"
   ]
  },
  {
   "cell_type": "code",
   "execution_count": null,
   "metadata": {},
   "outputs": [],
   "source": [
    "fighters.losses.value_counts()"
   ]
  },
  {
   "cell_type": "code",
   "execution_count": null,
   "metadata": {},
   "outputs": [],
   "source": [
    "fighters.ties.value_counts()"
   ]
  },
  {
   "cell_type": "code",
   "execution_count": null,
   "metadata": {},
   "outputs": [],
   "source": [
    "sns.countplot(fighters.wins)"
   ]
  },
  {
   "cell_type": "code",
   "execution_count": null,
   "metadata": {},
   "outputs": [],
   "source": [
    "sns.countplot(fighters.losses)"
   ]
  },
  {
   "cell_type": "code",
   "execution_count": null,
   "metadata": {},
   "outputs": [],
   "source": [
    "sns.countplot(fighters.ties)"
   ]
  },
  {
   "cell_type": "markdown",
   "metadata": {},
   "source": [
    "Reminder of what the random simulation looked like for wins and losses:"
   ]
  },
  {
   "cell_type": "code",
   "execution_count": null,
   "metadata": {},
   "outputs": [],
   "source": [
    "sns.countplot(sim1.wins)"
   ]
  },
  {
   "cell_type": "code",
   "execution_count": null,
   "metadata": {},
   "outputs": [],
   "source": [
    "sns.countplot(sim1.losses)"
   ]
  },
  {
   "cell_type": "markdown",
   "metadata": {},
   "source": [
    "Losses looks somewhat similar, but wins does not.  It seems consistent with the hunch that there are a number of people who come in, fight a few fights, don't do well, and leave.\n",
    "Q:  Why would the losses distribution look somewhat similar to the random, but not the wins?\n",
    "A:"
   ]
  },
  {
   "cell_type": "markdown",
   "metadata": {},
   "source": [
    "Let's add a stat for the total number of fights people are in."
   ]
  },
  {
   "cell_type": "code",
   "execution_count": null,
   "metadata": {},
   "outputs": [],
   "source": [
    "fighters['total_fights'] = fighters['wins'] + fighters['losses'] + fighters['ties']"
   ]
  },
  {
   "cell_type": "code",
   "execution_count": null,
   "metadata": {},
   "outputs": [],
   "source": [
    "#fighters.total_fights.value_counts()"
   ]
  },
  {
   "cell_type": "code",
   "execution_count": null,
   "metadata": {},
   "outputs": [],
   "source": [
    "sns.countplot(fighters.total_fights)"
   ]
  },
  {
   "cell_type": "code",
   "execution_count": null,
   "metadata": {},
   "outputs": [],
   "source": [
    "sim1['total_fights'] = sim1['wins'] + sim1.losses + sim1.ties"
   ]
  },
  {
   "cell_type": "code",
   "execution_count": null,
   "metadata": {},
   "outputs": [],
   "source": [
    "sns.countplot(sim1.total_fights)"
   ]
  },
  {
   "cell_type": "markdown",
   "metadata": {},
   "source": [
    "Yes.  It is pretty reasonable that the number of fights per fighter in sim1 is somewhat normal, but clustered around the mean.\n",
    "As I suspected, the number of fights per fighter is nowhere near that, with a lot of people doing only a few and a few doing a lot.\n",
    "\n",
    "So can we conclude that this means there is more than randomness at work?  Not so fast, because if people lose a few fights by pure chance, they could still become washouts.  Realistically, there is some skill involved, but I am still not sure how much is skill and how much is randomness.\n",
    "\n",
    "To better compare, we would probably need to find some way to determine someone's likelihood of quitting after a few losses.  Another way to simulate it would be to assign fighters to have the same number of fights as the actual distribution, and then assin wins, losses, and ties."
   ]
  },
  {
   "cell_type": "code",
   "execution_count": null,
   "metadata": {},
   "outputs": [],
   "source": [
    "'date' in fights.columns"
   ]
  },
  {
   "cell_type": "code",
   "execution_count": null,
   "metadata": {},
   "outputs": [],
   "source": [
    "fights.date"
   ]
  },
  {
   "cell_type": "code",
   "execution_count": null,
   "metadata": {},
   "outputs": [],
   "source": [
    "fights = fights.sort_values('date')"
   ]
  },
  {
   "cell_type": "code",
   "execution_count": null,
   "metadata": {},
   "outputs": [],
   "source": [
    "fights.head(30)[['r_fighter', 'b_fighter', 'date']]"
   ]
  },
  {
   "cell_type": "code",
   "execution_count": null,
   "metadata": {},
   "outputs": [],
   "source": [
    "fights.tail(30)[['r_fighter', 'b_fighter', 'winner', 'loser', 'date']]"
   ]
  },
  {
   "cell_type": "code",
   "execution_count": null,
   "metadata": {},
   "outputs": [],
   "source": [
    "fights.date.dtype, type(fights.date.iloc[0])"
   ]
  },
  {
   "cell_type": "code",
   "execution_count": null,
   "metadata": {},
   "outputs": [],
   "source": [
    "from importlib import reload"
   ]
  },
  {
   "cell_type": "code",
   "execution_count": null,
   "metadata": {},
   "outputs": [],
   "source": [
    "fights.head()"
   ]
  },
  {
   "cell_type": "code",
   "execution_count": null,
   "metadata": {},
   "outputs": [],
   "source": []
  },
  {
   "cell_type": "code",
   "execution_count": null,
   "metadata": {},
   "outputs": [],
   "source": []
  },
  {
   "cell_type": "code",
   "execution_count": null,
   "metadata": {},
   "outputs": [],
   "source": []
  },
  {
   "cell_type": "code",
   "execution_count": null,
   "metadata": {},
   "outputs": [],
   "source": []
  }
 ],
 "metadata": {
  "kernelspec": {
   "display_name": "Python 3",
   "language": "python",
   "name": "python3"
  },
  "language_info": {
   "codemirror_mode": {
    "name": "ipython",
    "version": 3
   },
   "file_extension": ".py",
   "mimetype": "text/x-python",
   "name": "python",
   "nbconvert_exporter": "python",
   "pygments_lexer": "ipython3",
   "version": "3.7.9"
  }
 },
 "nbformat": 4,
 "nbformat_minor": 4
}
