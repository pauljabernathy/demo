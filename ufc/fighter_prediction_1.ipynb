{
 "cells": [
  {
   "cell_type": "code",
   "execution_count": 1,
   "metadata": {},
   "outputs": [],
   "source": [
    "import pandas as pd\n",
    "import numpy as np\n",
    "import seaborn as sns"
   ]
  },
  {
   "cell_type": "code",
   "execution_count": 2,
   "metadata": {},
   "outputs": [],
   "source": [
    "import fighters_cleanser\n",
    "import constants"
   ]
  },
  {
   "cell_type": "code",
   "execution_count": 3,
   "metadata": {},
   "outputs": [
    {
     "name": "stdout",
     "output_type": "stream",
     "text": [
      "<class 'pandas.core.frame.DataFrame'>\n",
      "Int64Index: 4393 entries, 0 to 4392\n",
      "Columns: 136 entries, r_fighter to reach_diff\n",
      "dtypes: datetime64[ns](3), float64(21), int64(81), object(31)\n",
      "memory usage: 4.6+ MB\n"
     ]
    }
   ],
   "source": [
    "fights = fighters_cleanser.load_cleanse_and_merge(constants.DEFAULT_FIGHTERS_FILE_NAME, constants.DEFAULT_FIGHTS_FILE_NAME)\n",
    "fights.info()"
   ]
  },
  {
   "cell_type": "code",
   "execution_count": 4,
   "metadata": {},
   "outputs": [
    {
     "data": {
      "text/plain": [
       "r       0.630776\n",
       "b       0.353062\n",
       "None    0.016162\n",
       "Name: r_b_winner, dtype: float64"
      ]
     },
     "execution_count": 4,
     "metadata": {},
     "output_type": "execute_result"
    }
   ],
   "source": [
    "fights.r_b_winner.value_counts() / fights.shape[0]"
   ]
  },
  {
   "cell_type": "code",
   "execution_count": 5,
   "metadata": {},
   "outputs": [
    {
     "data": {
      "text/html": [
       "<div>\n",
       "<style scoped>\n",
       "    .dataframe tbody tr th:only-of-type {\n",
       "        vertical-align: middle;\n",
       "    }\n",
       "\n",
       "    .dataframe tbody tr th {\n",
       "        vertical-align: top;\n",
       "    }\n",
       "\n",
       "    .dataframe thead th {\n",
       "        text-align: right;\n",
       "    }\n",
       "</style>\n",
       "<table border=\"1\" class=\"dataframe\">\n",
       "  <thead>\n",
       "    <tr style=\"text-align: right;\">\n",
       "      <th></th>\n",
       "      <th>r_fighter</th>\n",
       "      <th>b_fighter</th>\n",
       "      <th>r_kd</th>\n",
       "      <th>b_kd</th>\n",
       "      <th>r_sig_str</th>\n",
       "      <th>b_sig_str</th>\n",
       "      <th>r_sig_str_pct</th>\n",
       "      <th>b_sig_str_pct</th>\n",
       "      <th>r_total_str</th>\n",
       "      <th>b_total_str</th>\n",
       "      <th>...</th>\n",
       "      <th>b_weight</th>\n",
       "      <th>b_reach</th>\n",
       "      <th>b_stance</th>\n",
       "      <th>b_dob</th>\n",
       "      <th>r_age</th>\n",
       "      <th>b_age</th>\n",
       "      <th>age_diff</th>\n",
       "      <th>height_diff</th>\n",
       "      <th>weight_diff</th>\n",
       "      <th>reach_diff</th>\n",
       "    </tr>\n",
       "  </thead>\n",
       "  <tbody>\n",
       "    <tr>\n",
       "      <th>0</th>\n",
       "      <td>Henry Cejudo</td>\n",
       "      <td>Marlon Moraes</td>\n",
       "      <td>0</td>\n",
       "      <td>0</td>\n",
       "      <td>90 of 171</td>\n",
       "      <td>57 of 119</td>\n",
       "      <td>52</td>\n",
       "      <td>47</td>\n",
       "      <td>99 of 182</td>\n",
       "      <td>59 of 121</td>\n",
       "      <td>...</td>\n",
       "      <td>135</td>\n",
       "      <td>67</td>\n",
       "      <td>Orthodox</td>\n",
       "      <td>1988-04-26</td>\n",
       "      <td>32.347945</td>\n",
       "      <td>31.136986</td>\n",
       "      <td>1.210959</td>\n",
       "      <td>-2</td>\n",
       "      <td>0</td>\n",
       "      <td>-3</td>\n",
       "    </tr>\n",
       "    <tr>\n",
       "      <th>1</th>\n",
       "      <td>Jimmie Rivera</td>\n",
       "      <td>Marlon Moraes</td>\n",
       "      <td>0</td>\n",
       "      <td>1</td>\n",
       "      <td>0 of 3</td>\n",
       "      <td>7 of 9</td>\n",
       "      <td>0</td>\n",
       "      <td>77</td>\n",
       "      <td>0 of 3</td>\n",
       "      <td>7 of 9</td>\n",
       "      <td>...</td>\n",
       "      <td>135</td>\n",
       "      <td>67</td>\n",
       "      <td>Orthodox</td>\n",
       "      <td>1988-04-26</td>\n",
       "      <td>28.942466</td>\n",
       "      <td>30.117808</td>\n",
       "      <td>-1.175342</td>\n",
       "      <td>-2</td>\n",
       "      <td>0</td>\n",
       "      <td>1</td>\n",
       "    </tr>\n",
       "    <tr>\n",
       "      <th>2</th>\n",
       "      <td>John Dodson</td>\n",
       "      <td>Marlon Moraes</td>\n",
       "      <td>1</td>\n",
       "      <td>0</td>\n",
       "      <td>43 of 105</td>\n",
       "      <td>45 of 131</td>\n",
       "      <td>40</td>\n",
       "      <td>34</td>\n",
       "      <td>47 of 109</td>\n",
       "      <td>45 of 131</td>\n",
       "      <td>...</td>\n",
       "      <td>135</td>\n",
       "      <td>67</td>\n",
       "      <td>Orthodox</td>\n",
       "      <td>1988-04-26</td>\n",
       "      <td>33.147945</td>\n",
       "      <td>29.564384</td>\n",
       "      <td>3.583562</td>\n",
       "      <td>-3</td>\n",
       "      <td>0</td>\n",
       "      <td>-1</td>\n",
       "    </tr>\n",
       "    <tr>\n",
       "      <th>3</th>\n",
       "      <td>Raphael Assuncao</td>\n",
       "      <td>Marlon Moraes</td>\n",
       "      <td>0</td>\n",
       "      <td>1</td>\n",
       "      <td>2 of 12</td>\n",
       "      <td>10 of 23</td>\n",
       "      <td>16</td>\n",
       "      <td>43</td>\n",
       "      <td>3 of 13</td>\n",
       "      <td>12 of 25</td>\n",
       "      <td>...</td>\n",
       "      <td>135</td>\n",
       "      <td>67</td>\n",
       "      <td>Orthodox</td>\n",
       "      <td>1988-04-26</td>\n",
       "      <td>36.567123</td>\n",
       "      <td>30.791781</td>\n",
       "      <td>5.775342</td>\n",
       "      <td>-1</td>\n",
       "      <td>0</td>\n",
       "      <td>-1</td>\n",
       "    </tr>\n",
       "    <tr>\n",
       "      <th>4</th>\n",
       "      <td>Raphael Assuncao</td>\n",
       "      <td>Marlon Moraes</td>\n",
       "      <td>0</td>\n",
       "      <td>0</td>\n",
       "      <td>43 of 134</td>\n",
       "      <td>44 of 150</td>\n",
       "      <td>32</td>\n",
       "      <td>29</td>\n",
       "      <td>43 of 134</td>\n",
       "      <td>44 of 150</td>\n",
       "      <td>...</td>\n",
       "      <td>135</td>\n",
       "      <td>67</td>\n",
       "      <td>Orthodox</td>\n",
       "      <td>1988-04-26</td>\n",
       "      <td>34.898630</td>\n",
       "      <td>29.123288</td>\n",
       "      <td>5.775342</td>\n",
       "      <td>-1</td>\n",
       "      <td>0</td>\n",
       "      <td>-1</td>\n",
       "    </tr>\n",
       "  </tbody>\n",
       "</table>\n",
       "<p>5 rows × 136 columns</p>\n",
       "</div>"
      ],
      "text/plain": [
       "          r_fighter      b_fighter  r_kd  b_kd  r_sig_str  b_sig_str  \\\n",
       "0      Henry Cejudo  Marlon Moraes     0     0  90 of 171  57 of 119   \n",
       "1     Jimmie Rivera  Marlon Moraes     0     1     0 of 3     7 of 9   \n",
       "2       John Dodson  Marlon Moraes     1     0  43 of 105  45 of 131   \n",
       "3  Raphael Assuncao  Marlon Moraes     0     1    2 of 12   10 of 23   \n",
       "4  Raphael Assuncao  Marlon Moraes     0     0  43 of 134  44 of 150   \n",
       "\n",
       "   r_sig_str_pct  b_sig_str_pct r_total_str b_total_str  ... b_weight b_reach  \\\n",
       "0             52             47   99 of 182   59 of 121  ...      135      67   \n",
       "1              0             77      0 of 3      7 of 9  ...      135      67   \n",
       "2             40             34   47 of 109   45 of 131  ...      135      67   \n",
       "3             16             43     3 of 13    12 of 25  ...      135      67   \n",
       "4             32             29   43 of 134   44 of 150  ...      135      67   \n",
       "\n",
       "   b_stance      b_dob      r_age      b_age  age_diff  height_diff  \\\n",
       "0  Orthodox 1988-04-26  32.347945  31.136986  1.210959           -2   \n",
       "1  Orthodox 1988-04-26  28.942466  30.117808 -1.175342           -2   \n",
       "2  Orthodox 1988-04-26  33.147945  29.564384  3.583562           -3   \n",
       "3  Orthodox 1988-04-26  36.567123  30.791781  5.775342           -1   \n",
       "4  Orthodox 1988-04-26  34.898630  29.123288  5.775342           -1   \n",
       "\n",
       "   weight_diff  reach_diff  \n",
       "0            0          -3  \n",
       "1            0           1  \n",
       "2            0          -1  \n",
       "3            0          -1  \n",
       "4            0          -1  \n",
       "\n",
       "[5 rows x 136 columns]"
      ]
     },
     "execution_count": 5,
     "metadata": {},
     "output_type": "execute_result"
    }
   ],
   "source": [
    "fights.head()"
   ]
  },
  {
   "cell_type": "code",
   "execution_count": 6,
   "metadata": {},
   "outputs": [],
   "source": [
    "#list(fights.columns)"
   ]
  },
  {
   "cell_type": "code",
   "execution_count": 7,
   "metadata": {},
   "outputs": [],
   "source": [
    "#I would like to to remove a bunch of colums.  All the ones we made for the other analysis are not relevant, since this time we are looking only at stats from before the fight."
   ]
  },
  {
   "cell_type": "code",
   "execution_count": 8,
   "metadata": {},
   "outputs": [],
   "source": [
    "relevant_columns = ['r_fighter', 'b_fighter', 'winner', 'loser', 'r_height', 'r_weight','r_reach','r_stance', 'b_height','b_weight','b_reach','b_stance','r_age','b_age',\n",
    "                    'age_diff', 'height_diff', 'weight_diff', 'reach_diff', 'r_b_winner']\n",
    "fights = fights[relevant_columns]"
   ]
  },
  {
   "cell_type": "code",
   "execution_count": 9,
   "metadata": {},
   "outputs": [
    {
     "data": {
      "text/html": [
       "<div>\n",
       "<style scoped>\n",
       "    .dataframe tbody tr th:only-of-type {\n",
       "        vertical-align: middle;\n",
       "    }\n",
       "\n",
       "    .dataframe tbody tr th {\n",
       "        vertical-align: top;\n",
       "    }\n",
       "\n",
       "    .dataframe thead th {\n",
       "        text-align: right;\n",
       "    }\n",
       "</style>\n",
       "<table border=\"1\" class=\"dataframe\">\n",
       "  <thead>\n",
       "    <tr style=\"text-align: right;\">\n",
       "      <th></th>\n",
       "      <th>r_fighter</th>\n",
       "      <th>b_fighter</th>\n",
       "      <th>winner</th>\n",
       "      <th>loser</th>\n",
       "      <th>r_height</th>\n",
       "      <th>r_weight</th>\n",
       "      <th>r_reach</th>\n",
       "      <th>r_stance</th>\n",
       "      <th>b_height</th>\n",
       "      <th>b_weight</th>\n",
       "      <th>b_reach</th>\n",
       "      <th>b_stance</th>\n",
       "      <th>r_age</th>\n",
       "      <th>b_age</th>\n",
       "      <th>age_diff</th>\n",
       "      <th>height_diff</th>\n",
       "      <th>weight_diff</th>\n",
       "      <th>reach_diff</th>\n",
       "      <th>r_b_winner</th>\n",
       "    </tr>\n",
       "  </thead>\n",
       "  <tbody>\n",
       "    <tr>\n",
       "      <th>0</th>\n",
       "      <td>Henry Cejudo</td>\n",
       "      <td>Marlon Moraes</td>\n",
       "      <td>Henry Cejudo</td>\n",
       "      <td>Marlon Moraes</td>\n",
       "      <td>64</td>\n",
       "      <td>135</td>\n",
       "      <td>64</td>\n",
       "      <td>Orthodox</td>\n",
       "      <td>66</td>\n",
       "      <td>135</td>\n",
       "      <td>67</td>\n",
       "      <td>Orthodox</td>\n",
       "      <td>32.347945</td>\n",
       "      <td>31.136986</td>\n",
       "      <td>1.210959</td>\n",
       "      <td>-2</td>\n",
       "      <td>0</td>\n",
       "      <td>-3</td>\n",
       "      <td>r</td>\n",
       "    </tr>\n",
       "    <tr>\n",
       "      <th>1</th>\n",
       "      <td>Jimmie Rivera</td>\n",
       "      <td>Marlon Moraes</td>\n",
       "      <td>Marlon Moraes</td>\n",
       "      <td>Jimmie Rivera</td>\n",
       "      <td>64</td>\n",
       "      <td>135</td>\n",
       "      <td>68</td>\n",
       "      <td>Orthodox</td>\n",
       "      <td>66</td>\n",
       "      <td>135</td>\n",
       "      <td>67</td>\n",
       "      <td>Orthodox</td>\n",
       "      <td>28.942466</td>\n",
       "      <td>30.117808</td>\n",
       "      <td>-1.175342</td>\n",
       "      <td>-2</td>\n",
       "      <td>0</td>\n",
       "      <td>1</td>\n",
       "      <td>b</td>\n",
       "    </tr>\n",
       "    <tr>\n",
       "      <th>2</th>\n",
       "      <td>John Dodson</td>\n",
       "      <td>Marlon Moraes</td>\n",
       "      <td>Marlon Moraes</td>\n",
       "      <td>John Dodson</td>\n",
       "      <td>63</td>\n",
       "      <td>135</td>\n",
       "      <td>66</td>\n",
       "      <td>Orthodox</td>\n",
       "      <td>66</td>\n",
       "      <td>135</td>\n",
       "      <td>67</td>\n",
       "      <td>Orthodox</td>\n",
       "      <td>33.147945</td>\n",
       "      <td>29.564384</td>\n",
       "      <td>3.583562</td>\n",
       "      <td>-3</td>\n",
       "      <td>0</td>\n",
       "      <td>-1</td>\n",
       "      <td>b</td>\n",
       "    </tr>\n",
       "    <tr>\n",
       "      <th>3</th>\n",
       "      <td>Raphael Assuncao</td>\n",
       "      <td>Marlon Moraes</td>\n",
       "      <td>Marlon Moraes</td>\n",
       "      <td>Raphael Assuncao</td>\n",
       "      <td>65</td>\n",
       "      <td>135</td>\n",
       "      <td>66</td>\n",
       "      <td>Orthodox</td>\n",
       "      <td>66</td>\n",
       "      <td>135</td>\n",
       "      <td>67</td>\n",
       "      <td>Orthodox</td>\n",
       "      <td>36.567123</td>\n",
       "      <td>30.791781</td>\n",
       "      <td>5.775342</td>\n",
       "      <td>-1</td>\n",
       "      <td>0</td>\n",
       "      <td>-1</td>\n",
       "      <td>b</td>\n",
       "    </tr>\n",
       "    <tr>\n",
       "      <th>4</th>\n",
       "      <td>Raphael Assuncao</td>\n",
       "      <td>Marlon Moraes</td>\n",
       "      <td>Raphael Assuncao</td>\n",
       "      <td>Marlon Moraes</td>\n",
       "      <td>65</td>\n",
       "      <td>135</td>\n",
       "      <td>66</td>\n",
       "      <td>Orthodox</td>\n",
       "      <td>66</td>\n",
       "      <td>135</td>\n",
       "      <td>67</td>\n",
       "      <td>Orthodox</td>\n",
       "      <td>34.898630</td>\n",
       "      <td>29.123288</td>\n",
       "      <td>5.775342</td>\n",
       "      <td>-1</td>\n",
       "      <td>0</td>\n",
       "      <td>-1</td>\n",
       "      <td>r</td>\n",
       "    </tr>\n",
       "  </tbody>\n",
       "</table>\n",
       "</div>"
      ],
      "text/plain": [
       "          r_fighter      b_fighter            winner             loser  \\\n",
       "0      Henry Cejudo  Marlon Moraes      Henry Cejudo     Marlon Moraes   \n",
       "1     Jimmie Rivera  Marlon Moraes     Marlon Moraes     Jimmie Rivera   \n",
       "2       John Dodson  Marlon Moraes     Marlon Moraes       John Dodson   \n",
       "3  Raphael Assuncao  Marlon Moraes     Marlon Moraes  Raphael Assuncao   \n",
       "4  Raphael Assuncao  Marlon Moraes  Raphael Assuncao     Marlon Moraes   \n",
       "\n",
       "   r_height  r_weight  r_reach  r_stance  b_height  b_weight  b_reach  \\\n",
       "0        64       135       64  Orthodox        66       135       67   \n",
       "1        64       135       68  Orthodox        66       135       67   \n",
       "2        63       135       66  Orthodox        66       135       67   \n",
       "3        65       135       66  Orthodox        66       135       67   \n",
       "4        65       135       66  Orthodox        66       135       67   \n",
       "\n",
       "   b_stance      r_age      b_age  age_diff  height_diff  weight_diff  \\\n",
       "0  Orthodox  32.347945  31.136986  1.210959           -2            0   \n",
       "1  Orthodox  28.942466  30.117808 -1.175342           -2            0   \n",
       "2  Orthodox  33.147945  29.564384  3.583562           -3            0   \n",
       "3  Orthodox  36.567123  30.791781  5.775342           -1            0   \n",
       "4  Orthodox  34.898630  29.123288  5.775342           -1            0   \n",
       "\n",
       "   reach_diff r_b_winner  \n",
       "0          -3          r  \n",
       "1           1          b  \n",
       "2          -1          b  \n",
       "3          -1          b  \n",
       "4          -1          r  "
      ]
     },
     "execution_count": 9,
     "metadata": {},
     "output_type": "execute_result"
    }
   ],
   "source": [
    "fights.head()"
   ]
  },
  {
   "cell_type": "code",
   "execution_count": 10,
   "metadata": {},
   "outputs": [],
   "source": [
    "# Do diff columns for weight, height, and reach.\n",
    "# I suspect I want to keep the raw age, reach, etc. because it might potentially be relevant.\n",
    "# I suspect age and reach will be much more relevant than height and weight.  Weight should be fairly close (except in the earlier ones), and reach is probably more important than height.  Well, height might tell you something about kicking reach."
   ]
  },
  {
   "cell_type": "code",
   "execution_count": 11,
   "metadata": {},
   "outputs": [],
   "source": [
    "# not sure if stance is relevant.  If we do DNN, we'll need to convert it to categorical.\n",
    "# I think that for both logistic regression and DNN, we'll need to scale the numeric variables as we did before.\n",
    "# What other potential algorithms can we use?\n",
    "# Random Forests?  Naive Bayes?"
   ]
  },
  {
   "cell_type": "code",
   "execution_count": 12,
   "metadata": {},
   "outputs": [],
   "source": [
    "# How important is it to take into account the previous record, and how?  Would we use the same alg, or a different one?  Will something besides DNN work?"
   ]
  },
  {
   "cell_type": "code",
   "execution_count": 13,
   "metadata": {},
   "outputs": [
    {
     "data": {
      "text/plain": [
       "(4393, 19)"
      ]
     },
     "execution_count": 13,
     "metadata": {},
     "output_type": "execute_result"
    }
   ],
   "source": [
    "fights.shape"
   ]
  },
  {
   "cell_type": "code",
   "execution_count": 14,
   "metadata": {},
   "outputs": [],
   "source": [
    "# Is that enough data points to train something?"
   ]
  },
  {
   "cell_type": "code",
   "execution_count": 15,
   "metadata": {},
   "outputs": [],
   "source": [
    "#fights.r_stance.value_counts()"
   ]
  },
  {
   "cell_type": "code",
   "execution_count": 16,
   "metadata": {},
   "outputs": [],
   "source": [
    "#fights.b_stance.value_counts()"
   ]
  },
  {
   "cell_type": "markdown",
   "metadata": {},
   "source": [
    "Next:\n",
    "\n",
    "scale the numeric variables\n",
    "add an r_won variable that is 0 or 1 as in the other DNN analysis\n",
    "\"categorize\" the stance variables - will result in 4 extra variable for each since there are 4 values, each being 0 or 1"
   ]
  },
  {
   "cell_type": "code",
   "execution_count": 17,
   "metadata": {},
   "outputs": [
    {
     "name": "stderr",
     "output_type": "stream",
     "text": [
      "Using TensorFlow backend.\n"
     ]
    }
   ],
   "source": [
    "from keras.utils import to_categorical"
   ]
  },
  {
   "cell_type": "code",
   "execution_count": 18,
   "metadata": {},
   "outputs": [],
   "source": [
    "def get_numeric_stance(stance):\n",
    "    if stance == 'Orthodox':\n",
    "        return 0\n",
    "    elif stance == 'Southpaw':\n",
    "        return 1\n",
    "    elif stance == 'Switch':\n",
    "        return 2\n",
    "    elif stance == 'Open Stance':\n",
    "        return 3\n",
    "    else:\n",
    "        return 4"
   ]
  },
  {
   "cell_type": "code",
   "execution_count": 19,
   "metadata": {},
   "outputs": [],
   "source": [
    "r_stance_numeric = fights.r_stance.apply(get_numeric_stance)"
   ]
  },
  {
   "cell_type": "code",
   "execution_count": null,
   "metadata": {},
   "outputs": [],
   "source": []
  },
  {
   "cell_type": "code",
   "execution_count": 20,
   "metadata": {},
   "outputs": [],
   "source": [
    "#r_stance_numeric.value_counts()"
   ]
  },
  {
   "cell_type": "code",
   "execution_count": 21,
   "metadata": {},
   "outputs": [],
   "source": [
    "#fights.r_stance.value_counts()"
   ]
  },
  {
   "cell_type": "code",
   "execution_count": 22,
   "metadata": {},
   "outputs": [],
   "source": [
    "b_stance_numeric = fights.b_stance.apply(get_numeric_stance)\n",
    "#b_stance_numeric.value_counts()"
   ]
  },
  {
   "cell_type": "code",
   "execution_count": 23,
   "metadata": {},
   "outputs": [],
   "source": [
    "#fights.b_stance.value_counts()"
   ]
  },
  {
   "cell_type": "code",
   "execution_count": 24,
   "metadata": {},
   "outputs": [
    {
     "data": {
      "text/plain": [
       "119"
      ]
     },
     "execution_count": 24,
     "metadata": {},
     "output_type": "execute_result"
    }
   ],
   "source": [
    "fights.r_stance.isnull().sum()"
   ]
  },
  {
   "cell_type": "code",
   "execution_count": 25,
   "metadata": {},
   "outputs": [
    {
     "data": {
      "text/plain": [
       "116"
      ]
     },
     "execution_count": 25,
     "metadata": {},
     "output_type": "execute_result"
    }
   ],
   "source": [
    "fights.b_stance.isnull().sum()"
   ]
  },
  {
   "cell_type": "markdown",
   "metadata": {},
   "source": [
    "There are 119 fights where red stance is missing and 116 where blue stance is missing.\n",
    "\n",
    "I don't want to discard all fights where there is no value for stance.  I'll either not count it, or just accept those unknown values as \"4\".  Sigh."
   ]
  },
  {
   "cell_type": "code",
   "execution_count": 26,
   "metadata": {},
   "outputs": [
    {
     "data": {
      "text/plain": [
       "(4393, 5)"
      ]
     },
     "execution_count": 26,
     "metadata": {},
     "output_type": "execute_result"
    }
   ],
   "source": [
    "rsc = to_categorical(r_stance_numeric)\n",
    "rsc.shape"
   ]
  },
  {
   "cell_type": "code",
   "execution_count": 27,
   "metadata": {},
   "outputs": [
    {
     "data": {
      "text/plain": [
       "(4393, 5)"
      ]
     },
     "execution_count": 27,
     "metadata": {},
     "output_type": "execute_result"
    }
   ],
   "source": [
    "bsc = to_categorical(b_stance_numeric)\n",
    "bsc.shape"
   ]
  },
  {
   "cell_type": "code",
   "execution_count": 28,
   "metadata": {},
   "outputs": [
    {
     "data": {
      "text/plain": [
       "(4393, 19)"
      ]
     },
     "execution_count": 28,
     "metadata": {},
     "output_type": "execute_result"
    }
   ],
   "source": [
    "fights.shape"
   ]
  },
  {
   "cell_type": "code",
   "execution_count": 29,
   "metadata": {},
   "outputs": [
    {
     "data": {
      "text/html": [
       "<div>\n",
       "<style scoped>\n",
       "    .dataframe tbody tr th:only-of-type {\n",
       "        vertical-align: middle;\n",
       "    }\n",
       "\n",
       "    .dataframe tbody tr th {\n",
       "        vertical-align: top;\n",
       "    }\n",
       "\n",
       "    .dataframe thead th {\n",
       "        text-align: right;\n",
       "    }\n",
       "</style>\n",
       "<table border=\"1\" class=\"dataframe\">\n",
       "  <thead>\n",
       "    <tr style=\"text-align: right;\">\n",
       "      <th></th>\n",
       "      <th>r_fighter</th>\n",
       "      <th>b_fighter</th>\n",
       "      <th>winner</th>\n",
       "      <th>loser</th>\n",
       "      <th>r_height</th>\n",
       "      <th>r_weight</th>\n",
       "      <th>r_reach</th>\n",
       "      <th>r_stance</th>\n",
       "      <th>b_height</th>\n",
       "      <th>b_weight</th>\n",
       "      <th>b_reach</th>\n",
       "      <th>b_stance</th>\n",
       "      <th>r_age</th>\n",
       "      <th>b_age</th>\n",
       "      <th>age_diff</th>\n",
       "      <th>height_diff</th>\n",
       "      <th>weight_diff</th>\n",
       "      <th>reach_diff</th>\n",
       "      <th>r_b_winner</th>\n",
       "    </tr>\n",
       "  </thead>\n",
       "  <tbody>\n",
       "    <tr>\n",
       "      <th>0</th>\n",
       "      <td>Henry Cejudo</td>\n",
       "      <td>Marlon Moraes</td>\n",
       "      <td>Henry Cejudo</td>\n",
       "      <td>Marlon Moraes</td>\n",
       "      <td>64</td>\n",
       "      <td>135</td>\n",
       "      <td>64</td>\n",
       "      <td>Orthodox</td>\n",
       "      <td>66</td>\n",
       "      <td>135</td>\n",
       "      <td>67</td>\n",
       "      <td>Orthodox</td>\n",
       "      <td>32.347945</td>\n",
       "      <td>31.136986</td>\n",
       "      <td>1.210959</td>\n",
       "      <td>-2</td>\n",
       "      <td>0</td>\n",
       "      <td>-3</td>\n",
       "      <td>r</td>\n",
       "    </tr>\n",
       "    <tr>\n",
       "      <th>1</th>\n",
       "      <td>Jimmie Rivera</td>\n",
       "      <td>Marlon Moraes</td>\n",
       "      <td>Marlon Moraes</td>\n",
       "      <td>Jimmie Rivera</td>\n",
       "      <td>64</td>\n",
       "      <td>135</td>\n",
       "      <td>68</td>\n",
       "      <td>Orthodox</td>\n",
       "      <td>66</td>\n",
       "      <td>135</td>\n",
       "      <td>67</td>\n",
       "      <td>Orthodox</td>\n",
       "      <td>28.942466</td>\n",
       "      <td>30.117808</td>\n",
       "      <td>-1.175342</td>\n",
       "      <td>-2</td>\n",
       "      <td>0</td>\n",
       "      <td>1</td>\n",
       "      <td>b</td>\n",
       "    </tr>\n",
       "    <tr>\n",
       "      <th>2</th>\n",
       "      <td>John Dodson</td>\n",
       "      <td>Marlon Moraes</td>\n",
       "      <td>Marlon Moraes</td>\n",
       "      <td>John Dodson</td>\n",
       "      <td>63</td>\n",
       "      <td>135</td>\n",
       "      <td>66</td>\n",
       "      <td>Orthodox</td>\n",
       "      <td>66</td>\n",
       "      <td>135</td>\n",
       "      <td>67</td>\n",
       "      <td>Orthodox</td>\n",
       "      <td>33.147945</td>\n",
       "      <td>29.564384</td>\n",
       "      <td>3.583562</td>\n",
       "      <td>-3</td>\n",
       "      <td>0</td>\n",
       "      <td>-1</td>\n",
       "      <td>b</td>\n",
       "    </tr>\n",
       "    <tr>\n",
       "      <th>3</th>\n",
       "      <td>Raphael Assuncao</td>\n",
       "      <td>Marlon Moraes</td>\n",
       "      <td>Marlon Moraes</td>\n",
       "      <td>Raphael Assuncao</td>\n",
       "      <td>65</td>\n",
       "      <td>135</td>\n",
       "      <td>66</td>\n",
       "      <td>Orthodox</td>\n",
       "      <td>66</td>\n",
       "      <td>135</td>\n",
       "      <td>67</td>\n",
       "      <td>Orthodox</td>\n",
       "      <td>36.567123</td>\n",
       "      <td>30.791781</td>\n",
       "      <td>5.775342</td>\n",
       "      <td>-1</td>\n",
       "      <td>0</td>\n",
       "      <td>-1</td>\n",
       "      <td>b</td>\n",
       "    </tr>\n",
       "    <tr>\n",
       "      <th>4</th>\n",
       "      <td>Raphael Assuncao</td>\n",
       "      <td>Marlon Moraes</td>\n",
       "      <td>Raphael Assuncao</td>\n",
       "      <td>Marlon Moraes</td>\n",
       "      <td>65</td>\n",
       "      <td>135</td>\n",
       "      <td>66</td>\n",
       "      <td>Orthodox</td>\n",
       "      <td>66</td>\n",
       "      <td>135</td>\n",
       "      <td>67</td>\n",
       "      <td>Orthodox</td>\n",
       "      <td>34.898630</td>\n",
       "      <td>29.123288</td>\n",
       "      <td>5.775342</td>\n",
       "      <td>-1</td>\n",
       "      <td>0</td>\n",
       "      <td>-1</td>\n",
       "      <td>r</td>\n",
       "    </tr>\n",
       "  </tbody>\n",
       "</table>\n",
       "</div>"
      ],
      "text/plain": [
       "          r_fighter      b_fighter            winner             loser  \\\n",
       "0      Henry Cejudo  Marlon Moraes      Henry Cejudo     Marlon Moraes   \n",
       "1     Jimmie Rivera  Marlon Moraes     Marlon Moraes     Jimmie Rivera   \n",
       "2       John Dodson  Marlon Moraes     Marlon Moraes       John Dodson   \n",
       "3  Raphael Assuncao  Marlon Moraes     Marlon Moraes  Raphael Assuncao   \n",
       "4  Raphael Assuncao  Marlon Moraes  Raphael Assuncao     Marlon Moraes   \n",
       "\n",
       "   r_height  r_weight  r_reach  r_stance  b_height  b_weight  b_reach  \\\n",
       "0        64       135       64  Orthodox        66       135       67   \n",
       "1        64       135       68  Orthodox        66       135       67   \n",
       "2        63       135       66  Orthodox        66       135       67   \n",
       "3        65       135       66  Orthodox        66       135       67   \n",
       "4        65       135       66  Orthodox        66       135       67   \n",
       "\n",
       "   b_stance      r_age      b_age  age_diff  height_diff  weight_diff  \\\n",
       "0  Orthodox  32.347945  31.136986  1.210959           -2            0   \n",
       "1  Orthodox  28.942466  30.117808 -1.175342           -2            0   \n",
       "2  Orthodox  33.147945  29.564384  3.583562           -3            0   \n",
       "3  Orthodox  36.567123  30.791781  5.775342           -1            0   \n",
       "4  Orthodox  34.898630  29.123288  5.775342           -1            0   \n",
       "\n",
       "   reach_diff r_b_winner  \n",
       "0          -3          r  \n",
       "1           1          b  \n",
       "2          -1          b  \n",
       "3          -1          b  \n",
       "4          -1          r  "
      ]
     },
     "execution_count": 29,
     "metadata": {},
     "output_type": "execute_result"
    }
   ],
   "source": [
    "fights.head()"
   ]
  },
  {
   "cell_type": "code",
   "execution_count": 30,
   "metadata": {},
   "outputs": [
    {
     "data": {
      "text/html": [
       "<div>\n",
       "<style scoped>\n",
       "    .dataframe tbody tr th:only-of-type {\n",
       "        vertical-align: middle;\n",
       "    }\n",
       "\n",
       "    .dataframe tbody tr th {\n",
       "        vertical-align: top;\n",
       "    }\n",
       "\n",
       "    .dataframe thead th {\n",
       "        text-align: right;\n",
       "    }\n",
       "</style>\n",
       "<table border=\"1\" class=\"dataframe\">\n",
       "  <thead>\n",
       "    <tr style=\"text-align: right;\">\n",
       "      <th></th>\n",
       "      <th>r_fighter</th>\n",
       "      <th>b_fighter</th>\n",
       "      <th>winner</th>\n",
       "      <th>loser</th>\n",
       "      <th>r_height</th>\n",
       "      <th>r_weight</th>\n",
       "      <th>r_reach</th>\n",
       "      <th>r_stance</th>\n",
       "      <th>b_height</th>\n",
       "      <th>b_weight</th>\n",
       "      <th>b_reach</th>\n",
       "      <th>b_stance</th>\n",
       "      <th>r_age</th>\n",
       "      <th>b_age</th>\n",
       "      <th>age_diff</th>\n",
       "      <th>height_diff</th>\n",
       "      <th>weight_diff</th>\n",
       "      <th>reach_diff</th>\n",
       "      <th>r_b_winner</th>\n",
       "    </tr>\n",
       "  </thead>\n",
       "  <tbody>\n",
       "    <tr>\n",
       "      <th>0</th>\n",
       "      <td>Henry Cejudo</td>\n",
       "      <td>Marlon Moraes</td>\n",
       "      <td>Henry Cejudo</td>\n",
       "      <td>Marlon Moraes</td>\n",
       "      <td>64</td>\n",
       "      <td>135</td>\n",
       "      <td>64</td>\n",
       "      <td>Orthodox</td>\n",
       "      <td>66</td>\n",
       "      <td>135</td>\n",
       "      <td>67</td>\n",
       "      <td>Orthodox</td>\n",
       "      <td>32.347945</td>\n",
       "      <td>31.136986</td>\n",
       "      <td>1.210959</td>\n",
       "      <td>-2</td>\n",
       "      <td>0</td>\n",
       "      <td>-3</td>\n",
       "      <td>r</td>\n",
       "    </tr>\n",
       "    <tr>\n",
       "      <th>1</th>\n",
       "      <td>Jimmie Rivera</td>\n",
       "      <td>Marlon Moraes</td>\n",
       "      <td>Marlon Moraes</td>\n",
       "      <td>Jimmie Rivera</td>\n",
       "      <td>64</td>\n",
       "      <td>135</td>\n",
       "      <td>68</td>\n",
       "      <td>Orthodox</td>\n",
       "      <td>66</td>\n",
       "      <td>135</td>\n",
       "      <td>67</td>\n",
       "      <td>Orthodox</td>\n",
       "      <td>28.942466</td>\n",
       "      <td>30.117808</td>\n",
       "      <td>-1.175342</td>\n",
       "      <td>-2</td>\n",
       "      <td>0</td>\n",
       "      <td>1</td>\n",
       "      <td>b</td>\n",
       "    </tr>\n",
       "    <tr>\n",
       "      <th>2</th>\n",
       "      <td>John Dodson</td>\n",
       "      <td>Marlon Moraes</td>\n",
       "      <td>Marlon Moraes</td>\n",
       "      <td>John Dodson</td>\n",
       "      <td>63</td>\n",
       "      <td>135</td>\n",
       "      <td>66</td>\n",
       "      <td>Orthodox</td>\n",
       "      <td>66</td>\n",
       "      <td>135</td>\n",
       "      <td>67</td>\n",
       "      <td>Orthodox</td>\n",
       "      <td>33.147945</td>\n",
       "      <td>29.564384</td>\n",
       "      <td>3.583562</td>\n",
       "      <td>-3</td>\n",
       "      <td>0</td>\n",
       "      <td>-1</td>\n",
       "      <td>b</td>\n",
       "    </tr>\n",
       "    <tr>\n",
       "      <th>3</th>\n",
       "      <td>Raphael Assuncao</td>\n",
       "      <td>Marlon Moraes</td>\n",
       "      <td>Marlon Moraes</td>\n",
       "      <td>Raphael Assuncao</td>\n",
       "      <td>65</td>\n",
       "      <td>135</td>\n",
       "      <td>66</td>\n",
       "      <td>Orthodox</td>\n",
       "      <td>66</td>\n",
       "      <td>135</td>\n",
       "      <td>67</td>\n",
       "      <td>Orthodox</td>\n",
       "      <td>36.567123</td>\n",
       "      <td>30.791781</td>\n",
       "      <td>5.775342</td>\n",
       "      <td>-1</td>\n",
       "      <td>0</td>\n",
       "      <td>-1</td>\n",
       "      <td>b</td>\n",
       "    </tr>\n",
       "    <tr>\n",
       "      <th>4</th>\n",
       "      <td>Raphael Assuncao</td>\n",
       "      <td>Marlon Moraes</td>\n",
       "      <td>Raphael Assuncao</td>\n",
       "      <td>Marlon Moraes</td>\n",
       "      <td>65</td>\n",
       "      <td>135</td>\n",
       "      <td>66</td>\n",
       "      <td>Orthodox</td>\n",
       "      <td>66</td>\n",
       "      <td>135</td>\n",
       "      <td>67</td>\n",
       "      <td>Orthodox</td>\n",
       "      <td>34.898630</td>\n",
       "      <td>29.123288</td>\n",
       "      <td>5.775342</td>\n",
       "      <td>-1</td>\n",
       "      <td>0</td>\n",
       "      <td>-1</td>\n",
       "      <td>r</td>\n",
       "    </tr>\n",
       "  </tbody>\n",
       "</table>\n",
       "</div>"
      ],
      "text/plain": [
       "          r_fighter      b_fighter            winner             loser  \\\n",
       "0      Henry Cejudo  Marlon Moraes      Henry Cejudo     Marlon Moraes   \n",
       "1     Jimmie Rivera  Marlon Moraes     Marlon Moraes     Jimmie Rivera   \n",
       "2       John Dodson  Marlon Moraes     Marlon Moraes       John Dodson   \n",
       "3  Raphael Assuncao  Marlon Moraes     Marlon Moraes  Raphael Assuncao   \n",
       "4  Raphael Assuncao  Marlon Moraes  Raphael Assuncao     Marlon Moraes   \n",
       "\n",
       "   r_height  r_weight  r_reach  r_stance  b_height  b_weight  b_reach  \\\n",
       "0        64       135       64  Orthodox        66       135       67   \n",
       "1        64       135       68  Orthodox        66       135       67   \n",
       "2        63       135       66  Orthodox        66       135       67   \n",
       "3        65       135       66  Orthodox        66       135       67   \n",
       "4        65       135       66  Orthodox        66       135       67   \n",
       "\n",
       "   b_stance      r_age      b_age  age_diff  height_diff  weight_diff  \\\n",
       "0  Orthodox  32.347945  31.136986  1.210959           -2            0   \n",
       "1  Orthodox  28.942466  30.117808 -1.175342           -2            0   \n",
       "2  Orthodox  33.147945  29.564384  3.583562           -3            0   \n",
       "3  Orthodox  36.567123  30.791781  5.775342           -1            0   \n",
       "4  Orthodox  34.898630  29.123288  5.775342           -1            0   \n",
       "\n",
       "   reach_diff r_b_winner  \n",
       "0          -3          r  \n",
       "1           1          b  \n",
       "2          -1          b  \n",
       "3          -1          b  \n",
       "4          -1          r  "
      ]
     },
     "execution_count": 30,
     "metadata": {},
     "output_type": "execute_result"
    }
   ],
   "source": [
    "fights_backup = fights.copy()\n",
    "fights_backup.head()"
   ]
  },
  {
   "cell_type": "code",
   "execution_count": 31,
   "metadata": {},
   "outputs": [
    {
     "data": {
      "text/html": [
       "<div>\n",
       "<style scoped>\n",
       "    .dataframe tbody tr th:only-of-type {\n",
       "        vertical-align: middle;\n",
       "    }\n",
       "\n",
       "    .dataframe tbody tr th {\n",
       "        vertical-align: top;\n",
       "    }\n",
       "\n",
       "    .dataframe thead th {\n",
       "        text-align: right;\n",
       "    }\n",
       "</style>\n",
       "<table border=\"1\" class=\"dataframe\">\n",
       "  <thead>\n",
       "    <tr style=\"text-align: right;\">\n",
       "      <th></th>\n",
       "      <th>r_fighter</th>\n",
       "      <th>b_fighter</th>\n",
       "      <th>winner</th>\n",
       "      <th>loser</th>\n",
       "      <th>r_height</th>\n",
       "      <th>r_weight</th>\n",
       "      <th>r_reach</th>\n",
       "      <th>r_stance</th>\n",
       "      <th>b_height</th>\n",
       "      <th>b_weight</th>\n",
       "      <th>b_reach</th>\n",
       "      <th>b_stance</th>\n",
       "      <th>r_age</th>\n",
       "      <th>b_age</th>\n",
       "      <th>age_diff</th>\n",
       "      <th>height_diff</th>\n",
       "      <th>weight_diff</th>\n",
       "      <th>reach_diff</th>\n",
       "      <th>r_b_winner</th>\n",
       "    </tr>\n",
       "  </thead>\n",
       "  <tbody>\n",
       "    <tr>\n",
       "      <th>0</th>\n",
       "      <td>Henry Cejudo</td>\n",
       "      <td>Marlon Moraes</td>\n",
       "      <td>Henry Cejudo</td>\n",
       "      <td>Marlon Moraes</td>\n",
       "      <td>-1.863237</td>\n",
       "      <td>-1.006467</td>\n",
       "      <td>-1.999412</td>\n",
       "      <td>Orthodox</td>\n",
       "      <td>-1.313331</td>\n",
       "      <td>-0.995861</td>\n",
       "      <td>-1.288803</td>\n",
       "      <td>Orthodox</td>\n",
       "      <td>32.347945</td>\n",
       "      <td>31.136986</td>\n",
       "      <td>0.146347</td>\n",
       "      <td>-0.780406</td>\n",
       "      <td>-0.054475</td>\n",
       "      <td>-0.924498</td>\n",
       "      <td>r</td>\n",
       "    </tr>\n",
       "    <tr>\n",
       "      <th>1</th>\n",
       "      <td>Jimmie Rivera</td>\n",
       "      <td>Marlon Moraes</td>\n",
       "      <td>Marlon Moraes</td>\n",
       "      <td>Jimmie Rivera</td>\n",
       "      <td>-1.863237</td>\n",
       "      <td>-1.006467</td>\n",
       "      <td>-1.025344</td>\n",
       "      <td>Orthodox</td>\n",
       "      <td>-1.313331</td>\n",
       "      <td>-0.995861</td>\n",
       "      <td>-1.288803</td>\n",
       "      <td>Orthodox</td>\n",
       "      <td>28.942466</td>\n",
       "      <td>30.117808</td>\n",
       "      <td>-0.318509</td>\n",
       "      <td>-0.780406</td>\n",
       "      <td>-0.054475</td>\n",
       "      <td>0.286752</td>\n",
       "      <td>b</td>\n",
       "    </tr>\n",
       "    <tr>\n",
       "      <th>2</th>\n",
       "      <td>John Dodson</td>\n",
       "      <td>Marlon Moraes</td>\n",
       "      <td>Marlon Moraes</td>\n",
       "      <td>John Dodson</td>\n",
       "      <td>-2.154930</td>\n",
       "      <td>-1.006467</td>\n",
       "      <td>-1.512378</td>\n",
       "      <td>Orthodox</td>\n",
       "      <td>-1.313331</td>\n",
       "      <td>-0.995861</td>\n",
       "      <td>-1.288803</td>\n",
       "      <td>Orthodox</td>\n",
       "      <td>33.147945</td>\n",
       "      <td>29.564384</td>\n",
       "      <td>0.608535</td>\n",
       "      <td>-1.176881</td>\n",
       "      <td>-0.054475</td>\n",
       "      <td>-0.318873</td>\n",
       "      <td>b</td>\n",
       "    </tr>\n",
       "    <tr>\n",
       "      <th>3</th>\n",
       "      <td>Raphael Assuncao</td>\n",
       "      <td>Marlon Moraes</td>\n",
       "      <td>Marlon Moraes</td>\n",
       "      <td>Raphael Assuncao</td>\n",
       "      <td>-1.571544</td>\n",
       "      <td>-1.006467</td>\n",
       "      <td>-1.512378</td>\n",
       "      <td>Orthodox</td>\n",
       "      <td>-1.313331</td>\n",
       "      <td>-0.995861</td>\n",
       "      <td>-1.288803</td>\n",
       "      <td>Orthodox</td>\n",
       "      <td>36.567123</td>\n",
       "      <td>30.791781</td>\n",
       "      <td>1.035498</td>\n",
       "      <td>-0.383930</td>\n",
       "      <td>-0.054475</td>\n",
       "      <td>-0.318873</td>\n",
       "      <td>b</td>\n",
       "    </tr>\n",
       "    <tr>\n",
       "      <th>4</th>\n",
       "      <td>Raphael Assuncao</td>\n",
       "      <td>Marlon Moraes</td>\n",
       "      <td>Raphael Assuncao</td>\n",
       "      <td>Marlon Moraes</td>\n",
       "      <td>-1.571544</td>\n",
       "      <td>-1.006467</td>\n",
       "      <td>-1.512378</td>\n",
       "      <td>Orthodox</td>\n",
       "      <td>-1.313331</td>\n",
       "      <td>-0.995861</td>\n",
       "      <td>-1.288803</td>\n",
       "      <td>Orthodox</td>\n",
       "      <td>34.898630</td>\n",
       "      <td>29.123288</td>\n",
       "      <td>1.035498</td>\n",
       "      <td>-0.383930</td>\n",
       "      <td>-0.054475</td>\n",
       "      <td>-0.318873</td>\n",
       "      <td>r</td>\n",
       "    </tr>\n",
       "  </tbody>\n",
       "</table>\n",
       "</div>"
      ],
      "text/plain": [
       "          r_fighter      b_fighter            winner             loser  \\\n",
       "0      Henry Cejudo  Marlon Moraes      Henry Cejudo     Marlon Moraes   \n",
       "1     Jimmie Rivera  Marlon Moraes     Marlon Moraes     Jimmie Rivera   \n",
       "2       John Dodson  Marlon Moraes     Marlon Moraes       John Dodson   \n",
       "3  Raphael Assuncao  Marlon Moraes     Marlon Moraes  Raphael Assuncao   \n",
       "4  Raphael Assuncao  Marlon Moraes  Raphael Assuncao     Marlon Moraes   \n",
       "\n",
       "   r_height  r_weight   r_reach  r_stance  b_height  b_weight   b_reach  \\\n",
       "0 -1.863237 -1.006467 -1.999412  Orthodox -1.313331 -0.995861 -1.288803   \n",
       "1 -1.863237 -1.006467 -1.025344  Orthodox -1.313331 -0.995861 -1.288803   \n",
       "2 -2.154930 -1.006467 -1.512378  Orthodox -1.313331 -0.995861 -1.288803   \n",
       "3 -1.571544 -1.006467 -1.512378  Orthodox -1.313331 -0.995861 -1.288803   \n",
       "4 -1.571544 -1.006467 -1.512378  Orthodox -1.313331 -0.995861 -1.288803   \n",
       "\n",
       "   b_stance      r_age      b_age  age_diff  height_diff  weight_diff  \\\n",
       "0  Orthodox  32.347945  31.136986  0.146347    -0.780406    -0.054475   \n",
       "1  Orthodox  28.942466  30.117808 -0.318509    -0.780406    -0.054475   \n",
       "2  Orthodox  33.147945  29.564384  0.608535    -1.176881    -0.054475   \n",
       "3  Orthodox  36.567123  30.791781  1.035498    -0.383930    -0.054475   \n",
       "4  Orthodox  34.898630  29.123288  1.035498    -0.383930    -0.054475   \n",
       "\n",
       "   reach_diff r_b_winner  \n",
       "0   -0.924498          r  \n",
       "1    0.286752          b  \n",
       "2   -0.318873          b  \n",
       "3   -0.318873          b  \n",
       "4   -0.318873          r  "
      ]
     },
     "execution_count": 31,
     "metadata": {},
     "output_type": "execute_result"
    }
   ],
   "source": [
    "scaled_fights = fighters_cleanser.scale_columns(fights, ['r_height', 'r_weight', 'r_reach', 'b_height', 'b_weight', 'b_reach', 'age_diff', 'height_diff', 'weight_diff', 'reach_diff'])\n",
    "scaled_fights.head()"
   ]
  },
  {
   "cell_type": "code",
   "execution_count": 32,
   "metadata": {},
   "outputs": [
    {
     "data": {
      "text/html": [
       "<div>\n",
       "<style scoped>\n",
       "    .dataframe tbody tr th:only-of-type {\n",
       "        vertical-align: middle;\n",
       "    }\n",
       "\n",
       "    .dataframe tbody tr th {\n",
       "        vertical-align: top;\n",
       "    }\n",
       "\n",
       "    .dataframe thead th {\n",
       "        text-align: right;\n",
       "    }\n",
       "</style>\n",
       "<table border=\"1\" class=\"dataframe\">\n",
       "  <thead>\n",
       "    <tr style=\"text-align: right;\">\n",
       "      <th></th>\n",
       "      <th>r_fighter</th>\n",
       "      <th>b_fighter</th>\n",
       "      <th>winner</th>\n",
       "      <th>loser</th>\n",
       "      <th>r_height</th>\n",
       "      <th>r_weight</th>\n",
       "      <th>r_reach</th>\n",
       "      <th>r_stance</th>\n",
       "      <th>b_height</th>\n",
       "      <th>b_weight</th>\n",
       "      <th>b_reach</th>\n",
       "      <th>b_stance</th>\n",
       "      <th>r_age</th>\n",
       "      <th>b_age</th>\n",
       "      <th>age_diff</th>\n",
       "      <th>height_diff</th>\n",
       "      <th>weight_diff</th>\n",
       "      <th>reach_diff</th>\n",
       "      <th>r_b_winner</th>\n",
       "    </tr>\n",
       "  </thead>\n",
       "  <tbody>\n",
       "    <tr>\n",
       "      <th>0</th>\n",
       "      <td>Henry Cejudo</td>\n",
       "      <td>Marlon Moraes</td>\n",
       "      <td>Henry Cejudo</td>\n",
       "      <td>Marlon Moraes</td>\n",
       "      <td>-1.863237</td>\n",
       "      <td>-1.006467</td>\n",
       "      <td>-1.999412</td>\n",
       "      <td>Orthodox</td>\n",
       "      <td>-1.313331</td>\n",
       "      <td>-0.995861</td>\n",
       "      <td>-1.288803</td>\n",
       "      <td>Orthodox</td>\n",
       "      <td>32.347945</td>\n",
       "      <td>31.136986</td>\n",
       "      <td>0.146347</td>\n",
       "      <td>-0.780406</td>\n",
       "      <td>-0.054475</td>\n",
       "      <td>-0.924498</td>\n",
       "      <td>r</td>\n",
       "    </tr>\n",
       "    <tr>\n",
       "      <th>1</th>\n",
       "      <td>Jimmie Rivera</td>\n",
       "      <td>Marlon Moraes</td>\n",
       "      <td>Marlon Moraes</td>\n",
       "      <td>Jimmie Rivera</td>\n",
       "      <td>-1.863237</td>\n",
       "      <td>-1.006467</td>\n",
       "      <td>-1.025344</td>\n",
       "      <td>Orthodox</td>\n",
       "      <td>-1.313331</td>\n",
       "      <td>-0.995861</td>\n",
       "      <td>-1.288803</td>\n",
       "      <td>Orthodox</td>\n",
       "      <td>28.942466</td>\n",
       "      <td>30.117808</td>\n",
       "      <td>-0.318509</td>\n",
       "      <td>-0.780406</td>\n",
       "      <td>-0.054475</td>\n",
       "      <td>0.286752</td>\n",
       "      <td>b</td>\n",
       "    </tr>\n",
       "    <tr>\n",
       "      <th>2</th>\n",
       "      <td>John Dodson</td>\n",
       "      <td>Marlon Moraes</td>\n",
       "      <td>Marlon Moraes</td>\n",
       "      <td>John Dodson</td>\n",
       "      <td>-2.154930</td>\n",
       "      <td>-1.006467</td>\n",
       "      <td>-1.512378</td>\n",
       "      <td>Orthodox</td>\n",
       "      <td>-1.313331</td>\n",
       "      <td>-0.995861</td>\n",
       "      <td>-1.288803</td>\n",
       "      <td>Orthodox</td>\n",
       "      <td>33.147945</td>\n",
       "      <td>29.564384</td>\n",
       "      <td>0.608535</td>\n",
       "      <td>-1.176881</td>\n",
       "      <td>-0.054475</td>\n",
       "      <td>-0.318873</td>\n",
       "      <td>b</td>\n",
       "    </tr>\n",
       "    <tr>\n",
       "      <th>3</th>\n",
       "      <td>Raphael Assuncao</td>\n",
       "      <td>Marlon Moraes</td>\n",
       "      <td>Marlon Moraes</td>\n",
       "      <td>Raphael Assuncao</td>\n",
       "      <td>-1.571544</td>\n",
       "      <td>-1.006467</td>\n",
       "      <td>-1.512378</td>\n",
       "      <td>Orthodox</td>\n",
       "      <td>-1.313331</td>\n",
       "      <td>-0.995861</td>\n",
       "      <td>-1.288803</td>\n",
       "      <td>Orthodox</td>\n",
       "      <td>36.567123</td>\n",
       "      <td>30.791781</td>\n",
       "      <td>1.035498</td>\n",
       "      <td>-0.383930</td>\n",
       "      <td>-0.054475</td>\n",
       "      <td>-0.318873</td>\n",
       "      <td>b</td>\n",
       "    </tr>\n",
       "    <tr>\n",
       "      <th>4</th>\n",
       "      <td>Raphael Assuncao</td>\n",
       "      <td>Marlon Moraes</td>\n",
       "      <td>Raphael Assuncao</td>\n",
       "      <td>Marlon Moraes</td>\n",
       "      <td>-1.571544</td>\n",
       "      <td>-1.006467</td>\n",
       "      <td>-1.512378</td>\n",
       "      <td>Orthodox</td>\n",
       "      <td>-1.313331</td>\n",
       "      <td>-0.995861</td>\n",
       "      <td>-1.288803</td>\n",
       "      <td>Orthodox</td>\n",
       "      <td>34.898630</td>\n",
       "      <td>29.123288</td>\n",
       "      <td>1.035498</td>\n",
       "      <td>-0.383930</td>\n",
       "      <td>-0.054475</td>\n",
       "      <td>-0.318873</td>\n",
       "      <td>r</td>\n",
       "    </tr>\n",
       "  </tbody>\n",
       "</table>\n",
       "</div>"
      ],
      "text/plain": [
       "          r_fighter      b_fighter            winner             loser  \\\n",
       "0      Henry Cejudo  Marlon Moraes      Henry Cejudo     Marlon Moraes   \n",
       "1     Jimmie Rivera  Marlon Moraes     Marlon Moraes     Jimmie Rivera   \n",
       "2       John Dodson  Marlon Moraes     Marlon Moraes       John Dodson   \n",
       "3  Raphael Assuncao  Marlon Moraes     Marlon Moraes  Raphael Assuncao   \n",
       "4  Raphael Assuncao  Marlon Moraes  Raphael Assuncao     Marlon Moraes   \n",
       "\n",
       "   r_height  r_weight   r_reach  r_stance  b_height  b_weight   b_reach  \\\n",
       "0 -1.863237 -1.006467 -1.999412  Orthodox -1.313331 -0.995861 -1.288803   \n",
       "1 -1.863237 -1.006467 -1.025344  Orthodox -1.313331 -0.995861 -1.288803   \n",
       "2 -2.154930 -1.006467 -1.512378  Orthodox -1.313331 -0.995861 -1.288803   \n",
       "3 -1.571544 -1.006467 -1.512378  Orthodox -1.313331 -0.995861 -1.288803   \n",
       "4 -1.571544 -1.006467 -1.512378  Orthodox -1.313331 -0.995861 -1.288803   \n",
       "\n",
       "   b_stance      r_age      b_age  age_diff  height_diff  weight_diff  \\\n",
       "0  Orthodox  32.347945  31.136986  0.146347    -0.780406    -0.054475   \n",
       "1  Orthodox  28.942466  30.117808 -0.318509    -0.780406    -0.054475   \n",
       "2  Orthodox  33.147945  29.564384  0.608535    -1.176881    -0.054475   \n",
       "3  Orthodox  36.567123  30.791781  1.035498    -0.383930    -0.054475   \n",
       "4  Orthodox  34.898630  29.123288  1.035498    -0.383930    -0.054475   \n",
       "\n",
       "   reach_diff r_b_winner  \n",
       "0   -0.924498          r  \n",
       "1    0.286752          b  \n",
       "2   -0.318873          b  \n",
       "3   -0.318873          b  \n",
       "4   -0.318873          r  "
      ]
     },
     "execution_count": 32,
     "metadata": {},
     "output_type": "execute_result"
    }
   ],
   "source": [
    "fights.head()"
   ]
  },
  {
   "cell_type": "code",
   "execution_count": 33,
   "metadata": {},
   "outputs": [
    {
     "data": {
      "text/html": [
       "<div>\n",
       "<style scoped>\n",
       "    .dataframe tbody tr th:only-of-type {\n",
       "        vertical-align: middle;\n",
       "    }\n",
       "\n",
       "    .dataframe tbody tr th {\n",
       "        vertical-align: top;\n",
       "    }\n",
       "\n",
       "    .dataframe thead th {\n",
       "        text-align: right;\n",
       "    }\n",
       "</style>\n",
       "<table border=\"1\" class=\"dataframe\">\n",
       "  <thead>\n",
       "    <tr style=\"text-align: right;\">\n",
       "      <th></th>\n",
       "      <th>r_fighter</th>\n",
       "      <th>b_fighter</th>\n",
       "      <th>winner</th>\n",
       "      <th>loser</th>\n",
       "      <th>r_height</th>\n",
       "      <th>r_weight</th>\n",
       "      <th>r_reach</th>\n",
       "      <th>r_stance</th>\n",
       "      <th>b_height</th>\n",
       "      <th>b_weight</th>\n",
       "      <th>b_reach</th>\n",
       "      <th>b_stance</th>\n",
       "      <th>r_age</th>\n",
       "      <th>b_age</th>\n",
       "      <th>age_diff</th>\n",
       "      <th>height_diff</th>\n",
       "      <th>weight_diff</th>\n",
       "      <th>reach_diff</th>\n",
       "      <th>r_b_winner</th>\n",
       "    </tr>\n",
       "  </thead>\n",
       "  <tbody>\n",
       "    <tr>\n",
       "      <th>0</th>\n",
       "      <td>Henry Cejudo</td>\n",
       "      <td>Marlon Moraes</td>\n",
       "      <td>Henry Cejudo</td>\n",
       "      <td>Marlon Moraes</td>\n",
       "      <td>64</td>\n",
       "      <td>135</td>\n",
       "      <td>64</td>\n",
       "      <td>Orthodox</td>\n",
       "      <td>66</td>\n",
       "      <td>135</td>\n",
       "      <td>67</td>\n",
       "      <td>Orthodox</td>\n",
       "      <td>32.347945</td>\n",
       "      <td>31.136986</td>\n",
       "      <td>1.210959</td>\n",
       "      <td>-2</td>\n",
       "      <td>0</td>\n",
       "      <td>-3</td>\n",
       "      <td>r</td>\n",
       "    </tr>\n",
       "    <tr>\n",
       "      <th>1</th>\n",
       "      <td>Jimmie Rivera</td>\n",
       "      <td>Marlon Moraes</td>\n",
       "      <td>Marlon Moraes</td>\n",
       "      <td>Jimmie Rivera</td>\n",
       "      <td>64</td>\n",
       "      <td>135</td>\n",
       "      <td>68</td>\n",
       "      <td>Orthodox</td>\n",
       "      <td>66</td>\n",
       "      <td>135</td>\n",
       "      <td>67</td>\n",
       "      <td>Orthodox</td>\n",
       "      <td>28.942466</td>\n",
       "      <td>30.117808</td>\n",
       "      <td>-1.175342</td>\n",
       "      <td>-2</td>\n",
       "      <td>0</td>\n",
       "      <td>1</td>\n",
       "      <td>b</td>\n",
       "    </tr>\n",
       "    <tr>\n",
       "      <th>2</th>\n",
       "      <td>John Dodson</td>\n",
       "      <td>Marlon Moraes</td>\n",
       "      <td>Marlon Moraes</td>\n",
       "      <td>John Dodson</td>\n",
       "      <td>63</td>\n",
       "      <td>135</td>\n",
       "      <td>66</td>\n",
       "      <td>Orthodox</td>\n",
       "      <td>66</td>\n",
       "      <td>135</td>\n",
       "      <td>67</td>\n",
       "      <td>Orthodox</td>\n",
       "      <td>33.147945</td>\n",
       "      <td>29.564384</td>\n",
       "      <td>3.583562</td>\n",
       "      <td>-3</td>\n",
       "      <td>0</td>\n",
       "      <td>-1</td>\n",
       "      <td>b</td>\n",
       "    </tr>\n",
       "    <tr>\n",
       "      <th>3</th>\n",
       "      <td>Raphael Assuncao</td>\n",
       "      <td>Marlon Moraes</td>\n",
       "      <td>Marlon Moraes</td>\n",
       "      <td>Raphael Assuncao</td>\n",
       "      <td>65</td>\n",
       "      <td>135</td>\n",
       "      <td>66</td>\n",
       "      <td>Orthodox</td>\n",
       "      <td>66</td>\n",
       "      <td>135</td>\n",
       "      <td>67</td>\n",
       "      <td>Orthodox</td>\n",
       "      <td>36.567123</td>\n",
       "      <td>30.791781</td>\n",
       "      <td>5.775342</td>\n",
       "      <td>-1</td>\n",
       "      <td>0</td>\n",
       "      <td>-1</td>\n",
       "      <td>b</td>\n",
       "    </tr>\n",
       "    <tr>\n",
       "      <th>4</th>\n",
       "      <td>Raphael Assuncao</td>\n",
       "      <td>Marlon Moraes</td>\n",
       "      <td>Raphael Assuncao</td>\n",
       "      <td>Marlon Moraes</td>\n",
       "      <td>65</td>\n",
       "      <td>135</td>\n",
       "      <td>66</td>\n",
       "      <td>Orthodox</td>\n",
       "      <td>66</td>\n",
       "      <td>135</td>\n",
       "      <td>67</td>\n",
       "      <td>Orthodox</td>\n",
       "      <td>34.898630</td>\n",
       "      <td>29.123288</td>\n",
       "      <td>5.775342</td>\n",
       "      <td>-1</td>\n",
       "      <td>0</td>\n",
       "      <td>-1</td>\n",
       "      <td>r</td>\n",
       "    </tr>\n",
       "  </tbody>\n",
       "</table>\n",
       "</div>"
      ],
      "text/plain": [
       "          r_fighter      b_fighter            winner             loser  \\\n",
       "0      Henry Cejudo  Marlon Moraes      Henry Cejudo     Marlon Moraes   \n",
       "1     Jimmie Rivera  Marlon Moraes     Marlon Moraes     Jimmie Rivera   \n",
       "2       John Dodson  Marlon Moraes     Marlon Moraes       John Dodson   \n",
       "3  Raphael Assuncao  Marlon Moraes     Marlon Moraes  Raphael Assuncao   \n",
       "4  Raphael Assuncao  Marlon Moraes  Raphael Assuncao     Marlon Moraes   \n",
       "\n",
       "   r_height  r_weight  r_reach  r_stance  b_height  b_weight  b_reach  \\\n",
       "0        64       135       64  Orthodox        66       135       67   \n",
       "1        64       135       68  Orthodox        66       135       67   \n",
       "2        63       135       66  Orthodox        66       135       67   \n",
       "3        65       135       66  Orthodox        66       135       67   \n",
       "4        65       135       66  Orthodox        66       135       67   \n",
       "\n",
       "   b_stance      r_age      b_age  age_diff  height_diff  weight_diff  \\\n",
       "0  Orthodox  32.347945  31.136986  1.210959           -2            0   \n",
       "1  Orthodox  28.942466  30.117808 -1.175342           -2            0   \n",
       "2  Orthodox  33.147945  29.564384  3.583562           -3            0   \n",
       "3  Orthodox  36.567123  30.791781  5.775342           -1            0   \n",
       "4  Orthodox  34.898630  29.123288  5.775342           -1            0   \n",
       "\n",
       "   reach_diff r_b_winner  \n",
       "0          -3          r  \n",
       "1           1          b  \n",
       "2          -1          b  \n",
       "3          -1          b  \n",
       "4          -1          r  "
      ]
     },
     "execution_count": 33,
     "metadata": {},
     "output_type": "execute_result"
    }
   ],
   "source": [
    "fights_backup.head()"
   ]
  },
  {
   "cell_type": "markdown",
   "metadata": {},
   "source": [
    "Calling fighters_cleanser.scale_columns() on fights will change fights.  It doesn't just return a modified DataFrame.  Is that a defect in my code, or something with Pandas.\n",
    "\n",
    "I suspect it is from this line in scale_column():  \"column = column.apply(lambda n: (n - mean) / std)\""
   ]
  },
  {
   "cell_type": "code",
   "execution_count": 34,
   "metadata": {},
   "outputs": [
    {
     "data": {
      "text/plain": [
       "array([[1., 0., 0., 0., 0.],\n",
       "       [1., 0., 0., 0., 0.],\n",
       "       [1., 0., 0., 0., 0.],\n",
       "       ...,\n",
       "       [1., 0., 0., 0., 0.],\n",
       "       [1., 0., 0., 0., 0.],\n",
       "       [1., 0., 0., 0., 0.]], dtype=float32)"
      ]
     },
     "execution_count": 34,
     "metadata": {},
     "output_type": "execute_result"
    }
   ],
   "source": [
    "rsc"
   ]
  },
  {
   "cell_type": "code",
   "execution_count": 35,
   "metadata": {},
   "outputs": [
    {
     "data": {
      "text/plain": [
       "array([[1., 1., 1., ..., 1., 1., 1.],\n",
       "       [0., 0., 0., ..., 0., 0., 0.],\n",
       "       [0., 0., 0., ..., 0., 0., 0.],\n",
       "       [0., 0., 0., ..., 0., 0., 0.],\n",
       "       [0., 0., 0., ..., 0., 0., 0.]], dtype=float32)"
      ]
     },
     "execution_count": 35,
     "metadata": {},
     "output_type": "execute_result"
    }
   ],
   "source": [
    "rsc.T"
   ]
  },
  {
   "cell_type": "code",
   "execution_count": 36,
   "metadata": {},
   "outputs": [],
   "source": [
    "scaled_fights['r_orthodox'] = rsc.T[0]\n",
    "scaled_fights['r_southpaw'] = rsc.T[1]\n",
    "scaled_fights['r_switch'] = rsc.T[2]\n",
    "scaled_fights['r_open'] = rsc.T[3]"
   ]
  },
  {
   "cell_type": "code",
   "execution_count": 37,
   "metadata": {},
   "outputs": [],
   "source": [
    "scaled_fights['b_orthodox'] = bsc.T[0]\n",
    "scaled_fights['b_southpaw'] = bsc.T[1]\n",
    "scaled_fights['b_switch'] = bsc.T[2]\n",
    "scaled_fights['b_open'] = bsc.T[3]"
   ]
  },
  {
   "cell_type": "code",
   "execution_count": 38,
   "metadata": {},
   "outputs": [],
   "source": [
    "scaled_fights['r_won'] = scaled_fights.r_b_winner.apply(lambda x: 1 if x == 'r' else 0)"
   ]
  },
  {
   "cell_type": "code",
   "execution_count": 39,
   "metadata": {},
   "outputs": [],
   "source": [
    "#scaled_fights = scaled_fights.drop(columns=['r_stance', 'b_stance'])"
   ]
  },
  {
   "cell_type": "code",
   "execution_count": 40,
   "metadata": {},
   "outputs": [],
   "source": [
    "#scaled_fights = scaled_fights.drop(columns=['r_fighter', 'b_fighter', 'winner', 'loser', 'r_b_winner'])"
   ]
  },
  {
   "cell_type": "code",
   "execution_count": 41,
   "metadata": {},
   "outputs": [
    {
     "data": {
      "text/html": [
       "<div>\n",
       "<style scoped>\n",
       "    .dataframe tbody tr th:only-of-type {\n",
       "        vertical-align: middle;\n",
       "    }\n",
       "\n",
       "    .dataframe tbody tr th {\n",
       "        vertical-align: top;\n",
       "    }\n",
       "\n",
       "    .dataframe thead th {\n",
       "        text-align: right;\n",
       "    }\n",
       "</style>\n",
       "<table border=\"1\" class=\"dataframe\">\n",
       "  <thead>\n",
       "    <tr style=\"text-align: right;\">\n",
       "      <th></th>\n",
       "      <th>r_fighter</th>\n",
       "      <th>b_fighter</th>\n",
       "      <th>winner</th>\n",
       "      <th>loser</th>\n",
       "      <th>r_height</th>\n",
       "      <th>r_weight</th>\n",
       "      <th>r_reach</th>\n",
       "      <th>r_stance</th>\n",
       "      <th>b_height</th>\n",
       "      <th>b_weight</th>\n",
       "      <th>...</th>\n",
       "      <th>r_b_winner</th>\n",
       "      <th>r_orthodox</th>\n",
       "      <th>r_southpaw</th>\n",
       "      <th>r_switch</th>\n",
       "      <th>r_open</th>\n",
       "      <th>b_orthodox</th>\n",
       "      <th>b_southpaw</th>\n",
       "      <th>b_switch</th>\n",
       "      <th>b_open</th>\n",
       "      <th>r_won</th>\n",
       "    </tr>\n",
       "  </thead>\n",
       "  <tbody>\n",
       "    <tr>\n",
       "      <th>0</th>\n",
       "      <td>Henry Cejudo</td>\n",
       "      <td>Marlon Moraes</td>\n",
       "      <td>Henry Cejudo</td>\n",
       "      <td>Marlon Moraes</td>\n",
       "      <td>-1.863237</td>\n",
       "      <td>-1.006467</td>\n",
       "      <td>-1.999412</td>\n",
       "      <td>Orthodox</td>\n",
       "      <td>-1.313331</td>\n",
       "      <td>-0.995861</td>\n",
       "      <td>...</td>\n",
       "      <td>r</td>\n",
       "      <td>1.0</td>\n",
       "      <td>0.0</td>\n",
       "      <td>0.0</td>\n",
       "      <td>0.0</td>\n",
       "      <td>1.0</td>\n",
       "      <td>0.0</td>\n",
       "      <td>0.0</td>\n",
       "      <td>0.0</td>\n",
       "      <td>1</td>\n",
       "    </tr>\n",
       "    <tr>\n",
       "      <th>1</th>\n",
       "      <td>Jimmie Rivera</td>\n",
       "      <td>Marlon Moraes</td>\n",
       "      <td>Marlon Moraes</td>\n",
       "      <td>Jimmie Rivera</td>\n",
       "      <td>-1.863237</td>\n",
       "      <td>-1.006467</td>\n",
       "      <td>-1.025344</td>\n",
       "      <td>Orthodox</td>\n",
       "      <td>-1.313331</td>\n",
       "      <td>-0.995861</td>\n",
       "      <td>...</td>\n",
       "      <td>b</td>\n",
       "      <td>1.0</td>\n",
       "      <td>0.0</td>\n",
       "      <td>0.0</td>\n",
       "      <td>0.0</td>\n",
       "      <td>1.0</td>\n",
       "      <td>0.0</td>\n",
       "      <td>0.0</td>\n",
       "      <td>0.0</td>\n",
       "      <td>0</td>\n",
       "    </tr>\n",
       "    <tr>\n",
       "      <th>2</th>\n",
       "      <td>John Dodson</td>\n",
       "      <td>Marlon Moraes</td>\n",
       "      <td>Marlon Moraes</td>\n",
       "      <td>John Dodson</td>\n",
       "      <td>-2.154930</td>\n",
       "      <td>-1.006467</td>\n",
       "      <td>-1.512378</td>\n",
       "      <td>Orthodox</td>\n",
       "      <td>-1.313331</td>\n",
       "      <td>-0.995861</td>\n",
       "      <td>...</td>\n",
       "      <td>b</td>\n",
       "      <td>1.0</td>\n",
       "      <td>0.0</td>\n",
       "      <td>0.0</td>\n",
       "      <td>0.0</td>\n",
       "      <td>1.0</td>\n",
       "      <td>0.0</td>\n",
       "      <td>0.0</td>\n",
       "      <td>0.0</td>\n",
       "      <td>0</td>\n",
       "    </tr>\n",
       "    <tr>\n",
       "      <th>3</th>\n",
       "      <td>Raphael Assuncao</td>\n",
       "      <td>Marlon Moraes</td>\n",
       "      <td>Marlon Moraes</td>\n",
       "      <td>Raphael Assuncao</td>\n",
       "      <td>-1.571544</td>\n",
       "      <td>-1.006467</td>\n",
       "      <td>-1.512378</td>\n",
       "      <td>Orthodox</td>\n",
       "      <td>-1.313331</td>\n",
       "      <td>-0.995861</td>\n",
       "      <td>...</td>\n",
       "      <td>b</td>\n",
       "      <td>1.0</td>\n",
       "      <td>0.0</td>\n",
       "      <td>0.0</td>\n",
       "      <td>0.0</td>\n",
       "      <td>1.0</td>\n",
       "      <td>0.0</td>\n",
       "      <td>0.0</td>\n",
       "      <td>0.0</td>\n",
       "      <td>0</td>\n",
       "    </tr>\n",
       "    <tr>\n",
       "      <th>4</th>\n",
       "      <td>Raphael Assuncao</td>\n",
       "      <td>Marlon Moraes</td>\n",
       "      <td>Raphael Assuncao</td>\n",
       "      <td>Marlon Moraes</td>\n",
       "      <td>-1.571544</td>\n",
       "      <td>-1.006467</td>\n",
       "      <td>-1.512378</td>\n",
       "      <td>Orthodox</td>\n",
       "      <td>-1.313331</td>\n",
       "      <td>-0.995861</td>\n",
       "      <td>...</td>\n",
       "      <td>r</td>\n",
       "      <td>1.0</td>\n",
       "      <td>0.0</td>\n",
       "      <td>0.0</td>\n",
       "      <td>0.0</td>\n",
       "      <td>1.0</td>\n",
       "      <td>0.0</td>\n",
       "      <td>0.0</td>\n",
       "      <td>0.0</td>\n",
       "      <td>1</td>\n",
       "    </tr>\n",
       "    <tr>\n",
       "      <th>5</th>\n",
       "      <td>Henry Cejudo</td>\n",
       "      <td>TJ Dillashaw</td>\n",
       "      <td>Henry Cejudo</td>\n",
       "      <td>TJ Dillashaw</td>\n",
       "      <td>-1.863237</td>\n",
       "      <td>-1.006467</td>\n",
       "      <td>-1.999412</td>\n",
       "      <td>Orthodox</td>\n",
       "      <td>-1.313331</td>\n",
       "      <td>-1.296560</td>\n",
       "      <td>...</td>\n",
       "      <td>r</td>\n",
       "      <td>1.0</td>\n",
       "      <td>0.0</td>\n",
       "      <td>0.0</td>\n",
       "      <td>0.0</td>\n",
       "      <td>1.0</td>\n",
       "      <td>0.0</td>\n",
       "      <td>0.0</td>\n",
       "      <td>0.0</td>\n",
       "      <td>1</td>\n",
       "    </tr>\n",
       "    <tr>\n",
       "      <th>6</th>\n",
       "      <td>Cody Garbrandt</td>\n",
       "      <td>TJ Dillashaw</td>\n",
       "      <td>TJ Dillashaw</td>\n",
       "      <td>Cody Garbrandt</td>\n",
       "      <td>-0.696465</td>\n",
       "      <td>-1.006467</td>\n",
       "      <td>-1.755895</td>\n",
       "      <td>Orthodox</td>\n",
       "      <td>-1.313331</td>\n",
       "      <td>-1.296560</td>\n",
       "      <td>...</td>\n",
       "      <td>b</td>\n",
       "      <td>1.0</td>\n",
       "      <td>0.0</td>\n",
       "      <td>0.0</td>\n",
       "      <td>0.0</td>\n",
       "      <td>1.0</td>\n",
       "      <td>0.0</td>\n",
       "      <td>0.0</td>\n",
       "      <td>0.0</td>\n",
       "      <td>0</td>\n",
       "    </tr>\n",
       "    <tr>\n",
       "      <th>7</th>\n",
       "      <td>Renan Barao</td>\n",
       "      <td>TJ Dillashaw</td>\n",
       "      <td>TJ Dillashaw</td>\n",
       "      <td>Renan Barao</td>\n",
       "      <td>-1.279851</td>\n",
       "      <td>-1.006467</td>\n",
       "      <td>-0.538310</td>\n",
       "      <td>Orthodox</td>\n",
       "      <td>-1.313331</td>\n",
       "      <td>-1.296560</td>\n",
       "      <td>...</td>\n",
       "      <td>b</td>\n",
       "      <td>1.0</td>\n",
       "      <td>0.0</td>\n",
       "      <td>0.0</td>\n",
       "      <td>0.0</td>\n",
       "      <td>1.0</td>\n",
       "      <td>0.0</td>\n",
       "      <td>0.0</td>\n",
       "      <td>0.0</td>\n",
       "      <td>0</td>\n",
       "    </tr>\n",
       "    <tr>\n",
       "      <th>8</th>\n",
       "      <td>Raphael Assuncao</td>\n",
       "      <td>TJ Dillashaw</td>\n",
       "      <td>Raphael Assuncao</td>\n",
       "      <td>TJ Dillashaw</td>\n",
       "      <td>-1.571544</td>\n",
       "      <td>-1.006467</td>\n",
       "      <td>-1.512378</td>\n",
       "      <td>Orthodox</td>\n",
       "      <td>-1.313331</td>\n",
       "      <td>-1.296560</td>\n",
       "      <td>...</td>\n",
       "      <td>r</td>\n",
       "      <td>1.0</td>\n",
       "      <td>0.0</td>\n",
       "      <td>0.0</td>\n",
       "      <td>0.0</td>\n",
       "      <td>1.0</td>\n",
       "      <td>0.0</td>\n",
       "      <td>0.0</td>\n",
       "      <td>0.0</td>\n",
       "      <td>1</td>\n",
       "    </tr>\n",
       "    <tr>\n",
       "      <th>9</th>\n",
       "      <td>Henry Cejudo</td>\n",
       "      <td>Sergio Pettis</td>\n",
       "      <td>Henry Cejudo</td>\n",
       "      <td>Sergio Pettis</td>\n",
       "      <td>-1.863237</td>\n",
       "      <td>-1.006467</td>\n",
       "      <td>-1.999412</td>\n",
       "      <td>Orthodox</td>\n",
       "      <td>-1.313331</td>\n",
       "      <td>-0.995861</td>\n",
       "      <td>...</td>\n",
       "      <td>r</td>\n",
       "      <td>1.0</td>\n",
       "      <td>0.0</td>\n",
       "      <td>0.0</td>\n",
       "      <td>0.0</td>\n",
       "      <td>1.0</td>\n",
       "      <td>0.0</td>\n",
       "      <td>0.0</td>\n",
       "      <td>0.0</td>\n",
       "      <td>1</td>\n",
       "    </tr>\n",
       "    <tr>\n",
       "      <th>10</th>\n",
       "      <td>Alex Caceres</td>\n",
       "      <td>Sergio Pettis</td>\n",
       "      <td>Alex Caceres</td>\n",
       "      <td>Sergio Pettis</td>\n",
       "      <td>-0.113078</td>\n",
       "      <td>-0.707949</td>\n",
       "      <td>0.192242</td>\n",
       "      <td>Southpaw</td>\n",
       "      <td>-1.313331</td>\n",
       "      <td>-0.995861</td>\n",
       "      <td>...</td>\n",
       "      <td>r</td>\n",
       "      <td>0.0</td>\n",
       "      <td>1.0</td>\n",
       "      <td>0.0</td>\n",
       "      <td>0.0</td>\n",
       "      <td>1.0</td>\n",
       "      <td>0.0</td>\n",
       "      <td>0.0</td>\n",
       "      <td>0.0</td>\n",
       "      <td>1</td>\n",
       "    </tr>\n",
       "    <tr>\n",
       "      <th>11</th>\n",
       "      <td>Joseph Benavidez</td>\n",
       "      <td>Sergio Pettis</td>\n",
       "      <td>Sergio Pettis</td>\n",
       "      <td>Joseph Benavidez</td>\n",
       "      <td>-1.863237</td>\n",
       "      <td>-1.304985</td>\n",
       "      <td>-1.755895</td>\n",
       "      <td>Southpaw</td>\n",
       "      <td>-1.313331</td>\n",
       "      <td>-0.995861</td>\n",
       "      <td>...</td>\n",
       "      <td>b</td>\n",
       "      <td>0.0</td>\n",
       "      <td>1.0</td>\n",
       "      <td>0.0</td>\n",
       "      <td>0.0</td>\n",
       "      <td>1.0</td>\n",
       "      <td>0.0</td>\n",
       "      <td>0.0</td>\n",
       "      <td>0.0</td>\n",
       "      <td>0</td>\n",
       "    </tr>\n",
       "    <tr>\n",
       "      <th>12</th>\n",
       "      <td>Rob Font</td>\n",
       "      <td>Sergio Pettis</td>\n",
       "      <td>Rob Font</td>\n",
       "      <td>Sergio Pettis</td>\n",
       "      <td>-0.696465</td>\n",
       "      <td>-1.006467</td>\n",
       "      <td>-0.294793</td>\n",
       "      <td>Orthodox</td>\n",
       "      <td>-1.313331</td>\n",
       "      <td>-0.995861</td>\n",
       "      <td>...</td>\n",
       "      <td>r</td>\n",
       "      <td>1.0</td>\n",
       "      <td>0.0</td>\n",
       "      <td>0.0</td>\n",
       "      <td>0.0</td>\n",
       "      <td>1.0</td>\n",
       "      <td>0.0</td>\n",
       "      <td>0.0</td>\n",
       "      <td>0.0</td>\n",
       "      <td>1</td>\n",
       "    </tr>\n",
       "    <tr>\n",
       "      <th>13</th>\n",
       "      <td>John Moraga</td>\n",
       "      <td>Sergio Pettis</td>\n",
       "      <td>Sergio Pettis</td>\n",
       "      <td>John Moraga</td>\n",
       "      <td>-1.279851</td>\n",
       "      <td>-1.304985</td>\n",
       "      <td>-1.512378</td>\n",
       "      <td>Orthodox</td>\n",
       "      <td>-1.313331</td>\n",
       "      <td>-0.995861</td>\n",
       "      <td>...</td>\n",
       "      <td>b</td>\n",
       "      <td>1.0</td>\n",
       "      <td>0.0</td>\n",
       "      <td>0.0</td>\n",
       "      <td>0.0</td>\n",
       "      <td>1.0</td>\n",
       "      <td>0.0</td>\n",
       "      <td>0.0</td>\n",
       "      <td>0.0</td>\n",
       "      <td>0</td>\n",
       "    </tr>\n",
       "    <tr>\n",
       "      <th>14</th>\n",
       "      <td>Chris Cariaso</td>\n",
       "      <td>Sergio Pettis</td>\n",
       "      <td>Sergio Pettis</td>\n",
       "      <td>Chris Cariaso</td>\n",
       "      <td>-2.154930</td>\n",
       "      <td>-1.304985</td>\n",
       "      <td>-2.242929</td>\n",
       "      <td>Southpaw</td>\n",
       "      <td>-1.313331</td>\n",
       "      <td>-0.995861</td>\n",
       "      <td>...</td>\n",
       "      <td>b</td>\n",
       "      <td>0.0</td>\n",
       "      <td>1.0</td>\n",
       "      <td>0.0</td>\n",
       "      <td>0.0</td>\n",
       "      <td>1.0</td>\n",
       "      <td>0.0</td>\n",
       "      <td>0.0</td>\n",
       "      <td>0.0</td>\n",
       "      <td>0</td>\n",
       "    </tr>\n",
       "    <tr>\n",
       "      <th>15</th>\n",
       "      <td>Yaotzin Meza</td>\n",
       "      <td>Sergio Pettis</td>\n",
       "      <td>Sergio Pettis</td>\n",
       "      <td>Yaotzin Meza</td>\n",
       "      <td>-0.404771</td>\n",
       "      <td>-0.707949</td>\n",
       "      <td>0.435759</td>\n",
       "      <td>Orthodox</td>\n",
       "      <td>-1.313331</td>\n",
       "      <td>-0.995861</td>\n",
       "      <td>...</td>\n",
       "      <td>b</td>\n",
       "      <td>1.0</td>\n",
       "      <td>0.0</td>\n",
       "      <td>0.0</td>\n",
       "      <td>0.0</td>\n",
       "      <td>1.0</td>\n",
       "      <td>0.0</td>\n",
       "      <td>0.0</td>\n",
       "      <td>0.0</td>\n",
       "      <td>0</td>\n",
       "    </tr>\n",
       "    <tr>\n",
       "      <th>16</th>\n",
       "      <td>Will Campuzano</td>\n",
       "      <td>Sergio Pettis</td>\n",
       "      <td>Sergio Pettis</td>\n",
       "      <td>Will Campuzano</td>\n",
       "      <td>-0.404771</td>\n",
       "      <td>-1.304985</td>\n",
       "      <td>-0.538310</td>\n",
       "      <td>Orthodox</td>\n",
       "      <td>-1.313331</td>\n",
       "      <td>-0.995861</td>\n",
       "      <td>...</td>\n",
       "      <td>b</td>\n",
       "      <td>1.0</td>\n",
       "      <td>0.0</td>\n",
       "      <td>0.0</td>\n",
       "      <td>0.0</td>\n",
       "      <td>1.0</td>\n",
       "      <td>0.0</td>\n",
       "      <td>0.0</td>\n",
       "      <td>0.0</td>\n",
       "      <td>0</td>\n",
       "    </tr>\n",
       "    <tr>\n",
       "      <th>17</th>\n",
       "      <td>Henry Cejudo</td>\n",
       "      <td>Wilson Reis</td>\n",
       "      <td>Henry Cejudo</td>\n",
       "      <td>Wilson Reis</td>\n",
       "      <td>-1.863237</td>\n",
       "      <td>-1.006467</td>\n",
       "      <td>-1.999412</td>\n",
       "      <td>Orthodox</td>\n",
       "      <td>-1.907693</td>\n",
       "      <td>-1.296560</td>\n",
       "      <td>...</td>\n",
       "      <td>r</td>\n",
       "      <td>1.0</td>\n",
       "      <td>0.0</td>\n",
       "      <td>0.0</td>\n",
       "      <td>0.0</td>\n",
       "      <td>0.0</td>\n",
       "      <td>1.0</td>\n",
       "      <td>0.0</td>\n",
       "      <td>0.0</td>\n",
       "      <td>1</td>\n",
       "    </tr>\n",
       "    <tr>\n",
       "      <th>18</th>\n",
       "      <td>Jussier Formiga</td>\n",
       "      <td>Wilson Reis</td>\n",
       "      <td>Jussier Formiga</td>\n",
       "      <td>Wilson Reis</td>\n",
       "      <td>-1.571544</td>\n",
       "      <td>-1.304985</td>\n",
       "      <td>-1.268861</td>\n",
       "      <td>Orthodox</td>\n",
       "      <td>-1.907693</td>\n",
       "      <td>-1.296560</td>\n",
       "      <td>...</td>\n",
       "      <td>r</td>\n",
       "      <td>1.0</td>\n",
       "      <td>0.0</td>\n",
       "      <td>0.0</td>\n",
       "      <td>0.0</td>\n",
       "      <td>0.0</td>\n",
       "      <td>1.0</td>\n",
       "      <td>0.0</td>\n",
       "      <td>0.0</td>\n",
       "      <td>1</td>\n",
       "    </tr>\n",
       "    <tr>\n",
       "      <th>19</th>\n",
       "      <td>Demetrious Johnson</td>\n",
       "      <td>Wilson Reis</td>\n",
       "      <td>Demetrious Johnson</td>\n",
       "      <td>Wilson Reis</td>\n",
       "      <td>-2.154930</td>\n",
       "      <td>-1.304985</td>\n",
       "      <td>-1.512378</td>\n",
       "      <td>Orthodox</td>\n",
       "      <td>-1.907693</td>\n",
       "      <td>-1.296560</td>\n",
       "      <td>...</td>\n",
       "      <td>r</td>\n",
       "      <td>1.0</td>\n",
       "      <td>0.0</td>\n",
       "      <td>0.0</td>\n",
       "      <td>0.0</td>\n",
       "      <td>0.0</td>\n",
       "      <td>1.0</td>\n",
       "      <td>0.0</td>\n",
       "      <td>0.0</td>\n",
       "      <td>1</td>\n",
       "    </tr>\n",
       "    <tr>\n",
       "      <th>20</th>\n",
       "      <td>Dustin Ortiz</td>\n",
       "      <td>Wilson Reis</td>\n",
       "      <td>Wilson Reis</td>\n",
       "      <td>Dustin Ortiz</td>\n",
       "      <td>-1.571544</td>\n",
       "      <td>-1.304985</td>\n",
       "      <td>-1.755895</td>\n",
       "      <td>Orthodox</td>\n",
       "      <td>-1.907693</td>\n",
       "      <td>-1.296560</td>\n",
       "      <td>...</td>\n",
       "      <td>b</td>\n",
       "      <td>1.0</td>\n",
       "      <td>0.0</td>\n",
       "      <td>0.0</td>\n",
       "      <td>0.0</td>\n",
       "      <td>0.0</td>\n",
       "      <td>1.0</td>\n",
       "      <td>0.0</td>\n",
       "      <td>0.0</td>\n",
       "      <td>0</td>\n",
       "    </tr>\n",
       "    <tr>\n",
       "      <th>21</th>\n",
       "      <td>Iuri Alcantara</td>\n",
       "      <td>Wilson Reis</td>\n",
       "      <td>Iuri Alcantara</td>\n",
       "      <td>Wilson Reis</td>\n",
       "      <td>-0.404771</td>\n",
       "      <td>-1.006467</td>\n",
       "      <td>-0.294793</td>\n",
       "      <td>Southpaw</td>\n",
       "      <td>-1.907693</td>\n",
       "      <td>-1.296560</td>\n",
       "      <td>...</td>\n",
       "      <td>r</td>\n",
       "      <td>0.0</td>\n",
       "      <td>1.0</td>\n",
       "      <td>0.0</td>\n",
       "      <td>0.0</td>\n",
       "      <td>0.0</td>\n",
       "      <td>1.0</td>\n",
       "      <td>0.0</td>\n",
       "      <td>0.0</td>\n",
       "      <td>1</td>\n",
       "    </tr>\n",
       "    <tr>\n",
       "      <th>22</th>\n",
       "      <td>Scott Jorgensen</td>\n",
       "      <td>Wilson Reis</td>\n",
       "      <td>Wilson Reis</td>\n",
       "      <td>Scott Jorgensen</td>\n",
       "      <td>-1.571544</td>\n",
       "      <td>-1.006467</td>\n",
       "      <td>-1.512378</td>\n",
       "      <td>Orthodox</td>\n",
       "      <td>-1.907693</td>\n",
       "      <td>-1.296560</td>\n",
       "      <td>...</td>\n",
       "      <td>b</td>\n",
       "      <td>1.0</td>\n",
       "      <td>0.0</td>\n",
       "      <td>0.0</td>\n",
       "      <td>0.0</td>\n",
       "      <td>0.0</td>\n",
       "      <td>1.0</td>\n",
       "      <td>0.0</td>\n",
       "      <td>0.0</td>\n",
       "      <td>0</td>\n",
       "    </tr>\n",
       "    <tr>\n",
       "      <th>23</th>\n",
       "      <td>Ivan Menjivar</td>\n",
       "      <td>Wilson Reis</td>\n",
       "      <td>Wilson Reis</td>\n",
       "      <td>Ivan Menjivar</td>\n",
       "      <td>-1.279851</td>\n",
       "      <td>-0.707949</td>\n",
       "      <td>-1.999412</td>\n",
       "      <td>Orthodox</td>\n",
       "      <td>-1.907693</td>\n",
       "      <td>-1.296560</td>\n",
       "      <td>...</td>\n",
       "      <td>b</td>\n",
       "      <td>1.0</td>\n",
       "      <td>0.0</td>\n",
       "      <td>0.0</td>\n",
       "      <td>0.0</td>\n",
       "      <td>0.0</td>\n",
       "      <td>1.0</td>\n",
       "      <td>0.0</td>\n",
       "      <td>0.0</td>\n",
       "      <td>0</td>\n",
       "    </tr>\n",
       "    <tr>\n",
       "      <th>24</th>\n",
       "      <td>Henry Cejudo</td>\n",
       "      <td>Chico Camus</td>\n",
       "      <td>Henry Cejudo</td>\n",
       "      <td>Chico Camus</td>\n",
       "      <td>-1.863237</td>\n",
       "      <td>-1.006467</td>\n",
       "      <td>-1.999412</td>\n",
       "      <td>Orthodox</td>\n",
       "      <td>-1.313331</td>\n",
       "      <td>-1.296560</td>\n",
       "      <td>...</td>\n",
       "      <td>r</td>\n",
       "      <td>1.0</td>\n",
       "      <td>0.0</td>\n",
       "      <td>0.0</td>\n",
       "      <td>0.0</td>\n",
       "      <td>1.0</td>\n",
       "      <td>0.0</td>\n",
       "      <td>0.0</td>\n",
       "      <td>0.0</td>\n",
       "      <td>1</td>\n",
       "    </tr>\n",
       "    <tr>\n",
       "      <th>25</th>\n",
       "      <td>Brad Pickett</td>\n",
       "      <td>Chico Camus</td>\n",
       "      <td>Chico Camus</td>\n",
       "      <td>Brad Pickett</td>\n",
       "      <td>-1.279851</td>\n",
       "      <td>-1.006467</td>\n",
       "      <td>-1.025344</td>\n",
       "      <td>Orthodox</td>\n",
       "      <td>-1.313331</td>\n",
       "      <td>-1.296560</td>\n",
       "      <td>...</td>\n",
       "      <td>b</td>\n",
       "      <td>1.0</td>\n",
       "      <td>0.0</td>\n",
       "      <td>0.0</td>\n",
       "      <td>0.0</td>\n",
       "      <td>1.0</td>\n",
       "      <td>0.0</td>\n",
       "      <td>0.0</td>\n",
       "      <td>0.0</td>\n",
       "      <td>0</td>\n",
       "    </tr>\n",
       "    <tr>\n",
       "      <th>26</th>\n",
       "      <td>Kyoji Horiguchi</td>\n",
       "      <td>Chico Camus</td>\n",
       "      <td>Kyoji Horiguchi</td>\n",
       "      <td>Chico Camus</td>\n",
       "      <td>-1.571544</td>\n",
       "      <td>-1.304985</td>\n",
       "      <td>-1.512378</td>\n",
       "      <td>Orthodox</td>\n",
       "      <td>-1.313331</td>\n",
       "      <td>-1.296560</td>\n",
       "      <td>...</td>\n",
       "      <td>r</td>\n",
       "      <td>1.0</td>\n",
       "      <td>0.0</td>\n",
       "      <td>0.0</td>\n",
       "      <td>0.0</td>\n",
       "      <td>1.0</td>\n",
       "      <td>0.0</td>\n",
       "      <td>0.0</td>\n",
       "      <td>0.0</td>\n",
       "      <td>1</td>\n",
       "    </tr>\n",
       "    <tr>\n",
       "      <th>27</th>\n",
       "      <td>Chris Holdsworth</td>\n",
       "      <td>Chico Camus</td>\n",
       "      <td>Chris Holdsworth</td>\n",
       "      <td>Chico Camus</td>\n",
       "      <td>0.178615</td>\n",
       "      <td>-1.006467</td>\n",
       "      <td>-0.294793</td>\n",
       "      <td>NaN</td>\n",
       "      <td>-1.313331</td>\n",
       "      <td>-1.296560</td>\n",
       "      <td>...</td>\n",
       "      <td>r</td>\n",
       "      <td>0.0</td>\n",
       "      <td>0.0</td>\n",
       "      <td>0.0</td>\n",
       "      <td>0.0</td>\n",
       "      <td>1.0</td>\n",
       "      <td>0.0</td>\n",
       "      <td>0.0</td>\n",
       "      <td>0.0</td>\n",
       "      <td>1</td>\n",
       "    </tr>\n",
       "    <tr>\n",
       "      <th>28</th>\n",
       "      <td>Dustin Pague</td>\n",
       "      <td>Chico Camus</td>\n",
       "      <td>Chico Camus</td>\n",
       "      <td>Dustin Pague</td>\n",
       "      <td>-0.404771</td>\n",
       "      <td>-1.006467</td>\n",
       "      <td>0.435759</td>\n",
       "      <td>Orthodox</td>\n",
       "      <td>-1.313331</td>\n",
       "      <td>-1.296560</td>\n",
       "      <td>...</td>\n",
       "      <td>b</td>\n",
       "      <td>1.0</td>\n",
       "      <td>0.0</td>\n",
       "      <td>0.0</td>\n",
       "      <td>0.0</td>\n",
       "      <td>1.0</td>\n",
       "      <td>0.0</td>\n",
       "      <td>0.0</td>\n",
       "      <td>0.0</td>\n",
       "      <td>0</td>\n",
       "    </tr>\n",
       "  </tbody>\n",
       "</table>\n",
       "<p>29 rows × 28 columns</p>\n",
       "</div>"
      ],
      "text/plain": [
       "             r_fighter      b_fighter              winner             loser  \\\n",
       "0         Henry Cejudo  Marlon Moraes        Henry Cejudo     Marlon Moraes   \n",
       "1        Jimmie Rivera  Marlon Moraes       Marlon Moraes     Jimmie Rivera   \n",
       "2          John Dodson  Marlon Moraes       Marlon Moraes       John Dodson   \n",
       "3     Raphael Assuncao  Marlon Moraes       Marlon Moraes  Raphael Assuncao   \n",
       "4     Raphael Assuncao  Marlon Moraes    Raphael Assuncao     Marlon Moraes   \n",
       "5         Henry Cejudo   TJ Dillashaw        Henry Cejudo      TJ Dillashaw   \n",
       "6       Cody Garbrandt   TJ Dillashaw        TJ Dillashaw    Cody Garbrandt   \n",
       "7          Renan Barao   TJ Dillashaw        TJ Dillashaw       Renan Barao   \n",
       "8     Raphael Assuncao   TJ Dillashaw    Raphael Assuncao      TJ Dillashaw   \n",
       "9         Henry Cejudo  Sergio Pettis        Henry Cejudo     Sergio Pettis   \n",
       "10        Alex Caceres  Sergio Pettis        Alex Caceres     Sergio Pettis   \n",
       "11    Joseph Benavidez  Sergio Pettis       Sergio Pettis  Joseph Benavidez   \n",
       "12            Rob Font  Sergio Pettis            Rob Font     Sergio Pettis   \n",
       "13         John Moraga  Sergio Pettis       Sergio Pettis       John Moraga   \n",
       "14       Chris Cariaso  Sergio Pettis       Sergio Pettis     Chris Cariaso   \n",
       "15        Yaotzin Meza  Sergio Pettis       Sergio Pettis      Yaotzin Meza   \n",
       "16      Will Campuzano  Sergio Pettis       Sergio Pettis    Will Campuzano   \n",
       "17        Henry Cejudo    Wilson Reis        Henry Cejudo       Wilson Reis   \n",
       "18     Jussier Formiga    Wilson Reis     Jussier Formiga       Wilson Reis   \n",
       "19  Demetrious Johnson    Wilson Reis  Demetrious Johnson       Wilson Reis   \n",
       "20        Dustin Ortiz    Wilson Reis         Wilson Reis      Dustin Ortiz   \n",
       "21      Iuri Alcantara    Wilson Reis      Iuri Alcantara       Wilson Reis   \n",
       "22     Scott Jorgensen    Wilson Reis         Wilson Reis   Scott Jorgensen   \n",
       "23       Ivan Menjivar    Wilson Reis         Wilson Reis     Ivan Menjivar   \n",
       "24        Henry Cejudo    Chico Camus        Henry Cejudo       Chico Camus   \n",
       "25        Brad Pickett    Chico Camus         Chico Camus      Brad Pickett   \n",
       "26     Kyoji Horiguchi    Chico Camus     Kyoji Horiguchi       Chico Camus   \n",
       "27    Chris Holdsworth    Chico Camus    Chris Holdsworth       Chico Camus   \n",
       "28        Dustin Pague    Chico Camus         Chico Camus      Dustin Pague   \n",
       "\n",
       "    r_height  r_weight   r_reach  r_stance  b_height  b_weight  ...  \\\n",
       "0  -1.863237 -1.006467 -1.999412  Orthodox -1.313331 -0.995861  ...   \n",
       "1  -1.863237 -1.006467 -1.025344  Orthodox -1.313331 -0.995861  ...   \n",
       "2  -2.154930 -1.006467 -1.512378  Orthodox -1.313331 -0.995861  ...   \n",
       "3  -1.571544 -1.006467 -1.512378  Orthodox -1.313331 -0.995861  ...   \n",
       "4  -1.571544 -1.006467 -1.512378  Orthodox -1.313331 -0.995861  ...   \n",
       "5  -1.863237 -1.006467 -1.999412  Orthodox -1.313331 -1.296560  ...   \n",
       "6  -0.696465 -1.006467 -1.755895  Orthodox -1.313331 -1.296560  ...   \n",
       "7  -1.279851 -1.006467 -0.538310  Orthodox -1.313331 -1.296560  ...   \n",
       "8  -1.571544 -1.006467 -1.512378  Orthodox -1.313331 -1.296560  ...   \n",
       "9  -1.863237 -1.006467 -1.999412  Orthodox -1.313331 -0.995861  ...   \n",
       "10 -0.113078 -0.707949  0.192242  Southpaw -1.313331 -0.995861  ...   \n",
       "11 -1.863237 -1.304985 -1.755895  Southpaw -1.313331 -0.995861  ...   \n",
       "12 -0.696465 -1.006467 -0.294793  Orthodox -1.313331 -0.995861  ...   \n",
       "13 -1.279851 -1.304985 -1.512378  Orthodox -1.313331 -0.995861  ...   \n",
       "14 -2.154930 -1.304985 -2.242929  Southpaw -1.313331 -0.995861  ...   \n",
       "15 -0.404771 -0.707949  0.435759  Orthodox -1.313331 -0.995861  ...   \n",
       "16 -0.404771 -1.304985 -0.538310  Orthodox -1.313331 -0.995861  ...   \n",
       "17 -1.863237 -1.006467 -1.999412  Orthodox -1.907693 -1.296560  ...   \n",
       "18 -1.571544 -1.304985 -1.268861  Orthodox -1.907693 -1.296560  ...   \n",
       "19 -2.154930 -1.304985 -1.512378  Orthodox -1.907693 -1.296560  ...   \n",
       "20 -1.571544 -1.304985 -1.755895  Orthodox -1.907693 -1.296560  ...   \n",
       "21 -0.404771 -1.006467 -0.294793  Southpaw -1.907693 -1.296560  ...   \n",
       "22 -1.571544 -1.006467 -1.512378  Orthodox -1.907693 -1.296560  ...   \n",
       "23 -1.279851 -0.707949 -1.999412  Orthodox -1.907693 -1.296560  ...   \n",
       "24 -1.863237 -1.006467 -1.999412  Orthodox -1.313331 -1.296560  ...   \n",
       "25 -1.279851 -1.006467 -1.025344  Orthodox -1.313331 -1.296560  ...   \n",
       "26 -1.571544 -1.304985 -1.512378  Orthodox -1.313331 -1.296560  ...   \n",
       "27  0.178615 -1.006467 -0.294793       NaN -1.313331 -1.296560  ...   \n",
       "28 -0.404771 -1.006467  0.435759  Orthodox -1.313331 -1.296560  ...   \n",
       "\n",
       "    r_b_winner r_orthodox  r_southpaw  r_switch  r_open  b_orthodox  \\\n",
       "0            r        1.0         0.0       0.0     0.0         1.0   \n",
       "1            b        1.0         0.0       0.0     0.0         1.0   \n",
       "2            b        1.0         0.0       0.0     0.0         1.0   \n",
       "3            b        1.0         0.0       0.0     0.0         1.0   \n",
       "4            r        1.0         0.0       0.0     0.0         1.0   \n",
       "5            r        1.0         0.0       0.0     0.0         1.0   \n",
       "6            b        1.0         0.0       0.0     0.0         1.0   \n",
       "7            b        1.0         0.0       0.0     0.0         1.0   \n",
       "8            r        1.0         0.0       0.0     0.0         1.0   \n",
       "9            r        1.0         0.0       0.0     0.0         1.0   \n",
       "10           r        0.0         1.0       0.0     0.0         1.0   \n",
       "11           b        0.0         1.0       0.0     0.0         1.0   \n",
       "12           r        1.0         0.0       0.0     0.0         1.0   \n",
       "13           b        1.0         0.0       0.0     0.0         1.0   \n",
       "14           b        0.0         1.0       0.0     0.0         1.0   \n",
       "15           b        1.0         0.0       0.0     0.0         1.0   \n",
       "16           b        1.0         0.0       0.0     0.0         1.0   \n",
       "17           r        1.0         0.0       0.0     0.0         0.0   \n",
       "18           r        1.0         0.0       0.0     0.0         0.0   \n",
       "19           r        1.0         0.0       0.0     0.0         0.0   \n",
       "20           b        1.0         0.0       0.0     0.0         0.0   \n",
       "21           r        0.0         1.0       0.0     0.0         0.0   \n",
       "22           b        1.0         0.0       0.0     0.0         0.0   \n",
       "23           b        1.0         0.0       0.0     0.0         0.0   \n",
       "24           r        1.0         0.0       0.0     0.0         1.0   \n",
       "25           b        1.0         0.0       0.0     0.0         1.0   \n",
       "26           r        1.0         0.0       0.0     0.0         1.0   \n",
       "27           r        0.0         0.0       0.0     0.0         1.0   \n",
       "28           b        1.0         0.0       0.0     0.0         1.0   \n",
       "\n",
       "    b_southpaw  b_switch b_open  r_won  \n",
       "0          0.0       0.0    0.0      1  \n",
       "1          0.0       0.0    0.0      0  \n",
       "2          0.0       0.0    0.0      0  \n",
       "3          0.0       0.0    0.0      0  \n",
       "4          0.0       0.0    0.0      1  \n",
       "5          0.0       0.0    0.0      1  \n",
       "6          0.0       0.0    0.0      0  \n",
       "7          0.0       0.0    0.0      0  \n",
       "8          0.0       0.0    0.0      1  \n",
       "9          0.0       0.0    0.0      1  \n",
       "10         0.0       0.0    0.0      1  \n",
       "11         0.0       0.0    0.0      0  \n",
       "12         0.0       0.0    0.0      1  \n",
       "13         0.0       0.0    0.0      0  \n",
       "14         0.0       0.0    0.0      0  \n",
       "15         0.0       0.0    0.0      0  \n",
       "16         0.0       0.0    0.0      0  \n",
       "17         1.0       0.0    0.0      1  \n",
       "18         1.0       0.0    0.0      1  \n",
       "19         1.0       0.0    0.0      1  \n",
       "20         1.0       0.0    0.0      0  \n",
       "21         1.0       0.0    0.0      1  \n",
       "22         1.0       0.0    0.0      0  \n",
       "23         1.0       0.0    0.0      0  \n",
       "24         0.0       0.0    0.0      1  \n",
       "25         0.0       0.0    0.0      0  \n",
       "26         0.0       0.0    0.0      1  \n",
       "27         0.0       0.0    0.0      1  \n",
       "28         0.0       0.0    0.0      0  \n",
       "\n",
       "[29 rows x 28 columns]"
      ]
     },
     "execution_count": 41,
     "metadata": {},
     "output_type": "execute_result"
    }
   ],
   "source": [
    "scaled_fights.head(29)"
   ]
  },
  {
   "cell_type": "markdown",
   "metadata": {},
   "source": [
    "Now I think we are ready to put it into logistic regression or nn"
   ]
  },
  {
   "cell_type": "code",
   "execution_count": 42,
   "metadata": {},
   "outputs": [
    {
     "data": {
      "text/plain": [
       "Index(['r_fighter', 'b_fighter', 'winner', 'loser', 'r_height', 'r_weight',\n",
       "       'r_reach', 'r_stance', 'b_height', 'b_weight', 'b_reach', 'b_stance',\n",
       "       'r_age', 'b_age', 'age_diff', 'height_diff', 'weight_diff',\n",
       "       'reach_diff', 'r_b_winner', 'r_orthodox', 'r_southpaw', 'r_switch',\n",
       "       'r_open', 'b_orthodox', 'b_southpaw', 'b_switch', 'b_open', 'r_won'],\n",
       "      dtype='object')"
      ]
     },
     "execution_count": 42,
     "metadata": {},
     "output_type": "execute_result"
    }
   ],
   "source": [
    "scaled_fights.columns"
   ]
  },
  {
   "cell_type": "code",
   "execution_count": 43,
   "metadata": {},
   "outputs": [],
   "source": [
    "from sklearn.model_selection import train_test_split\n",
    "from sklearn.linear_model import LogisticRegression\n",
    "from sklearn.metrics import confusion_matrix, accuracy_score, classification_report"
   ]
  },
  {
   "cell_type": "code",
   "execution_count": 44,
   "metadata": {},
   "outputs": [],
   "source": [
    "x_train, x_test, y_train, y_test = train_test_split(scaled_fights[['r_height', 'r_weight', 'r_reach', 'b_height', 'b_weight', 'b_reach',\n",
    "       'r_age', 'b_age', 'age_diff', 'height_diff', 'weight_diff',\n",
    "       'reach_diff', 'r_orthodox', 'r_southpaw', 'r_switch', 'r_open',\n",
    "       'b_orthodox', 'b_southpaw', 'b_switch', 'b_open']], scaled_fights['r_won'], test_size=.33, random_state=1)"
   ]
  },
  {
   "cell_type": "code",
   "execution_count": 45,
   "metadata": {},
   "outputs": [
    {
     "data": {
      "text/plain": [
       "((2943, 20), (1450, 20), (2943,), (1450,))"
      ]
     },
     "execution_count": 45,
     "metadata": {},
     "output_type": "execute_result"
    }
   ],
   "source": [
    "x_train.shape, x_test.shape, y_train.shape, y_test.shape"
   ]
  },
  {
   "cell_type": "code",
   "execution_count": 46,
   "metadata": {},
   "outputs": [
    {
     "data": {
      "text/html": [
       "<div>\n",
       "<style scoped>\n",
       "    .dataframe tbody tr th:only-of-type {\n",
       "        vertical-align: middle;\n",
       "    }\n",
       "\n",
       "    .dataframe tbody tr th {\n",
       "        vertical-align: top;\n",
       "    }\n",
       "\n",
       "    .dataframe thead th {\n",
       "        text-align: right;\n",
       "    }\n",
       "</style>\n",
       "<table border=\"1\" class=\"dataframe\">\n",
       "  <thead>\n",
       "    <tr style=\"text-align: right;\">\n",
       "      <th></th>\n",
       "      <th>r_height</th>\n",
       "      <th>r_weight</th>\n",
       "      <th>r_reach</th>\n",
       "      <th>b_height</th>\n",
       "      <th>b_weight</th>\n",
       "      <th>b_reach</th>\n",
       "      <th>r_age</th>\n",
       "      <th>b_age</th>\n",
       "      <th>age_diff</th>\n",
       "      <th>height_diff</th>\n",
       "      <th>weight_diff</th>\n",
       "      <th>reach_diff</th>\n",
       "      <th>r_orthodox</th>\n",
       "      <th>r_southpaw</th>\n",
       "      <th>r_switch</th>\n",
       "      <th>r_open</th>\n",
       "      <th>b_orthodox</th>\n",
       "      <th>b_southpaw</th>\n",
       "      <th>b_switch</th>\n",
       "      <th>b_open</th>\n",
       "    </tr>\n",
       "  </thead>\n",
       "  <tbody>\n",
       "    <tr>\n",
       "      <th>521</th>\n",
       "      <td>-0.696465</td>\n",
       "      <td>0.038346</td>\n",
       "      <td>-0.538310</td>\n",
       "      <td>-0.421790</td>\n",
       "      <td>-0.394462</td>\n",
       "      <td>-0.539139</td>\n",
       "      <td>24.915068</td>\n",
       "      <td>28.158904</td>\n",
       "      <td>-0.721455</td>\n",
       "      <td>-0.383930</td>\n",
       "      <td>1.313521</td>\n",
       "      <td>-0.016061</td>\n",
       "      <td>0.0</td>\n",
       "      <td>1.0</td>\n",
       "      <td>0.0</td>\n",
       "      <td>0.0</td>\n",
       "      <td>1.0</td>\n",
       "      <td>0.0</td>\n",
       "      <td>0.0</td>\n",
       "      <td>0.0</td>\n",
       "    </tr>\n",
       "    <tr>\n",
       "      <th>2336</th>\n",
       "      <td>-0.113078</td>\n",
       "      <td>0.038346</td>\n",
       "      <td>-0.051276</td>\n",
       "      <td>-0.421790</td>\n",
       "      <td>-0.394462</td>\n",
       "      <td>-0.289251</td>\n",
       "      <td>34.871233</td>\n",
       "      <td>24.816438</td>\n",
       "      <td>1.869143</td>\n",
       "      <td>0.409020</td>\n",
       "      <td>1.313521</td>\n",
       "      <td>0.286752</td>\n",
       "      <td>0.0</td>\n",
       "      <td>1.0</td>\n",
       "      <td>0.0</td>\n",
       "      <td>0.0</td>\n",
       "      <td>1.0</td>\n",
       "      <td>0.0</td>\n",
       "      <td>0.0</td>\n",
       "      <td>0.0</td>\n",
       "    </tr>\n",
       "    <tr>\n",
       "      <th>3579</th>\n",
       "      <td>-0.113078</td>\n",
       "      <td>0.038346</td>\n",
       "      <td>-0.051276</td>\n",
       "      <td>-0.421790</td>\n",
       "      <td>0.056587</td>\n",
       "      <td>-0.289251</td>\n",
       "      <td>27.545205</td>\n",
       "      <td>32.098630</td>\n",
       "      <td>-0.976566</td>\n",
       "      <td>0.409020</td>\n",
       "      <td>-0.054475</td>\n",
       "      <td>0.286752</td>\n",
       "      <td>1.0</td>\n",
       "      <td>0.0</td>\n",
       "      <td>0.0</td>\n",
       "      <td>0.0</td>\n",
       "      <td>1.0</td>\n",
       "      <td>0.0</td>\n",
       "      <td>0.0</td>\n",
       "      <td>0.0</td>\n",
       "    </tr>\n",
       "    <tr>\n",
       "      <th>4184</th>\n",
       "      <td>-0.113078</td>\n",
       "      <td>0.038346</td>\n",
       "      <td>0.192242</td>\n",
       "      <td>0.469752</td>\n",
       "      <td>0.056587</td>\n",
       "      <td>0.210525</td>\n",
       "      <td>28.731507</td>\n",
       "      <td>27.115068</td>\n",
       "      <td>0.225335</td>\n",
       "      <td>-0.780406</td>\n",
       "      <td>-0.054475</td>\n",
       "      <td>-0.016061</td>\n",
       "      <td>1.0</td>\n",
       "      <td>0.0</td>\n",
       "      <td>0.0</td>\n",
       "      <td>0.0</td>\n",
       "      <td>1.0</td>\n",
       "      <td>0.0</td>\n",
       "      <td>0.0</td>\n",
       "      <td>0.0</td>\n",
       "    </tr>\n",
       "    <tr>\n",
       "      <th>600</th>\n",
       "      <td>0.178615</td>\n",
       "      <td>-0.707949</td>\n",
       "      <td>0.435759</td>\n",
       "      <td>-0.124609</td>\n",
       "      <td>-0.695161</td>\n",
       "      <td>0.210525</td>\n",
       "      <td>28.668493</td>\n",
       "      <td>30.317808</td>\n",
       "      <td>-0.410840</td>\n",
       "      <td>0.409020</td>\n",
       "      <td>-0.054475</td>\n",
       "      <td>0.286752</td>\n",
       "      <td>1.0</td>\n",
       "      <td>0.0</td>\n",
       "      <td>0.0</td>\n",
       "      <td>0.0</td>\n",
       "      <td>1.0</td>\n",
       "      <td>0.0</td>\n",
       "      <td>0.0</td>\n",
       "      <td>0.0</td>\n",
       "    </tr>\n",
       "  </tbody>\n",
       "</table>\n",
       "</div>"
      ],
      "text/plain": [
       "      r_height  r_weight   r_reach  b_height  b_weight   b_reach      r_age  \\\n",
       "521  -0.696465  0.038346 -0.538310 -0.421790 -0.394462 -0.539139  24.915068   \n",
       "2336 -0.113078  0.038346 -0.051276 -0.421790 -0.394462 -0.289251  34.871233   \n",
       "3579 -0.113078  0.038346 -0.051276 -0.421790  0.056587 -0.289251  27.545205   \n",
       "4184 -0.113078  0.038346  0.192242  0.469752  0.056587  0.210525  28.731507   \n",
       "600   0.178615 -0.707949  0.435759 -0.124609 -0.695161  0.210525  28.668493   \n",
       "\n",
       "          b_age  age_diff  height_diff  weight_diff  reach_diff  r_orthodox  \\\n",
       "521   28.158904 -0.721455    -0.383930     1.313521   -0.016061         0.0   \n",
       "2336  24.816438  1.869143     0.409020     1.313521    0.286752         0.0   \n",
       "3579  32.098630 -0.976566     0.409020    -0.054475    0.286752         1.0   \n",
       "4184  27.115068  0.225335    -0.780406    -0.054475   -0.016061         1.0   \n",
       "600   30.317808 -0.410840     0.409020    -0.054475    0.286752         1.0   \n",
       "\n",
       "      r_southpaw  r_switch  r_open  b_orthodox  b_southpaw  b_switch  b_open  \n",
       "521          1.0       0.0     0.0         1.0         0.0       0.0     0.0  \n",
       "2336         1.0       0.0     0.0         1.0         0.0       0.0     0.0  \n",
       "3579         0.0       0.0     0.0         1.0         0.0       0.0     0.0  \n",
       "4184         0.0       0.0     0.0         1.0         0.0       0.0     0.0  \n",
       "600          0.0       0.0     0.0         1.0         0.0       0.0     0.0  "
      ]
     },
     "execution_count": 46,
     "metadata": {},
     "output_type": "execute_result"
    }
   ],
   "source": [
    "x_train.head()"
   ]
  },
  {
   "cell_type": "code",
   "execution_count": 47,
   "metadata": {},
   "outputs": [
    {
     "data": {
      "text/html": [
       "<div>\n",
       "<style scoped>\n",
       "    .dataframe tbody tr th:only-of-type {\n",
       "        vertical-align: middle;\n",
       "    }\n",
       "\n",
       "    .dataframe tbody tr th {\n",
       "        vertical-align: top;\n",
       "    }\n",
       "\n",
       "    .dataframe thead th {\n",
       "        text-align: right;\n",
       "    }\n",
       "</style>\n",
       "<table border=\"1\" class=\"dataframe\">\n",
       "  <thead>\n",
       "    <tr style=\"text-align: right;\">\n",
       "      <th></th>\n",
       "      <th>r_height</th>\n",
       "      <th>r_weight</th>\n",
       "      <th>r_reach</th>\n",
       "      <th>b_height</th>\n",
       "      <th>b_weight</th>\n",
       "      <th>b_reach</th>\n",
       "      <th>r_age</th>\n",
       "      <th>b_age</th>\n",
       "      <th>age_diff</th>\n",
       "      <th>height_diff</th>\n",
       "      <th>weight_diff</th>\n",
       "      <th>reach_diff</th>\n",
       "      <th>r_orthodox</th>\n",
       "      <th>r_southpaw</th>\n",
       "      <th>r_switch</th>\n",
       "      <th>r_open</th>\n",
       "      <th>b_orthodox</th>\n",
       "      <th>b_southpaw</th>\n",
       "      <th>b_switch</th>\n",
       "      <th>b_open</th>\n",
       "    </tr>\n",
       "  </thead>\n",
       "  <tbody>\n",
       "    <tr>\n",
       "      <th>343</th>\n",
       "      <td>-0.113078</td>\n",
       "      <td>0.038346</td>\n",
       "      <td>0.435759</td>\n",
       "      <td>1.064114</td>\n",
       "      <td>1.109036</td>\n",
       "      <td>1.459965</td>\n",
       "      <td>28.397260</td>\n",
       "      <td>24.386301</td>\n",
       "      <td>0.691793</td>\n",
       "      <td>-1.573356</td>\n",
       "      <td>-3.246465</td>\n",
       "      <td>-1.227310</td>\n",
       "      <td>1.0</td>\n",
       "      <td>0.0</td>\n",
       "      <td>0.0</td>\n",
       "      <td>0.0</td>\n",
       "      <td>1.0</td>\n",
       "      <td>0.0</td>\n",
       "      <td>0.0</td>\n",
       "      <td>0.0</td>\n",
       "    </tr>\n",
       "    <tr>\n",
       "      <th>2325</th>\n",
       "      <td>1.345387</td>\n",
       "      <td>1.083159</td>\n",
       "      <td>1.166310</td>\n",
       "      <td>0.766933</td>\n",
       "      <td>1.109036</td>\n",
       "      <td>0.710301</td>\n",
       "      <td>28.504110</td>\n",
       "      <td>30.989041</td>\n",
       "      <td>-0.573619</td>\n",
       "      <td>0.805496</td>\n",
       "      <td>-0.054475</td>\n",
       "      <td>0.589564</td>\n",
       "      <td>1.0</td>\n",
       "      <td>0.0</td>\n",
       "      <td>0.0</td>\n",
       "      <td>0.0</td>\n",
       "      <td>1.0</td>\n",
       "      <td>0.0</td>\n",
       "      <td>0.0</td>\n",
       "      <td>0.0</td>\n",
       "    </tr>\n",
       "    <tr>\n",
       "      <th>3035</th>\n",
       "      <td>0.470308</td>\n",
       "      <td>0.038346</td>\n",
       "      <td>0.192242</td>\n",
       "      <td>0.172572</td>\n",
       "      <td>0.056587</td>\n",
       "      <td>-0.039363</td>\n",
       "      <td>28.769863</td>\n",
       "      <td>28.832877</td>\n",
       "      <td>-0.101825</td>\n",
       "      <td>0.409020</td>\n",
       "      <td>-0.054475</td>\n",
       "      <td>0.286752</td>\n",
       "      <td>1.0</td>\n",
       "      <td>0.0</td>\n",
       "      <td>0.0</td>\n",
       "      <td>0.0</td>\n",
       "      <td>1.0</td>\n",
       "      <td>0.0</td>\n",
       "      <td>0.0</td>\n",
       "      <td>0.0</td>\n",
       "    </tr>\n",
       "    <tr>\n",
       "      <th>2785</th>\n",
       "      <td>0.470308</td>\n",
       "      <td>0.486123</td>\n",
       "      <td>1.653344</td>\n",
       "      <td>0.766933</td>\n",
       "      <td>0.507637</td>\n",
       "      <td>-0.039363</td>\n",
       "      <td>33.956164</td>\n",
       "      <td>27.230137</td>\n",
       "      <td>1.220693</td>\n",
       "      <td>-0.383930</td>\n",
       "      <td>-0.054475</td>\n",
       "      <td>2.103626</td>\n",
       "      <td>1.0</td>\n",
       "      <td>0.0</td>\n",
       "      <td>0.0</td>\n",
       "      <td>0.0</td>\n",
       "      <td>0.0</td>\n",
       "      <td>0.0</td>\n",
       "      <td>0.0</td>\n",
       "      <td>0.0</td>\n",
       "    </tr>\n",
       "    <tr>\n",
       "      <th>133</th>\n",
       "      <td>0.178615</td>\n",
       "      <td>0.038346</td>\n",
       "      <td>0.435759</td>\n",
       "      <td>-0.718970</td>\n",
       "      <td>-0.394462</td>\n",
       "      <td>-0.789027</td>\n",
       "      <td>20.153425</td>\n",
       "      <td>21.430137</td>\n",
       "      <td>-0.338256</td>\n",
       "      <td>1.201971</td>\n",
       "      <td>1.313521</td>\n",
       "      <td>1.498001</td>\n",
       "      <td>0.0</td>\n",
       "      <td>1.0</td>\n",
       "      <td>0.0</td>\n",
       "      <td>0.0</td>\n",
       "      <td>0.0</td>\n",
       "      <td>1.0</td>\n",
       "      <td>0.0</td>\n",
       "      <td>0.0</td>\n",
       "    </tr>\n",
       "  </tbody>\n",
       "</table>\n",
       "</div>"
      ],
      "text/plain": [
       "      r_height  r_weight   r_reach  b_height  b_weight   b_reach      r_age  \\\n",
       "343  -0.113078  0.038346  0.435759  1.064114  1.109036  1.459965  28.397260   \n",
       "2325  1.345387  1.083159  1.166310  0.766933  1.109036  0.710301  28.504110   \n",
       "3035  0.470308  0.038346  0.192242  0.172572  0.056587 -0.039363  28.769863   \n",
       "2785  0.470308  0.486123  1.653344  0.766933  0.507637 -0.039363  33.956164   \n",
       "133   0.178615  0.038346  0.435759 -0.718970 -0.394462 -0.789027  20.153425   \n",
       "\n",
       "          b_age  age_diff  height_diff  weight_diff  reach_diff  r_orthodox  \\\n",
       "343   24.386301  0.691793    -1.573356    -3.246465   -1.227310         1.0   \n",
       "2325  30.989041 -0.573619     0.805496    -0.054475    0.589564         1.0   \n",
       "3035  28.832877 -0.101825     0.409020    -0.054475    0.286752         1.0   \n",
       "2785  27.230137  1.220693    -0.383930    -0.054475    2.103626         1.0   \n",
       "133   21.430137 -0.338256     1.201971     1.313521    1.498001         0.0   \n",
       "\n",
       "      r_southpaw  r_switch  r_open  b_orthodox  b_southpaw  b_switch  b_open  \n",
       "343          0.0       0.0     0.0         1.0         0.0       0.0     0.0  \n",
       "2325         0.0       0.0     0.0         1.0         0.0       0.0     0.0  \n",
       "3035         0.0       0.0     0.0         1.0         0.0       0.0     0.0  \n",
       "2785         0.0       0.0     0.0         0.0         0.0       0.0     0.0  \n",
       "133          1.0       0.0     0.0         0.0         1.0       0.0     0.0  "
      ]
     },
     "execution_count": 47,
     "metadata": {},
     "output_type": "execute_result"
    }
   ],
   "source": [
    "x_test.head()"
   ]
  },
  {
   "cell_type": "code",
   "execution_count": 48,
   "metadata": {},
   "outputs": [
    {
     "data": {
      "text/plain": [
       "521     1\n",
       "2336    1\n",
       "3579    1\n",
       "4184    1\n",
       "600     1\n",
       "Name: r_won, dtype: int64"
      ]
     },
     "execution_count": 48,
     "metadata": {},
     "output_type": "execute_result"
    }
   ],
   "source": [
    "y_train.head()"
   ]
  },
  {
   "cell_type": "code",
   "execution_count": 49,
   "metadata": {},
   "outputs": [
    {
     "data": {
      "text/plain": [
       "343     1\n",
       "2325    1\n",
       "3035    0\n",
       "2785    0\n",
       "133     1\n",
       "Name: r_won, dtype: int64"
      ]
     },
     "execution_count": 49,
     "metadata": {},
     "output_type": "execute_result"
    }
   ],
   "source": [
    "y_test.head()"
   ]
  },
  {
   "cell_type": "code",
   "execution_count": 50,
   "metadata": {},
   "outputs": [],
   "source": [
    "lr = LogisticRegression()"
   ]
  },
  {
   "cell_type": "code",
   "execution_count": 51,
   "metadata": {},
   "outputs": [
    {
     "name": "stderr",
     "output_type": "stream",
     "text": [
      "C:\\Users\\paulj_1e1uzlz\\anaconda3\\envs\\tf-gpu\\lib\\site-packages\\sklearn\\linear_model\\_logistic.py:764: ConvergenceWarning: lbfgs failed to converge (status=1):\n",
      "STOP: TOTAL NO. of ITERATIONS REACHED LIMIT.\n",
      "\n",
      "Increase the number of iterations (max_iter) or scale the data as shown in:\n",
      "    https://scikit-learn.org/stable/modules/preprocessing.html\n",
      "Please also refer to the documentation for alternative solver options:\n",
      "    https://scikit-learn.org/stable/modules/linear_model.html#logistic-regression\n",
      "  extra_warning_msg=_LOGISTIC_SOLVER_CONVERGENCE_MSG)\n"
     ]
    },
    {
     "data": {
      "text/plain": [
       "LogisticRegression()"
      ]
     },
     "execution_count": 51,
     "metadata": {},
     "output_type": "execute_result"
    }
   ],
   "source": [
    "lr.fit(x_train, y_train)"
   ]
  },
  {
   "cell_type": "code",
   "execution_count": 52,
   "metadata": {},
   "outputs": [],
   "source": [
    "predictions = lr.predict(x_test)"
   ]
  },
  {
   "cell_type": "code",
   "execution_count": 53,
   "metadata": {},
   "outputs": [
    {
     "data": {
      "text/plain": [
       "array([[ 91, 475],\n",
       "       [ 71, 813]], dtype=int64)"
      ]
     },
     "execution_count": 53,
     "metadata": {},
     "output_type": "execute_result"
    }
   ],
   "source": [
    "confusion_matrix(y_test, predictions)"
   ]
  },
  {
   "cell_type": "code",
   "execution_count": 54,
   "metadata": {},
   "outputs": [
    {
     "data": {
      "text/plain": [
       "0.623448275862069"
      ]
     },
     "execution_count": 54,
     "metadata": {},
     "output_type": "execute_result"
    }
   ],
   "source": [
    "accuracy_score(y_test, predictions)"
   ]
  },
  {
   "cell_type": "code",
   "execution_count": 55,
   "metadata": {},
   "outputs": [
    {
     "data": {
      "text/plain": [
       "1    0.888276\n",
       "0    0.111724\n",
       "dtype: float64"
      ]
     },
     "execution_count": 55,
     "metadata": {},
     "output_type": "execute_result"
    }
   ],
   "source": [
    "pd.Series(predictions).value_counts() / len(predictions)"
   ]
  },
  {
   "cell_type": "code",
   "execution_count": 56,
   "metadata": {},
   "outputs": [
    {
     "name": "stdout",
     "output_type": "stream",
     "text": [
      "              precision    recall  f1-score   support\n",
      "\n",
      "           0       0.56      0.16      0.25       566\n",
      "           1       0.63      0.92      0.75       884\n",
      "\n",
      "    accuracy                           0.62      1450\n",
      "   macro avg       0.60      0.54      0.50      1450\n",
      "weighted avg       0.60      0.62      0.55      1450\n",
      "\n"
     ]
    }
   ],
   "source": [
    "print(classification_report(y_test, predictions))"
   ]
  },
  {
   "cell_type": "code",
   "execution_count": 57,
   "metadata": {},
   "outputs": [
    {
     "data": {
      "text/plain": [
       "0.6307762349191897"
      ]
     },
     "execution_count": 57,
     "metadata": {},
     "output_type": "execute_result"
    }
   ],
   "source": [
    "scaled_fights.r_won.sum() / scaled_fights.shape[0]"
   ]
  },
  {
   "cell_type": "markdown",
   "metadata": {},
   "source": [
    "Logistic regression was about 62% accurate, but guession \"R\" every time gets you 63%.  So logistic regression didn't do all that well.\n",
    "\n",
    "One option is to try it on fewer variables.  Drop all the stance variables and see if that makes a difference."
   ]
  },
  {
   "cell_type": "code",
   "execution_count": 58,
   "metadata": {},
   "outputs": [
    {
     "data": {
      "text/plain": [
       "Index(['r_fighter', 'b_fighter', 'winner', 'loser', 'r_height', 'r_weight',\n",
       "       'r_reach', 'r_stance', 'b_height', 'b_weight', 'b_reach', 'b_stance',\n",
       "       'r_age', 'b_age', 'age_diff', 'height_diff', 'weight_diff',\n",
       "       'reach_diff', 'r_b_winner', 'r_orthodox', 'r_southpaw', 'r_switch',\n",
       "       'r_open', 'b_orthodox', 'b_southpaw', 'b_switch', 'b_open', 'r_won'],\n",
       "      dtype='object')"
      ]
     },
     "execution_count": 58,
     "metadata": {},
     "output_type": "execute_result"
    }
   ],
   "source": [
    "scaled_fights.columns"
   ]
  },
  {
   "cell_type": "code",
   "execution_count": 59,
   "metadata": {},
   "outputs": [],
   "source": [
    "#scaled_fights = scaled_fights.drop(columns=['r_orthodox', 'r_southpaw', 'r_switch', 'r_open',\n",
    "#       'b_orthodox', 'b_southpaw', 'b_switch', 'b_open'])\n",
    "# You don't need to drop columns.  You can specificy which columsn you use in train_test_split"
   ]
  },
  {
   "cell_type": "code",
   "execution_count": 60,
   "metadata": {},
   "outputs": [],
   "source": [
    "x_train, x_test, y_train, y_test = train_test_split(scaled_fights[['r_height', 'r_weight', 'r_reach', 'b_height', 'b_weight', 'b_reach',\n",
    "       'r_age', 'b_age', 'age_diff', 'height_diff', 'weight_diff',\n",
    "       'reach_diff']], scaled_fights['r_won'], test_size=.33, random_state=1)"
   ]
  },
  {
   "cell_type": "code",
   "execution_count": 61,
   "metadata": {},
   "outputs": [],
   "source": [
    "lr2 = LogisticRegression()"
   ]
  },
  {
   "cell_type": "code",
   "execution_count": 62,
   "metadata": {},
   "outputs": [
    {
     "name": "stderr",
     "output_type": "stream",
     "text": [
      "C:\\Users\\paulj_1e1uzlz\\anaconda3\\envs\\tf-gpu\\lib\\site-packages\\sklearn\\linear_model\\_logistic.py:764: ConvergenceWarning: lbfgs failed to converge (status=1):\n",
      "STOP: TOTAL NO. of ITERATIONS REACHED LIMIT.\n",
      "\n",
      "Increase the number of iterations (max_iter) or scale the data as shown in:\n",
      "    https://scikit-learn.org/stable/modules/preprocessing.html\n",
      "Please also refer to the documentation for alternative solver options:\n",
      "    https://scikit-learn.org/stable/modules/linear_model.html#logistic-regression\n",
      "  extra_warning_msg=_LOGISTIC_SOLVER_CONVERGENCE_MSG)\n"
     ]
    },
    {
     "data": {
      "text/plain": [
       "LogisticRegression()"
      ]
     },
     "execution_count": 62,
     "metadata": {},
     "output_type": "execute_result"
    }
   ],
   "source": [
    "lr2.fit(x_train, y_train)"
   ]
  },
  {
   "cell_type": "code",
   "execution_count": 63,
   "metadata": {},
   "outputs": [],
   "source": [
    "predictions2 = lr2.predict(x_test)"
   ]
  },
  {
   "cell_type": "code",
   "execution_count": 64,
   "metadata": {},
   "outputs": [
    {
     "data": {
      "text/plain": [
       "0.6172413793103448"
      ]
     },
     "execution_count": 64,
     "metadata": {},
     "output_type": "execute_result"
    }
   ],
   "source": [
    "accuracy_score(y_test, predictions2)"
   ]
  },
  {
   "cell_type": "code",
   "execution_count": 65,
   "metadata": {},
   "outputs": [
    {
     "data": {
      "text/plain": [
       "1    0.895862\n",
       "0    0.104138\n",
       "dtype: float64"
      ]
     },
     "execution_count": 65,
     "metadata": {},
     "output_type": "execute_result"
    }
   ],
   "source": [
    "pd.Series(predictions2).value_counts() / len(predictions2)"
   ]
  },
  {
   "cell_type": "code",
   "execution_count": 66,
   "metadata": {},
   "outputs": [
    {
     "data": {
      "text/plain": [
       "array([[ 81, 485],\n",
       "       [ 70, 814]], dtype=int64)"
      ]
     },
     "execution_count": 66,
     "metadata": {},
     "output_type": "execute_result"
    }
   ],
   "source": [
    "confusion_matrix(y_test, predictions2)"
   ]
  },
  {
   "cell_type": "code",
   "execution_count": 67,
   "metadata": {},
   "outputs": [
    {
     "name": "stdout",
     "output_type": "stream",
     "text": [
      "              precision    recall  f1-score   support\n",
      "\n",
      "           0       0.54      0.14      0.23       566\n",
      "           1       0.63      0.92      0.75       884\n",
      "\n",
      "    accuracy                           0.62      1450\n",
      "   macro avg       0.58      0.53      0.49      1450\n",
      "weighted avg       0.59      0.62      0.54      1450\n",
      "\n"
     ]
    }
   ],
   "source": [
    "print(classification_report(y_test, predictions2))"
   ]
  },
  {
   "cell_type": "markdown",
   "metadata": {},
   "source": [
    "So even less accurate.  One last thing before going to neural networks.  Try stances only."
   ]
  },
  {
   "cell_type": "code",
   "execution_count": 68,
   "metadata": {},
   "outputs": [],
   "source": [
    "x_train, x_test, y_train, y_test = train_test_split(scaled_fights[['r_orthodox', 'r_southpaw', 'r_switch', 'r_open',\n",
    "       'b_orthodox', 'b_southpaw', 'b_switch', 'b_open']], scaled_fights['r_won'], test_size=.33, random_state=1)"
   ]
  },
  {
   "cell_type": "code",
   "execution_count": 69,
   "metadata": {},
   "outputs": [
    {
     "data": {
      "text/plain": [
       "((2943, 8), (1450, 8), (2943,), (1450,))"
      ]
     },
     "execution_count": 69,
     "metadata": {},
     "output_type": "execute_result"
    }
   ],
   "source": [
    "x_train.shape, x_test.shape, y_train.shape, y_test.shape"
   ]
  },
  {
   "cell_type": "code",
   "execution_count": 70,
   "metadata": {},
   "outputs": [
    {
     "data": {
      "text/html": [
       "<div>\n",
       "<style scoped>\n",
       "    .dataframe tbody tr th:only-of-type {\n",
       "        vertical-align: middle;\n",
       "    }\n",
       "\n",
       "    .dataframe tbody tr th {\n",
       "        vertical-align: top;\n",
       "    }\n",
       "\n",
       "    .dataframe thead th {\n",
       "        text-align: right;\n",
       "    }\n",
       "</style>\n",
       "<table border=\"1\" class=\"dataframe\">\n",
       "  <thead>\n",
       "    <tr style=\"text-align: right;\">\n",
       "      <th></th>\n",
       "      <th>r_orthodox</th>\n",
       "      <th>r_southpaw</th>\n",
       "      <th>r_switch</th>\n",
       "      <th>r_open</th>\n",
       "      <th>b_orthodox</th>\n",
       "      <th>b_southpaw</th>\n",
       "      <th>b_switch</th>\n",
       "      <th>b_open</th>\n",
       "    </tr>\n",
       "  </thead>\n",
       "  <tbody>\n",
       "    <tr>\n",
       "      <th>521</th>\n",
       "      <td>0.0</td>\n",
       "      <td>1.0</td>\n",
       "      <td>0.0</td>\n",
       "      <td>0.0</td>\n",
       "      <td>1.0</td>\n",
       "      <td>0.0</td>\n",
       "      <td>0.0</td>\n",
       "      <td>0.0</td>\n",
       "    </tr>\n",
       "    <tr>\n",
       "      <th>2336</th>\n",
       "      <td>0.0</td>\n",
       "      <td>1.0</td>\n",
       "      <td>0.0</td>\n",
       "      <td>0.0</td>\n",
       "      <td>1.0</td>\n",
       "      <td>0.0</td>\n",
       "      <td>0.0</td>\n",
       "      <td>0.0</td>\n",
       "    </tr>\n",
       "    <tr>\n",
       "      <th>3579</th>\n",
       "      <td>1.0</td>\n",
       "      <td>0.0</td>\n",
       "      <td>0.0</td>\n",
       "      <td>0.0</td>\n",
       "      <td>1.0</td>\n",
       "      <td>0.0</td>\n",
       "      <td>0.0</td>\n",
       "      <td>0.0</td>\n",
       "    </tr>\n",
       "    <tr>\n",
       "      <th>4184</th>\n",
       "      <td>1.0</td>\n",
       "      <td>0.0</td>\n",
       "      <td>0.0</td>\n",
       "      <td>0.0</td>\n",
       "      <td>1.0</td>\n",
       "      <td>0.0</td>\n",
       "      <td>0.0</td>\n",
       "      <td>0.0</td>\n",
       "    </tr>\n",
       "    <tr>\n",
       "      <th>600</th>\n",
       "      <td>1.0</td>\n",
       "      <td>0.0</td>\n",
       "      <td>0.0</td>\n",
       "      <td>0.0</td>\n",
       "      <td>1.0</td>\n",
       "      <td>0.0</td>\n",
       "      <td>0.0</td>\n",
       "      <td>0.0</td>\n",
       "    </tr>\n",
       "  </tbody>\n",
       "</table>\n",
       "</div>"
      ],
      "text/plain": [
       "      r_orthodox  r_southpaw  r_switch  r_open  b_orthodox  b_southpaw  \\\n",
       "521          0.0         1.0       0.0     0.0         1.0         0.0   \n",
       "2336         0.0         1.0       0.0     0.0         1.0         0.0   \n",
       "3579         1.0         0.0       0.0     0.0         1.0         0.0   \n",
       "4184         1.0         0.0       0.0     0.0         1.0         0.0   \n",
       "600          1.0         0.0       0.0     0.0         1.0         0.0   \n",
       "\n",
       "      b_switch  b_open  \n",
       "521        0.0     0.0  \n",
       "2336       0.0     0.0  \n",
       "3579       0.0     0.0  \n",
       "4184       0.0     0.0  \n",
       "600        0.0     0.0  "
      ]
     },
     "execution_count": 70,
     "metadata": {},
     "output_type": "execute_result"
    }
   ],
   "source": [
    "x_train.head()"
   ]
  },
  {
   "cell_type": "code",
   "execution_count": 71,
   "metadata": {},
   "outputs": [
    {
     "data": {
      "text/plain": [
       "LogisticRegression()"
      ]
     },
     "execution_count": 71,
     "metadata": {},
     "output_type": "execute_result"
    }
   ],
   "source": [
    "lr3 = LogisticRegression()\n",
    "lr3.fit(x_train, y_train)"
   ]
  },
  {
   "cell_type": "code",
   "execution_count": 72,
   "metadata": {},
   "outputs": [],
   "source": [
    "predictions3 = lr3.predict(x_test)"
   ]
  },
  {
   "cell_type": "code",
   "execution_count": 73,
   "metadata": {},
   "outputs": [
    {
     "data": {
      "text/plain": [
       "0.6096551724137931"
      ]
     },
     "execution_count": 73,
     "metadata": {},
     "output_type": "execute_result"
    }
   ],
   "source": [
    "accuracy_score(y_test, predictions3)"
   ]
  },
  {
   "cell_type": "code",
   "execution_count": 74,
   "metadata": {},
   "outputs": [
    {
     "data": {
      "text/plain": [
       "1    1.0\n",
       "dtype: float64"
      ]
     },
     "execution_count": 74,
     "metadata": {},
     "output_type": "execute_result"
    }
   ],
   "source": [
    "pd.Series(predictions3).value_counts() / len(predictions3)"
   ]
  },
  {
   "cell_type": "code",
   "execution_count": 75,
   "metadata": {},
   "outputs": [
    {
     "data": {
      "text/plain": [
       "array([[  0, 566],\n",
       "       [  0, 884]], dtype=int64)"
      ]
     },
     "execution_count": 75,
     "metadata": {},
     "output_type": "execute_result"
    }
   ],
   "source": [
    "confusion_matrix(y_test, predictions3)"
   ]
  },
  {
   "cell_type": "code",
   "execution_count": 76,
   "metadata": {},
   "outputs": [
    {
     "name": "stdout",
     "output_type": "stream",
     "text": [
      "              precision    recall  f1-score   support\n",
      "\n",
      "           0       0.00      0.00      0.00       566\n",
      "           1       0.61      1.00      0.76       884\n",
      "\n",
      "    accuracy                           0.61      1450\n",
      "   macro avg       0.30      0.50      0.38      1450\n",
      "weighted avg       0.37      0.61      0.46      1450\n",
      "\n"
     ]
    },
    {
     "name": "stderr",
     "output_type": "stream",
     "text": [
      "C:\\Users\\paulj_1e1uzlz\\anaconda3\\envs\\tf-gpu\\lib\\site-packages\\sklearn\\metrics\\_classification.py:1221: UndefinedMetricWarning: Precision and F-score are ill-defined and being set to 0.0 in labels with no predicted samples. Use `zero_division` parameter to control this behavior.\n",
      "  _warn_prf(average, modifier, msg_start, len(result))\n"
     ]
    }
   ],
   "source": [
    "print(classification_report(y_test, predictions3))"
   ]
  },
  {
   "cell_type": "markdown",
   "metadata": {},
   "source": [
    "We keep getting worse and worse, although only be small amounts.\n",
    "\n",
    "Time to try DNN and see what we can do."
   ]
  },
  {
   "cell_type": "markdown",
   "metadata": {},
   "source": [
    "------------------------------------\n",
    "DNN Section"
   ]
  },
  {
   "cell_type": "code",
   "execution_count": 77,
   "metadata": {},
   "outputs": [],
   "source": [
    "from keras.models import Sequential\n",
    "from keras.layers import Dense"
   ]
  },
  {
   "cell_type": "code",
   "execution_count": 78,
   "metadata": {},
   "outputs": [],
   "source": [
    "x_train, x_test, y_train, y_test = train_test_split(scaled_fights[['r_height', 'r_weight', 'r_reach', 'b_height', 'b_weight', 'b_reach',\n",
    "       'r_age', 'b_age', 'age_diff', 'height_diff', 'weight_diff',\n",
    "       'reach_diff', 'r_orthodox', 'r_southpaw', 'r_switch', 'r_open',\n",
    "       'b_orthodox', 'b_southpaw', 'b_switch', 'b_open']], scaled_fights['r_won'], test_size=.33, random_state=1)"
   ]
  },
  {
   "cell_type": "code",
   "execution_count": 79,
   "metadata": {},
   "outputs": [],
   "source": [
    "y_binary = to_categorical(y_train)"
   ]
  },
  {
   "cell_type": "code",
   "execution_count": 80,
   "metadata": {},
   "outputs": [],
   "source": [
    "model = Sequential()\n",
    "model.add(Dense(9, input_dim=x_train.shape[1], activation='relu'))\n",
    "model.add(Dense(9, input_dim=x_train.shape[1], activation='relu'))\n",
    "model.add(Dense(2, activation='softmax'))\n",
    "#model.compile(loss='sparse_categorical_crossentropy', optimizer='adam', metrics=['accuracy'])\n",
    "model.compile(loss='categorical_crossentropy', optimizer='adam', metrics=['accuracy'])"
   ]
  },
  {
   "cell_type": "code",
   "execution_count": 81,
   "metadata": {},
   "outputs": [
    {
     "name": "stdout",
     "output_type": "stream",
     "text": [
      "Epoch 1/100\n",
      " - 1s - loss: 1.5352 - accuracy: 0.4774\n",
      "Epoch 2/100\n",
      " - 0s - loss: 0.6639 - accuracy: 0.6330\n",
      "Epoch 3/100\n",
      " - 0s - loss: 0.6494 - accuracy: 0.6405\n",
      "Epoch 4/100\n",
      " - 1s - loss: 0.6418 - accuracy: 0.6446\n",
      "Epoch 5/100\n",
      " - 0s - loss: 0.6382 - accuracy: 0.6429\n",
      "Epoch 6/100\n",
      " - 0s - loss: 0.6374 - accuracy: 0.6429\n",
      "Epoch 7/100\n",
      " - 0s - loss: 0.6350 - accuracy: 0.6391\n",
      "Epoch 8/100\n",
      " - 0s - loss: 0.6342 - accuracy: 0.6412\n",
      "Epoch 9/100\n",
      " - 0s - loss: 0.6377 - accuracy: 0.6412\n",
      "Epoch 10/100\n",
      " - 0s - loss: 0.6345 - accuracy: 0.6487\n",
      "Epoch 11/100\n",
      " - 0s - loss: 0.6335 - accuracy: 0.6476\n",
      "Epoch 12/100\n",
      " - 0s - loss: 0.6339 - accuracy: 0.6436\n",
      "Epoch 13/100\n",
      " - 0s - loss: 0.6333 - accuracy: 0.6449\n",
      "Epoch 14/100\n",
      " - 0s - loss: 0.6319 - accuracy: 0.6449\n",
      "Epoch 15/100\n",
      " - 0s - loss: 0.6329 - accuracy: 0.6490\n",
      "Epoch 16/100\n",
      " - 0s - loss: 0.6327 - accuracy: 0.6524\n",
      "Epoch 17/100\n",
      " - 0s - loss: 0.6310 - accuracy: 0.6504\n",
      "Epoch 18/100\n",
      " - 0s - loss: 0.6311 - accuracy: 0.6419\n",
      "Epoch 19/100\n",
      " - 0s - loss: 0.6314 - accuracy: 0.6470\n",
      "Epoch 20/100\n",
      " - 0s - loss: 0.6316 - accuracy: 0.6470\n",
      "Epoch 21/100\n",
      " - 0s - loss: 0.6317 - accuracy: 0.6490\n",
      "Epoch 22/100\n",
      " - 0s - loss: 0.6293 - accuracy: 0.6534\n",
      "Epoch 23/100\n",
      " - 0s - loss: 0.6290 - accuracy: 0.6541\n",
      "Epoch 24/100\n",
      " - 0s - loss: 0.6293 - accuracy: 0.6490\n",
      "Epoch 25/100\n",
      " - 0s - loss: 0.6276 - accuracy: 0.6548\n",
      "Epoch 26/100\n",
      " - 0s - loss: 0.6279 - accuracy: 0.6551\n",
      "Epoch 27/100\n",
      " - 0s - loss: 0.6285 - accuracy: 0.6544\n",
      "Epoch 28/100\n",
      " - 0s - loss: 0.6287 - accuracy: 0.6490\n",
      "Epoch 29/100\n",
      " - 0s - loss: 0.6291 - accuracy: 0.6442\n",
      "Epoch 30/100\n",
      " - 0s - loss: 0.6296 - accuracy: 0.6480\n",
      "Epoch 31/100\n",
      " - 0s - loss: 0.6294 - accuracy: 0.6534\n",
      "Epoch 32/100\n",
      " - 0s - loss: 0.6301 - accuracy: 0.6510\n",
      "Epoch 33/100\n",
      " - 0s - loss: 0.6276 - accuracy: 0.6561\n",
      "Epoch 34/100\n",
      " - 0s - loss: 0.6272 - accuracy: 0.6459\n",
      "Epoch 35/100\n",
      " - 0s - loss: 0.6280 - accuracy: 0.6504\n",
      "Epoch 36/100\n",
      " - 0s - loss: 0.6259 - accuracy: 0.6456\n",
      "Epoch 37/100\n",
      " - 0s - loss: 0.6266 - accuracy: 0.6446\n",
      "Epoch 38/100\n",
      " - 0s - loss: 0.6259 - accuracy: 0.6551\n",
      "Epoch 39/100\n",
      " - 0s - loss: 0.6253 - accuracy: 0.6487\n",
      "Epoch 40/100\n",
      " - 0s - loss: 0.6266 - accuracy: 0.6541\n",
      "Epoch 41/100\n",
      " - 0s - loss: 0.6258 - accuracy: 0.6538\n",
      "Epoch 42/100\n",
      " - 0s - loss: 0.6252 - accuracy: 0.6487\n",
      "Epoch 43/100\n",
      " - 0s - loss: 0.6284 - accuracy: 0.6483\n",
      "Epoch 44/100\n",
      " - 0s - loss: 0.6247 - accuracy: 0.6548\n",
      "Epoch 45/100\n",
      " - 0s - loss: 0.6252 - accuracy: 0.6510\n",
      "Epoch 46/100\n",
      " - 0s - loss: 0.6255 - accuracy: 0.6582\n",
      "Epoch 47/100\n",
      " - 0s - loss: 0.6237 - accuracy: 0.6565\n",
      "Epoch 48/100\n",
      " - 0s - loss: 0.6272 - accuracy: 0.6463\n",
      "Epoch 49/100\n",
      " - 0s - loss: 0.6243 - accuracy: 0.6558\n",
      "Epoch 50/100\n",
      " - 0s - loss: 0.6266 - accuracy: 0.6436\n",
      "Epoch 51/100\n",
      " - 0s - loss: 0.6231 - accuracy: 0.6568\n",
      "Epoch 52/100\n",
      " - 0s - loss: 0.6235 - accuracy: 0.6572\n",
      "Epoch 53/100\n",
      " - 0s - loss: 0.6238 - accuracy: 0.6578\n",
      "Epoch 54/100\n",
      " - 0s - loss: 0.6247 - accuracy: 0.6565\n",
      "Epoch 55/100\n",
      " - 0s - loss: 0.6272 - accuracy: 0.6504\n",
      "Epoch 56/100\n",
      " - 0s - loss: 0.6244 - accuracy: 0.6527\n",
      "Epoch 57/100\n",
      " - 0s - loss: 0.6251 - accuracy: 0.6541\n",
      "Epoch 58/100\n",
      " - 0s - loss: 0.6244 - accuracy: 0.6456\n",
      "Epoch 59/100\n",
      " - 0s - loss: 0.6228 - accuracy: 0.6561\n",
      "Epoch 60/100\n",
      " - 0s - loss: 0.6223 - accuracy: 0.6568\n",
      "Epoch 61/100\n",
      " - 0s - loss: 0.6229 - accuracy: 0.6541\n",
      "Epoch 62/100\n",
      " - 0s - loss: 0.6246 - accuracy: 0.6476\n",
      "Epoch 63/100\n",
      " - 0s - loss: 0.6236 - accuracy: 0.6561\n",
      "Epoch 64/100\n",
      " - 0s - loss: 0.6251 - accuracy: 0.6524\n",
      "Epoch 65/100\n",
      " - 0s - loss: 0.6260 - accuracy: 0.6575\n",
      "Epoch 66/100\n",
      " - 0s - loss: 0.6226 - accuracy: 0.6561\n",
      "Epoch 67/100\n",
      " - 0s - loss: 0.6222 - accuracy: 0.6524\n",
      "Epoch 68/100\n",
      " - 0s - loss: 0.6219 - accuracy: 0.6636\n",
      "Epoch 69/100\n",
      " - 0s - loss: 0.6229 - accuracy: 0.6551\n",
      "Epoch 70/100\n",
      " - 0s - loss: 0.6231 - accuracy: 0.6555\n",
      "Epoch 71/100\n",
      " - 0s - loss: 0.6217 - accuracy: 0.6568\n",
      "Epoch 72/100\n",
      " - 0s - loss: 0.6232 - accuracy: 0.6561\n",
      "Epoch 73/100\n",
      " - 0s - loss: 0.6242 - accuracy: 0.6548\n",
      "Epoch 74/100\n",
      " - 0s - loss: 0.6249 - accuracy: 0.6517\n",
      "Epoch 75/100\n",
      " - 0s - loss: 0.6230 - accuracy: 0.6538\n",
      "Epoch 76/100\n",
      " - 0s - loss: 0.6240 - accuracy: 0.6476\n",
      "Epoch 77/100\n",
      " - 0s - loss: 0.6214 - accuracy: 0.6531\n",
      "Epoch 78/100\n",
      " - 0s - loss: 0.6218 - accuracy: 0.6599\n",
      "Epoch 79/100\n",
      " - 0s - loss: 0.6212 - accuracy: 0.6544\n",
      "Epoch 80/100\n",
      " - 0s - loss: 0.6232 - accuracy: 0.6582\n",
      "Epoch 81/100\n",
      " - 0s - loss: 0.6227 - accuracy: 0.6578\n",
      "Epoch 82/100\n",
      " - 0s - loss: 0.6215 - accuracy: 0.6514\n",
      "Epoch 83/100\n",
      " - 0s - loss: 0.6225 - accuracy: 0.6565\n",
      "Epoch 84/100\n",
      " - 0s - loss: 0.6209 - accuracy: 0.6561\n",
      "Epoch 85/100\n",
      " - 0s - loss: 0.6209 - accuracy: 0.6510\n",
      "Epoch 86/100\n",
      " - 0s - loss: 0.6215 - accuracy: 0.6470\n",
      "Epoch 87/100\n",
      " - 0s - loss: 0.6217 - accuracy: 0.6568\n",
      "Epoch 88/100\n",
      " - 0s - loss: 0.6208 - accuracy: 0.6585\n",
      "Epoch 89/100\n",
      " - 0s - loss: 0.6213 - accuracy: 0.6558\n",
      "Epoch 90/100\n",
      " - 0s - loss: 0.6213 - accuracy: 0.6585\n",
      "Epoch 91/100\n",
      " - 0s - loss: 0.6224 - accuracy: 0.6565\n",
      "Epoch 92/100\n",
      " - 0s - loss: 0.6217 - accuracy: 0.6585\n",
      "Epoch 93/100\n",
      " - 0s - loss: 0.6219 - accuracy: 0.6544\n",
      "Epoch 94/100\n",
      " - 0s - loss: 0.6191 - accuracy: 0.6561\n",
      "Epoch 95/100\n",
      " - 0s - loss: 0.6226 - accuracy: 0.6589\n",
      "Epoch 96/100\n",
      " - 0s - loss: 0.6204 - accuracy: 0.6544\n",
      "Epoch 97/100\n",
      " - 0s - loss: 0.6211 - accuracy: 0.6534\n",
      "Epoch 98/100\n",
      " - 0s - loss: 0.6189 - accuracy: 0.6619\n",
      "Epoch 99/100\n",
      " - 0s - loss: 0.6216 - accuracy: 0.6538\n",
      "Epoch 100/100\n",
      " - 0s - loss: 0.6195 - accuracy: 0.6612\n"
     ]
    },
    {
     "data": {
      "text/plain": [
       "<keras.callbacks.callbacks.History at 0x25876a275c8>"
      ]
     },
     "execution_count": 81,
     "metadata": {},
     "output_type": "execute_result"
    }
   ],
   "source": [
    "model.fit(x_train, y_binary, epochs=100, verbose=2)"
   ]
  },
  {
   "cell_type": "code",
   "execution_count": 82,
   "metadata": {},
   "outputs": [],
   "source": [
    "dnn_predictions = model.predict(x_test)"
   ]
  },
  {
   "cell_type": "code",
   "execution_count": 83,
   "metadata": {},
   "outputs": [
    {
     "data": {
      "text/plain": [
       "(1450, 2)"
      ]
     },
     "execution_count": 83,
     "metadata": {},
     "output_type": "execute_result"
    }
   ],
   "source": [
    "dnn_predictions.shape"
   ]
  },
  {
   "cell_type": "code",
   "execution_count": 84,
   "metadata": {},
   "outputs": [
    {
     "data": {
      "text/plain": [
       "(1450, 20)"
      ]
     },
     "execution_count": 84,
     "metadata": {},
     "output_type": "execute_result"
    }
   ],
   "source": [
    "x_test.shape"
   ]
  },
  {
   "cell_type": "code",
   "execution_count": 85,
   "metadata": {},
   "outputs": [],
   "source": [
    "y_test_binary = to_categorical(y_test)"
   ]
  },
  {
   "cell_type": "code",
   "execution_count": 86,
   "metadata": {},
   "outputs": [],
   "source": [
    "pred = np.apply_along_axis(lambda r: 1 if r[1] > r[0] else 0, 1, dnn_predictions)"
   ]
  },
  {
   "cell_type": "code",
   "execution_count": 87,
   "metadata": {},
   "outputs": [
    {
     "data": {
      "text/plain": [
       "0.6062068965517241"
      ]
     },
     "execution_count": 87,
     "metadata": {},
     "output_type": "execute_result"
    }
   ],
   "source": [
    "accuracy_score(y_test, pred)"
   ]
  },
  {
   "cell_type": "code",
   "execution_count": 88,
   "metadata": {},
   "outputs": [
    {
     "data": {
      "text/plain": [
       "array([[187, 379],\n",
       "       [192, 692]], dtype=int64)"
      ]
     },
     "execution_count": 88,
     "metadata": {},
     "output_type": "execute_result"
    }
   ],
   "source": [
    "confusion_matrix(y_test, pred)"
   ]
  },
  {
   "cell_type": "code",
   "execution_count": 89,
   "metadata": {},
   "outputs": [
    {
     "name": "stdout",
     "output_type": "stream",
     "text": [
      "              precision    recall  f1-score   support\n",
      "\n",
      "           0       0.49      0.33      0.40       566\n",
      "           1       0.65      0.78      0.71       884\n",
      "\n",
      "    accuracy                           0.61      1450\n",
      "   macro avg       0.57      0.56      0.55      1450\n",
      "weighted avg       0.59      0.61      0.59      1450\n",
      "\n"
     ]
    }
   ],
   "source": [
    "print(classification_report(y_test, pred))"
   ]
  },
  {
   "cell_type": "markdown",
   "metadata": {},
   "source": [
    "This is not all that accurate either.  One possibility is...you simply can't predict the winner very well one just stance and body type.\n",
    "\n",
    "But it is better than 50/50, so there must be some sort of information in there.  I am curious which columns give you that.  One more thing to try would be adding back the red/blue information and see if we can get significantly better than the baseline of \"red always wins\" for ~67% accuracy."
   ]
  },
  {
   "cell_type": "code",
   "execution_count": 90,
   "metadata": {},
   "outputs": [
    {
     "data": {
      "text/plain": [
       "0.6307762349191897"
      ]
     },
     "execution_count": 90,
     "metadata": {},
     "output_type": "execute_result"
    }
   ],
   "source": [
    "fights.r_won.sum() / fights.shape[0]"
   ]
  },
  {
   "cell_type": "code",
   "execution_count": 91,
   "metadata": {},
   "outputs": [
    {
     "data": {
      "text/plain": [
       "r       2771\n",
       "b       1551\n",
       "None      71\n",
       "Name: r_b_winner, dtype: int64"
      ]
     },
     "execution_count": 91,
     "metadata": {},
     "output_type": "execute_result"
    }
   ],
   "source": [
    "fights.r_b_winner.value_counts()"
   ]
  },
  {
   "cell_type": "code",
   "execution_count": 92,
   "metadata": {},
   "outputs": [
    {
     "data": {
      "text/plain": [
       "r       0.630776\n",
       "b       0.353062\n",
       "None    0.016162\n",
       "Name: r_b_winner, dtype: float64"
      ]
     },
     "execution_count": 92,
     "metadata": {},
     "output_type": "execute_result"
    }
   ],
   "source": [
    "fights.r_b_winner.value_counts() / fights.shape[0]"
   ]
  },
  {
   "cell_type": "markdown",
   "metadata": {},
   "source": [
    "OK, we need to account for this...There are some without winners.  For this ML algorithm, we'll need to removed those if we are predicting a binary red/blue.  If we want to keep them, we'll need to be able to predict between three outcomes.\n",
    "\n",
    "It is interesting that the accuracy here is very close to the \"red always wins\" strategy.  I wonder if that is coincidence or not."
   ]
  },
  {
   "cell_type": "code",
   "execution_count": 93,
   "metadata": {},
   "outputs": [
    {
     "data": {
      "text/plain": [
       "1    1071\n",
       "0     379\n",
       "dtype: int64"
      ]
     },
     "execution_count": 93,
     "metadata": {},
     "output_type": "execute_result"
    }
   ],
   "source": [
    "pd.Series(pred).value_counts()"
   ]
  },
  {
   "cell_type": "code",
   "execution_count": 94,
   "metadata": {},
   "outputs": [
    {
     "data": {
      "text/plain": [
       "1    0.738621\n",
       "0    0.261379\n",
       "dtype: float64"
      ]
     },
     "execution_count": 94,
     "metadata": {},
     "output_type": "execute_result"
    }
   ],
   "source": [
    "pd.Series(pred).value_counts() / pred.shape[0]"
   ]
  },
  {
   "cell_type": "markdown",
   "metadata": {},
   "source": [
    "So it guessed \"red won\"for about 93 percent of them."
   ]
  },
  {
   "cell_type": "code",
   "execution_count": 95,
   "metadata": {},
   "outputs": [
    {
     "data": {
      "text/plain": [
       "1    884\n",
       "0    566\n",
       "Name: r_won, dtype: int64"
      ]
     },
     "execution_count": 95,
     "metadata": {},
     "output_type": "execute_result"
    }
   ],
   "source": [
    "pd.Series(y_test).value_counts()"
   ]
  },
  {
   "cell_type": "code",
   "execution_count": 96,
   "metadata": {},
   "outputs": [
    {
     "data": {
      "text/plain": [
       "1    0.609655\n",
       "0    0.390345\n",
       "Name: r_won, dtype: float64"
      ]
     },
     "execution_count": 96,
     "metadata": {},
     "output_type": "execute_result"
    }
   ],
   "source": [
    "pd.Series(y_test).value_counts() / y_test.shape[0]"
   ]
  },
  {
   "cell_type": "code",
   "execution_count": 97,
   "metadata": {},
   "outputs": [
    {
     "data": {
      "text/plain": [
       "array([692], dtype=int64)"
      ]
     },
     "execution_count": 97,
     "metadata": {},
     "output_type": "execute_result"
    }
   ],
   "source": [
    "a = np.correlate(y_test, pred)\n",
    "a"
   ]
  },
  {
   "cell_type": "code",
   "execution_count": 98,
   "metadata": {},
   "outputs": [
    {
     "data": {
      "text/plain": [
       "692"
      ]
     },
     "execution_count": 98,
     "metadata": {},
     "output_type": "execute_result"
    }
   ],
   "source": [
    "a[0]"
   ]
  },
  {
   "cell_type": "code",
   "execution_count": 99,
   "metadata": {},
   "outputs": [
    {
     "data": {
      "text/plain": [
       "array([[1.        , 0.12567355],\n",
       "       [0.12567355, 1.        ]])"
      ]
     },
     "execution_count": 99,
     "metadata": {},
     "output_type": "execute_result"
    }
   ],
   "source": [
    "np.corrcoef(y_test, pred)"
   ]
  },
  {
   "cell_type": "code",
   "execution_count": 100,
   "metadata": {},
   "outputs": [
    {
     "data": {
      "text/plain": [
       "array([[0.23813998, 0.02695605],\n",
       "       [0.02695605, 0.1931934 ]])"
      ]
     },
     "execution_count": 100,
     "metadata": {},
     "output_type": "execute_result"
    }
   ],
   "source": [
    "np.cov(y_test, pred)"
   ]
  },
  {
   "cell_type": "code",
   "execution_count": 101,
   "metadata": {},
   "outputs": [
    {
     "data": {
      "text/plain": [
       "array([[1.66666667, 1.66666667],\n",
       "       [1.66666667, 1.66666667]])"
      ]
     },
     "execution_count": 101,
     "metadata": {},
     "output_type": "execute_result"
    }
   ],
   "source": [
    "np.cov([1, 2, 3, 4], [1, 2, 3, 4])"
   ]
  },
  {
   "cell_type": "code",
   "execution_count": 102,
   "metadata": {},
   "outputs": [
    {
     "data": {
      "text/plain": [
       "array([[1., 1.],\n",
       "       [1., 1.]])"
      ]
     },
     "execution_count": 102,
     "metadata": {},
     "output_type": "execute_result"
    }
   ],
   "source": [
    "np.corrcoef([1, 2, 3, 4], [1, 2, 3, 4])"
   ]
  },
  {
   "cell_type": "code",
   "execution_count": 103,
   "metadata": {},
   "outputs": [
    {
     "data": {
      "text/plain": [
       "array([30])"
      ]
     },
     "execution_count": 103,
     "metadata": {},
     "output_type": "execute_result"
    }
   ],
   "source": [
    "np.correlate([1, 2, 3, 4], [1, 2, 3, 4])"
   ]
  },
  {
   "cell_type": "code",
   "execution_count": 104,
   "metadata": {},
   "outputs": [
    {
     "data": {
      "text/plain": [
       "array([[187, 379],\n",
       "       [192, 692]], dtype=int64)"
      ]
     },
     "execution_count": 104,
     "metadata": {},
     "output_type": "execute_result"
    }
   ],
   "source": [
    "confusion_matrix(y_test, pred)"
   ]
  },
  {
   "cell_type": "code",
   "execution_count": null,
   "metadata": {},
   "outputs": [],
   "source": []
  },
  {
   "cell_type": "code",
   "execution_count": 105,
   "metadata": {},
   "outputs": [
    {
     "data": {
      "text/plain": [
       "343     1\n",
       "2325    1\n",
       "3035    0\n",
       "2785    0\n",
       "133     1\n",
       "Name: r_won, dtype: int64"
      ]
     },
     "execution_count": 105,
     "metadata": {},
     "output_type": "execute_result"
    }
   ],
   "source": [
    "y_test.head()"
   ]
  },
  {
   "cell_type": "code",
   "execution_count": 106,
   "metadata": {},
   "outputs": [
    {
     "data": {
      "text/plain": [
       "array([1, 1, 1, 1, 1])"
      ]
     },
     "execution_count": 106,
     "metadata": {},
     "output_type": "execute_result"
    }
   ],
   "source": [
    "pred[:5]"
   ]
  },
  {
   "cell_type": "code",
   "execution_count": 107,
   "metadata": {},
   "outputs": [
    {
     "data": {
      "text/plain": [
       "2    692\n",
       "1    571\n",
       "0    187\n",
       "Name: r_won, dtype: int64"
      ]
     },
     "execution_count": 107,
     "metadata": {},
     "output_type": "execute_result"
    }
   ],
   "source": [
    "(y_test + pred).value_counts()"
   ]
  },
  {
   "cell_type": "code",
   "execution_count": 108,
   "metadata": {},
   "outputs": [
    {
     "data": {
      "text/plain": [
       " 1    692\n",
       " 2    379\n",
       "-1    192\n",
       " 0    187\n",
       "Name: r_won, dtype: int64"
      ]
     },
     "execution_count": 108,
     "metadata": {},
     "output_type": "execute_result"
    }
   ],
   "source": [
    "(y_test * -1 + 2 * pred).value_counts()"
   ]
  },
  {
   "cell_type": "code",
   "execution_count": 109,
   "metadata": {},
   "outputs": [],
   "source": [
    "# 63 - when it was yes but it guessed no (wrong)\n",
    "# 75 - when it was no and it guessed no (correct)\n",
    "# 491 - when it was no but it guessed yes (wrong)\n",
    "# 821 - when it was yes and it guessed yes (correct)"
   ]
  },
  {
   "cell_type": "code",
   "execution_count": 110,
   "metadata": {},
   "outputs": [],
   "source": [
    "# It guessed \"red won\" for 93%, and got a lot of false positives.  Why is it so skewed toward the \"red\" side?"
   ]
  },
  {
   "cell_type": "code",
   "execution_count": null,
   "metadata": {},
   "outputs": [],
   "source": []
  },
  {
   "cell_type": "code",
   "execution_count": 111,
   "metadata": {},
   "outputs": [],
   "source": [
    "from DNN_analyzer import DNNAnalyzer\n",
    "dnn = DNNAnalyzer()"
   ]
  },
  {
   "cell_type": "code",
   "execution_count": 112,
   "metadata": {},
   "outputs": [],
   "source": [
    "#dnn.analyze_5(x_columns=fights[['r_height', 'r_weight', 'r_reach', 'b_height', 'b_weight', 'b_reach',\n",
    "#       'r_age', 'b_age', 'age_diff', 'height_diff', 'weight_diff',\n",
    "#       'reach_diff', 'r_orthodox', 'r_southpaw', 'r_switch', 'r_open',\n",
    "#       'b_orthodox', 'b_southpaw', 'b_switch', 'b_open']], y_column=fights.r_won)"
   ]
  },
  {
   "cell_type": "code",
   "execution_count": 113,
   "metadata": {},
   "outputs": [
    {
     "name": "stdout",
     "output_type": "stream",
     "text": [
      "Epoch 1/100\n",
      " - 0s - loss: 0.6208 - accuracy: 0.6585\n",
      "Epoch 2/100\n",
      " - 0s - loss: 0.6198 - accuracy: 0.6595\n",
      "Epoch 3/100\n",
      " - 0s - loss: 0.6195 - accuracy: 0.6490\n",
      "Epoch 4/100\n",
      " - 0s - loss: 0.6203 - accuracy: 0.6616\n",
      "Epoch 5/100\n",
      " - 0s - loss: 0.6202 - accuracy: 0.6592\n",
      "Epoch 6/100\n",
      " - 0s - loss: 0.6182 - accuracy: 0.6572\n",
      "Epoch 7/100\n",
      " - 0s - loss: 0.6224 - accuracy: 0.6521\n",
      "Epoch 8/100\n",
      " - 0s - loss: 0.6199 - accuracy: 0.6609\n",
      "Epoch 9/100\n",
      " - 0s - loss: 0.6198 - accuracy: 0.6585\n",
      "Epoch 10/100\n",
      " - 0s - loss: 0.6186 - accuracy: 0.6565\n",
      "Epoch 11/100\n",
      " - 0s - loss: 0.6185 - accuracy: 0.6561\n",
      "Epoch 12/100\n",
      " - 0s - loss: 0.6196 - accuracy: 0.6589\n",
      "Epoch 13/100\n",
      " - 0s - loss: 0.6193 - accuracy: 0.6575\n",
      "Epoch 14/100\n",
      " - 0s - loss: 0.6201 - accuracy: 0.6561\n",
      "Epoch 15/100\n",
      " - 0s - loss: 0.6179 - accuracy: 0.6572\n",
      "Epoch 16/100\n",
      " - 0s - loss: 0.6178 - accuracy: 0.6653\n",
      "Epoch 17/100\n",
      " - 0s - loss: 0.6169 - accuracy: 0.6606\n",
      "Epoch 18/100\n",
      " - 0s - loss: 0.6180 - accuracy: 0.6578\n",
      "Epoch 19/100\n",
      " - 0s - loss: 0.6190 - accuracy: 0.6595\n",
      "Epoch 20/100\n",
      " - 0s - loss: 0.6171 - accuracy: 0.6575\n",
      "Epoch 21/100\n",
      " - 0s - loss: 0.6194 - accuracy: 0.6568\n",
      "Epoch 22/100\n",
      " - 0s - loss: 0.6170 - accuracy: 0.6568\n",
      "Epoch 23/100\n",
      " - 0s - loss: 0.6171 - accuracy: 0.6568\n",
      "Epoch 24/100\n",
      " - 0s - loss: 0.6164 - accuracy: 0.6619\n",
      "Epoch 25/100\n",
      " - 0s - loss: 0.6186 - accuracy: 0.6599\n",
      "Epoch 26/100\n",
      " - 0s - loss: 0.6169 - accuracy: 0.6595\n",
      "Epoch 27/100\n",
      " - 0s - loss: 0.6161 - accuracy: 0.6656\n",
      "Epoch 28/100\n",
      " - 0s - loss: 0.6158 - accuracy: 0.6622\n",
      "Epoch 29/100\n",
      " - 0s - loss: 0.6149 - accuracy: 0.6636\n",
      "Epoch 30/100\n",
      " - 0s - loss: 0.6192 - accuracy: 0.6551\n",
      "Epoch 31/100\n",
      " - 0s - loss: 0.6172 - accuracy: 0.6548\n",
      "Epoch 32/100\n",
      " - 0s - loss: 0.6160 - accuracy: 0.6636\n",
      "Epoch 33/100\n",
      " - 0s - loss: 0.6168 - accuracy: 0.6633\n",
      "Epoch 34/100\n",
      " - 0s - loss: 0.6158 - accuracy: 0.6551\n",
      "Epoch 35/100\n",
      " - 0s - loss: 0.6180 - accuracy: 0.6504\n",
      "Epoch 36/100\n",
      " - 0s - loss: 0.6165 - accuracy: 0.6568\n",
      "Epoch 37/100\n",
      " - 0s - loss: 0.6155 - accuracy: 0.6653\n",
      "Epoch 38/100\n",
      " - 0s - loss: 0.6177 - accuracy: 0.6527\n",
      "Epoch 39/100\n",
      " - 0s - loss: 0.6150 - accuracy: 0.6653\n",
      "Epoch 40/100\n",
      " - 0s - loss: 0.6183 - accuracy: 0.6606\n",
      "Epoch 41/100\n",
      " - 0s - loss: 0.6141 - accuracy: 0.6616\n",
      "Epoch 42/100\n",
      " - 0s - loss: 0.6151 - accuracy: 0.6687\n",
      "Epoch 43/100\n",
      " - 0s - loss: 0.6158 - accuracy: 0.6609\n",
      "Epoch 44/100\n",
      " - 0s - loss: 0.6153 - accuracy: 0.6582\n",
      "Epoch 45/100\n",
      " - 0s - loss: 0.6152 - accuracy: 0.6599\n",
      "Epoch 46/100\n",
      " - 0s - loss: 0.6165 - accuracy: 0.6619\n",
      "Epoch 47/100\n",
      " - 0s - loss: 0.6136 - accuracy: 0.6633\n",
      "Epoch 48/100\n",
      " - 0s - loss: 0.6141 - accuracy: 0.6622\n",
      "Epoch 49/100\n",
      " - 0s - loss: 0.6164 - accuracy: 0.6670\n",
      "Epoch 50/100\n",
      " - 0s - loss: 0.6139 - accuracy: 0.6612\n",
      "Epoch 51/100\n",
      " - 0s - loss: 0.6151 - accuracy: 0.6663\n",
      "Epoch 52/100\n",
      " - 0s - loss: 0.6163 - accuracy: 0.6609\n",
      "Epoch 53/100\n",
      " - 0s - loss: 0.6134 - accuracy: 0.6646\n",
      "Epoch 54/100\n",
      " - 0s - loss: 0.6159 - accuracy: 0.6629\n",
      "Epoch 55/100\n",
      " - 0s - loss: 0.6144 - accuracy: 0.6656\n",
      "Epoch 56/100\n",
      " - 0s - loss: 0.6142 - accuracy: 0.6612\n",
      "Epoch 57/100\n",
      " - 0s - loss: 0.6150 - accuracy: 0.6595\n",
      "Epoch 58/100\n",
      " - 0s - loss: 0.6129 - accuracy: 0.6670\n",
      "Epoch 59/100\n",
      " - 0s - loss: 0.6139 - accuracy: 0.6670\n",
      "Epoch 60/100\n",
      " - 0s - loss: 0.6133 - accuracy: 0.6673\n",
      "Epoch 61/100\n",
      " - 0s - loss: 0.6153 - accuracy: 0.6589\n",
      "Epoch 62/100\n",
      " - 0s - loss: 0.6124 - accuracy: 0.6646\n",
      "Epoch 63/100\n",
      " - 0s - loss: 0.6130 - accuracy: 0.6589\n",
      "Epoch 64/100\n",
      " - 0s - loss: 0.6135 - accuracy: 0.6599\n",
      "Epoch 65/100\n",
      " - 0s - loss: 0.6142 - accuracy: 0.6670\n",
      "Epoch 66/100\n",
      " - 0s - loss: 0.6128 - accuracy: 0.6612\n",
      "Epoch 67/100\n",
      " - 0s - loss: 0.6128 - accuracy: 0.6670\n",
      "Epoch 68/100\n",
      " - 0s - loss: 0.6133 - accuracy: 0.6629\n",
      "Epoch 69/100\n",
      " - 0s - loss: 0.6120 - accuracy: 0.6660\n",
      "Epoch 70/100\n",
      " - 0s - loss: 0.6122 - accuracy: 0.6612\n",
      "Epoch 71/100\n",
      " - 0s - loss: 0.6102 - accuracy: 0.6656\n",
      "Epoch 72/100\n",
      " - 0s - loss: 0.6113 - accuracy: 0.6694\n",
      "Epoch 73/100\n",
      " - 0s - loss: 0.6124 - accuracy: 0.6612\n",
      "Epoch 74/100\n",
      " - 0s - loss: 0.6122 - accuracy: 0.6606\n",
      "Epoch 75/100\n",
      " - 0s - loss: 0.6110 - accuracy: 0.6660\n",
      "Epoch 76/100\n",
      " - 0s - loss: 0.6125 - accuracy: 0.6612\n",
      "Epoch 77/100\n",
      " - 0s - loss: 0.6135 - accuracy: 0.6656\n",
      "Epoch 78/100\n",
      " - 0s - loss: 0.6109 - accuracy: 0.6609\n",
      "Epoch 79/100\n",
      " - 0s - loss: 0.6102 - accuracy: 0.6690\n",
      "Epoch 80/100\n",
      " - 0s - loss: 0.6128 - accuracy: 0.6602\n",
      "Epoch 81/100\n",
      " - 0s - loss: 0.6121 - accuracy: 0.6673\n",
      "Epoch 82/100\n",
      " - 0s - loss: 0.6124 - accuracy: 0.6639\n",
      "Epoch 83/100\n",
      " - 0s - loss: 0.6089 - accuracy: 0.6707\n",
      "Epoch 84/100\n",
      " - 0s - loss: 0.6128 - accuracy: 0.6568\n",
      "Epoch 85/100\n",
      " - 0s - loss: 0.6109 - accuracy: 0.6667\n",
      "Epoch 86/100\n",
      " - 0s - loss: 0.6116 - accuracy: 0.6690\n",
      "Epoch 87/100\n",
      " - 0s - loss: 0.6099 - accuracy: 0.6639\n",
      "Epoch 88/100\n",
      " - 0s - loss: 0.6118 - accuracy: 0.6636\n",
      "Epoch 89/100\n",
      " - 0s - loss: 0.6117 - accuracy: 0.6670\n",
      "Epoch 90/100\n",
      " - 0s - loss: 0.6127 - accuracy: 0.6680\n",
      "Epoch 91/100\n",
      " - 0s - loss: 0.6120 - accuracy: 0.6609\n",
      "Epoch 92/100\n",
      " - 0s - loss: 0.6111 - accuracy: 0.6622\n",
      "Epoch 93/100\n",
      " - 0s - loss: 0.6094 - accuracy: 0.6680\n",
      "Epoch 94/100\n",
      " - 0s - loss: 0.6122 - accuracy: 0.6589\n",
      "Epoch 95/100\n",
      " - 0s - loss: 0.6114 - accuracy: 0.6663\n",
      "Epoch 96/100\n",
      " - 0s - loss: 0.6094 - accuracy: 0.6680\n",
      "Epoch 97/100\n",
      " - 0s - loss: 0.6120 - accuracy: 0.6639\n",
      "Epoch 98/100\n",
      " - 0s - loss: 0.6096 - accuracy: 0.6694\n",
      "Epoch 99/100\n",
      " - 0s - loss: 0.6101 - accuracy: 0.6663\n",
      "Epoch 100/100\n",
      " - 0s - loss: 0.6083 - accuracy: 0.6697\n",
      "0.6262068965517241\n",
      "1    0.852414\n",
      "0    0.147586\n",
      "dtype: float64\n"
     ]
    }
   ],
   "source": [
    "dnn.run_analysis(model, x_columns=fights[['r_height', 'r_weight', 'r_reach', 'b_height', 'b_weight', 'b_reach',\n",
    "       'r_age', 'b_age', 'age_diff', 'height_diff', 'weight_diff',\n",
    "       'reach_diff', 'r_orthodox', 'r_southpaw', 'r_switch', 'r_open',\n",
    "       'b_orthodox', 'b_southpaw', 'b_switch', 'b_open']], y_column=fights.r_won)"
   ]
  },
  {
   "cell_type": "code",
   "execution_count": 114,
   "metadata": {},
   "outputs": [],
   "source": [
    "model = Sequential()\n",
    "model.add(Dense(12, input_dim=12, activation='relu'))\n",
    "model.add(Dense(12, input_dim=12, activation='relu'))\n",
    "model.add(Dense(2, activation='softmax'))\n",
    "#model.compile(loss='sparse_categorical_crossentropy', optimizer='adam', metrics=['accuracy'])\n",
    "model.compile(loss='categorical_crossentropy', optimizer='adam', metrics=['accuracy'])"
   ]
  },
  {
   "cell_type": "code",
   "execution_count": 115,
   "metadata": {},
   "outputs": [
    {
     "name": "stdout",
     "output_type": "stream",
     "text": [
      "Epoch 1/100\n",
      " - 0s - loss: 1.1485 - accuracy: 0.6035\n",
      "Epoch 2/100\n",
      " - 0s - loss: 0.6633 - accuracy: 0.6211\n",
      "Epoch 3/100\n",
      " - 0s - loss: 0.6563 - accuracy: 0.6259\n",
      "Epoch 4/100\n",
      " - 0s - loss: 0.6478 - accuracy: 0.6317\n",
      "Epoch 5/100\n",
      " - 0s - loss: 0.6460 - accuracy: 0.6351\n",
      "Epoch 6/100\n",
      " - 0s - loss: 0.6462 - accuracy: 0.6334\n",
      "Epoch 7/100\n",
      " - 0s - loss: 0.6443 - accuracy: 0.6344\n",
      "Epoch 8/100\n",
      " - 0s - loss: 0.6446 - accuracy: 0.6374\n",
      "Epoch 9/100\n",
      " - 0s - loss: 0.6407 - accuracy: 0.6388\n",
      "Epoch 10/100\n",
      " - 0s - loss: 0.6403 - accuracy: 0.6425\n",
      "Epoch 11/100\n",
      " - 0s - loss: 0.6411 - accuracy: 0.6388\n",
      "Epoch 12/100\n",
      " - 0s - loss: 0.6496 - accuracy: 0.6381\n",
      "Epoch 13/100\n",
      " - 0s - loss: 0.6403 - accuracy: 0.6374\n",
      "Epoch 14/100\n",
      " - 0s - loss: 0.6426 - accuracy: 0.6385\n",
      "Epoch 15/100\n",
      " - 0s - loss: 0.6403 - accuracy: 0.6402\n",
      "Epoch 16/100\n",
      " - 0s - loss: 0.6400 - accuracy: 0.6459\n",
      "Epoch 17/100\n",
      " - 0s - loss: 0.6391 - accuracy: 0.6436\n",
      "Epoch 18/100\n",
      " - 0s - loss: 0.6375 - accuracy: 0.6446\n",
      "Epoch 19/100\n",
      " - 0s - loss: 0.6382 - accuracy: 0.6517\n",
      "Epoch 20/100\n",
      " - 0s - loss: 0.6377 - accuracy: 0.6453\n",
      "Epoch 21/100\n",
      " - 0s - loss: 0.6391 - accuracy: 0.6453\n",
      "Epoch 22/100\n",
      " - 0s - loss: 0.6401 - accuracy: 0.6432\n",
      "Epoch 23/100\n",
      " - 0s - loss: 0.6346 - accuracy: 0.6439\n",
      "Epoch 24/100\n",
      " - 0s - loss: 0.6468 - accuracy: 0.6364\n",
      "Epoch 25/100\n",
      " - 0s - loss: 0.6423 - accuracy: 0.6337\n",
      "Epoch 26/100\n",
      " - 0s - loss: 0.6426 - accuracy: 0.6310\n",
      "Epoch 27/100\n",
      " - 0s - loss: 0.6359 - accuracy: 0.6405\n",
      "Epoch 28/100\n",
      " - 0s - loss: 0.6340 - accuracy: 0.6466\n",
      "Epoch 29/100\n",
      " - 0s - loss: 0.6351 - accuracy: 0.6425\n",
      "Epoch 30/100\n",
      " - 0s - loss: 0.6443 - accuracy: 0.6330\n",
      "Epoch 31/100\n",
      " - 0s - loss: 0.6353 - accuracy: 0.6405\n",
      "Epoch 32/100\n",
      " - 0s - loss: 0.6348 - accuracy: 0.6442\n",
      "Epoch 33/100\n",
      " - 0s - loss: 0.6352 - accuracy: 0.6453\n",
      "Epoch 34/100\n",
      " - 0s - loss: 0.6392 - accuracy: 0.6408\n",
      "Epoch 35/100\n",
      " - 0s - loss: 0.6341 - accuracy: 0.6449\n",
      "Epoch 36/100\n",
      " - 0s - loss: 0.6376 - accuracy: 0.6429\n",
      "Epoch 37/100\n",
      " - 0s - loss: 0.6359 - accuracy: 0.6388\n",
      "Epoch 38/100\n",
      " - 0s - loss: 0.6403 - accuracy: 0.6476\n",
      "Epoch 39/100\n",
      " - 0s - loss: 0.6353 - accuracy: 0.6439\n",
      "Epoch 40/100\n",
      " - 0s - loss: 0.6342 - accuracy: 0.6456\n",
      "Epoch 41/100\n",
      " - 0s - loss: 0.6326 - accuracy: 0.6456\n",
      "Epoch 42/100\n",
      " - 0s - loss: 0.6313 - accuracy: 0.6449\n",
      "Epoch 43/100\n",
      " - 0s - loss: 0.6438 - accuracy: 0.6364\n",
      "Epoch 44/100\n",
      " - 0s - loss: 0.6330 - accuracy: 0.6442\n",
      "Epoch 45/100\n",
      " - 0s - loss: 0.6342 - accuracy: 0.6425\n",
      "Epoch 46/100\n",
      " - 0s - loss: 0.6345 - accuracy: 0.6487\n",
      "Epoch 47/100\n",
      " - 0s - loss: 0.6365 - accuracy: 0.6385\n",
      "Epoch 48/100\n",
      " - 0s - loss: 0.6327 - accuracy: 0.6463\n",
      "Epoch 49/100\n",
      " - 0s - loss: 0.6355 - accuracy: 0.6439\n",
      "Epoch 50/100\n",
      " - 0s - loss: 0.6323 - accuracy: 0.6385\n",
      "Epoch 51/100\n",
      " - 0s - loss: 0.6322 - accuracy: 0.6470\n",
      "Epoch 52/100\n",
      " - 0s - loss: 0.6388 - accuracy: 0.6429\n",
      "Epoch 53/100\n",
      " - 0s - loss: 0.6331 - accuracy: 0.6436\n",
      "Epoch 54/100\n",
      " - 0s - loss: 0.6316 - accuracy: 0.6548\n",
      "Epoch 55/100\n",
      " - 0s - loss: 0.6381 - accuracy: 0.6374\n",
      "Epoch 56/100\n",
      " - 0s - loss: 0.6331 - accuracy: 0.6466\n",
      "Epoch 57/100\n",
      " - 0s - loss: 0.6358 - accuracy: 0.6402\n",
      "Epoch 58/100\n",
      " - 0s - loss: 0.6371 - accuracy: 0.6415\n",
      "Epoch 59/100\n",
      " - 0s - loss: 0.6353 - accuracy: 0.6391\n",
      "Epoch 60/100\n",
      " - 0s - loss: 0.6314 - accuracy: 0.6476\n",
      "Epoch 61/100\n",
      " - 0s - loss: 0.6327 - accuracy: 0.6436\n",
      "Epoch 62/100\n",
      " - 0s - loss: 0.6338 - accuracy: 0.6429\n",
      "Epoch 63/100\n",
      " - 0s - loss: 0.6307 - accuracy: 0.6504\n",
      "Epoch 64/100\n",
      " - 0s - loss: 0.6302 - accuracy: 0.6463\n",
      "Epoch 65/100\n",
      " - 0s - loss: 0.6375 - accuracy: 0.6395\n",
      "Epoch 66/100\n",
      " - 0s - loss: 0.6325 - accuracy: 0.6436\n",
      "Epoch 67/100\n",
      " - 0s - loss: 0.6310 - accuracy: 0.6459\n",
      "Epoch 68/100\n",
      " - 0s - loss: 0.6312 - accuracy: 0.6449\n",
      "Epoch 69/100\n",
      " - 0s - loss: 0.6322 - accuracy: 0.6459\n",
      "Epoch 70/100\n",
      " - 0s - loss: 0.6335 - accuracy: 0.6351\n",
      "Epoch 71/100\n",
      " - 0s - loss: 0.6316 - accuracy: 0.6439\n",
      "Epoch 72/100\n",
      " - 0s - loss: 0.6325 - accuracy: 0.6439\n",
      "Epoch 73/100\n",
      " - 0s - loss: 0.6306 - accuracy: 0.6405\n",
      "Epoch 74/100\n",
      " - 0s - loss: 0.6315 - accuracy: 0.6541\n",
      "Epoch 75/100\n",
      " - 0s - loss: 0.6311 - accuracy: 0.6456\n",
      "Epoch 76/100\n",
      " - 0s - loss: 0.6336 - accuracy: 0.6391\n",
      "Epoch 77/100\n",
      " - 0s - loss: 0.6348 - accuracy: 0.6361\n",
      "Epoch 78/100\n",
      " - 0s - loss: 0.6333 - accuracy: 0.6442\n",
      "Epoch 79/100\n",
      " - 0s - loss: 0.6314 - accuracy: 0.6442\n",
      "Epoch 80/100\n",
      " - 0s - loss: 0.6331 - accuracy: 0.6412\n",
      "Epoch 81/100\n",
      " - 0s - loss: 0.6306 - accuracy: 0.6463\n",
      "Epoch 82/100\n",
      " - 0s - loss: 0.6325 - accuracy: 0.6429\n",
      "Epoch 83/100\n",
      " - 0s - loss: 0.6317 - accuracy: 0.6483\n",
      "Epoch 84/100\n",
      " - 0s - loss: 0.6300 - accuracy: 0.6490\n",
      "Epoch 85/100\n",
      " - 0s - loss: 0.6338 - accuracy: 0.6412\n",
      "Epoch 86/100\n",
      " - 0s - loss: 0.6303 - accuracy: 0.6436\n",
      "Epoch 87/100\n",
      " - 0s - loss: 0.6286 - accuracy: 0.6548\n",
      "Epoch 88/100\n",
      " - 0s - loss: 0.6349 - accuracy: 0.6500\n",
      "Epoch 89/100\n",
      " - 0s - loss: 0.6297 - accuracy: 0.6419\n",
      "Epoch 90/100\n",
      " - 0s - loss: 0.6325 - accuracy: 0.6429\n",
      "Epoch 91/100\n",
      " - 0s - loss: 0.6304 - accuracy: 0.6439\n",
      "Epoch 92/100\n",
      " - 0s - loss: 0.6285 - accuracy: 0.6524\n",
      "Epoch 93/100\n",
      " - 0s - loss: 0.6291 - accuracy: 0.6483\n",
      "Epoch 94/100\n",
      " - 0s - loss: 0.6307 - accuracy: 0.6463\n",
      "Epoch 95/100\n",
      " - 0s - loss: 0.6298 - accuracy: 0.6480\n",
      "Epoch 96/100\n",
      " - 0s - loss: 0.6320 - accuracy: 0.6419\n",
      "Epoch 97/100\n",
      " - 0s - loss: 0.6281 - accuracy: 0.6514\n",
      "Epoch 98/100\n",
      " - 0s - loss: 0.6283 - accuracy: 0.6487\n",
      "Epoch 99/100\n",
      " - 0s - loss: 0.6317 - accuracy: 0.6412\n",
      "Epoch 100/100\n",
      " - 0s - loss: 0.6289 - accuracy: 0.6483\n",
      "0.616551724137931\n",
      "1    0.856552\n",
      "0    0.143448\n",
      "dtype: float64\n"
     ]
    }
   ],
   "source": [
    "dnn.run_analysis(model, x_columns=fights[['r_height', 'r_weight', 'r_reach', 'b_height', 'b_weight', 'b_reach',\n",
    "       'r_age', 'b_age', 'age_diff', 'height_diff', 'weight_diff',\n",
    "       'reach_diff']], y_column=fights.r_won)"
   ]
  },
  {
   "cell_type": "code",
   "execution_count": 116,
   "metadata": {},
   "outputs": [],
   "source": [
    "model = Sequential()\n",
    "model.add(Dense(8, input_dim=8, activation='relu'))\n",
    "model.add(Dense(8, input_dim=8, activation='relu'))\n",
    "model.add(Dense(2, activation='softmax'))\n",
    "#model.compile(loss='sparse_categorical_crossentropy', optimizer='adam', metrics=['accuracy'])\n",
    "model.compile(loss='categorical_crossentropy', optimizer='adam', metrics=['accuracy'])"
   ]
  },
  {
   "cell_type": "code",
   "execution_count": 117,
   "metadata": {},
   "outputs": [
    {
     "name": "stdout",
     "output_type": "stream",
     "text": [
      "Epoch 1/100\n",
      " - 0s - loss: 0.6630 - accuracy: 0.6082\n",
      "Epoch 2/100\n",
      " - 0s - loss: 0.6521 - accuracy: 0.6415\n",
      "Epoch 3/100\n",
      " - 0s - loss: 0.6512 - accuracy: 0.6415\n",
      "Epoch 4/100\n",
      " - 0s - loss: 0.6506 - accuracy: 0.6415\n",
      "Epoch 5/100\n",
      " - 1s - loss: 0.6504 - accuracy: 0.6415\n",
      "Epoch 6/100\n",
      " - 1s - loss: 0.6505 - accuracy: 0.6415\n",
      "Epoch 7/100\n",
      " - 0s - loss: 0.6500 - accuracy: 0.6415\n",
      "Epoch 8/100\n",
      " - 0s - loss: 0.6502 - accuracy: 0.6415\n",
      "Epoch 9/100\n",
      " - 0s - loss: 0.6499 - accuracy: 0.6415\n",
      "Epoch 10/100\n",
      " - 0s - loss: 0.6498 - accuracy: 0.6415\n",
      "Epoch 11/100\n",
      " - 0s - loss: 0.6501 - accuracy: 0.6415\n",
      "Epoch 12/100\n",
      " - 0s - loss: 0.6500 - accuracy: 0.6415\n",
      "Epoch 13/100\n",
      " - 0s - loss: 0.6501 - accuracy: 0.6415\n",
      "Epoch 14/100\n",
      " - 0s - loss: 0.6497 - accuracy: 0.6415\n",
      "Epoch 15/100\n",
      " - 0s - loss: 0.6498 - accuracy: 0.6415\n",
      "Epoch 16/100\n",
      " - 0s - loss: 0.6499 - accuracy: 0.6415\n",
      "Epoch 17/100\n",
      " - 0s - loss: 0.6497 - accuracy: 0.6415\n",
      "Epoch 18/100\n",
      " - 0s - loss: 0.6498 - accuracy: 0.6415\n",
      "Epoch 19/100\n",
      " - 0s - loss: 0.6495 - accuracy: 0.6415\n",
      "Epoch 20/100\n",
      " - 0s - loss: 0.6497 - accuracy: 0.6415\n",
      "Epoch 21/100\n",
      " - 0s - loss: 0.6495 - accuracy: 0.6415\n",
      "Epoch 22/100\n",
      " - 0s - loss: 0.6495 - accuracy: 0.6415\n",
      "Epoch 23/100\n",
      " - 0s - loss: 0.6494 - accuracy: 0.6415\n",
      "Epoch 24/100\n",
      " - 0s - loss: 0.6494 - accuracy: 0.6415\n",
      "Epoch 25/100\n",
      " - 0s - loss: 0.6494 - accuracy: 0.6415\n",
      "Epoch 26/100\n",
      " - 0s - loss: 0.6496 - accuracy: 0.6415\n",
      "Epoch 27/100\n",
      " - 0s - loss: 0.6495 - accuracy: 0.6415\n",
      "Epoch 28/100\n",
      " - 0s - loss: 0.6494 - accuracy: 0.6415\n",
      "Epoch 29/100\n",
      " - 0s - loss: 0.6493 - accuracy: 0.6415\n",
      "Epoch 30/100\n",
      " - 0s - loss: 0.6495 - accuracy: 0.6415\n",
      "Epoch 31/100\n",
      " - 0s - loss: 0.6494 - accuracy: 0.6415\n",
      "Epoch 32/100\n",
      " - 0s - loss: 0.6495 - accuracy: 0.6415\n",
      "Epoch 33/100\n",
      " - 0s - loss: 0.6495 - accuracy: 0.6415\n",
      "Epoch 34/100\n",
      " - 0s - loss: 0.6495 - accuracy: 0.6408\n",
      "Epoch 35/100\n",
      " - 0s - loss: 0.6495 - accuracy: 0.6415\n",
      "Epoch 36/100\n",
      " - 0s - loss: 0.6494 - accuracy: 0.6415\n",
      "Epoch 37/100\n",
      " - 0s - loss: 0.6494 - accuracy: 0.6415\n",
      "Epoch 38/100\n",
      " - 0s - loss: 0.6492 - accuracy: 0.6415\n",
      "Epoch 39/100\n",
      " - 0s - loss: 0.6493 - accuracy: 0.6415\n",
      "Epoch 40/100\n",
      " - 0s - loss: 0.6492 - accuracy: 0.6415\n",
      "Epoch 41/100\n",
      " - 0s - loss: 0.6494 - accuracy: 0.6419\n",
      "Epoch 42/100\n",
      " - 0s - loss: 0.6496 - accuracy: 0.6415\n",
      "Epoch 43/100\n",
      " - 0s - loss: 0.6494 - accuracy: 0.6412\n",
      "Epoch 44/100\n",
      " - 0s - loss: 0.6490 - accuracy: 0.6408\n",
      "Epoch 45/100\n",
      " - 0s - loss: 0.6492 - accuracy: 0.6415\n",
      "Epoch 46/100\n",
      " - 0s - loss: 0.6493 - accuracy: 0.6415\n",
      "Epoch 47/100\n",
      " - 0s - loss: 0.6497 - accuracy: 0.6415\n",
      "Epoch 48/100\n",
      " - 0s - loss: 0.6491 - accuracy: 0.6415\n",
      "Epoch 49/100\n",
      " - 0s - loss: 0.6492 - accuracy: 0.6419\n",
      "Epoch 50/100\n",
      " - 0s - loss: 0.6491 - accuracy: 0.6412\n",
      "Epoch 51/100\n",
      " - 0s - loss: 0.6494 - accuracy: 0.6412\n",
      "Epoch 52/100\n",
      " - 0s - loss: 0.6491 - accuracy: 0.6419\n",
      "Epoch 53/100\n",
      " - 0s - loss: 0.6491 - accuracy: 0.6415\n",
      "Epoch 54/100\n",
      " - 0s - loss: 0.6491 - accuracy: 0.6415\n",
      "Epoch 55/100\n",
      " - 0s - loss: 0.6494 - accuracy: 0.6412\n",
      "Epoch 56/100\n",
      " - 0s - loss: 0.6492 - accuracy: 0.6408\n",
      "Epoch 57/100\n",
      " - 0s - loss: 0.6491 - accuracy: 0.6415\n",
      "Epoch 58/100\n",
      " - 0s - loss: 0.6490 - accuracy: 0.6408\n",
      "Epoch 59/100\n",
      " - 0s - loss: 0.6491 - accuracy: 0.6405\n",
      "Epoch 60/100\n",
      " - 0s - loss: 0.6490 - accuracy: 0.6425\n",
      "Epoch 61/100\n",
      " - 0s - loss: 0.6493 - accuracy: 0.6415\n",
      "Epoch 62/100\n",
      " - 0s - loss: 0.6491 - accuracy: 0.6412\n",
      "Epoch 63/100\n",
      " - 0s - loss: 0.6492 - accuracy: 0.6412\n",
      "Epoch 64/100\n",
      " - 0s - loss: 0.6490 - accuracy: 0.6412\n",
      "Epoch 65/100\n",
      " - 0s - loss: 0.6489 - accuracy: 0.6412\n",
      "Epoch 66/100\n",
      " - 0s - loss: 0.6490 - accuracy: 0.6405\n",
      "Epoch 67/100\n",
      " - 0s - loss: 0.6492 - accuracy: 0.6415\n",
      "Epoch 68/100\n",
      " - 0s - loss: 0.6487 - accuracy: 0.6415\n",
      "Epoch 69/100\n",
      " - 0s - loss: 0.6490 - accuracy: 0.6415\n",
      "Epoch 70/100\n",
      " - 0s - loss: 0.6492 - accuracy: 0.6415\n",
      "Epoch 71/100\n",
      " - 0s - loss: 0.6488 - accuracy: 0.6415\n",
      "Epoch 72/100\n",
      " - 0s - loss: 0.6490 - accuracy: 0.6412\n",
      "Epoch 73/100\n",
      " - 0s - loss: 0.6490 - accuracy: 0.6415\n",
      "Epoch 74/100\n",
      " - 0s - loss: 0.6490 - accuracy: 0.6415\n",
      "Epoch 75/100\n",
      " - 0s - loss: 0.6489 - accuracy: 0.6415\n",
      "Epoch 76/100\n",
      " - 0s - loss: 0.6490 - accuracy: 0.6412\n",
      "Epoch 77/100\n",
      " - 0s - loss: 0.6493 - accuracy: 0.6415\n",
      "Epoch 78/100\n",
      " - 0s - loss: 0.6489 - accuracy: 0.6408\n",
      "Epoch 79/100\n",
      " - 0s - loss: 0.6490 - accuracy: 0.6408\n",
      "Epoch 80/100\n",
      " - 0s - loss: 0.6489 - accuracy: 0.6412\n",
      "Epoch 81/100\n",
      " - 0s - loss: 0.6488 - accuracy: 0.6415\n",
      "Epoch 82/100\n",
      " - 0s - loss: 0.6487 - accuracy: 0.6419\n",
      "Epoch 83/100\n",
      " - 0s - loss: 0.6492 - accuracy: 0.6415\n",
      "Epoch 84/100\n",
      " - 0s - loss: 0.6490 - accuracy: 0.6415\n",
      "Epoch 85/100\n",
      " - 0s - loss: 0.6488 - accuracy: 0.6412\n",
      "Epoch 86/100\n",
      " - 0s - loss: 0.6492 - accuracy: 0.6415\n",
      "Epoch 87/100\n",
      " - 0s - loss: 0.6490 - accuracy: 0.6412\n",
      "Epoch 88/100\n",
      " - 0s - loss: 0.6491 - accuracy: 0.6415\n",
      "Epoch 89/100\n",
      " - 0s - loss: 0.6488 - accuracy: 0.6412\n",
      "Epoch 90/100\n",
      " - 0s - loss: 0.6489 - accuracy: 0.6415\n",
      "Epoch 91/100\n",
      " - 0s - loss: 0.6491 - accuracy: 0.6422\n",
      "Epoch 92/100\n",
      " - 0s - loss: 0.6489 - accuracy: 0.6408\n",
      "Epoch 93/100\n",
      " - 0s - loss: 0.6490 - accuracy: 0.6415\n",
      "Epoch 94/100\n",
      " - 0s - loss: 0.6489 - accuracy: 0.6412\n",
      "Epoch 95/100\n",
      " - 0s - loss: 0.6489 - accuracy: 0.6422\n",
      "Epoch 96/100\n",
      " - 0s - loss: 0.6492 - accuracy: 0.6408\n",
      "Epoch 97/100\n",
      " - 0s - loss: 0.6486 - accuracy: 0.6415\n",
      "Epoch 98/100\n",
      " - 0s - loss: 0.6490 - accuracy: 0.6412\n",
      "Epoch 99/100\n",
      " - 0s - loss: 0.6490 - accuracy: 0.6415\n",
      "Epoch 100/100\n",
      " - 0s - loss: 0.6489 - accuracy: 0.6408\n",
      "0.6068965517241379\n",
      "1    0.993103\n",
      "0    0.006897\n",
      "dtype: float64\n"
     ]
    }
   ],
   "source": [
    "dnn.run_analysis(model, x_columns=fights[['r_orthodox', 'r_southpaw', 'r_switch', 'r_open',\n",
    "       'b_orthodox', 'b_southpaw', 'b_switch', 'b_open']], y_column=fights.r_won)"
   ]
  },
  {
   "cell_type": "code",
   "execution_count": 118,
   "metadata": {},
   "outputs": [],
   "source": [
    "import importlib"
   ]
  },
  {
   "cell_type": "code",
   "execution_count": 119,
   "metadata": {},
   "outputs": [],
   "source": [
    "from importlib import reload"
   ]
  },
  {
   "cell_type": "code",
   "execution_count": 122,
   "metadata": {},
   "outputs": [],
   "source": [
    "from DNN_analyzer import DNNAnalyzer\n",
    "dnn = DNNAnalyzer()"
   ]
  },
  {
   "cell_type": "code",
   "execution_count": 123,
   "metadata": {},
   "outputs": [
    {
     "name": "stdout",
     "output_type": "stream",
     "text": [
      "Epoch 1/40\n",
      " - 1s - loss: 0.6489 - accuracy: 0.6412\n",
      "Epoch 2/40\n",
      " - 1s - loss: 0.6492 - accuracy: 0.6412\n",
      "Epoch 3/40\n",
      " - 1s - loss: 0.6486 - accuracy: 0.6419\n",
      "Epoch 4/40\n",
      " - 1s - loss: 0.6492 - accuracy: 0.6408\n",
      "Epoch 5/40\n",
      " - 1s - loss: 0.6489 - accuracy: 0.6415\n",
      "Epoch 6/40\n",
      " - 1s - loss: 0.6489 - accuracy: 0.6419\n",
      "Epoch 7/40\n",
      " - 1s - loss: 0.6488 - accuracy: 0.6415\n",
      "Epoch 8/40\n",
      " - 1s - loss: 0.6488 - accuracy: 0.6419\n",
      "Epoch 9/40\n",
      " - 0s - loss: 0.6489 - accuracy: 0.6415\n",
      "Epoch 10/40\n",
      " - 0s - loss: 0.6491 - accuracy: 0.6408\n",
      "Epoch 11/40\n",
      " - 1s - loss: 0.6488 - accuracy: 0.6405\n",
      "Epoch 12/40\n",
      " - 0s - loss: 0.6488 - accuracy: 0.6415\n",
      "Epoch 13/40\n",
      " - 0s - loss: 0.6492 - accuracy: 0.6415\n",
      "Epoch 14/40\n",
      " - 0s - loss: 0.6491 - accuracy: 0.6415\n",
      "Epoch 15/40\n",
      " - 0s - loss: 0.6489 - accuracy: 0.6412\n",
      "Epoch 16/40\n",
      " - 0s - loss: 0.6492 - accuracy: 0.6408\n",
      "Epoch 17/40\n",
      " - 0s - loss: 0.6488 - accuracy: 0.6415\n",
      "Epoch 18/40\n",
      " - 1s - loss: 0.6491 - accuracy: 0.6415\n",
      "Epoch 19/40\n",
      " - 1s - loss: 0.6493 - accuracy: 0.6412\n",
      "Epoch 20/40\n",
      " - 1s - loss: 0.6493 - accuracy: 0.6415\n",
      "Epoch 21/40\n",
      " - 1s - loss: 0.6492 - accuracy: 0.6408\n",
      "Epoch 22/40\n",
      " - 0s - loss: 0.6488 - accuracy: 0.6415\n",
      "Epoch 23/40\n",
      " - 0s - loss: 0.6491 - accuracy: 0.6412\n",
      "Epoch 24/40\n",
      " - 0s - loss: 0.6488 - accuracy: 0.6425\n",
      "Epoch 25/40\n",
      " - 1s - loss: 0.6490 - accuracy: 0.6415\n",
      "Epoch 26/40\n",
      " - 1s - loss: 0.6488 - accuracy: 0.6419\n",
      "Epoch 27/40\n",
      " - 0s - loss: 0.6489 - accuracy: 0.6415\n",
      "Epoch 28/40\n",
      " - 0s - loss: 0.6491 - accuracy: 0.6415\n",
      "Epoch 29/40\n",
      " - 0s - loss: 0.6487 - accuracy: 0.6412\n",
      "Epoch 30/40\n",
      " - 1s - loss: 0.6490 - accuracy: 0.6408\n",
      "Epoch 31/40\n",
      " - 1s - loss: 0.6487 - accuracy: 0.6415\n",
      "Epoch 32/40\n",
      " - 1s - loss: 0.6490 - accuracy: 0.6415\n",
      "Epoch 33/40\n",
      " - 1s - loss: 0.6489 - accuracy: 0.6412\n",
      "Epoch 34/40\n",
      " - 1s - loss: 0.6490 - accuracy: 0.6412\n",
      "Epoch 35/40\n",
      " - 1s - loss: 0.6490 - accuracy: 0.6415\n",
      "Epoch 36/40\n",
      " - 1s - loss: 0.6488 - accuracy: 0.6412\n",
      "Epoch 37/40\n",
      " - 1s - loss: 0.6488 - accuracy: 0.6415\n",
      "Epoch 38/40\n",
      " - 1s - loss: 0.6490 - accuracy: 0.6419\n",
      "Epoch 39/40\n",
      " - 1s - loss: 0.6485 - accuracy: 0.6415\n",
      "Epoch 40/40\n",
      " - 1s - loss: 0.6489 - accuracy: 0.6422\n",
      "0.6068965517241379\n",
      "1    0.993103\n",
      "0    0.006897\n",
      "dtype: float64\n"
     ]
    }
   ],
   "source": [
    "dnn.run_analysis(model, x_columns=fights[['r_orthodox', 'r_southpaw', 'r_switch', 'r_open',\n",
    "       'b_orthodox', 'b_southpaw', 'b_switch', 'b_open']], y_column=fights.r_won, num_epochs=40)"
   ]
  },
  {
   "cell_type": "code",
   "execution_count": 124,
   "metadata": {},
   "outputs": [
    {
     "data": {
      "text/plain": [
       "1    0.609655\n",
       "0    0.390345\n",
       "Name: r_won, dtype: float64"
      ]
     },
     "execution_count": 124,
     "metadata": {},
     "output_type": "execute_result"
    }
   ],
   "source": [
    "pd.Series(y_test).value_counts() / len(y_test)"
   ]
  },
  {
   "cell_type": "code",
   "execution_count": 125,
   "metadata": {},
   "outputs": [
    {
     "data": {
      "text/plain": [
       "1    0.630776\n",
       "0    0.369224\n",
       "Name: r_won, dtype: float64"
      ]
     },
     "execution_count": 125,
     "metadata": {},
     "output_type": "execute_result"
    }
   ],
   "source": [
    "scaled_fights.r_won.value_counts() / scaled_fights.shape[0]"
   ]
  },
  {
   "cell_type": "code",
   "execution_count": 126,
   "metadata": {},
   "outputs": [
    {
     "name": "stdout",
     "output_type": "stream",
     "text": [
      "Epoch 1/15\n",
      " - 0s - loss: 0.6487 - accuracy: 0.6415\n",
      "Epoch 2/15\n",
      " - 0s - loss: 0.6489 - accuracy: 0.6415\n",
      "Epoch 3/15\n",
      " - 0s - loss: 0.6486 - accuracy: 0.6419\n",
      "Epoch 4/15\n",
      " - 0s - loss: 0.6488 - accuracy: 0.6415\n",
      "Epoch 5/15\n",
      " - 0s - loss: 0.6490 - accuracy: 0.6415\n",
      "Epoch 6/15\n",
      " - 0s - loss: 0.6487 - accuracy: 0.6408\n",
      "Epoch 7/15\n",
      " - 0s - loss: 0.6488 - accuracy: 0.6408\n",
      "Epoch 8/15\n",
      " - 0s - loss: 0.6488 - accuracy: 0.6415\n",
      "Epoch 9/15\n",
      " - 0s - loss: 0.6487 - accuracy: 0.6405\n",
      "Epoch 10/15\n",
      " - 0s - loss: 0.6486 - accuracy: 0.6415\n",
      "Epoch 11/15\n",
      " - 0s - loss: 0.6488 - accuracy: 0.6412\n",
      "Epoch 12/15\n",
      " - 0s - loss: 0.6488 - accuracy: 0.6412\n",
      "Epoch 13/15\n",
      " - 0s - loss: 0.6489 - accuracy: 0.6405\n",
      "Epoch 14/15\n",
      " - 0s - loss: 0.6488 - accuracy: 0.6412\n",
      "Epoch 15/15\n",
      " - 0s - loss: 0.6493 - accuracy: 0.6408\n",
      "0.6068965517241379\n",
      "1    0.993103\n",
      "0    0.006897\n",
      "dtype: float64\n"
     ]
    }
   ],
   "source": [
    "dnn.run_analysis(model, x_columns=scaled_fights[['r_orthodox', 'r_southpaw', 'r_switch', 'r_open',\n",
    "       'b_orthodox', 'b_southpaw', 'b_switch', 'b_open']], y_column=fights.r_won, num_epochs=15)"
   ]
  },
  {
   "cell_type": "markdown",
   "metadata": {},
   "source": [
    "So the same variables in scaled_fights is not better."
   ]
  },
  {
   "cell_type": "code",
   "execution_count": 127,
   "metadata": {},
   "outputs": [
    {
     "data": {
      "text/plain": [
       "Index(['r_fighter', 'b_fighter', 'winner', 'loser', 'r_height', 'r_weight',\n",
       "       'r_reach', 'r_stance', 'b_height', 'b_weight', 'b_reach', 'b_stance',\n",
       "       'r_age', 'b_age', 'age_diff', 'height_diff', 'weight_diff',\n",
       "       'reach_diff', 'r_b_winner', 'r_orthodox', 'r_southpaw', 'r_switch',\n",
       "       'r_open', 'b_orthodox', 'b_southpaw', 'b_switch', 'b_open', 'r_won'],\n",
       "      dtype='object')"
      ]
     },
     "execution_count": 127,
     "metadata": {},
     "output_type": "execute_result"
    }
   ],
   "source": [
    "scaled_fights.columns"
   ]
  },
  {
   "cell_type": "markdown",
   "metadata": {},
   "source": [
    "Try using all variable columns."
   ]
  },
  {
   "cell_type": "code",
   "execution_count": 128,
   "metadata": {},
   "outputs": [],
   "source": [
    "variable_columns = ['r_height', 'r_weight',\n",
    "       'r_reach', 'r_stance', 'b_height', 'b_weight', 'b_reach', 'b_stance',\n",
    "       'r_age', 'b_age', 'age_diff', 'height_diff', 'weight_diff',\n",
    "       'reach_diff', 'r_b_winner', 'r_orthodox', 'r_southpaw', 'r_switch',\n",
    "       'r_open', 'b_orthodox', 'b_southpaw', 'b_switch', 'b_open']\n",
    "\n",
    "variable_columns = ['r_height', 'b_height', 'height_diff',\n",
    "                    'r_weight', 'b_weight', 'weight_diff',\n",
    "                    'r_reach', 'b_reach', 'reach_diff',\n",
    "                    'r_age', 'b_age', 'age_diff',\n",
    "                    'r_orthodox', 'r_southpaw', 'r_switch', 'r_open',\n",
    "       'b_orthodox', 'b_southpaw', 'b_switch', 'b_open']"
   ]
  },
  {
   "cell_type": "code",
   "execution_count": 129,
   "metadata": {},
   "outputs": [
    {
     "name": "stdout",
     "output_type": "stream",
     "text": [
      "Epoch 1/35\n",
      " - 0s - loss: 0.7225 - accuracy: 0.6045\n",
      "Epoch 2/35\n",
      " - 0s - loss: 0.6442 - accuracy: 0.6351\n",
      "Epoch 3/35\n",
      " - 0s - loss: 0.6444 - accuracy: 0.6351\n",
      "Epoch 4/35\n",
      " - 0s - loss: 0.6409 - accuracy: 0.6351\n",
      "Epoch 5/35\n",
      " - 0s - loss: 0.6395 - accuracy: 0.6425\n",
      "Epoch 6/35\n",
      " - 0s - loss: 0.6409 - accuracy: 0.6344\n",
      "Epoch 7/35\n",
      " - 0s - loss: 0.6382 - accuracy: 0.6405\n",
      "Epoch 8/35\n",
      " - 0s - loss: 0.6387 - accuracy: 0.6371\n",
      "Epoch 9/35\n",
      " - 0s - loss: 0.6417 - accuracy: 0.6354\n",
      "Epoch 10/35\n",
      " - 0s - loss: 0.6339 - accuracy: 0.6385\n",
      "Epoch 11/35\n",
      " - 0s - loss: 0.6364 - accuracy: 0.6473\n",
      "Epoch 12/35\n",
      " - 0s - loss: 0.6332 - accuracy: 0.6487\n",
      "Epoch 13/35\n",
      " - 0s - loss: 0.6354 - accuracy: 0.6425\n",
      "Epoch 14/35\n",
      " - 0s - loss: 0.6354 - accuracy: 0.6408\n",
      "Epoch 15/35\n",
      " - 0s - loss: 0.6321 - accuracy: 0.6449\n",
      "Epoch 16/35\n",
      " - 0s - loss: 0.6369 - accuracy: 0.6432\n",
      "Epoch 17/35\n",
      " - 0s - loss: 0.6354 - accuracy: 0.6446\n",
      "Epoch 18/35\n",
      " - 0s - loss: 0.6315 - accuracy: 0.6463\n",
      "Epoch 19/35\n",
      " - 0s - loss: 0.6309 - accuracy: 0.6419\n",
      "Epoch 20/35\n",
      " - 0s - loss: 0.6325 - accuracy: 0.6442\n",
      "Epoch 21/35\n",
      " - 0s - loss: 0.6322 - accuracy: 0.6490\n",
      "Epoch 22/35\n",
      " - 0s - loss: 0.6309 - accuracy: 0.6449\n",
      "Epoch 23/35\n",
      " - 0s - loss: 0.6317 - accuracy: 0.6415\n",
      "Epoch 24/35\n",
      " - 0s - loss: 0.6291 - accuracy: 0.6480\n",
      "Epoch 25/35\n",
      " - 0s - loss: 0.6310 - accuracy: 0.6487\n",
      "Epoch 26/35\n",
      " - 0s - loss: 0.6315 - accuracy: 0.6408\n",
      "Epoch 27/35\n",
      " - 0s - loss: 0.6328 - accuracy: 0.6449\n",
      "Epoch 28/35\n",
      " - 0s - loss: 0.6311 - accuracy: 0.6459\n",
      "Epoch 29/35\n",
      " - 0s - loss: 0.6293 - accuracy: 0.6446\n",
      "Epoch 30/35\n",
      " - 0s - loss: 0.6286 - accuracy: 0.6480\n",
      "Epoch 31/35\n",
      " - 0s - loss: 0.6284 - accuracy: 0.6544\n",
      "Epoch 32/35\n",
      " - 0s - loss: 0.6289 - accuracy: 0.6572\n",
      "Epoch 33/35\n",
      " - 0s - loss: 0.6277 - accuracy: 0.6470\n",
      "Epoch 34/35\n",
      " - 0s - loss: 0.6272 - accuracy: 0.6531\n",
      "Epoch 35/35\n",
      " - 0s - loss: 0.6278 - accuracy: 0.6538\n",
      "0.6193103448275862\n",
      "1    0.89931\n",
      "0    0.10069\n",
      "dtype: float64\n"
     ]
    }
   ],
   "source": [
    "model = Sequential()\n",
    "model.add(Dense(len(variable_columns), input_dim=len(variable_columns), activation='relu'))\n",
    "model.add(Dense(len(variable_columns), input_dim=len(variable_columns), activation='relu'))\n",
    "model.add(Dense(2, activation='softmax'))\n",
    "#model.compile(loss='sparse_categorical_crossentropy', optimizer='adam', metrics=['accuracy'])\n",
    "model.compile(loss='categorical_crossentropy', optimizer='adam', metrics=['accuracy'])\n",
    "dnn.run_analysis(model, x_columns=scaled_fights[variable_columns], y_column=scaled_fights.r_won, num_epochs=35)"
   ]
  },
  {
   "cell_type": "code",
   "execution_count": 130,
   "metadata": {},
   "outputs": [],
   "source": [
    "variable_columns = ['r_height', 'b_height', 'height_diff',\n",
    "                    'r_weight', 'b_weight', 'weight_diff',\n",
    "                    'r_reach', 'b_reach', 'reach_diff',\n",
    "                    'r_age', 'b_age', 'age_diff',\n",
    "                    #'r_orthodox', 'r_southpaw', 'r_switch', 'r_open',\n",
    "       #'b_orthodox', 'b_southpaw', 'b_switch', 'b_open'\n",
    "                   ]"
   ]
  },
  {
   "cell_type": "code",
   "execution_count": 131,
   "metadata": {},
   "outputs": [
    {
     "name": "stdout",
     "output_type": "stream",
     "text": [
      "Epoch 1/35\n",
      " - 0s - loss: 2.7778 - accuracy: 0.5046\n",
      "Epoch 2/35\n",
      " - 0s - loss: 0.6579 - accuracy: 0.6310\n",
      "Epoch 3/35\n",
      " - 0s - loss: 0.6501 - accuracy: 0.6306\n",
      "Epoch 4/35\n",
      " - 0s - loss: 0.6442 - accuracy: 0.6446\n",
      "Epoch 5/35\n",
      " - 0s - loss: 0.6442 - accuracy: 0.6364\n",
      "Epoch 6/35\n",
      " - 0s - loss: 0.6393 - accuracy: 0.6439\n",
      "Epoch 7/35\n",
      " - 0s - loss: 0.6421 - accuracy: 0.6449\n",
      "Epoch 8/35\n",
      " - 0s - loss: 0.6338 - accuracy: 0.6456\n",
      "Epoch 9/35\n",
      " - 0s - loss: 0.6416 - accuracy: 0.6402\n",
      "Epoch 10/35\n",
      " - 0s - loss: 0.6366 - accuracy: 0.6432\n",
      "Epoch 11/35\n",
      " - 0s - loss: 0.6366 - accuracy: 0.6483\n",
      "Epoch 12/35\n",
      " - 0s - loss: 0.6349 - accuracy: 0.6497\n",
      "Epoch 13/35\n",
      " - 0s - loss: 0.6350 - accuracy: 0.6514\n",
      "Epoch 14/35\n",
      " - 0s - loss: 0.6396 - accuracy: 0.6425\n",
      "Epoch 15/35\n",
      " - 0s - loss: 0.6359 - accuracy: 0.6429\n",
      "Epoch 16/35\n",
      " - 0s - loss: 0.6353 - accuracy: 0.6473\n",
      "Epoch 17/35\n",
      " - 0s - loss: 0.6370 - accuracy: 0.6487\n",
      "Epoch 18/35\n",
      " - 0s - loss: 0.6371 - accuracy: 0.6521\n",
      "Epoch 19/35\n",
      " - 0s - loss: 0.6416 - accuracy: 0.6368\n",
      "Epoch 20/35\n",
      " - 0s - loss: 0.6338 - accuracy: 0.6473\n",
      "Epoch 21/35\n",
      " - 0s - loss: 0.6349 - accuracy: 0.6449\n",
      "Epoch 22/35\n",
      " - 0s - loss: 0.6369 - accuracy: 0.6422\n",
      "Epoch 23/35\n",
      " - 0s - loss: 0.6347 - accuracy: 0.6487\n",
      "Epoch 24/35\n",
      " - 0s - loss: 0.6362 - accuracy: 0.6463\n",
      "Epoch 25/35\n",
      " - 0s - loss: 0.6354 - accuracy: 0.6500\n",
      "Epoch 26/35\n",
      " - 0s - loss: 0.6317 - accuracy: 0.6493\n",
      "Epoch 27/35\n",
      " - 0s - loss: 0.6330 - accuracy: 0.6459\n",
      "Epoch 28/35\n",
      " - 0s - loss: 0.6424 - accuracy: 0.6463\n",
      "Epoch 29/35\n",
      " - 0s - loss: 0.6353 - accuracy: 0.6504\n",
      "Epoch 30/35\n",
      " - 0s - loss: 0.6331 - accuracy: 0.6544\n",
      "Epoch 31/35\n",
      " - 0s - loss: 0.6363 - accuracy: 0.6442\n",
      "Epoch 32/35\n",
      " - 0s - loss: 0.6324 - accuracy: 0.6585\n",
      "Epoch 33/35\n",
      " - 0s - loss: 0.6340 - accuracy: 0.6483\n",
      "Epoch 34/35\n",
      " - 0s - loss: 0.6336 - accuracy: 0.6480\n",
      "Epoch 35/35\n",
      " - 0s - loss: 0.6317 - accuracy: 0.6425\n",
      "0.6117241379310345\n",
      "1    0.928966\n",
      "0    0.071034\n",
      "dtype: float64\n"
     ]
    }
   ],
   "source": [
    "model = Sequential()\n",
    "model.add(Dense(len(variable_columns), input_dim=len(variable_columns), activation='relu'))\n",
    "model.add(Dense(len(variable_columns), input_dim=len(variable_columns), activation='relu'))\n",
    "model.add(Dense(2, activation='softmax'))\n",
    "#model.compile(loss='sparse_categorical_crossentropy', optimizer='adam', metrics=['accuracy'])\n",
    "model.compile(loss='categorical_crossentropy', optimizer='adam', metrics=['accuracy'])\n",
    "dnn.run_analysis(model, x_columns=scaled_fights[variable_columns], y_column=scaled_fights.r_won, num_epochs=35)"
   ]
  },
  {
   "cell_type": "code",
   "execution_count": 132,
   "metadata": {},
   "outputs": [
    {
     "name": "stdout",
     "output_type": "stream",
     "text": [
      "Epoch 1/35\n",
      " - 0s - loss: 0.8294 - accuracy: 0.5953\n",
      "Epoch 2/35\n",
      " - 0s - loss: 0.6540 - accuracy: 0.6323\n",
      "Epoch 3/35\n",
      " - 0s - loss: 0.6457 - accuracy: 0.6412\n",
      "Epoch 4/35\n",
      " - 0s - loss: 0.6422 - accuracy: 0.6391\n",
      "Epoch 5/35\n",
      " - 0s - loss: 0.6419 - accuracy: 0.6364\n",
      "Epoch 6/35\n",
      " - 0s - loss: 0.6398 - accuracy: 0.6459\n",
      "Epoch 7/35\n",
      " - 0s - loss: 0.6393 - accuracy: 0.6483\n",
      "Epoch 8/35\n",
      " - 0s - loss: 0.6388 - accuracy: 0.6419\n",
      "Epoch 9/35\n",
      " - 0s - loss: 0.6398 - accuracy: 0.6402\n",
      "Epoch 10/35\n",
      " - 0s - loss: 0.6386 - accuracy: 0.6408\n",
      "Epoch 11/35\n",
      " - 0s - loss: 0.6403 - accuracy: 0.6402\n",
      "Epoch 12/35\n",
      " - 0s - loss: 0.6437 - accuracy: 0.6320\n",
      "Epoch 13/35\n",
      " - 0s - loss: 0.6365 - accuracy: 0.6473\n",
      "Epoch 14/35\n",
      " - 0s - loss: 0.6410 - accuracy: 0.6429\n",
      "Epoch 15/35\n",
      " - 0s - loss: 0.6395 - accuracy: 0.6449\n",
      "Epoch 16/35\n",
      " - 0s - loss: 0.6394 - accuracy: 0.6408\n",
      "Epoch 17/35\n",
      " - 0s - loss: 0.6377 - accuracy: 0.6476\n",
      "Epoch 18/35\n",
      " - 0s - loss: 0.6395 - accuracy: 0.6429\n",
      "Epoch 19/35\n",
      " - 0s - loss: 0.6404 - accuracy: 0.6476\n",
      "Epoch 20/35\n",
      " - 0s - loss: 0.6420 - accuracy: 0.6497\n",
      "Epoch 21/35\n",
      " - 0s - loss: 0.6384 - accuracy: 0.6436\n",
      "Epoch 22/35\n",
      " - 0s - loss: 0.6343 - accuracy: 0.6483\n",
      "Epoch 23/35\n",
      " - 0s - loss: 0.6384 - accuracy: 0.6388\n",
      "Epoch 24/35\n",
      " - 0s - loss: 0.6361 - accuracy: 0.6425\n",
      "Epoch 25/35\n",
      " - 0s - loss: 0.6352 - accuracy: 0.6371\n",
      "Epoch 26/35\n",
      " - 0s - loss: 0.6363 - accuracy: 0.6429\n",
      "Epoch 27/35\n",
      " - 0s - loss: 0.6339 - accuracy: 0.6466\n",
      "Epoch 28/35\n",
      " - 0s - loss: 0.6365 - accuracy: 0.6504\n",
      "Epoch 29/35\n",
      " - 0s - loss: 0.6372 - accuracy: 0.6422\n",
      "Epoch 30/35\n",
      " - 0s - loss: 0.6393 - accuracy: 0.6391\n",
      "Epoch 31/35\n",
      " - 0s - loss: 0.6350 - accuracy: 0.6402\n",
      "Epoch 32/35\n",
      " - 0s - loss: 0.6382 - accuracy: 0.6347\n",
      "Epoch 33/35\n",
      " - 0s - loss: 0.6349 - accuracy: 0.6473\n",
      "Epoch 34/35\n",
      " - 0s - loss: 0.6358 - accuracy: 0.6476\n",
      "Epoch 35/35\n",
      " - 0s - loss: 0.6353 - accuracy: 0.6483\n",
      "0.616551724137931\n",
      "1    0.936552\n",
      "0    0.063448\n",
      "dtype: float64\n"
     ]
    }
   ],
   "source": [
    "variable_columns = ['r_height', 'b_height', 'height_diff',\n",
    "                    #'r_weight', 'b_weight', 'weight_diff',\n",
    "                    'r_reach', 'b_reach', 'reach_diff',\n",
    "                    'r_age', 'b_age', 'age_diff',\n",
    "                    #'r_orthodox', 'r_southpaw', 'r_switch', 'r_open',\n",
    "       #'b_orthodox', 'b_southpaw', 'b_switch', 'b_open'\n",
    "                   ]\n",
    "model = Sequential()\n",
    "model.add(Dense(len(variable_columns), input_dim=len(variable_columns), activation='relu'))\n",
    "model.add(Dense(len(variable_columns), input_dim=len(variable_columns), activation='relu'))\n",
    "model.add(Dense(2, activation='softmax'))\n",
    "#model.compile(loss='sparse_categorical_crossentropy', optimizer='adam', metrics=['accuracy'])\n",
    "model.compile(loss='categorical_crossentropy', optimizer='adam', metrics=['accuracy'])\n",
    "dnn.run_analysis(model, x_columns=scaled_fights[variable_columns], y_column=scaled_fights.r_won, num_epochs=35)"
   ]
  },
  {
   "cell_type": "code",
   "execution_count": 133,
   "metadata": {},
   "outputs": [
    {
     "name": "stdout",
     "output_type": "stream",
     "text": [
      "Epoch 1/35\n",
      " - 1s - loss: 0.6684 - accuracy: 0.6038\n",
      "Epoch 2/35\n",
      " - 0s - loss: 0.6431 - accuracy: 0.6412\n",
      "Epoch 3/35\n",
      " - 0s - loss: 0.6392 - accuracy: 0.6412\n",
      "Epoch 4/35\n",
      " - 0s - loss: 0.6377 - accuracy: 0.6412\n",
      "Epoch 5/35\n",
      " - 0s - loss: 0.6368 - accuracy: 0.6402\n",
      "Epoch 6/35\n",
      " - 0s - loss: 0.6383 - accuracy: 0.6388\n",
      "Epoch 7/35\n",
      " - 0s - loss: 0.6366 - accuracy: 0.6344\n",
      "Epoch 8/35\n",
      " - 0s - loss: 0.6349 - accuracy: 0.6419\n",
      "Epoch 9/35\n",
      " - 0s - loss: 0.6374 - accuracy: 0.6378\n",
      "Epoch 10/35\n",
      " - 0s - loss: 0.6353 - accuracy: 0.6436\n",
      "Epoch 11/35\n",
      " - 0s - loss: 0.6347 - accuracy: 0.6422\n",
      "Epoch 12/35\n",
      " - 0s - loss: 0.6334 - accuracy: 0.6463\n",
      "Epoch 13/35\n",
      " - 0s - loss: 0.6359 - accuracy: 0.6415\n",
      "Epoch 14/35\n",
      " - 0s - loss: 0.6348 - accuracy: 0.6507\n",
      "Epoch 15/35\n",
      " - 0s - loss: 0.6358 - accuracy: 0.6351\n",
      "Epoch 16/35\n",
      " - 0s - loss: 0.6365 - accuracy: 0.6402\n",
      "Epoch 17/35\n",
      " - 0s - loss: 0.6386 - accuracy: 0.6456\n",
      "Epoch 18/35\n",
      " - 0s - loss: 0.6344 - accuracy: 0.6459\n",
      "Epoch 19/35\n",
      " - 0s - loss: 0.6334 - accuracy: 0.6442\n",
      "Epoch 20/35\n",
      " - 0s - loss: 0.6363 - accuracy: 0.6402\n",
      "Epoch 21/35\n",
      " - 0s - loss: 0.6337 - accuracy: 0.6476\n",
      "Epoch 22/35\n",
      " - 0s - loss: 0.6320 - accuracy: 0.6439\n",
      "Epoch 23/35\n",
      " - 0s - loss: 0.6353 - accuracy: 0.6449\n",
      "Epoch 24/35\n",
      " - 0s - loss: 0.6331 - accuracy: 0.6456\n",
      "Epoch 25/35\n",
      " - 0s - loss: 0.6328 - accuracy: 0.6517\n",
      "Epoch 26/35\n",
      " - 0s - loss: 0.6318 - accuracy: 0.6497\n",
      "Epoch 27/35\n",
      " - 0s - loss: 0.6334 - accuracy: 0.6497\n",
      "Epoch 28/35\n",
      " - 0s - loss: 0.6342 - accuracy: 0.6487\n",
      "Epoch 29/35\n",
      " - 0s - loss: 0.6333 - accuracy: 0.6480\n",
      "Epoch 30/35\n",
      " - 0s - loss: 0.6318 - accuracy: 0.6521\n",
      "Epoch 31/35\n",
      " - 0s - loss: 0.6323 - accuracy: 0.6497\n",
      "Epoch 32/35\n",
      " - 0s - loss: 0.6313 - accuracy: 0.6510\n",
      "Epoch 33/35\n",
      " - 0s - loss: 0.6325 - accuracy: 0.6521\n",
      "Epoch 34/35\n",
      " - 0s - loss: 0.6325 - accuracy: 0.6391\n",
      "Epoch 35/35\n",
      " - 0s - loss: 0.6330 - accuracy: 0.6459\n",
      "0.6158620689655172\n",
      "1    0.975862\n",
      "0    0.024138\n",
      "dtype: float64\n"
     ]
    }
   ],
   "source": [
    "variable_columns = ['r_height', 'b_height', 'height_diff',\n",
    "                    #'r_weight', 'b_weight', 'weight_diff',\n",
    "                    'r_reach', 'b_reach', 'reach_diff',\n",
    "                    'r_age', 'b_age', 'age_diff',\n",
    "                    #'r_orthodox', 'r_southpaw', 'r_switch', 'r_open',\n",
    "       #'b_orthodox', 'b_southpaw', 'b_switch', 'b_open'\n",
    "                   ]\n",
    "model = Sequential()\n",
    "model.add(Dense(len(variable_columns), input_dim=len(variable_columns), activation='relu'))\n",
    "model.add(Dense(len(variable_columns), input_dim=len(variable_columns), activation='relu'))\n",
    "model.add(Dense(len(variable_columns), input_dim=len(variable_columns), activation='relu'))\n",
    "model.add(Dense(len(variable_columns), input_dim=len(variable_columns), activation='relu'))\n",
    "model.add(Dense(len(variable_columns), input_dim=len(variable_columns), activation='relu'))\n",
    "model.add(Dense(len(variable_columns), input_dim=len(variable_columns), activation='relu'))\n",
    "model.add(Dense(len(variable_columns), input_dim=len(variable_columns), activation='relu'))\n",
    "model.add(Dense(len(variable_columns), input_dim=len(variable_columns), activation='relu'))\n",
    "model.add(Dense(2, activation='softmax'))\n",
    "#model.compile(loss='sparse_categorical_crossentropy', optimizer='adam', metrics=['accuracy'])\n",
    "model.compile(loss='categorical_crossentropy', optimizer='adam', metrics=['accuracy'])\n",
    "dnn.run_analysis(model, x_columns=scaled_fights[variable_columns], y_column=scaled_fights.r_won, num_epochs=35)"
   ]
  },
  {
   "cell_type": "code",
   "execution_count": 134,
   "metadata": {},
   "outputs": [
    {
     "name": "stdout",
     "output_type": "stream",
     "text": [
      "Epoch 1/35\n",
      " - 1s - loss: 0.6452 - accuracy: 0.6412\n",
      "Epoch 2/35\n",
      " - 0s - loss: 0.6407 - accuracy: 0.6412\n",
      "Epoch 3/35\n",
      " - 0s - loss: 0.6394 - accuracy: 0.6497\n",
      "Epoch 4/35\n",
      " - 0s - loss: 0.6395 - accuracy: 0.6361\n",
      "Epoch 5/35\n",
      " - 0s - loss: 0.6360 - accuracy: 0.6412\n",
      "Epoch 6/35\n",
      " - 0s - loss: 0.6379 - accuracy: 0.6429\n",
      "Epoch 7/35\n",
      " - 0s - loss: 0.6355 - accuracy: 0.6466\n",
      "Epoch 8/35\n",
      " - 0s - loss: 0.6331 - accuracy: 0.6497\n",
      "Epoch 9/35\n",
      " - 0s - loss: 0.6345 - accuracy: 0.6456\n",
      "Epoch 10/35\n",
      " - 0s - loss: 0.6345 - accuracy: 0.6456\n",
      "Epoch 11/35\n",
      " - 0s - loss: 0.6350 - accuracy: 0.6442\n",
      "Epoch 12/35\n",
      " - 0s - loss: 0.6350 - accuracy: 0.6405\n",
      "Epoch 13/35\n",
      " - 0s - loss: 0.6333 - accuracy: 0.6429\n",
      "Epoch 14/35\n",
      " - 0s - loss: 0.6332 - accuracy: 0.6483\n",
      "Epoch 15/35\n",
      " - 0s - loss: 0.6315 - accuracy: 0.6456\n",
      "Epoch 16/35\n",
      " - 0s - loss: 0.6344 - accuracy: 0.6500\n",
      "Epoch 17/35\n",
      " - 0s - loss: 0.6334 - accuracy: 0.6432\n",
      "Epoch 18/35\n",
      " - 0s - loss: 0.6326 - accuracy: 0.6504\n",
      "Epoch 19/35\n",
      " - 0s - loss: 0.6309 - accuracy: 0.6483\n",
      "Epoch 20/35\n",
      " - 0s - loss: 0.6295 - accuracy: 0.6490\n",
      "Epoch 21/35\n",
      " - 0s - loss: 0.6343 - accuracy: 0.6422\n",
      "Epoch 22/35\n",
      " - 0s - loss: 0.6305 - accuracy: 0.6490\n",
      "Epoch 23/35\n",
      " - 0s - loss: 0.6293 - accuracy: 0.6459\n",
      "Epoch 24/35\n",
      " - 0s - loss: 0.6292 - accuracy: 0.6521\n",
      "Epoch 25/35\n",
      " - 0s - loss: 0.6304 - accuracy: 0.6487\n",
      "Epoch 26/35\n",
      " - 0s - loss: 0.6301 - accuracy: 0.6504\n",
      "Epoch 27/35\n",
      " - 0s - loss: 0.6282 - accuracy: 0.6538\n",
      "Epoch 28/35\n",
      " - 0s - loss: 0.6282 - accuracy: 0.6490\n",
      "Epoch 29/35\n",
      " - 0s - loss: 0.6284 - accuracy: 0.6507\n",
      "Epoch 30/35\n",
      " - 0s - loss: 0.6284 - accuracy: 0.6534\n",
      "Epoch 31/35\n",
      " - 0s - loss: 0.6283 - accuracy: 0.6500\n",
      "Epoch 32/35\n",
      " - 0s - loss: 0.6274 - accuracy: 0.6442\n",
      "Epoch 33/35\n",
      " - 0s - loss: 0.6289 - accuracy: 0.6527\n",
      "Epoch 34/35\n",
      " - 0s - loss: 0.6299 - accuracy: 0.6524\n",
      "Epoch 35/35\n",
      " - 0s - loss: 0.6255 - accuracy: 0.6521\n",
      "0.6262068965517241\n",
      "1    0.857931\n",
      "0    0.142069\n",
      "dtype: float64\n"
     ]
    }
   ],
   "source": [
    "variable_columns = ['r_height', 'b_height', 'height_diff',\n",
    "                    'r_weight', 'b_weight', 'weight_diff',\n",
    "                    'r_reach', 'b_reach', 'reach_diff',\n",
    "                    'r_age', 'b_age', 'age_diff',\n",
    "                    'r_orthodox', 'r_southpaw', 'r_switch', 'r_open', \n",
    "                    'b_orthodox', 'b_southpaw', 'b_switch', 'b_open'\n",
    "                   ]\n",
    "model = Sequential()\n",
    "model.add(Dense(len(variable_columns), input_dim=len(variable_columns), activation='relu'))\n",
    "model.add(Dense(len(variable_columns), input_dim=len(variable_columns), activation='relu'))\n",
    "model.add(Dense(len(variable_columns), input_dim=len(variable_columns), activation='relu'))\n",
    "model.add(Dense(len(variable_columns), input_dim=len(variable_columns), activation='relu'))\n",
    "model.add(Dense(len(variable_columns), input_dim=len(variable_columns), activation='relu'))\n",
    "model.add(Dense(len(variable_columns), input_dim=len(variable_columns), activation='relu'))\n",
    "model.add(Dense(len(variable_columns), input_dim=len(variable_columns), activation='relu'))\n",
    "model.add(Dense(len(variable_columns), input_dim=len(variable_columns), activation='relu'))\n",
    "model.add(Dense(2, activation='softmax'))\n",
    "#model.compile(loss='sparse_categorical_crossentropy', optimizer='adam', metrics=['accuracy'])\n",
    "model.compile(loss='categorical_crossentropy', optimizer='adam', metrics=['accuracy'])\n",
    "dnn.run_analysis(model, x_columns=scaled_fights[variable_columns], y_column=scaled_fights.r_won, num_epochs=35)"
   ]
  },
  {
   "cell_type": "code",
   "execution_count": null,
   "metadata": {},
   "outputs": [],
   "source": []
  },
  {
   "cell_type": "markdown",
   "metadata": {},
   "source": [
    "So it does not do a good job of predicting based on physical characteristics.  Maybe I can find a way to use their record of past fights."
   ]
  },
  {
   "cell_type": "code",
   "execution_count": 135,
   "metadata": {},
   "outputs": [],
   "source": [
    "def get_fights_for_fighter(fighter_name, fights_df = fights):\n",
    "    return fights_df[(fights_df.r_fighter == fighter_name) | (fights_df.b_fighter == fighter_name)]"
   ]
  },
  {
   "cell_type": "code",
   "execution_count": 136,
   "metadata": {},
   "outputs": [],
   "source": [
    "class RecordSummary:\n",
    "    def __init__(self, name, wins, losses, ties):\n",
    "        self.name = name\n",
    "        self.wins = wins\n",
    "        self.losses = losses\n",
    "        self.ties = ties\n",
    "        \n",
    "    def __str__(self):\n",
    "        return '{ name: ' + self.name + ', ' + str(self.wins) + ', ' + str(self.losses) + ', ' + str(self.ties) + ', ' + str(self.wins / (self.wins + self.losses)) + '}'\n",
    "    \n",
    "    def __repr__(self):\n",
    "        return self.__str__()\n",
    "    \n",
    "    def __lt__(self, other):\n",
    "        return (self.wins < other.wins)"
   ]
  },
  {
   "cell_type": "code",
   "execution_count": 137,
   "metadata": {},
   "outputs": [],
   "source": [
    "def get_record_summary(fighter_name, fights_df = fights):\n",
    "    #record = get_record(fighter_name, fights_df)\n",
    "    summary = {}\n",
    "    summary['wins'] = (fights_df['winner'] == fighter_name).sum()\n",
    "    summary['losses'] = (fights_df['winner'] == fighter_name).sum()\n",
    "    summary['losses'] = (fights_df['loser'] == fighter_name).sum()\n",
    "    summary['draws'] = (((fights_df['r_fighter'] == fighter_name) | (fights_df['b_fighter'] == fighter_name) ) & (fights_df['winner'] == 'None')).sum()\n",
    "    summary['win loss ratio'] = summary ['wins'] / (summary['wins'] + summary['losses'])\n",
    "    \n",
    "    return summary"
   ]
  },
  {
   "cell_type": "code",
   "execution_count": 138,
   "metadata": {},
   "outputs": [
    {
     "data": {
      "text/plain": [
       "1423"
      ]
     },
     "execution_count": 138,
     "metadata": {},
     "output_type": "execute_result"
    }
   ],
   "source": [
    "all_fighters = set(fights.r_fighter).union(set(fights.b_fighter))\n",
    "len(all_fighters)"
   ]
  },
  {
   "cell_type": "code",
   "execution_count": 139,
   "metadata": {},
   "outputs": [
    {
     "name": "stderr",
     "output_type": "stream",
     "text": [
      "C:\\Users\\paulj_1e1uzlz\\anaconda3\\envs\\tf-gpu\\lib\\site-packages\\ipykernel_launcher.py:8: RuntimeWarning: invalid value encountered in longlong_scalars\n",
      "  \n"
     ]
    },
    {
     "data": {
      "text/plain": [
       "[{ name: Donald Cerrone, 23, 9, 0, 0.71875},\n",
       " { name: Demian Maia, 20, 9, 0, 0.6896551724137931},\n",
       " { name: Georges St-Pierre, 20, 2, 0, 0.9090909090909091},\n",
       " { name: Michael Bisping, 19, 9, 0, 0.6785714285714286},\n",
       " { name: Rafael Dos Anjos, 18, 9, 0, 0.6666666666666666},\n",
       " { name: Jim Miller, 17, 12, 1, 0.5862068965517241},\n",
       " { name: Jon Jones, 17, 1, 1, 0.9444444444444444},\n",
       " { name: Anderson Silva, 17, 6, 1, 0.7391304347826086},\n",
       " { name: Diego Sanchez, 17, 11, 0, 0.6071428571428571},\n",
       " { name: Dustin Poirier, 17, 4, 1, 0.8095238095238095},\n",
       " { name: Frankie Edgar, 16, 6, 1, 0.7272727272727273},\n",
       " { name: Max Holloway, 16, 4, 0, 0.8},\n",
       " { name: Ryan Bader, 15, 5, 0, 0.75},\n",
       " { name: Demetrious Johnson, 15, 2, 1, 0.8823529411764706},\n",
       " { name: Junior Dos Santos, 15, 4, 0, 0.7894736842105263},\n",
       " { name: Tony Ferguson, 15, 1, 0, 0.9375},\n",
       " { name: Lyoto Machida, 15, 8, 0, 0.6521739130434783},\n",
       " { name: Gleison Tibau, 15, 12, 0, 0.5555555555555556},\n",
       " { name: Nate Diaz, 14, 9, 0, 0.6086956521739131},\n",
       " { name: Jon Fitch, 14, 3, 1, 0.8235294117647058}]"
      ]
     },
     "execution_count": 139,
     "metadata": {},
     "output_type": "execute_result"
    }
   ],
   "source": [
    "all_summaries = []\n",
    "for fighter in all_fighters:\n",
    "    #print(fighter, ':  ', get_record_summary(fighter))\n",
    "    m = get_record_summary(fighter)\n",
    "    rs = RecordSummary(fighter, m['wins'], m['losses'], m['draws'])\n",
    "    all_summaries.append(rs)\n",
    "\n",
    "all_summaries.sort()\n",
    "all_summaries = all_summaries[::-1]\n",
    "all_summaries[:20]"
   ]
  },
  {
   "cell_type": "markdown",
   "metadata": {},
   "source": [
    "So for fights and scaled_fights, add a column for x_previous_wins, x_previous_losses, x_previous_ties."
   ]
  },
  {
   "cell_type": "markdown",
   "metadata": {},
   "source": [
    "We need to add the date of the fight back in."
   ]
  },
  {
   "cell_type": "code",
   "execution_count": null,
   "metadata": {},
   "outputs": [],
   "source": [
    "'date' in fights.columns"
   ]
  },
  {
   "cell_type": "code",
   "execution_count": null,
   "metadata": {},
   "outputs": [],
   "source": []
  }
 ],
 "metadata": {
  "kernelspec": {
   "display_name": "Python 3",
   "language": "python",
   "name": "python3"
  },
  "language_info": {
   "codemirror_mode": {
    "name": "ipython",
    "version": 3
   },
   "file_extension": ".py",
   "mimetype": "text/x-python",
   "name": "python",
   "nbconvert_exporter": "python",
   "pygments_lexer": "ipython3",
   "version": "3.7.9"
  }
 },
 "nbformat": 4,
 "nbformat_minor": 4
}
