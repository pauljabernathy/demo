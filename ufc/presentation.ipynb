{
 "cells": [
  {
   "cell_type": "markdown",
   "metadata": {},
   "source": [
    "## Summary"
   ]
  },
  {
   "cell_type": "markdown",
   "metadata": {},
   "source": [
    "In this report, I use Scikit-learn, Keras and Seaborn to analyze historical data from fights in the UFC (Ultimate Fight Club), in order to look at the effectiveness of different techniques and train machine learning algorithms to predict the winner of a fight.\n",
    "\n",
    "I used two data sets,  <a href = \"https://www.kaggle.com/rajeevw/ufcdata?select=raw_total_fight_data.csv\">Set A</a> and <a href=\"https://www.kaggle.com/mdabbert/ultimate-ufc-dataset/data?select=ufc-master.csv\">Set B</a>, from Kaggle.  I primarily used Set A.  B is used for a portion of the exploratory analysis.\n",
    "\n",
    "Data for each fight includes the fighters's names, who won, the number of strikes attempted and succeeded, how the match was decided, and many other data points. A separate document contains individual data for each fighter, such as age, height, weight and arm reach.  In each fight, the two fighters are classified beforehand into either the \"Red\" corner or the \"Blue\" corner, with the Red fighter being the one determined more likely to win.  \n",
    "\n",
    "The algorithms attempt to determine if Red or Blue won the match.\n"
   ]
  },
  {
   "cell_type": "markdown",
   "metadata": {},
   "source": [
    "<h2>Motivation and Questions</h2>\n",
    "While I do not personally watch the UFC or any other MMA (Mixed Martial Arts), I have have taken a couple of different martial arts (Wing Chun and Brazillian Jiu Jitsu) and was interested in exploring what works and what doesn't work.  So I was interested to see what could do with this data.  Plus, it is an alternative to analyzing flower pedal width, email spam and Titanic mortality.\n",
    "\n",
    "\n",
    "As far as fighting, I had some questions like\n",
    "\n",
    "Which has been more effective in the UFC, striking or grappling?  (See the appendix for more explanation).  How important is size and height?  (Interesting to someone small like I am.)\n",
    "\n",
    "For each fight, if you have stats about how many punches and kicks have landed, how accurately can you predict the winner?\n",
    "\n",
    "Before the fight, how accurately can you predict the winner based off their current record and personal attributes like weight and age?\n"
   ]
  },
  {
   "cell_type": "markdown",
   "metadata": {},
   "source": [
    "So I came up with these <b>three main questions</b>:\n",
    "    \n",
    "1.  Which is more effective, striking or grappling?  \n",
    "    Within striking, it would even be nice if we could compare punching vs kicking vs knees vs elbows.\n",
    "    Within grappling, it would be nice if we could compare chokes vs joint locks (arm bars, heel locks, etc.).\n",
    "\n",
    "2.  Given the data for each fight, can I predict the winner (R vs B)?  \n",
    "Practically, this won't give us much useful information because the fight has already happened.  If you are watching a fight and keeping track of all the stats, it could help you bet on who will eventually win.  Otherwise, this is mainly an exercise in using maching learning tools.\n",
    "\n",
    "3.  Given the data for each fighter (body type, record, etc.), can I predict the winner before the fight happens?"
   ]
  },
  {
   "cell_type": "markdown",
   "metadata": {},
   "source": [
    "The three questions are in order of increasing complexity.\n",
    "\n",
    "For 1), we will be using primarily exploratory analysis - graphs, histograms, etc.  Nothing complicated.\n",
    "For 2), we will attempt it using both logistic regression and neural networks.\n",
    "For 3), I will try logistic regression and neural networks as in 2).  This will aggregate more than one data set."
   ]
  },
  {
   "cell_type": "markdown",
   "metadata": {},
   "source": []
  },
  {
   "cell_type": "markdown",
   "metadata": {},
   "source": [
    "<h2>Outline</h2>"
   ]
  },
  {
   "cell_type": "markdown",
   "metadata": {},
   "source": [
    "Walkthrough of <a href=\"munging_presentation.ipynb\">munging and cleansing</a> the data."
   ]
  },
  {
   "cell_type": "markdown",
   "metadata": {},
   "source": [
    "Some <a href=\"exploratory_presentation.ipynb\">explortatory analysis</a>"
   ]
  },
  {
   "cell_type": "markdown",
   "metadata": {},
   "source": [
    "Predicting the winner of a match, using statistics of just that match, using <a href=\"logistic.ipynb\">logistic regression</a> and <a href=\"RB_DNN.ipynb\">neural networks</a>.\n",
    "\n",
    "Using <a href=\"RB_DNN_gpu.ipynb\">neural networks</a> by calling the code in PyCharm."
   ]
  },
  {
   "cell_type": "markdown",
   "metadata": {},
   "source": [
    "<h2>Methodology and Tools Used</h2>\n",
    "The notebooks are ipynb files, done using Jupyter Notebooks and Jupyter Labs.  Several external libraries are used, including Scikit-learn and Keras with Tensoflow as the backend.  Tensorflow is not used directly.\n",
    "<br><br>\n",
    "In many cases I import code that I wrote in an IDE (PyCharm).  That code is in this same directory also and you can view it if you like.  As a software developer, I prefer to use an IDE and unit tests as much as possible for any large or complex pieces of code.  Notebooks are best for communicating with people so I final presentations, anything involving graphs, or for tinkering where I want to keep the results.\n",
    "<br><br>\n",
    "Much of the data processing is done in Python modules, specifically the cleanser.py and fighter_cleanser.py modules."
   ]
  },
  {
   "cell_type": "markdown",
   "metadata": {},
   "source": [
    "<h2>Results and Conclusions</h2>"
   ]
  },
  {
   "cell_type": "markdown",
   "metadata": {},
   "source": [
    "Question 1:\n",
    "\n",
    "Looking back, asking \"What is more effective\" is a little nebulous.  For example, even if a fight is finished with a choke (a grappling technique), it is still possible that punches landed earlier on weakened the eventual loser, or mayber fighter A got fighter B into a bad position through grappling and finished them off with punches.  Having said that, I did find that about 80% of fights are classified as having been won from strikes, and only 20% from grappling techniques.\n",
    "\n",
    "I was not able to predict the winner based off size or height, but that might be because the UFC uses weight classes so there are no larger differences in size.\n",
    "\n",
    "Questionm 2:\n",
    "\n",
    "The Logistic Regression model achieved accuracy of around 82%.  The Neural Network model was slightly better at around 84%, meaning once you know about how many punches, kicks, throws, guard passes etc. have happened (but not the final decision), you can predict the winner with about 84% accuracy.\n",
    "\n",
    "\n",
    "Question 3:\n",
    "\n",
    "Each of the three algorithm training pages has their own set of conclusions.  The Logistic Regression and Neural Network algorithms were able to predict the winner of a fight at most around 60% of the time.  This is better than random guessing, but not as good as the human fight organizers.  Using the record and fighter attributes generally did worse than Logistic Regression and Neural Networks and little better than random guessins. \n",
    "\n",
    "There is enough randomness in fighting that no algorithm can hope to achieve 100% accuracy, but I was hoping to be able to beat the human fight organizers.\n",
    "\n",
    "What might account for my models not being able to beat the humans?  Here are two possibilities I have thought of:\n",
    "\n",
    "- My analysis may have been faulty, either through poor data preparation or poor model training or use of an incorrect model.  This is more likely with Neural Networks, which require much more configuration.\n",
    "\n",
    "- The information to beat the humans simply might not exist in the dataset.  Keep in mind, the humans have all this information about the fighters and more, and are able to watch them train and perform and learn things about their physical abilities and fighting styles.  These algorithms can't do that."
   ]
  },
  {
   "cell_type": "markdown",
   "metadata": {},
   "source": [
    "<h2>Appendix</h2>"
   ]
  },
  {
   "cell_type": "markdown",
   "metadata": {},
   "source": [
    "Some terms, if you are not familiar with it:"
   ]
  },
  {
   "cell_type": "markdown",
   "metadata": {},
   "source": [
    "MMA - Mixed Martial Arts.  This is a sport (or whatever you call it) involving fighting in a ring, simmilar to a boxing ring.  There might be a cage instead of ropes, but the concept is similar.  The fighters can use punches, as in boxing, but can also use kicks, elbows, knees, shins, etc.  There are some rules, but people can still become injured.\n",
    "The \"mixed\" comes from the fact that there is no contraint on which \"style\" you use (Karate, Tae Kwon Do, Judo, etc.).  Modern UFC fighters blend techniques that were traditionally part of several different martial arts."
   ]
  },
  {
   "cell_type": "markdown",
   "metadata": {},
   "source": [
    "UFC - Ultimate Fight Club.  The most prominent MMA league, but not the only one."
   ]
  },
  {
   "cell_type": "markdown",
   "metadata": {},
   "source": [
    "Fighting techniques categorization.\n",
    "\n",
    "If you know nothing about fighting, I break it down into two main categories:  \"striking\" and \"grappling.\"  \n",
    "\n",
    "Striking\n",
    "Striking, as it sounds, involves hitting the opponent with part of your body.  Often, people who are untrained use their fists, but it could also be with their feet, knees, elbows, or even forehead (you can judge for yourself if you think headbutting is a good strategy).  This is your stereotypical style from a Kung Fu or Karate Kid movie.\n",
    "\n",
    "There are many fighting styles that use striking (Karate, Tae Kwon Do, most forms of Chinese Kung Fu, Western Boxing), but in the UFC many techniques seem to come from Muay Thai, or Thai Kickboxing.\n",
    "\n",
    "Grappling\n",
    "Another way to fight is with grappling.  Here, you try to control your opponent without strikes.  You might take them to the ground and hold them down.  You might do a joint lock where you twist or pull an appendage such that you are close to damaging it and could easily injure with a little more force.  To avoid injury, the opponent must \"tap\", admitting defeat.  Another way to win in grappling is with chokes, where you choke the person and they cannot escape and must \"tap\" before passing out.  \n",
    "\n",
    "Wrestling falls into this category, but most grappling techniques seen in the UFC will be from Jiu Jitsu, usually the more modern form call Brazillian Jiu Jitsu.\n",
    "\n",
    "Any fight that is labelled in having ended in a \"submission\" falls into the grappling category, meaning it has ended with a joint lock or a choke.\n",
    "\n",
    "Throwing\n",
    "A similar way of fighting is with throws, common in Judo and present (but less common) in Jiu Jitsu.  At the moment, I am not considering them in this analysis because there are not many stats on Judo type throws in the data set.  This is not a commentary on the effectiveness of Judo for self defense."
   ]
  },
  {
   "cell_type": "code",
   "execution_count": null,
   "metadata": {},
   "outputs": [],
   "source": []
  }
 ],
 "metadata": {
  "kernelspec": {
   "display_name": "Python 3",
   "language": "python",
   "name": "python3"
  },
  "language_info": {
   "codemirror_mode": {
    "name": "ipython",
    "version": 3
   },
   "file_extension": ".py",
   "mimetype": "text/x-python",
   "name": "python",
   "nbconvert_exporter": "python",
   "pygments_lexer": "ipython3",
   "version": "3.7.9"
  }
 },
 "nbformat": 4,
 "nbformat_minor": 4
}
