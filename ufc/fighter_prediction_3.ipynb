{
 "cells": [
  {
   "cell_type": "code",
   "execution_count": 1,
   "metadata": {},
   "outputs": [],
   "source": [
    "import pandas as pd\n",
    "import numpy as np\n",
    "import matplotlib.pyplot as plt\n",
    "import seaborn as sns"
   ]
  },
  {
   "cell_type": "code",
   "execution_count": 2,
   "metadata": {},
   "outputs": [],
   "source": [
    "from sklearn.model_selection import train_test_split\n",
    "from sklearn.metrics import accuracy_score, confusion_matrix, classification_report"
   ]
  },
  {
   "cell_type": "code",
   "execution_count": 3,
   "metadata": {},
   "outputs": [],
   "source": [
    "import fighters_cleanser\n",
    "import constants"
   ]
  },
  {
   "cell_type": "code",
   "execution_count": 4,
   "metadata": {},
   "outputs": [
    {
     "data": {
      "text/plain": [
       "(4393, 136)"
      ]
     },
     "execution_count": 4,
     "metadata": {},
     "output_type": "execute_result"
    }
   ],
   "source": [
    "fights_0 = fighters_cleanser.load_cleanse_and_merge(constants.DEFAULT_FIGHTERS_FILE_NAME, constants.DEFAULT_FIGHTS_FILE_NAME)\n",
    "fights_0.shape"
   ]
  },
  {
   "cell_type": "code",
   "execution_count": 5,
   "metadata": {},
   "outputs": [
    {
     "data": {
      "text/html": [
       "<div>\n",
       "<style scoped>\n",
       "    .dataframe tbody tr th:only-of-type {\n",
       "        vertical-align: middle;\n",
       "    }\n",
       "\n",
       "    .dataframe tbody tr th {\n",
       "        vertical-align: top;\n",
       "    }\n",
       "\n",
       "    .dataframe thead th {\n",
       "        text-align: right;\n",
       "    }\n",
       "</style>\n",
       "<table border=\"1\" class=\"dataframe\">\n",
       "  <thead>\n",
       "    <tr style=\"text-align: right;\">\n",
       "      <th></th>\n",
       "      <th>r_fighter</th>\n",
       "      <th>b_fighter</th>\n",
       "      <th>r_kd</th>\n",
       "      <th>b_kd</th>\n",
       "      <th>r_sig_str</th>\n",
       "      <th>b_sig_str</th>\n",
       "      <th>r_sig_str_pct</th>\n",
       "      <th>b_sig_str_pct</th>\n",
       "      <th>r_total_str</th>\n",
       "      <th>b_total_str</th>\n",
       "      <th>...</th>\n",
       "      <th>b_weight</th>\n",
       "      <th>b_reach</th>\n",
       "      <th>b_stance</th>\n",
       "      <th>b_dob</th>\n",
       "      <th>r_age</th>\n",
       "      <th>b_age</th>\n",
       "      <th>age_diff</th>\n",
       "      <th>height_diff</th>\n",
       "      <th>weight_diff</th>\n",
       "      <th>reach_diff</th>\n",
       "    </tr>\n",
       "  </thead>\n",
       "  <tbody>\n",
       "    <tr>\n",
       "      <th>0</th>\n",
       "      <td>Henry Cejudo</td>\n",
       "      <td>Marlon Moraes</td>\n",
       "      <td>0</td>\n",
       "      <td>0</td>\n",
       "      <td>90 of 171</td>\n",
       "      <td>57 of 119</td>\n",
       "      <td>52</td>\n",
       "      <td>47</td>\n",
       "      <td>99 of 182</td>\n",
       "      <td>59 of 121</td>\n",
       "      <td>...</td>\n",
       "      <td>135</td>\n",
       "      <td>67</td>\n",
       "      <td>Orthodox</td>\n",
       "      <td>1988-04-26</td>\n",
       "      <td>32.347945</td>\n",
       "      <td>31.136986</td>\n",
       "      <td>1.210959</td>\n",
       "      <td>-2</td>\n",
       "      <td>0</td>\n",
       "      <td>-3</td>\n",
       "    </tr>\n",
       "    <tr>\n",
       "      <th>1</th>\n",
       "      <td>Jimmie Rivera</td>\n",
       "      <td>Marlon Moraes</td>\n",
       "      <td>0</td>\n",
       "      <td>1</td>\n",
       "      <td>0 of 3</td>\n",
       "      <td>7 of 9</td>\n",
       "      <td>0</td>\n",
       "      <td>77</td>\n",
       "      <td>0 of 3</td>\n",
       "      <td>7 of 9</td>\n",
       "      <td>...</td>\n",
       "      <td>135</td>\n",
       "      <td>67</td>\n",
       "      <td>Orthodox</td>\n",
       "      <td>1988-04-26</td>\n",
       "      <td>28.942466</td>\n",
       "      <td>30.117808</td>\n",
       "      <td>-1.175342</td>\n",
       "      <td>-2</td>\n",
       "      <td>0</td>\n",
       "      <td>1</td>\n",
       "    </tr>\n",
       "    <tr>\n",
       "      <th>2</th>\n",
       "      <td>John Dodson</td>\n",
       "      <td>Marlon Moraes</td>\n",
       "      <td>1</td>\n",
       "      <td>0</td>\n",
       "      <td>43 of 105</td>\n",
       "      <td>45 of 131</td>\n",
       "      <td>40</td>\n",
       "      <td>34</td>\n",
       "      <td>47 of 109</td>\n",
       "      <td>45 of 131</td>\n",
       "      <td>...</td>\n",
       "      <td>135</td>\n",
       "      <td>67</td>\n",
       "      <td>Orthodox</td>\n",
       "      <td>1988-04-26</td>\n",
       "      <td>33.147945</td>\n",
       "      <td>29.564384</td>\n",
       "      <td>3.583562</td>\n",
       "      <td>-3</td>\n",
       "      <td>0</td>\n",
       "      <td>-1</td>\n",
       "    </tr>\n",
       "    <tr>\n",
       "      <th>3</th>\n",
       "      <td>Raphael Assuncao</td>\n",
       "      <td>Marlon Moraes</td>\n",
       "      <td>0</td>\n",
       "      <td>1</td>\n",
       "      <td>2 of 12</td>\n",
       "      <td>10 of 23</td>\n",
       "      <td>16</td>\n",
       "      <td>43</td>\n",
       "      <td>3 of 13</td>\n",
       "      <td>12 of 25</td>\n",
       "      <td>...</td>\n",
       "      <td>135</td>\n",
       "      <td>67</td>\n",
       "      <td>Orthodox</td>\n",
       "      <td>1988-04-26</td>\n",
       "      <td>36.567123</td>\n",
       "      <td>30.791781</td>\n",
       "      <td>5.775342</td>\n",
       "      <td>-1</td>\n",
       "      <td>0</td>\n",
       "      <td>-1</td>\n",
       "    </tr>\n",
       "    <tr>\n",
       "      <th>4</th>\n",
       "      <td>Raphael Assuncao</td>\n",
       "      <td>Marlon Moraes</td>\n",
       "      <td>0</td>\n",
       "      <td>0</td>\n",
       "      <td>43 of 134</td>\n",
       "      <td>44 of 150</td>\n",
       "      <td>32</td>\n",
       "      <td>29</td>\n",
       "      <td>43 of 134</td>\n",
       "      <td>44 of 150</td>\n",
       "      <td>...</td>\n",
       "      <td>135</td>\n",
       "      <td>67</td>\n",
       "      <td>Orthodox</td>\n",
       "      <td>1988-04-26</td>\n",
       "      <td>34.898630</td>\n",
       "      <td>29.123288</td>\n",
       "      <td>5.775342</td>\n",
       "      <td>-1</td>\n",
       "      <td>0</td>\n",
       "      <td>-1</td>\n",
       "    </tr>\n",
       "  </tbody>\n",
       "</table>\n",
       "<p>5 rows × 136 columns</p>\n",
       "</div>"
      ],
      "text/plain": [
       "          r_fighter      b_fighter  r_kd  b_kd  r_sig_str  b_sig_str  \\\n",
       "0      Henry Cejudo  Marlon Moraes     0     0  90 of 171  57 of 119   \n",
       "1     Jimmie Rivera  Marlon Moraes     0     1     0 of 3     7 of 9   \n",
       "2       John Dodson  Marlon Moraes     1     0  43 of 105  45 of 131   \n",
       "3  Raphael Assuncao  Marlon Moraes     0     1    2 of 12   10 of 23   \n",
       "4  Raphael Assuncao  Marlon Moraes     0     0  43 of 134  44 of 150   \n",
       "\n",
       "   r_sig_str_pct  b_sig_str_pct r_total_str b_total_str  ... b_weight b_reach  \\\n",
       "0             52             47   99 of 182   59 of 121  ...      135      67   \n",
       "1              0             77      0 of 3      7 of 9  ...      135      67   \n",
       "2             40             34   47 of 109   45 of 131  ...      135      67   \n",
       "3             16             43     3 of 13    12 of 25  ...      135      67   \n",
       "4             32             29   43 of 134   44 of 150  ...      135      67   \n",
       "\n",
       "   b_stance      b_dob      r_age      b_age  age_diff  height_diff  \\\n",
       "0  Orthodox 1988-04-26  32.347945  31.136986  1.210959           -2   \n",
       "1  Orthodox 1988-04-26  28.942466  30.117808 -1.175342           -2   \n",
       "2  Orthodox 1988-04-26  33.147945  29.564384  3.583562           -3   \n",
       "3  Orthodox 1988-04-26  36.567123  30.791781  5.775342           -1   \n",
       "4  Orthodox 1988-04-26  34.898630  29.123288  5.775342           -1   \n",
       "\n",
       "   weight_diff  reach_diff  \n",
       "0            0          -3  \n",
       "1            0           1  \n",
       "2            0          -1  \n",
       "3            0          -1  \n",
       "4            0          -1  \n",
       "\n",
       "[5 rows x 136 columns]"
      ]
     },
     "execution_count": 5,
     "metadata": {},
     "output_type": "execute_result"
    }
   ],
   "source": [
    "fights_0.head()"
   ]
  },
  {
   "cell_type": "code",
   "execution_count": 6,
   "metadata": {},
   "outputs": [],
   "source": [
    "#fights_0.columns"
   ]
  },
  {
   "cell_type": "code",
   "execution_count": 7,
   "metadata": {},
   "outputs": [],
   "source": [
    "#fights = fights_0.copy()"
   ]
  },
  {
   "cell_type": "code",
   "execution_count": 8,
   "metadata": {},
   "outputs": [],
   "source": [
    "#fights = fighters_cleanser.compute_prior_records(fights)"
   ]
  },
  {
   "cell_type": "code",
   "execution_count": 9,
   "metadata": {},
   "outputs": [],
   "source": [
    "#fights.head()"
   ]
  },
  {
   "cell_type": "code",
   "execution_count": 10,
   "metadata": {},
   "outputs": [],
   "source": [
    "#fights = fighters_cleanser.add_fictitious_records(fights)"
   ]
  },
  {
   "cell_type": "code",
   "execution_count": 11,
   "metadata": {},
   "outputs": [],
   "source": [
    "#fights.head()"
   ]
  },
  {
   "cell_type": "code",
   "execution_count": 12,
   "metadata": {},
   "outputs": [
    {
     "data": {
      "text/plain": [
       "\"columns_to_use = ['r_fighter','b_fighter', 'date', 'loser', 'winner', 'r_prior_wins', 'r_prior_losses', 'r_prior_ties', 'b_prior_wins', 'b_prior_losses', 'b_prior_ties', 'r_b_winner']\\nfights = fights[columns_to_use]\\nfights.head()\""
      ]
     },
     "execution_count": 12,
     "metadata": {},
     "output_type": "execute_result"
    }
   ],
   "source": [
    "'''columns_to_use = ['r_fighter','b_fighter', 'date', 'loser', 'winner', 'r_prior_wins', 'r_prior_losses', 'r_prior_ties', 'b_prior_wins', 'b_prior_losses', 'b_prior_ties', 'r_b_winner']\n",
    "fights = fights[columns_to_use]\n",
    "fights.head()'''"
   ]
  },
  {
   "cell_type": "code",
   "execution_count": 13,
   "metadata": {},
   "outputs": [],
   "source": [
    "#fights.head()"
   ]
  },
  {
   "cell_type": "code",
   "execution_count": 14,
   "metadata": {},
   "outputs": [],
   "source": [
    "#fights = fighters_cleanser.find_win_loss_tie_pct(fights)"
   ]
  },
  {
   "cell_type": "code",
   "execution_count": 15,
   "metadata": {},
   "outputs": [],
   "source": [
    "#fights.head()"
   ]
  },
  {
   "cell_type": "code",
   "execution_count": 16,
   "metadata": {},
   "outputs": [
    {
     "data": {
      "text/plain": [
       "\"def recompute_records(fights_0, pretend_wins, pretend_losses, pretend_ties):\\n    fights = fights_0.copy()\\n    fights = fighters_cleanser.compute_prior_records(fights)\\n    fights = fighters_cleanser.add_fictitious_records(fights, pretend_wins, pretend_losses, pretend_ties)\\n    fights = fighters_cleanser.find_win_loss_tie_pct(fights)\\n    columns_to_use = ['r_fighter','b_fighter', 'date', 'loser', 'winner', 'r_prior_wins', 'r_prior_losses', 'r_prior_ties', 'b_prior_wins', 'b_prior_losses', 'b_prior_ties', 'r_b_winner']\\n    fights = fights[columns_to_use]\\n    #fights['r_wldiff_pct'] = fights.r_win_pct - fights.r_loss_pct\\n    #fights['b_wldiff_pct'] = fights.b_win_pct - fights.b_loss_pct\\n    return fights\\n    \""
      ]
     },
     "execution_count": 16,
     "metadata": {},
     "output_type": "execute_result"
    }
   ],
   "source": [
    "'''def recompute_records(fights_0, pretend_wins, pretend_losses, pretend_ties):\n",
    "    fights = fights_0.copy()\n",
    "    fights = fighters_cleanser.compute_prior_records(fights)\n",
    "    fights = fighters_cleanser.add_fictitious_records(fights, pretend_wins, pretend_losses, pretend_ties)\n",
    "    fights = fighters_cleanser.find_win_loss_tie_pct(fights)\n",
    "    columns_to_use = ['r_fighter','b_fighter', 'date', 'loser', 'winner', 'r_prior_wins', 'r_prior_losses', 'r_prior_ties', 'b_prior_wins', 'b_prior_losses', 'b_prior_ties', 'r_b_winner']\n",
    "    fights = fights[columns_to_use]\n",
    "    #fights['r_wldiff_pct'] = fights.r_win_pct - fights.r_loss_pct\n",
    "    #fights['b_wldiff_pct'] = fights.b_win_pct - fights.b_loss_pct\n",
    "    return fights\n",
    "    '''"
   ]
  },
  {
   "cell_type": "code",
   "execution_count": 17,
   "metadata": {},
   "outputs": [],
   "source": [
    "#fights2 = recompute_records(fights, 5, 5, 1)\n",
    "#fights2.head()"
   ]
  },
  {
   "cell_type": "code",
   "execution_count": 18,
   "metadata": {},
   "outputs": [],
   "source": [
    "def split_fights_df(fights):\n",
    "    x_train, x_test, y_train, y_test = train_test_split(fights[['r_fighter', 'b_fighter', 'date', 'loser', 'winner', 'r_prior_wins',\n",
    "       'r_prior_losses', 'r_prior_ties', 'b_prior_wins', 'b_prior_losses',\n",
    "       'b_prior_ties', 'r_total_fights', 'b_total_fights',\n",
    "       'r_win_pct', 'r_loss_pct', 'r_tie_pct', 'b_win_pct', 'b_loss_pct',\n",
    "       'b_tie_pct', 'r_wldiff_pct', 'b_wldiff_pct']], fights['r_b_winner'], test_size=.33, random_state=87)\n",
    "    x_train['guess'] = x_train.apply(lambda row: 'r' if row.r_wldiff_pct > row.b_wldiff_pct else 'b', axis=1)\n",
    "    return x_train, x_test, y_train, y_test\n",
    "    \n",
    "    "
   ]
  },
  {
   "cell_type": "code",
   "execution_count": 19,
   "metadata": {},
   "outputs": [],
   "source": [
    "#x_train, x_test, y_train, y_test = split_fights_df(fights)"
   ]
  },
  {
   "cell_type": "code",
   "execution_count": 20,
   "metadata": {},
   "outputs": [],
   "source": [
    "#x_train.shape, x_test.shape, y_train.shape, y_test.shape"
   ]
  },
  {
   "cell_type": "code",
   "execution_count": 21,
   "metadata": {},
   "outputs": [],
   "source": [
    "#x_train.head()"
   ]
  },
  {
   "cell_type": "code",
   "execution_count": 22,
   "metadata": {},
   "outputs": [],
   "source": [
    "#y_train.head()"
   ]
  },
  {
   "cell_type": "code",
   "execution_count": 23,
   "metadata": {},
   "outputs": [],
   "source": [
    "#x_test.head()"
   ]
  },
  {
   "cell_type": "code",
   "execution_count": 24,
   "metadata": {},
   "outputs": [],
   "source": [
    "#y_test.head()"
   ]
  },
  {
   "cell_type": "code",
   "execution_count": 25,
   "metadata": {},
   "outputs": [
    {
     "data": {
      "text/plain": [
       "\"def predict(fights_0, num_pretend_wins, num_pretend_losses, num_pretend_ties):\\n    fights = recompute_records(fights_0, num_pretend_wins, num_pretend_losses, num_pretend_ties)\\n    fights['guess'] = fights.apply(lambda row: 'r' if row.r_wldiff_pct > row.b_wldiff_pct else 'b', axis=1)\\n    print(accuracy_score(fights.r_b_winner, fights.guess))\\n    print(confusion_matrix(fights.r_b_winner, fights.guess))\""
      ]
     },
     "execution_count": 25,
     "metadata": {},
     "output_type": "execute_result"
    }
   ],
   "source": [
    "'''def predict(fights_0, num_pretend_wins, num_pretend_losses, num_pretend_ties):\n",
    "    fights = recompute_records(fights_0, num_pretend_wins, num_pretend_losses, num_pretend_ties)\n",
    "    fights['guess'] = fights.apply(lambda row: 'r' if row.r_wldiff_pct > row.b_wldiff_pct else 'b', axis=1)\n",
    "    print(accuracy_score(fights.r_b_winner, fights.guess))\n",
    "    print(confusion_matrix(fights.r_b_winner, fights.guess))'''"
   ]
  },
  {
   "cell_type": "code",
   "execution_count": 26,
   "metadata": {},
   "outputs": [],
   "source": [
    "#predict(fights_0, 0, 0, 0)"
   ]
  },
  {
   "cell_type": "code",
   "execution_count": 27,
   "metadata": {},
   "outputs": [],
   "source": [
    "num_pretend_wins, num_pretend_losses, num_pretend_ties = (0, 0, 0)"
   ]
  },
  {
   "cell_type": "code",
   "execution_count": 28,
   "metadata": {},
   "outputs": [
    {
     "ename": "KeyError",
     "evalue": "'r_prior_wins'",
     "output_type": "error",
     "traceback": [
      "\u001b[1;31m---------------------------------------------------------------------------\u001b[0m",
      "\u001b[1;31mKeyError\u001b[0m                                  Traceback (most recent call last)",
      "\u001b[1;32m~\\anaconda3\\envs\\tf-gpu\\lib\\site-packages\\pandas\\core\\indexes\\base.py\u001b[0m in \u001b[0;36mget_loc\u001b[1;34m(self, key, method, tolerance)\u001b[0m\n\u001b[0;32m   2888\u001b[0m             \u001b[1;32mtry\u001b[0m\u001b[1;33m:\u001b[0m\u001b[1;33m\u001b[0m\u001b[1;33m\u001b[0m\u001b[0m\n\u001b[1;32m-> 2889\u001b[1;33m                 \u001b[1;32mreturn\u001b[0m \u001b[0mself\u001b[0m\u001b[1;33m.\u001b[0m\u001b[0m_engine\u001b[0m\u001b[1;33m.\u001b[0m\u001b[0mget_loc\u001b[0m\u001b[1;33m(\u001b[0m\u001b[0mcasted_key\u001b[0m\u001b[1;33m)\u001b[0m\u001b[1;33m\u001b[0m\u001b[1;33m\u001b[0m\u001b[0m\n\u001b[0m\u001b[0;32m   2890\u001b[0m             \u001b[1;32mexcept\u001b[0m \u001b[0mKeyError\u001b[0m \u001b[1;32mas\u001b[0m \u001b[0merr\u001b[0m\u001b[1;33m:\u001b[0m\u001b[1;33m\u001b[0m\u001b[1;33m\u001b[0m\u001b[0m\n",
      "\u001b[1;32mpandas\\_libs\\index.pyx\u001b[0m in \u001b[0;36mpandas._libs.index.IndexEngine.get_loc\u001b[1;34m()\u001b[0m\n",
      "\u001b[1;32mpandas\\_libs\\index.pyx\u001b[0m in \u001b[0;36mpandas._libs.index.IndexEngine.get_loc\u001b[1;34m()\u001b[0m\n",
      "\u001b[1;32mpandas\\_libs\\hashtable_class_helper.pxi\u001b[0m in \u001b[0;36mpandas._libs.hashtable.PyObjectHashTable.get_item\u001b[1;34m()\u001b[0m\n",
      "\u001b[1;32mpandas\\_libs\\hashtable_class_helper.pxi\u001b[0m in \u001b[0;36mpandas._libs.hashtable.PyObjectHashTable.get_item\u001b[1;34m()\u001b[0m\n",
      "\u001b[1;31mKeyError\u001b[0m: 'r_prior_wins'",
      "\nThe above exception was the direct cause of the following exception:\n",
      "\u001b[1;31mKeyError\u001b[0m                                  Traceback (most recent call last)",
      "\u001b[1;32m<ipython-input-28-2a5969ad943c>\u001b[0m in \u001b[0;36m<module>\u001b[1;34m\u001b[0m\n\u001b[1;32m----> 1\u001b[1;33m \u001b[0mfights\u001b[0m \u001b[1;33m=\u001b[0m \u001b[0mfighters_cleanser\u001b[0m\u001b[1;33m.\u001b[0m\u001b[0mrecompute_records\u001b[0m\u001b[1;33m(\u001b[0m\u001b[0mfights_0\u001b[0m\u001b[1;33m,\u001b[0m \u001b[0mnum_pretend_wins\u001b[0m\u001b[1;33m,\u001b[0m \u001b[0mnum_pretend_losses\u001b[0m\u001b[1;33m,\u001b[0m \u001b[0mnum_pretend_ties\u001b[0m\u001b[1;33m)\u001b[0m\u001b[1;33m\u001b[0m\u001b[1;33m\u001b[0m\u001b[0m\n\u001b[0m\u001b[0;32m      2\u001b[0m \u001b[0mfights\u001b[0m\u001b[1;33m[\u001b[0m\u001b[1;34m'guess'\u001b[0m\u001b[1;33m]\u001b[0m \u001b[1;33m=\u001b[0m \u001b[0mfights\u001b[0m\u001b[1;33m.\u001b[0m\u001b[0mapply\u001b[0m\u001b[1;33m(\u001b[0m\u001b[1;32mlambda\u001b[0m \u001b[0mrow\u001b[0m\u001b[1;33m:\u001b[0m \u001b[1;34m'r'\u001b[0m \u001b[1;32mif\u001b[0m \u001b[0mrow\u001b[0m\u001b[1;33m.\u001b[0m\u001b[0mr_wldiff_pct\u001b[0m \u001b[1;33m>\u001b[0m \u001b[0mrow\u001b[0m\u001b[1;33m.\u001b[0m\u001b[0mb_wldiff_pct\u001b[0m \u001b[1;32melse\u001b[0m \u001b[1;34m'b'\u001b[0m\u001b[1;33m,\u001b[0m \u001b[0maxis\u001b[0m\u001b[1;33m=\u001b[0m\u001b[1;36m1\u001b[0m\u001b[1;33m)\u001b[0m\u001b[1;33m\u001b[0m\u001b[1;33m\u001b[0m\u001b[0m\n",
      "\u001b[1;32m~\\code\\demo\\ufc\\fighters_cleanser.py\u001b[0m in \u001b[0;36mrecompute_records\u001b[1;34m(fights_0, pretend_wins, pretend_losses, pretend_ties)\u001b[0m\n\u001b[0;32m    208\u001b[0m     \u001b[0mfights\u001b[0m \u001b[1;33m=\u001b[0m \u001b[0mfights_0\u001b[0m\u001b[1;33m.\u001b[0m\u001b[0mcopy\u001b[0m\u001b[1;33m(\u001b[0m\u001b[1;33m)\u001b[0m\u001b[1;33m\u001b[0m\u001b[1;33m\u001b[0m\u001b[0m\n\u001b[0;32m    209\u001b[0m     \u001b[1;31m# fights = compute_prior_records(fights)\u001b[0m\u001b[1;33m\u001b[0m\u001b[1;33m\u001b[0m\u001b[1;33m\u001b[0m\u001b[0m\n\u001b[1;32m--> 210\u001b[1;33m     \u001b[0mfights\u001b[0m \u001b[1;33m=\u001b[0m \u001b[0madd_fictitious_records\u001b[0m\u001b[1;33m(\u001b[0m\u001b[0mfights\u001b[0m\u001b[1;33m,\u001b[0m \u001b[0mpretend_wins\u001b[0m\u001b[1;33m,\u001b[0m \u001b[0mpretend_losses\u001b[0m\u001b[1;33m,\u001b[0m \u001b[0mpretend_ties\u001b[0m\u001b[1;33m)\u001b[0m\u001b[1;33m\u001b[0m\u001b[1;33m\u001b[0m\u001b[0m\n\u001b[0m\u001b[0;32m    211\u001b[0m     \u001b[0mfights\u001b[0m \u001b[1;33m=\u001b[0m \u001b[0mfind_win_loss_tie_pct\u001b[0m\u001b[1;33m(\u001b[0m\u001b[0mfights\u001b[0m\u001b[1;33m)\u001b[0m\u001b[1;33m\u001b[0m\u001b[1;33m\u001b[0m\u001b[0m\n\u001b[0;32m    212\u001b[0m     columns_to_use = ['r_fighter', 'b_fighter', 'date', 'loser', 'winner', 'r_prior_wins', 'r_prior_losses',\n",
      "\u001b[1;32m~\\code\\demo\\ufc\\fighters_cleanser.py\u001b[0m in \u001b[0;36madd_fictitious_records\u001b[1;34m(fights, prior_wins, prior_losses, prior_ties)\u001b[0m\n\u001b[0;32m    181\u001b[0m def add_fictitious_records(fights, prior_wins=constants.DEFAULT_PRIOR_WINS, prior_losses=constants.DEFAULT_PRIOR_LOSSES,\n\u001b[0;32m    182\u001b[0m                            prior_ties=constants.DEFAULT_PRIOR_TIES):\n\u001b[1;32m--> 183\u001b[1;33m     \u001b[0mfights\u001b[0m\u001b[1;33m[\u001b[0m\u001b[1;34m'r_prior_wins'\u001b[0m\u001b[1;33m]\u001b[0m \u001b[1;33m+=\u001b[0m \u001b[0mprior_wins\u001b[0m\u001b[1;33m\u001b[0m\u001b[1;33m\u001b[0m\u001b[0m\n\u001b[0m\u001b[0;32m    184\u001b[0m     \u001b[0mfights\u001b[0m\u001b[1;33m[\u001b[0m\u001b[1;34m'b_prior_wins'\u001b[0m\u001b[1;33m]\u001b[0m \u001b[1;33m+=\u001b[0m \u001b[0mprior_wins\u001b[0m\u001b[1;33m\u001b[0m\u001b[1;33m\u001b[0m\u001b[0m\n\u001b[0;32m    185\u001b[0m     \u001b[0mfights\u001b[0m\u001b[1;33m.\u001b[0m\u001b[0mr_prior_losses\u001b[0m \u001b[1;33m+=\u001b[0m \u001b[0mprior_losses\u001b[0m\u001b[1;33m\u001b[0m\u001b[1;33m\u001b[0m\u001b[0m\n",
      "\u001b[1;32m~\\anaconda3\\envs\\tf-gpu\\lib\\site-packages\\pandas\\core\\frame.py\u001b[0m in \u001b[0;36m__getitem__\u001b[1;34m(self, key)\u001b[0m\n\u001b[0;32m   2900\u001b[0m             \u001b[1;32mif\u001b[0m \u001b[0mself\u001b[0m\u001b[1;33m.\u001b[0m\u001b[0mcolumns\u001b[0m\u001b[1;33m.\u001b[0m\u001b[0mnlevels\u001b[0m \u001b[1;33m>\u001b[0m \u001b[1;36m1\u001b[0m\u001b[1;33m:\u001b[0m\u001b[1;33m\u001b[0m\u001b[1;33m\u001b[0m\u001b[0m\n\u001b[0;32m   2901\u001b[0m                 \u001b[1;32mreturn\u001b[0m \u001b[0mself\u001b[0m\u001b[1;33m.\u001b[0m\u001b[0m_getitem_multilevel\u001b[0m\u001b[1;33m(\u001b[0m\u001b[0mkey\u001b[0m\u001b[1;33m)\u001b[0m\u001b[1;33m\u001b[0m\u001b[1;33m\u001b[0m\u001b[0m\n\u001b[1;32m-> 2902\u001b[1;33m             \u001b[0mindexer\u001b[0m \u001b[1;33m=\u001b[0m \u001b[0mself\u001b[0m\u001b[1;33m.\u001b[0m\u001b[0mcolumns\u001b[0m\u001b[1;33m.\u001b[0m\u001b[0mget_loc\u001b[0m\u001b[1;33m(\u001b[0m\u001b[0mkey\u001b[0m\u001b[1;33m)\u001b[0m\u001b[1;33m\u001b[0m\u001b[1;33m\u001b[0m\u001b[0m\n\u001b[0m\u001b[0;32m   2903\u001b[0m             \u001b[1;32mif\u001b[0m \u001b[0mis_integer\u001b[0m\u001b[1;33m(\u001b[0m\u001b[0mindexer\u001b[0m\u001b[1;33m)\u001b[0m\u001b[1;33m:\u001b[0m\u001b[1;33m\u001b[0m\u001b[1;33m\u001b[0m\u001b[0m\n\u001b[0;32m   2904\u001b[0m                 \u001b[0mindexer\u001b[0m \u001b[1;33m=\u001b[0m \u001b[1;33m[\u001b[0m\u001b[0mindexer\u001b[0m\u001b[1;33m]\u001b[0m\u001b[1;33m\u001b[0m\u001b[1;33m\u001b[0m\u001b[0m\n",
      "\u001b[1;32m~\\anaconda3\\envs\\tf-gpu\\lib\\site-packages\\pandas\\core\\indexes\\base.py\u001b[0m in \u001b[0;36mget_loc\u001b[1;34m(self, key, method, tolerance)\u001b[0m\n\u001b[0;32m   2889\u001b[0m                 \u001b[1;32mreturn\u001b[0m \u001b[0mself\u001b[0m\u001b[1;33m.\u001b[0m\u001b[0m_engine\u001b[0m\u001b[1;33m.\u001b[0m\u001b[0mget_loc\u001b[0m\u001b[1;33m(\u001b[0m\u001b[0mcasted_key\u001b[0m\u001b[1;33m)\u001b[0m\u001b[1;33m\u001b[0m\u001b[1;33m\u001b[0m\u001b[0m\n\u001b[0;32m   2890\u001b[0m             \u001b[1;32mexcept\u001b[0m \u001b[0mKeyError\u001b[0m \u001b[1;32mas\u001b[0m \u001b[0merr\u001b[0m\u001b[1;33m:\u001b[0m\u001b[1;33m\u001b[0m\u001b[1;33m\u001b[0m\u001b[0m\n\u001b[1;32m-> 2891\u001b[1;33m                 \u001b[1;32mraise\u001b[0m \u001b[0mKeyError\u001b[0m\u001b[1;33m(\u001b[0m\u001b[0mkey\u001b[0m\u001b[1;33m)\u001b[0m \u001b[1;32mfrom\u001b[0m \u001b[0merr\u001b[0m\u001b[1;33m\u001b[0m\u001b[1;33m\u001b[0m\u001b[0m\n\u001b[0m\u001b[0;32m   2892\u001b[0m \u001b[1;33m\u001b[0m\u001b[0m\n\u001b[0;32m   2893\u001b[0m         \u001b[1;32mif\u001b[0m \u001b[0mtolerance\u001b[0m \u001b[1;32mis\u001b[0m \u001b[1;32mnot\u001b[0m \u001b[1;32mNone\u001b[0m\u001b[1;33m:\u001b[0m\u001b[1;33m\u001b[0m\u001b[1;33m\u001b[0m\u001b[0m\n",
      "\u001b[1;31mKeyError\u001b[0m: 'r_prior_wins'"
     ]
    }
   ],
   "source": [
    "fights = fighters_cleanser.recompute_records(fights_0, num_pretend_wins, num_pretend_losses, num_pretend_ties)\n",
    "fights['guess'] = fights.apply(lambda row: 'r' if row.r_wldiff_pct > row.b_wldiff_pct else 'b', axis=1)"
   ]
  },
  {
   "cell_type": "code",
   "execution_count": null,
   "metadata": {},
   "outputs": [],
   "source": [
    "accuracy_score(fights.r_b_winner, fights.guess)"
   ]
  },
  {
   "cell_type": "code",
   "execution_count": null,
   "metadata": {},
   "outputs": [],
   "source": [
    "(fights.guess == fights.r_b_winner).sum() / fights.shape[0]"
   ]
  },
  {
   "cell_type": "code",
   "execution_count": null,
   "metadata": {},
   "outputs": [],
   "source": [
    "cm = confusion_matrix(fights.r_b_winner, fights.guess)\n",
    "cm"
   ]
  },
  {
   "cell_type": "code",
   "execution_count": null,
   "metadata": {},
   "outputs": [],
   "source": [
    "cm[0,2]"
   ]
  },
  {
   "cell_type": "code",
   "execution_count": null,
   "metadata": {},
   "outputs": [],
   "source": [
    "type(cm)"
   ]
  },
  {
   "cell_type": "code",
   "execution_count": null,
   "metadata": {},
   "outputs": [],
   "source": [
    "fights.r_b_winner.value_counts() / fights.shape[0]"
   ]
  },
  {
   "cell_type": "code",
   "execution_count": null,
   "metadata": {},
   "outputs": [],
   "source": [
    "fights.guess.value_counts() / fights.shape[0]"
   ]
  },
  {
   "cell_type": "code",
   "execution_count": null,
   "metadata": {},
   "outputs": [],
   "source": [
    "fights.r_b_winner.value_counts()"
   ]
  },
  {
   "cell_type": "code",
   "execution_count": null,
   "metadata": {},
   "outputs": [],
   "source": [
    "fights.guess.value_counts()"
   ]
  },
  {
   "cell_type": "code",
   "execution_count": null,
   "metadata": {},
   "outputs": [],
   "source": [
    "fights.guess.value_counts().sum() == fights.r_b_winner.value_counts().sum()"
   ]
  },
  {
   "cell_type": "code",
   "execution_count": null,
   "metadata": {},
   "outputs": [],
   "source": []
  },
  {
   "cell_type": "code",
   "execution_count": null,
   "metadata": {},
   "outputs": [],
   "source": [
    "((fights.r_b_winner == 'r') & (fights.guess == 'r')).sum()"
   ]
  },
  {
   "cell_type": "code",
   "execution_count": null,
   "metadata": {},
   "outputs": [],
   "source": [
    "((fights.r_b_winner == 'r') & (fights.guess == 'b')).sum()"
   ]
  },
  {
   "cell_type": "code",
   "execution_count": null,
   "metadata": {},
   "outputs": [],
   "source": [
    "((fights.r_b_winner == 'b') & (fights.guess == 'r')).sum()"
   ]
  },
  {
   "cell_type": "code",
   "execution_count": null,
   "metadata": {},
   "outputs": [],
   "source": [
    "((fights.r_b_winner == 'b') & (fights.guess == 'b')).sum()"
   ]
  },
  {
   "cell_type": "code",
   "execution_count": null,
   "metadata": {},
   "outputs": [],
   "source": [
    "((fights.r_b_winner == \"None\") & (fights.guess == 'r')).sum()"
   ]
  },
  {
   "cell_type": "code",
   "execution_count": null,
   "metadata": {},
   "outputs": [],
   "source": [
    "((fights.r_b_winner == \"None\") & (fights.guess == 'b')).sum()"
   ]
  },
  {
   "cell_type": "code",
   "execution_count": null,
   "metadata": {},
   "outputs": [],
   "source": [
    "(fights.r_b_winner == \"None\").sum()"
   ]
  },
  {
   "cell_type": "code",
   "execution_count": null,
   "metadata": {},
   "outputs": [],
   "source": [
    "(fights.r_wldiff_pct == fights.b_wldiff_pct).sum()"
   ]
  },
  {
   "cell_type": "code",
   "execution_count": null,
   "metadata": {},
   "outputs": [],
   "source": [
    "fights[fights.r_wldiff_pct == fights.b_wldiff_pct][[ 'r_prior_wins',\n",
    "       'r_prior_losses', 'r_prior_ties', 'b_prior_wins', 'b_prior_losses',\n",
    "       'b_prior_ties', 'r_total_fights', 'b_total_fights', 'r_win_pct',\n",
    "       'r_loss_pct', 'r_tie_pct', 'b_win_pct', 'b_loss_pct', 'b_tie_pct',\n",
    "       'r_wldiff_pct', 'b_wldiff_pct', 'r_b_winner', 'guess']]"
   ]
  },
  {
   "cell_type": "code",
   "execution_count": null,
   "metadata": {},
   "outputs": [],
   "source": []
  },
  {
   "cell_type": "code",
   "execution_count": null,
   "metadata": {},
   "outputs": [],
   "source": [
    "fights['guess'] = fights.apply(lambda row: 'r' if row.r_wldiff_pct > row.b_wldiff_pct else ('b' if row.r_wldiff_pct < row.b_wldiff_pct else np.random.choice(['r', 'b'])), axis=1)"
   ]
  },
  {
   "cell_type": "code",
   "execution_count": null,
   "metadata": {},
   "outputs": [],
   "source": [
    "fights['guess']"
   ]
  },
  {
   "cell_type": "code",
   "execution_count": null,
   "metadata": {},
   "outputs": [],
   "source": [
    "accuracy_score(fights.r_b_winner, fights.guess)"
   ]
  },
  {
   "cell_type": "code",
   "execution_count": null,
   "metadata": {},
   "outputs": [],
   "source": [
    "confusion_matrix(fights.r_b_winner, fights.guess)"
   ]
  },
  {
   "cell_type": "code",
   "execution_count": null,
   "metadata": {},
   "outputs": [],
   "source": [
    "def choose_r_or_b(row):\n",
    "    if row.r_wldiff_pct > row.b_wldiff_pct:\n",
    "        return 'r'\n",
    "    elif row.r_wldiff_pct < row.b_wldiff_pct:\n",
    "        return 'b'\n",
    "    else:\n",
    "        return np.random.choice(['r', 'b'])"
   ]
  },
  {
   "cell_type": "code",
   "execution_count": null,
   "metadata": {},
   "outputs": [],
   "source": [
    "fights['guess'] = fights.apply(choose_r_or_b, axis=1)"
   ]
  },
  {
   "cell_type": "code",
   "execution_count": null,
   "metadata": {},
   "outputs": [],
   "source": [
    "confusion_matrix(fights.r_b_winner, fights.guess)"
   ]
  },
  {
   "cell_type": "code",
   "execution_count": null,
   "metadata": {},
   "outputs": [],
   "source": [
    "accuracy_score(fights.r_b_winner, fights.guess)"
   ]
  },
  {
   "cell_type": "code",
   "execution_count": null,
   "metadata": {},
   "outputs": [],
   "source": [
    "fights.guess.value_counts().sum()"
   ]
  },
  {
   "cell_type": "code",
   "execution_count": null,
   "metadata": {},
   "outputs": [],
   "source": [
    "sns.countplot(fights.r_total_fights)"
   ]
  },
  {
   "cell_type": "code",
   "execution_count": null,
   "metadata": {},
   "outputs": [],
   "source": [
    "sns.countplot(fights.b_total_fights)"
   ]
  },
  {
   "cell_type": "code",
   "execution_count": null,
   "metadata": {},
   "outputs": [],
   "source": [
    "fights.columns"
   ]
  },
  {
   "cell_type": "code",
   "execution_count": null,
   "metadata": {},
   "outputs": [],
   "source": [
    "fights[['r_total_fights', 'b_total_fights', 'r_b_winner', 'guess']]"
   ]
  },
  {
   "cell_type": "code",
   "execution_count": null,
   "metadata": {},
   "outputs": [],
   "source": [
    "def find_confusion_result_for_row(row):\n",
    "    if row.r_b_winner == 'r' and row.guess == 'r':\n",
    "        return 'TP'\n",
    "    elif row.r_b_winner == 'r' and row.guess == 'b':\n",
    "        return 'FP'\n",
    "    elif row.r_b_winner == 'b' and row.guess == 'r':\n",
    "        return 'FN'\n",
    "    elif row.r_b_winner == 'b' and row.guess == 'b':\n",
    "        return 'TN'\n",
    "    else:\n",
    "        return \"I'm totally confused\""
   ]
  },
  {
   "cell_type": "code",
   "execution_count": null,
   "metadata": {},
   "outputs": [],
   "source": [
    "fights[['guess_result']] = fights.apply(find_confusion_result_for_row, axis=1)"
   ]
  },
  {
   "cell_type": "code",
   "execution_count": null,
   "metadata": {},
   "outputs": [],
   "source": [
    "fights[['r_total_fights', 'b_total_fights', 'r_b_winner', 'guess', 'guess_result']]"
   ]
  },
  {
   "cell_type": "code",
   "execution_count": null,
   "metadata": {},
   "outputs": [],
   "source": [
    "fights[['accurate']] = fights.apply(lambda row: 1 if row.guess_result in ['TP', 'TN'] else 0, axis=1)\n",
    "fights.head()"
   ]
  },
  {
   "cell_type": "code",
   "execution_count": null,
   "metadata": {},
   "outputs": [],
   "source": [
    "fights[['r_total_fights', 'b_total_fights', 'r_b_winner', 'guess', 'guess_result', 'accurate']]"
   ]
  },
  {
   "cell_type": "code",
   "execution_count": null,
   "metadata": {},
   "outputs": [],
   "source": [
    "fr = fights.sort_values('r_total_fights')\n",
    "fr.head()[['r_total_fights', 'b_total_fights', 'r_b_winner', 'guess', 'guess_result', 'accurate']]"
   ]
  },
  {
   "cell_type": "code",
   "execution_count": null,
   "metadata": {},
   "outputs": [],
   "source": [
    "fb = fights.sort_values('b_total_fights')\n",
    "fb[['r_total_fights', 'b_total_fights', 'r_b_winner', 'guess', 'guess_result', 'accurate']].head()"
   ]
  },
  {
   "cell_type": "code",
   "execution_count": null,
   "metadata": {},
   "outputs": [],
   "source": [
    "#fights.groupby('r_total_fights').mean()['accurate']"
   ]
  },
  {
   "cell_type": "code",
   "execution_count": null,
   "metadata": {},
   "outputs": [],
   "source": [
    "#fights.groupby('r_total_fights').sum()['accurate'] / fights.groupby('r_total_fights').count()['r_fighter']"
   ]
  },
  {
   "cell_type": "code",
   "execution_count": null,
   "metadata": {},
   "outputs": [],
   "source": [
    "(fights.groupby('r_total_fights').sum()['accurate'] / fights.groupby('r_total_fights').count()['r_fighter'] != fights.groupby('r_total_fights').mean()['accurate']).sum() == 0"
   ]
  },
  {
   "cell_type": "code",
   "execution_count": null,
   "metadata": {},
   "outputs": [],
   "source": [
    "(fights.groupby('b_total_fights').sum()['accurate'] / fights.groupby('b_total_fights').count()['b_fighter'] != fights.groupby('b_total_fights').mean()['accurate']).sum() == 0"
   ]
  },
  {
   "cell_type": "markdown",
   "metadata": {},
   "source": [
    "fights.groupby('b_total_fights').mean()['accurate'] is the same as fights.groupby('b_total_fights').sum()['accurate'] / fights.groupby('b_total_fights').count()['b_fighter']\n",
    "mean() does take the mean of that group.\n",
    "So use mean() instead of the sum and then dividing by the count."
   ]
  },
  {
   "cell_type": "code",
   "execution_count": null,
   "metadata": {},
   "outputs": [],
   "source": [
    "fights.groupby('r_total_fights').count()['r_fighter']"
   ]
  },
  {
   "cell_type": "code",
   "execution_count": null,
   "metadata": {},
   "outputs": [],
   "source": [
    "#fights.groupby('b_total_fights').sum()['accurate'] / fights.groupby('b_total_fights').count()['b_fighter']"
   ]
  },
  {
   "cell_type": "code",
   "execution_count": null,
   "metadata": {},
   "outputs": [],
   "source": [
    "fights.groupby('b_total_fights').count()['b_fighter']"
   ]
  },
  {
   "cell_type": "code",
   "execution_count": null,
   "metadata": {},
   "outputs": [],
   "source": [
    "fights.groupby('b_total_fights').mean()['accurate']"
   ]
  },
  {
   "cell_type": "code",
   "execution_count": null,
   "metadata": {},
   "outputs": [],
   "source": [
    "r_accuracy = fights.groupby('r_total_fights').mean()['accurate']\n",
    "b_accuracy = fights.groupby('b_total_fights').mean()['accurate']"
   ]
  },
  {
   "cell_type": "code",
   "execution_count": null,
   "metadata": {},
   "outputs": [],
   "source": [
    "sns.lineplot(r_accuracy, x='r_total_fights', y='index')"
   ]
  },
  {
   "cell_type": "code",
   "execution_count": null,
   "metadata": {},
   "outputs": [],
   "source": [
    "sns.lineplot(fights.r_total_fights, fights.accurate)"
   ]
  },
  {
   "cell_type": "code",
   "execution_count": null,
   "metadata": {},
   "outputs": [],
   "source": [
    "sns.lineplot(r_accuracy.index, r_accuracy.values)"
   ]
  },
  {
   "cell_type": "code",
   "execution_count": null,
   "metadata": {},
   "outputs": [],
   "source": [
    "sns.lineplot(fights.b_total_fights, fights.accurate)"
   ]
  },
  {
   "cell_type": "code",
   "execution_count": null,
   "metadata": {},
   "outputs": [],
   "source": [
    "sns.lineplot(b_accuracy.index, b_accuracy.values)"
   ]
  },
  {
   "cell_type": "markdown",
   "metadata": {},
   "source": [
    "It would seem that sns.lineplot(fights.r_total_fights, fights.accurate) and sns.lineplot(r_accuracy.index, r_accuracy.values) give me the same line, although the way the graph is done is slightly different."
   ]
  },
  {
   "cell_type": "code",
   "execution_count": null,
   "metadata": {},
   "outputs": [],
   "source": [
    "sns.lineplot(fights.date, fights.accurate)"
   ]
  },
  {
   "cell_type": "markdown",
   "metadata": {},
   "source": [
    "The date does not seem to have much or any effect on the accuracy of this prediction."
   ]
  },
  {
   "cell_type": "code",
   "execution_count": null,
   "metadata": {},
   "outputs": [],
   "source": [
    "f2"
   ]
  },
  {
   "cell_type": "code",
   "execution_count": null,
   "metadata": {},
   "outputs": [],
   "source": [
    "f2 = fights[(fights.r_total_fights > 5) & (fights.b_total_fights > 5)]\n",
    "f2.shape"
   ]
  },
  {
   "cell_type": "code",
   "execution_count": null,
   "metadata": {},
   "outputs": [],
   "source": [
    "fighters_cleanser.predict(f2, 0, 0, 0)"
   ]
  },
  {
   "cell_type": "code",
   "execution_count": null,
   "metadata": {},
   "outputs": [],
   "source": [
    "min_fights_num = 0\n",
    "fighters_cleanser.predict(fights[(fights.r_total_fights > min_fights_num) & (fights.b_total_fights > min_fights_num)], 0, 0, 0)\n",
    "min_fights_num = 1\n",
    "fighters_cleanser.predict(fights[(fights.r_total_fights > min_fights_num) & (fights.b_total_fights > min_fights_num)], 0, 0, 0)\n",
    "min_fights_num = 2\n",
    "fighters_cleanser.predict(fights[(fights.r_total_fights > min_fights_num) & (fights.b_total_fights > min_fights_num)], 0, 0, 0)\n",
    "min_fights_num = 3\n",
    "fighters_cleanser.predict(fights[(fights.r_total_fights > min_fights_num) & (fights.b_total_fights > min_fights_num)], 0, 0, 0)\n",
    "min_fights_num = 4\n",
    "fighters_cleanser.predict(fights[(fights.r_total_fights > min_fights_num) & (fights.b_total_fights > min_fights_num)], 0, 0, 0)\n",
    "min_fights_num = 5\n",
    "fighters_cleanser.predict(fights[(fights.r_total_fights > min_fights_num) & (fights.b_total_fights > min_fights_num)], 0, 0, 0)\n",
    "min_fights_num = 6\n",
    "fighters_cleanser.predict(fights[(fights.r_total_fights > min_fights_num) & (fights.b_total_fights > min_fights_num)], 0, 0, 0)\n",
    "min_fights_num = 7\n",
    "fighters_cleanser.predict(fights[(fights.r_total_fights > min_fights_num) & (fights.b_total_fights > min_fights_num)], 0, 0, 0)\n",
    "min_fights_num = 8\n",
    "fighters_cleanser.predict(fights[(fights.r_total_fights > min_fights_num) & (fights.b_total_fights > min_fights_num)], 0, 0, 0)\n",
    "min_fights_num = 9\n",
    "fighters_cleanser.predict(fights[(fights.r_total_fights > min_fights_num) & (fights.b_total_fights > min_fights_num)], 0, 0, 0)\n",
    "min_fights_num = 10\n",
    "fighters_cleanser.predict(fights[(fights.r_total_fights > min_fights_num) & (fights.b_total_fights > min_fights_num)], 0, 0, 0)\n",
    "min_fights_num = 11\n",
    "fighters_cleanser.predict(fights[(fights.r_total_fights > min_fights_num) & (fights.b_total_fights > min_fights_num)], 0, 0, 0)\n",
    "min_fights_num = 12\n",
    "fighters_cleanser.predict(fights[(fights.r_total_fights > min_fights_num) & (fights.b_total_fights > min_fights_num)], 0, 0, 0)\n",
    "min_fights_num = 13\n",
    "fighters_cleanser.predict(fights[(fights.r_total_fights > min_fights_num) & (fights.b_total_fights > min_fights_num)], 0, 0, 0)\n",
    "min_fights_num = 14\n",
    "fighters_cleanser.predict(fights[(fights.r_total_fights > min_fights_num) & (fights.b_total_fights > min_fights_num)], 0, 0, 0)\n",
    "min_fights_num = 15\n",
    "fighters_cleanser.predict(fights[(fights.r_total_fights > min_fights_num) & (fights.b_total_fights > min_fights_num)], 0, 0, 0)\n",
    "min_fights_num = 16\n",
    "fighters_cleanser.predict(fights[(fights.r_total_fights > min_fights_num) & (fights.b_total_fights > min_fights_num)], 0, 0, 0)\n",
    "min_fights_num = 17\n",
    "fighters_cleanser.predict(fights[(fights.r_total_fights > min_fights_num) & (fights.b_total_fights > min_fights_num)], 0, 0, 0)\n",
    "min_fights_num = 18\n",
    "fighters_cleanser.predict(fights[(fights.r_total_fights > min_fights_num) & (fights.b_total_fights > min_fights_num)], 0, 0, 0)\n",
    "min_fights_num = 19\n",
    "fighters_cleanser.predict(fights[(fights.r_total_fights > min_fights_num) & (fights.b_total_fights > min_fights_num)], 0, 0, 0)\n",
    "min_fights_num = 20\n",
    "fighters_cleanser.predict(fights[(fights.r_total_fights > min_fights_num) & (fights.b_total_fights > min_fights_num)], 0, 0, 0)\n",
    "min_fights_num = 21\n",
    "fighters_cleanser.predict(fights[(fights.r_total_fights > min_fights_num) & (fights.b_total_fights > min_fights_num)], 0, 0, 0)"
   ]
  },
  {
   "cell_type": "code",
   "execution_count": null,
   "metadata": {},
   "outputs": [],
   "source": []
  }
 ],
 "metadata": {
  "kernelspec": {
   "display_name": "Python 3",
   "language": "python",
   "name": "python3"
  },
  "language_info": {
   "codemirror_mode": {
    "name": "ipython",
    "version": 3
   },
   "file_extension": ".py",
   "mimetype": "text/x-python",
   "name": "python",
   "nbconvert_exporter": "python",
   "pygments_lexer": "ipython3",
   "version": "3.7.9"
  }
 },
 "nbformat": 4,
 "nbformat_minor": 4
}
