{
 "cells": [
  {
   "cell_type": "code",
   "execution_count": 1,
   "metadata": {},
   "outputs": [],
   "source": [
    "import pandas as pd\n",
    "import numpy as np\n",
    "import matplotlib.pyplot as plt\n",
    "import seaborn as sns"
   ]
  },
  {
   "cell_type": "code",
   "execution_count": 2,
   "metadata": {},
   "outputs": [],
   "source": [
    "from sklearn.model_selection import train_test_split\n",
    "from sklearn.metrics import accuracy_score, confusion_matrix, classification_report"
   ]
  },
  {
   "cell_type": "code",
   "execution_count": 3,
   "metadata": {},
   "outputs": [],
   "source": [
    "import fighters_cleanser\n",
    "import constants"
   ]
  },
  {
   "cell_type": "code",
   "execution_count": 4,
   "metadata": {},
   "outputs": [
    {
     "data": {
      "text/plain": [
       "(4393, 142)"
      ]
     },
     "execution_count": 4,
     "metadata": {},
     "output_type": "execute_result"
    }
   ],
   "source": [
    "fights_0 = fighters_cleanser.load_cleanse_and_merge(constants.DEFAULT_FIGHTERS_FILE_NAME, constants.DEFAULT_FIGHTS_FILE_NAME)\n",
    "fights_0 = fighters_cleanser.compute_prior_records(fights_0)\n",
    "fights_0.shape"
   ]
  },
  {
   "cell_type": "code",
   "execution_count": 5,
   "metadata": {},
   "outputs": [
    {
     "data": {
      "text/html": [
       "<div>\n",
       "<style scoped>\n",
       "    .dataframe tbody tr th:only-of-type {\n",
       "        vertical-align: middle;\n",
       "    }\n",
       "\n",
       "    .dataframe tbody tr th {\n",
       "        vertical-align: top;\n",
       "    }\n",
       "\n",
       "    .dataframe thead th {\n",
       "        text-align: right;\n",
       "    }\n",
       "</style>\n",
       "<table border=\"1\" class=\"dataframe\">\n",
       "  <thead>\n",
       "    <tr style=\"text-align: right;\">\n",
       "      <th></th>\n",
       "      <th>r_fighter</th>\n",
       "      <th>b_fighter</th>\n",
       "      <th>r_kd</th>\n",
       "      <th>b_kd</th>\n",
       "      <th>r_sig_str</th>\n",
       "      <th>b_sig_str</th>\n",
       "      <th>r_sig_str_pct</th>\n",
       "      <th>b_sig_str_pct</th>\n",
       "      <th>r_total_str</th>\n",
       "      <th>b_total_str</th>\n",
       "      <th>...</th>\n",
       "      <th>age_diff</th>\n",
       "      <th>height_diff</th>\n",
       "      <th>weight_diff</th>\n",
       "      <th>reach_diff</th>\n",
       "      <th>r_prior_wins</th>\n",
       "      <th>r_prior_losses</th>\n",
       "      <th>r_prior_ties</th>\n",
       "      <th>b_prior_wins</th>\n",
       "      <th>b_prior_losses</th>\n",
       "      <th>b_prior_ties</th>\n",
       "    </tr>\n",
       "  </thead>\n",
       "  <tbody>\n",
       "    <tr>\n",
       "      <th>0</th>\n",
       "      <td>Henry Cejudo</td>\n",
       "      <td>Marlon Moraes</td>\n",
       "      <td>0</td>\n",
       "      <td>0</td>\n",
       "      <td>90 of 171</td>\n",
       "      <td>57 of 119</td>\n",
       "      <td>52</td>\n",
       "      <td>47</td>\n",
       "      <td>99 of 182</td>\n",
       "      <td>59 of 121</td>\n",
       "      <td>...</td>\n",
       "      <td>1.210959</td>\n",
       "      <td>-2</td>\n",
       "      <td>0</td>\n",
       "      <td>-3</td>\n",
       "      <td>8</td>\n",
       "      <td>2</td>\n",
       "      <td>0</td>\n",
       "      <td>4</td>\n",
       "      <td>1</td>\n",
       "      <td>0</td>\n",
       "    </tr>\n",
       "    <tr>\n",
       "      <th>1</th>\n",
       "      <td>Jimmie Rivera</td>\n",
       "      <td>Marlon Moraes</td>\n",
       "      <td>0</td>\n",
       "      <td>1</td>\n",
       "      <td>0 of 3</td>\n",
       "      <td>7 of 9</td>\n",
       "      <td>0</td>\n",
       "      <td>77</td>\n",
       "      <td>0 of 3</td>\n",
       "      <td>7 of 9</td>\n",
       "      <td>...</td>\n",
       "      <td>-1.175342</td>\n",
       "      <td>-2</td>\n",
       "      <td>0</td>\n",
       "      <td>1</td>\n",
       "      <td>5</td>\n",
       "      <td>0</td>\n",
       "      <td>0</td>\n",
       "      <td>2</td>\n",
       "      <td>1</td>\n",
       "      <td>0</td>\n",
       "    </tr>\n",
       "    <tr>\n",
       "      <th>2</th>\n",
       "      <td>John Dodson</td>\n",
       "      <td>Marlon Moraes</td>\n",
       "      <td>1</td>\n",
       "      <td>0</td>\n",
       "      <td>43 of 105</td>\n",
       "      <td>45 of 131</td>\n",
       "      <td>40</td>\n",
       "      <td>34</td>\n",
       "      <td>47 of 109</td>\n",
       "      <td>45 of 131</td>\n",
       "      <td>...</td>\n",
       "      <td>3.583562</td>\n",
       "      <td>-3</td>\n",
       "      <td>0</td>\n",
       "      <td>-1</td>\n",
       "      <td>8</td>\n",
       "      <td>3</td>\n",
       "      <td>0</td>\n",
       "      <td>0</td>\n",
       "      <td>1</td>\n",
       "      <td>0</td>\n",
       "    </tr>\n",
       "    <tr>\n",
       "      <th>3</th>\n",
       "      <td>Raphael Assuncao</td>\n",
       "      <td>Marlon Moraes</td>\n",
       "      <td>0</td>\n",
       "      <td>1</td>\n",
       "      <td>2 of 12</td>\n",
       "      <td>10 of 23</td>\n",
       "      <td>16</td>\n",
       "      <td>43</td>\n",
       "      <td>3 of 13</td>\n",
       "      <td>12 of 25</td>\n",
       "      <td>...</td>\n",
       "      <td>5.775342</td>\n",
       "      <td>-1</td>\n",
       "      <td>0</td>\n",
       "      <td>-1</td>\n",
       "      <td>11</td>\n",
       "      <td>2</td>\n",
       "      <td>0</td>\n",
       "      <td>3</td>\n",
       "      <td>1</td>\n",
       "      <td>0</td>\n",
       "    </tr>\n",
       "    <tr>\n",
       "      <th>4</th>\n",
       "      <td>Raphael Assuncao</td>\n",
       "      <td>Marlon Moraes</td>\n",
       "      <td>0</td>\n",
       "      <td>0</td>\n",
       "      <td>43 of 134</td>\n",
       "      <td>44 of 150</td>\n",
       "      <td>32</td>\n",
       "      <td>29</td>\n",
       "      <td>43 of 134</td>\n",
       "      <td>44 of 150</td>\n",
       "      <td>...</td>\n",
       "      <td>5.775342</td>\n",
       "      <td>-1</td>\n",
       "      <td>0</td>\n",
       "      <td>-1</td>\n",
       "      <td>8</td>\n",
       "      <td>2</td>\n",
       "      <td>0</td>\n",
       "      <td>0</td>\n",
       "      <td>0</td>\n",
       "      <td>0</td>\n",
       "    </tr>\n",
       "  </tbody>\n",
       "</table>\n",
       "<p>5 rows × 142 columns</p>\n",
       "</div>"
      ],
      "text/plain": [
       "          r_fighter      b_fighter  r_kd  b_kd  r_sig_str  b_sig_str  \\\n",
       "0      Henry Cejudo  Marlon Moraes     0     0  90 of 171  57 of 119   \n",
       "1     Jimmie Rivera  Marlon Moraes     0     1     0 of 3     7 of 9   \n",
       "2       John Dodson  Marlon Moraes     1     0  43 of 105  45 of 131   \n",
       "3  Raphael Assuncao  Marlon Moraes     0     1    2 of 12   10 of 23   \n",
       "4  Raphael Assuncao  Marlon Moraes     0     0  43 of 134  44 of 150   \n",
       "\n",
       "   r_sig_str_pct  b_sig_str_pct r_total_str b_total_str  ...  age_diff  \\\n",
       "0             52             47   99 of 182   59 of 121  ...  1.210959   \n",
       "1              0             77      0 of 3      7 of 9  ... -1.175342   \n",
       "2             40             34   47 of 109   45 of 131  ...  3.583562   \n",
       "3             16             43     3 of 13    12 of 25  ...  5.775342   \n",
       "4             32             29   43 of 134   44 of 150  ...  5.775342   \n",
       "\n",
       "  height_diff  weight_diff  reach_diff  r_prior_wins  r_prior_losses  \\\n",
       "0          -2            0          -3             8               2   \n",
       "1          -2            0           1             5               0   \n",
       "2          -3            0          -1             8               3   \n",
       "3          -1            0          -1            11               2   \n",
       "4          -1            0          -1             8               2   \n",
       "\n",
       "   r_prior_ties  b_prior_wins  b_prior_losses  b_prior_ties  \n",
       "0             0             4               1             0  \n",
       "1             0             2               1             0  \n",
       "2             0             0               1             0  \n",
       "3             0             3               1             0  \n",
       "4             0             0               0             0  \n",
       "\n",
       "[5 rows x 142 columns]"
      ]
     },
     "execution_count": 5,
     "metadata": {},
     "output_type": "execute_result"
    }
   ],
   "source": [
    "fights_0.head()"
   ]
  },
  {
   "cell_type": "code",
   "execution_count": 6,
   "metadata": {},
   "outputs": [],
   "source": [
    "#fights_0.columns"
   ]
  },
  {
   "cell_type": "code",
   "execution_count": 7,
   "metadata": {},
   "outputs": [],
   "source": [
    "#fights = fights_0.copy()"
   ]
  },
  {
   "cell_type": "code",
   "execution_count": 8,
   "metadata": {},
   "outputs": [],
   "source": [
    "#fights = fighters_cleanser.compute_prior_records(fights)"
   ]
  },
  {
   "cell_type": "code",
   "execution_count": 9,
   "metadata": {},
   "outputs": [],
   "source": [
    "#fights.head()"
   ]
  },
  {
   "cell_type": "code",
   "execution_count": 10,
   "metadata": {},
   "outputs": [],
   "source": [
    "#fights = fighters_cleanser.add_fictitious_records(fights)"
   ]
  },
  {
   "cell_type": "code",
   "execution_count": 11,
   "metadata": {},
   "outputs": [],
   "source": [
    "#fights.head()"
   ]
  },
  {
   "cell_type": "code",
   "execution_count": 12,
   "metadata": {},
   "outputs": [
    {
     "data": {
      "text/plain": [
       "\"columns_to_use = ['r_fighter','b_fighter', 'date', 'loser', 'winner', 'r_prior_wins', 'r_prior_losses', 'r_prior_ties', 'b_prior_wins', 'b_prior_losses', 'b_prior_ties', 'r_b_winner']\\nfights = fights[columns_to_use]\\nfights.head()\""
      ]
     },
     "execution_count": 12,
     "metadata": {},
     "output_type": "execute_result"
    }
   ],
   "source": [
    "'''columns_to_use = ['r_fighter','b_fighter', 'date', 'loser', 'winner', 'r_prior_wins', 'r_prior_losses', 'r_prior_ties', 'b_prior_wins', 'b_prior_losses', 'b_prior_ties', 'r_b_winner']\n",
    "fights = fights[columns_to_use]\n",
    "fights.head()'''"
   ]
  },
  {
   "cell_type": "code",
   "execution_count": 13,
   "metadata": {},
   "outputs": [],
   "source": [
    "#fights.head()"
   ]
  },
  {
   "cell_type": "code",
   "execution_count": 14,
   "metadata": {},
   "outputs": [],
   "source": [
    "#fights = fighters_cleanser.find_win_loss_tie_pct(fights)"
   ]
  },
  {
   "cell_type": "code",
   "execution_count": 15,
   "metadata": {},
   "outputs": [],
   "source": [
    "#fights.head()"
   ]
  },
  {
   "cell_type": "code",
   "execution_count": 16,
   "metadata": {},
   "outputs": [
    {
     "data": {
      "text/plain": [
       "\"def recompute_records(fights_0, pretend_wins, pretend_losses, pretend_ties):\\n    fights = fights_0.copy()\\n    fights = fighters_cleanser.compute_prior_records(fights)\\n    fights = fighters_cleanser.add_fictitious_records(fights, pretend_wins, pretend_losses, pretend_ties)\\n    fights = fighters_cleanser.find_win_loss_tie_pct(fights)\\n    columns_to_use = ['r_fighter','b_fighter', 'date', 'loser', 'winner', 'r_prior_wins', 'r_prior_losses', 'r_prior_ties', 'b_prior_wins', 'b_prior_losses', 'b_prior_ties', 'r_b_winner']\\n    fights = fights[columns_to_use]\\n    #fights['r_wldiff_pct'] = fights.r_win_pct - fights.r_loss_pct\\n    #fights['b_wldiff_pct'] = fights.b_win_pct - fights.b_loss_pct\\n    return fights\\n    \""
      ]
     },
     "execution_count": 16,
     "metadata": {},
     "output_type": "execute_result"
    }
   ],
   "source": [
    "'''def recompute_records(fights_0, pretend_wins, pretend_losses, pretend_ties):\n",
    "    fights = fights_0.copy()\n",
    "    fights = fighters_cleanser.compute_prior_records(fights)\n",
    "    fights = fighters_cleanser.add_fictitious_records(fights, pretend_wins, pretend_losses, pretend_ties)\n",
    "    fights = fighters_cleanser.find_win_loss_tie_pct(fights)\n",
    "    columns_to_use = ['r_fighter','b_fighter', 'date', 'loser', 'winner', 'r_prior_wins', 'r_prior_losses', 'r_prior_ties', 'b_prior_wins', 'b_prior_losses', 'b_prior_ties', 'r_b_winner']\n",
    "    fights = fights[columns_to_use]\n",
    "    #fights['r_wldiff_pct'] = fights.r_win_pct - fights.r_loss_pct\n",
    "    #fights['b_wldiff_pct'] = fights.b_win_pct - fights.b_loss_pct\n",
    "    return fights\n",
    "    '''"
   ]
  },
  {
   "cell_type": "code",
   "execution_count": 17,
   "metadata": {},
   "outputs": [],
   "source": [
    "#fights2 = recompute_records(fights, 5, 5, 1)\n",
    "#fights2.head()"
   ]
  },
  {
   "cell_type": "code",
   "execution_count": 18,
   "metadata": {},
   "outputs": [],
   "source": [
    "def split_fights_df(fights):\n",
    "    x_train, x_test, y_train, y_test = train_test_split(fights[['r_fighter', 'b_fighter', 'date', 'loser', 'winner', 'r_prior_wins',\n",
    "       'r_prior_losses', 'r_prior_ties', 'b_prior_wins', 'b_prior_losses',\n",
    "       'b_prior_ties', 'r_total_fights', 'b_total_fights',\n",
    "       'r_win_pct', 'r_loss_pct', 'r_tie_pct', 'b_win_pct', 'b_loss_pct',\n",
    "       'b_tie_pct', 'r_wldiff_pct', 'b_wldiff_pct']], fights['r_b_winner'], test_size=.33, random_state=87)\n",
    "    x_train['guess'] = x_train.apply(lambda row: 'r' if row.r_wldiff_pct > row.b_wldiff_pct else 'b', axis=1)\n",
    "    return x_train, x_test, y_train, y_test\n",
    "    \n",
    "    "
   ]
  },
  {
   "cell_type": "code",
   "execution_count": 19,
   "metadata": {},
   "outputs": [],
   "source": [
    "#x_train, x_test, y_train, y_test = split_fights_df(fights)"
   ]
  },
  {
   "cell_type": "code",
   "execution_count": 20,
   "metadata": {},
   "outputs": [],
   "source": [
    "#x_train.shape, x_test.shape, y_train.shape, y_test.shape"
   ]
  },
  {
   "cell_type": "code",
   "execution_count": 21,
   "metadata": {},
   "outputs": [],
   "source": [
    "#x_train.head()"
   ]
  },
  {
   "cell_type": "code",
   "execution_count": 22,
   "metadata": {},
   "outputs": [],
   "source": [
    "#y_train.head()"
   ]
  },
  {
   "cell_type": "code",
   "execution_count": 23,
   "metadata": {},
   "outputs": [],
   "source": [
    "#x_test.head()"
   ]
  },
  {
   "cell_type": "code",
   "execution_count": 24,
   "metadata": {},
   "outputs": [],
   "source": [
    "#y_test.head()"
   ]
  },
  {
   "cell_type": "code",
   "execution_count": 25,
   "metadata": {},
   "outputs": [
    {
     "data": {
      "text/plain": [
       "\"def predict(fights_0, num_pretend_wins, num_pretend_losses, num_pretend_ties):\\n    fights = recompute_records(fights_0, num_pretend_wins, num_pretend_losses, num_pretend_ties)\\n    fights['guess'] = fights.apply(lambda row: 'r' if row.r_wldiff_pct > row.b_wldiff_pct else 'b', axis=1)\\n    print(accuracy_score(fights.r_b_winner, fights.guess))\\n    print(confusion_matrix(fights.r_b_winner, fights.guess))\""
      ]
     },
     "execution_count": 25,
     "metadata": {},
     "output_type": "execute_result"
    }
   ],
   "source": [
    "'''def predict(fights_0, num_pretend_wins, num_pretend_losses, num_pretend_ties):\n",
    "    fights = recompute_records(fights_0, num_pretend_wins, num_pretend_losses, num_pretend_ties)\n",
    "    fights['guess'] = fights.apply(lambda row: 'r' if row.r_wldiff_pct > row.b_wldiff_pct else 'b', axis=1)\n",
    "    print(accuracy_score(fights.r_b_winner, fights.guess))\n",
    "    print(confusion_matrix(fights.r_b_winner, fights.guess))'''"
   ]
  },
  {
   "cell_type": "code",
   "execution_count": 26,
   "metadata": {},
   "outputs": [],
   "source": [
    "#predict(fights_0, 0, 0, 0)"
   ]
  },
  {
   "cell_type": "code",
   "execution_count": 27,
   "metadata": {},
   "outputs": [],
   "source": [
    "num_pretend_wins, num_pretend_losses, num_pretend_ties = (0, 0, 0)"
   ]
  },
  {
   "cell_type": "code",
   "execution_count": 28,
   "metadata": {},
   "outputs": [],
   "source": [
    "fights = fighters_cleanser.recompute_records(fights_0, num_pretend_wins, num_pretend_losses, num_pretend_ties)\n",
    "fights['guess'] = fights.apply(lambda row: 'r' if row.r_wldiff_pct > row.b_wldiff_pct else 'b', axis=1)"
   ]
  },
  {
   "cell_type": "code",
   "execution_count": 29,
   "metadata": {},
   "outputs": [
    {
     "data": {
      "text/plain": [
       "0.4712041884816754"
      ]
     },
     "execution_count": 29,
     "metadata": {},
     "output_type": "execute_result"
    }
   ],
   "source": [
    "accuracy_score(fights.r_b_winner, fights.guess)"
   ]
  },
  {
   "cell_type": "code",
   "execution_count": 30,
   "metadata": {},
   "outputs": [
    {
     "data": {
      "text/plain": [
       "0.4712041884816754"
      ]
     },
     "execution_count": 30,
     "metadata": {},
     "output_type": "execute_result"
    }
   ],
   "source": [
    "(fights.guess == fights.r_b_winner).sum() / fights.shape[0]"
   ]
  },
  {
   "cell_type": "code",
   "execution_count": 31,
   "metadata": {},
   "outputs": [
    {
     "data": {
      "text/plain": [
       "array([[   0,   46,   25],\n",
       "       [   0, 1064,  487],\n",
       "       [   0, 1765, 1006]], dtype=int64)"
      ]
     },
     "execution_count": 31,
     "metadata": {},
     "output_type": "execute_result"
    }
   ],
   "source": [
    "cm = confusion_matrix(fights.r_b_winner, fights.guess)\n",
    "cm"
   ]
  },
  {
   "cell_type": "code",
   "execution_count": 32,
   "metadata": {},
   "outputs": [
    {
     "data": {
      "text/plain": [
       "25"
      ]
     },
     "execution_count": 32,
     "metadata": {},
     "output_type": "execute_result"
    }
   ],
   "source": [
    "cm[0,2]"
   ]
  },
  {
   "cell_type": "code",
   "execution_count": 33,
   "metadata": {},
   "outputs": [
    {
     "data": {
      "text/plain": [
       "numpy.ndarray"
      ]
     },
     "execution_count": 33,
     "metadata": {},
     "output_type": "execute_result"
    }
   ],
   "source": [
    "type(cm)"
   ]
  },
  {
   "cell_type": "code",
   "execution_count": 34,
   "metadata": {},
   "outputs": [
    {
     "data": {
      "text/plain": [
       "r       0.630776\n",
       "b       0.353062\n",
       "None    0.016162\n",
       "Name: r_b_winner, dtype: float64"
      ]
     },
     "execution_count": 34,
     "metadata": {},
     "output_type": "execute_result"
    }
   ],
   "source": [
    "fights.r_b_winner.value_counts() / fights.shape[0]"
   ]
  },
  {
   "cell_type": "code",
   "execution_count": 35,
   "metadata": {},
   "outputs": [
    {
     "data": {
      "text/plain": [
       "b    0.65445\n",
       "r    0.34555\n",
       "Name: guess, dtype: float64"
      ]
     },
     "execution_count": 35,
     "metadata": {},
     "output_type": "execute_result"
    }
   ],
   "source": [
    "fights.guess.value_counts() / fights.shape[0]"
   ]
  },
  {
   "cell_type": "code",
   "execution_count": 36,
   "metadata": {},
   "outputs": [
    {
     "data": {
      "text/plain": [
       "r       2771\n",
       "b       1551\n",
       "None      71\n",
       "Name: r_b_winner, dtype: int64"
      ]
     },
     "execution_count": 36,
     "metadata": {},
     "output_type": "execute_result"
    }
   ],
   "source": [
    "fights.r_b_winner.value_counts()"
   ]
  },
  {
   "cell_type": "code",
   "execution_count": 37,
   "metadata": {},
   "outputs": [
    {
     "data": {
      "text/plain": [
       "b    2875\n",
       "r    1518\n",
       "Name: guess, dtype: int64"
      ]
     },
     "execution_count": 37,
     "metadata": {},
     "output_type": "execute_result"
    }
   ],
   "source": [
    "fights.guess.value_counts()"
   ]
  },
  {
   "cell_type": "code",
   "execution_count": 38,
   "metadata": {},
   "outputs": [
    {
     "data": {
      "text/plain": [
       "True"
      ]
     },
     "execution_count": 38,
     "metadata": {},
     "output_type": "execute_result"
    }
   ],
   "source": [
    "fights.guess.value_counts().sum() == fights.r_b_winner.value_counts().sum()"
   ]
  },
  {
   "cell_type": "code",
   "execution_count": null,
   "metadata": {},
   "outputs": [],
   "source": []
  },
  {
   "cell_type": "code",
   "execution_count": 39,
   "metadata": {},
   "outputs": [
    {
     "data": {
      "text/plain": [
       "1006"
      ]
     },
     "execution_count": 39,
     "metadata": {},
     "output_type": "execute_result"
    }
   ],
   "source": [
    "((fights.r_b_winner == 'r') & (fights.guess == 'r')).sum()"
   ]
  },
  {
   "cell_type": "code",
   "execution_count": 40,
   "metadata": {},
   "outputs": [
    {
     "data": {
      "text/plain": [
       "1765"
      ]
     },
     "execution_count": 40,
     "metadata": {},
     "output_type": "execute_result"
    }
   ],
   "source": [
    "((fights.r_b_winner == 'r') & (fights.guess == 'b')).sum()"
   ]
  },
  {
   "cell_type": "code",
   "execution_count": 41,
   "metadata": {},
   "outputs": [
    {
     "data": {
      "text/plain": [
       "487"
      ]
     },
     "execution_count": 41,
     "metadata": {},
     "output_type": "execute_result"
    }
   ],
   "source": [
    "((fights.r_b_winner == 'b') & (fights.guess == 'r')).sum()"
   ]
  },
  {
   "cell_type": "code",
   "execution_count": 42,
   "metadata": {},
   "outputs": [
    {
     "data": {
      "text/plain": [
       "1064"
      ]
     },
     "execution_count": 42,
     "metadata": {},
     "output_type": "execute_result"
    }
   ],
   "source": [
    "((fights.r_b_winner == 'b') & (fights.guess == 'b')).sum()"
   ]
  },
  {
   "cell_type": "code",
   "execution_count": 43,
   "metadata": {},
   "outputs": [
    {
     "data": {
      "text/plain": [
       "25"
      ]
     },
     "execution_count": 43,
     "metadata": {},
     "output_type": "execute_result"
    }
   ],
   "source": [
    "((fights.r_b_winner == \"None\") & (fights.guess == 'r')).sum()"
   ]
  },
  {
   "cell_type": "code",
   "execution_count": 44,
   "metadata": {},
   "outputs": [
    {
     "data": {
      "text/plain": [
       "46"
      ]
     },
     "execution_count": 44,
     "metadata": {},
     "output_type": "execute_result"
    }
   ],
   "source": [
    "((fights.r_b_winner == \"None\") & (fights.guess == 'b')).sum()"
   ]
  },
  {
   "cell_type": "code",
   "execution_count": 45,
   "metadata": {},
   "outputs": [
    {
     "data": {
      "text/plain": [
       "71"
      ]
     },
     "execution_count": 45,
     "metadata": {},
     "output_type": "execute_result"
    }
   ],
   "source": [
    "(fights.r_b_winner == \"None\").sum()"
   ]
  },
  {
   "cell_type": "code",
   "execution_count": 46,
   "metadata": {},
   "outputs": [
    {
     "data": {
      "text/plain": [
       "504"
      ]
     },
     "execution_count": 46,
     "metadata": {},
     "output_type": "execute_result"
    }
   ],
   "source": [
    "(fights.r_wldiff_pct == fights.b_wldiff_pct).sum()"
   ]
  },
  {
   "cell_type": "code",
   "execution_count": 47,
   "metadata": {},
   "outputs": [
    {
     "data": {
      "text/html": [
       "<div>\n",
       "<style scoped>\n",
       "    .dataframe tbody tr th:only-of-type {\n",
       "        vertical-align: middle;\n",
       "    }\n",
       "\n",
       "    .dataframe tbody tr th {\n",
       "        vertical-align: top;\n",
       "    }\n",
       "\n",
       "    .dataframe thead th {\n",
       "        text-align: right;\n",
       "    }\n",
       "</style>\n",
       "<table border=\"1\" class=\"dataframe\">\n",
       "  <thead>\n",
       "    <tr style=\"text-align: right;\">\n",
       "      <th></th>\n",
       "      <th>r_prior_wins</th>\n",
       "      <th>r_prior_losses</th>\n",
       "      <th>r_prior_ties</th>\n",
       "      <th>b_prior_wins</th>\n",
       "      <th>b_prior_losses</th>\n",
       "      <th>b_prior_ties</th>\n",
       "      <th>r_total_fights</th>\n",
       "      <th>b_total_fights</th>\n",
       "      <th>r_win_pct</th>\n",
       "      <th>r_loss_pct</th>\n",
       "      <th>r_tie_pct</th>\n",
       "      <th>b_win_pct</th>\n",
       "      <th>b_loss_pct</th>\n",
       "      <th>b_tie_pct</th>\n",
       "      <th>r_wldiff_pct</th>\n",
       "      <th>b_wldiff_pct</th>\n",
       "      <th>r_b_winner</th>\n",
       "      <th>guess</th>\n",
       "    </tr>\n",
       "  </thead>\n",
       "  <tbody>\n",
       "    <tr>\n",
       "      <th>0</th>\n",
       "      <td>8</td>\n",
       "      <td>2</td>\n",
       "      <td>0</td>\n",
       "      <td>4</td>\n",
       "      <td>1</td>\n",
       "      <td>0</td>\n",
       "      <td>10</td>\n",
       "      <td>5</td>\n",
       "      <td>0.800000</td>\n",
       "      <td>0.200000</td>\n",
       "      <td>0.000000</td>\n",
       "      <td>0.800000</td>\n",
       "      <td>0.200000</td>\n",
       "      <td>0.0</td>\n",
       "      <td>0.600000</td>\n",
       "      <td>0.600000</td>\n",
       "      <td>r</td>\n",
       "      <td>b</td>\n",
       "    </tr>\n",
       "    <tr>\n",
       "      <th>8</th>\n",
       "      <td>4</td>\n",
       "      <td>1</td>\n",
       "      <td>0</td>\n",
       "      <td>4</td>\n",
       "      <td>1</td>\n",
       "      <td>0</td>\n",
       "      <td>5</td>\n",
       "      <td>5</td>\n",
       "      <td>0.800000</td>\n",
       "      <td>0.200000</td>\n",
       "      <td>0.000000</td>\n",
       "      <td>0.800000</td>\n",
       "      <td>0.200000</td>\n",
       "      <td>0.0</td>\n",
       "      <td>0.600000</td>\n",
       "      <td>0.600000</td>\n",
       "      <td>r</td>\n",
       "      <td>b</td>\n",
       "    </tr>\n",
       "    <tr>\n",
       "      <th>15</th>\n",
       "      <td>1</td>\n",
       "      <td>1</td>\n",
       "      <td>1</td>\n",
       "      <td>1</td>\n",
       "      <td>1</td>\n",
       "      <td>0</td>\n",
       "      <td>3</td>\n",
       "      <td>2</td>\n",
       "      <td>0.333333</td>\n",
       "      <td>0.333333</td>\n",
       "      <td>0.333333</td>\n",
       "      <td>0.500000</td>\n",
       "      <td>0.500000</td>\n",
       "      <td>0.0</td>\n",
       "      <td>0.000000</td>\n",
       "      <td>0.000000</td>\n",
       "      <td>b</td>\n",
       "      <td>b</td>\n",
       "    </tr>\n",
       "    <tr>\n",
       "      <th>17</th>\n",
       "      <td>4</td>\n",
       "      <td>2</td>\n",
       "      <td>0</td>\n",
       "      <td>6</td>\n",
       "      <td>3</td>\n",
       "      <td>0</td>\n",
       "      <td>6</td>\n",
       "      <td>9</td>\n",
       "      <td>0.666667</td>\n",
       "      <td>0.333333</td>\n",
       "      <td>0.000000</td>\n",
       "      <td>0.666667</td>\n",
       "      <td>0.333333</td>\n",
       "      <td>0.0</td>\n",
       "      <td>0.333333</td>\n",
       "      <td>0.333333</td>\n",
       "      <td>r</td>\n",
       "      <td>b</td>\n",
       "    </tr>\n",
       "    <tr>\n",
       "      <th>20</th>\n",
       "      <td>3</td>\n",
       "      <td>2</td>\n",
       "      <td>0</td>\n",
       "      <td>3</td>\n",
       "      <td>2</td>\n",
       "      <td>0</td>\n",
       "      <td>5</td>\n",
       "      <td>5</td>\n",
       "      <td>0.600000</td>\n",
       "      <td>0.400000</td>\n",
       "      <td>0.000000</td>\n",
       "      <td>0.600000</td>\n",
       "      <td>0.400000</td>\n",
       "      <td>0.0</td>\n",
       "      <td>0.200000</td>\n",
       "      <td>0.200000</td>\n",
       "      <td>b</td>\n",
       "      <td>b</td>\n",
       "    </tr>\n",
       "    <tr>\n",
       "      <th>...</th>\n",
       "      <td>...</td>\n",
       "      <td>...</td>\n",
       "      <td>...</td>\n",
       "      <td>...</td>\n",
       "      <td>...</td>\n",
       "      <td>...</td>\n",
       "      <td>...</td>\n",
       "      <td>...</td>\n",
       "      <td>...</td>\n",
       "      <td>...</td>\n",
       "      <td>...</td>\n",
       "      <td>...</td>\n",
       "      <td>...</td>\n",
       "      <td>...</td>\n",
       "      <td>...</td>\n",
       "      <td>...</td>\n",
       "      <td>...</td>\n",
       "      <td>...</td>\n",
       "    </tr>\n",
       "    <tr>\n",
       "      <th>4369</th>\n",
       "      <td>1</td>\n",
       "      <td>2</td>\n",
       "      <td>0</td>\n",
       "      <td>1</td>\n",
       "      <td>2</td>\n",
       "      <td>0</td>\n",
       "      <td>3</td>\n",
       "      <td>3</td>\n",
       "      <td>0.333333</td>\n",
       "      <td>0.666667</td>\n",
       "      <td>0.000000</td>\n",
       "      <td>0.333333</td>\n",
       "      <td>0.666667</td>\n",
       "      <td>0.0</td>\n",
       "      <td>-0.333333</td>\n",
       "      <td>-0.333333</td>\n",
       "      <td>r</td>\n",
       "      <td>b</td>\n",
       "    </tr>\n",
       "    <tr>\n",
       "      <th>4379</th>\n",
       "      <td>0</td>\n",
       "      <td>2</td>\n",
       "      <td>0</td>\n",
       "      <td>0</td>\n",
       "      <td>1</td>\n",
       "      <td>0</td>\n",
       "      <td>2</td>\n",
       "      <td>1</td>\n",
       "      <td>0.000000</td>\n",
       "      <td>1.000000</td>\n",
       "      <td>0.000000</td>\n",
       "      <td>0.000000</td>\n",
       "      <td>1.000000</td>\n",
       "      <td>0.0</td>\n",
       "      <td>-1.000000</td>\n",
       "      <td>-1.000000</td>\n",
       "      <td>r</td>\n",
       "      <td>b</td>\n",
       "    </tr>\n",
       "    <tr>\n",
       "      <th>4383</th>\n",
       "      <td>0</td>\n",
       "      <td>1</td>\n",
       "      <td>0</td>\n",
       "      <td>0</td>\n",
       "      <td>1</td>\n",
       "      <td>0</td>\n",
       "      <td>1</td>\n",
       "      <td>1</td>\n",
       "      <td>0.000000</td>\n",
       "      <td>1.000000</td>\n",
       "      <td>0.000000</td>\n",
       "      <td>0.000000</td>\n",
       "      <td>1.000000</td>\n",
       "      <td>0.0</td>\n",
       "      <td>-1.000000</td>\n",
       "      <td>-1.000000</td>\n",
       "      <td>r</td>\n",
       "      <td>b</td>\n",
       "    </tr>\n",
       "    <tr>\n",
       "      <th>4388</th>\n",
       "      <td>2</td>\n",
       "      <td>2</td>\n",
       "      <td>0</td>\n",
       "      <td>1</td>\n",
       "      <td>1</td>\n",
       "      <td>0</td>\n",
       "      <td>4</td>\n",
       "      <td>2</td>\n",
       "      <td>0.500000</td>\n",
       "      <td>0.500000</td>\n",
       "      <td>0.000000</td>\n",
       "      <td>0.500000</td>\n",
       "      <td>0.500000</td>\n",
       "      <td>0.0</td>\n",
       "      <td>0.000000</td>\n",
       "      <td>0.000000</td>\n",
       "      <td>r</td>\n",
       "      <td>b</td>\n",
       "    </tr>\n",
       "    <tr>\n",
       "      <th>4391</th>\n",
       "      <td>0</td>\n",
       "      <td>1</td>\n",
       "      <td>0</td>\n",
       "      <td>0</td>\n",
       "      <td>1</td>\n",
       "      <td>0</td>\n",
       "      <td>1</td>\n",
       "      <td>1</td>\n",
       "      <td>0.000000</td>\n",
       "      <td>1.000000</td>\n",
       "      <td>0.000000</td>\n",
       "      <td>0.000000</td>\n",
       "      <td>1.000000</td>\n",
       "      <td>0.0</td>\n",
       "      <td>-1.000000</td>\n",
       "      <td>-1.000000</td>\n",
       "      <td>r</td>\n",
       "      <td>b</td>\n",
       "    </tr>\n",
       "  </tbody>\n",
       "</table>\n",
       "<p>504 rows × 18 columns</p>\n",
       "</div>"
      ],
      "text/plain": [
       "      r_prior_wins  r_prior_losses  r_prior_ties  b_prior_wins  \\\n",
       "0                8               2             0             4   \n",
       "8                4               1             0             4   \n",
       "15               1               1             1             1   \n",
       "17               4               2             0             6   \n",
       "20               3               2             0             3   \n",
       "...            ...             ...           ...           ...   \n",
       "4369             1               2             0             1   \n",
       "4379             0               2             0             0   \n",
       "4383             0               1             0             0   \n",
       "4388             2               2             0             1   \n",
       "4391             0               1             0             0   \n",
       "\n",
       "      b_prior_losses  b_prior_ties  r_total_fights  b_total_fights  r_win_pct  \\\n",
       "0                  1             0              10               5   0.800000   \n",
       "8                  1             0               5               5   0.800000   \n",
       "15                 1             0               3               2   0.333333   \n",
       "17                 3             0               6               9   0.666667   \n",
       "20                 2             0               5               5   0.600000   \n",
       "...              ...           ...             ...             ...        ...   \n",
       "4369               2             0               3               3   0.333333   \n",
       "4379               1             0               2               1   0.000000   \n",
       "4383               1             0               1               1   0.000000   \n",
       "4388               1             0               4               2   0.500000   \n",
       "4391               1             0               1               1   0.000000   \n",
       "\n",
       "      r_loss_pct  r_tie_pct  b_win_pct  b_loss_pct  b_tie_pct  r_wldiff_pct  \\\n",
       "0       0.200000   0.000000   0.800000    0.200000        0.0      0.600000   \n",
       "8       0.200000   0.000000   0.800000    0.200000        0.0      0.600000   \n",
       "15      0.333333   0.333333   0.500000    0.500000        0.0      0.000000   \n",
       "17      0.333333   0.000000   0.666667    0.333333        0.0      0.333333   \n",
       "20      0.400000   0.000000   0.600000    0.400000        0.0      0.200000   \n",
       "...          ...        ...        ...         ...        ...           ...   \n",
       "4369    0.666667   0.000000   0.333333    0.666667        0.0     -0.333333   \n",
       "4379    1.000000   0.000000   0.000000    1.000000        0.0     -1.000000   \n",
       "4383    1.000000   0.000000   0.000000    1.000000        0.0     -1.000000   \n",
       "4388    0.500000   0.000000   0.500000    0.500000        0.0      0.000000   \n",
       "4391    1.000000   0.000000   0.000000    1.000000        0.0     -1.000000   \n",
       "\n",
       "      b_wldiff_pct r_b_winner guess  \n",
       "0         0.600000          r     b  \n",
       "8         0.600000          r     b  \n",
       "15        0.000000          b     b  \n",
       "17        0.333333          r     b  \n",
       "20        0.200000          b     b  \n",
       "...            ...        ...   ...  \n",
       "4369     -0.333333          r     b  \n",
       "4379     -1.000000          r     b  \n",
       "4383     -1.000000          r     b  \n",
       "4388      0.000000          r     b  \n",
       "4391     -1.000000          r     b  \n",
       "\n",
       "[504 rows x 18 columns]"
      ]
     },
     "execution_count": 47,
     "metadata": {},
     "output_type": "execute_result"
    }
   ],
   "source": [
    "fights[fights.r_wldiff_pct == fights.b_wldiff_pct][[ 'r_prior_wins',\n",
    "       'r_prior_losses', 'r_prior_ties', 'b_prior_wins', 'b_prior_losses',\n",
    "       'b_prior_ties', 'r_total_fights', 'b_total_fights', 'r_win_pct',\n",
    "       'r_loss_pct', 'r_tie_pct', 'b_win_pct', 'b_loss_pct', 'b_tie_pct',\n",
    "       'r_wldiff_pct', 'b_wldiff_pct', 'r_b_winner', 'guess']]"
   ]
  },
  {
   "cell_type": "code",
   "execution_count": null,
   "metadata": {},
   "outputs": [],
   "source": []
  },
  {
   "cell_type": "code",
   "execution_count": 48,
   "metadata": {},
   "outputs": [],
   "source": [
    "fights['guess'] = fights.apply(lambda row: 'r' if row.r_wldiff_pct > row.b_wldiff_pct else ('b' if row.r_wldiff_pct < row.b_wldiff_pct else np.random.choice(['r', 'b'])), axis=1)"
   ]
  },
  {
   "cell_type": "code",
   "execution_count": 49,
   "metadata": {},
   "outputs": [
    {
     "data": {
      "text/plain": [
       "0       r\n",
       "1       r\n",
       "2       r\n",
       "3       r\n",
       "4       b\n",
       "       ..\n",
       "4388    b\n",
       "4389    r\n",
       "4390    r\n",
       "4391    r\n",
       "4392    r\n",
       "Name: guess, Length: 4393, dtype: object"
      ]
     },
     "execution_count": 49,
     "metadata": {},
     "output_type": "execute_result"
    }
   ],
   "source": [
    "fights['guess']"
   ]
  },
  {
   "cell_type": "code",
   "execution_count": 50,
   "metadata": {},
   "outputs": [
    {
     "data": {
      "text/plain": [
       "0.5406328249487822"
      ]
     },
     "execution_count": 50,
     "metadata": {},
     "output_type": "execute_result"
    }
   ],
   "source": [
    "accuracy_score(fights.r_b_winner, fights.guess)"
   ]
  },
  {
   "cell_type": "code",
   "execution_count": 51,
   "metadata": {},
   "outputs": [
    {
     "data": {
      "text/plain": [
       "array([[   0,   33,   38],\n",
       "       [   0,  792,  759],\n",
       "       [   0, 1188, 1583]], dtype=int64)"
      ]
     },
     "execution_count": 51,
     "metadata": {},
     "output_type": "execute_result"
    }
   ],
   "source": [
    "confusion_matrix(fights.r_b_winner, fights.guess)"
   ]
  },
  {
   "cell_type": "code",
   "execution_count": 52,
   "metadata": {},
   "outputs": [],
   "source": [
    "def choose_r_or_b(row):\n",
    "    if row.r_wldiff_pct > row.b_wldiff_pct:\n",
    "        return 'r'\n",
    "    elif row.r_wldiff_pct < row.b_wldiff_pct:\n",
    "        return 'b'\n",
    "    else:\n",
    "        return np.random.choice(['r', 'b'])"
   ]
  },
  {
   "cell_type": "code",
   "execution_count": 53,
   "metadata": {},
   "outputs": [],
   "source": [
    "fights['guess'] = fights.apply(choose_r_or_b, axis=1)"
   ]
  },
  {
   "cell_type": "code",
   "execution_count": 54,
   "metadata": {},
   "outputs": [
    {
     "data": {
      "text/plain": [
       "array([[   0,   32,   39],\n",
       "       [   0,  786,  765],\n",
       "       [   0, 1221, 1550]], dtype=int64)"
      ]
     },
     "execution_count": 54,
     "metadata": {},
     "output_type": "execute_result"
    }
   ],
   "source": [
    "confusion_matrix(fights.r_b_winner, fights.guess)"
   ]
  },
  {
   "cell_type": "code",
   "execution_count": 55,
   "metadata": {},
   "outputs": [
    {
     "data": {
      "text/plain": [
       "0.531755064875939"
      ]
     },
     "execution_count": 55,
     "metadata": {},
     "output_type": "execute_result"
    }
   ],
   "source": [
    "accuracy_score(fights.r_b_winner, fights.guess)"
   ]
  },
  {
   "cell_type": "code",
   "execution_count": 56,
   "metadata": {},
   "outputs": [
    {
     "data": {
      "text/plain": [
       "4393"
      ]
     },
     "execution_count": 56,
     "metadata": {},
     "output_type": "execute_result"
    }
   ],
   "source": [
    "fights.guess.value_counts().sum()"
   ]
  },
  {
   "cell_type": "code",
   "execution_count": 57,
   "metadata": {},
   "outputs": [
    {
     "name": "stderr",
     "output_type": "stream",
     "text": [
      "C:\\Users\\paulj_1e1uzlz\\anaconda3\\envs\\tf-gpu\\lib\\site-packages\\seaborn\\_decorators.py:43: FutureWarning: Pass the following variable as a keyword arg: x. From version 0.12, the only valid positional argument will be `data`, and passing other arguments without an explicit keyword will result in an error or misinterpretation.\n",
      "  FutureWarning\n"
     ]
    },
    {
     "data": {
      "text/plain": [
       "<AxesSubplot:xlabel='r_total_fights', ylabel='count'>"
      ]
     },
     "execution_count": 57,
     "metadata": {},
     "output_type": "execute_result"
    },
    {
     "data": {
      "image/png": "[encoded data removed]",
      "text/plain": [
       "<Figure size 432x288 with 1 Axes>"
      ]
     },
     "metadata": {
      "needs_background": "light"
     },
     "output_type": "display_data"
    }
   ],
   "source": [
    "sns.countplot(fights.r_total_fights)"
   ]
  },
  {
   "cell_type": "code",
   "execution_count": 58,
   "metadata": {},
   "outputs": [
    {
     "name": "stderr",
     "output_type": "stream",
     "text": [
      "C:\\Users\\paulj_1e1uzlz\\anaconda3\\envs\\tf-gpu\\lib\\site-packages\\seaborn\\_decorators.py:43: FutureWarning: Pass the following variable as a keyword arg: x. From version 0.12, the only valid positional argument will be `data`, and passing other arguments without an explicit keyword will result in an error or misinterpretation.\n",
      "  FutureWarning\n"
     ]
    },
    {
     "data": {
      "text/plain": [
       "<AxesSubplot:xlabel='b_total_fights', ylabel='count'>"
      ]
     },
     "execution_count": 58,
     "metadata": {},
     "output_type": "execute_result"
    },
    {
     "data": {
      "image/png": "[encoded data removed]",
      "text/plain": [
       "<Figure size 432x288 with 1 Axes>"
      ]
     },
     "metadata": {
      "needs_background": "light"
     },
     "output_type": "display_data"
    }
   ],
   "source": [
    "sns.countplot(fights.b_total_fights)"
   ]
  },
  {
   "cell_type": "code",
   "execution_count": 59,
   "metadata": {},
   "outputs": [
    {
     "data": {
      "text/plain": [
       "Index(['r_fighter', 'b_fighter', 'date', 'loser', 'winner', 'r_prior_wins',\n",
       "       'r_prior_losses', 'r_prior_ties', 'b_prior_wins', 'b_prior_losses',\n",
       "       'b_prior_ties', 'r_total_fights', 'b_total_fights', 'r_win_pct',\n",
       "       'r_loss_pct', 'r_tie_pct', 'b_win_pct', 'b_loss_pct', 'b_tie_pct',\n",
       "       'r_wldiff_pct', 'b_wldiff_pct', 'r_b_winner', 'guess'],\n",
       "      dtype='object')"
      ]
     },
     "execution_count": 59,
     "metadata": {},
     "output_type": "execute_result"
    }
   ],
   "source": [
    "fights.columns"
   ]
  },
  {
   "cell_type": "code",
   "execution_count": 60,
   "metadata": {},
   "outputs": [
    {
     "data": {
      "text/html": [
       "<div>\n",
       "<style scoped>\n",
       "    .dataframe tbody tr th:only-of-type {\n",
       "        vertical-align: middle;\n",
       "    }\n",
       "\n",
       "    .dataframe tbody tr th {\n",
       "        vertical-align: top;\n",
       "    }\n",
       "\n",
       "    .dataframe thead th {\n",
       "        text-align: right;\n",
       "    }\n",
       "</style>\n",
       "<table border=\"1\" class=\"dataframe\">\n",
       "  <thead>\n",
       "    <tr style=\"text-align: right;\">\n",
       "      <th></th>\n",
       "      <th>r_total_fights</th>\n",
       "      <th>b_total_fights</th>\n",
       "      <th>r_b_winner</th>\n",
       "      <th>guess</th>\n",
       "    </tr>\n",
       "  </thead>\n",
       "  <tbody>\n",
       "    <tr>\n",
       "      <th>0</th>\n",
       "      <td>10</td>\n",
       "      <td>5</td>\n",
       "      <td>r</td>\n",
       "      <td>r</td>\n",
       "    </tr>\n",
       "    <tr>\n",
       "      <th>1</th>\n",
       "      <td>5</td>\n",
       "      <td>3</td>\n",
       "      <td>b</td>\n",
       "      <td>r</td>\n",
       "    </tr>\n",
       "    <tr>\n",
       "      <th>2</th>\n",
       "      <td>11</td>\n",
       "      <td>1</td>\n",
       "      <td>b</td>\n",
       "      <td>r</td>\n",
       "    </tr>\n",
       "    <tr>\n",
       "      <th>3</th>\n",
       "      <td>13</td>\n",
       "      <td>4</td>\n",
       "      <td>b</td>\n",
       "      <td>r</td>\n",
       "    </tr>\n",
       "    <tr>\n",
       "      <th>4</th>\n",
       "      <td>10</td>\n",
       "      <td>0</td>\n",
       "      <td>r</td>\n",
       "      <td>r</td>\n",
       "    </tr>\n",
       "    <tr>\n",
       "      <th>...</th>\n",
       "      <td>...</td>\n",
       "      <td>...</td>\n",
       "      <td>...</td>\n",
       "      <td>...</td>\n",
       "    </tr>\n",
       "    <tr>\n",
       "      <th>4388</th>\n",
       "      <td>4</td>\n",
       "      <td>2</td>\n",
       "      <td>r</td>\n",
       "      <td>b</td>\n",
       "    </tr>\n",
       "    <tr>\n",
       "      <th>4389</th>\n",
       "      <td>0</td>\n",
       "      <td>1</td>\n",
       "      <td>r</td>\n",
       "      <td>r</td>\n",
       "    </tr>\n",
       "    <tr>\n",
       "      <th>4390</th>\n",
       "      <td>0</td>\n",
       "      <td>0</td>\n",
       "      <td>r</td>\n",
       "      <td>b</td>\n",
       "    </tr>\n",
       "    <tr>\n",
       "      <th>4391</th>\n",
       "      <td>1</td>\n",
       "      <td>1</td>\n",
       "      <td>r</td>\n",
       "      <td>b</td>\n",
       "    </tr>\n",
       "    <tr>\n",
       "      <th>4392</th>\n",
       "      <td>1</td>\n",
       "      <td>0</td>\n",
       "      <td>r</td>\n",
       "      <td>b</td>\n",
       "    </tr>\n",
       "  </tbody>\n",
       "</table>\n",
       "<p>4393 rows × 4 columns</p>\n",
       "</div>"
      ],
      "text/plain": [
       "      r_total_fights  b_total_fights r_b_winner guess\n",
       "0                 10               5          r     r\n",
       "1                  5               3          b     r\n",
       "2                 11               1          b     r\n",
       "3                 13               4          b     r\n",
       "4                 10               0          r     r\n",
       "...              ...             ...        ...   ...\n",
       "4388               4               2          r     b\n",
       "4389               0               1          r     r\n",
       "4390               0               0          r     b\n",
       "4391               1               1          r     b\n",
       "4392               1               0          r     b\n",
       "\n",
       "[4393 rows x 4 columns]"
      ]
     },
     "execution_count": 60,
     "metadata": {},
     "output_type": "execute_result"
    }
   ],
   "source": [
    "fights[['r_total_fights', 'b_total_fights', 'r_b_winner', 'guess']]"
   ]
  },
  {
   "cell_type": "code",
   "execution_count": 61,
   "metadata": {},
   "outputs": [],
   "source": [
    "def find_confusion_result_for_row(row):\n",
    "    if row.r_b_winner == 'r' and row.guess == 'r':\n",
    "        return 'TP'\n",
    "    elif row.r_b_winner == 'r' and row.guess == 'b':\n",
    "        return 'FP'\n",
    "    elif row.r_b_winner == 'b' and row.guess == 'r':\n",
    "        return 'FN'\n",
    "    elif row.r_b_winner == 'b' and row.guess == 'b':\n",
    "        return 'TN'\n",
    "    else:\n",
    "        return \"I'm totally confused\""
   ]
  },
  {
   "cell_type": "code",
   "execution_count": 62,
   "metadata": {},
   "outputs": [],
   "source": [
    "fights[['guess_result']] = fights.apply(find_confusion_result_for_row, axis=1)"
   ]
  },
  {
   "cell_type": "code",
   "execution_count": 63,
   "metadata": {},
   "outputs": [
    {
     "data": {
      "text/html": [
       "<div>\n",
       "<style scoped>\n",
       "    .dataframe tbody tr th:only-of-type {\n",
       "        vertical-align: middle;\n",
       "    }\n",
       "\n",
       "    .dataframe tbody tr th {\n",
       "        vertical-align: top;\n",
       "    }\n",
       "\n",
       "    .dataframe thead th {\n",
       "        text-align: right;\n",
       "    }\n",
       "</style>\n",
       "<table border=\"1\" class=\"dataframe\">\n",
       "  <thead>\n",
       "    <tr style=\"text-align: right;\">\n",
       "      <th></th>\n",
       "      <th>r_total_fights</th>\n",
       "      <th>b_total_fights</th>\n",
       "      <th>r_b_winner</th>\n",
       "      <th>guess</th>\n",
       "      <th>guess_result</th>\n",
       "    </tr>\n",
       "  </thead>\n",
       "  <tbody>\n",
       "    <tr>\n",
       "      <th>0</th>\n",
       "      <td>10</td>\n",
       "      <td>5</td>\n",
       "      <td>r</td>\n",
       "      <td>r</td>\n",
       "      <td>TP</td>\n",
       "    </tr>\n",
       "    <tr>\n",
       "      <th>1</th>\n",
       "      <td>5</td>\n",
       "      <td>3</td>\n",
       "      <td>b</td>\n",
       "      <td>r</td>\n",
       "      <td>FN</td>\n",
       "    </tr>\n",
       "    <tr>\n",
       "      <th>2</th>\n",
       "      <td>11</td>\n",
       "      <td>1</td>\n",
       "      <td>b</td>\n",
       "      <td>r</td>\n",
       "      <td>FN</td>\n",
       "    </tr>\n",
       "    <tr>\n",
       "      <th>3</th>\n",
       "      <td>13</td>\n",
       "      <td>4</td>\n",
       "      <td>b</td>\n",
       "      <td>r</td>\n",
       "      <td>FN</td>\n",
       "    </tr>\n",
       "    <tr>\n",
       "      <th>4</th>\n",
       "      <td>10</td>\n",
       "      <td>0</td>\n",
       "      <td>r</td>\n",
       "      <td>r</td>\n",
       "      <td>TP</td>\n",
       "    </tr>\n",
       "    <tr>\n",
       "      <th>...</th>\n",
       "      <td>...</td>\n",
       "      <td>...</td>\n",
       "      <td>...</td>\n",
       "      <td>...</td>\n",
       "      <td>...</td>\n",
       "    </tr>\n",
       "    <tr>\n",
       "      <th>4388</th>\n",
       "      <td>4</td>\n",
       "      <td>2</td>\n",
       "      <td>r</td>\n",
       "      <td>b</td>\n",
       "      <td>FP</td>\n",
       "    </tr>\n",
       "    <tr>\n",
       "      <th>4389</th>\n",
       "      <td>0</td>\n",
       "      <td>1</td>\n",
       "      <td>r</td>\n",
       "      <td>r</td>\n",
       "      <td>TP</td>\n",
       "    </tr>\n",
       "    <tr>\n",
       "      <th>4390</th>\n",
       "      <td>0</td>\n",
       "      <td>0</td>\n",
       "      <td>r</td>\n",
       "      <td>b</td>\n",
       "      <td>FP</td>\n",
       "    </tr>\n",
       "    <tr>\n",
       "      <th>4391</th>\n",
       "      <td>1</td>\n",
       "      <td>1</td>\n",
       "      <td>r</td>\n",
       "      <td>b</td>\n",
       "      <td>FP</td>\n",
       "    </tr>\n",
       "    <tr>\n",
       "      <th>4392</th>\n",
       "      <td>1</td>\n",
       "      <td>0</td>\n",
       "      <td>r</td>\n",
       "      <td>b</td>\n",
       "      <td>FP</td>\n",
       "    </tr>\n",
       "  </tbody>\n",
       "</table>\n",
       "<p>4393 rows × 5 columns</p>\n",
       "</div>"
      ],
      "text/plain": [
       "      r_total_fights  b_total_fights r_b_winner guess guess_result\n",
       "0                 10               5          r     r           TP\n",
       "1                  5               3          b     r           FN\n",
       "2                 11               1          b     r           FN\n",
       "3                 13               4          b     r           FN\n",
       "4                 10               0          r     r           TP\n",
       "...              ...             ...        ...   ...          ...\n",
       "4388               4               2          r     b           FP\n",
       "4389               0               1          r     r           TP\n",
       "4390               0               0          r     b           FP\n",
       "4391               1               1          r     b           FP\n",
       "4392               1               0          r     b           FP\n",
       "\n",
       "[4393 rows x 5 columns]"
      ]
     },
     "execution_count": 63,
     "metadata": {},
     "output_type": "execute_result"
    }
   ],
   "source": [
    "fights[['r_total_fights', 'b_total_fights', 'r_b_winner', 'guess', 'guess_result']]"
   ]
  },
  {
   "cell_type": "code",
   "execution_count": 64,
   "metadata": {},
   "outputs": [
    {
     "data": {
      "text/html": [
       "<div>\n",
       "<style scoped>\n",
       "    .dataframe tbody tr th:only-of-type {\n",
       "        vertical-align: middle;\n",
       "    }\n",
       "\n",
       "    .dataframe tbody tr th {\n",
       "        vertical-align: top;\n",
       "    }\n",
       "\n",
       "    .dataframe thead th {\n",
       "        text-align: right;\n",
       "    }\n",
       "</style>\n",
       "<table border=\"1\" class=\"dataframe\">\n",
       "  <thead>\n",
       "    <tr style=\"text-align: right;\">\n",
       "      <th></th>\n",
       "      <th>r_fighter</th>\n",
       "      <th>b_fighter</th>\n",
       "      <th>date</th>\n",
       "      <th>loser</th>\n",
       "      <th>winner</th>\n",
       "      <th>r_prior_wins</th>\n",
       "      <th>r_prior_losses</th>\n",
       "      <th>r_prior_ties</th>\n",
       "      <th>b_prior_wins</th>\n",
       "      <th>b_prior_losses</th>\n",
       "      <th>...</th>\n",
       "      <th>r_tie_pct</th>\n",
       "      <th>b_win_pct</th>\n",
       "      <th>b_loss_pct</th>\n",
       "      <th>b_tie_pct</th>\n",
       "      <th>r_wldiff_pct</th>\n",
       "      <th>b_wldiff_pct</th>\n",
       "      <th>r_b_winner</th>\n",
       "      <th>guess</th>\n",
       "      <th>guess_result</th>\n",
       "      <th>accurate</th>\n",
       "    </tr>\n",
       "  </thead>\n",
       "  <tbody>\n",
       "    <tr>\n",
       "      <th>0</th>\n",
       "      <td>Henry Cejudo</td>\n",
       "      <td>Marlon Moraes</td>\n",
       "      <td>2019-06-08</td>\n",
       "      <td>Marlon Moraes</td>\n",
       "      <td>Henry Cejudo</td>\n",
       "      <td>8</td>\n",
       "      <td>2</td>\n",
       "      <td>0</td>\n",
       "      <td>4</td>\n",
       "      <td>1</td>\n",
       "      <td>...</td>\n",
       "      <td>0.0</td>\n",
       "      <td>0.800000</td>\n",
       "      <td>0.200000</td>\n",
       "      <td>0.0</td>\n",
       "      <td>0.600000</td>\n",
       "      <td>0.600000</td>\n",
       "      <td>r</td>\n",
       "      <td>r</td>\n",
       "      <td>TP</td>\n",
       "      <td>1</td>\n",
       "    </tr>\n",
       "    <tr>\n",
       "      <th>1</th>\n",
       "      <td>Jimmie Rivera</td>\n",
       "      <td>Marlon Moraes</td>\n",
       "      <td>2018-06-01</td>\n",
       "      <td>Jimmie Rivera</td>\n",
       "      <td>Marlon Moraes</td>\n",
       "      <td>5</td>\n",
       "      <td>0</td>\n",
       "      <td>0</td>\n",
       "      <td>2</td>\n",
       "      <td>1</td>\n",
       "      <td>...</td>\n",
       "      <td>0.0</td>\n",
       "      <td>0.666667</td>\n",
       "      <td>0.333333</td>\n",
       "      <td>0.0</td>\n",
       "      <td>1.000000</td>\n",
       "      <td>0.333333</td>\n",
       "      <td>b</td>\n",
       "      <td>r</td>\n",
       "      <td>FN</td>\n",
       "      <td>0</td>\n",
       "    </tr>\n",
       "    <tr>\n",
       "      <th>2</th>\n",
       "      <td>John Dodson</td>\n",
       "      <td>Marlon Moraes</td>\n",
       "      <td>2017-11-11</td>\n",
       "      <td>John Dodson</td>\n",
       "      <td>Marlon Moraes</td>\n",
       "      <td>8</td>\n",
       "      <td>3</td>\n",
       "      <td>0</td>\n",
       "      <td>0</td>\n",
       "      <td>1</td>\n",
       "      <td>...</td>\n",
       "      <td>0.0</td>\n",
       "      <td>0.000000</td>\n",
       "      <td>1.000000</td>\n",
       "      <td>0.0</td>\n",
       "      <td>0.454545</td>\n",
       "      <td>-1.000000</td>\n",
       "      <td>b</td>\n",
       "      <td>r</td>\n",
       "      <td>FN</td>\n",
       "      <td>0</td>\n",
       "    </tr>\n",
       "    <tr>\n",
       "      <th>3</th>\n",
       "      <td>Raphael Assuncao</td>\n",
       "      <td>Marlon Moraes</td>\n",
       "      <td>2019-02-02</td>\n",
       "      <td>Raphael Assuncao</td>\n",
       "      <td>Marlon Moraes</td>\n",
       "      <td>11</td>\n",
       "      <td>2</td>\n",
       "      <td>0</td>\n",
       "      <td>3</td>\n",
       "      <td>1</td>\n",
       "      <td>...</td>\n",
       "      <td>0.0</td>\n",
       "      <td>0.750000</td>\n",
       "      <td>0.250000</td>\n",
       "      <td>0.0</td>\n",
       "      <td>0.692308</td>\n",
       "      <td>0.500000</td>\n",
       "      <td>b</td>\n",
       "      <td>r</td>\n",
       "      <td>FN</td>\n",
       "      <td>0</td>\n",
       "    </tr>\n",
       "    <tr>\n",
       "      <th>4</th>\n",
       "      <td>Raphael Assuncao</td>\n",
       "      <td>Marlon Moraes</td>\n",
       "      <td>2017-06-03</td>\n",
       "      <td>Marlon Moraes</td>\n",
       "      <td>Raphael Assuncao</td>\n",
       "      <td>8</td>\n",
       "      <td>2</td>\n",
       "      <td>0</td>\n",
       "      <td>0</td>\n",
       "      <td>0</td>\n",
       "      <td>...</td>\n",
       "      <td>0.0</td>\n",
       "      <td>NaN</td>\n",
       "      <td>NaN</td>\n",
       "      <td>NaN</td>\n",
       "      <td>0.600000</td>\n",
       "      <td>NaN</td>\n",
       "      <td>r</td>\n",
       "      <td>r</td>\n",
       "      <td>TP</td>\n",
       "      <td>1</td>\n",
       "    </tr>\n",
       "  </tbody>\n",
       "</table>\n",
       "<p>5 rows × 25 columns</p>\n",
       "</div>"
      ],
      "text/plain": [
       "          r_fighter      b_fighter       date             loser  \\\n",
       "0      Henry Cejudo  Marlon Moraes 2019-06-08     Marlon Moraes   \n",
       "1     Jimmie Rivera  Marlon Moraes 2018-06-01     Jimmie Rivera   \n",
       "2       John Dodson  Marlon Moraes 2017-11-11       John Dodson   \n",
       "3  Raphael Assuncao  Marlon Moraes 2019-02-02  Raphael Assuncao   \n",
       "4  Raphael Assuncao  Marlon Moraes 2017-06-03     Marlon Moraes   \n",
       "\n",
       "             winner  r_prior_wins  r_prior_losses  r_prior_ties  b_prior_wins  \\\n",
       "0      Henry Cejudo             8               2             0             4   \n",
       "1     Marlon Moraes             5               0             0             2   \n",
       "2     Marlon Moraes             8               3             0             0   \n",
       "3     Marlon Moraes            11               2             0             3   \n",
       "4  Raphael Assuncao             8               2             0             0   \n",
       "\n",
       "   b_prior_losses  ...  r_tie_pct  b_win_pct  b_loss_pct  b_tie_pct  \\\n",
       "0               1  ...        0.0   0.800000    0.200000        0.0   \n",
       "1               1  ...        0.0   0.666667    0.333333        0.0   \n",
       "2               1  ...        0.0   0.000000    1.000000        0.0   \n",
       "3               1  ...        0.0   0.750000    0.250000        0.0   \n",
       "4               0  ...        0.0        NaN         NaN        NaN   \n",
       "\n",
       "   r_wldiff_pct  b_wldiff_pct  r_b_winner  guess  guess_result  accurate  \n",
       "0      0.600000      0.600000           r      r            TP         1  \n",
       "1      1.000000      0.333333           b      r            FN         0  \n",
       "2      0.454545     -1.000000           b      r            FN         0  \n",
       "3      0.692308      0.500000           b      r            FN         0  \n",
       "4      0.600000           NaN           r      r            TP         1  \n",
       "\n",
       "[5 rows x 25 columns]"
      ]
     },
     "execution_count": 64,
     "metadata": {},
     "output_type": "execute_result"
    }
   ],
   "source": [
    "fights[['accurate']] = fights.apply(lambda row: 1 if row.guess_result in ['TP', 'TN'] else 0, axis=1)\n",
    "fights.head()"
   ]
  },
  {
   "cell_type": "code",
   "execution_count": 65,
   "metadata": {},
   "outputs": [
    {
     "data": {
      "text/html": [
       "<div>\n",
       "<style scoped>\n",
       "    .dataframe tbody tr th:only-of-type {\n",
       "        vertical-align: middle;\n",
       "    }\n",
       "\n",
       "    .dataframe tbody tr th {\n",
       "        vertical-align: top;\n",
       "    }\n",
       "\n",
       "    .dataframe thead th {\n",
       "        text-align: right;\n",
       "    }\n",
       "</style>\n",
       "<table border=\"1\" class=\"dataframe\">\n",
       "  <thead>\n",
       "    <tr style=\"text-align: right;\">\n",
       "      <th></th>\n",
       "      <th>r_total_fights</th>\n",
       "      <th>b_total_fights</th>\n",
       "      <th>r_b_winner</th>\n",
       "      <th>guess</th>\n",
       "      <th>guess_result</th>\n",
       "      <th>accurate</th>\n",
       "    </tr>\n",
       "  </thead>\n",
       "  <tbody>\n",
       "    <tr>\n",
       "      <th>0</th>\n",
       "      <td>10</td>\n",
       "      <td>5</td>\n",
       "      <td>r</td>\n",
       "      <td>r</td>\n",
       "      <td>TP</td>\n",
       "      <td>1</td>\n",
       "    </tr>\n",
       "    <tr>\n",
       "      <th>1</th>\n",
       "      <td>5</td>\n",
       "      <td>3</td>\n",
       "      <td>b</td>\n",
       "      <td>r</td>\n",
       "      <td>FN</td>\n",
       "      <td>0</td>\n",
       "    </tr>\n",
       "    <tr>\n",
       "      <th>2</th>\n",
       "      <td>11</td>\n",
       "      <td>1</td>\n",
       "      <td>b</td>\n",
       "      <td>r</td>\n",
       "      <td>FN</td>\n",
       "      <td>0</td>\n",
       "    </tr>\n",
       "    <tr>\n",
       "      <th>3</th>\n",
       "      <td>13</td>\n",
       "      <td>4</td>\n",
       "      <td>b</td>\n",
       "      <td>r</td>\n",
       "      <td>FN</td>\n",
       "      <td>0</td>\n",
       "    </tr>\n",
       "    <tr>\n",
       "      <th>4</th>\n",
       "      <td>10</td>\n",
       "      <td>0</td>\n",
       "      <td>r</td>\n",
       "      <td>r</td>\n",
       "      <td>TP</td>\n",
       "      <td>1</td>\n",
       "    </tr>\n",
       "    <tr>\n",
       "      <th>...</th>\n",
       "      <td>...</td>\n",
       "      <td>...</td>\n",
       "      <td>...</td>\n",
       "      <td>...</td>\n",
       "      <td>...</td>\n",
       "      <td>...</td>\n",
       "    </tr>\n",
       "    <tr>\n",
       "      <th>4388</th>\n",
       "      <td>4</td>\n",
       "      <td>2</td>\n",
       "      <td>r</td>\n",
       "      <td>b</td>\n",
       "      <td>FP</td>\n",
       "      <td>0</td>\n",
       "    </tr>\n",
       "    <tr>\n",
       "      <th>4389</th>\n",
       "      <td>0</td>\n",
       "      <td>1</td>\n",
       "      <td>r</td>\n",
       "      <td>r</td>\n",
       "      <td>TP</td>\n",
       "      <td>1</td>\n",
       "    </tr>\n",
       "    <tr>\n",
       "      <th>4390</th>\n",
       "      <td>0</td>\n",
       "      <td>0</td>\n",
       "      <td>r</td>\n",
       "      <td>b</td>\n",
       "      <td>FP</td>\n",
       "      <td>0</td>\n",
       "    </tr>\n",
       "    <tr>\n",
       "      <th>4391</th>\n",
       "      <td>1</td>\n",
       "      <td>1</td>\n",
       "      <td>r</td>\n",
       "      <td>b</td>\n",
       "      <td>FP</td>\n",
       "      <td>0</td>\n",
       "    </tr>\n",
       "    <tr>\n",
       "      <th>4392</th>\n",
       "      <td>1</td>\n",
       "      <td>0</td>\n",
       "      <td>r</td>\n",
       "      <td>b</td>\n",
       "      <td>FP</td>\n",
       "      <td>0</td>\n",
       "    </tr>\n",
       "  </tbody>\n",
       "</table>\n",
       "<p>4393 rows × 6 columns</p>\n",
       "</div>"
      ],
      "text/plain": [
       "      r_total_fights  b_total_fights r_b_winner guess guess_result  accurate\n",
       "0                 10               5          r     r           TP         1\n",
       "1                  5               3          b     r           FN         0\n",
       "2                 11               1          b     r           FN         0\n",
       "3                 13               4          b     r           FN         0\n",
       "4                 10               0          r     r           TP         1\n",
       "...              ...             ...        ...   ...          ...       ...\n",
       "4388               4               2          r     b           FP         0\n",
       "4389               0               1          r     r           TP         1\n",
       "4390               0               0          r     b           FP         0\n",
       "4391               1               1          r     b           FP         0\n",
       "4392               1               0          r     b           FP         0\n",
       "\n",
       "[4393 rows x 6 columns]"
      ]
     },
     "execution_count": 65,
     "metadata": {},
     "output_type": "execute_result"
    }
   ],
   "source": [
    "fights[['r_total_fights', 'b_total_fights', 'r_b_winner', 'guess', 'guess_result', 'accurate']]"
   ]
  },
  {
   "cell_type": "code",
   "execution_count": 66,
   "metadata": {},
   "outputs": [
    {
     "data": {
      "text/html": [
       "<div>\n",
       "<style scoped>\n",
       "    .dataframe tbody tr th:only-of-type {\n",
       "        vertical-align: middle;\n",
       "    }\n",
       "\n",
       "    .dataframe tbody tr th {\n",
       "        vertical-align: top;\n",
       "    }\n",
       "\n",
       "    .dataframe thead th {\n",
       "        text-align: right;\n",
       "    }\n",
       "</style>\n",
       "<table border=\"1\" class=\"dataframe\">\n",
       "  <thead>\n",
       "    <tr style=\"text-align: right;\">\n",
       "      <th></th>\n",
       "      <th>r_total_fights</th>\n",
       "      <th>b_total_fights</th>\n",
       "      <th>r_b_winner</th>\n",
       "      <th>guess</th>\n",
       "      <th>guess_result</th>\n",
       "      <th>accurate</th>\n",
       "    </tr>\n",
       "  </thead>\n",
       "  <tbody>\n",
       "    <tr>\n",
       "      <th>867</th>\n",
       "      <td>0</td>\n",
       "      <td>1</td>\n",
       "      <td>b</td>\n",
       "      <td>b</td>\n",
       "      <td>TN</td>\n",
       "      <td>1</td>\n",
       "    </tr>\n",
       "    <tr>\n",
       "      <th>3235</th>\n",
       "      <td>0</td>\n",
       "      <td>0</td>\n",
       "      <td>b</td>\n",
       "      <td>r</td>\n",
       "      <td>FN</td>\n",
       "      <td>0</td>\n",
       "    </tr>\n",
       "    <tr>\n",
       "      <th>4195</th>\n",
       "      <td>0</td>\n",
       "      <td>0</td>\n",
       "      <td>r</td>\n",
       "      <td>r</td>\n",
       "      <td>TP</td>\n",
       "      <td>1</td>\n",
       "    </tr>\n",
       "    <tr>\n",
       "      <th>3234</th>\n",
       "      <td>0</td>\n",
       "      <td>6</td>\n",
       "      <td>b</td>\n",
       "      <td>b</td>\n",
       "      <td>TN</td>\n",
       "      <td>1</td>\n",
       "    </tr>\n",
       "    <tr>\n",
       "      <th>3231</th>\n",
       "      <td>0</td>\n",
       "      <td>0</td>\n",
       "      <td>r</td>\n",
       "      <td>b</td>\n",
       "      <td>FP</td>\n",
       "      <td>0</td>\n",
       "    </tr>\n",
       "  </tbody>\n",
       "</table>\n",
       "</div>"
      ],
      "text/plain": [
       "      r_total_fights  b_total_fights r_b_winner guess guess_result  accurate\n",
       "867                0               1          b     b           TN         1\n",
       "3235               0               0          b     r           FN         0\n",
       "4195               0               0          r     r           TP         1\n",
       "3234               0               6          b     b           TN         1\n",
       "3231               0               0          r     b           FP         0"
      ]
     },
     "execution_count": 66,
     "metadata": {},
     "output_type": "execute_result"
    }
   ],
   "source": [
    "fr = fights.sort_values('r_total_fights')\n",
    "fr.head()[['r_total_fights', 'b_total_fights', 'r_b_winner', 'guess', 'guess_result', 'accurate']]"
   ]
  },
  {
   "cell_type": "code",
   "execution_count": 67,
   "metadata": {},
   "outputs": [
    {
     "data": {
      "text/html": [
       "<div>\n",
       "<style scoped>\n",
       "    .dataframe tbody tr th:only-of-type {\n",
       "        vertical-align: middle;\n",
       "    }\n",
       "\n",
       "    .dataframe tbody tr th {\n",
       "        vertical-align: top;\n",
       "    }\n",
       "\n",
       "    .dataframe thead th {\n",
       "        text-align: right;\n",
       "    }\n",
       "</style>\n",
       "<table border=\"1\" class=\"dataframe\">\n",
       "  <thead>\n",
       "    <tr style=\"text-align: right;\">\n",
       "      <th></th>\n",
       "      <th>r_total_fights</th>\n",
       "      <th>b_total_fights</th>\n",
       "      <th>r_b_winner</th>\n",
       "      <th>guess</th>\n",
       "      <th>guess_result</th>\n",
       "      <th>accurate</th>\n",
       "    </tr>\n",
       "  </thead>\n",
       "  <tbody>\n",
       "    <tr>\n",
       "      <th>2196</th>\n",
       "      <td>6</td>\n",
       "      <td>0</td>\n",
       "      <td>b</td>\n",
       "      <td>r</td>\n",
       "      <td>FN</td>\n",
       "      <td>0</td>\n",
       "    </tr>\n",
       "    <tr>\n",
       "      <th>2369</th>\n",
       "      <td>0</td>\n",
       "      <td>0</td>\n",
       "      <td>b</td>\n",
       "      <td>b</td>\n",
       "      <td>TN</td>\n",
       "      <td>1</td>\n",
       "    </tr>\n",
       "    <tr>\n",
       "      <th>2365</th>\n",
       "      <td>0</td>\n",
       "      <td>0</td>\n",
       "      <td>b</td>\n",
       "      <td>b</td>\n",
       "      <td>TN</td>\n",
       "      <td>1</td>\n",
       "    </tr>\n",
       "    <tr>\n",
       "      <th>2357</th>\n",
       "      <td>7</td>\n",
       "      <td>0</td>\n",
       "      <td>r</td>\n",
       "      <td>b</td>\n",
       "      <td>FP</td>\n",
       "      <td>0</td>\n",
       "    </tr>\n",
       "    <tr>\n",
       "      <th>2354</th>\n",
       "      <td>2</td>\n",
       "      <td>0</td>\n",
       "      <td>r</td>\n",
       "      <td>b</td>\n",
       "      <td>FP</td>\n",
       "      <td>0</td>\n",
       "    </tr>\n",
       "  </tbody>\n",
       "</table>\n",
       "</div>"
      ],
      "text/plain": [
       "      r_total_fights  b_total_fights r_b_winner guess guess_result  accurate\n",
       "2196               6               0          b     r           FN         0\n",
       "2369               0               0          b     b           TN         1\n",
       "2365               0               0          b     b           TN         1\n",
       "2357               7               0          r     b           FP         0\n",
       "2354               2               0          r     b           FP         0"
      ]
     },
     "execution_count": 67,
     "metadata": {},
     "output_type": "execute_result"
    }
   ],
   "source": [
    "fb = fights.sort_values('b_total_fights')\n",
    "fb[['r_total_fights', 'b_total_fights', 'r_b_winner', 'guess', 'guess_result', 'accurate']].head()"
   ]
  },
  {
   "cell_type": "code",
   "execution_count": 68,
   "metadata": {},
   "outputs": [],
   "source": [
    "#fights.groupby('r_total_fights').mean()['accurate']"
   ]
  },
  {
   "cell_type": "code",
   "execution_count": 69,
   "metadata": {},
   "outputs": [],
   "source": [
    "#fights.groupby('r_total_fights').sum()['accurate'] / fights.groupby('r_total_fights').count()['r_fighter']"
   ]
  },
  {
   "cell_type": "code",
   "execution_count": 70,
   "metadata": {},
   "outputs": [
    {
     "data": {
      "text/plain": [
       "True"
      ]
     },
     "execution_count": 70,
     "metadata": {},
     "output_type": "execute_result"
    }
   ],
   "source": [
    "(fights.groupby('r_total_fights').sum()['accurate'] / fights.groupby('r_total_fights').count()['r_fighter'] != fights.groupby('r_total_fights').mean()['accurate']).sum() == 0"
   ]
  },
  {
   "cell_type": "code",
   "execution_count": 71,
   "metadata": {},
   "outputs": [
    {
     "data": {
      "text/plain": [
       "True"
      ]
     },
     "execution_count": 71,
     "metadata": {},
     "output_type": "execute_result"
    }
   ],
   "source": [
    "(fights.groupby('b_total_fights').sum()['accurate'] / fights.groupby('b_total_fights').count()['b_fighter'] != fights.groupby('b_total_fights').mean()['accurate']).sum() == 0"
   ]
  },
  {
   "cell_type": "markdown",
   "metadata": {},
   "source": [
    "fights.groupby('b_total_fights').mean()['accurate'] is the same as fights.groupby('b_total_fights').sum()['accurate'] / fights.groupby('b_total_fights').count()['b_fighter']\n",
    "mean() does take the mean of that group.\n",
    "So use mean() instead of the sum and then dividing by the count."
   ]
  },
  {
   "cell_type": "code",
   "execution_count": 72,
   "metadata": {},
   "outputs": [
    {
     "data": {
      "text/plain": [
       "r_total_fights\n",
       "0     470\n",
       "1     571\n",
       "2     545\n",
       "3     417\n",
       "4     346\n",
       "5     305\n",
       "6     274\n",
       "7     224\n",
       "8     208\n",
       "9     176\n",
       "10    154\n",
       "11    114\n",
       "12    109\n",
       "13     97\n",
       "14     78\n",
       "15     68\n",
       "16     49\n",
       "17     44\n",
       "18     38\n",
       "19     30\n",
       "20     17\n",
       "21     15\n",
       "22     13\n",
       "23      7\n",
       "24      4\n",
       "25      4\n",
       "26      6\n",
       "27      6\n",
       "28      3\n",
       "29      1\n",
       "Name: r_fighter, dtype: int64"
      ]
     },
     "execution_count": 72,
     "metadata": {},
     "output_type": "execute_result"
    }
   ],
   "source": [
    "fights.groupby('r_total_fights').count()['r_fighter']"
   ]
  },
  {
   "cell_type": "code",
   "execution_count": 73,
   "metadata": {},
   "outputs": [],
   "source": [
    "#fights.groupby('b_total_fights').sum()['accurate'] / fights.groupby('b_total_fights').count()['b_fighter']"
   ]
  },
  {
   "cell_type": "code",
   "execution_count": 74,
   "metadata": {},
   "outputs": [
    {
     "data": {
      "text/plain": [
       "b_total_fights\n",
       "0     953\n",
       "1     713\n",
       "2     512\n",
       "3     448\n",
       "4     344\n",
       "5     282\n",
       "6     216\n",
       "7     185\n",
       "8     140\n",
       "9     113\n",
       "10     96\n",
       "11     84\n",
       "12     59\n",
       "13     40\n",
       "14     39\n",
       "15     30\n",
       "16     31\n",
       "17     24\n",
       "18     21\n",
       "19     13\n",
       "20     14\n",
       "21     10\n",
       "22      5\n",
       "23      6\n",
       "24      5\n",
       "25      5\n",
       "26      2\n",
       "29      1\n",
       "30      1\n",
       "31      1\n",
       "Name: b_fighter, dtype: int64"
      ]
     },
     "execution_count": 74,
     "metadata": {},
     "output_type": "execute_result"
    }
   ],
   "source": [
    "fights.groupby('b_total_fights').count()['b_fighter']"
   ]
  },
  {
   "cell_type": "code",
   "execution_count": 75,
   "metadata": {},
   "outputs": [
    {
     "data": {
      "text/plain": [
       "b_total_fights\n",
       "0     0.501574\n",
       "1     0.493689\n",
       "2     0.546875\n",
       "3     0.517857\n",
       "4     0.561047\n",
       "5     0.578014\n",
       "6     0.597222\n",
       "7     0.545946\n",
       "8     0.550000\n",
       "9     0.566372\n",
       "10    0.520833\n",
       "11    0.476190\n",
       "12    0.559322\n",
       "13    0.575000\n",
       "14    0.641026\n",
       "15    0.533333\n",
       "16    0.580645\n",
       "17    0.625000\n",
       "18    0.666667\n",
       "19    0.538462\n",
       "20    0.642857\n",
       "21    0.700000\n",
       "22    0.400000\n",
       "23    0.500000\n",
       "24    0.200000\n",
       "25    0.400000\n",
       "26    0.500000\n",
       "29    0.000000\n",
       "30    0.000000\n",
       "31    1.000000\n",
       "Name: accurate, dtype: float64"
      ]
     },
     "execution_count": 75,
     "metadata": {},
     "output_type": "execute_result"
    }
   ],
   "source": [
    "fights.groupby('b_total_fights').mean()['accurate']"
   ]
  },
  {
   "cell_type": "code",
   "execution_count": 76,
   "metadata": {},
   "outputs": [],
   "source": [
    "r_accuracy = fights.groupby('r_total_fights').mean()['accurate']\n",
    "b_accuracy = fights.groupby('b_total_fights').mean()['accurate']"
   ]
  },
  {
   "cell_type": "code",
   "execution_count": 77,
   "metadata": {},
   "outputs": [],
   "source": [
    "# sns.lineplot(r_accuracy, x='r_total_fights', y='index')"
   ]
  },
  {
   "cell_type": "code",
   "execution_count": 78,
   "metadata": {},
   "outputs": [
    {
     "name": "stderr",
     "output_type": "stream",
     "text": [
      "C:\\Users\\paulj_1e1uzlz\\anaconda3\\envs\\tf-gpu\\lib\\site-packages\\seaborn\\_decorators.py:43: FutureWarning: Pass the following variables as keyword args: x, y. From version 0.12, the only valid positional argument will be `data`, and passing other arguments without an explicit keyword will result in an error or misinterpretation.\n",
      "  FutureWarning\n"
     ]
    },
    {
     "data": {
      "text/plain": [
       "<AxesSubplot:xlabel='r_total_fights', ylabel='accurate'>"
      ]
     },
     "execution_count": 78,
     "metadata": {},
     "output_type": "execute_result"
    },
    {
     "data": {
      "image/png": "[encoded data removed]",
      "text/plain": [
       "<Figure size 432x288 with 1 Axes>"
      ]
     },
     "metadata": {
      "needs_background": "light"
     },
     "output_type": "display_data"
    }
   ],
   "source": [
    "sns.lineplot(fights.r_total_fights, fights.accurate)"
   ]
  },
  {
   "cell_type": "code",
   "execution_count": 79,
   "metadata": {},
   "outputs": [
    {
     "name": "stderr",
     "output_type": "stream",
     "text": [
      "C:\\Users\\paulj_1e1uzlz\\anaconda3\\envs\\tf-gpu\\lib\\site-packages\\seaborn\\_decorators.py:43: FutureWarning: Pass the following variables as keyword args: x, y. From version 0.12, the only valid positional argument will be `data`, and passing other arguments without an explicit keyword will result in an error or misinterpretation.\n",
      "  FutureWarning\n"
     ]
    },
    {
     "data": {
      "text/plain": [
       "<AxesSubplot:xlabel='r_total_fights'>"
      ]
     },
     "execution_count": 79,
     "metadata": {},
     "output_type": "execute_result"
    },
    {
     "data": {
      "image/png": "[encoded data removed]",
      "text/plain": [
       "<Figure size 432x288 with 1 Axes>"
      ]
     },
     "metadata": {
      "needs_background": "light"
     },
     "output_type": "display_data"
    }
   ],
   "source": [
    "sns.lineplot(r_accuracy.index, r_accuracy.values)"
   ]
  },
  {
   "cell_type": "code",
   "execution_count": 80,
   "metadata": {},
   "outputs": [
    {
     "name": "stderr",
     "output_type": "stream",
     "text": [
      "C:\\Users\\paulj_1e1uzlz\\anaconda3\\envs\\tf-gpu\\lib\\site-packages\\seaborn\\_decorators.py:43: FutureWarning: Pass the following variables as keyword args: x, y. From version 0.12, the only valid positional argument will be `data`, and passing other arguments without an explicit keyword will result in an error or misinterpretation.\n",
      "  FutureWarning\n"
     ]
    },
    {
     "data": {
      "text/plain": [
       "<AxesSubplot:xlabel='b_total_fights', ylabel='accurate'>"
      ]
     },
     "execution_count": 80,
     "metadata": {},
     "output_type": "execute_result"
    },
    {
     "data": {
      "image/png": "[encoded data removed]",
      "text/plain": [
       "<Figure size 432x288 with 1 Axes>"
      ]
     },
     "metadata": {
      "needs_background": "light"
     },
     "output_type": "display_data"
    }
   ],
   "source": [
    "sns.lineplot(fights.b_total_fights, fights.accurate)"
   ]
  },
  {
   "cell_type": "code",
   "execution_count": 81,
   "metadata": {},
   "outputs": [
    {
     "name": "stderr",
     "output_type": "stream",
     "text": [
      "C:\\Users\\paulj_1e1uzlz\\anaconda3\\envs\\tf-gpu\\lib\\site-packages\\seaborn\\_decorators.py:43: FutureWarning: Pass the following variables as keyword args: x, y. From version 0.12, the only valid positional argument will be `data`, and passing other arguments without an explicit keyword will result in an error or misinterpretation.\n",
      "  FutureWarning\n"
     ]
    },
    {
     "data": {
      "text/plain": [
       "<AxesSubplot:xlabel='b_total_fights'>"
      ]
     },
     "execution_count": 81,
     "metadata": {},
     "output_type": "execute_result"
    },
    {
     "data": {
      "image/png": "[encoded data removed]",
      "text/plain": [
       "<Figure size 432x288 with 1 Axes>"
      ]
     },
     "metadata": {
      "needs_background": "light"
     },
     "output_type": "display_data"
    }
   ],
   "source": [
    "sns.lineplot(b_accuracy.index, b_accuracy.values)"
   ]
  },
  {
   "cell_type": "markdown",
   "metadata": {},
   "source": [
    "It would seem that sns.lineplot(fights.r_total_fights, fights.accurate) and sns.lineplot(r_accuracy.index, r_accuracy.values) give me the same line, although the way the graph is done is slightly different."
   ]
  },
  {
   "cell_type": "code",
   "execution_count": 82,
   "metadata": {},
   "outputs": [
    {
     "name": "stderr",
     "output_type": "stream",
     "text": [
      "C:\\Users\\paulj_1e1uzlz\\anaconda3\\envs\\tf-gpu\\lib\\site-packages\\seaborn\\_decorators.py:43: FutureWarning: Pass the following variables as keyword args: x, y. From version 0.12, the only valid positional argument will be `data`, and passing other arguments without an explicit keyword will result in an error or misinterpretation.\n",
      "  FutureWarning\n"
     ]
    },
    {
     "data": {
      "text/plain": [
       "<AxesSubplot:xlabel='date', ylabel='accurate'>"
      ]
     },
     "execution_count": 82,
     "metadata": {},
     "output_type": "execute_result"
    },
    {
     "data": {
      "image/png": "[encoded data removed]",
      "text/plain": [
       "<Figure size 432x288 with 1 Axes>"
      ]
     },
     "metadata": {
      "needs_background": "light"
     },
     "output_type": "display_data"
    }
   ],
   "source": [
    "sns.lineplot(fights.date, fights.accurate)"
   ]
  },
  {
   "cell_type": "markdown",
   "metadata": {},
   "source": [
    "The date does not seem to have much or any effect on the accuracy of this prediction."
   ]
  },
  {
   "cell_type": "code",
   "execution_count": 83,
   "metadata": {},
   "outputs": [
    {
     "data": {
      "text/plain": [
       "(801, 25)"
      ]
     },
     "execution_count": 83,
     "metadata": {},
     "output_type": "execute_result"
    }
   ],
   "source": [
    "f2 = fights[(fights.r_total_fights > 5) & (fights.b_total_fights > 5)]\n",
    "f2.shape"
   ]
  },
  {
   "cell_type": "code",
   "execution_count": 84,
   "metadata": {},
   "outputs": [
    {
     "name": "stdout",
     "output_type": "stream",
     "text": [
      "prediction with 0, 0, 0\n",
      "0.5430711610486891\n",
      "[[  0   7   7]\n",
      " [  0 145 158]\n",
      " [  0 194 290]]\n"
     ]
    }
   ],
   "source": [
    "fighters_cleanser.predict(f2, 0, 0, 0)"
   ]
  },
  {
   "cell_type": "markdown",
   "metadata": {},
   "source": [
    "Let's try restricting the dataset to those who have a minimum number of fights in their record already.  For now, we won't do any \"fictitious fights\"."
   ]
  },
  {
   "cell_type": "code",
   "execution_count": 85,
   "metadata": {},
   "outputs": [
    {
     "name": "stdout",
     "output_type": "stream",
     "text": [
      "prediction with 0, 0, 0\n",
      "0.5404242237934215\n",
      "[[   0   20   31]\n",
      " [   0  600  590]\n",
      " [   0  854 1158]]\n",
      "prediction with 0, 0, 0\n",
      "0.551926298157454\n",
      "[[  0  15  18]\n",
      " [  0 455 444]\n",
      " [  0 593 863]]\n",
      "prediction with 0, 0, 0\n",
      "0.5497762863534675\n",
      "[[  0  11  18]\n",
      " [  0 340 334]\n",
      " [  0 442 643]]\n",
      "prediction with 0, 0, 0\n",
      "0.5592972181551976\n",
      "[[  0   9  10]\n",
      " [  0 275 254]\n",
      " [  0 329 489]]\n",
      "prediction with 0, 0, 0\n",
      "0.5546139359698682\n",
      "[[  0   7  10]\n",
      " [  0 207 198]\n",
      " [  0 258 382]]\n",
      "prediction with 0, 0, 0\n",
      "0.5568039950062422\n",
      "[[  0   7   7]\n",
      " [  0 147 156]\n",
      " [  0 185 299]]\n",
      "prediction with 0, 0, 0\n",
      "0.5441412520064205\n",
      "[[  0   6   8]\n",
      " [  0 110 125]\n",
      " [  0 145 229]]\n",
      "prediction with 0, 0, 0\n",
      "0.546236559139785\n",
      "[[  0   4   6]\n",
      " [  0  79  99]\n",
      " [  0 102 175]]\n",
      "prediction with 0, 0, 0\n",
      "0.5415472779369628\n",
      "[[  0   3   4]\n",
      " [  0  61  79]\n",
      " [  0  74 128]]\n",
      "prediction with 0, 0, 0\n",
      "0.532258064516129\n",
      "[[ 0  2  4]\n",
      " [ 0 38 60]\n",
      " [ 0 50 94]]\n",
      "prediction with 0, 0, 0\n",
      "0.546583850931677\n",
      "[[ 0  1  2]\n",
      " [ 0 28 38]\n",
      " [ 0 32 60]]\n",
      "prediction with 0, 0, 0\n",
      "0.6\n",
      "[[ 0  1  0]\n",
      " [ 0 22 26]\n",
      " [ 0 17 44]]\n",
      "prediction with 0, 0, 0\n",
      "0.6075949367088608\n",
      "[[ 0  1  0]\n",
      " [ 0 19 16]\n",
      " [ 0 14 29]]\n",
      "prediction with 0, 0, 0\n",
      "0.55\n",
      "[[ 0  1  0]\n",
      " [ 0 13 15]\n",
      " [ 0 11 20]]\n",
      "prediction with 0, 0, 0\n",
      "0.5454545454545454\n",
      "[[11 13]\n",
      " [ 7 13]]\n",
      "prediction with 0, 0, 0\n",
      "0.5151515151515151\n",
      "[[ 8 10]\n",
      " [ 6  9]]\n",
      "prediction with 0, 0, 0\n",
      "0.56\n",
      "[[8 5]\n",
      " [6 6]]\n",
      "prediction with 0, 0, 0\n",
      "0.5217391304347826\n",
      "[[6 5]\n",
      " [6 6]]\n",
      "prediction with 0, 0, 0\n",
      "0.5294117647058824\n",
      "[[5 3]\n",
      " [5 4]]\n",
      "prediction with 0, 0, 0\n",
      "0.5555555555555556\n",
      "[[4 1]\n",
      " [3 1]]\n",
      "prediction with 0, 0, 0\n",
      "0.75\n",
      "[[3 0]\n",
      " [1 0]]\n",
      "prediction with 0, 0, 0\n",
      "1.0\n",
      "[[1]]\n"
     ]
    }
   ],
   "source": [
    "min_fights_num = 0\n",
    "fighters_cleanser.predict(fights[(fights.r_total_fights > min_fights_num) & (fights.b_total_fights > min_fights_num)], 0, 0, 0)\n",
    "min_fights_num = 1\n",
    "fighters_cleanser.predict(fights[(fights.r_total_fights > min_fights_num) & (fights.b_total_fights > min_fights_num)], 0, 0, 0)\n",
    "min_fights_num = 2\n",
    "fighters_cleanser.predict(fights[(fights.r_total_fights > min_fights_num) & (fights.b_total_fights > min_fights_num)], 0, 0, 0)\n",
    "min_fights_num = 3\n",
    "fighters_cleanser.predict(fights[(fights.r_total_fights > min_fights_num) & (fights.b_total_fights > min_fights_num)], 0, 0, 0)\n",
    "min_fights_num = 4\n",
    "fighters_cleanser.predict(fights[(fights.r_total_fights > min_fights_num) & (fights.b_total_fights > min_fights_num)], 0, 0, 0)\n",
    "min_fights_num = 5\n",
    "fighters_cleanser.predict(fights[(fights.r_total_fights > min_fights_num) & (fights.b_total_fights > min_fights_num)], 0, 0, 0)\n",
    "min_fights_num = 6\n",
    "fighters_cleanser.predict(fights[(fights.r_total_fights > min_fights_num) & (fights.b_total_fights > min_fights_num)], 0, 0, 0)\n",
    "min_fights_num = 7\n",
    "fighters_cleanser.predict(fights[(fights.r_total_fights > min_fights_num) & (fights.b_total_fights > min_fights_num)], 0, 0, 0)\n",
    "min_fights_num = 8\n",
    "fighters_cleanser.predict(fights[(fights.r_total_fights > min_fights_num) & (fights.b_total_fights > min_fights_num)], 0, 0, 0)\n",
    "min_fights_num = 9\n",
    "fighters_cleanser.predict(fights[(fights.r_total_fights > min_fights_num) & (fights.b_total_fights > min_fights_num)], 0, 0, 0)\n",
    "min_fights_num = 10\n",
    "fighters_cleanser.predict(fights[(fights.r_total_fights > min_fights_num) & (fights.b_total_fights > min_fights_num)], 0, 0, 0)\n",
    "min_fights_num = 11\n",
    "fighters_cleanser.predict(fights[(fights.r_total_fights > min_fights_num) & (fights.b_total_fights > min_fights_num)], 0, 0, 0)\n",
    "min_fights_num = 12\n",
    "fighters_cleanser.predict(fights[(fights.r_total_fights > min_fights_num) & (fights.b_total_fights > min_fights_num)], 0, 0, 0)\n",
    "min_fights_num = 13\n",
    "fighters_cleanser.predict(fights[(fights.r_total_fights > min_fights_num) & (fights.b_total_fights > min_fights_num)], 0, 0, 0)\n",
    "min_fights_num = 14\n",
    "fighters_cleanser.predict(fights[(fights.r_total_fights > min_fights_num) & (fights.b_total_fights > min_fights_num)], 0, 0, 0)\n",
    "min_fights_num = 15\n",
    "fighters_cleanser.predict(fights[(fights.r_total_fights > min_fights_num) & (fights.b_total_fights > min_fights_num)], 0, 0, 0)\n",
    "min_fights_num = 16\n",
    "fighters_cleanser.predict(fights[(fights.r_total_fights > min_fights_num) & (fights.b_total_fights > min_fights_num)], 0, 0, 0)\n",
    "min_fights_num = 17\n",
    "fighters_cleanser.predict(fights[(fights.r_total_fights > min_fights_num) & (fights.b_total_fights > min_fights_num)], 0, 0, 0)\n",
    "min_fights_num = 18\n",
    "fighters_cleanser.predict(fights[(fights.r_total_fights > min_fights_num) & (fights.b_total_fights > min_fights_num)], 0, 0, 0)\n",
    "min_fights_num = 19\n",
    "fighters_cleanser.predict(fights[(fights.r_total_fights > min_fights_num) & (fights.b_total_fights > min_fights_num)], 0, 0, 0)\n",
    "min_fights_num = 20\n",
    "fighters_cleanser.predict(fights[(fights.r_total_fights > min_fights_num) & (fights.b_total_fights > min_fights_num)], 0, 0, 0)\n",
    "min_fights_num = 21\n",
    "fighters_cleanser.predict(fights[(fights.r_total_fights > min_fights_num) & (fights.b_total_fights > min_fights_num)], 0, 0, 0)"
   ]
  },
  {
   "cell_type": "markdown",
   "metadata": {},
   "source": [
    "So the method of using the previous record and restricting to a minimum number of fights can get us better than 50% but at most about 60% and with an decreasing number of fights in which we actually can make predictions.\n",
    "\n",
    "Let's try it with ficticious fights of 4 wins, 4 losses, and 0 ties."
   ]
  },
  {
   "cell_type": "code",
   "execution_count": 86,
   "metadata": {},
   "outputs": [
    {
     "name": "stdout",
     "output_type": "stream",
     "text": [
      "prediction with 4, 4, 0\n",
      "0.5505687058100215\n",
      "[[   0   22   29]\n",
      " [   0  545  645]\n",
      " [   0  766 1246]]\n",
      "prediction with 4, 4, 0\n",
      "0.559463986599665\n",
      "[[  0  15  18]\n",
      " [  0 427 472]\n",
      " [  0 547 909]]\n",
      "prediction with 4, 4, 0\n",
      "0.5536912751677853\n",
      "[[  0  14  15]\n",
      " [  0 311 363]\n",
      " [  0 406 679]]\n",
      "prediction with 4, 4, 0\n",
      "0.5607613469985359\n",
      "[[  0   9  10]\n",
      " [  0 248 281]\n",
      " [  0 300 518]]\n",
      "prediction with 4, 4, 0\n",
      "0.5527306967984934\n",
      "[[  0   9   8]\n",
      " [  0 192 213]\n",
      " [  0 245 395]]\n",
      "prediction with 4, 4, 0\n",
      "0.550561797752809\n",
      "[[  0   7   7]\n",
      " [  0 139 164]\n",
      " [  0 182 302]]\n",
      "prediction with 4, 4, 0\n",
      "0.5425361155698234\n",
      "[[  0   7   7]\n",
      " [  0 105 130]\n",
      " [  0 141 233]]\n",
      "prediction with 4, 4, 0\n",
      "0.5612903225806452\n",
      "[[  0   4   6]\n",
      " [  0  79  99]\n",
      " [  0  95 182]]\n",
      "prediction with 4, 4, 0\n",
      "0.5386819484240688\n",
      "[[  0   3   4]\n",
      " [  0  58  82]\n",
      " [  0  72 130]]\n",
      "prediction with 4, 4, 0\n",
      "0.5443548387096774\n",
      "[[ 0  2  4]\n",
      " [ 0 38 60]\n",
      " [ 0 47 97]]\n",
      "prediction with 4, 4, 0\n",
      "0.5962732919254659\n",
      "[[ 0  1  2]\n",
      " [ 0 30 36]\n",
      " [ 0 26 66]]\n",
      "prediction with 4, 4, 0\n",
      "0.6272727272727273\n",
      "[[ 0  1  0]\n",
      " [ 0 25 23]\n",
      " [ 0 17 44]]\n",
      "prediction with 4, 4, 0\n",
      "0.5949367088607594\n",
      "[[ 0  1  0]\n",
      " [ 0 18 17]\n",
      " [ 0 14 29]]\n",
      "prediction with 4, 4, 0\n",
      "0.6\n",
      "[[ 0  1  0]\n",
      " [ 0 16 12]\n",
      " [ 0 11 20]]\n",
      "prediction with 4, 4, 0\n",
      "0.5681818181818182\n",
      "[[12 12]\n",
      " [ 7 13]]\n",
      "prediction with 4, 4, 0\n",
      "0.5757575757575758\n",
      "[[10  8]\n",
      " [ 6  9]]\n",
      "prediction with 4, 4, 0\n",
      "0.6\n",
      "[[9 4]\n",
      " [6 6]]\n",
      "prediction with 4, 4, 0\n",
      "0.5217391304347826\n",
      "[[6 5]\n",
      " [6 6]]\n",
      "prediction with 4, 4, 0\n",
      "0.5294117647058824\n",
      "[[5 3]\n",
      " [5 4]]\n",
      "prediction with 4, 4, 0\n",
      "0.5555555555555556\n",
      "[[4 1]\n",
      " [3 1]]\n",
      "prediction with 4, 4, 0\n",
      "0.75\n",
      "[[3 0]\n",
      " [1 0]]\n",
      "prediction with 4, 4, 0\n",
      "1.0\n",
      "[[1]]\n"
     ]
    }
   ],
   "source": [
    "min_fights_num = 0\n",
    "fighters_cleanser.predict(fights[(fights.r_total_fights > min_fights_num) & (fights.b_total_fights > min_fights_num)], 4, 4, 0)\n",
    "min_fights_num = 1\n",
    "fighters_cleanser.predict(fights[(fights.r_total_fights > min_fights_num) & (fights.b_total_fights > min_fights_num)], 4, 4, 0)\n",
    "min_fights_num = 2\n",
    "fighters_cleanser.predict(fights[(fights.r_total_fights > min_fights_num) & (fights.b_total_fights > min_fights_num)], 4, 4, 0)\n",
    "min_fights_num = 3\n",
    "fighters_cleanser.predict(fights[(fights.r_total_fights > min_fights_num) & (fights.b_total_fights > min_fights_num)], 4, 4, 0)\n",
    "min_fights_num = 4\n",
    "fighters_cleanser.predict(fights[(fights.r_total_fights > min_fights_num) & (fights.b_total_fights > min_fights_num)], 4, 4, 0)\n",
    "min_fights_num = 5\n",
    "fighters_cleanser.predict(fights[(fights.r_total_fights > min_fights_num) & (fights.b_total_fights > min_fights_num)], 4, 4, 0)\n",
    "min_fights_num = 6\n",
    "fighters_cleanser.predict(fights[(fights.r_total_fights > min_fights_num) & (fights.b_total_fights > min_fights_num)], 4, 4, 0)\n",
    "min_fights_num = 7\n",
    "fighters_cleanser.predict(fights[(fights.r_total_fights > min_fights_num) & (fights.b_total_fights > min_fights_num)], 4, 4, 0)\n",
    "min_fights_num = 8\n",
    "fighters_cleanser.predict(fights[(fights.r_total_fights > min_fights_num) & (fights.b_total_fights > min_fights_num)], 4, 4, 0)\n",
    "min_fights_num = 9\n",
    "fighters_cleanser.predict(fights[(fights.r_total_fights > min_fights_num) & (fights.b_total_fights > min_fights_num)], 4, 4, 0)\n",
    "min_fights_num = 10\n",
    "fighters_cleanser.predict(fights[(fights.r_total_fights > min_fights_num) & (fights.b_total_fights > min_fights_num)], 4, 4, 0)\n",
    "min_fights_num = 11\n",
    "fighters_cleanser.predict(fights[(fights.r_total_fights > min_fights_num) & (fights.b_total_fights > min_fights_num)], 4, 4, 0)\n",
    "min_fights_num = 12\n",
    "fighters_cleanser.predict(fights[(fights.r_total_fights > min_fights_num) & (fights.b_total_fights > min_fights_num)], 4, 4, 0)\n",
    "min_fights_num = 13\n",
    "fighters_cleanser.predict(fights[(fights.r_total_fights > min_fights_num) & (fights.b_total_fights > min_fights_num)], 4, 4, 0)\n",
    "min_fights_num = 14\n",
    "fighters_cleanser.predict(fights[(fights.r_total_fights > min_fights_num) & (fights.b_total_fights > min_fights_num)], 4, 4, 0)\n",
    "min_fights_num = 15\n",
    "fighters_cleanser.predict(fights[(fights.r_total_fights > min_fights_num) & (fights.b_total_fights > min_fights_num)], 4, 4, 0)\n",
    "min_fights_num = 16\n",
    "fighters_cleanser.predict(fights[(fights.r_total_fights > min_fights_num) & (fights.b_total_fights > min_fights_num)], 4, 4, 0)\n",
    "min_fights_num = 17\n",
    "fighters_cleanser.predict(fights[(fights.r_total_fights > min_fights_num) & (fights.b_total_fights > min_fights_num)], 4, 4, 0)\n",
    "min_fights_num = 18\n",
    "fighters_cleanser.predict(fights[(fights.r_total_fights > min_fights_num) & (fights.b_total_fights > min_fights_num)], 4, 4, 0)\n",
    "min_fights_num = 19\n",
    "fighters_cleanser.predict(fights[(fights.r_total_fights > min_fights_num) & (fights.b_total_fights > min_fights_num)], 4, 4, 0)\n",
    "min_fights_num = 20\n",
    "fighters_cleanser.predict(fights[(fights.r_total_fights > min_fights_num) & (fights.b_total_fights > min_fights_num)], 4, 4, 0)\n",
    "min_fights_num = 21\n",
    "fighters_cleanser.predict(fights[(fights.r_total_fights > min_fights_num) & (fights.b_total_fights > min_fights_num)], 4, 4, 0)"
   ]
  },
  {
   "cell_type": "markdown",
   "metadata": {},
   "source": [
    "A similar story.  Instead of trying with an overwhelmingly large number of combinations, I'll say this road does not look like a promising way of spending my time.  Using this method of prediction does not look like it is going to get us what we want."
   ]
  },
  {
   "cell_type": "code",
   "execution_count": null,
   "metadata": {},
   "outputs": [],
   "source": []
  }
 ],
 "metadata": {
  "kernelspec": {
   "display_name": "Python 3",
   "language": "python",
   "name": "python3"
  },
  "language_info": {
   "codemirror_mode": {
    "name": "ipython",
    "version": 3
   },
   "file_extension": ".py",
   "mimetype": "text/x-python",
   "name": "python",
   "nbconvert_exporter": "python",
   "pygments_lexer": "ipython3",
   "version": "3.7.9"
  }
 },
 "nbformat": 4,
 "nbformat_minor": 4
}
