{
 "cells": [
  {
   "cell_type": "markdown",
   "metadata": {},
   "source": [
    "An analysis of data on UFC matches.\n",
    "\n",
    "In this report, I use Seaborn, Scikitlearn, and Keras to analyse historical data from fights in the UFC, in order to look at the effectiveness of different techniques and train machine learning algorithms to predict the winner of a fight.\n"
   ]
  },
  {
   "cell_type": "code",
   "execution_count": 27,
   "metadata": {},
   "outputs": [
    {
     "ename": "SyntaxError",
     "evalue": "invalid syntax (<ipython-input-27-6284e40881d6>, line 1)",
     "output_type": "error",
     "traceback": [
      "\u001b[1;36m  File \u001b[1;32m\"<ipython-input-27-6284e40881d6>\"\u001b[1;36m, line \u001b[1;32m1\u001b[0m\n\u001b[1;33m    I ran across a dataset for matches in the  UFC (Ultimate Fight Club) and thought it would be an interesting idea to play with for data analysis and machine learning.\u001b[0m\n\u001b[1;37m        ^\u001b[0m\n\u001b[1;31mSyntaxError\u001b[0m\u001b[1;31m:\u001b[0m invalid syntax\n"
     ]
    }
   ],
   "source": [
    "I ran across a dataset for matches in the  UFC (Ultimate Fight Club) and thought it would be an interesting idea to play with for data analysis and machine learning.  \n",
    "\n",
    "I do not personally watch UFC fights or any other MMA (Mixed Martial Arts) and don't relish the thought of two athletes banging on each others' heads.  But I have have taken martial arts in the past (Wing Chun and Brazillian Jiu Jitsu) and was interested in exploring what works and what doesn't work.  So I was interested to see what could do with this data.  Plus, it is an alternative to analyzing flower pedal width, email spam, and Titanic deaths mortality.\n",
    "\n",
    "I found a second data set on Kaggle, so I used two in the analsys: <a href = \"https://www.kaggle.com/rajeevw/ufcdata?select=raw_total_fight_data.csv\">Set A</a> and <a href=\"https://www.kaggle.com/mdabbert/ultimate-ufc-dataset/data?select=ufc-master.csv\">Set B</a>.  The first Data Set A used more than the other.\n",
    "\n",
    "\n",
    "\n",
    "As far as fighting, I had some questions like\n",
    "\n",
    "-which has been more effective in the UFC, striking (punches, kicks, knees, elbows) more effective, or grappling (joint locks and chokes)?\n",
    "-How important is size?  Most UFC matches are classified by weight now, but there was a time they were not. Also, some fighters may be taller, with greater reach, than others.  For someone who is short and small, I am wondering how much size and arm length matter.\n",
    "\n",
    "For more general machine learning concepts, I wanted to see if I could predict the winner of the fight given information about the fight or about the fighters.\n"
   ]
  },
  {
   "cell_type": "markdown",
   "metadata": {},
   "source": [
    "So I came up with these three main questions:\n",
    "    \n",
    "1.  Which is more effective, striking or grappling?  \n",
    "    Within striking, it would even be nice if we could compare punching vs kicking vs knees vs elbows.\n",
    "    Within grappling, it would be nice if we could compare chokes vs joint locks (arm bars, heel locks, etc.).\n",
    "\n",
    "2.  Given the data for each fight, can I predict the winner (R vs B)?  \n",
    "Practically, this won't give us much useful information because the fight has already happened.  If you are watching a fight and keeping track of all the stats, it could help you bet on who will eventually win.  Otherwise, this is mainly an exercise in using maching learning tools.\n",
    "\n",
    "3.  Given the data for each fighter (body type, record, etc.), can I predict the winner before the fight happens?"
   ]
  },
  {
   "cell_type": "code",
   "execution_count": 28,
   "metadata": {},
   "outputs": [
    {
     "ename": "SyntaxError",
     "evalue": "invalid syntax (<ipython-input-28-50b1d8e3cffb>, line 1)",
     "output_type": "error",
     "traceback": [
      "\u001b[1;36m  File \u001b[1;32m\"<ipython-input-28-50b1d8e3cffb>\"\u001b[1;36m, line \u001b[1;32m1\u001b[0m\n\u001b[1;33m    The three questions are in order of increasing complexity.\u001b[0m\n\u001b[1;37m            ^\u001b[0m\n\u001b[1;31mSyntaxError\u001b[0m\u001b[1;31m:\u001b[0m invalid syntax\n"
     ]
    }
   ],
   "source": [
    "The three questions are in order of increasing complexity.\n",
    "\n",
    "For 1), we will be using primarily exploratory analysis - graphs, histograms, etc.  Nothing complicated.\n",
    "For 2), we will attempt it using both logistic regression and neural networks.\n",
    "For 3), I will try logistic regression and neural networks as in 2).  This will aggregate more than one data set."
   ]
  },
  {
   "cell_type": "code",
   "execution_count": 4,
   "metadata": {},
   "outputs": [
    {
     "ename": "SyntaxError",
     "evalue": "invalid syntax (<ipython-input-4-f7a6674eaa74>, line 1)",
     "output_type": "error",
     "traceback": [
      "\u001b[1;36m  File \u001b[1;32m\"<ipython-input-4-f7a6674eaa74>\"\u001b[1;36m, line \u001b[1;32m1\u001b[0m\n\u001b[1;33m    I primarily used the first.  Data for each fight includes the fighters's names, who won, the number of strikes attempted and succeeded, how the match was decided, and many other data points. In a separate document, we also have individual data for each fighter.\u001b[0m\n\u001b[1;37m              ^\u001b[0m\n\u001b[1;31mSyntaxError\u001b[0m\u001b[1;31m:\u001b[0m invalid syntax\n"
     ]
    }
   ],
   "source": [
    "I primarily used the first.  Data for each fight includes the fighters's names, who won, the number of strikes attempted and succeeded, how the match was decided, and many other data points. In a separate document, we also have individual data for each fighter."
   ]
  },
  {
   "cell_type": "markdown",
   "metadata": {},
   "source": [
    "Walkthrough of <a href=\"http://localhost:8888/notebooks/code/demo/munging_presentation.ipynb\">munging and cleansing</a> the data."
   ]
  },
  {
   "cell_type": "markdown",
   "metadata": {},
   "source": [
    "Some <a href=\"http://localhost:8888/notebooks/code/demo/exploratory_presentation.ipynb\">explortatory analysis</a>"
   ]
  },
  {
   "cell_type": "markdown",
   "metadata": {},
   "source": [
    "Predicting the winner of a match, using statistics of just that match, using <a href=\"http://localhost:8888/notebooks/code/demo/logistic.ipynb\">logistic regression</a> and <a href=\"http://localhost:8888/notebooks/code/demo/RB_DNN.ipynb\">neural networks</a>.\n",
    "\n",
    "Using <a href=\"http://localhost:8888/notebooks/code/demo/RB_DNN_gpu.ipynb\">neural networks</a> by calling the code in PyCharm."
   ]
  },
  {
   "cell_type": "code",
   "execution_count": null,
   "metadata": {},
   "outputs": [],
   "source": []
  },
  {
   "cell_type": "code",
   "execution_count": 24,
   "metadata": {},
   "outputs": [
    {
     "ename": "SyntaxError",
     "evalue": "invalid syntax (<ipython-input-24-32e5b6254fc5>, line 1)",
     "output_type": "error",
     "traceback": [
      "\u001b[1;36m  File \u001b[1;32m\"<ipython-input-24-32e5b6254fc5>\"\u001b[1;36m, line \u001b[1;32m1\u001b[0m\n\u001b[1;33m    Some terms, if you are not familiar with it:\u001b[0m\n\u001b[1;37m             ^\u001b[0m\n\u001b[1;31mSyntaxError\u001b[0m\u001b[1;31m:\u001b[0m invalid syntax\n"
     ]
    }
   ],
   "source": [
    "Some terms, if you are not familiar with it:"
   ]
  },
  {
   "cell_type": "markdown",
   "metadata": {},
   "source": [
    "MMA - Mixed Martial Arts.  This is a sport (or whatever you call it) involving fighting in a ring, simmilar to a boxing ring.  There might be a cage instead of ropes, but the concept is similar.  The fighters can use punches, as in boxing, but can also use kicks, elbows, knees, shins, etc.  There are some rules, but people can still become injured.\n",
    "The \"mixed\" comes from the fact that there is no contraint on which \"style\" you use (Karate, Tae Kwon Do, Judo, etc.).  Modern UFC fighters blend techniques that were traditionally part of several different martial arts."
   ]
  },
  {
   "cell_type": "code",
   "execution_count": 26,
   "metadata": {},
   "outputs": [
    {
     "ename": "SyntaxError",
     "evalue": "invalid syntax (<ipython-input-26-dc24faabdaaa>, line 1)",
     "output_type": "error",
     "traceback": [
      "\u001b[1;36m  File \u001b[1;32m\"<ipython-input-26-dc24faabdaaa>\"\u001b[1;36m, line \u001b[1;32m1\u001b[0m\n\u001b[1;33m    UFC - Ultimate Fight Club.  The most prominent MMA league, but not the only one.\u001b[0m\n\u001b[1;37m                       ^\u001b[0m\n\u001b[1;31mSyntaxError\u001b[0m\u001b[1;31m:\u001b[0m invalid syntax\n"
     ]
    }
   ],
   "source": [
    "UFC - Ultimate Fight Club.  The most prominent MMA league, but not the only one."
   ]
  },
  {
   "cell_type": "markdown",
   "metadata": {},
   "source": [
    "Fighting techniques categorization.\n",
    "\n",
    "If you know nothing about fighting, I break it down into two main categories:  \"striking\" and \"grappling.\"  \n",
    "\n",
    "Striking\n",
    "Striking, as it sounds, involves hitting the opponent with part of your body.  Often, people who are untrained use their fists, but it could also be with their feet, knees, elbows, or even forehead (you can judge for yourself if you think headbutting is a good strategy).  This is your stereotypical style from a Kung Fu or Karate Kid movie.\n",
    "\n",
    "There are many fighting styles that use striking (Karate, Tae Kwon Do, most forms of Chinese Kung Fu, Western Boxing), but in the UFC many techniques seem to come from Muay Thai, or Thai Kickboxing.\n",
    "\n",
    "Grappling\n",
    "Another way to fight is with grappling.  Here, you try to control your opponent without strikes.  You might take them to the ground and hold them down.  You might do a joint lock where you twist or pull an appendage such that you are close to damaging it and could easily injure with a little more force.  To avoid injury, the opponent must \"tap\", admitting defeat.  Another way to win in grappling is with chokes, where you choke the person and they cannot escape and must \"tap\" before passing out.  \n",
    "\n",
    "Wrestling falls into this category, but most grappling techniques seen in the UFC will be from Jiu Jitsu, usually the more modern form call Brazillian Jiu Jitsu.\n",
    "\n",
    "Any fight that is labelled in having ended in a \"submission\" falls into the grappling category, meaning it has ended with a joint lock or a choke.\n",
    "\n",
    "Throwing\n",
    "A similar way of fighting is with throws, common in Judo and present (but less common) in Jiu Jitsu.  At the moment, I am not considering them in this analysis because there are not many stats on Judo type throws in the data set.  This is not a commentary on the effectiveness of Judo for self defense."
   ]
  },
  {
   "cell_type": "code",
   "execution_count": null,
   "metadata": {},
   "outputs": [],
   "source": []
  }
 ],
 "metadata": {
  "kernelspec": {
   "display_name": "Python 3",
   "language": "python",
   "name": "python3"
  },
  "language_info": {
   "codemirror_mode": {
    "name": "ipython",
    "version": 3
   },
   "file_extension": ".py",
   "mimetype": "text/x-python",
   "name": "python",
   "nbconvert_exporter": "python",
   "pygments_lexer": "ipython3",
   "version": "3.7.6"
  }
 },
 "nbformat": 4,
 "nbformat_minor": 4
}
