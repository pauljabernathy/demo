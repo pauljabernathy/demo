{
 "cells": [
  {
   "cell_type": "code",
   "execution_count": 1,
   "metadata": {},
   "outputs": [],
   "source": [
    "import pandas as pd\n",
    "import numpy as np\n",
    "import matplotlib.pyplot as plt\n",
    "import seaborn as sns"
   ]
  },
  {
   "cell_type": "code",
   "execution_count": 2,
   "metadata": {},
   "outputs": [],
   "source": [
    "from cleanser import *"
   ]
  },
  {
   "cell_type": "code",
   "execution_count": 3,
   "metadata": {},
   "outputs": [],
   "source": [
    "fights = pd.read_csv('raw_total_fight_data.csv', sep=';')"
   ]
  },
  {
   "cell_type": "code",
   "execution_count": 4,
   "metadata": {},
   "outputs": [],
   "source": [
    "cleanser = RawFightsCleanser()"
   ]
  },
  {
   "cell_type": "code",
   "execution_count": 5,
   "metadata": {},
   "outputs": [],
   "source": [
    "fights = cleanser.cleanse_column_names(fights)"
   ]
  },
  {
   "cell_type": "code",
   "execution_count": 6,
   "metadata": {},
   "outputs": [],
   "source": [
    "fights = cleanser.split_composite_columns(fights)"
   ]
  },
  {
   "cell_type": "code",
   "execution_count": 7,
   "metadata": {},
   "outputs": [],
   "source": [
    "# TODO:  further consolidation of setup and cleansing, so less copy / paste"
   ]
  },
  {
   "cell_type": "code",
   "execution_count": 8,
   "metadata": {},
   "outputs": [],
   "source": [
    "def find_loser(row):\n",
    "    if row.winner == row.r_fighter:\n",
    "        return row.b_fighter\n",
    "    elif row.winner == row.b_fighter:\n",
    "        return row.r_fighter\n",
    "    else:\n",
    "        return 'None'"
   ]
  },
  {
   "cell_type": "code",
   "execution_count": 9,
   "metadata": {},
   "outputs": [],
   "source": [
    "fights['loser'] = fights.apply(find_loser, axis=1)"
   ]
  },
  {
   "cell_type": "code",
   "execution_count": 10,
   "metadata": {},
   "outputs": [],
   "source": [
    "def winner_b_r(row):\n",
    "    if row['winner'] == row.r_fighter:\n",
    "        return 'r'\n",
    "    elif row['winner'] == row.b_fighter:\n",
    "        return 'b'\n",
    "    else:\n",
    "        return 'None' \n",
    "    "
   ]
  },
  {
   "cell_type": "code",
   "execution_count": 11,
   "metadata": {},
   "outputs": [],
   "source": [
    "fights['r_b_winner'] = fights.apply(lambda row: winner_b_r(row), axis=1)"
   ]
  },
  {
   "cell_type": "code",
   "execution_count": 12,
   "metadata": {},
   "outputs": [],
   "source": [
    "fights['r_won'] = fights.r_b_winner.apply(lambda x: 1 if x == 'r' else 0)"
   ]
  },
  {
   "cell_type": "code",
   "execution_count": 13,
   "metadata": {},
   "outputs": [
    {
     "data": {
      "text/html": [
       "<div>\n",
       "<style scoped>\n",
       "    .dataframe tbody tr th:only-of-type {\n",
       "        vertical-align: middle;\n",
       "    }\n",
       "\n",
       "    .dataframe tbody tr th {\n",
       "        vertical-align: top;\n",
       "    }\n",
       "\n",
       "    .dataframe thead th {\n",
       "        text-align: right;\n",
       "    }\n",
       "</style>\n",
       "<table border=\"1\" class=\"dataframe\">\n",
       "  <thead>\n",
       "    <tr style=\"text-align: right;\">\n",
       "      <th></th>\n",
       "      <th>r_fighter</th>\n",
       "      <th>b_fighter</th>\n",
       "      <th>winner</th>\n",
       "      <th>r_b_winner</th>\n",
       "    </tr>\n",
       "  </thead>\n",
       "  <tbody>\n",
       "    <tr>\n",
       "      <th>0</th>\n",
       "      <td>Henry Cejudo</td>\n",
       "      <td>Marlon Moraes</td>\n",
       "      <td>Henry Cejudo</td>\n",
       "      <td>r</td>\n",
       "    </tr>\n",
       "    <tr>\n",
       "      <th>1</th>\n",
       "      <td>Valentina Shevchenko</td>\n",
       "      <td>Jessica Eye</td>\n",
       "      <td>Valentina Shevchenko</td>\n",
       "      <td>r</td>\n",
       "    </tr>\n",
       "    <tr>\n",
       "      <th>2</th>\n",
       "      <td>Tony Ferguson</td>\n",
       "      <td>Donald Cerrone</td>\n",
       "      <td>Tony Ferguson</td>\n",
       "      <td>r</td>\n",
       "    </tr>\n",
       "    <tr>\n",
       "      <th>3</th>\n",
       "      <td>Jimmie Rivera</td>\n",
       "      <td>Petr Yan</td>\n",
       "      <td>Petr Yan</td>\n",
       "      <td>b</td>\n",
       "    </tr>\n",
       "    <tr>\n",
       "      <th>4</th>\n",
       "      <td>Tai Tuivasa</td>\n",
       "      <td>Blagoy Ivanov</td>\n",
       "      <td>Blagoy Ivanov</td>\n",
       "      <td>b</td>\n",
       "    </tr>\n",
       "  </tbody>\n",
       "</table>\n",
       "</div>"
      ],
      "text/plain": [
       "              r_fighter       b_fighter                winner r_b_winner\n",
       "0          Henry Cejudo   Marlon Moraes          Henry Cejudo          r\n",
       "1  Valentina Shevchenko     Jessica Eye  Valentina Shevchenko          r\n",
       "2         Tony Ferguson  Donald Cerrone         Tony Ferguson          r\n",
       "3         Jimmie Rivera        Petr Yan              Petr Yan          b\n",
       "4           Tai Tuivasa   Blagoy Ivanov         Blagoy Ivanov          b"
      ]
     },
     "execution_count": 13,
     "metadata": {},
     "output_type": "execute_result"
    }
   ],
   "source": [
    "fights.head()[['r_fighter', 'b_fighter', 'winner', 'r_b_winner']]"
   ]
  },
  {
   "cell_type": "code",
   "execution_count": 14,
   "metadata": {},
   "outputs": [],
   "source": [
    "# See if we can use the data of the fight to predict if red or blue won.  This won't help us predict who will win before\n",
    "# the fight, but it is a good ML exercise, and could reveal something about what is effective, and may also help predict\n",
    "# the winner during the fight and the stats start tom come in"
   ]
  },
  {
   "cell_type": "code",
   "execution_count": 15,
   "metadata": {},
   "outputs": [],
   "source": [
    "# Start with logistic regression.\n",
    "# Start with using the diff columns that represent the difference in successful strikes etc. between R and B."
   ]
  },
  {
   "cell_type": "code",
   "execution_count": 16,
   "metadata": {},
   "outputs": [
    {
     "data": {
      "text/plain": [
       "['sig_str_diff',\n",
       " 'total_str_diff',\n",
       " 'td_diff',\n",
       " 'head_diff',\n",
       " 'body_diff',\n",
       " 'leg_diff',\n",
       " 'distance_diff',\n",
       " 'clinch_diff',\n",
       " 'ground_diff']"
      ]
     },
     "execution_count": 16,
     "metadata": {},
     "output_type": "execute_result"
    }
   ],
   "source": [
    "diff_columns = [c for c in fights.columns if '_diff' in c]\n",
    "diff_columns"
   ]
  },
  {
   "cell_type": "code",
   "execution_count": 22,
   "metadata": {},
   "outputs": [
    {
     "data": {
      "text/html": [
       "<div>\n",
       "<style scoped>\n",
       "    .dataframe tbody tr th:only-of-type {\n",
       "        vertical-align: middle;\n",
       "    }\n",
       "\n",
       "    .dataframe tbody tr th {\n",
       "        vertical-align: top;\n",
       "    }\n",
       "\n",
       "    .dataframe thead th {\n",
       "        text-align: right;\n",
       "    }\n",
       "</style>\n",
       "<table border=\"1\" class=\"dataframe\">\n",
       "  <thead>\n",
       "    <tr style=\"text-align: right;\">\n",
       "      <th></th>\n",
       "      <th>sig_str_diff</th>\n",
       "      <th>total_str_diff</th>\n",
       "      <th>td_diff</th>\n",
       "      <th>head_diff</th>\n",
       "      <th>body_diff</th>\n",
       "      <th>leg_diff</th>\n",
       "      <th>distance_diff</th>\n",
       "      <th>clinch_diff</th>\n",
       "      <th>ground_diff</th>\n",
       "      <th>r_won</th>\n",
       "    </tr>\n",
       "  </thead>\n",
       "  <tbody>\n",
       "    <tr>\n",
       "      <th>0</th>\n",
       "      <td>33</td>\n",
       "      <td>40</td>\n",
       "      <td>1</td>\n",
       "      <td>38</td>\n",
       "      <td>6</td>\n",
       "      <td>-11</td>\n",
       "      <td>-9</td>\n",
       "      <td>17</td>\n",
       "      <td>25</td>\n",
       "      <td>1</td>\n",
       "    </tr>\n",
       "    <tr>\n",
       "      <th>1</th>\n",
       "      <td>6</td>\n",
       "      <td>-5</td>\n",
       "      <td>2</td>\n",
       "      <td>4</td>\n",
       "      <td>4</td>\n",
       "      <td>-2</td>\n",
       "      <td>3</td>\n",
       "      <td>2</td>\n",
       "      <td>1</td>\n",
       "      <td>1</td>\n",
       "    </tr>\n",
       "    <tr>\n",
       "      <th>2</th>\n",
       "      <td>36</td>\n",
       "      <td>36</td>\n",
       "      <td>-1</td>\n",
       "      <td>22</td>\n",
       "      <td>10</td>\n",
       "      <td>4</td>\n",
       "      <td>35</td>\n",
       "      <td>1</td>\n",
       "      <td>0</td>\n",
       "      <td>1</td>\n",
       "    </tr>\n",
       "    <tr>\n",
       "      <th>3</th>\n",
       "      <td>17</td>\n",
       "      <td>18</td>\n",
       "      <td>-1</td>\n",
       "      <td>2</td>\n",
       "      <td>2</td>\n",
       "      <td>13</td>\n",
       "      <td>18</td>\n",
       "      <td>-1</td>\n",
       "      <td>0</td>\n",
       "      <td>0</td>\n",
       "    </tr>\n",
       "    <tr>\n",
       "      <th>4</th>\n",
       "      <td>-9</td>\n",
       "      <td>-15</td>\n",
       "      <td>-2</td>\n",
       "      <td>-26</td>\n",
       "      <td>-1</td>\n",
       "      <td>18</td>\n",
       "      <td>-12</td>\n",
       "      <td>9</td>\n",
       "      <td>-6</td>\n",
       "      <td>0</td>\n",
       "    </tr>\n",
       "    <tr>\n",
       "      <th>5</th>\n",
       "      <td>27</td>\n",
       "      <td>41</td>\n",
       "      <td>4</td>\n",
       "      <td>-2</td>\n",
       "      <td>7</td>\n",
       "      <td>22</td>\n",
       "      <td>3</td>\n",
       "      <td>3</td>\n",
       "      <td>21</td>\n",
       "      <td>1</td>\n",
       "    </tr>\n",
       "    <tr>\n",
       "      <th>6</th>\n",
       "      <td>69</td>\n",
       "      <td>67</td>\n",
       "      <td>0</td>\n",
       "      <td>79</td>\n",
       "      <td>7</td>\n",
       "      <td>-17</td>\n",
       "      <td>70</td>\n",
       "      <td>-1</td>\n",
       "      <td>0</td>\n",
       "      <td>1</td>\n",
       "    </tr>\n",
       "    <tr>\n",
       "      <th>7</th>\n",
       "      <td>-58</td>\n",
       "      <td>-71</td>\n",
       "      <td>0</td>\n",
       "      <td>-37</td>\n",
       "      <td>-6</td>\n",
       "      <td>-15</td>\n",
       "      <td>-44</td>\n",
       "      <td>-14</td>\n",
       "      <td>0</td>\n",
       "      <td>0</td>\n",
       "    </tr>\n",
       "    <tr>\n",
       "      <th>8</th>\n",
       "      <td>-10</td>\n",
       "      <td>-10</td>\n",
       "      <td>0</td>\n",
       "      <td>-9</td>\n",
       "      <td>-7</td>\n",
       "      <td>6</td>\n",
       "      <td>-4</td>\n",
       "      <td>-2</td>\n",
       "      <td>-4</td>\n",
       "      <td>0</td>\n",
       "    </tr>\n",
       "    <tr>\n",
       "      <th>9</th>\n",
       "      <td>23</td>\n",
       "      <td>27</td>\n",
       "      <td>0</td>\n",
       "      <td>20</td>\n",
       "      <td>-10</td>\n",
       "      <td>13</td>\n",
       "      <td>27</td>\n",
       "      <td>-5</td>\n",
       "      <td>1</td>\n",
       "      <td>1</td>\n",
       "    </tr>\n",
       "  </tbody>\n",
       "</table>\n",
       "</div>"
      ],
      "text/plain": [
       "   sig_str_diff  total_str_diff  td_diff  head_diff  body_diff  leg_diff  \\\n",
       "0            33              40        1         38          6       -11   \n",
       "1             6              -5        2          4          4        -2   \n",
       "2            36              36       -1         22         10         4   \n",
       "3            17              18       -1          2          2        13   \n",
       "4            -9             -15       -2        -26         -1        18   \n",
       "5            27              41        4         -2          7        22   \n",
       "6            69              67        0         79          7       -17   \n",
       "7           -58             -71        0        -37         -6       -15   \n",
       "8           -10             -10        0         -9         -7         6   \n",
       "9            23              27        0         20        -10        13   \n",
       "\n",
       "   distance_diff  clinch_diff  ground_diff  r_won  \n",
       "0             -9           17           25      1  \n",
       "1              3            2            1      1  \n",
       "2             35            1            0      1  \n",
       "3             18           -1            0      0  \n",
       "4            -12            9           -6      0  \n",
       "5              3            3           21      1  \n",
       "6             70           -1            0      1  \n",
       "7            -44          -14            0      0  \n",
       "8             -4           -2           -4      0  \n",
       "9             27           -5            1      1  "
      ]
     },
     "execution_count": 22,
     "metadata": {},
     "output_type": "execute_result"
    }
   ],
   "source": [
    "diffs = fights[diff_columns + ['r_won']]\n",
    "diffs.head(10)"
   ]
  },
  {
   "cell_type": "code",
   "execution_count": 23,
   "metadata": {},
   "outputs": [],
   "source": [
    "# I think you need to \"scale\" or \"normalize\" variables for logistic regression.\n",
    "# From the graphs in the exploratory notebook, all the diff columns look like bell curves\n",
    "# We'll try both ways and see which is better."
   ]
  },
  {
   "cell_type": "code",
   "execution_count": 24,
   "metadata": {},
   "outputs": [],
   "source": [
    "scaled_diffs = diffs.copy()"
   ]
  },
  {
   "cell_type": "code",
   "execution_count": 25,
   "metadata": {},
   "outputs": [
    {
     "data": {
      "text/html": [
       "<div>\n",
       "<style scoped>\n",
       "    .dataframe tbody tr th:only-of-type {\n",
       "        vertical-align: middle;\n",
       "    }\n",
       "\n",
       "    .dataframe tbody tr th {\n",
       "        vertical-align: top;\n",
       "    }\n",
       "\n",
       "    .dataframe thead th {\n",
       "        text-align: right;\n",
       "    }\n",
       "</style>\n",
       "<table border=\"1\" class=\"dataframe\">\n",
       "  <thead>\n",
       "    <tr style=\"text-align: right;\">\n",
       "      <th></th>\n",
       "      <th>sig_str_diff</th>\n",
       "      <th>total_str_diff</th>\n",
       "      <th>td_diff</th>\n",
       "      <th>head_diff</th>\n",
       "      <th>body_diff</th>\n",
       "      <th>leg_diff</th>\n",
       "      <th>distance_diff</th>\n",
       "      <th>clinch_diff</th>\n",
       "      <th>ground_diff</th>\n",
       "      <th>r_won</th>\n",
       "    </tr>\n",
       "  </thead>\n",
       "  <tbody>\n",
       "    <tr>\n",
       "      <th>0</th>\n",
       "      <td>33</td>\n",
       "      <td>40</td>\n",
       "      <td>1</td>\n",
       "      <td>38</td>\n",
       "      <td>6</td>\n",
       "      <td>-11</td>\n",
       "      <td>-9</td>\n",
       "      <td>17</td>\n",
       "      <td>25</td>\n",
       "      <td>1</td>\n",
       "    </tr>\n",
       "    <tr>\n",
       "      <th>1</th>\n",
       "      <td>6</td>\n",
       "      <td>-5</td>\n",
       "      <td>2</td>\n",
       "      <td>4</td>\n",
       "      <td>4</td>\n",
       "      <td>-2</td>\n",
       "      <td>3</td>\n",
       "      <td>2</td>\n",
       "      <td>1</td>\n",
       "      <td>1</td>\n",
       "    </tr>\n",
       "    <tr>\n",
       "      <th>2</th>\n",
       "      <td>36</td>\n",
       "      <td>36</td>\n",
       "      <td>-1</td>\n",
       "      <td>22</td>\n",
       "      <td>10</td>\n",
       "      <td>4</td>\n",
       "      <td>35</td>\n",
       "      <td>1</td>\n",
       "      <td>0</td>\n",
       "      <td>1</td>\n",
       "    </tr>\n",
       "    <tr>\n",
       "      <th>3</th>\n",
       "      <td>17</td>\n",
       "      <td>18</td>\n",
       "      <td>-1</td>\n",
       "      <td>2</td>\n",
       "      <td>2</td>\n",
       "      <td>13</td>\n",
       "      <td>18</td>\n",
       "      <td>-1</td>\n",
       "      <td>0</td>\n",
       "      <td>0</td>\n",
       "    </tr>\n",
       "    <tr>\n",
       "      <th>4</th>\n",
       "      <td>-9</td>\n",
       "      <td>-15</td>\n",
       "      <td>-2</td>\n",
       "      <td>-26</td>\n",
       "      <td>-1</td>\n",
       "      <td>18</td>\n",
       "      <td>-12</td>\n",
       "      <td>9</td>\n",
       "      <td>-6</td>\n",
       "      <td>0</td>\n",
       "    </tr>\n",
       "  </tbody>\n",
       "</table>\n",
       "</div>"
      ],
      "text/plain": [
       "   sig_str_diff  total_str_diff  td_diff  head_diff  body_diff  leg_diff  \\\n",
       "0            33              40        1         38          6       -11   \n",
       "1             6              -5        2          4          4        -2   \n",
       "2            36              36       -1         22         10         4   \n",
       "3            17              18       -1          2          2        13   \n",
       "4            -9             -15       -2        -26         -1        18   \n",
       "\n",
       "   distance_diff  clinch_diff  ground_diff  r_won  \n",
       "0             -9           17           25      1  \n",
       "1              3            2            1      1  \n",
       "2             35            1            0      1  \n",
       "3             18           -1            0      0  \n",
       "4            -12            9           -6      0  "
      ]
     },
     "execution_count": 25,
     "metadata": {},
     "output_type": "execute_result"
    }
   ],
   "source": [
    "scaled_diffs.head()"
   ]
  },
  {
   "cell_type": "code",
   "execution_count": 26,
   "metadata": {},
   "outputs": [
    {
     "data": {
      "text/html": [
       "<div>\n",
       "<style scoped>\n",
       "    .dataframe tbody tr th:only-of-type {\n",
       "        vertical-align: middle;\n",
       "    }\n",
       "\n",
       "    .dataframe tbody tr th {\n",
       "        vertical-align: top;\n",
       "    }\n",
       "\n",
       "    .dataframe thead th {\n",
       "        text-align: right;\n",
       "    }\n",
       "</style>\n",
       "<table border=\"1\" class=\"dataframe\">\n",
       "  <thead>\n",
       "    <tr style=\"text-align: right;\">\n",
       "      <th></th>\n",
       "      <th>sig_str_diff</th>\n",
       "      <th>total_str_diff</th>\n",
       "      <th>td_diff</th>\n",
       "      <th>head_diff</th>\n",
       "      <th>body_diff</th>\n",
       "      <th>leg_diff</th>\n",
       "      <th>distance_diff</th>\n",
       "      <th>clinch_diff</th>\n",
       "      <th>ground_diff</th>\n",
       "      <th>r_won</th>\n",
       "    </tr>\n",
       "  </thead>\n",
       "  <tbody>\n",
       "    <tr>\n",
       "      <th>count</th>\n",
       "      <td>5144.000000</td>\n",
       "      <td>5144.000000</td>\n",
       "      <td>5144.000000</td>\n",
       "      <td>5144.000000</td>\n",
       "      <td>5144.000000</td>\n",
       "      <td>5144.000000</td>\n",
       "      <td>5144.000000</td>\n",
       "      <td>5144.000000</td>\n",
       "      <td>5144.000000</td>\n",
       "      <td>5144.000000</td>\n",
       "    </tr>\n",
       "    <tr>\n",
       "      <th>mean</th>\n",
       "      <td>5.174572</td>\n",
       "      <td>9.611003</td>\n",
       "      <td>0.349533</td>\n",
       "      <td>3.732309</td>\n",
       "      <td>0.850505</td>\n",
       "      <td>0.591757</td>\n",
       "      <td>1.859642</td>\n",
       "      <td>0.614502</td>\n",
       "      <td>2.700428</td>\n",
       "      <td>0.674572</td>\n",
       "    </tr>\n",
       "    <tr>\n",
       "      <th>std</th>\n",
       "      <td>24.959977</td>\n",
       "      <td>45.756490</td>\n",
       "      <td>2.506284</td>\n",
       "      <td>19.704231</td>\n",
       "      <td>8.030155</td>\n",
       "      <td>8.417927</td>\n",
       "      <td>16.440600</td>\n",
       "      <td>7.444167</td>\n",
       "      <td>12.987118</td>\n",
       "      <td>0.468580</td>\n",
       "    </tr>\n",
       "    <tr>\n",
       "      <th>min</th>\n",
       "      <td>-119.000000</td>\n",
       "      <td>-276.000000</td>\n",
       "      <td>-12.000000</td>\n",
       "      <td>-115.000000</td>\n",
       "      <td>-85.000000</td>\n",
       "      <td>-62.000000</td>\n",
       "      <td>-117.000000</td>\n",
       "      <td>-54.000000</td>\n",
       "      <td>-94.000000</td>\n",
       "      <td>0.000000</td>\n",
       "    </tr>\n",
       "    <tr>\n",
       "      <th>25%</th>\n",
       "      <td>-7.000000</td>\n",
       "      <td>-10.000000</td>\n",
       "      <td>-1.000000</td>\n",
       "      <td>-5.000000</td>\n",
       "      <td>-2.000000</td>\n",
       "      <td>-2.000000</td>\n",
       "      <td>-4.000000</td>\n",
       "      <td>-2.000000</td>\n",
       "      <td>-2.000000</td>\n",
       "      <td>0.000000</td>\n",
       "    </tr>\n",
       "    <tr>\n",
       "      <th>50%</th>\n",
       "      <td>4.000000</td>\n",
       "      <td>6.000000</td>\n",
       "      <td>0.000000</td>\n",
       "      <td>3.000000</td>\n",
       "      <td>0.000000</td>\n",
       "      <td>0.000000</td>\n",
       "      <td>1.000000</td>\n",
       "      <td>0.000000</td>\n",
       "      <td>1.000000</td>\n",
       "      <td>1.000000</td>\n",
       "    </tr>\n",
       "    <tr>\n",
       "      <th>75%</th>\n",
       "      <td>17.250000</td>\n",
       "      <td>30.000000</td>\n",
       "      <td>1.000000</td>\n",
       "      <td>13.000000</td>\n",
       "      <td>4.000000</td>\n",
       "      <td>3.000000</td>\n",
       "      <td>7.000000</td>\n",
       "      <td>3.000000</td>\n",
       "      <td>7.000000</td>\n",
       "      <td>1.000000</td>\n",
       "    </tr>\n",
       "    <tr>\n",
       "      <th>max</th>\n",
       "      <td>180.000000</td>\n",
       "      <td>315.000000</td>\n",
       "      <td>20.000000</td>\n",
       "      <td>157.000000</td>\n",
       "      <td>46.000000</td>\n",
       "      <td>61.000000</td>\n",
       "      <td>180.000000</td>\n",
       "      <td>66.000000</td>\n",
       "      <td>88.000000</td>\n",
       "      <td>1.000000</td>\n",
       "    </tr>\n",
       "  </tbody>\n",
       "</table>\n",
       "</div>"
      ],
      "text/plain": [
       "       sig_str_diff  total_str_diff      td_diff    head_diff    body_diff  \\\n",
       "count   5144.000000     5144.000000  5144.000000  5144.000000  5144.000000   \n",
       "mean       5.174572        9.611003     0.349533     3.732309     0.850505   \n",
       "std       24.959977       45.756490     2.506284    19.704231     8.030155   \n",
       "min     -119.000000     -276.000000   -12.000000  -115.000000   -85.000000   \n",
       "25%       -7.000000      -10.000000    -1.000000    -5.000000    -2.000000   \n",
       "50%        4.000000        6.000000     0.000000     3.000000     0.000000   \n",
       "75%       17.250000       30.000000     1.000000    13.000000     4.000000   \n",
       "max      180.000000      315.000000    20.000000   157.000000    46.000000   \n",
       "\n",
       "          leg_diff  distance_diff  clinch_diff  ground_diff        r_won  \n",
       "count  5144.000000    5144.000000  5144.000000  5144.000000  5144.000000  \n",
       "mean      0.591757       1.859642     0.614502     2.700428     0.674572  \n",
       "std       8.417927      16.440600     7.444167    12.987118     0.468580  \n",
       "min     -62.000000    -117.000000   -54.000000   -94.000000     0.000000  \n",
       "25%      -2.000000      -4.000000    -2.000000    -2.000000     0.000000  \n",
       "50%       0.000000       1.000000     0.000000     1.000000     1.000000  \n",
       "75%       3.000000       7.000000     3.000000     7.000000     1.000000  \n",
       "max      61.000000     180.000000    66.000000    88.000000     1.000000  "
      ]
     },
     "execution_count": 26,
     "metadata": {},
     "output_type": "execute_result"
    }
   ],
   "source": [
    "scaled_diffs.describe()"
   ]
  },
  {
   "cell_type": "code",
   "execution_count": 27,
   "metadata": {},
   "outputs": [
    {
     "data": {
      "text/plain": [
       "Index(['sig_str_diff', 'total_str_diff', 'td_diff', 'head_diff', 'body_diff',\n",
       "       'leg_diff', 'distance_diff', 'clinch_diff', 'ground_diff', 'r_won'],\n",
       "      dtype='object')"
      ]
     },
     "execution_count": 27,
     "metadata": {},
     "output_type": "execute_result"
    }
   ],
   "source": [
    "scaled_diffs.columns"
   ]
  },
  {
   "cell_type": "code",
   "execution_count": 28,
   "metadata": {},
   "outputs": [
    {
     "data": {
      "text/plain": [
       "['sig_str_diff',\n",
       " 'total_str_diff',\n",
       " 'td_diff',\n",
       " 'head_diff',\n",
       " 'body_diff',\n",
       " 'leg_diff',\n",
       " 'distance_diff',\n",
       " 'clinch_diff',\n",
       " 'ground_diff']"
      ]
     },
     "execution_count": 28,
     "metadata": {},
     "output_type": "execute_result"
    }
   ],
   "source": [
    "diff_columns"
   ]
  },
  {
   "cell_type": "code",
   "execution_count": 29,
   "metadata": {},
   "outputs": [],
   "source": [
    "for column in diff_columns:\n",
    "    #col = scaled_diffs[column]\n",
    "    mean = scaled_diffs[column].mean()\n",
    "    sd = scaled_diffs[column].std()\n",
    "    scaled_diffs[column] = scaled_diffs[column].apply(lambda x: (x - mean) / sd)"
   ]
  },
  {
   "cell_type": "code",
   "execution_count": 30,
   "metadata": {},
   "outputs": [
    {
     "data": {
      "text/plain": [
       "-1.1050431349301714e-17"
      ]
     },
     "execution_count": 30,
     "metadata": {},
     "output_type": "execute_result"
    }
   ],
   "source": [
    "scaled_diffs.td_diff.mean()"
   ]
  },
  {
   "cell_type": "code",
   "execution_count": 31,
   "metadata": {},
   "outputs": [
    {
     "data": {
      "text/plain": [
       "0.3495334370139969"
      ]
     },
     "execution_count": 31,
     "metadata": {},
     "output_type": "execute_result"
    }
   ],
   "source": [
    "diffs.td_diff.mean()"
   ]
  },
  {
   "cell_type": "code",
   "execution_count": 32,
   "metadata": {},
   "outputs": [
    {
     "data": {
      "text/html": [
       "<div>\n",
       "<style scoped>\n",
       "    .dataframe tbody tr th:only-of-type {\n",
       "        vertical-align: middle;\n",
       "    }\n",
       "\n",
       "    .dataframe tbody tr th {\n",
       "        vertical-align: top;\n",
       "    }\n",
       "\n",
       "    .dataframe thead th {\n",
       "        text-align: right;\n",
       "    }\n",
       "</style>\n",
       "<table border=\"1\" class=\"dataframe\">\n",
       "  <thead>\n",
       "    <tr style=\"text-align: right;\">\n",
       "      <th></th>\n",
       "      <th>sig_str_diff</th>\n",
       "      <th>total_str_diff</th>\n",
       "      <th>td_diff</th>\n",
       "      <th>head_diff</th>\n",
       "      <th>body_diff</th>\n",
       "      <th>leg_diff</th>\n",
       "      <th>distance_diff</th>\n",
       "      <th>clinch_diff</th>\n",
       "      <th>ground_diff</th>\n",
       "      <th>r_won</th>\n",
       "    </tr>\n",
       "  </thead>\n",
       "  <tbody>\n",
       "    <tr>\n",
       "      <th>count</th>\n",
       "      <td>5.144000e+03</td>\n",
       "      <td>5144.000000</td>\n",
       "      <td>5.144000e+03</td>\n",
       "      <td>5.144000e+03</td>\n",
       "      <td>5.144000e+03</td>\n",
       "      <td>5.144000e+03</td>\n",
       "      <td>5.144000e+03</td>\n",
       "      <td>5.144000e+03</td>\n",
       "      <td>5.144000e+03</td>\n",
       "      <td>5144.000000</td>\n",
       "    </tr>\n",
       "    <tr>\n",
       "      <th>mean</th>\n",
       "      <td>2.762608e-17</td>\n",
       "      <td>0.000000</td>\n",
       "      <td>-1.105043e-17</td>\n",
       "      <td>-1.105043e-17</td>\n",
       "      <td>-2.762608e-18</td>\n",
       "      <td>6.906520e-18</td>\n",
       "      <td>5.525216e-18</td>\n",
       "      <td>5.525216e-18</td>\n",
       "      <td>-1.105043e-17</td>\n",
       "      <td>0.674572</td>\n",
       "    </tr>\n",
       "    <tr>\n",
       "      <th>std</th>\n",
       "      <td>1.000000e+00</td>\n",
       "      <td>1.000000</td>\n",
       "      <td>1.000000e+00</td>\n",
       "      <td>1.000000e+00</td>\n",
       "      <td>1.000000e+00</td>\n",
       "      <td>1.000000e+00</td>\n",
       "      <td>1.000000e+00</td>\n",
       "      <td>1.000000e+00</td>\n",
       "      <td>1.000000e+00</td>\n",
       "      <td>0.468580</td>\n",
       "    </tr>\n",
       "    <tr>\n",
       "      <th>min</th>\n",
       "      <td>-4.974947e+00</td>\n",
       "      <td>-6.241978</td>\n",
       "      <td>-4.927428e+00</td>\n",
       "      <td>-6.025727e+00</td>\n",
       "      <td>-1.069102e+01</td>\n",
       "      <td>-7.435531e+00</td>\n",
       "      <td>-7.229641e+00</td>\n",
       "      <td>-7.336550e+00</td>\n",
       "      <td>-7.445872e+00</td>\n",
       "      <td>0.000000</td>\n",
       "    </tr>\n",
       "    <tr>\n",
       "      <th>25%</th>\n",
       "      <td>-4.877638e-01</td>\n",
       "      <td>-0.428595</td>\n",
       "      <td>-5.384600e-01</td>\n",
       "      <td>-4.431693e-01</td>\n",
       "      <td>-3.549752e-01</td>\n",
       "      <td>-3.078855e-01</td>\n",
       "      <td>-3.564129e-01</td>\n",
       "      <td>-3.512149e-01</td>\n",
       "      <td>-3.619300e-01</td>\n",
       "      <td>0.000000</td>\n",
       "    </tr>\n",
       "    <tr>\n",
       "      <th>50%</th>\n",
       "      <td>-4.705823e-02</td>\n",
       "      <td>-0.078918</td>\n",
       "      <td>-1.394628e-01</td>\n",
       "      <td>-3.716509e-02</td>\n",
       "      <td>-1.059140e-01</td>\n",
       "      <td>-7.029728e-02</td>\n",
       "      <td>-5.228777e-02</td>\n",
       "      <td>-8.254816e-02</td>\n",
       "      <td>-1.309319e-01</td>\n",
       "      <td>1.000000</td>\n",
       "    </tr>\n",
       "    <tr>\n",
       "      <th>75%</th>\n",
       "      <td>4.837916e-01</td>\n",
       "      <td>0.445598</td>\n",
       "      <td>2.595343e-01</td>\n",
       "      <td>4.703401e-01</td>\n",
       "      <td>3.922085e-01</td>\n",
       "      <td>2.860850e-01</td>\n",
       "      <td>3.126624e-01</td>\n",
       "      <td>3.204519e-01</td>\n",
       "      <td>3.310644e-01</td>\n",
       "      <td>1.000000</td>\n",
       "    </tr>\n",
       "    <tr>\n",
       "      <th>max</th>\n",
       "      <td>7.004230e+00</td>\n",
       "      <td>6.674223</td>\n",
       "      <td>7.840480e+00</td>\n",
       "      <td>7.778415e+00</td>\n",
       "      <td>5.622494e+00</td>\n",
       "      <td>7.176142e+00</td>\n",
       "      <td>1.083539e+01</td>\n",
       "      <td>8.783454e+00</td>\n",
       "      <td>6.568014e+00</td>\n",
       "      <td>1.000000</td>\n",
       "    </tr>\n",
       "  </tbody>\n",
       "</table>\n",
       "</div>"
      ],
      "text/plain": [
       "       sig_str_diff  total_str_diff       td_diff     head_diff     body_diff  \\\n",
       "count  5.144000e+03     5144.000000  5.144000e+03  5.144000e+03  5.144000e+03   \n",
       "mean   2.762608e-17        0.000000 -1.105043e-17 -1.105043e-17 -2.762608e-18   \n",
       "std    1.000000e+00        1.000000  1.000000e+00  1.000000e+00  1.000000e+00   \n",
       "min   -4.974947e+00       -6.241978 -4.927428e+00 -6.025727e+00 -1.069102e+01   \n",
       "25%   -4.877638e-01       -0.428595 -5.384600e-01 -4.431693e-01 -3.549752e-01   \n",
       "50%   -4.705823e-02       -0.078918 -1.394628e-01 -3.716509e-02 -1.059140e-01   \n",
       "75%    4.837916e-01        0.445598  2.595343e-01  4.703401e-01  3.922085e-01   \n",
       "max    7.004230e+00        6.674223  7.840480e+00  7.778415e+00  5.622494e+00   \n",
       "\n",
       "           leg_diff  distance_diff   clinch_diff   ground_diff        r_won  \n",
       "count  5.144000e+03   5.144000e+03  5.144000e+03  5.144000e+03  5144.000000  \n",
       "mean   6.906520e-18   5.525216e-18  5.525216e-18 -1.105043e-17     0.674572  \n",
       "std    1.000000e+00   1.000000e+00  1.000000e+00  1.000000e+00     0.468580  \n",
       "min   -7.435531e+00  -7.229641e+00 -7.336550e+00 -7.445872e+00     0.000000  \n",
       "25%   -3.078855e-01  -3.564129e-01 -3.512149e-01 -3.619300e-01     0.000000  \n",
       "50%   -7.029728e-02  -5.228777e-02 -8.254816e-02 -1.309319e-01     1.000000  \n",
       "75%    2.860850e-01   3.126624e-01  3.204519e-01  3.310644e-01     1.000000  \n",
       "max    7.176142e+00   1.083539e+01  8.783454e+00  6.568014e+00     1.000000  "
      ]
     },
     "execution_count": 32,
     "metadata": {},
     "output_type": "execute_result"
    }
   ],
   "source": [
    "scaled_diffs.describe()"
   ]
  },
  {
   "cell_type": "code",
   "execution_count": 33,
   "metadata": {},
   "outputs": [
    {
     "data": {
      "text/html": [
       "<div>\n",
       "<style scoped>\n",
       "    .dataframe tbody tr th:only-of-type {\n",
       "        vertical-align: middle;\n",
       "    }\n",
       "\n",
       "    .dataframe tbody tr th {\n",
       "        vertical-align: top;\n",
       "    }\n",
       "\n",
       "    .dataframe thead th {\n",
       "        text-align: right;\n",
       "    }\n",
       "</style>\n",
       "<table border=\"1\" class=\"dataframe\">\n",
       "  <thead>\n",
       "    <tr style=\"text-align: right;\">\n",
       "      <th></th>\n",
       "      <th>sig_str_diff</th>\n",
       "      <th>total_str_diff</th>\n",
       "      <th>td_diff</th>\n",
       "      <th>head_diff</th>\n",
       "      <th>body_diff</th>\n",
       "      <th>leg_diff</th>\n",
       "      <th>distance_diff</th>\n",
       "      <th>clinch_diff</th>\n",
       "      <th>ground_diff</th>\n",
       "      <th>r_won</th>\n",
       "    </tr>\n",
       "  </thead>\n",
       "  <tbody>\n",
       "    <tr>\n",
       "      <th>0</th>\n",
       "      <td>1.114802</td>\n",
       "      <td>0.664146</td>\n",
       "      <td>0.259534</td>\n",
       "      <td>1.739103</td>\n",
       "      <td>0.641270</td>\n",
       "      <td>-1.377032</td>\n",
       "      <td>-0.660538</td>\n",
       "      <td>2.201119</td>\n",
       "      <td>1.717053</td>\n",
       "      <td>1</td>\n",
       "    </tr>\n",
       "    <tr>\n",
       "      <th>1</th>\n",
       "      <td>0.033070</td>\n",
       "      <td>-0.319321</td>\n",
       "      <td>0.658531</td>\n",
       "      <td>0.013585</td>\n",
       "      <td>0.392208</td>\n",
       "      <td>-0.307885</td>\n",
       "      <td>0.069362</td>\n",
       "      <td>0.186119</td>\n",
       "      <td>-0.130932</td>\n",
       "      <td>1</td>\n",
       "    </tr>\n",
       "    <tr>\n",
       "      <th>2</th>\n",
       "      <td>1.234994</td>\n",
       "      <td>0.576727</td>\n",
       "      <td>-0.538460</td>\n",
       "      <td>0.927095</td>\n",
       "      <td>1.139392</td>\n",
       "      <td>0.404879</td>\n",
       "      <td>2.015763</td>\n",
       "      <td>0.051785</td>\n",
       "      <td>-0.207931</td>\n",
       "      <td>1</td>\n",
       "    </tr>\n",
       "    <tr>\n",
       "      <th>3</th>\n",
       "      <td>0.473776</td>\n",
       "      <td>0.183340</td>\n",
       "      <td>-0.538460</td>\n",
       "      <td>-0.087916</td>\n",
       "      <td>0.143147</td>\n",
       "      <td>1.474026</td>\n",
       "      <td>0.981738</td>\n",
       "      <td>-0.216882</td>\n",
       "      <td>-0.207931</td>\n",
       "      <td>0</td>\n",
       "    </tr>\n",
       "    <tr>\n",
       "      <th>4</th>\n",
       "      <td>-0.567892</td>\n",
       "      <td>-0.537869</td>\n",
       "      <td>-0.937457</td>\n",
       "      <td>-1.508930</td>\n",
       "      <td>-0.230445</td>\n",
       "      <td>2.067996</td>\n",
       "      <td>-0.843013</td>\n",
       "      <td>1.126452</td>\n",
       "      <td>-0.669927</td>\n",
       "      <td>0</td>\n",
       "    </tr>\n",
       "  </tbody>\n",
       "</table>\n",
       "</div>"
      ],
      "text/plain": [
       "   sig_str_diff  total_str_diff   td_diff  head_diff  body_diff  leg_diff  \\\n",
       "0      1.114802        0.664146  0.259534   1.739103   0.641270 -1.377032   \n",
       "1      0.033070       -0.319321  0.658531   0.013585   0.392208 -0.307885   \n",
       "2      1.234994        0.576727 -0.538460   0.927095   1.139392  0.404879   \n",
       "3      0.473776        0.183340 -0.538460  -0.087916   0.143147  1.474026   \n",
       "4     -0.567892       -0.537869 -0.937457  -1.508930  -0.230445  2.067996   \n",
       "\n",
       "   distance_diff  clinch_diff  ground_diff  r_won  \n",
       "0      -0.660538     2.201119     1.717053      1  \n",
       "1       0.069362     0.186119    -0.130932      1  \n",
       "2       2.015763     0.051785    -0.207931      1  \n",
       "3       0.981738    -0.216882    -0.207931      0  \n",
       "4      -0.843013     1.126452    -0.669927      0  "
      ]
     },
     "execution_count": 33,
     "metadata": {},
     "output_type": "execute_result"
    }
   ],
   "source": [
    "scaled_diffs.head()"
   ]
  },
  {
   "cell_type": "code",
   "execution_count": 34,
   "metadata": {},
   "outputs": [
    {
     "data": {
      "text/plain": [
       "0.2604"
      ]
     },
     "execution_count": 34,
     "metadata": {},
     "output_type": "execute_result"
    }
   ],
   "source": [
    "(1 -.349) / 2.5"
   ]
  },
  {
   "cell_type": "code",
   "execution_count": 35,
   "metadata": {},
   "outputs": [
    {
     "data": {
      "text/plain": [
       "0.06936484184914841"
      ]
     },
     "execution_count": 35,
     "metadata": {},
     "output_type": "execute_result"
    }
   ],
   "source": [
    "(3 - 1.859642) / 16.44"
   ]
  },
  {
   "cell_type": "code",
   "execution_count": 36,
   "metadata": {},
   "outputs": [],
   "source": [
    "# A couple of them look like they were correctly converted.\n",
    "# Now I think we should convert the target column to 1 / 0 because I think that is what logistic regression wants."
   ]
  },
  {
   "cell_type": "code",
   "execution_count": 39,
   "metadata": {},
   "outputs": [
    {
     "data": {
      "text/html": [
       "<div>\n",
       "<style scoped>\n",
       "    .dataframe tbody tr th:only-of-type {\n",
       "        vertical-align: middle;\n",
       "    }\n",
       "\n",
       "    .dataframe tbody tr th {\n",
       "        vertical-align: top;\n",
       "    }\n",
       "\n",
       "    .dataframe thead th {\n",
       "        text-align: right;\n",
       "    }\n",
       "</style>\n",
       "<table border=\"1\" class=\"dataframe\">\n",
       "  <thead>\n",
       "    <tr style=\"text-align: right;\">\n",
       "      <th></th>\n",
       "      <th>r_won</th>\n",
       "    </tr>\n",
       "  </thead>\n",
       "  <tbody>\n",
       "    <tr>\n",
       "      <th>0</th>\n",
       "      <td>1</td>\n",
       "    </tr>\n",
       "    <tr>\n",
       "      <th>1</th>\n",
       "      <td>1</td>\n",
       "    </tr>\n",
       "    <tr>\n",
       "      <th>2</th>\n",
       "      <td>1</td>\n",
       "    </tr>\n",
       "    <tr>\n",
       "      <th>3</th>\n",
       "      <td>0</td>\n",
       "    </tr>\n",
       "    <tr>\n",
       "      <th>4</th>\n",
       "      <td>0</td>\n",
       "    </tr>\n",
       "    <tr>\n",
       "      <th>5</th>\n",
       "      <td>1</td>\n",
       "    </tr>\n",
       "    <tr>\n",
       "      <th>6</th>\n",
       "      <td>1</td>\n",
       "    </tr>\n",
       "    <tr>\n",
       "      <th>7</th>\n",
       "      <td>0</td>\n",
       "    </tr>\n",
       "    <tr>\n",
       "      <th>8</th>\n",
       "      <td>0</td>\n",
       "    </tr>\n",
       "    <tr>\n",
       "      <th>9</th>\n",
       "      <td>1</td>\n",
       "    </tr>\n",
       "    <tr>\n",
       "      <th>10</th>\n",
       "      <td>0</td>\n",
       "    </tr>\n",
       "    <tr>\n",
       "      <th>11</th>\n",
       "      <td>1</td>\n",
       "    </tr>\n",
       "    <tr>\n",
       "      <th>12</th>\n",
       "      <td>1</td>\n",
       "    </tr>\n",
       "    <tr>\n",
       "      <th>13</th>\n",
       "      <td>0</td>\n",
       "    </tr>\n",
       "    <tr>\n",
       "      <th>14</th>\n",
       "      <td>0</td>\n",
       "    </tr>\n",
       "    <tr>\n",
       "      <th>15</th>\n",
       "      <td>1</td>\n",
       "    </tr>\n",
       "    <tr>\n",
       "      <th>16</th>\n",
       "      <td>0</td>\n",
       "    </tr>\n",
       "    <tr>\n",
       "      <th>17</th>\n",
       "      <td>1</td>\n",
       "    </tr>\n",
       "    <tr>\n",
       "      <th>18</th>\n",
       "      <td>0</td>\n",
       "    </tr>\n",
       "    <tr>\n",
       "      <th>19</th>\n",
       "      <td>0</td>\n",
       "    </tr>\n",
       "    <tr>\n",
       "      <th>20</th>\n",
       "      <td>0</td>\n",
       "    </tr>\n",
       "    <tr>\n",
       "      <th>21</th>\n",
       "      <td>0</td>\n",
       "    </tr>\n",
       "    <tr>\n",
       "      <th>22</th>\n",
       "      <td>1</td>\n",
       "    </tr>\n",
       "    <tr>\n",
       "      <th>23</th>\n",
       "      <td>0</td>\n",
       "    </tr>\n",
       "    <tr>\n",
       "      <th>24</th>\n",
       "      <td>1</td>\n",
       "    </tr>\n",
       "  </tbody>\n",
       "</table>\n",
       "</div>"
      ],
      "text/plain": [
       "    r_won\n",
       "0       1\n",
       "1       1\n",
       "2       1\n",
       "3       0\n",
       "4       0\n",
       "5       1\n",
       "6       1\n",
       "7       0\n",
       "8       0\n",
       "9       1\n",
       "10      0\n",
       "11      1\n",
       "12      1\n",
       "13      0\n",
       "14      0\n",
       "15      1\n",
       "16      0\n",
       "17      1\n",
       "18      0\n",
       "19      0\n",
       "20      0\n",
       "21      0\n",
       "22      1\n",
       "23      0\n",
       "24      1"
      ]
     },
     "execution_count": 39,
     "metadata": {},
     "output_type": "execute_result"
    }
   ],
   "source": [
    "scaled_diffs.head(25)[['r_won']]"
   ]
  },
  {
   "cell_type": "code",
   "execution_count": 41,
   "metadata": {},
   "outputs": [
    {
     "data": {
      "text/html": [
       "<div>\n",
       "<style scoped>\n",
       "    .dataframe tbody tr th:only-of-type {\n",
       "        vertical-align: middle;\n",
       "    }\n",
       "\n",
       "    .dataframe tbody tr th {\n",
       "        vertical-align: top;\n",
       "    }\n",
       "\n",
       "    .dataframe thead th {\n",
       "        text-align: right;\n",
       "    }\n",
       "</style>\n",
       "<table border=\"1\" class=\"dataframe\">\n",
       "  <thead>\n",
       "    <tr style=\"text-align: right;\">\n",
       "      <th></th>\n",
       "      <th>sig_str_diff</th>\n",
       "      <th>total_str_diff</th>\n",
       "      <th>td_diff</th>\n",
       "      <th>head_diff</th>\n",
       "      <th>body_diff</th>\n",
       "      <th>leg_diff</th>\n",
       "      <th>distance_diff</th>\n",
       "      <th>clinch_diff</th>\n",
       "      <th>ground_diff</th>\n",
       "      <th>r_won</th>\n",
       "    </tr>\n",
       "  </thead>\n",
       "  <tbody>\n",
       "    <tr>\n",
       "      <th>0</th>\n",
       "      <td>1.114802</td>\n",
       "      <td>0.664146</td>\n",
       "      <td>0.259534</td>\n",
       "      <td>1.739103</td>\n",
       "      <td>0.641270</td>\n",
       "      <td>-1.377032</td>\n",
       "      <td>-0.660538</td>\n",
       "      <td>2.201119</td>\n",
       "      <td>1.717053</td>\n",
       "      <td>1</td>\n",
       "    </tr>\n",
       "    <tr>\n",
       "      <th>1</th>\n",
       "      <td>0.033070</td>\n",
       "      <td>-0.319321</td>\n",
       "      <td>0.658531</td>\n",
       "      <td>0.013585</td>\n",
       "      <td>0.392208</td>\n",
       "      <td>-0.307885</td>\n",
       "      <td>0.069362</td>\n",
       "      <td>0.186119</td>\n",
       "      <td>-0.130932</td>\n",
       "      <td>1</td>\n",
       "    </tr>\n",
       "    <tr>\n",
       "      <th>2</th>\n",
       "      <td>1.234994</td>\n",
       "      <td>0.576727</td>\n",
       "      <td>-0.538460</td>\n",
       "      <td>0.927095</td>\n",
       "      <td>1.139392</td>\n",
       "      <td>0.404879</td>\n",
       "      <td>2.015763</td>\n",
       "      <td>0.051785</td>\n",
       "      <td>-0.207931</td>\n",
       "      <td>1</td>\n",
       "    </tr>\n",
       "    <tr>\n",
       "      <th>3</th>\n",
       "      <td>0.473776</td>\n",
       "      <td>0.183340</td>\n",
       "      <td>-0.538460</td>\n",
       "      <td>-0.087916</td>\n",
       "      <td>0.143147</td>\n",
       "      <td>1.474026</td>\n",
       "      <td>0.981738</td>\n",
       "      <td>-0.216882</td>\n",
       "      <td>-0.207931</td>\n",
       "      <td>0</td>\n",
       "    </tr>\n",
       "    <tr>\n",
       "      <th>4</th>\n",
       "      <td>-0.567892</td>\n",
       "      <td>-0.537869</td>\n",
       "      <td>-0.937457</td>\n",
       "      <td>-1.508930</td>\n",
       "      <td>-0.230445</td>\n",
       "      <td>2.067996</td>\n",
       "      <td>-0.843013</td>\n",
       "      <td>1.126452</td>\n",
       "      <td>-0.669927</td>\n",
       "      <td>0</td>\n",
       "    </tr>\n",
       "  </tbody>\n",
       "</table>\n",
       "</div>"
      ],
      "text/plain": [
       "   sig_str_diff  total_str_diff   td_diff  head_diff  body_diff  leg_diff  \\\n",
       "0      1.114802        0.664146  0.259534   1.739103   0.641270 -1.377032   \n",
       "1      0.033070       -0.319321  0.658531   0.013585   0.392208 -0.307885   \n",
       "2      1.234994        0.576727 -0.538460   0.927095   1.139392  0.404879   \n",
       "3      0.473776        0.183340 -0.538460  -0.087916   0.143147  1.474026   \n",
       "4     -0.567892       -0.537869 -0.937457  -1.508930  -0.230445  2.067996   \n",
       "\n",
       "   distance_diff  clinch_diff  ground_diff  r_won  \n",
       "0      -0.660538     2.201119     1.717053      1  \n",
       "1       0.069362     0.186119    -0.130932      1  \n",
       "2       2.015763     0.051785    -0.207931      1  \n",
       "3       0.981738    -0.216882    -0.207931      0  \n",
       "4      -0.843013     1.126452    -0.669927      0  "
      ]
     },
     "execution_count": 41,
     "metadata": {},
     "output_type": "execute_result"
    }
   ],
   "source": [
    "scaled_diffs.head()"
   ]
  },
  {
   "cell_type": "code",
   "execution_count": 42,
   "metadata": {},
   "outputs": [],
   "source": [
    "# => Now we have a data frame that is scaled or normalized or whatever you call it, and has a 1 / 0 target column.\n",
    "# Now to figure out logistic regression."
   ]
  },
  {
   "cell_type": "code",
   "execution_count": 43,
   "metadata": {},
   "outputs": [],
   "source": [
    "from sklearn.model_selection import train_test_split"
   ]
  },
  {
   "cell_type": "code",
   "execution_count": 44,
   "metadata": {},
   "outputs": [],
   "source": [
    "x_train, x_test, y_train, y_test = train_test_split(scaled_diffs[['sig_str_diff', 'total_str_diff', 'td_diff', 'head_diff', 'body_diff',\n",
    "       'leg_diff', 'distance_diff', 'clinch_diff', 'ground_diff']], scaled_diffs['r_won'], test_size=.33, random_state=1)"
   ]
  },
  {
   "cell_type": "code",
   "execution_count": 45,
   "metadata": {},
   "outputs": [
    {
     "data": {
      "text/plain": [
       "((3446, 9), (1698, 9), (3446,), (1698,))"
      ]
     },
     "execution_count": 45,
     "metadata": {},
     "output_type": "execute_result"
    }
   ],
   "source": [
    "x_train.shape, x_test.shape, y_train.shape, y_test.shape"
   ]
  },
  {
   "cell_type": "code",
   "execution_count": 46,
   "metadata": {},
   "outputs": [
    {
     "data": {
      "text/html": [
       "<div>\n",
       "<style scoped>\n",
       "    .dataframe tbody tr th:only-of-type {\n",
       "        vertical-align: middle;\n",
       "    }\n",
       "\n",
       "    .dataframe tbody tr th {\n",
       "        vertical-align: top;\n",
       "    }\n",
       "\n",
       "    .dataframe thead th {\n",
       "        text-align: right;\n",
       "    }\n",
       "</style>\n",
       "<table border=\"1\" class=\"dataframe\">\n",
       "  <thead>\n",
       "    <tr style=\"text-align: right;\">\n",
       "      <th></th>\n",
       "      <th>sig_str_diff</th>\n",
       "      <th>total_str_diff</th>\n",
       "      <th>td_diff</th>\n",
       "      <th>head_diff</th>\n",
       "      <th>body_diff</th>\n",
       "      <th>leg_diff</th>\n",
       "      <th>distance_diff</th>\n",
       "      <th>clinch_diff</th>\n",
       "      <th>ground_diff</th>\n",
       "    </tr>\n",
       "  </thead>\n",
       "  <tbody>\n",
       "    <tr>\n",
       "      <th>4375</th>\n",
       "      <td>0.553904</td>\n",
       "      <td>0.511162</td>\n",
       "      <td>-0.139463</td>\n",
       "      <td>0.876344</td>\n",
       "      <td>0.018617</td>\n",
       "      <td>-0.426680</td>\n",
       "      <td>-0.052288</td>\n",
       "      <td>0.186119</td>\n",
       "      <td>1.024059</td>\n",
       "    </tr>\n",
       "    <tr>\n",
       "      <th>398</th>\n",
       "      <td>-0.327507</td>\n",
       "      <td>-0.297466</td>\n",
       "      <td>-0.139463</td>\n",
       "      <td>-0.189417</td>\n",
       "      <td>-0.479506</td>\n",
       "      <td>-0.070297</td>\n",
       "      <td>-0.356413</td>\n",
       "      <td>-0.082548</td>\n",
       "      <td>-0.130932</td>\n",
       "    </tr>\n",
       "    <tr>\n",
       "      <th>4908</th>\n",
       "      <td>-0.087122</td>\n",
       "      <td>0.554872</td>\n",
       "      <td>0.658531</td>\n",
       "      <td>0.064336</td>\n",
       "      <td>-0.354975</td>\n",
       "      <td>-0.070297</td>\n",
       "      <td>-0.173938</td>\n",
       "      <td>-0.082548</td>\n",
       "      <td>0.100066</td>\n",
       "    </tr>\n",
       "    <tr>\n",
       "      <th>797</th>\n",
       "      <td>-1.088726</td>\n",
       "      <td>-0.690853</td>\n",
       "      <td>-0.139463</td>\n",
       "      <td>-0.950674</td>\n",
       "      <td>-2.721057</td>\n",
       "      <td>1.592820</td>\n",
       "      <td>-1.207963</td>\n",
       "      <td>-0.485548</td>\n",
       "      <td>-0.284931</td>\n",
       "    </tr>\n",
       "    <tr>\n",
       "      <th>1877</th>\n",
       "      <td>-0.648020</td>\n",
       "      <td>-0.494159</td>\n",
       "      <td>-0.538460</td>\n",
       "      <td>-0.696922</td>\n",
       "      <td>0.143147</td>\n",
       "      <td>-0.426680</td>\n",
       "      <td>-0.356413</td>\n",
       "      <td>-0.216882</td>\n",
       "      <td>-0.669927</td>\n",
       "    </tr>\n",
       "  </tbody>\n",
       "</table>\n",
       "</div>"
      ],
      "text/plain": [
       "      sig_str_diff  total_str_diff   td_diff  head_diff  body_diff  leg_diff  \\\n",
       "4375      0.553904        0.511162 -0.139463   0.876344   0.018617 -0.426680   \n",
       "398      -0.327507       -0.297466 -0.139463  -0.189417  -0.479506 -0.070297   \n",
       "4908     -0.087122        0.554872  0.658531   0.064336  -0.354975 -0.070297   \n",
       "797      -1.088726       -0.690853 -0.139463  -0.950674  -2.721057  1.592820   \n",
       "1877     -0.648020       -0.494159 -0.538460  -0.696922   0.143147 -0.426680   \n",
       "\n",
       "      distance_diff  clinch_diff  ground_diff  \n",
       "4375      -0.052288     0.186119     1.024059  \n",
       "398       -0.356413    -0.082548    -0.130932  \n",
       "4908      -0.173938    -0.082548     0.100066  \n",
       "797       -1.207963    -0.485548    -0.284931  \n",
       "1877      -0.356413    -0.216882    -0.669927  "
      ]
     },
     "execution_count": 46,
     "metadata": {},
     "output_type": "execute_result"
    }
   ],
   "source": [
    "x_train.head()"
   ]
  },
  {
   "cell_type": "code",
   "execution_count": 47,
   "metadata": {},
   "outputs": [
    {
     "data": {
      "text/html": [
       "<div>\n",
       "<style scoped>\n",
       "    .dataframe tbody tr th:only-of-type {\n",
       "        vertical-align: middle;\n",
       "    }\n",
       "\n",
       "    .dataframe tbody tr th {\n",
       "        vertical-align: top;\n",
       "    }\n",
       "\n",
       "    .dataframe thead th {\n",
       "        text-align: right;\n",
       "    }\n",
       "</style>\n",
       "<table border=\"1\" class=\"dataframe\">\n",
       "  <thead>\n",
       "    <tr style=\"text-align: right;\">\n",
       "      <th></th>\n",
       "      <th>sig_str_diff</th>\n",
       "      <th>total_str_diff</th>\n",
       "      <th>td_diff</th>\n",
       "      <th>head_diff</th>\n",
       "      <th>body_diff</th>\n",
       "      <th>leg_diff</th>\n",
       "      <th>distance_diff</th>\n",
       "      <th>clinch_diff</th>\n",
       "      <th>ground_diff</th>\n",
       "    </tr>\n",
       "  </thead>\n",
       "  <tbody>\n",
       "    <tr>\n",
       "      <th>4227</th>\n",
       "      <td>0.433711</td>\n",
       "      <td>0.117776</td>\n",
       "      <td>-0.139463</td>\n",
       "      <td>0.419590</td>\n",
       "      <td>0.267678</td>\n",
       "      <td>0.048497</td>\n",
       "      <td>0.069362</td>\n",
       "      <td>1.529452</td>\n",
       "      <td>-0.130932</td>\n",
       "    </tr>\n",
       "    <tr>\n",
       "      <th>3712</th>\n",
       "      <td>0.233391</td>\n",
       "      <td>0.030356</td>\n",
       "      <td>-0.139463</td>\n",
       "      <td>1.028596</td>\n",
       "      <td>0.516739</td>\n",
       "      <td>-2.208591</td>\n",
       "      <td>0.495137</td>\n",
       "      <td>0.051785</td>\n",
       "      <td>-0.207931</td>\n",
       "    </tr>\n",
       "    <tr>\n",
       "      <th>5112</th>\n",
       "      <td>0.113198</td>\n",
       "      <td>-0.078918</td>\n",
       "      <td>-0.538460</td>\n",
       "      <td>-0.138666</td>\n",
       "      <td>-0.105914</td>\n",
       "      <td>0.761261</td>\n",
       "      <td>0.008537</td>\n",
       "      <td>-0.082548</td>\n",
       "      <td>0.254065</td>\n",
       "    </tr>\n",
       "    <tr>\n",
       "      <th>4250</th>\n",
       "      <td>-0.207315</td>\n",
       "      <td>-0.231902</td>\n",
       "      <td>0.259534</td>\n",
       "      <td>-0.138666</td>\n",
       "      <td>-0.105914</td>\n",
       "      <td>-0.189091</td>\n",
       "      <td>-0.113113</td>\n",
       "      <td>-0.082548</td>\n",
       "      <td>-0.207931</td>\n",
       "    </tr>\n",
       "    <tr>\n",
       "      <th>457</th>\n",
       "      <td>-1.529431</td>\n",
       "      <td>-1.390207</td>\n",
       "      <td>-0.538460</td>\n",
       "      <td>-1.305928</td>\n",
       "      <td>-1.226689</td>\n",
       "      <td>-0.307885</td>\n",
       "      <td>-1.086313</td>\n",
       "      <td>-1.694549</td>\n",
       "      <td>-0.592928</td>\n",
       "    </tr>\n",
       "  </tbody>\n",
       "</table>\n",
       "</div>"
      ],
      "text/plain": [
       "      sig_str_diff  total_str_diff   td_diff  head_diff  body_diff  leg_diff  \\\n",
       "4227      0.433711        0.117776 -0.139463   0.419590   0.267678  0.048497   \n",
       "3712      0.233391        0.030356 -0.139463   1.028596   0.516739 -2.208591   \n",
       "5112      0.113198       -0.078918 -0.538460  -0.138666  -0.105914  0.761261   \n",
       "4250     -0.207315       -0.231902  0.259534  -0.138666  -0.105914 -0.189091   \n",
       "457      -1.529431       -1.390207 -0.538460  -1.305928  -1.226689 -0.307885   \n",
       "\n",
       "      distance_diff  clinch_diff  ground_diff  \n",
       "4227       0.069362     1.529452    -0.130932  \n",
       "3712       0.495137     0.051785    -0.207931  \n",
       "5112       0.008537    -0.082548     0.254065  \n",
       "4250      -0.113113    -0.082548    -0.207931  \n",
       "457       -1.086313    -1.694549    -0.592928  "
      ]
     },
     "execution_count": 47,
     "metadata": {},
     "output_type": "execute_result"
    }
   ],
   "source": [
    "x_test.head()"
   ]
  },
  {
   "cell_type": "code",
   "execution_count": 48,
   "metadata": {},
   "outputs": [
    {
     "data": {
      "text/plain": [
       "4375    1\n",
       "398     1\n",
       "4908    1\n",
       "797     0\n",
       "1877    0\n",
       "Name: r_won, dtype: int64"
      ]
     },
     "execution_count": 48,
     "metadata": {},
     "output_type": "execute_result"
    }
   ],
   "source": [
    "y_train.head()"
   ]
  },
  {
   "cell_type": "code",
   "execution_count": 49,
   "metadata": {},
   "outputs": [
    {
     "data": {
      "text/plain": [
       "4227    1\n",
       "3712    1\n",
       "5112    1\n",
       "4250    1\n",
       "457     0\n",
       "Name: r_won, dtype: int64"
      ]
     },
     "execution_count": 49,
     "metadata": {},
     "output_type": "execute_result"
    }
   ],
   "source": [
    "y_test.head()"
   ]
  },
  {
   "cell_type": "code",
   "execution_count": 50,
   "metadata": {},
   "outputs": [],
   "source": [
    "from sklearn.linear_model import LogisticRegression"
   ]
  },
  {
   "cell_type": "code",
   "execution_count": 51,
   "metadata": {},
   "outputs": [],
   "source": [
    "lr = LogisticRegression()"
   ]
  },
  {
   "cell_type": "code",
   "execution_count": 52,
   "metadata": {},
   "outputs": [
    {
     "data": {
      "text/plain": [
       "LogisticRegression()"
      ]
     },
     "execution_count": 52,
     "metadata": {},
     "output_type": "execute_result"
    }
   ],
   "source": [
    "lr.fit(x_train, y_train)"
   ]
  },
  {
   "cell_type": "code",
   "execution_count": 53,
   "metadata": {},
   "outputs": [],
   "source": [
    "predictions = lr.predict(x_test)"
   ]
  },
  {
   "cell_type": "code",
   "execution_count": 54,
   "metadata": {},
   "outputs": [],
   "source": [
    "from sklearn.metrics import confusion_matrix, accuracy_score, classification_report"
   ]
  },
  {
   "cell_type": "code",
   "execution_count": 55,
   "metadata": {},
   "outputs": [
    {
     "data": {
      "text/plain": [
       "array([[ 346,  197],\n",
       "       [  77, 1078]], dtype=int64)"
      ]
     },
     "execution_count": 55,
     "metadata": {},
     "output_type": "execute_result"
    }
   ],
   "source": [
    "confusion_matrix(y_test, predictions)"
   ]
  },
  {
   "cell_type": "code",
   "execution_count": 56,
   "metadata": {},
   "outputs": [
    {
     "data": {
      "text/plain": [
       "0.8386336866902238"
      ]
     },
     "execution_count": 56,
     "metadata": {},
     "output_type": "execute_result"
    }
   ],
   "source": [
    "accuracy_score(y_test, predictions)"
   ]
  },
  {
   "cell_type": "code",
   "execution_count": 57,
   "metadata": {},
   "outputs": [
    {
     "name": "stdout",
     "output_type": "stream",
     "text": [
      "              precision    recall  f1-score   support\n",
      "\n",
      "           0       0.82      0.64      0.72       543\n",
      "           1       0.85      0.93      0.89      1155\n",
      "\n",
      "    accuracy                           0.84      1698\n",
      "   macro avg       0.83      0.79      0.80      1698\n",
      "weighted avg       0.84      0.84      0.83      1698\n",
      "\n"
     ]
    }
   ],
   "source": [
    "print(classification_report(y_test, predictions))"
   ]
  },
  {
   "cell_type": "code",
   "execution_count": 76,
   "metadata": {},
   "outputs": [
    {
     "data": {
      "text/plain": [
       "1    0.674572\n",
       "0    0.325428\n",
       "Name: r_won, dtype: float64"
      ]
     },
     "execution_count": 76,
     "metadata": {},
     "output_type": "execute_result"
    }
   ],
   "source": [
    "scaled_diffs.r_won.value_counts() / scaled_diffs.shape[0]"
   ]
  },
  {
   "cell_type": "code",
   "execution_count": 77,
   "metadata": {},
   "outputs": [
    {
     "data": {
      "text/plain": [
       "r       0.674572\n",
       "b       0.309292\n",
       "None    0.016135\n",
       "Name: r_b_winner, dtype: float64"
      ]
     },
     "execution_count": 77,
     "metadata": {},
     "output_type": "execute_result"
    }
   ],
   "source": [
    "fights.r_b_winner.value_counts() / fights.shape[0]"
   ]
  },
  {
   "cell_type": "code",
   "execution_count": 78,
   "metadata": {},
   "outputs": [
    {
     "data": {
      "text/plain": [
       "1    0.750883\n",
       "0    0.249117\n",
       "dtype: float64"
      ]
     },
     "execution_count": 78,
     "metadata": {},
     "output_type": "execute_result"
    }
   ],
   "source": [
    "pd.Series(predictions).value_counts() / len(predictions)"
   ]
  },
  {
   "cell_type": "code",
   "execution_count": 61,
   "metadata": {},
   "outputs": [],
   "source": [
    "# The red winner won about 67.5 % of the time.  So if we were to guess \"Red\" as the winner all the time, we would be right\n",
    "# about 67.4 % of the time.\n",
    "# The logistic regression model was correct about 83.9% of the time.  So it did better than just guessing."
   ]
  },
  {
   "cell_type": "code",
   "execution_count": 62,
   "metadata": {},
   "outputs": [],
   "source": [
    "# Let's try to run a logistic regression on the original diffs df."
   ]
  },
  {
   "cell_type": "code",
   "execution_count": 63,
   "metadata": {},
   "outputs": [],
   "source": [
    "lr2 = LogisticRegression()"
   ]
  },
  {
   "cell_type": "code",
   "execution_count": 64,
   "metadata": {},
   "outputs": [],
   "source": [
    "# using diffs, not scaled_diffs\n",
    "x_train2, x_test2, y_train2, y_test2 = train_test_split(diffs[['sig_str_diff', 'total_str_diff', 'td_diff', 'head_diff', 'body_diff',\n",
    "       'leg_diff', 'distance_diff', 'clinch_diff', 'ground_diff']], diffs['r_won'], test_size=.33, random_state=1)"
   ]
  },
  {
   "cell_type": "code",
   "execution_count": 65,
   "metadata": {},
   "outputs": [
    {
     "data": {
      "text/plain": [
       "((3446, 9), (1698, 9), (3446,), (1698,))"
      ]
     },
     "execution_count": 65,
     "metadata": {},
     "output_type": "execute_result"
    }
   ],
   "source": [
    "x_train2.shape, x_test2.shape, y_train2.shape, y_test2.shape"
   ]
  },
  {
   "cell_type": "code",
   "execution_count": 66,
   "metadata": {},
   "outputs": [
    {
     "data": {
      "text/html": [
       "<div>\n",
       "<style scoped>\n",
       "    .dataframe tbody tr th:only-of-type {\n",
       "        vertical-align: middle;\n",
       "    }\n",
       "\n",
       "    .dataframe tbody tr th {\n",
       "        vertical-align: top;\n",
       "    }\n",
       "\n",
       "    .dataframe thead th {\n",
       "        text-align: right;\n",
       "    }\n",
       "</style>\n",
       "<table border=\"1\" class=\"dataframe\">\n",
       "  <thead>\n",
       "    <tr style=\"text-align: right;\">\n",
       "      <th></th>\n",
       "      <th>sig_str_diff</th>\n",
       "      <th>total_str_diff</th>\n",
       "      <th>td_diff</th>\n",
       "      <th>head_diff</th>\n",
       "      <th>body_diff</th>\n",
       "      <th>leg_diff</th>\n",
       "      <th>distance_diff</th>\n",
       "      <th>clinch_diff</th>\n",
       "      <th>ground_diff</th>\n",
       "    </tr>\n",
       "  </thead>\n",
       "  <tbody>\n",
       "    <tr>\n",
       "      <th>4375</th>\n",
       "      <td>19</td>\n",
       "      <td>33</td>\n",
       "      <td>0</td>\n",
       "      <td>21</td>\n",
       "      <td>1</td>\n",
       "      <td>-3</td>\n",
       "      <td>1</td>\n",
       "      <td>2</td>\n",
       "      <td>16</td>\n",
       "    </tr>\n",
       "    <tr>\n",
       "      <th>398</th>\n",
       "      <td>-3</td>\n",
       "      <td>-4</td>\n",
       "      <td>0</td>\n",
       "      <td>0</td>\n",
       "      <td>-3</td>\n",
       "      <td>0</td>\n",
       "      <td>-4</td>\n",
       "      <td>0</td>\n",
       "      <td>1</td>\n",
       "    </tr>\n",
       "    <tr>\n",
       "      <th>4908</th>\n",
       "      <td>3</td>\n",
       "      <td>35</td>\n",
       "      <td>2</td>\n",
       "      <td>5</td>\n",
       "      <td>-2</td>\n",
       "      <td>0</td>\n",
       "      <td>-1</td>\n",
       "      <td>0</td>\n",
       "      <td>4</td>\n",
       "    </tr>\n",
       "    <tr>\n",
       "      <th>797</th>\n",
       "      <td>-22</td>\n",
       "      <td>-22</td>\n",
       "      <td>0</td>\n",
       "      <td>-15</td>\n",
       "      <td>-21</td>\n",
       "      <td>14</td>\n",
       "      <td>-18</td>\n",
       "      <td>-3</td>\n",
       "      <td>-1</td>\n",
       "    </tr>\n",
       "    <tr>\n",
       "      <th>1877</th>\n",
       "      <td>-11</td>\n",
       "      <td>-13</td>\n",
       "      <td>-1</td>\n",
       "      <td>-10</td>\n",
       "      <td>2</td>\n",
       "      <td>-3</td>\n",
       "      <td>-4</td>\n",
       "      <td>-1</td>\n",
       "      <td>-6</td>\n",
       "    </tr>\n",
       "  </tbody>\n",
       "</table>\n",
       "</div>"
      ],
      "text/plain": [
       "      sig_str_diff  total_str_diff  td_diff  head_diff  body_diff  leg_diff  \\\n",
       "4375            19              33        0         21          1        -3   \n",
       "398             -3              -4        0          0         -3         0   \n",
       "4908             3              35        2          5         -2         0   \n",
       "797            -22             -22        0        -15        -21        14   \n",
       "1877           -11             -13       -1        -10          2        -3   \n",
       "\n",
       "      distance_diff  clinch_diff  ground_diff  \n",
       "4375              1            2           16  \n",
       "398              -4            0            1  \n",
       "4908             -1            0            4  \n",
       "797             -18           -3           -1  \n",
       "1877             -4           -1           -6  "
      ]
     },
     "execution_count": 66,
     "metadata": {},
     "output_type": "execute_result"
    }
   ],
   "source": [
    "x_train2.head()"
   ]
  },
  {
   "cell_type": "code",
   "execution_count": 67,
   "metadata": {},
   "outputs": [
    {
     "data": {
      "text/plain": [
       "LogisticRegression()"
      ]
     },
     "execution_count": 67,
     "metadata": {},
     "output_type": "execute_result"
    }
   ],
   "source": [
    "lr2.fit(x_train2, y_train2)"
   ]
  },
  {
   "cell_type": "code",
   "execution_count": 68,
   "metadata": {},
   "outputs": [],
   "source": [
    "predictions2 = lr.predict(x_test2)"
   ]
  },
  {
   "cell_type": "code",
   "execution_count": 69,
   "metadata": {},
   "outputs": [
    {
     "data": {
      "text/plain": [
       "array([[426, 117],\n",
       "       [179, 976]], dtype=int64)"
      ]
     },
     "execution_count": 69,
     "metadata": {},
     "output_type": "execute_result"
    }
   ],
   "source": [
    "confusion_matrix(y_test2, predictions2)"
   ]
  },
  {
   "cell_type": "code",
   "execution_count": 70,
   "metadata": {},
   "outputs": [
    {
     "data": {
      "text/plain": [
       "0.8256772673733804"
      ]
     },
     "execution_count": 70,
     "metadata": {},
     "output_type": "execute_result"
    }
   ],
   "source": [
    "accuracy_score(y_test2, predictions2)"
   ]
  },
  {
   "cell_type": "code",
   "execution_count": 71,
   "metadata": {},
   "outputs": [
    {
     "name": "stdout",
     "output_type": "stream",
     "text": [
      "              precision    recall  f1-score   support\n",
      "\n",
      "           0       0.70      0.78      0.74       543\n",
      "           1       0.89      0.85      0.87      1155\n",
      "\n",
      "    accuracy                           0.83      1698\n",
      "   macro avg       0.80      0.81      0.81      1698\n",
      "weighted avg       0.83      0.83      0.83      1698\n",
      "\n"
     ]
    }
   ],
   "source": [
    "print(classification_report(y_test2, predictions2))"
   ]
  },
  {
   "cell_type": "code",
   "execution_count": 72,
   "metadata": {},
   "outputs": [
    {
     "data": {
      "text/plain": [
       "1    0.643698\n",
       "0    0.356302\n",
       "dtype: float64"
      ]
     },
     "execution_count": 72,
     "metadata": {},
     "output_type": "execute_result"
    }
   ],
   "source": [
    "pd.Series(predictions2).value_counts() / len(predictions2)"
   ]
  },
  {
   "cell_type": "code",
   "execution_count": 73,
   "metadata": {},
   "outputs": [
    {
     "data": {
      "text/plain": [
       "1    0.674572\n",
       "0    0.325428\n",
       "Name: r_won, dtype: float64"
      ]
     },
     "execution_count": 73,
     "metadata": {},
     "output_type": "execute_result"
    }
   ],
   "source": [
    "scaled_diffs.r_won.value_counts() / scaled_diffs.shape[0]"
   ]
  },
  {
   "cell_type": "code",
   "execution_count": 65,
   "metadata": {},
   "outputs": [],
   "source": [
    "# That is interesting.  Using the non scaled version is almost as accurate as using the scaled version."
   ]
  },
  {
   "cell_type": "code",
   "execution_count": 79,
   "metadata": {},
   "outputs": [
    {
     "data": {
      "text/plain": [
       "1    0.750883\n",
       "0    0.249117\n",
       "dtype: float64"
      ]
     },
     "execution_count": 79,
     "metadata": {},
     "output_type": "execute_result"
    }
   ],
   "source": [
    "# reminder of the predictions histogram\n",
    "pd.Series(predictions).value_counts() / len(predictions)"
   ]
  },
  {
   "cell_type": "code",
   "execution_count": null,
   "metadata": {},
   "outputs": [],
   "source": [
    "# Se the first one was more skewed toward predicting \"r won\".  The second was closer to the actual ratio of red to blue, while still being almost as accurate.\n",
    "# Something about that seems better to me.  But I could be wrong."
   ]
  }
 ],
 "metadata": {
  "kernelspec": {
   "display_name": "Python 3",
   "language": "python",
   "name": "python3"
  },
  "language_info": {
   "codemirror_mode": {
    "name": "ipython",
    "version": 3
   },
   "file_extension": ".py",
   "mimetype": "text/x-python",
   "name": "python",
   "nbconvert_exporter": "python",
   "pygments_lexer": "ipython3",
   "version": "3.7.9"
  }
 },
 "nbformat": 4,
 "nbformat_minor": 4
}
