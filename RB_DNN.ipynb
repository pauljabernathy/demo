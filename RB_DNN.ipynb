{
 "cells": [
  {
   "cell_type": "code",
   "execution_count": 1,
   "metadata": {},
   "outputs": [],
   "source": [
    "from cleanser import *"
   ]
  },
  {
   "cell_type": "code",
   "execution_count": 2,
   "metadata": {},
   "outputs": [],
   "source": [
    "import pandas as pd\n",
    "import numpy as np\n",
    "import matplotlib.pyplot as plt\n",
    "import seaborn as sns\n",
    "from sklearn.model_selection import train_test_split\n",
    "from sklearn.metrics import confusion_matrix, accuracy_score, classification_report"
   ]
  },
  {
   "cell_type": "code",
   "execution_count": 3,
   "metadata": {},
   "outputs": [],
   "source": [
    "import tensorflow as tf\n",
    "#tf.debugging.set_log_device_placement(True)"
   ]
  },
  {
   "cell_type": "code",
   "execution_count": 4,
   "metadata": {},
   "outputs": [
    {
     "name": "stdout",
     "output_type": "stream",
     "text": [
      "[name: \"/device:CPU:0\"\n",
      "device_type: \"CPU\"\n",
      "memory_limit: 268435456\n",
      "locality {\n",
      "}\n",
      "incarnation: 14043170608732785865\n",
      ", name: \"/device:GPU:0\"\n",
      "device_type: \"GPU\"\n",
      "memory_limit: 303014378\n",
      "locality {\n",
      "  bus_id: 1\n",
      "  links {\n",
      "  }\n",
      "}\n",
      "incarnation: 10847689528824014132\n",
      "physical_device_desc: \"device: 0, name: GeForce GTX 1650, pci bus id: 0000:01:00.0, compute capability: 7.5\"\n",
      "]\n"
     ]
    }
   ],
   "source": [
    "from tensorflow.python.client import device_lib\n",
    "print(device_lib.list_local_devices())"
   ]
  },
  {
   "cell_type": "code",
   "execution_count": 5,
   "metadata": {},
   "outputs": [],
   "source": [
    "#from keras import backend as K\n",
    "#K.tensorflow_backend._get_available_gpus()"
   ]
  },
  {
   "cell_type": "code",
   "execution_count": 6,
   "metadata": {},
   "outputs": [],
   "source": [
    "physical_devices = tf.config.list_physical_devices('GPU')"
   ]
  },
  {
   "cell_type": "code",
   "execution_count": 7,
   "metadata": {},
   "outputs": [
    {
     "data": {
      "text/plain": [
       "[PhysicalDevice(name='/physical_device:GPU:0', device_type='GPU')]"
      ]
     },
     "execution_count": 7,
     "metadata": {},
     "output_type": "execute_result"
    }
   ],
   "source": [
    "physical_devices"
   ]
  },
  {
   "cell_type": "code",
   "execution_count": 8,
   "metadata": {},
   "outputs": [],
   "source": [
    "#gpu_options = tf.GPUOptions(per_process_gpu_memory_fraction=0.9)\n",
    "\n",
    "#tf.Session(config=tf.ConfigProto(gpu_options=gpu_options,allow_soft_placement=True))"
   ]
  },
  {
   "cell_type": "code",
   "execution_count": 9,
   "metadata": {},
   "outputs": [],
   "source": [
    "#import os\n",
    "#os.environ[\"CUDA_VISIBLE_DEVICES\"] = \"-1\" \n",
    "#os.environ[\"CUDA_VISIBLE_DEVICES\"]"
   ]
  },
  {
   "cell_type": "code",
   "execution_count": null,
   "metadata": {},
   "outputs": [],
   "source": []
  },
  {
   "cell_type": "code",
   "execution_count": null,
   "metadata": {},
   "outputs": [],
   "source": []
  },
  {
   "cell_type": "code",
   "execution_count": null,
   "metadata": {},
   "outputs": [],
   "source": []
  },
  {
   "cell_type": "code",
   "execution_count": 10,
   "metadata": {},
   "outputs": [],
   "source": [
    "cleanser = RawFightsCleanser()"
   ]
  },
  {
   "cell_type": "code",
   "execution_count": 11,
   "metadata": {},
   "outputs": [],
   "source": [
    "fights = cleanser.load_and_cleanse('raw_total_fight_data.csv', sep=';')"
   ]
  },
  {
   "cell_type": "code",
   "execution_count": 12,
   "metadata": {},
   "outputs": [],
   "source": [
    "# check and see if the expanded cleaning gives us the same as before; even do logistic regression and see if we get the same thing"
   ]
  },
  {
   "cell_type": "code",
   "execution_count": 13,
   "metadata": {},
   "outputs": [
    {
     "data": {
      "text/html": [
       "<div>\n",
       "<style scoped>\n",
       "    .dataframe tbody tr th:only-of-type {\n",
       "        vertical-align: middle;\n",
       "    }\n",
       "\n",
       "    .dataframe tbody tr th {\n",
       "        vertical-align: top;\n",
       "    }\n",
       "\n",
       "    .dataframe thead th {\n",
       "        text-align: right;\n",
       "    }\n",
       "</style>\n",
       "<table border=\"1\" class=\"dataframe\">\n",
       "  <thead>\n",
       "    <tr style=\"text-align: right;\">\n",
       "      <th></th>\n",
       "      <th>r_fighter</th>\n",
       "      <th>b_fighter</th>\n",
       "      <th>r_kd</th>\n",
       "      <th>b_kd</th>\n",
       "      <th>r_sig_str</th>\n",
       "      <th>b_sig_str</th>\n",
       "      <th>r_sig_str_pct</th>\n",
       "      <th>b_sig_str_pct</th>\n",
       "      <th>r_total_str</th>\n",
       "      <th>b_total_str</th>\n",
       "      <th>...</th>\n",
       "      <th>b_ground_att</th>\n",
       "      <th>r_ground_suc</th>\n",
       "      <th>b_ground_suc</th>\n",
       "      <th>r_ground_ratio</th>\n",
       "      <th>b_ground_ratio</th>\n",
       "      <th>r_ground_pct</th>\n",
       "      <th>b_ground_pct</th>\n",
       "      <th>ground_diff</th>\n",
       "      <th>loser</th>\n",
       "      <th>r_b_winner</th>\n",
       "    </tr>\n",
       "  </thead>\n",
       "  <tbody>\n",
       "    <tr>\n",
       "      <th>0</th>\n",
       "      <td>Henry Cejudo</td>\n",
       "      <td>Marlon Moraes</td>\n",
       "      <td>0</td>\n",
       "      <td>0</td>\n",
       "      <td>90 of 171</td>\n",
       "      <td>57 of 119</td>\n",
       "      <td>52</td>\n",
       "      <td>47</td>\n",
       "      <td>99 of 182</td>\n",
       "      <td>59 of 121</td>\n",
       "      <td>...</td>\n",
       "      <td>1</td>\n",
       "      <td>26</td>\n",
       "      <td>1</td>\n",
       "      <td>0.866667</td>\n",
       "      <td>1.0</td>\n",
       "      <td>86</td>\n",
       "      <td>100</td>\n",
       "      <td>25</td>\n",
       "      <td>Marlon Moraes</td>\n",
       "      <td>r</td>\n",
       "    </tr>\n",
       "    <tr>\n",
       "      <th>1</th>\n",
       "      <td>Valentina Shevchenko</td>\n",
       "      <td>Jessica Eye</td>\n",
       "      <td>1</td>\n",
       "      <td>0</td>\n",
       "      <td>8 of 11</td>\n",
       "      <td>2 of 12</td>\n",
       "      <td>72</td>\n",
       "      <td>16</td>\n",
       "      <td>37 of 40</td>\n",
       "      <td>42 of 52</td>\n",
       "      <td>...</td>\n",
       "      <td>0</td>\n",
       "      <td>1</td>\n",
       "      <td>0</td>\n",
       "      <td>1.000000</td>\n",
       "      <td>0.0</td>\n",
       "      <td>100</td>\n",
       "      <td>0</td>\n",
       "      <td>1</td>\n",
       "      <td>Jessica Eye</td>\n",
       "      <td>r</td>\n",
       "    </tr>\n",
       "    <tr>\n",
       "      <th>2</th>\n",
       "      <td>Tony Ferguson</td>\n",
       "      <td>Donald Cerrone</td>\n",
       "      <td>0</td>\n",
       "      <td>0</td>\n",
       "      <td>104 of 200</td>\n",
       "      <td>68 of 185</td>\n",
       "      <td>52</td>\n",
       "      <td>36</td>\n",
       "      <td>104 of 200</td>\n",
       "      <td>68 of 185</td>\n",
       "      <td>...</td>\n",
       "      <td>0</td>\n",
       "      <td>0</td>\n",
       "      <td>0</td>\n",
       "      <td>0.000000</td>\n",
       "      <td>0.0</td>\n",
       "      <td>0</td>\n",
       "      <td>0</td>\n",
       "      <td>0</td>\n",
       "      <td>Donald Cerrone</td>\n",
       "      <td>r</td>\n",
       "    </tr>\n",
       "    <tr>\n",
       "      <th>3</th>\n",
       "      <td>Jimmie Rivera</td>\n",
       "      <td>Petr Yan</td>\n",
       "      <td>0</td>\n",
       "      <td>2</td>\n",
       "      <td>73 of 192</td>\n",
       "      <td>56 of 189</td>\n",
       "      <td>38</td>\n",
       "      <td>29</td>\n",
       "      <td>76 of 195</td>\n",
       "      <td>58 of 192</td>\n",
       "      <td>...</td>\n",
       "      <td>10</td>\n",
       "      <td>4</td>\n",
       "      <td>4</td>\n",
       "      <td>1.000000</td>\n",
       "      <td>0.4</td>\n",
       "      <td>100</td>\n",
       "      <td>40</td>\n",
       "      <td>0</td>\n",
       "      <td>Jimmie Rivera</td>\n",
       "      <td>b</td>\n",
       "    </tr>\n",
       "    <tr>\n",
       "      <th>4</th>\n",
       "      <td>Tai Tuivasa</td>\n",
       "      <td>Blagoy Ivanov</td>\n",
       "      <td>0</td>\n",
       "      <td>1</td>\n",
       "      <td>64 of 144</td>\n",
       "      <td>73 of 123</td>\n",
       "      <td>44</td>\n",
       "      <td>59</td>\n",
       "      <td>66 of 146</td>\n",
       "      <td>81 of 131</td>\n",
       "      <td>...</td>\n",
       "      <td>6</td>\n",
       "      <td>0</td>\n",
       "      <td>6</td>\n",
       "      <td>0.000000</td>\n",
       "      <td>1.0</td>\n",
       "      <td>0</td>\n",
       "      <td>100</td>\n",
       "      <td>-6</td>\n",
       "      <td>Tai Tuivasa</td>\n",
       "      <td>b</td>\n",
       "    </tr>\n",
       "  </tbody>\n",
       "</table>\n",
       "<p>5 rows × 120 columns</p>\n",
       "</div>"
      ],
      "text/plain": [
       "              r_fighter       b_fighter  r_kd  b_kd   r_sig_str  b_sig_str  \\\n",
       "0          Henry Cejudo   Marlon Moraes     0     0   90 of 171  57 of 119   \n",
       "1  Valentina Shevchenko     Jessica Eye     1     0     8 of 11    2 of 12   \n",
       "2         Tony Ferguson  Donald Cerrone     0     0  104 of 200  68 of 185   \n",
       "3         Jimmie Rivera        Petr Yan     0     2   73 of 192  56 of 189   \n",
       "4           Tai Tuivasa   Blagoy Ivanov     0     1   64 of 144  73 of 123   \n",
       "\n",
       "   r_sig_str_pct  b_sig_str_pct r_total_str b_total_str  ... b_ground_att  \\\n",
       "0             52             47   99 of 182   59 of 121  ...            1   \n",
       "1             72             16    37 of 40    42 of 52  ...            0   \n",
       "2             52             36  104 of 200   68 of 185  ...            0   \n",
       "3             38             29   76 of 195   58 of 192  ...           10   \n",
       "4             44             59   66 of 146   81 of 131  ...            6   \n",
       "\n",
       "  r_ground_suc  b_ground_suc  r_ground_ratio  b_ground_ratio  r_ground_pct  \\\n",
       "0           26             1        0.866667             1.0            86   \n",
       "1            1             0        1.000000             0.0           100   \n",
       "2            0             0        0.000000             0.0             0   \n",
       "3            4             4        1.000000             0.4           100   \n",
       "4            0             6        0.000000             1.0             0   \n",
       "\n",
       "   b_ground_pct  ground_diff           loser  r_b_winner  \n",
       "0           100           25   Marlon Moraes           r  \n",
       "1             0            1     Jessica Eye           r  \n",
       "2             0            0  Donald Cerrone           r  \n",
       "3            40            0   Jimmie Rivera           b  \n",
       "4           100           -6     Tai Tuivasa           b  \n",
       "\n",
       "[5 rows x 120 columns]"
      ]
     },
     "execution_count": 13,
     "metadata": {},
     "output_type": "execute_result"
    }
   ],
   "source": [
    "fights.head()"
   ]
  },
  {
   "cell_type": "code",
   "execution_count": 14,
   "metadata": {},
   "outputs": [
    {
     "data": {
      "text/plain": [
       "Index(['r_fighter', 'b_fighter', 'r_kd', 'b_kd', 'r_sig_str', 'b_sig_str',\n",
       "       'r_sig_str_pct', 'b_sig_str_pct', 'r_total_str', 'b_total_str',\n",
       "       ...\n",
       "       'b_ground_att', 'r_ground_suc', 'b_ground_suc', 'r_ground_ratio',\n",
       "       'b_ground_ratio', 'r_ground_pct', 'b_ground_pct', 'ground_diff',\n",
       "       'loser', 'r_b_winner'],\n",
       "      dtype='object', length=120)"
      ]
     },
     "execution_count": 14,
     "metadata": {},
     "output_type": "execute_result"
    }
   ],
   "source": [
    "fights.columns"
   ]
  },
  {
   "cell_type": "code",
   "execution_count": 15,
   "metadata": {},
   "outputs": [
    {
     "data": {
      "text/html": [
       "<div>\n",
       "<style scoped>\n",
       "    .dataframe tbody tr th:only-of-type {\n",
       "        vertical-align: middle;\n",
       "    }\n",
       "\n",
       "    .dataframe tbody tr th {\n",
       "        vertical-align: top;\n",
       "    }\n",
       "\n",
       "    .dataframe thead th {\n",
       "        text-align: right;\n",
       "    }\n",
       "</style>\n",
       "<table border=\"1\" class=\"dataframe\">\n",
       "  <thead>\n",
       "    <tr style=\"text-align: right;\">\n",
       "      <th></th>\n",
       "      <th>r_fighter</th>\n",
       "      <th>b_fighter</th>\n",
       "      <th>winner</th>\n",
       "      <th>r_b_winner</th>\n",
       "    </tr>\n",
       "  </thead>\n",
       "  <tbody>\n",
       "    <tr>\n",
       "      <th>0</th>\n",
       "      <td>Henry Cejudo</td>\n",
       "      <td>Marlon Moraes</td>\n",
       "      <td>Henry Cejudo</td>\n",
       "      <td>r</td>\n",
       "    </tr>\n",
       "    <tr>\n",
       "      <th>1</th>\n",
       "      <td>Valentina Shevchenko</td>\n",
       "      <td>Jessica Eye</td>\n",
       "      <td>Valentina Shevchenko</td>\n",
       "      <td>r</td>\n",
       "    </tr>\n",
       "    <tr>\n",
       "      <th>2</th>\n",
       "      <td>Tony Ferguson</td>\n",
       "      <td>Donald Cerrone</td>\n",
       "      <td>Tony Ferguson</td>\n",
       "      <td>r</td>\n",
       "    </tr>\n",
       "    <tr>\n",
       "      <th>3</th>\n",
       "      <td>Jimmie Rivera</td>\n",
       "      <td>Petr Yan</td>\n",
       "      <td>Petr Yan</td>\n",
       "      <td>b</td>\n",
       "    </tr>\n",
       "    <tr>\n",
       "      <th>4</th>\n",
       "      <td>Tai Tuivasa</td>\n",
       "      <td>Blagoy Ivanov</td>\n",
       "      <td>Blagoy Ivanov</td>\n",
       "      <td>b</td>\n",
       "    </tr>\n",
       "  </tbody>\n",
       "</table>\n",
       "</div>"
      ],
      "text/plain": [
       "              r_fighter       b_fighter                winner r_b_winner\n",
       "0          Henry Cejudo   Marlon Moraes          Henry Cejudo          r\n",
       "1  Valentina Shevchenko     Jessica Eye  Valentina Shevchenko          r\n",
       "2         Tony Ferguson  Donald Cerrone         Tony Ferguson          r\n",
       "3         Jimmie Rivera        Petr Yan              Petr Yan          b\n",
       "4           Tai Tuivasa   Blagoy Ivanov         Blagoy Ivanov          b"
      ]
     },
     "execution_count": 15,
     "metadata": {},
     "output_type": "execute_result"
    }
   ],
   "source": [
    "fights.head()[['r_fighter', 'b_fighter', 'winner', 'r_b_winner']]"
   ]
  },
  {
   "cell_type": "code",
   "execution_count": 16,
   "metadata": {},
   "outputs": [
    {
     "data": {
      "text/plain": [
       "['sig_str_diff',\n",
       " 'total_str_diff',\n",
       " 'td_diff',\n",
       " 'head_diff',\n",
       " 'body_diff',\n",
       " 'leg_diff',\n",
       " 'distance_diff',\n",
       " 'clinch_diff',\n",
       " 'ground_diff']"
      ]
     },
     "execution_count": 16,
     "metadata": {},
     "output_type": "execute_result"
    }
   ],
   "source": [
    "diff_columns = [c for c in fights.columns if '_diff' in c]\n",
    "diff_columns"
   ]
  },
  {
   "cell_type": "code",
   "execution_count": 17,
   "metadata": {},
   "outputs": [
    {
     "data": {
      "text/html": [
       "<div>\n",
       "<style scoped>\n",
       "    .dataframe tbody tr th:only-of-type {\n",
       "        vertical-align: middle;\n",
       "    }\n",
       "\n",
       "    .dataframe tbody tr th {\n",
       "        vertical-align: top;\n",
       "    }\n",
       "\n",
       "    .dataframe thead th {\n",
       "        text-align: right;\n",
       "    }\n",
       "</style>\n",
       "<table border=\"1\" class=\"dataframe\">\n",
       "  <thead>\n",
       "    <tr style=\"text-align: right;\">\n",
       "      <th></th>\n",
       "      <th>sig_str_diff</th>\n",
       "      <th>total_str_diff</th>\n",
       "      <th>td_diff</th>\n",
       "      <th>head_diff</th>\n",
       "      <th>body_diff</th>\n",
       "      <th>leg_diff</th>\n",
       "      <th>distance_diff</th>\n",
       "      <th>clinch_diff</th>\n",
       "      <th>ground_diff</th>\n",
       "      <th>r_b_winner</th>\n",
       "    </tr>\n",
       "  </thead>\n",
       "  <tbody>\n",
       "    <tr>\n",
       "      <th>0</th>\n",
       "      <td>33</td>\n",
       "      <td>40</td>\n",
       "      <td>1</td>\n",
       "      <td>38</td>\n",
       "      <td>6</td>\n",
       "      <td>-11</td>\n",
       "      <td>-9</td>\n",
       "      <td>17</td>\n",
       "      <td>25</td>\n",
       "      <td>r</td>\n",
       "    </tr>\n",
       "    <tr>\n",
       "      <th>1</th>\n",
       "      <td>6</td>\n",
       "      <td>-5</td>\n",
       "      <td>2</td>\n",
       "      <td>4</td>\n",
       "      <td>4</td>\n",
       "      <td>-2</td>\n",
       "      <td>3</td>\n",
       "      <td>2</td>\n",
       "      <td>1</td>\n",
       "      <td>r</td>\n",
       "    </tr>\n",
       "    <tr>\n",
       "      <th>2</th>\n",
       "      <td>36</td>\n",
       "      <td>36</td>\n",
       "      <td>-1</td>\n",
       "      <td>22</td>\n",
       "      <td>10</td>\n",
       "      <td>4</td>\n",
       "      <td>35</td>\n",
       "      <td>1</td>\n",
       "      <td>0</td>\n",
       "      <td>r</td>\n",
       "    </tr>\n",
       "    <tr>\n",
       "      <th>3</th>\n",
       "      <td>17</td>\n",
       "      <td>18</td>\n",
       "      <td>-1</td>\n",
       "      <td>2</td>\n",
       "      <td>2</td>\n",
       "      <td>13</td>\n",
       "      <td>18</td>\n",
       "      <td>-1</td>\n",
       "      <td>0</td>\n",
       "      <td>b</td>\n",
       "    </tr>\n",
       "    <tr>\n",
       "      <th>4</th>\n",
       "      <td>-9</td>\n",
       "      <td>-15</td>\n",
       "      <td>-2</td>\n",
       "      <td>-26</td>\n",
       "      <td>-1</td>\n",
       "      <td>18</td>\n",
       "      <td>-12</td>\n",
       "      <td>9</td>\n",
       "      <td>-6</td>\n",
       "      <td>b</td>\n",
       "    </tr>\n",
       "    <tr>\n",
       "      <th>5</th>\n",
       "      <td>27</td>\n",
       "      <td>41</td>\n",
       "      <td>4</td>\n",
       "      <td>-2</td>\n",
       "      <td>7</td>\n",
       "      <td>22</td>\n",
       "      <td>3</td>\n",
       "      <td>3</td>\n",
       "      <td>21</td>\n",
       "      <td>r</td>\n",
       "    </tr>\n",
       "    <tr>\n",
       "      <th>6</th>\n",
       "      <td>69</td>\n",
       "      <td>67</td>\n",
       "      <td>0</td>\n",
       "      <td>79</td>\n",
       "      <td>7</td>\n",
       "      <td>-17</td>\n",
       "      <td>70</td>\n",
       "      <td>-1</td>\n",
       "      <td>0</td>\n",
       "      <td>r</td>\n",
       "    </tr>\n",
       "    <tr>\n",
       "      <th>7</th>\n",
       "      <td>-58</td>\n",
       "      <td>-71</td>\n",
       "      <td>0</td>\n",
       "      <td>-37</td>\n",
       "      <td>-6</td>\n",
       "      <td>-15</td>\n",
       "      <td>-44</td>\n",
       "      <td>-14</td>\n",
       "      <td>0</td>\n",
       "      <td>b</td>\n",
       "    </tr>\n",
       "    <tr>\n",
       "      <th>8</th>\n",
       "      <td>-10</td>\n",
       "      <td>-10</td>\n",
       "      <td>0</td>\n",
       "      <td>-9</td>\n",
       "      <td>-7</td>\n",
       "      <td>6</td>\n",
       "      <td>-4</td>\n",
       "      <td>-2</td>\n",
       "      <td>-4</td>\n",
       "      <td>b</td>\n",
       "    </tr>\n",
       "    <tr>\n",
       "      <th>9</th>\n",
       "      <td>23</td>\n",
       "      <td>27</td>\n",
       "      <td>0</td>\n",
       "      <td>20</td>\n",
       "      <td>-10</td>\n",
       "      <td>13</td>\n",
       "      <td>27</td>\n",
       "      <td>-5</td>\n",
       "      <td>1</td>\n",
       "      <td>r</td>\n",
       "    </tr>\n",
       "  </tbody>\n",
       "</table>\n",
       "</div>"
      ],
      "text/plain": [
       "   sig_str_diff  total_str_diff  td_diff  head_diff  body_diff  leg_diff  \\\n",
       "0            33              40        1         38          6       -11   \n",
       "1             6              -5        2          4          4        -2   \n",
       "2            36              36       -1         22         10         4   \n",
       "3            17              18       -1          2          2        13   \n",
       "4            -9             -15       -2        -26         -1        18   \n",
       "5            27              41        4         -2          7        22   \n",
       "6            69              67        0         79          7       -17   \n",
       "7           -58             -71        0        -37         -6       -15   \n",
       "8           -10             -10        0         -9         -7         6   \n",
       "9            23              27        0         20        -10        13   \n",
       "\n",
       "   distance_diff  clinch_diff  ground_diff r_b_winner  \n",
       "0             -9           17           25          r  \n",
       "1              3            2            1          r  \n",
       "2             35            1            0          r  \n",
       "3             18           -1            0          b  \n",
       "4            -12            9           -6          b  \n",
       "5              3            3           21          r  \n",
       "6             70           -1            0          r  \n",
       "7            -44          -14            0          b  \n",
       "8             -4           -2           -4          b  \n",
       "9             27           -5            1          r  "
      ]
     },
     "execution_count": 17,
     "metadata": {},
     "output_type": "execute_result"
    }
   ],
   "source": [
    "diffs = fights[diff_columns + ['r_b_winner']]\n",
    "diffs.head(10)"
   ]
  },
  {
   "cell_type": "code",
   "execution_count": 18,
   "metadata": {},
   "outputs": [],
   "source": [
    "scaled_diffs = diffs.copy()"
   ]
  },
  {
   "cell_type": "code",
   "execution_count": 19,
   "metadata": {},
   "outputs": [],
   "source": [
    "for column in diff_columns:\n",
    "    #col = scaled_diffs[column]\n",
    "    mean = scaled_diffs[column].mean()\n",
    "    sd = scaled_diffs[column].std()\n",
    "    scaled_diffs[column] = scaled_diffs[column].apply(lambda x: (x - mean) / sd)"
   ]
  },
  {
   "cell_type": "code",
   "execution_count": 20,
   "metadata": {},
   "outputs": [],
   "source": [
    "scaled_diffs['r_won'] = scaled_diffs.r_b_winner.apply(lambda x: 1 if x == 'r' else 0)"
   ]
  },
  {
   "cell_type": "code",
   "execution_count": null,
   "metadata": {},
   "outputs": [],
   "source": []
  },
  {
   "cell_type": "code",
   "execution_count": 21,
   "metadata": {},
   "outputs": [],
   "source": [
    "x_train, x_test, y_train, y_test = train_test_split(scaled_diffs[['sig_str_diff', 'total_str_diff', 'td_diff', 'head_diff', 'body_diff',\n",
    "       'leg_diff', 'distance_diff', 'clinch_diff', 'ground_diff']], scaled_diffs['r_won'], test_size=.33, random_state=1)"
   ]
  },
  {
   "cell_type": "code",
   "execution_count": 22,
   "metadata": {},
   "outputs": [
    {
     "data": {
      "text/plain": [
       "((3446, 9), (1698, 9), (3446,), (1698,))"
      ]
     },
     "execution_count": 22,
     "metadata": {},
     "output_type": "execute_result"
    }
   ],
   "source": [
    "x_train.shape, x_test.shape, y_train.shape, y_test.shape"
   ]
  },
  {
   "cell_type": "code",
   "execution_count": 23,
   "metadata": {},
   "outputs": [
    {
     "data": {
      "text/plain": [
       "LogisticRegression()"
      ]
     },
     "execution_count": 23,
     "metadata": {},
     "output_type": "execute_result"
    }
   ],
   "source": [
    "from sklearn.linear_model import LogisticRegression\n",
    "lr = LogisticRegression()\n",
    "lr.fit(x_train, y_train)"
   ]
  },
  {
   "cell_type": "code",
   "execution_count": 24,
   "metadata": {},
   "outputs": [],
   "source": [
    "lg_predictions = lr.predict(x_test)"
   ]
  },
  {
   "cell_type": "code",
   "execution_count": 25,
   "metadata": {},
   "outputs": [
    {
     "data": {
      "text/plain": [
       "array([[ 346,  197],\n",
       "       [  77, 1078]], dtype=int64)"
      ]
     },
     "execution_count": 25,
     "metadata": {},
     "output_type": "execute_result"
    }
   ],
   "source": [
    "confusion_matrix(y_test, lg_predictions)"
   ]
  },
  {
   "cell_type": "code",
   "execution_count": 26,
   "metadata": {},
   "outputs": [
    {
     "data": {
      "text/plain": [
       "0.8386336866902238"
      ]
     },
     "execution_count": 26,
     "metadata": {},
     "output_type": "execute_result"
    }
   ],
   "source": [
    "accuracy_score(y_test, lg_predictions)"
   ]
  },
  {
   "cell_type": "code",
   "execution_count": 27,
   "metadata": {},
   "outputs": [
    {
     "name": "stdout",
     "output_type": "stream",
     "text": [
      "              precision    recall  f1-score   support\n",
      "\n",
      "           0       0.82      0.64      0.72       543\n",
      "           1       0.85      0.93      0.89      1155\n",
      "\n",
      "    accuracy                           0.84      1698\n",
      "   macro avg       0.83      0.79      0.80      1698\n",
      "weighted avg       0.84      0.84      0.83      1698\n",
      "\n"
     ]
    }
   ],
   "source": [
    "print(classification_report(y_test, lg_predictions))"
   ]
  },
  {
   "cell_type": "code",
   "execution_count": 28,
   "metadata": {},
   "outputs": [],
   "source": [
    "# looks the same as in the other notebook.\n",
    "# => Go on to DNN\n",
    "# just remembered that I'm pretty sure sklearn does not have a dnn feature, so need to either skip it or use\n",
    "# something different\n",
    "# Use Keras, as demonstrated in the NLP course I took."
   ]
  },
  {
   "cell_type": "code",
   "execution_count": 29,
   "metadata": {},
   "outputs": [
    {
     "name": "stderr",
     "output_type": "stream",
     "text": [
      "Using TensorFlow backend.\n"
     ]
    }
   ],
   "source": [
    "from keras.utils import to_categorical"
   ]
  },
  {
   "cell_type": "code",
   "execution_count": 30,
   "metadata": {},
   "outputs": [],
   "source": [
    "from keras.models import Sequential\n",
    "from keras.layers import Dense"
   ]
  },
  {
   "cell_type": "code",
   "execution_count": 31,
   "metadata": {},
   "outputs": [
    {
     "data": {
      "text/plain": [
       "\"\\nmodel = Sequential()\\nmodel.add(Dense(8, input_dim=4, activation='relu'))\\nmodel.add(Dense(8, input_dim=4, activation='relu'))\\nmodel.add(Dense(3, activation='softmax'))\\nmodel.compile(loss='categorical_crossentropy', optimizer='adam', metrics=['accuracy'])\\n\""
      ]
     },
     "execution_count": 31,
     "metadata": {},
     "output_type": "execute_result"
    }
   ],
   "source": [
    "# Not sure how to make the model, so first model it after Portilla's NLP lecture\n",
    "'''\n",
    "model = Sequential()\n",
    "model.add(Dense(8, input_dim=4, activation='relu'))\n",
    "model.add(Dense(8, input_dim=4, activation='relu'))\n",
    "model.add(Dense(3, activation='softmax'))\n",
    "model.compile(loss='categorical_crossentropy', optimizer='adam', metrics=['accuracy'])\n",
    "'''\n",
    "# I guess I will need to change the 8 to the number of variables I will be using"
   ]
  },
  {
   "cell_type": "code",
   "execution_count": 32,
   "metadata": {},
   "outputs": [
    {
     "data": {
      "text/plain": [
       "array([[1., 0., 0., 0., 0., 0., 0., 0., 0., 0., 0.],\n",
       "       [0., 0., 0., 0., 0., 0., 0., 0., 0., 1., 0.],\n",
       "       [0., 1., 0., 0., 0., 0., 0., 0., 0., 0., 0.],\n",
       "       [0., 0., 0., 0., 0., 0., 0., 0., 0., 0., 1.],\n",
       "       [0., 0., 1., 0., 0., 0., 0., 0., 0., 0., 0.],\n",
       "       [0., 0., 0., 0., 0., 0., 0., 0., 0., 0., 1.]], dtype=float32)"
      ]
     },
     "execution_count": 32,
     "metadata": {},
     "output_type": "execute_result"
    }
   ],
   "source": [
    "to_categorical([0, 9, 1, 10, 2, 10])"
   ]
  },
  {
   "cell_type": "code",
   "execution_count": 33,
   "metadata": {},
   "outputs": [
    {
     "data": {
      "text/plain": [
       "array([[1., 0.],\n",
       "       [0., 1.]], dtype=float32)"
      ]
     },
     "execution_count": 33,
     "metadata": {},
     "output_type": "execute_result"
    }
   ],
   "source": [
    "to_categorical([0, 1])"
   ]
  },
  {
   "cell_type": "code",
   "execution_count": 34,
   "metadata": {},
   "outputs": [],
   "source": [
    "from sklearn.model_selection import train_test_split\n",
    "# use shift-tab to show the docs"
   ]
  },
  {
   "cell_type": "code",
   "execution_count": 35,
   "metadata": {},
   "outputs": [
    {
     "data": {
      "text/plain": [
       "Index(['sig_str_diff', 'total_str_diff', 'td_diff', 'head_diff', 'body_diff',\n",
       "       'leg_diff', 'distance_diff', 'clinch_diff', 'ground_diff', 'r_b_winner',\n",
       "       'r_won'],\n",
       "      dtype='object')"
      ]
     },
     "execution_count": 35,
     "metadata": {},
     "output_type": "execute_result"
    }
   ],
   "source": [
    "scaled_diffs.columns"
   ]
  },
  {
   "cell_type": "code",
   "execution_count": 36,
   "metadata": {},
   "outputs": [
    {
     "data": {
      "text/html": [
       "<div>\n",
       "<style scoped>\n",
       "    .dataframe tbody tr th:only-of-type {\n",
       "        vertical-align: middle;\n",
       "    }\n",
       "\n",
       "    .dataframe tbody tr th {\n",
       "        vertical-align: top;\n",
       "    }\n",
       "\n",
       "    .dataframe thead th {\n",
       "        text-align: right;\n",
       "    }\n",
       "</style>\n",
       "<table border=\"1\" class=\"dataframe\">\n",
       "  <thead>\n",
       "    <tr style=\"text-align: right;\">\n",
       "      <th></th>\n",
       "      <th>sig_str_diff</th>\n",
       "      <th>total_str_diff</th>\n",
       "      <th>td_diff</th>\n",
       "      <th>head_diff</th>\n",
       "      <th>body_diff</th>\n",
       "      <th>leg_diff</th>\n",
       "      <th>distance_diff</th>\n",
       "      <th>clinch_diff</th>\n",
       "      <th>ground_diff</th>\n",
       "      <th>r_b_winner</th>\n",
       "      <th>r_won</th>\n",
       "    </tr>\n",
       "  </thead>\n",
       "  <tbody>\n",
       "    <tr>\n",
       "      <th>0</th>\n",
       "      <td>1.114802</td>\n",
       "      <td>0.664146</td>\n",
       "      <td>0.259534</td>\n",
       "      <td>1.739103</td>\n",
       "      <td>0.641270</td>\n",
       "      <td>-1.377032</td>\n",
       "      <td>-0.660538</td>\n",
       "      <td>2.201119</td>\n",
       "      <td>1.717053</td>\n",
       "      <td>r</td>\n",
       "      <td>1</td>\n",
       "    </tr>\n",
       "    <tr>\n",
       "      <th>1</th>\n",
       "      <td>0.033070</td>\n",
       "      <td>-0.319321</td>\n",
       "      <td>0.658531</td>\n",
       "      <td>0.013585</td>\n",
       "      <td>0.392208</td>\n",
       "      <td>-0.307885</td>\n",
       "      <td>0.069362</td>\n",
       "      <td>0.186119</td>\n",
       "      <td>-0.130932</td>\n",
       "      <td>r</td>\n",
       "      <td>1</td>\n",
       "    </tr>\n",
       "    <tr>\n",
       "      <th>2</th>\n",
       "      <td>1.234994</td>\n",
       "      <td>0.576727</td>\n",
       "      <td>-0.538460</td>\n",
       "      <td>0.927095</td>\n",
       "      <td>1.139392</td>\n",
       "      <td>0.404879</td>\n",
       "      <td>2.015763</td>\n",
       "      <td>0.051785</td>\n",
       "      <td>-0.207931</td>\n",
       "      <td>r</td>\n",
       "      <td>1</td>\n",
       "    </tr>\n",
       "    <tr>\n",
       "      <th>3</th>\n",
       "      <td>0.473776</td>\n",
       "      <td>0.183340</td>\n",
       "      <td>-0.538460</td>\n",
       "      <td>-0.087916</td>\n",
       "      <td>0.143147</td>\n",
       "      <td>1.474026</td>\n",
       "      <td>0.981738</td>\n",
       "      <td>-0.216882</td>\n",
       "      <td>-0.207931</td>\n",
       "      <td>b</td>\n",
       "      <td>0</td>\n",
       "    </tr>\n",
       "    <tr>\n",
       "      <th>4</th>\n",
       "      <td>-0.567892</td>\n",
       "      <td>-0.537869</td>\n",
       "      <td>-0.937457</td>\n",
       "      <td>-1.508930</td>\n",
       "      <td>-0.230445</td>\n",
       "      <td>2.067996</td>\n",
       "      <td>-0.843013</td>\n",
       "      <td>1.126452</td>\n",
       "      <td>-0.669927</td>\n",
       "      <td>b</td>\n",
       "      <td>0</td>\n",
       "    </tr>\n",
       "  </tbody>\n",
       "</table>\n",
       "</div>"
      ],
      "text/plain": [
       "   sig_str_diff  total_str_diff   td_diff  head_diff  body_diff  leg_diff  \\\n",
       "0      1.114802        0.664146  0.259534   1.739103   0.641270 -1.377032   \n",
       "1      0.033070       -0.319321  0.658531   0.013585   0.392208 -0.307885   \n",
       "2      1.234994        0.576727 -0.538460   0.927095   1.139392  0.404879   \n",
       "3      0.473776        0.183340 -0.538460  -0.087916   0.143147  1.474026   \n",
       "4     -0.567892       -0.537869 -0.937457  -1.508930  -0.230445  2.067996   \n",
       "\n",
       "   distance_diff  clinch_diff  ground_diff r_b_winner  r_won  \n",
       "0      -0.660538     2.201119     1.717053          r      1  \n",
       "1       0.069362     0.186119    -0.130932          r      1  \n",
       "2       2.015763     0.051785    -0.207931          r      1  \n",
       "3       0.981738    -0.216882    -0.207931          b      0  \n",
       "4      -0.843013     1.126452    -0.669927          b      0  "
      ]
     },
     "execution_count": 36,
     "metadata": {},
     "output_type": "execute_result"
    }
   ],
   "source": [
    "scaled_diffs.head()"
   ]
  },
  {
   "cell_type": "code",
   "execution_count": 37,
   "metadata": {},
   "outputs": [
    {
     "data": {
      "text/plain": [
       "4375    1\n",
       "398     1\n",
       "4908    1\n",
       "797     0\n",
       "1877    0\n",
       "Name: r_won, dtype: int64"
      ]
     },
     "execution_count": 37,
     "metadata": {},
     "output_type": "execute_result"
    }
   ],
   "source": [
    "y_train.head()"
   ]
  },
  {
   "cell_type": "code",
   "execution_count": 38,
   "metadata": {},
   "outputs": [],
   "source": [
    "# might need to change the scaling on this from # of standard deviations to something like min max scaling"
   ]
  },
  {
   "cell_type": "code",
   "execution_count": 39,
   "metadata": {},
   "outputs": [],
   "source": [
    "# The below is not correct.  You must convert the output to a 2 column array (see note below) \n",
    "# and change the last layer to 2, not 1.\n",
    "model = Sequential()\n",
    "model.add(Dense(9, input_dim=9, activation='relu'))\n",
    "model.add(Dense(9, input_dim=9, activation='relu'))\n",
    "model.add(Dense(1, activation='softmax'))\n",
    "#model.compile(loss='sparse_categorical_crossentropy', optimizer='adam', metrics=['accuracy'])\n",
    "model.compile(loss='categorical_crossentropy', optimizer='adam', metrics=['accuracy'])"
   ]
  },
  {
   "cell_type": "code",
   "execution_count": 40,
   "metadata": {},
   "outputs": [],
   "source": [
    "#model.fit(x_train, y_train, epochs=10, verbose=2)"
   ]
  },
  {
   "cell_type": "code",
   "execution_count": 41,
   "metadata": {},
   "outputs": [],
   "source": [
    "# I think I need to make the target a matrix of two values.  See the Portilla lecture where he used converted it into a three column matrix.\n",
    "# Even though it it binary, so technically it is either/or, not like one out of three in the case of the Portilla NLP example, \n",
    "# meaning that one column is enough information, Keras still seems to want it in a two column format."
   ]
  },
  {
   "cell_type": "code",
   "execution_count": 42,
   "metadata": {},
   "outputs": [],
   "source": [
    "from keras.utils import to_categorical\n",
    "y_binary = to_categorical(y_train)"
   ]
  },
  {
   "cell_type": "code",
   "execution_count": 43,
   "metadata": {},
   "outputs": [
    {
     "data": {
      "text/plain": [
       "array([[0., 1.],\n",
       "       [0., 1.],\n",
       "       [0., 1.],\n",
       "       [1., 0.],\n",
       "       [1., 0.]], dtype=float32)"
      ]
     },
     "execution_count": 43,
     "metadata": {},
     "output_type": "execute_result"
    }
   ],
   "source": [
    "y_binary[:5]"
   ]
  },
  {
   "cell_type": "code",
   "execution_count": 44,
   "metadata": {},
   "outputs": [
    {
     "data": {
      "text/plain": [
       "0"
      ]
     },
     "execution_count": 44,
     "metadata": {},
     "output_type": "execute_result"
    }
   ],
   "source": [
    "sum(y_binary == y_train)"
   ]
  },
  {
   "cell_type": "code",
   "execution_count": 45,
   "metadata": {},
   "outputs": [
    {
     "data": {
      "text/plain": [
       "(3446, 2)"
      ]
     },
     "execution_count": 45,
     "metadata": {},
     "output_type": "execute_result"
    }
   ],
   "source": [
    "y_binary.shape"
   ]
  },
  {
   "cell_type": "code",
   "execution_count": 46,
   "metadata": {},
   "outputs": [
    {
     "data": {
      "text/plain": [
       "(3446, 9)"
      ]
     },
     "execution_count": 46,
     "metadata": {},
     "output_type": "execute_result"
    }
   ],
   "source": [
    "x_train.shape"
   ]
  },
  {
   "cell_type": "code",
   "execution_count": 47,
   "metadata": {},
   "outputs": [],
   "source": [
    "model = Sequential()\n",
    "model.add(Dense(9, input_dim=9, activation='relu'))\n",
    "model.add(Dense(9, input_dim=9, activation='relu'))\n",
    "model.add(Dense(2, activation='softmax'))\n",
    "#model.compile(loss='sparse_categorical_crossentropy', optimizer='adam', metrics=['accuracy'])\n",
    "model.compile(loss='categorical_crossentropy', optimizer='adam', metrics=['accuracy'])"
   ]
  },
  {
   "cell_type": "code",
   "execution_count": 48,
   "metadata": {},
   "outputs": [
    {
     "name": "stdout",
     "output_type": "stream",
     "text": [
      "Epoch 1/40\n",
      " - 2s - loss: 0.5737 - accuracy: 0.7136\n",
      "Epoch 2/40\n",
      " - 1s - loss: 0.4692 - accuracy: 0.8151\n",
      "Epoch 3/40\n",
      " - 1s - loss: 0.4326 - accuracy: 0.8273\n",
      "Epoch 4/40\n",
      " - 1s - loss: 0.4174 - accuracy: 0.8273\n",
      "Epoch 5/40\n",
      " - 1s - loss: 0.4107 - accuracy: 0.8247\n",
      "Epoch 6/40\n",
      " - 1s - loss: 0.4059 - accuracy: 0.8268\n",
      "Epoch 7/40\n",
      " - 1s - loss: 0.4041 - accuracy: 0.8265\n",
      "Epoch 8/40\n",
      " - 1s - loss: 0.4013 - accuracy: 0.8268\n",
      "Epoch 9/40\n",
      " - 1s - loss: 0.3991 - accuracy: 0.8265\n",
      "Epoch 10/40\n",
      " - 1s - loss: 0.3977 - accuracy: 0.8256\n",
      "Epoch 11/40\n",
      " - 1s - loss: 0.3958 - accuracy: 0.8297\n",
      "Epoch 12/40\n",
      " - 1s - loss: 0.3949 - accuracy: 0.8282\n",
      "Epoch 13/40\n",
      " - 1s - loss: 0.3930 - accuracy: 0.8294\n",
      "Epoch 14/40\n",
      " - 1s - loss: 0.3925 - accuracy: 0.8270\n",
      "Epoch 15/40\n",
      " - 1s - loss: 0.3909 - accuracy: 0.8294\n",
      "Epoch 16/40\n",
      " - 1s - loss: 0.3907 - accuracy: 0.8305\n",
      "Epoch 17/40\n",
      " - 1s - loss: 0.3905 - accuracy: 0.8291\n",
      "Epoch 18/40\n",
      " - 1s - loss: 0.3888 - accuracy: 0.8314\n",
      "Epoch 19/40\n",
      " - 0s - loss: 0.3881 - accuracy: 0.8326\n",
      "Epoch 20/40\n",
      " - 0s - loss: 0.3874 - accuracy: 0.8331\n",
      "Epoch 21/40\n",
      " - 0s - loss: 0.3869 - accuracy: 0.8326\n",
      "Epoch 22/40\n",
      " - 0s - loss: 0.3860 - accuracy: 0.8337\n",
      "Epoch 23/40\n",
      " - 1s - loss: 0.3851 - accuracy: 0.8346\n",
      "Epoch 24/40\n",
      " - 0s - loss: 0.3840 - accuracy: 0.8337\n",
      "Epoch 25/40\n",
      " - 0s - loss: 0.3836 - accuracy: 0.8340\n",
      "Epoch 26/40\n",
      " - 1s - loss: 0.3835 - accuracy: 0.8340\n",
      "Epoch 27/40\n",
      " - 1s - loss: 0.3832 - accuracy: 0.8346\n",
      "Epoch 28/40\n",
      " - 1s - loss: 0.3820 - accuracy: 0.8334\n",
      "Epoch 29/40\n",
      " - 1s - loss: 0.3821 - accuracy: 0.8340\n",
      "Epoch 30/40\n",
      " - 1s - loss: 0.3810 - accuracy: 0.8349\n",
      "Epoch 31/40\n",
      " - 1s - loss: 0.3809 - accuracy: 0.8340\n",
      "Epoch 32/40\n",
      " - 1s - loss: 0.3809 - accuracy: 0.8331\n",
      "Epoch 33/40\n",
      " - 1s - loss: 0.3801 - accuracy: 0.8369\n",
      "Epoch 34/40\n",
      " - 1s - loss: 0.3797 - accuracy: 0.8369\n",
      "Epoch 35/40\n",
      " - 1s - loss: 0.3793 - accuracy: 0.8337\n",
      "Epoch 36/40\n",
      " - 1s - loss: 0.3793 - accuracy: 0.8358\n",
      "Epoch 37/40\n",
      " - 1s - loss: 0.3783 - accuracy: 0.8358\n",
      "Epoch 38/40\n",
      " - 0s - loss: 0.3783 - accuracy: 0.8352\n",
      "Epoch 39/40\n",
      " - 1s - loss: 0.3787 - accuracy: 0.8331\n",
      "Epoch 40/40\n",
      " - 1s - loss: 0.3781 - accuracy: 0.8331\n"
     ]
    },
    {
     "data": {
      "text/plain": [
       "<keras.callbacks.callbacks.History at 0x27b21980608>"
      ]
     },
     "execution_count": 48,
     "metadata": {},
     "output_type": "execute_result"
    }
   ],
   "source": [
    "model.fit(x_train, y_binary, epochs=40, verbose=2)"
   ]
  },
  {
   "cell_type": "code",
   "execution_count": 49,
   "metadata": {},
   "outputs": [
    {
     "data": {
      "text/plain": [
       "array([[0.10577872, 0.8942213 ],\n",
       "       [0.08197752, 0.9180225 ],\n",
       "       [0.17018673, 0.82981324],\n",
       "       ...,\n",
       "       [0.63636786, 0.36363214],\n",
       "       [0.35824755, 0.6417524 ],\n",
       "       [0.03509319, 0.96490675]], dtype=float32)"
      ]
     },
     "execution_count": 49,
     "metadata": {},
     "output_type": "execute_result"
    }
   ],
   "source": [
    "model.predict(x_test)"
   ]
  },
  {
   "cell_type": "code",
   "execution_count": 50,
   "metadata": {},
   "outputs": [
    {
     "data": {
      "text/plain": [
       "(1698, 2)"
      ]
     },
     "execution_count": 50,
     "metadata": {},
     "output_type": "execute_result"
    }
   ],
   "source": [
    "model.predict(x_test).shape"
   ]
  },
  {
   "cell_type": "code",
   "execution_count": 51,
   "metadata": {},
   "outputs": [],
   "source": [
    "dnn_predictions = model.predict(x_test)"
   ]
  },
  {
   "cell_type": "code",
   "execution_count": 52,
   "metadata": {},
   "outputs": [
    {
     "data": {
      "text/plain": [
       "(1698, 2)"
      ]
     },
     "execution_count": 52,
     "metadata": {},
     "output_type": "execute_result"
    }
   ],
   "source": [
    "dnn_predictions.shape"
   ]
  },
  {
   "cell_type": "code",
   "execution_count": 53,
   "metadata": {},
   "outputs": [
    {
     "data": {
      "text/plain": [
       "array([[0.10577872, 0.8942213 ],\n",
       "       [0.08197752, 0.9180225 ],\n",
       "       [0.17018673, 0.82981324],\n",
       "       ...,\n",
       "       [0.63636786, 0.36363214],\n",
       "       [0.35824755, 0.6417524 ],\n",
       "       [0.03509319, 0.96490675]], dtype=float32)"
      ]
     },
     "execution_count": 53,
     "metadata": {},
     "output_type": "execute_result"
    }
   ],
   "source": [
    "dnn_predictions"
   ]
  },
  {
   "cell_type": "code",
   "execution_count": 54,
   "metadata": {},
   "outputs": [
    {
     "data": {
      "text/plain": [
       "4227    1\n",
       "3712    1\n",
       "5112    1\n",
       "4250    1\n",
       "457     0\n",
       "       ..\n",
       "2857    0\n",
       "4896    1\n",
       "1128    0\n",
       "4004    1\n",
       "1105    1\n",
       "Name: r_won, Length: 1698, dtype: int64"
      ]
     },
     "execution_count": 54,
     "metadata": {},
     "output_type": "execute_result"
    }
   ],
   "source": [
    "y_test"
   ]
  },
  {
   "cell_type": "code",
   "execution_count": 55,
   "metadata": {},
   "outputs": [],
   "source": [
    "y_test_binary = to_categorical(y_test)"
   ]
  },
  {
   "cell_type": "code",
   "execution_count": 56,
   "metadata": {},
   "outputs": [
    {
     "data": {
      "text/plain": [
       "array([[0., 1.],\n",
       "       [0., 1.],\n",
       "       [0., 1.],\n",
       "       [0., 1.],\n",
       "       [1., 0.],\n",
       "       [1., 0.],\n",
       "       [0., 1.],\n",
       "       [0., 1.],\n",
       "       [0., 1.],\n",
       "       [0., 1.]], dtype=float32)"
      ]
     },
     "execution_count": 56,
     "metadata": {},
     "output_type": "execute_result"
    }
   ],
   "source": [
    "y_test_binary[:10]"
   ]
  },
  {
   "cell_type": "code",
   "execution_count": 57,
   "metadata": {},
   "outputs": [
    {
     "data": {
      "text/plain": [
       "4227    1\n",
       "3712    1\n",
       "5112    1\n",
       "4250    1\n",
       "457     0\n",
       "1392    0\n",
       "28      1\n",
       "4661    1\n",
       "2773    1\n",
       "3077    1\n",
       "Name: r_won, dtype: int64"
      ]
     },
     "execution_count": 57,
     "metadata": {},
     "output_type": "execute_result"
    }
   ],
   "source": [
    "y_test[0:10]"
   ]
  },
  {
   "cell_type": "code",
   "execution_count": 58,
   "metadata": {},
   "outputs": [],
   "source": [
    "pred = np.apply_along_axis(lambda r: 1 if r[1] > r[0] else 0, 1, dnn_predictions)"
   ]
  },
  {
   "cell_type": "code",
   "execution_count": 59,
   "metadata": {},
   "outputs": [
    {
     "data": {
      "text/plain": [
       "array([1, 1, 1, ..., 0, 1, 1])"
      ]
     },
     "execution_count": 59,
     "metadata": {},
     "output_type": "execute_result"
    }
   ],
   "source": [
    "pred"
   ]
  },
  {
   "cell_type": "code",
   "execution_count": 60,
   "metadata": {},
   "outputs": [
    {
     "data": {
      "text/plain": [
       "array([1, 1, 1, 1, 0, 0, 1, 1, 1, 1])"
      ]
     },
     "execution_count": 60,
     "metadata": {},
     "output_type": "execute_result"
    }
   ],
   "source": [
    "pred[0:10]"
   ]
  },
  {
   "cell_type": "code",
   "execution_count": 61,
   "metadata": {},
   "outputs": [
    {
     "data": {
      "text/plain": [
       "array([[ 380,  163],\n",
       "       [ 101, 1054]], dtype=int64)"
      ]
     },
     "execution_count": 61,
     "metadata": {},
     "output_type": "execute_result"
    }
   ],
   "source": [
    "confusion_matrix(y_test, pred)"
   ]
  },
  {
   "cell_type": "code",
   "execution_count": 62,
   "metadata": {},
   "outputs": [
    {
     "data": {
      "text/plain": [
       "0.8445229681978799"
      ]
     },
     "execution_count": 62,
     "metadata": {},
     "output_type": "execute_result"
    }
   ],
   "source": [
    "accuracy_score(y_test, pred)"
   ]
  },
  {
   "cell_type": "code",
   "execution_count": 63,
   "metadata": {},
   "outputs": [
    {
     "data": {
      "text/plain": [
       "1    0.716726\n",
       "0    0.283274\n",
       "dtype: float64"
      ]
     },
     "execution_count": 63,
     "metadata": {},
     "output_type": "execute_result"
    }
   ],
   "source": [
    "pd.Series(pred).value_counts() / len(pred)"
   ]
  },
  {
   "cell_type": "code",
   "execution_count": 64,
   "metadata": {},
   "outputs": [
    {
     "name": "stdout",
     "output_type": "stream",
     "text": [
      "              precision    recall  f1-score   support\n",
      "\n",
      "           0       0.79      0.70      0.74       543\n",
      "           1       0.87      0.91      0.89      1155\n",
      "\n",
      "    accuracy                           0.84      1698\n",
      "   macro avg       0.83      0.81      0.82      1698\n",
      "weighted avg       0.84      0.84      0.84      1698\n",
      "\n"
     ]
    }
   ],
   "source": [
    "print(classification_report(y_test, pred))"
   ]
  },
  {
   "cell_type": "code",
   "execution_count": 65,
   "metadata": {},
   "outputs": [],
   "source": [
    "# So it is slightly more accurate than logistic regression"
   ]
  },
  {
   "cell_type": "code",
   "execution_count": 66,
   "metadata": {},
   "outputs": [],
   "source": [
    "# Try a bigger net"
   ]
  },
  {
   "cell_type": "code",
   "execution_count": 67,
   "metadata": {},
   "outputs": [],
   "source": [
    "model2 = Sequential()\n",
    "model2.add(Dense(18, input_dim=9, activation='relu'))\n",
    "model2.add(Dense(18, input_dim=9, activation='relu'))\n",
    "model2.add(Dense(2, activation='softmax'))\n",
    "#model.compile(loss='sparse_categorical_crossentropy', optimizer='adam', metrics=['accuracy'])\n",
    "model2.compile(loss='categorical_crossentropy', optimizer='adam', metrics=['accuracy'])"
   ]
  },
  {
   "cell_type": "code",
   "execution_count": 68,
   "metadata": {},
   "outputs": [
    {
     "name": "stdout",
     "output_type": "stream",
     "text": [
      "Epoch 1/100\n",
      " - 1s - loss: 0.4772 - accuracy: 0.8067\n",
      "Epoch 2/100\n",
      " - 1s - loss: 0.4266 - accuracy: 0.8247\n",
      "Epoch 3/100\n",
      " - 1s - loss: 0.4143 - accuracy: 0.8282\n",
      "Epoch 4/100\n",
      " - 1s - loss: 0.4077 - accuracy: 0.8282\n",
      "Epoch 5/100\n",
      " - 1s - loss: 0.4041 - accuracy: 0.8314\n",
      "Epoch 6/100\n",
      " - 1s - loss: 0.3996 - accuracy: 0.8288\n",
      "Epoch 7/100\n",
      " - 1s - loss: 0.3973 - accuracy: 0.8279\n",
      "Epoch 8/100\n",
      " - 0s - loss: 0.3949 - accuracy: 0.8314\n",
      "Epoch 9/100\n",
      " - 0s - loss: 0.3934 - accuracy: 0.8302\n",
      "Epoch 10/100\n",
      " - 0s - loss: 0.3903 - accuracy: 0.8314\n",
      "Epoch 11/100\n",
      " - 1s - loss: 0.3892 - accuracy: 0.8311\n",
      "Epoch 12/100\n",
      " - 1s - loss: 0.3871 - accuracy: 0.8323\n",
      "Epoch 13/100\n",
      " - 1s - loss: 0.3859 - accuracy: 0.8314\n",
      "Epoch 14/100\n",
      " - 1s - loss: 0.3837 - accuracy: 0.8349\n",
      "Epoch 15/100\n",
      " - 1s - loss: 0.3827 - accuracy: 0.8326\n",
      "Epoch 16/100\n",
      " - 1s - loss: 0.3815 - accuracy: 0.8352\n",
      "Epoch 17/100\n",
      " - 1s - loss: 0.3802 - accuracy: 0.8334\n",
      "Epoch 18/100\n",
      " - 1s - loss: 0.3789 - accuracy: 0.8340\n",
      "Epoch 19/100\n",
      " - 1s - loss: 0.3780 - accuracy: 0.8366\n",
      "Epoch 20/100\n",
      " - 1s - loss: 0.3766 - accuracy: 0.8358\n",
      "Epoch 21/100\n",
      " - 1s - loss: 0.3760 - accuracy: 0.8372\n",
      "Epoch 22/100\n",
      " - 1s - loss: 0.3759 - accuracy: 0.8404\n",
      "Epoch 23/100\n",
      " - 1s - loss: 0.3744 - accuracy: 0.8355\n",
      "Epoch 24/100\n",
      " - 1s - loss: 0.3744 - accuracy: 0.8384\n",
      "Epoch 25/100\n",
      " - 1s - loss: 0.3735 - accuracy: 0.8363\n",
      "Epoch 26/100\n",
      " - 1s - loss: 0.3736 - accuracy: 0.8410\n",
      "Epoch 27/100\n",
      " - 1s - loss: 0.3728 - accuracy: 0.8378\n",
      "Epoch 28/100\n",
      " - 1s - loss: 0.3713 - accuracy: 0.8395\n",
      "Epoch 29/100\n",
      " - 1s - loss: 0.3701 - accuracy: 0.8378\n",
      "Epoch 30/100\n",
      " - 1s - loss: 0.3702 - accuracy: 0.8378\n",
      "Epoch 31/100\n",
      " - 0s - loss: 0.3686 - accuracy: 0.8372\n",
      "Epoch 32/100\n",
      " - 1s - loss: 0.3694 - accuracy: 0.8398\n",
      "Epoch 33/100\n",
      " - 1s - loss: 0.3679 - accuracy: 0.8387\n",
      "Epoch 34/100\n",
      " - 1s - loss: 0.3674 - accuracy: 0.8384\n",
      "Epoch 35/100\n",
      " - 1s - loss: 0.3669 - accuracy: 0.8407\n",
      "Epoch 36/100\n",
      " - 1s - loss: 0.3671 - accuracy: 0.8384\n",
      "Epoch 37/100\n",
      " - 1s - loss: 0.3650 - accuracy: 0.8410\n",
      "Epoch 38/100\n",
      " - 1s - loss: 0.3646 - accuracy: 0.8442\n",
      "Epoch 39/100\n",
      " - 1s - loss: 0.3649 - accuracy: 0.8410\n",
      "Epoch 40/100\n",
      " - 1s - loss: 0.3636 - accuracy: 0.8395\n",
      "Epoch 41/100\n",
      " - 1s - loss: 0.3638 - accuracy: 0.8407\n",
      "Epoch 42/100\n",
      " - 0s - loss: 0.3620 - accuracy: 0.8418\n",
      "Epoch 43/100\n",
      " - 0s - loss: 0.3620 - accuracy: 0.8413\n",
      "Epoch 44/100\n",
      " - 1s - loss: 0.3618 - accuracy: 0.8421\n",
      "Epoch 45/100\n",
      " - 1s - loss: 0.3613 - accuracy: 0.8442\n",
      "Epoch 46/100\n",
      " - 1s - loss: 0.3612 - accuracy: 0.8407\n",
      "Epoch 47/100\n",
      " - 1s - loss: 0.3606 - accuracy: 0.8427\n",
      "Epoch 48/100\n",
      " - 1s - loss: 0.3603 - accuracy: 0.8430\n",
      "Epoch 49/100\n",
      " - 1s - loss: 0.3587 - accuracy: 0.8439\n",
      "Epoch 50/100\n",
      " - 1s - loss: 0.3597 - accuracy: 0.8433\n",
      "Epoch 51/100\n",
      " - 1s - loss: 0.3584 - accuracy: 0.8433\n",
      "Epoch 52/100\n",
      " - 1s - loss: 0.3584 - accuracy: 0.8418\n",
      "Epoch 53/100\n",
      " - 1s - loss: 0.3564 - accuracy: 0.8471\n",
      "Epoch 54/100\n",
      " - 1s - loss: 0.3590 - accuracy: 0.8404\n",
      "Epoch 55/100\n",
      " - 1s - loss: 0.3572 - accuracy: 0.8453\n",
      "Epoch 56/100\n",
      " - 1s - loss: 0.3566 - accuracy: 0.8497\n",
      "Epoch 57/100\n",
      " - 1s - loss: 0.3555 - accuracy: 0.8459\n",
      "Epoch 58/100\n",
      " - 1s - loss: 0.3554 - accuracy: 0.8456\n",
      "Epoch 59/100\n",
      " - 1s - loss: 0.3553 - accuracy: 0.8465\n",
      "Epoch 60/100\n",
      " - 1s - loss: 0.3559 - accuracy: 0.8468\n",
      "Epoch 61/100\n",
      " - 1s - loss: 0.3553 - accuracy: 0.8456\n",
      "Epoch 62/100\n",
      " - 1s - loss: 0.3531 - accuracy: 0.8456\n",
      "Epoch 63/100\n",
      " - 1s - loss: 0.3522 - accuracy: 0.8447\n",
      "Epoch 64/100\n",
      " - 1s - loss: 0.3518 - accuracy: 0.8488\n",
      "Epoch 65/100\n",
      " - 1s - loss: 0.3522 - accuracy: 0.8497\n",
      "Epoch 66/100\n",
      " - 1s - loss: 0.3520 - accuracy: 0.8485\n",
      "Epoch 67/100\n",
      " - 1s - loss: 0.3510 - accuracy: 0.8479\n",
      "Epoch 68/100\n",
      " - 1s - loss: 0.3508 - accuracy: 0.8488\n",
      "Epoch 69/100\n",
      " - 1s - loss: 0.3502 - accuracy: 0.8488\n",
      "Epoch 70/100\n",
      " - 0s - loss: 0.3510 - accuracy: 0.8488\n",
      "Epoch 71/100\n",
      " - 0s - loss: 0.3503 - accuracy: 0.8476\n",
      "Epoch 72/100\n",
      " - 1s - loss: 0.3493 - accuracy: 0.8506\n",
      "Epoch 73/100\n",
      " - 0s - loss: 0.3496 - accuracy: 0.8503\n",
      "Epoch 74/100\n",
      " - 1s - loss: 0.3497 - accuracy: 0.8485\n",
      "Epoch 75/100\n",
      " - 1s - loss: 0.3494 - accuracy: 0.8485\n",
      "Epoch 76/100\n",
      " - 1s - loss: 0.3480 - accuracy: 0.8494\n",
      "Epoch 77/100\n",
      " - 0s - loss: 0.3472 - accuracy: 0.8514\n",
      "Epoch 78/100\n",
      " - 1s - loss: 0.3475 - accuracy: 0.8497\n",
      "Epoch 79/100\n",
      " - 1s - loss: 0.3478 - accuracy: 0.8520\n",
      "Epoch 80/100\n",
      " - 1s - loss: 0.3480 - accuracy: 0.8488\n",
      "Epoch 81/100\n",
      " - 1s - loss: 0.3467 - accuracy: 0.8506\n",
      "Epoch 82/100\n",
      " - 0s - loss: 0.3481 - accuracy: 0.8479\n",
      "Epoch 83/100\n",
      " - 1s - loss: 0.3463 - accuracy: 0.8511\n",
      "Epoch 84/100\n",
      " - 1s - loss: 0.3459 - accuracy: 0.8517\n",
      "Epoch 85/100\n",
      " - 1s - loss: 0.3452 - accuracy: 0.8520\n",
      "Epoch 86/100\n",
      " - 1s - loss: 0.3463 - accuracy: 0.8494\n",
      "Epoch 87/100\n",
      " - 0s - loss: 0.3448 - accuracy: 0.8508\n",
      "Epoch 88/100\n",
      " - 0s - loss: 0.3446 - accuracy: 0.8514\n",
      "Epoch 89/100\n",
      " - 1s - loss: 0.3446 - accuracy: 0.8529\n",
      "Epoch 90/100\n",
      " - 1s - loss: 0.3444 - accuracy: 0.8520\n",
      "Epoch 91/100\n",
      " - 1s - loss: 0.3442 - accuracy: 0.8523\n",
      "Epoch 92/100\n",
      " - 1s - loss: 0.3438 - accuracy: 0.8491\n",
      "Epoch 93/100\n",
      " - 1s - loss: 0.3439 - accuracy: 0.8517\n",
      "Epoch 94/100\n",
      " - 1s - loss: 0.3434 - accuracy: 0.8532\n",
      "Epoch 95/100\n",
      " - 1s - loss: 0.3430 - accuracy: 0.8523\n",
      "Epoch 96/100\n",
      " - 1s - loss: 0.3430 - accuracy: 0.8520\n",
      "Epoch 97/100\n",
      " - 1s - loss: 0.3431 - accuracy: 0.8526\n",
      "Epoch 98/100\n",
      " - 1s - loss: 0.3423 - accuracy: 0.8494\n",
      "Epoch 99/100\n",
      " - 1s - loss: 0.3427 - accuracy: 0.8508\n",
      "Epoch 100/100\n",
      " - 1s - loss: 0.3419 - accuracy: 0.8517\n"
     ]
    },
    {
     "data": {
      "text/plain": [
       "<keras.callbacks.callbacks.History at 0x27b36861588>"
      ]
     },
     "execution_count": 68,
     "metadata": {},
     "output_type": "execute_result"
    }
   ],
   "source": [
    "model2.fit(x_train, y_binary, epochs=100, verbose=2)"
   ]
  },
  {
   "cell_type": "code",
   "execution_count": 69,
   "metadata": {},
   "outputs": [],
   "source": [
    "dnn_predictions2 = model2.predict(x_test)"
   ]
  },
  {
   "cell_type": "code",
   "execution_count": 70,
   "metadata": {},
   "outputs": [],
   "source": [
    "pred2 = np.apply_along_axis(lambda r: 1 if r[1] > r[0] else 0, 1, dnn_predictions2)"
   ]
  },
  {
   "cell_type": "code",
   "execution_count": 72,
   "metadata": {},
   "outputs": [
    {
     "data": {
      "text/plain": [
       "0.8380447585394581"
      ]
     },
     "execution_count": 72,
     "metadata": {},
     "output_type": "execute_result"
    }
   ],
   "source": [
    "accuracy_score(y_test, pred2)"
   ]
  },
  {
   "cell_type": "code",
   "execution_count": 73,
   "metadata": {},
   "outputs": [
    {
     "data": {
      "text/plain": [
       "1    0.714959\n",
       "0    0.285041\n",
       "dtype: float64"
      ]
     },
     "execution_count": 73,
     "metadata": {},
     "output_type": "execute_result"
    }
   ],
   "source": [
    "pd.Series(pred2).value_counts() / len(pred2)"
   ]
  },
  {
   "cell_type": "code",
   "execution_count": 74,
   "metadata": {},
   "outputs": [],
   "source": [
    "# not much of a difference\n",
    "# for more experimentation, I think I'll try in PyCharm where I can use functions, not a bunch of copy/paste.\n",
    "# Or write functions here."
   ]
  },
  {
   "cell_type": "code",
   "execution_count": 75,
   "metadata": {},
   "outputs": [],
   "source": [
    "from DNN_analyzer import DNNAnalyzer"
   ]
  },
  {
   "cell_type": "code",
   "execution_count": 81,
   "metadata": {},
   "outputs": [
    {
     "name": "stdout",
     "output_type": "stream",
     "text": [
      "Epoch 1/57\n",
      " - 1s - loss: 0.5882 - accuracy: 0.7008\n",
      "Epoch 2/57\n",
      " - 1s - loss: 0.4711 - accuracy: 0.8056\n",
      "Epoch 3/57\n",
      " - 1s - loss: 0.4355 - accuracy: 0.8221\n",
      "Epoch 4/57\n",
      " - 1s - loss: 0.4211 - accuracy: 0.8207\n",
      "Epoch 5/57\n",
      " - 1s - loss: 0.4137 - accuracy: 0.8198\n",
      "Epoch 6/57\n",
      " - 1s - loss: 0.4080 - accuracy: 0.8221\n",
      "Epoch 7/57\n",
      " - 1s - loss: 0.4037 - accuracy: 0.8233\n",
      "Epoch 8/57\n",
      " - 1s - loss: 0.3997 - accuracy: 0.8256\n",
      "Epoch 9/57\n",
      " - 1s - loss: 0.3968 - accuracy: 0.8276\n",
      "Epoch 10/57\n",
      " - 1s - loss: 0.3950 - accuracy: 0.8250\n",
      "Epoch 11/57\n",
      " - 1s - loss: 0.3928 - accuracy: 0.8262\n",
      "Epoch 12/57\n",
      " - 1s - loss: 0.3913 - accuracy: 0.8273\n",
      "Epoch 13/57\n",
      " - 1s - loss: 0.3900 - accuracy: 0.8262\n",
      "Epoch 14/57\n",
      " - 1s - loss: 0.3888 - accuracy: 0.8273\n",
      "Epoch 15/57\n",
      " - 1s - loss: 0.3876 - accuracy: 0.8279\n",
      "Epoch 16/57\n",
      " - 1s - loss: 0.3874 - accuracy: 0.8279\n",
      "Epoch 17/57\n",
      " - 1s - loss: 0.3862 - accuracy: 0.8282\n",
      "Epoch 18/57\n",
      " - 1s - loss: 0.3852 - accuracy: 0.8305\n",
      "Epoch 19/57\n",
      " - 1s - loss: 0.3845 - accuracy: 0.8273\n",
      "Epoch 20/57\n",
      " - 1s - loss: 0.3836 - accuracy: 0.8320\n",
      "Epoch 21/57\n",
      " - 1s - loss: 0.3831 - accuracy: 0.8323\n",
      "Epoch 22/57\n",
      " - 1s - loss: 0.3831 - accuracy: 0.8288\n",
      "Epoch 23/57\n",
      " - 1s - loss: 0.3821 - accuracy: 0.8302\n",
      "Epoch 24/57\n",
      " - 1s - loss: 0.3822 - accuracy: 0.8291\n",
      "Epoch 25/57\n",
      " - 1s - loss: 0.3811 - accuracy: 0.8288\n",
      "Epoch 26/57\n",
      " - 1s - loss: 0.3813 - accuracy: 0.8297\n",
      "Epoch 27/57\n",
      " - 1s - loss: 0.3801 - accuracy: 0.8320\n",
      "Epoch 28/57\n",
      " - 1s - loss: 0.3800 - accuracy: 0.8314\n",
      "Epoch 29/57\n",
      " - 1s - loss: 0.3794 - accuracy: 0.8302\n",
      "Epoch 30/57\n",
      " - 0s - loss: 0.3790 - accuracy: 0.8297\n",
      "Epoch 31/57\n",
      " - 1s - loss: 0.3787 - accuracy: 0.8305\n",
      "Epoch 32/57\n",
      " - 1s - loss: 0.3783 - accuracy: 0.8320\n",
      "Epoch 33/57\n",
      " - 1s - loss: 0.3779 - accuracy: 0.8308\n",
      "Epoch 34/57\n",
      " - 1s - loss: 0.3783 - accuracy: 0.8308\n",
      "Epoch 35/57\n",
      " - 1s - loss: 0.3773 - accuracy: 0.8305\n",
      "Epoch 36/57\n",
      " - 1s - loss: 0.3770 - accuracy: 0.8326\n",
      "Epoch 37/57\n",
      " - 1s - loss: 0.3767 - accuracy: 0.8334\n",
      "Epoch 38/57\n",
      " - 1s - loss: 0.3766 - accuracy: 0.8311\n",
      "Epoch 39/57\n",
      " - 1s - loss: 0.3760 - accuracy: 0.8334\n",
      "Epoch 40/57\n",
      " - 1s - loss: 0.3759 - accuracy: 0.8311\n",
      "Epoch 41/57\n",
      " - 1s - loss: 0.3759 - accuracy: 0.8311\n",
      "Epoch 42/57\n",
      " - 1s - loss: 0.3752 - accuracy: 0.8355\n",
      "Epoch 43/57\n",
      " - 1s - loss: 0.3748 - accuracy: 0.8331\n",
      "Epoch 44/57\n",
      " - 1s - loss: 0.3746 - accuracy: 0.8334\n",
      "Epoch 45/57\n",
      " - 1s - loss: 0.3745 - accuracy: 0.8308\n",
      "Epoch 46/57\n",
      " - 1s - loss: 0.3742 - accuracy: 0.8334\n",
      "Epoch 47/57\n",
      " - 1s - loss: 0.3737 - accuracy: 0.8349\n",
      "Epoch 48/57\n",
      " - 1s - loss: 0.3741 - accuracy: 0.8352\n",
      "Epoch 49/57\n",
      " - 1s - loss: 0.3734 - accuracy: 0.8334\n",
      "Epoch 50/57\n",
      " - 1s - loss: 0.3736 - accuracy: 0.8343\n",
      "Epoch 51/57\n",
      " - 1s - loss: 0.3731 - accuracy: 0.8343\n",
      "Epoch 52/57\n",
      " - 1s - loss: 0.3730 - accuracy: 0.8320\n",
      "Epoch 53/57\n",
      " - 1s - loss: 0.3726 - accuracy: 0.8363\n",
      "Epoch 54/57\n",
      " - 1s - loss: 0.3726 - accuracy: 0.8334\n",
      "Epoch 55/57\n",
      " - 1s - loss: 0.3725 - accuracy: 0.8372\n",
      "Epoch 56/57\n",
      " - 1s - loss: 0.3720 - accuracy: 0.8360\n",
      "Epoch 57/57\n",
      " - 1s - loss: 0.3726 - accuracy: 0.8340\n",
      "0.8498233215547704\n",
      "              precision    recall  f1-score   support\n",
      "\n",
      "           0       0.77      0.75      0.76       543\n",
      "           1       0.88      0.90      0.89      1155\n",
      "\n",
      "    accuracy                           0.85      1698\n",
      "   macro avg       0.83      0.82      0.83      1698\n",
      "weighted avg       0.85      0.85      0.85      1698\n",
      "\n",
      "1    1172\n",
      "0     526\n",
      "dtype: int64\n"
     ]
    }
   ],
   "source": [
    "dnn = DNNAnalyzer()\n",
    "dnn.analyze_1(57)"
   ]
  },
  {
   "cell_type": "code",
   "execution_count": 77,
   "metadata": {},
   "outputs": [],
   "source": [
    "import importlib"
   ]
  },
  {
   "cell_type": "code",
   "execution_count": 78,
   "metadata": {},
   "outputs": [],
   "source": [
    "from importlib import reload"
   ]
  },
  {
   "cell_type": "code",
   "execution_count": 79,
   "metadata": {},
   "outputs": [
    {
     "ename": "NameError",
     "evalue": "name 'DNN_analyzer' is not defined",
     "output_type": "error",
     "traceback": [
      "\u001b[1;31m---------------------------------------------------------------------------\u001b[0m",
      "\u001b[1;31mNameError\u001b[0m                                 Traceback (most recent call last)",
      "\u001b[1;32m<ipython-input-79-02c974501979>\u001b[0m in \u001b[0;36m<module>\u001b[1;34m\u001b[0m\n\u001b[1;32m----> 1\u001b[1;33m \u001b[0mimportlib\u001b[0m\u001b[1;33m.\u001b[0m\u001b[0mreload\u001b[0m\u001b[1;33m(\u001b[0m\u001b[0mDNN_analyzer\u001b[0m\u001b[1;33m)\u001b[0m\u001b[1;33m\u001b[0m\u001b[1;33m\u001b[0m\u001b[0m\n\u001b[0m",
      "\u001b[1;31mNameError\u001b[0m: name 'DNN_analyzer' is not defined"
     ]
    }
   ],
   "source": [
    "importlib.reload(DNN_analyzer)"
   ]
  },
  {
   "cell_type": "code",
   "execution_count": null,
   "metadata": {},
   "outputs": [],
   "source": [
    "import DNN_analyzer"
   ]
  },
  {
   "cell_type": "code",
   "execution_count": null,
   "metadata": {},
   "outputs": [],
   "source": [
    "dnn = DNN_analyzer.DNNAnalyzer()\n",
    "dnn.analyze_1(57)"
   ]
  },
  {
   "cell_type": "code",
   "execution_count": 80,
   "metadata": {},
   "outputs": [
    {
     "name": "stdout",
     "output_type": "stream",
     "text": [
      "Epoch 1/57\n",
      " - 1s - loss: 0.5772 - accuracy: 0.7261\n",
      "Epoch 2/57\n",
      " - 1s - loss: 0.4298 - accuracy: 0.8239\n",
      "Epoch 3/57\n",
      " - 1s - loss: 0.4109 - accuracy: 0.8236\n",
      "Epoch 4/57\n",
      " - 1s - loss: 0.4026 - accuracy: 0.8294\n",
      "Epoch 5/57\n",
      " - 1s - loss: 0.3990 - accuracy: 0.8305\n",
      "Epoch 6/57\n",
      " - 1s - loss: 0.3945 - accuracy: 0.8285\n",
      "Epoch 7/57\n",
      " - 0s - loss: 0.3922 - accuracy: 0.8276\n",
      "Epoch 8/57\n",
      " - 0s - loss: 0.3898 - accuracy: 0.8311\n",
      "Epoch 9/57\n",
      " - 1s - loss: 0.3877 - accuracy: 0.8311\n",
      "Epoch 10/57\n",
      " - 1s - loss: 0.3864 - accuracy: 0.8326\n",
      "Epoch 11/57\n",
      " - 1s - loss: 0.3848 - accuracy: 0.8308\n",
      "Epoch 12/57\n",
      " - 1s - loss: 0.3835 - accuracy: 0.8340\n",
      "Epoch 13/57\n",
      " - 1s - loss: 0.3819 - accuracy: 0.8343\n",
      "Epoch 14/57\n",
      " - 1s - loss: 0.3813 - accuracy: 0.8317\n",
      "Epoch 15/57\n",
      " - 1s - loss: 0.3807 - accuracy: 0.8363\n",
      "Epoch 16/57\n",
      " - 1s - loss: 0.3787 - accuracy: 0.8334\n",
      "Epoch 17/57\n",
      " - 1s - loss: 0.3776 - accuracy: 0.8343\n",
      "Epoch 18/57\n",
      " - 0s - loss: 0.3761 - accuracy: 0.8352\n",
      "Epoch 19/57\n",
      " - 0s - loss: 0.3757 - accuracy: 0.8381\n",
      "Epoch 20/57\n",
      " - 1s - loss: 0.3738 - accuracy: 0.8363\n",
      "Epoch 21/57\n",
      " - 1s - loss: 0.3737 - accuracy: 0.8381\n",
      "Epoch 22/57\n",
      " - 0s - loss: 0.3718 - accuracy: 0.8398\n",
      "Epoch 23/57\n",
      " - 1s - loss: 0.3708 - accuracy: 0.8387\n",
      "Epoch 24/57\n",
      " - 1s - loss: 0.3704 - accuracy: 0.8410\n",
      "Epoch 25/57\n",
      " - 1s - loss: 0.3697 - accuracy: 0.8392\n",
      "Epoch 26/57\n",
      " - 1s - loss: 0.3681 - accuracy: 0.8401\n",
      "Epoch 27/57\n",
      " - 1s - loss: 0.3673 - accuracy: 0.8413\n",
      "Epoch 28/57\n",
      " - 1s - loss: 0.3670 - accuracy: 0.8418\n",
      "Epoch 29/57\n",
      " - 1s - loss: 0.3667 - accuracy: 0.8418\n",
      "Epoch 30/57\n",
      " - 1s - loss: 0.3649 - accuracy: 0.8439\n",
      "Epoch 31/57\n",
      " - 1s - loss: 0.3655 - accuracy: 0.8427\n",
      "Epoch 32/57\n",
      " - 1s - loss: 0.3639 - accuracy: 0.8453\n",
      "Epoch 33/57\n",
      " - 0s - loss: 0.3636 - accuracy: 0.8459\n",
      "Epoch 34/57\n",
      " - 1s - loss: 0.3626 - accuracy: 0.8442\n",
      "Epoch 35/57\n",
      " - 1s - loss: 0.3625 - accuracy: 0.8442\n",
      "Epoch 36/57\n",
      " - 0s - loss: 0.3619 - accuracy: 0.8442\n",
      "Epoch 37/57\n",
      " - 1s - loss: 0.3608 - accuracy: 0.8474\n",
      "Epoch 38/57\n",
      " - 0s - loss: 0.3612 - accuracy: 0.8471\n",
      "Epoch 39/57\n",
      " - 0s - loss: 0.3594 - accuracy: 0.8462\n",
      "Epoch 40/57\n",
      " - 0s - loss: 0.3599 - accuracy: 0.8468\n",
      "Epoch 41/57\n",
      " - 1s - loss: 0.3592 - accuracy: 0.8456\n",
      "Epoch 42/57\n",
      " - 1s - loss: 0.3583 - accuracy: 0.8482\n",
      "Epoch 43/57\n",
      " - 0s - loss: 0.3574 - accuracy: 0.8479\n",
      "Epoch 44/57\n",
      " - 1s - loss: 0.3582 - accuracy: 0.8474\n",
      "Epoch 45/57\n",
      " - 1s - loss: 0.3571 - accuracy: 0.8482\n",
      "Epoch 46/57\n",
      " - 1s - loss: 0.3570 - accuracy: 0.8485\n",
      "Epoch 47/57\n",
      " - 1s - loss: 0.3571 - accuracy: 0.8497\n",
      "Epoch 48/57\n",
      " - 1s - loss: 0.3558 - accuracy: 0.8485\n",
      "Epoch 49/57\n",
      " - 1s - loss: 0.3568 - accuracy: 0.8462\n",
      "Epoch 50/57\n",
      " - 1s - loss: 0.3571 - accuracy: 0.8491\n",
      "Epoch 51/57\n",
      " - 0s - loss: 0.3549 - accuracy: 0.8503\n",
      "Epoch 52/57\n",
      " - 0s - loss: 0.3551 - accuracy: 0.8494\n",
      "Epoch 53/57\n",
      " - 0s - loss: 0.3548 - accuracy: 0.8485\n",
      "Epoch 54/57\n",
      " - 0s - loss: 0.3550 - accuracy: 0.8500\n",
      "Epoch 55/57\n",
      " - 0s - loss: 0.3542 - accuracy: 0.8497\n",
      "Epoch 56/57\n",
      " - 0s - loss: 0.3542 - accuracy: 0.8508\n",
      "Epoch 57/57\n",
      " - 1s - loss: 0.3533 - accuracy: 0.8532\n",
      "0.833922261484099\n",
      "              precision    recall  f1-score   support\n",
      "\n",
      "           0       0.77      0.69      0.73       543\n",
      "           1       0.86      0.90      0.88      1155\n",
      "\n",
      "    accuracy                           0.83      1698\n",
      "   macro avg       0.81      0.80      0.80      1698\n",
      "weighted avg       0.83      0.83      0.83      1698\n",
      "\n",
      "1    1211\n",
      "0     487\n",
      "dtype: int64\n"
     ]
    }
   ],
   "source": [
    "dnn.analyze_2(57)"
   ]
  },
  {
   "cell_type": "code",
   "execution_count": null,
   "metadata": {},
   "outputs": [],
   "source": [
    "dnn.analyze_3(57)"
   ]
  },
  {
   "cell_type": "code",
   "execution_count": null,
   "metadata": {},
   "outputs": [],
   "source": [
    "dnn.analyze_4(57)"
   ]
  },
  {
   "cell_type": "code",
   "execution_count": null,
   "metadata": {},
   "outputs": [],
   "source": []
  },
  {
   "cell_type": "code",
   "execution_count": null,
   "metadata": {},
   "outputs": [],
   "source": []
  },
  {
   "cell_type": "code",
   "execution_count": 43,
   "metadata": {},
   "outputs": [],
   "source": [
    "# Experiment with sigmoid output instead of softmax"
   ]
  },
  {
   "cell_type": "code",
   "execution_count": null,
   "metadata": {},
   "outputs": [],
   "source": [
    "model = Sequential()\n",
    "model.add(Dense(18, input_dim=9, activation='relu'))\n",
    "model.add(Dense(18, input_dim=18, activation='relu'))\n",
    "model.add(Dense(1, activation='sigmoid'))\n",
    "model.compile(loss='categorical_crossentropy', optimizer='adam', metrics=['accuracy'])"
   ]
  }
 ],
 "metadata": {
  "kernelspec": {
   "display_name": "Python 3",
   "language": "python",
   "name": "python3"
  },
  "language_info": {
   "codemirror_mode": {
    "name": "ipython",
    "version": 3
   },
   "file_extension": ".py",
   "mimetype": "text/x-python",
   "name": "python",
   "nbconvert_exporter": "python",
   "pygments_lexer": "ipython3",
   "version": "3.7.9"
  }
 },
 "nbformat": 4,
 "nbformat_minor": 4
}
