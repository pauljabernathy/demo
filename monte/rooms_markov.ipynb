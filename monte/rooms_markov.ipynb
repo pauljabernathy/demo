{
 "cells": [
  {
   "cell_type": "markdown",
   "id": "applied-editing",
   "metadata": {},
   "source": [
    "## Introduction\n",
    "\n",
    "A Monte Carlo simulation of a Markov Chain.  \n",
    "\n",
    "I once heard something to the effect that if you have a given set of states with given transition probabilities, and you take random walks between those states, then the average time spent in each state and the likelihood of being in a given state at the end is independent of which start you start in.\n",
    "\n",
    "This was to test that.\n",
    "\n",
    "First we'll test with three states, then we will increase the number of states.  For the examples with more states, we will use a toy example of a house with a person randomly going between rooms in the house.  I run simulation with many \"chains\" with each chain representing moving through the house to X number of rooms.  I track the list of rooms visited and also the last room visited.  A random room is chosen to start each chain.\n",
    "\n",
    "### Hypothesis 1:\n",
    "\n",
    "The amount of visits to each state (or room) are roughly the same as what would be predicted by the transition probabilities.\n",
    "\n",
    "### Hypothesis 2:\n",
    "\n",
    "Similary, the number of times each room is the last room in the chain is the roughly the same as would would be predicted by the transition probabilities.\n",
    "\n",
    "### Hypothesis 3:\n",
    "\n",
    "The proportions of those last rooms will be roughly equal to the overall proportions of visits to each room.  That is, the number of times room A is the last room should be approximately to (number of visits to A) / chain length.\n",
    "\n",
    "### Hypothesis 4:\n",
    "\n",
    "No matter what room you start in, the proportion in each room will be roughly constant.\n",
    "\n",
    "For each of these, will will use a <a href=\"https://en.wikipedia.org/wiki/Chi-squared_test\">chi-square test</a> to test if the distributions are actually equal or not.\n",
    "\n"
   ]
  },
  {
   "cell_type": "code",
   "execution_count": 1,
   "id": "passing-single",
   "metadata": {},
   "outputs": [],
   "source": [
    "from prob_dist import *\n",
    "import pandas as pd\n",
    "from scipy.stats import chisquare"
   ]
  },
  {
   "cell_type": "markdown",
   "id": "intellectual-prime",
   "metadata": {},
   "source": [
    "Import <a href=\"rooms_markov_chain.py\">the module </a>I wrote."
   ]
  },
  {
   "cell_type": "code",
   "execution_count": 2,
   "id": "rotary-printer",
   "metadata": {},
   "outputs": [],
   "source": [
    "import rooms_markov_chain as rmc\n",
    "import states_markov_runner as smr\n",
    "import rooms_probs"
   ]
  },
  {
   "cell_type": "markdown",
   "id": "defensive-ecology",
   "metadata": {},
   "source": [
    "## Part 1\n",
    "### Lily Pads"
   ]
  },
  {
   "cell_type": "markdown",
   "id": "broken-valve",
   "metadata": {},
   "source": [
    "First, let's imagine a scenario with three states.  Call them A, B and C.  Maybe they are lily pads and there is a frog hopping in between lily pads.  In this scenario, if the frog is on liily pad A, it will jump to B with a probability of .7 and to C with a probability of .3.  It if is on B, it will jump to A with a probability of .7 and to with a probability of .3.  If it is on C, it will jump to either A or B with a probability of .5.\n",
    "\n",
    "The three states looks like this:\n",
    "\n",
    "<img src=\"three_states.png\">\n",
    "\n",
    "The question is, if you let the frog hop between lily pads for long enough, what portion of its time will be spent on each?\n",
    "\n",
    "First, let's look at the theoretical probabilities and then run a simulation and see if the experiment results agree with the theoretical results.\n",
    "\n",
    "Let's say P(X) is the probability of it being in state X, and T(X|Y) is the probability of transitioning from state Y to state X (it is intended to be similar to the notation for conditional probability, as in the probability of transitioning to state X given that the frog was in state Y).\n",
    "\n",
    "The probabilities of being in each state are as follows:\n",
    "\n",
    "<ul>\n",
    "    <li>P(A) = P(B) T(A|B) + P(C) T(A|C)</li>\n",
    "    <li>P(B) = P(C) T(B|C) + P(A) T(B|A)</li>\n",
    "    <li>P(C) = P(A) T(C|A) + P(B) T(C|B)</li>\n",
    "</ul>\n",
    "\n",
    "From the above image, the transition probabilities are:\n",
    "\n",
    "<ul>\n",
    "    <li>T(B|A) = .7</li>\n",
    "    <li>T(C|A) = .3</li>\n",
    "    <li>T(A|B) = .7</li>\n",
    "    <li>T(C|B) = .3</li>\n",
    "    <li>T(A|C) = .5</li>\n",
    "    <li>T(B|C) = .5</li>\n",
    "</ul>\n",
    "\n",
    "Since the transition probabilities are known, it is a matter of solving a system of linear equations.  The values are:\n",
    "\n",
    "<ul>\n",
    "    <li>P(A) = 5 / 13 ~ .3846</li>\n",
    "    <li>P(B) = 5 / 13 ~ .3846</li>\n",
    "    <li>P(C) = 3 / 13 ~ .2308</li>\n",
    "</ul>\n",
    "Let's run the simulation and see what we get."
   ]
  },
  {
   "cell_type": "code",
   "execution_count": 3,
   "id": "medieval-mandate",
   "metadata": {},
   "outputs": [],
   "source": [
    "probs = pd.DataFrame({\"state\": ['A', 'B', 'C'], \"probability\":  [.3846, .3846, .2308]})"
   ]
  },
  {
   "cell_type": "code",
   "execution_count": 4,
   "id": "cardiac-broadcasting",
   "metadata": {},
   "outputs": [],
   "source": [
    "A = 'A'\n",
    "B = 'B'\n",
    "C = 'C'\n",
    "\n",
    "a_probs = ProbDist({B: 7, C: 3}, id='A')\n",
    "b_probs = ProbDist({A: 7, C: 3}, id='B')\n",
    "c_probs = ProbDist({A: 5, B: 5}, id='C')\n",
    "\n",
    "letter_dist_map = {\n",
    "    A: a_probs,\n",
    "    B: b_probs,\n",
    "    C: c_probs\n",
    "}"
   ]
  },
  {
   "cell_type": "code",
   "execution_count": 5,
   "id": "reverse-disney",
   "metadata": {},
   "outputs": [
    {
     "name": "stdout",
     "output_type": "stream",
     "text": [
      "\n",
      "all_states_visited:\n",
      "   values   ratios\n",
      "B   38416  0.38416\n",
      "A   38413  0.38413\n",
      "C   23171  0.23171\n",
      "\n",
      "\n",
      "ending states\n",
      "   values  ratios\n",
      "A     407   0.407\n",
      "B     365   0.365\n",
      "C     228   0.228\n"
     ]
    }
   ],
   "source": [
    "num_chains=1000\n",
    "chain_length=100\n",
    "all_states_visited_hist, ending_states_hist = rmc.do_sim(letter_dist_map, num_chains=num_chains, chain_length=chain_length, display_each=False)"
   ]
  },
  {
   "cell_type": "markdown",
   "id": "stock-definition",
   "metadata": {},
   "source": [
    "In this output, we can see that it was in state A 38452 times and ended a 1000 hop chain in state A 385 times.  It was in B 38367 times and ended in B 366 times.  It was in state C 23181 times and ended a chain on lilly pad C 249 times.  Looking at the ratios, you can see that they are not too far off from the expected probabilities.  But I still want to do an actual statistical test.\n",
    "\n",
    "First, we will look at this data above, which is a small sample, and then look at a larger set of data."
   ]
  },
  {
   "cell_type": "markdown",
   "id": "aggressive-robinson",
   "metadata": {},
   "source": [
    "To test Hypothesis 1, we will use a chi square test to compare the total number of visits to each lilly pad to the expection."
   ]
  },
  {
   "cell_type": "code",
   "execution_count": 6,
   "id": "suitable-hypothesis",
   "metadata": {},
   "outputs": [],
   "source": [
    "exp_all_states_counts = (probs.probability * num_chains * chain_length)\n",
    "#exp_all_states_counts"
   ]
  },
  {
   "cell_type": "code",
   "execution_count": 7,
   "id": "flexible-member",
   "metadata": {},
   "outputs": [
    {
     "data": {
      "text/plain": [
       "0.7919279191740994"
      ]
     },
     "execution_count": 7,
     "metadata": {},
     "output_type": "execute_result"
    }
   ],
   "source": [
    "xs_all_1 = chisquare(all_states_visited_hist['values'], exp_all_states_counts)\n",
    "xs_all_1.pvalue"
   ]
  },
  {
   "cell_type": "markdown",
   "id": "analyzed-kuwait",
   "metadata": {},
   "source": [
    "To test Hypotheis 2, we do the same, but using the end states."
   ]
  },
  {
   "cell_type": "code",
   "execution_count": 8,
   "id": "vanilla-emerald",
   "metadata": {},
   "outputs": [],
   "source": [
    "exp_ending_states_counts = (probs.probability * num_chains)\n",
    "#exp_ending_states_counts"
   ]
  },
  {
   "cell_type": "code",
   "execution_count": 9,
   "id": "excess-criterion",
   "metadata": {},
   "outputs": [
    {
     "data": {
      "text/plain": [
       "0.3107624541241108"
      ]
     },
     "execution_count": 9,
     "metadata": {},
     "output_type": "execute_result"
    }
   ],
   "source": [
    "xs_end_1 = chisquare(ending_states_hist['values'], exp_ending_states_counts)\n",
    "xs_end_1.pvalue"
   ]
  },
  {
   "cell_type": "markdown",
   "id": "grave-veteran",
   "metadata": {},
   "source": [
    "To test Hypothesis 3, we compare the number of total visits to the number of ending visits."
   ]
  },
  {
   "cell_type": "code",
   "execution_count": 10,
   "id": "economic-concrete",
   "metadata": {},
   "outputs": [
    {
     "data": {
      "text/plain": [
       "0.30963469418955397"
      ]
     },
     "execution_count": 10,
     "metadata": {},
     "output_type": "execute_result"
    }
   ],
   "source": [
    "chisquare(all_states_visited_hist['values'] / chain_length, ending_states_hist['values']).pvalue"
   ]
  },
  {
   "cell_type": "markdown",
   "id": "laughing-rainbow",
   "metadata": {},
   "source": [
    "In each of these cases, the p-value is well above .05, even being above .7 in one case.  Of course, a p-value of .3 does not inspire as much confidence as we are looking for.  Could that be due to the low smaple size?  The reality is, if you run this many times (as I did), the total numbers don't seem to change a whole lot, but the chi squared results can vary a lot.\n",
    "\n",
    "In addition, to test Hypothesis 4, we will need to run the simulation many times, specifying the start state.\n",
    "\n",
    "In order to test Hypothesis 4, I ran the simulation starting from each state.  The code in is the <a href=\"states_markov_runner.py\">states_markov_runner module</a> imported above.\n",
    "\n",
    "In order to correct the small sample, I ran the simumlation out of Jupyter Notebooks many times, using few combinations of input parameters.  So let's load that data."
   ]
  },
  {
   "cell_type": "code",
   "execution_count": 11,
   "id": "abstract-tours",
   "metadata": {},
   "outputs": [],
   "source": [
    "three_states_df = pd.read_csv(\"sim_results/3_states_results.csv\")"
   ]
  },
  {
   "cell_type": "code",
   "execution_count": 12,
   "id": "requested-shark",
   "metadata": {},
   "outputs": [
    {
     "data": {
      "text/html": [
       "<div>\n",
       "<style scoped>\n",
       "    .dataframe tbody tr th:only-of-type {\n",
       "        vertical-align: middle;\n",
       "    }\n",
       "\n",
       "    .dataframe tbody tr th {\n",
       "        vertical-align: top;\n",
       "    }\n",
       "\n",
       "    .dataframe thead th {\n",
       "        text-align: right;\n",
       "    }\n",
       "</style>\n",
       "<table border=\"1\" class=\"dataframe\">\n",
       "  <thead>\n",
       "    <tr style=\"text-align: right;\">\n",
       "      <th></th>\n",
       "      <th>num_chains</th>\n",
       "      <th>chain_length</th>\n",
       "      <th>starting_state</th>\n",
       "      <th>A_all</th>\n",
       "      <th>B_all</th>\n",
       "      <th>C_all</th>\n",
       "      <th>A_end</th>\n",
       "      <th>B_end</th>\n",
       "      <th>C_end</th>\n",
       "    </tr>\n",
       "  </thead>\n",
       "  <tbody>\n",
       "    <tr>\n",
       "      <th>0</th>\n",
       "      <td>10</td>\n",
       "      <td>10.0</td>\n",
       "      <td>A</td>\n",
       "      <td>40.0</td>\n",
       "      <td>37.0</td>\n",
       "      <td>23.0</td>\n",
       "      <td>2.0</td>\n",
       "      <td>3.0</td>\n",
       "      <td>5.0</td>\n",
       "    </tr>\n",
       "    <tr>\n",
       "      <th>1</th>\n",
       "      <td>10</td>\n",
       "      <td>10.0</td>\n",
       "      <td>A</td>\n",
       "      <td>42.0</td>\n",
       "      <td>39.0</td>\n",
       "      <td>19.0</td>\n",
       "      <td>5.0</td>\n",
       "      <td>4.0</td>\n",
       "      <td>1.0</td>\n",
       "    </tr>\n",
       "    <tr>\n",
       "      <th>2</th>\n",
       "      <td>10</td>\n",
       "      <td>10.0</td>\n",
       "      <td>A</td>\n",
       "      <td>45.0</td>\n",
       "      <td>34.0</td>\n",
       "      <td>21.0</td>\n",
       "      <td>5.0</td>\n",
       "      <td>3.0</td>\n",
       "      <td>2.0</td>\n",
       "    </tr>\n",
       "    <tr>\n",
       "      <th>3</th>\n",
       "      <td>10</td>\n",
       "      <td>10.0</td>\n",
       "      <td>B</td>\n",
       "      <td>37.0</td>\n",
       "      <td>43.0</td>\n",
       "      <td>20.0</td>\n",
       "      <td>2.0</td>\n",
       "      <td>4.0</td>\n",
       "      <td>4.0</td>\n",
       "    </tr>\n",
       "    <tr>\n",
       "      <th>4</th>\n",
       "      <td>10</td>\n",
       "      <td>10.0</td>\n",
       "      <td>C</td>\n",
       "      <td>41.0</td>\n",
       "      <td>33.0</td>\n",
       "      <td>26.0</td>\n",
       "      <td>6.0</td>\n",
       "      <td>2.0</td>\n",
       "      <td>2.0</td>\n",
       "    </tr>\n",
       "    <tr>\n",
       "      <th>...</th>\n",
       "      <td>...</td>\n",
       "      <td>...</td>\n",
       "      <td>...</td>\n",
       "      <td>...</td>\n",
       "      <td>...</td>\n",
       "      <td>...</td>\n",
       "      <td>...</td>\n",
       "      <td>...</td>\n",
       "      <td>...</td>\n",
       "    </tr>\n",
       "    <tr>\n",
       "      <th>100</th>\n",
       "      <td>10</td>\n",
       "      <td>100000.0</td>\n",
       "      <td>B</td>\n",
       "      <td>384407.0</td>\n",
       "      <td>385085.0</td>\n",
       "      <td>230508.0</td>\n",
       "      <td>3.0</td>\n",
       "      <td>6.0</td>\n",
       "      <td>1.0</td>\n",
       "    </tr>\n",
       "    <tr>\n",
       "      <th>101</th>\n",
       "      <td>10</td>\n",
       "      <td>100000.0</td>\n",
       "      <td>C</td>\n",
       "      <td>384365.0</td>\n",
       "      <td>384564.0</td>\n",
       "      <td>231071.0</td>\n",
       "      <td>5.0</td>\n",
       "      <td>3.0</td>\n",
       "      <td>2.0</td>\n",
       "    </tr>\n",
       "    <tr>\n",
       "      <th>102</th>\n",
       "      <td>10</td>\n",
       "      <td>100000.0</td>\n",
       "      <td>A</td>\n",
       "      <td>384839.0</td>\n",
       "      <td>384643.0</td>\n",
       "      <td>230518.0</td>\n",
       "      <td>4.0</td>\n",
       "      <td>5.0</td>\n",
       "      <td>1.0</td>\n",
       "    </tr>\n",
       "    <tr>\n",
       "      <th>103</th>\n",
       "      <td>10</td>\n",
       "      <td>100000.0</td>\n",
       "      <td>B</td>\n",
       "      <td>384602.0</td>\n",
       "      <td>384512.0</td>\n",
       "      <td>230886.0</td>\n",
       "      <td>3.0</td>\n",
       "      <td>4.0</td>\n",
       "      <td>3.0</td>\n",
       "    </tr>\n",
       "    <tr>\n",
       "      <th>104</th>\n",
       "      <td>10</td>\n",
       "      <td>100000.0</td>\n",
       "      <td>C</td>\n",
       "      <td>384367.0</td>\n",
       "      <td>384642.0</td>\n",
       "      <td>230991.0</td>\n",
       "      <td>4.0</td>\n",
       "      <td>3.0</td>\n",
       "      <td>3.0</td>\n",
       "    </tr>\n",
       "  </tbody>\n",
       "</table>\n",
       "<p>105 rows × 9 columns</p>\n",
       "</div>"
      ],
      "text/plain": [
       "     num_chains  chain_length starting_state     A_all     B_all     C_all  \\\n",
       "0            10          10.0              A      40.0      37.0      23.0   \n",
       "1            10          10.0              A      42.0      39.0      19.0   \n",
       "2            10          10.0              A      45.0      34.0      21.0   \n",
       "3            10          10.0              B      37.0      43.0      20.0   \n",
       "4            10          10.0              C      41.0      33.0      26.0   \n",
       "..          ...           ...            ...       ...       ...       ...   \n",
       "100          10      100000.0              B  384407.0  385085.0  230508.0   \n",
       "101          10      100000.0              C  384365.0  384564.0  231071.0   \n",
       "102          10      100000.0              A  384839.0  384643.0  230518.0   \n",
       "103          10      100000.0              B  384602.0  384512.0  230886.0   \n",
       "104          10      100000.0              C  384367.0  384642.0  230991.0   \n",
       "\n",
       "     A_end  B_end  C_end  \n",
       "0      2.0    3.0    5.0  \n",
       "1      5.0    4.0    1.0  \n",
       "2      5.0    3.0    2.0  \n",
       "3      2.0    4.0    4.0  \n",
       "4      6.0    2.0    2.0  \n",
       "..     ...    ...    ...  \n",
       "100    3.0    6.0    1.0  \n",
       "101    5.0    3.0    2.0  \n",
       "102    4.0    5.0    1.0  \n",
       "103    3.0    4.0    3.0  \n",
       "104    4.0    3.0    3.0  \n",
       "\n",
       "[105 rows x 9 columns]"
      ]
     },
     "execution_count": 12,
     "metadata": {},
     "output_type": "execute_result"
    }
   ],
   "source": [
    "three_states_df"
   ]
  },
  {
   "cell_type": "code",
   "execution_count": 24,
   "id": "emerging-bacon",
   "metadata": {},
   "outputs": [],
   "source": [
    "exp_ratios = [.3846, .3846, .2308]\n",
    "exp_ratios_df = pd.DataFrame({\"state\": ['A', 'B', 'C'], \"probability\": exp_ratios})"
   ]
  },
  {
   "cell_type": "markdown",
   "id": "paperback-infrared",
   "metadata": {},
   "source": [
    "In this data set, I have a series of runs for for 1000 chains of 1000 hops and 10 chains of 100000 hops.  I ran it in groups of 1000 or 10 because the program can take a while to run and I wanted to be able to aggregate results sooner and have less concern about the program crashing three quarters of the way through.\n",
    "\n",
    "The function I wrote to aggregate results looks at the results and sums up everything for that number of chains and chain length.  For example, if I did the \"10 chains of 10000 hops\" simulation 20 times, it will effectively give me 200 chains of 10000 hops."
   ]
  },
  {
   "cell_type": "code",
   "execution_count": 14,
   "id": "streaming-inquiry",
   "metadata": {},
   "outputs": [],
   "source": [
    "stats_1000_1000 = smr.get_stats_for_params(three_states_df, 1000, 1000, exp_ratios_df)\n",
    "stats_10_100000 = smr.get_stats_for_params(three_states_df, 10, 100000, exp_ratios_df)"
   ]
  },
  {
   "cell_type": "code",
   "execution_count": 15,
   "id": "tender-heavy",
   "metadata": {},
   "outputs": [
    {
     "data": {
      "text/plain": [
       "{'hyp 1 all': 0.7209084334250134,\n",
       " 'hyp 2 end': 0.4656105441079271,\n",
       " 'hyp 3': 0.0,\n",
       " 'hyp 4 A_all': 0.000825085089400028,\n",
       " 'hyp 4 B_all': 0.0010472609655392822,\n",
       " 'hyp 4 C_all': 3.4622326230543753e-10,\n",
       " 'hyp 4 A_end': 0.5411677869096221,\n",
       " 'hyp 4 B_end': 0.24720462102570862,\n",
       " 'hyp 4 C_end': 0.470815602245087}"
      ]
     },
     "execution_count": 15,
     "metadata": {},
     "output_type": "execute_result"
    }
   ],
   "source": [
    "stats_1000_1000"
   ]
  },
  {
   "cell_type": "code",
   "execution_count": 16,
   "id": "european-victory",
   "metadata": {},
   "outputs": [
    {
     "data": {
      "text/plain": [
       "{'hyp 1 all': 0.9190644896924097,\n",
       " 'hyp 2 end': 0.9355636728493388,\n",
       " 'hyp 3': 0.0,\n",
       " 'hyp 4 A_all': 0.5607181778074602,\n",
       " 'hyp 4 B_all': 0.8561100882929568,\n",
       " 'hyp 4 C_all': 0.13932344005363226,\n",
       " 'hyp 4 A_end': 0.7887639842935104,\n",
       " 'hyp 4 B_end': 0.8477093994034797,\n",
       " 'hyp 4 C_end': 0.9851854581626467}"
      ]
     },
     "execution_count": 16,
     "metadata": {},
     "output_type": "execute_result"
    }
   ],
   "source": [
    "stats_10_100000"
   ]
  },
  {
   "cell_type": "markdown",
   "id": "determined-germany",
   "metadata": {},
   "source": [
    "In the above, for both cases, the p value for Hypothesis 1 is quite high and 0 for Hypothesis 3.  The other p-values are much higher in the 10000 hop chain simultions.\n",
    "\n",
    "We see that the two situations seem a little different.  And looking at it, it makes some sense.  When you start a chain in a particular state, you are guaranteeing that there will be at least one visit to that state.  For shorter chains, that will change the expected ratio of visits to that state slightly.  The longer the chain, the more the \"steady state\" situation we are interested in."
   ]
  },
  {
   "cell_type": "markdown",
   "id": "broad-walker",
   "metadata": {},
   "source": [
    "## Part 2\n",
    "### Wondering through your house"
   ]
  },
  {
   "cell_type": "markdown",
   "id": "ideal-divide",
   "metadata": {},
   "source": [
    "I originally started this by simulating a person walking through rooms of a house.  Mathematically and computationally, it is the same problem, but we are going to have 9 states instead of 3 and call them by rooms in a house.  It is modeled off my house but with a few rooms excluded, as in the image below.\n",
    "\n",
    "<img src=\"rooms_image.png\">\n",
    "\n",
    "I spent a lot of time calculating the theoretical probabilities of each room by solving a system of equations.  The probabilities are given below."
   ]
  },
  {
   "cell_type": "code",
   "execution_count": 17,
   "id": "asian-individual",
   "metadata": {},
   "outputs": [
    {
     "data": {
      "text/html": [
       "<div>\n",
       "<style scoped>\n",
       "    .dataframe tbody tr th:only-of-type {\n",
       "        vertical-align: middle;\n",
       "    }\n",
       "\n",
       "    .dataframe tbody tr th {\n",
       "        vertical-align: top;\n",
       "    }\n",
       "\n",
       "    .dataframe thead th {\n",
       "        text-align: right;\n",
       "    }\n",
       "</style>\n",
       "<table border=\"1\" class=\"dataframe\">\n",
       "  <thead>\n",
       "    <tr style=\"text-align: right;\">\n",
       "      <th></th>\n",
       "      <th>room</th>\n",
       "      <th>probability</th>\n",
       "    </tr>\n",
       "  </thead>\n",
       "  <tbody>\n",
       "    <tr>\n",
       "      <th>5</th>\n",
       "      <td>den</td>\n",
       "      <td>0.228063</td>\n",
       "    </tr>\n",
       "    <tr>\n",
       "      <th>6</th>\n",
       "      <td>hall</td>\n",
       "      <td>0.182450</td>\n",
       "    </tr>\n",
       "    <tr>\n",
       "      <th>1</th>\n",
       "      <td>kitchen</td>\n",
       "      <td>0.165074</td>\n",
       "    </tr>\n",
       "    <tr>\n",
       "      <th>7</th>\n",
       "      <td>bedroom</td>\n",
       "      <td>0.152042</td>\n",
       "    </tr>\n",
       "    <tr>\n",
       "      <th>4</th>\n",
       "      <td>entry</td>\n",
       "      <td>0.075586</td>\n",
       "    </tr>\n",
       "    <tr>\n",
       "      <th>8</th>\n",
       "      <td>bathroom</td>\n",
       "      <td>0.060817</td>\n",
       "    </tr>\n",
       "    <tr>\n",
       "      <th>3</th>\n",
       "      <td>office</td>\n",
       "      <td>0.049957</td>\n",
       "    </tr>\n",
       "    <tr>\n",
       "      <th>0</th>\n",
       "      <td>pantry</td>\n",
       "      <td>0.049522</td>\n",
       "    </tr>\n",
       "    <tr>\n",
       "      <th>2</th>\n",
       "      <td>school</td>\n",
       "      <td>0.036490</td>\n",
       "    </tr>\n",
       "  </tbody>\n",
       "</table>\n",
       "</div>"
      ],
      "text/plain": [
       "       room  probability\n",
       "5       den     0.228063\n",
       "6      hall     0.182450\n",
       "1   kitchen     0.165074\n",
       "7   bedroom     0.152042\n",
       "4     entry     0.075586\n",
       "8  bathroom     0.060817\n",
       "3    office     0.049957\n",
       "0    pantry     0.049522\n",
       "2    school     0.036490"
      ]
     },
     "execution_count": 17,
     "metadata": {},
     "output_type": "execute_result"
    }
   ],
   "source": [
    "exp_ratios_df = rooms_probs.compute_probs()\n",
    "exp_ratios_df"
   ]
  },
  {
   "cell_type": "code",
   "execution_count": 22,
   "id": "metropolitan-laugh",
   "metadata": {},
   "outputs": [],
   "source": [
    "df = pd.read_csv(\"sim_results/9_states_results.csv\")\n",
    "df = df.drop(23, axis=0)  # started a sim and it stopped having only done one room\n",
    "exp_ratios_df = exp_ratios_df.rename(columns={\"room\": \"state\"})\n",
    "stats_100_10000 = smr.get_stats_for_params(df, 100, 10000, exp_ratios_df)"
   ]
  },
  {
   "cell_type": "code",
   "execution_count": 23,
   "id": "noticed-throat",
   "metadata": {},
   "outputs": [
    {
     "data": {
      "text/plain": [
       "{'hyp 1 all': 0.7814303585063773,\n",
       " 'hyp 2 end': 0.6068981869760399,\n",
       " 'hyp 3': 0.0,\n",
       " 'hyp 4 bathroom_all': 0.28040908087548405,\n",
       " 'hyp 4 bedroom_all': 0.7409497433979304,\n",
       " 'hyp 4 den_all': 0.4083203431776582,\n",
       " 'hyp 4 entry_all': 0.788418391283616,\n",
       " 'hyp 4 hall_all': 0.23269023221739452,\n",
       " 'hyp 4 kitchen_all': 0.5091329561210134,\n",
       " 'hyp 4 office_all': 0.4951992351301848,\n",
       " 'hyp 4 pantry_all': 0.1397145511929147,\n",
       " 'hyp 4 school_all': 0.621003769999498,\n",
       " 'hyp 4 bathroom_end': 0.9160953074983081,\n",
       " 'hyp 4 bedroom_end': 0.4925128496060198,\n",
       " 'hyp 4 den_end': 0.7821516293910349,\n",
       " 'hyp 4 entry_end': 0.3810962734887058,\n",
       " 'hyp 4 hall_end': 0.8976920360165305,\n",
       " 'hyp 4 kitchen_end': 0.627724158260085,\n",
       " 'hyp 4 office_end': 0.28381504984615114,\n",
       " 'hyp 4 pantry_end': 0.9879272032725956,\n",
       " 'hyp 4 school_end': 0.38695996575231195}"
      ]
     },
     "execution_count": 23,
     "metadata": {},
     "output_type": "execute_result"
    }
   ],
   "source": [
    "stats_100_10000"
   ]
  },
  {
   "cell_type": "markdown",
   "id": "alike-aquarium",
   "metadata": {},
   "source": [
    "For Hypothesis 1 comparing the total numbers for all the rooms to the expected totals, we get a pvalues of ~.781.\n",
    "\n",
    "For Hypothesis 2, comparing the numbers in each end state to the expectation, we get a p value of ~.6.\n",
    "\n",
    "Hypothesis 3 gets a p-value of 0.  Again.\n",
    "\n",
    "For Hypothesis 4, we expect that the number of times ine any given room (say, the hall), will be the same no matter what room you started in.  So we do a chisquare comparison of each column with itself.\n",
    "\n",
    "There is wide variation in the pvalue for these, but they are all above the .05 rule of thumb, some over .7."
   ]
  },
  {
   "cell_type": "markdown",
   "id": "published-inspiration",
   "metadata": {},
   "source": [
    "## Conclusion and Future Work"
   ]
  },
  {
   "cell_type": "markdown",
   "id": "contained-wales",
   "metadata": {},
   "source": [
    "In these simulations, we found good support for Hypotheses 1 and 2, and also found that they seem to be more supported as the chain length increases.\n",
    "\n",
    "There is good suport also for Hypotheis 4.\n",
    "\n",
    "Hypothesis 3 is either completely false, or I did something wrong.  I had expected it to be true.\n",
    "\n",
    "I had expected all of these to be true.  Really, it seems that if Hypothesis 1 is true, then the others would be also.\n",
    "\n",
    "In general, I think I can confidentally say that, in this random walk situation where you have a set of states with known transition probabilities that depend only on the current state, then with sufficiently long chain length (as the number of hops increases toward infinity), the chance of being in any given state is the same as what would be predicted by the transition probabilities.\n",
    "\n",
    "The next thing to investigate is why Hypothesis 3 gives a p-value of 0."
   ]
  },
  {
   "cell_type": "code",
   "execution_count": null,
   "id": "overall-japan",
   "metadata": {},
   "outputs": [],
   "source": []
  }
 ],
 "metadata": {
  "kernelspec": {
   "display_name": "Python 3",
   "language": "python",
   "name": "python3"
  },
  "language_info": {
   "codemirror_mode": {
    "name": "ipython",
    "version": 3
   },
   "file_extension": ".py",
   "mimetype": "text/x-python",
   "name": "python",
   "nbconvert_exporter": "python",
   "pygments_lexer": "ipython3",
   "version": "3.7.9"
  }
 },
 "nbformat": 4,
 "nbformat_minor": 5
}
