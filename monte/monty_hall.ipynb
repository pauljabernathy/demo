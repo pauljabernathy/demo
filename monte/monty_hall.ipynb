{
 "cells": [
  {
   "cell_type": "markdown",
   "metadata": {},
   "source": [
    "## Introduction\n",
    "\n",
    "I once heard about <a href=\"https://en.wikipedia.org/wiki/Monty_Hall_problem\">The Monty Hall Problem</a>, a riddle or brain teaser involving decisions based on probility.  In this scenario, a contestant on a game show is shown three closed doors and told there is a valuable prize behind one and a goat behind the other two.  (Assume the contestant does not value goats.)  They are given the chance to pick a door, and will receive the item that is behind the door.  However, after the contestant picks, the game show host, who knows what is behind each door, opens one of the doors the contestant did not pick to reveal a goat.  Now there is one door open (with a goat) and two remain closed, one of which is the contestant's choice.  The host gives the contestant an opportunity to keep their original pick or change, before all the doors are opened and the contestant gets the prize or a goat.\n",
    "\n",
    "The question is, as this point, <b>is it better for the contestant to keep the original choice or change choices?  Or does it matter?</b>\n",
    "\n",
    "Thare is a theoretical answer based on probability calculation.  I thought it would be fun to simulate it in code, to check the theoretical answer."
   ]
  },
  {
   "cell_type": "markdown",
   "metadata": {},
   "source": [
    "## Question for the code to answer\n",
    "At the point of choosing to keep the original choice or change choices, are you more likely to get the prize by switching or keeping the original choice?"
   ]
  },
  {
   "cell_type": "markdown",
   "metadata": {},
   "source": [
    "## Methodology\n",
    "\n",
    "I wrote a simple program to simulate the choice many times and add up how many times the contestant got the prize and how many times they got the goat.\n",
    "\n",
    "In the do_one_turn() function, a random door is chosen to be the prize door, and a random door is chosen, independently to be the original choice.  As in the game show, this has to happen <i>before</i> anything is revealed and a choice is changed.  Now, the door that is neither a choice nor a prize is opened to reveal a goat.\n",
    "\n",
    "In half of the scenrios, the contestant choosed to switch doors.  In the other half they keep their choice."
   ]
  },
  {
   "cell_type": "code",
   "execution_count": 13,
   "metadata": {},
   "outputs": [],
   "source": [
    "from numpy import random\n",
    "from datetime import datetime"
   ]
  },
  {
   "cell_type": "code",
   "execution_count": 14,
   "metadata": {},
   "outputs": [],
   "source": [
    "DEFAULT_N = 10000"
   ]
  },
  {
   "cell_type": "code",
   "execution_count": 15,
   "metadata": {},
   "outputs": [],
   "source": [
    "def run_sim(n=DEFAULT_N):\n",
    "    print(\"run_sim\", n)\n",
    "    start = datetime.now()\n",
    "    num_wins_changed_choice = 0\n",
    "    for i in range(n):\n",
    "        num_wins_changed_choice += do_one_turn(True)\n",
    "\n",
    "    num_wins_kept_choice = 0\n",
    "    for i in range(n):\n",
    "        num_wins_kept_choice += do_one_turn(False)\n",
    "\n",
    "    stop = datetime.now()\n",
    "    print('completed in ', (stop.timestamp() - start.timestamp()), 'seconds')\n",
    "    return num_wins_changed_choice / n * 100, num_wins_kept_choice / n * 100"
   ]
  },
  {
   "cell_type": "code",
   "execution_count": 16,
   "metadata": {},
   "outputs": [],
   "source": [
    "def do_one_turn(change_choice=True):\n",
    "    door_numbers = [1, 2, 3]\n",
    "    prize_door = random.choice(door_numbers)\n",
    "    door_choice = random.choice(door_numbers)\n",
    "\n",
    "    # Next, start the process to select a door to open.\n",
    "    doors_to_reveal_from = door_numbers.copy()\n",
    "    doors_to_reveal_from.remove(door_choice)    # because you don't open the one that was chosen\n",
    "\n",
    "    # Now remove the prize door from the list of doors to potentially open.\n",
    "    if prize_door in doors_to_reveal_from:\n",
    "        # We are checking if it there so we don't get an exception.\n",
    "        doors_to_reveal_from.remove(prize_door)\n",
    "\n",
    "    # Now, doors_to_reveal from does not contain the original choice or the prize door.\n",
    "    # It might be one or two doors, depending on whether the contestant chose the prize door.\n",
    "    # So open the non prize door.\n",
    "    revealed_door = random.choice(doors_to_reveal_from)\n",
    "\n",
    "    # If contestant wants to change their choice.\n",
    "    if change_choice:\n",
    "        doors = door_numbers.copy()\n",
    "        doors.remove(revealed_door)\n",
    "        doors.remove(door_choice)\n",
    "        door_choice = doors.pop()\n",
    "\n",
    "    return door_choice == prize_door"
   ]
  },
  {
   "cell_type": "markdown",
   "metadata": {},
   "source": [
    "## Results"
   ]
  },
  {
   "cell_type": "code",
   "execution_count": 19,
   "metadata": {},
   "outputs": [
    {
     "name": "stdout",
     "output_type": "stream",
     "text": [
      "run_sim 1000\n",
      "completed in  0.04291105270385742 seconds\n",
      "66.3  got the prize when switching\n",
      "30.5  got the prize when staying with the original choice\n",
      "\n",
      "run_sim 10000\n",
      "completed in  0.3780369758605957 seconds\n",
      "66.52  got the prize when switching\n",
      "33.21  got the prize when staying with the original choice\n",
      "\n",
      "run_sim 100000\n",
      "completed in  3.677156925201416 seconds\n",
      "66.63  got the prize when switching\n",
      "33.501  got the prize when staying with the original choice\n",
      "\n",
      "run_sim 1000000\n",
      "completed in  37.94769597053528 seconds\n",
      "66.63470000000001  got the prize when switching\n",
      "33.4022  got the prize when staying with the original choice\n",
      "\n"
     ]
    }
   ],
   "source": [
    "for i in range(3, 7):\n",
    "    results = run_sim(10 ** i)\n",
    "    print(results[0], ' got the prize when switching')\n",
    "    print(results[1], ' got the prize when staying with the original choice')\n",
    "    print()"
   ]
  },
  {
   "cell_type": "markdown",
   "metadata": {},
   "source": [
    "You can see in the above output that in about 2/3 of the time, when they switched choiced, they ended up winning the prize.  They won the prize in about 1/3 of the time they did not switch.  This is relatively constant throughout a range of how many times you do the simulation."
   ]
  },
  {
   "cell_type": "markdown",
   "metadata": {},
   "source": [
    "## Explanation\n",
    "At the time the host opens a goat door and gives the contestant the chance to keep their original choice or change it, it is tempting to say that there is a 50 / 50 chance of the prize being being either door.  I am tempted by that also.  But you have to go back and look at the entire sequence of events.\n",
    "\n",
    "At the start of it all, there are three doors.  You don't know what is being each one.  At this time, whatever door you pick has a one in three chance of being the prize door.\n",
    "\n",
    "When the first goat door is removed in the next step, does that change the fact that, 10 seconds ago, you  had a one in three chance of picking the prize door?  No.  The past has not changed.  Your pick still has a 1/3 chance of being correct.  So the other door, the one that is still closed but was not your pick, must have a 2/3 chance of containing the prize.  \n",
    "\n",
    "When I originally heard about this on a podcast, the speaker explained it by saying that it is as if, when the first goat door is opened, all it's probablity transfers over to the other door you did not pick.  Whether you prefer to think of it as a transfer or probability or the \"what's done is done\" way that I explained it, the point is that the theory says that it is in the contestant's best interest to switch their choice*.  And this simulation seems to perfectly agree with the theory."
   ]
  },
  {
   "cell_type": "markdown",
   "metadata": {},
   "source": [
    "*This analysis is specific to the Monty Hall Problem and does not necessarily generalize to other areas of life.  That is, in other contexts you may or may not want to go with the newest option that comes along in such areas as stock picking, house buying, who you are married to, or what gender you are."
   ]
  },
  {
   "cell_type": "code",
   "execution_count": null,
   "metadata": {},
   "outputs": [],
   "source": []
  }
 ],
 "metadata": {
  "kernelspec": {
   "display_name": "Python 3",
   "language": "python",
   "name": "python3"
  },
  "language_info": {
   "codemirror_mode": {
    "name": "ipython",
    "version": 3
   },
   "file_extension": ".py",
   "mimetype": "text/x-python",
   "name": "python",
   "nbconvert_exporter": "python",
   "pygments_lexer": "ipython3",
   "version": "3.7.9"
  }
 },
 "nbformat": 4,
 "nbformat_minor": 4
}
