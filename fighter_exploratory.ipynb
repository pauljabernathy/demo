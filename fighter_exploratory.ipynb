{
 "cells": [
  {
   "cell_type": "code",
   "execution_count": 1,
   "metadata": {},
   "outputs": [],
   "source": [
    "import pandas as pd\n",
    "import numpy as np\n",
    "import seaborn as sns"
   ]
  },
  {
   "cell_type": "code",
   "execution_count": 2,
   "metadata": {},
   "outputs": [],
   "source": [
    "fighters = pd.read_csv('datasets_255092_536001_raw_fighter_details.csv')"
   ]
  },
  {
   "cell_type": "code",
   "execution_count": 3,
   "metadata": {},
   "outputs": [
    {
     "data": {
      "text/plain": [
       "Index(['fighter_name', 'Height', 'Weight', 'Reach', 'Stance', 'DOB'], dtype='object')"
      ]
     },
     "execution_count": 3,
     "metadata": {},
     "output_type": "execute_result"
    }
   ],
   "source": [
    "fighters.columns"
   ]
  },
  {
   "cell_type": "code",
   "execution_count": 4,
   "metadata": {},
   "outputs": [
    {
     "data": {
      "text/plain": [
       "(3313, 6)"
      ]
     },
     "execution_count": 4,
     "metadata": {},
     "output_type": "execute_result"
    }
   ],
   "source": [
    "fighters.shape"
   ]
  },
  {
   "cell_type": "code",
   "execution_count": 5,
   "metadata": {},
   "outputs": [],
   "source": [
    "from cleanser import RawFightsCleanser"
   ]
  },
  {
   "cell_type": "code",
   "execution_count": 6,
   "metadata": {},
   "outputs": [],
   "source": [
    "cleanser = RawFightsCleanser()"
   ]
  },
  {
   "cell_type": "code",
   "execution_count": 7,
   "metadata": {},
   "outputs": [],
   "source": [
    "fighters = cleanser.cleanse_column_names(fighters)"
   ]
  },
  {
   "cell_type": "code",
   "execution_count": 8,
   "metadata": {},
   "outputs": [
    {
     "data": {
      "text/plain": [
       "Index(['fighter_name', 'height', 'weight', 'reach', 'stance', 'dob'], dtype='object')"
      ]
     },
     "execution_count": 8,
     "metadata": {},
     "output_type": "execute_result"
    }
   ],
   "source": [
    "fighters.columns"
   ]
  },
  {
   "cell_type": "code",
   "execution_count": 9,
   "metadata": {},
   "outputs": [
    {
     "data": {
      "text/html": [
       "<div>\n",
       "<style scoped>\n",
       "    .dataframe tbody tr th:only-of-type {\n",
       "        vertical-align: middle;\n",
       "    }\n",
       "\n",
       "    .dataframe tbody tr th {\n",
       "        vertical-align: top;\n",
       "    }\n",
       "\n",
       "    .dataframe thead th {\n",
       "        text-align: right;\n",
       "    }\n",
       "</style>\n",
       "<table border=\"1\" class=\"dataframe\">\n",
       "  <thead>\n",
       "    <tr style=\"text-align: right;\">\n",
       "      <th></th>\n",
       "      <th>fighter_name</th>\n",
       "      <th>height</th>\n",
       "      <th>weight</th>\n",
       "      <th>reach</th>\n",
       "      <th>stance</th>\n",
       "      <th>dob</th>\n",
       "    </tr>\n",
       "  </thead>\n",
       "  <tbody>\n",
       "    <tr>\n",
       "      <th>0</th>\n",
       "      <td>AJ Fonseca</td>\n",
       "      <td>5' 4\"</td>\n",
       "      <td>145 lbs.</td>\n",
       "      <td>NaN</td>\n",
       "      <td>NaN</td>\n",
       "      <td>NaN</td>\n",
       "    </tr>\n",
       "    <tr>\n",
       "      <th>1</th>\n",
       "      <td>AJ Matthews</td>\n",
       "      <td>5' 11\"</td>\n",
       "      <td>185 lbs.</td>\n",
       "      <td>NaN</td>\n",
       "      <td>NaN</td>\n",
       "      <td>NaN</td>\n",
       "    </tr>\n",
       "    <tr>\n",
       "      <th>2</th>\n",
       "      <td>AJ McKee</td>\n",
       "      <td>5' 10\"</td>\n",
       "      <td>145 lbs.</td>\n",
       "      <td>NaN</td>\n",
       "      <td>NaN</td>\n",
       "      <td>NaN</td>\n",
       "    </tr>\n",
       "    <tr>\n",
       "      <th>3</th>\n",
       "      <td>AJ Siscoe</td>\n",
       "      <td>5' 7\"</td>\n",
       "      <td>135 lbs.</td>\n",
       "      <td>NaN</td>\n",
       "      <td>NaN</td>\n",
       "      <td>NaN</td>\n",
       "    </tr>\n",
       "    <tr>\n",
       "      <th>4</th>\n",
       "      <td>Aalon Cruz</td>\n",
       "      <td>6' 0\"</td>\n",
       "      <td>145 lbs.</td>\n",
       "      <td>NaN</td>\n",
       "      <td>NaN</td>\n",
       "      <td>NaN</td>\n",
       "    </tr>\n",
       "  </tbody>\n",
       "</table>\n",
       "</div>"
      ],
      "text/plain": [
       "  fighter_name  height    weight reach stance  dob\n",
       "0   AJ Fonseca   5' 4\"  145 lbs.   NaN    NaN  NaN\n",
       "1  AJ Matthews  5' 11\"  185 lbs.   NaN    NaN  NaN\n",
       "2     AJ McKee  5' 10\"  145 lbs.   NaN    NaN  NaN\n",
       "3    AJ Siscoe   5' 7\"  135 lbs.   NaN    NaN  NaN\n",
       "4   Aalon Cruz   6' 0\"  145 lbs.   NaN    NaN  NaN"
      ]
     },
     "execution_count": 9,
     "metadata": {},
     "output_type": "execute_result"
    }
   ],
   "source": [
    "fighters.head()"
   ]
  },
  {
   "cell_type": "code",
   "execution_count": 10,
   "metadata": {},
   "outputs": [
    {
     "data": {
      "text/plain": [
       "Aug 08, 1988    4\n",
       "Nov 21, 1986    3\n",
       "Apr 24, 1984    3\n",
       "Sep 28, 1976    3\n",
       "Mar 03, 1983    3\n",
       "               ..\n",
       "Aug 11, 1995    1\n",
       "May 14, 1979    1\n",
       "Jul 09, 1985    1\n",
       "Dec 17, 1982    1\n",
       "Jan 15, 1990    1\n",
       "Name: dob, Length: 2217, dtype: int64"
      ]
     },
     "execution_count": 10,
     "metadata": {},
     "output_type": "execute_result"
    }
   ],
   "source": [
    "fighters.dob.value_counts()"
   ]
  },
  {
   "cell_type": "code",
   "execution_count": 11,
   "metadata": {},
   "outputs": [
    {
     "data": {
      "text/plain": [
       "Orthodox       1913\n",
       "Southpaw        431\n",
       "Switch           85\n",
       "Open Stance       7\n",
       "Sideways          3\n",
       "Name: stance, dtype: int64"
      ]
     },
     "execution_count": 11,
     "metadata": {},
     "output_type": "execute_result"
    }
   ],
   "source": [
    "fighters.stance.value_counts()"
   ]
  },
  {
   "cell_type": "code",
   "execution_count": 12,
   "metadata": {},
   "outputs": [
    {
     "data": {
      "text/plain": [
       "Orthodox       0.784338\n",
       "Southpaw       0.176712\n",
       "Switch         0.034850\n",
       "Open Stance    0.002870\n",
       "Sideways       0.001230\n",
       "Name: stance, dtype: float64"
      ]
     },
     "execution_count": 12,
     "metadata": {},
     "output_type": "execute_result"
    }
   ],
   "source": [
    "fighters.stance.value_counts() / fighters.stance.value_counts().sum()"
   ]
  },
  {
   "cell_type": "code",
   "execution_count": 13,
   "metadata": {},
   "outputs": [
    {
     "name": "stdout",
     "output_type": "stream",
     "text": [
      "<class 'pandas.core.frame.DataFrame'>\n",
      "RangeIndex: 3313 entries, 0 to 3312\n",
      "Data columns (total 6 columns):\n",
      " #   Column        Non-Null Count  Dtype \n",
      "---  ------        --------------  ----- \n",
      " 0   fighter_name  3313 non-null   object\n",
      " 1   height        3050 non-null   object\n",
      " 2   weight        3238 non-null   object\n",
      " 3   reach         1569 non-null   object\n",
      " 4   stance        2439 non-null   object\n",
      " 5   dob           2573 non-null   object\n",
      "dtypes: object(6)\n",
      "memory usage: 155.4+ KB\n"
     ]
    }
   ],
   "source": [
    "fighters.info()"
   ]
  },
  {
   "cell_type": "code",
   "execution_count": 14,
   "metadata": {},
   "outputs": [
    {
     "data": {
      "text/plain": [
       "count             2573\n",
       "unique            2217\n",
       "top       Aug 08, 1988\n",
       "freq                 4\n",
       "Name: dob, dtype: object"
      ]
     },
     "execution_count": 14,
     "metadata": {},
     "output_type": "execute_result"
    }
   ],
   "source": [
    "fighters.dob.describe()"
   ]
  },
  {
   "cell_type": "code",
   "execution_count": 15,
   "metadata": {},
   "outputs": [
    {
     "data": {
      "text/html": [
       "<div>\n",
       "<style scoped>\n",
       "    .dataframe tbody tr th:only-of-type {\n",
       "        vertical-align: middle;\n",
       "    }\n",
       "\n",
       "    .dataframe tbody tr th {\n",
       "        vertical-align: top;\n",
       "    }\n",
       "\n",
       "    .dataframe thead th {\n",
       "        text-align: right;\n",
       "    }\n",
       "</style>\n",
       "<table border=\"1\" class=\"dataframe\">\n",
       "  <thead>\n",
       "    <tr style=\"text-align: right;\">\n",
       "      <th></th>\n",
       "      <th>fighter_name</th>\n",
       "      <th>height</th>\n",
       "      <th>weight</th>\n",
       "      <th>reach</th>\n",
       "      <th>stance</th>\n",
       "      <th>dob</th>\n",
       "    </tr>\n",
       "  </thead>\n",
       "  <tbody>\n",
       "    <tr>\n",
       "      <th>0</th>\n",
       "      <td>AJ Fonseca</td>\n",
       "      <td>5' 4\"</td>\n",
       "      <td>145 lbs.</td>\n",
       "      <td>NaN</td>\n",
       "      <td>NaN</td>\n",
       "      <td>NaN</td>\n",
       "    </tr>\n",
       "    <tr>\n",
       "      <th>1</th>\n",
       "      <td>AJ Matthews</td>\n",
       "      <td>5' 11\"</td>\n",
       "      <td>185 lbs.</td>\n",
       "      <td>NaN</td>\n",
       "      <td>NaN</td>\n",
       "      <td>NaN</td>\n",
       "    </tr>\n",
       "    <tr>\n",
       "      <th>2</th>\n",
       "      <td>AJ McKee</td>\n",
       "      <td>5' 10\"</td>\n",
       "      <td>145 lbs.</td>\n",
       "      <td>NaN</td>\n",
       "      <td>NaN</td>\n",
       "      <td>NaN</td>\n",
       "    </tr>\n",
       "    <tr>\n",
       "      <th>3</th>\n",
       "      <td>AJ Siscoe</td>\n",
       "      <td>5' 7\"</td>\n",
       "      <td>135 lbs.</td>\n",
       "      <td>NaN</td>\n",
       "      <td>NaN</td>\n",
       "      <td>NaN</td>\n",
       "    </tr>\n",
       "    <tr>\n",
       "      <th>4</th>\n",
       "      <td>Aalon Cruz</td>\n",
       "      <td>6' 0\"</td>\n",
       "      <td>145 lbs.</td>\n",
       "      <td>NaN</td>\n",
       "      <td>NaN</td>\n",
       "      <td>NaN</td>\n",
       "    </tr>\n",
       "    <tr>\n",
       "      <th>5</th>\n",
       "      <td>Aaron Brink</td>\n",
       "      <td>6' 3\"</td>\n",
       "      <td>205 lbs.</td>\n",
       "      <td>NaN</td>\n",
       "      <td>Orthodox</td>\n",
       "      <td>Nov 12, 1974</td>\n",
       "    </tr>\n",
       "    <tr>\n",
       "      <th>6</th>\n",
       "      <td>Aaron Ely</td>\n",
       "      <td>5' 8\"</td>\n",
       "      <td>135 lbs.</td>\n",
       "      <td>NaN</td>\n",
       "      <td>NaN</td>\n",
       "      <td>Mar 18, 1989</td>\n",
       "    </tr>\n",
       "    <tr>\n",
       "      <th>7</th>\n",
       "      <td>Aaron Jeffery</td>\n",
       "      <td>6' 2\"</td>\n",
       "      <td>185 lbs.</td>\n",
       "      <td>NaN</td>\n",
       "      <td>NaN</td>\n",
       "      <td>Nov 14, 1992</td>\n",
       "    </tr>\n",
       "    <tr>\n",
       "      <th>8</th>\n",
       "      <td>Aaron Lanfranco</td>\n",
       "      <td>NaN</td>\n",
       "      <td>155 lbs.</td>\n",
       "      <td>NaN</td>\n",
       "      <td>NaN</td>\n",
       "      <td>Aug 26, 1986</td>\n",
       "    </tr>\n",
       "    <tr>\n",
       "      <th>9</th>\n",
       "      <td>Aaron Miller</td>\n",
       "      <td>5' 9\"</td>\n",
       "      <td>145 lbs.</td>\n",
       "      <td>NaN</td>\n",
       "      <td>NaN</td>\n",
       "      <td>NaN</td>\n",
       "    </tr>\n",
       "  </tbody>\n",
       "</table>\n",
       "</div>"
      ],
      "text/plain": [
       "      fighter_name  height    weight reach    stance           dob\n",
       "0       AJ Fonseca   5' 4\"  145 lbs.   NaN       NaN           NaN\n",
       "1      AJ Matthews  5' 11\"  185 lbs.   NaN       NaN           NaN\n",
       "2         AJ McKee  5' 10\"  145 lbs.   NaN       NaN           NaN\n",
       "3        AJ Siscoe   5' 7\"  135 lbs.   NaN       NaN           NaN\n",
       "4       Aalon Cruz   6' 0\"  145 lbs.   NaN       NaN           NaN\n",
       "5      Aaron Brink   6' 3\"  205 lbs.   NaN  Orthodox  Nov 12, 1974\n",
       "6        Aaron Ely   5' 8\"  135 lbs.   NaN       NaN  Mar 18, 1989\n",
       "7    Aaron Jeffery   6' 2\"  185 lbs.   NaN       NaN  Nov 14, 1992\n",
       "8  Aaron Lanfranco     NaN  155 lbs.   NaN       NaN  Aug 26, 1986\n",
       "9     Aaron Miller   5' 9\"  145 lbs.   NaN       NaN           NaN"
      ]
     },
     "execution_count": 15,
     "metadata": {},
     "output_type": "execute_result"
    }
   ],
   "source": [
    "fighters.head(10)"
   ]
  },
  {
   "cell_type": "code",
   "execution_count": 16,
   "metadata": {},
   "outputs": [
    {
     "data": {
      "text/plain": [
       "True"
      ]
     },
     "execution_count": 16,
     "metadata": {},
     "output_type": "execute_result"
    }
   ],
   "source": [
    "pd.isnull(fighters.iloc[0].dob)"
   ]
  },
  {
   "cell_type": "code",
   "execution_count": 17,
   "metadata": {},
   "outputs": [
    {
     "data": {
      "text/plain": [
       "str"
      ]
     },
     "execution_count": 17,
     "metadata": {},
     "output_type": "execute_result"
    }
   ],
   "source": [
    "type(fighters.loc[5].dob)"
   ]
  },
  {
   "cell_type": "code",
   "execution_count": 18,
   "metadata": {},
   "outputs": [],
   "source": [
    "fights = cleanser.load_and_cleanse('raw_total_fight_data.csv', sep=';')"
   ]
  },
  {
   "cell_type": "code",
   "execution_count": 19,
   "metadata": {},
   "outputs": [
    {
     "data": {
      "text/plain": [
       "str"
      ]
     },
     "execution_count": 19,
     "metadata": {},
     "output_type": "execute_result"
    }
   ],
   "source": [
    "type(fights.iloc[0].date)"
   ]
  },
  {
   "cell_type": "code",
   "execution_count": 20,
   "metadata": {},
   "outputs": [
    {
     "data": {
      "text/plain": [
       "dtype('O')"
      ]
     },
     "execution_count": 20,
     "metadata": {},
     "output_type": "execute_result"
    }
   ],
   "source": [
    "fights.date.dtype"
   ]
  },
  {
   "cell_type": "code",
   "execution_count": 21,
   "metadata": {},
   "outputs": [
    {
     "data": {
      "text/plain": [
       "November 19, 2016     25\n",
       "October 04, 2014      23\n",
       "May 31, 2014          22\n",
       "August 23, 2014       21\n",
       "June 28, 2014         21\n",
       "                      ..\n",
       "March 13, 1998         6\n",
       "September 09, 1994     6\n",
       "June 09, 2000          6\n",
       "October 16, 1998       6\n",
       "September 20, 1996     6\n",
       "Name: date, Length: 476, dtype: int64"
      ]
     },
     "execution_count": 21,
     "metadata": {},
     "output_type": "execute_result"
    }
   ],
   "source": [
    "fights.date.value_counts()"
   ]
  },
  {
   "cell_type": "code",
   "execution_count": 22,
   "metadata": {},
   "outputs": [
    {
     "data": {
      "text/plain": [
       "0"
      ]
     },
     "execution_count": 22,
     "metadata": {},
     "output_type": "execute_result"
    }
   ],
   "source": [
    "fights.date.isnull().sum()"
   ]
  },
  {
   "cell_type": "code",
   "execution_count": 23,
   "metadata": {},
   "outputs": [
    {
     "data": {
      "text/plain": [
       "740"
      ]
     },
     "execution_count": 23,
     "metadata": {},
     "output_type": "execute_result"
    }
   ],
   "source": [
    "fighters.dob.isnull().sum()"
   ]
  },
  {
   "cell_type": "code",
   "execution_count": 24,
   "metadata": {},
   "outputs": [
    {
     "data": {
      "text/plain": [
       "0.2233625113190462"
      ]
     },
     "execution_count": 24,
     "metadata": {},
     "output_type": "execute_result"
    }
   ],
   "source": [
    "fighters.dob.isnull().sum() / fighters.shape[0]"
   ]
  },
  {
   "cell_type": "code",
   "execution_count": 25,
   "metadata": {},
   "outputs": [],
   "source": [
    "# So looks like all the fights have dates.  But ~22% of the fighters have a blank date of birth.\n",
    "# So we can get an age for the fighters in many but not all of the cases.  I don't know what percent, because we don't yet know if the ones without their birthdays listed are in many fights or few fights."
   ]
  },
  {
   "cell_type": "code",
   "execution_count": 26,
   "metadata": {},
   "outputs": [],
   "source": [
    "# From the exploratory page for fights, all_fighters = set(fights.r_fighter).union(set(fights.b_fighter))\n",
    "# change the name a little for clarity\n",
    "actual_fighters = set(fights.r_fighter).union(set(fights.b_fighter))"
   ]
  },
  {
   "cell_type": "code",
   "execution_count": 27,
   "metadata": {},
   "outputs": [
    {
     "data": {
      "text/plain": [
       "1915"
      ]
     },
     "execution_count": 27,
     "metadata": {},
     "output_type": "execute_result"
    }
   ],
   "source": [
    "len(actual_fighters)"
   ]
  },
  {
   "cell_type": "code",
   "execution_count": 28,
   "metadata": {},
   "outputs": [],
   "source": [
    "# So there are a lot more people in the fighters data set than in the fights data set.  Weird.\n",
    "# I wonder if there are any in fights who were not in fighters."
   ]
  },
  {
   "cell_type": "code",
   "execution_count": 29,
   "metadata": {},
   "outputs": [
    {
     "data": {
      "text/plain": [
       "{'Kennedy Nzechukwu'}"
      ]
     },
     "execution_count": 29,
     "metadata": {},
     "output_type": "execute_result"
    }
   ],
   "source": [
    "actual_fighters.difference(fighters.fighter_name)"
   ]
  },
  {
   "cell_type": "code",
   "execution_count": 30,
   "metadata": {},
   "outputs": [],
   "source": [
    "def get_fights_for_fighter(fighter_name, fights_df = fights):\n",
    "    return fights_df[(fights_df.r_fighter == fighter_name) | (fights_df.b_fighter == fighter_name)]"
   ]
  },
  {
   "cell_type": "code",
   "execution_count": 31,
   "metadata": {},
   "outputs": [
    {
     "data": {
      "text/html": [
       "<div>\n",
       "<style scoped>\n",
       "    .dataframe tbody tr th:only-of-type {\n",
       "        vertical-align: middle;\n",
       "    }\n",
       "\n",
       "    .dataframe tbody tr th {\n",
       "        vertical-align: top;\n",
       "    }\n",
       "\n",
       "    .dataframe thead th {\n",
       "        text-align: right;\n",
       "    }\n",
       "</style>\n",
       "<table border=\"1\" class=\"dataframe\">\n",
       "  <thead>\n",
       "    <tr style=\"text-align: right;\">\n",
       "      <th></th>\n",
       "      <th>r_fighter</th>\n",
       "      <th>b_fighter</th>\n",
       "      <th>r_kd</th>\n",
       "      <th>b_kd</th>\n",
       "      <th>r_sig_str</th>\n",
       "      <th>b_sig_str</th>\n",
       "      <th>r_sig_str_pct</th>\n",
       "      <th>b_sig_str_pct</th>\n",
       "      <th>r_total_str</th>\n",
       "      <th>b_total_str</th>\n",
       "      <th>...</th>\n",
       "      <th>b_ground_att</th>\n",
       "      <th>r_ground_suc</th>\n",
       "      <th>b_ground_suc</th>\n",
       "      <th>r_ground_ratio</th>\n",
       "      <th>b_ground_ratio</th>\n",
       "      <th>r_ground_pct</th>\n",
       "      <th>b_ground_pct</th>\n",
       "      <th>ground_diff</th>\n",
       "      <th>loser</th>\n",
       "      <th>r_b_winner</th>\n",
       "    </tr>\n",
       "  </thead>\n",
       "  <tbody>\n",
       "    <tr>\n",
       "      <th>103</th>\n",
       "      <td>Kennedy Nzechukwu</td>\n",
       "      <td>Paul Craig</td>\n",
       "      <td>0</td>\n",
       "      <td>0</td>\n",
       "      <td>40 of 72</td>\n",
       "      <td>25 of 77</td>\n",
       "      <td>55</td>\n",
       "      <td>32</td>\n",
       "      <td>47 of 80</td>\n",
       "      <td>31 of 83</td>\n",
       "      <td>...</td>\n",
       "      <td>0</td>\n",
       "      <td>22</td>\n",
       "      <td>0</td>\n",
       "      <td>0.758621</td>\n",
       "      <td>0.0</td>\n",
       "      <td>75</td>\n",
       "      <td>0</td>\n",
       "      <td>22</td>\n",
       "      <td>Kennedy Nzechukwu</td>\n",
       "      <td>b</td>\n",
       "    </tr>\n",
       "  </tbody>\n",
       "</table>\n",
       "<p>1 rows × 120 columns</p>\n",
       "</div>"
      ],
      "text/plain": [
       "             r_fighter   b_fighter  r_kd  b_kd r_sig_str b_sig_str  \\\n",
       "103  Kennedy Nzechukwu  Paul Craig     0     0  40 of 72  25 of 77   \n",
       "\n",
       "     r_sig_str_pct  b_sig_str_pct r_total_str b_total_str  ... b_ground_att  \\\n",
       "103             55             32    47 of 80    31 of 83  ...            0   \n",
       "\n",
       "    r_ground_suc  b_ground_suc  r_ground_ratio  b_ground_ratio  r_ground_pct  \\\n",
       "103           22             0        0.758621             0.0            75   \n",
       "\n",
       "     b_ground_pct  ground_diff              loser  r_b_winner  \n",
       "103             0           22  Kennedy Nzechukwu           b  \n",
       "\n",
       "[1 rows x 120 columns]"
      ]
     },
     "execution_count": 31,
     "metadata": {},
     "output_type": "execute_result"
    }
   ],
   "source": [
    "get_fights_for_fighter('Kennedy Nzechukwu')"
   ]
  },
  {
   "cell_type": "code",
   "execution_count": 32,
   "metadata": {},
   "outputs": [],
   "source": [
    "# So there is one guy, Kennedy Nzechukwu, who had one fight, who is in the fights data set but not in the fighters data set.\n",
    "# Next see if the people who are in both have a listed birthday.\n",
    "# Two approaches.\n",
    "# 1.  Find a set of people from fighters who are in fights, and look at the birthday value\n",
    "# 2.  Join the pandas data set.\n",
    "# I think I'll do both, to make sure I know how to do it both ways and for error checking.\n",
    "# for joining, you have to do it twice because fights has two fighters, a red and a blue"
   ]
  },
  {
   "cell_type": "code",
   "execution_count": 33,
   "metadata": {},
   "outputs": [
    {
     "data": {
      "text/plain": [
       "True"
      ]
     },
     "execution_count": 33,
     "metadata": {},
     "output_type": "execute_result"
    }
   ],
   "source": [
    "'Marlon Moraes' in set(fighters.fighter_name)"
   ]
  },
  {
   "cell_type": "code",
   "execution_count": 34,
   "metadata": {},
   "outputs": [
    {
     "data": {
      "text/html": [
       "<div>\n",
       "<style scoped>\n",
       "    .dataframe tbody tr th:only-of-type {\n",
       "        vertical-align: middle;\n",
       "    }\n",
       "\n",
       "    .dataframe tbody tr th {\n",
       "        vertical-align: top;\n",
       "    }\n",
       "\n",
       "    .dataframe thead th {\n",
       "        text-align: right;\n",
       "    }\n",
       "</style>\n",
       "<table border=\"1\" class=\"dataframe\">\n",
       "  <thead>\n",
       "    <tr style=\"text-align: right;\">\n",
       "      <th></th>\n",
       "      <th>fighter_name</th>\n",
       "      <th>height</th>\n",
       "      <th>weight</th>\n",
       "      <th>reach</th>\n",
       "      <th>stance</th>\n",
       "      <th>dob</th>\n",
       "    </tr>\n",
       "  </thead>\n",
       "  <tbody>\n",
       "    <tr>\n",
       "      <th>2154</th>\n",
       "      <td>Marlon Moraes</td>\n",
       "      <td>5' 6\"</td>\n",
       "      <td>135 lbs.</td>\n",
       "      <td>67\"</td>\n",
       "      <td>Orthodox</td>\n",
       "      <td>Apr 26, 1988</td>\n",
       "    </tr>\n",
       "  </tbody>\n",
       "</table>\n",
       "</div>"
      ],
      "text/plain": [
       "       fighter_name height    weight reach    stance           dob\n",
       "2154  Marlon Moraes  5' 6\"  135 lbs.   67\"  Orthodox  Apr 26, 1988"
      ]
     },
     "execution_count": 34,
     "metadata": {},
     "output_type": "execute_result"
    }
   ],
   "source": [
    "fighters[fighters.fighter_name == 'Marlon Moraes']"
   ]
  },
  {
   "cell_type": "code",
   "execution_count": 35,
   "metadata": {},
   "outputs": [
    {
     "name": "stdout",
     "output_type": "stream",
     "text": [
      "Kennedy Nzechukwu  is not there\n",
      "139\n"
     ]
    }
   ],
   "source": [
    "no_dob = []\n",
    "for person in actual_fighters:\n",
    "    #print(person)\n",
    "    if person not in set(fighters.fighter_name):\n",
    "        print(person, ' is not there')\n",
    "    else:\n",
    "        #print(fighters[fighters.fighter_name == person])\n",
    "        dob = fighters[fighters.fighter_name == person].iloc[0].dob\n",
    "        #print(dob)\n",
    "        if pd.isnull(dob) or dob == '':\n",
    "            #print(person, 'has no dob')\n",
    "            no_dob.append(person)\n",
    "        else:\n",
    "            pass\n",
    "            # print(fighters[fighters.fighter_name == person].dob)\n",
    "print(len(no_dob))"
   ]
  },
  {
   "cell_type": "code",
   "execution_count": 36,
   "metadata": {},
   "outputs": [
    {
     "name": "stdout",
     "output_type": "stream",
     "text": [
      "139\n"
     ]
    }
   ],
   "source": [
    "print(len(set(no_dob)))"
   ]
  },
  {
   "cell_type": "code",
   "execution_count": 37,
   "metadata": {},
   "outputs": [],
   "source": [
    "r_combined = pd.merge(fights, fighters, left_on='r_fighter', right_on='fighter_name')"
   ]
  },
  {
   "cell_type": "code",
   "execution_count": 38,
   "metadata": {},
   "outputs": [
    {
     "data": {
      "text/html": [
       "<div>\n",
       "<style scoped>\n",
       "    .dataframe tbody tr th:only-of-type {\n",
       "        vertical-align: middle;\n",
       "    }\n",
       "\n",
       "    .dataframe tbody tr th {\n",
       "        vertical-align: top;\n",
       "    }\n",
       "\n",
       "    .dataframe thead th {\n",
       "        text-align: right;\n",
       "    }\n",
       "</style>\n",
       "<table border=\"1\" class=\"dataframe\">\n",
       "  <thead>\n",
       "    <tr style=\"text-align: right;\">\n",
       "      <th></th>\n",
       "      <th>r_fighter</th>\n",
       "      <th>b_fighter</th>\n",
       "      <th>r_kd</th>\n",
       "      <th>b_kd</th>\n",
       "      <th>r_sig_str</th>\n",
       "      <th>b_sig_str</th>\n",
       "      <th>r_sig_str_pct</th>\n",
       "      <th>b_sig_str_pct</th>\n",
       "      <th>r_total_str</th>\n",
       "      <th>b_total_str</th>\n",
       "      <th>...</th>\n",
       "      <th>b_ground_pct</th>\n",
       "      <th>ground_diff</th>\n",
       "      <th>loser</th>\n",
       "      <th>r_b_winner</th>\n",
       "      <th>fighter_name</th>\n",
       "      <th>height</th>\n",
       "      <th>weight</th>\n",
       "      <th>reach</th>\n",
       "      <th>stance</th>\n",
       "      <th>dob</th>\n",
       "    </tr>\n",
       "  </thead>\n",
       "  <tbody>\n",
       "    <tr>\n",
       "      <th>0</th>\n",
       "      <td>Henry Cejudo</td>\n",
       "      <td>Marlon Moraes</td>\n",
       "      <td>0</td>\n",
       "      <td>0</td>\n",
       "      <td>90 of 171</td>\n",
       "      <td>57 of 119</td>\n",
       "      <td>52</td>\n",
       "      <td>47</td>\n",
       "      <td>99 of 182</td>\n",
       "      <td>59 of 121</td>\n",
       "      <td>...</td>\n",
       "      <td>100</td>\n",
       "      <td>25</td>\n",
       "      <td>Marlon Moraes</td>\n",
       "      <td>r</td>\n",
       "      <td>Henry Cejudo</td>\n",
       "      <td>5' 4\"</td>\n",
       "      <td>135 lbs.</td>\n",
       "      <td>64\"</td>\n",
       "      <td>Orthodox</td>\n",
       "      <td>Feb 09, 1987</td>\n",
       "    </tr>\n",
       "    <tr>\n",
       "      <th>1</th>\n",
       "      <td>Henry Cejudo</td>\n",
       "      <td>TJ Dillashaw</td>\n",
       "      <td>1</td>\n",
       "      <td>0</td>\n",
       "      <td>18 of 23</td>\n",
       "      <td>1 of 3</td>\n",
       "      <td>78</td>\n",
       "      <td>33</td>\n",
       "      <td>18 of 23</td>\n",
       "      <td>1 of 3</td>\n",
       "      <td>...</td>\n",
       "      <td>0</td>\n",
       "      <td>15</td>\n",
       "      <td>TJ Dillashaw</td>\n",
       "      <td>r</td>\n",
       "      <td>Henry Cejudo</td>\n",
       "      <td>5' 4\"</td>\n",
       "      <td>135 lbs.</td>\n",
       "      <td>64\"</td>\n",
       "      <td>Orthodox</td>\n",
       "      <td>Feb 09, 1987</td>\n",
       "    </tr>\n",
       "    <tr>\n",
       "      <th>2</th>\n",
       "      <td>Henry Cejudo</td>\n",
       "      <td>Sergio Pettis</td>\n",
       "      <td>0</td>\n",
       "      <td>0</td>\n",
       "      <td>36 of 83</td>\n",
       "      <td>25 of 98</td>\n",
       "      <td>43</td>\n",
       "      <td>25</td>\n",
       "      <td>85 of 148</td>\n",
       "      <td>38 of 112</td>\n",
       "      <td>...</td>\n",
       "      <td>25</td>\n",
       "      <td>16</td>\n",
       "      <td>Sergio Pettis</td>\n",
       "      <td>r</td>\n",
       "      <td>Henry Cejudo</td>\n",
       "      <td>5' 4\"</td>\n",
       "      <td>135 lbs.</td>\n",
       "      <td>64\"</td>\n",
       "      <td>Orthodox</td>\n",
       "      <td>Feb 09, 1987</td>\n",
       "    </tr>\n",
       "    <tr>\n",
       "      <th>3</th>\n",
       "      <td>Henry Cejudo</td>\n",
       "      <td>Wilson Reis</td>\n",
       "      <td>1</td>\n",
       "      <td>0</td>\n",
       "      <td>34 of 58</td>\n",
       "      <td>5 of 25</td>\n",
       "      <td>58</td>\n",
       "      <td>20</td>\n",
       "      <td>39 of 64</td>\n",
       "      <td>5 of 25</td>\n",
       "      <td>...</td>\n",
       "      <td>0</td>\n",
       "      <td>8</td>\n",
       "      <td>Wilson Reis</td>\n",
       "      <td>r</td>\n",
       "      <td>Henry Cejudo</td>\n",
       "      <td>5' 4\"</td>\n",
       "      <td>135 lbs.</td>\n",
       "      <td>64\"</td>\n",
       "      <td>Orthodox</td>\n",
       "      <td>Feb 09, 1987</td>\n",
       "    </tr>\n",
       "    <tr>\n",
       "      <th>4</th>\n",
       "      <td>Henry Cejudo</td>\n",
       "      <td>Chico Camus</td>\n",
       "      <td>0</td>\n",
       "      <td>0</td>\n",
       "      <td>62 of 143</td>\n",
       "      <td>48 of 144</td>\n",
       "      <td>43</td>\n",
       "      <td>33</td>\n",
       "      <td>133 of 219</td>\n",
       "      <td>59 of 157</td>\n",
       "      <td>...</td>\n",
       "      <td>100</td>\n",
       "      <td>-1</td>\n",
       "      <td>Chico Camus</td>\n",
       "      <td>r</td>\n",
       "      <td>Henry Cejudo</td>\n",
       "      <td>5' 4\"</td>\n",
       "      <td>135 lbs.</td>\n",
       "      <td>64\"</td>\n",
       "      <td>Orthodox</td>\n",
       "      <td>Feb 09, 1987</td>\n",
       "    </tr>\n",
       "    <tr>\n",
       "      <th>...</th>\n",
       "      <td>...</td>\n",
       "      <td>...</td>\n",
       "      <td>...</td>\n",
       "      <td>...</td>\n",
       "      <td>...</td>\n",
       "      <td>...</td>\n",
       "      <td>...</td>\n",
       "      <td>...</td>\n",
       "      <td>...</td>\n",
       "      <td>...</td>\n",
       "      <td>...</td>\n",
       "      <td>...</td>\n",
       "      <td>...</td>\n",
       "      <td>...</td>\n",
       "      <td>...</td>\n",
       "      <td>...</td>\n",
       "      <td>...</td>\n",
       "      <td>...</td>\n",
       "      <td>...</td>\n",
       "      <td>...</td>\n",
       "      <td>...</td>\n",
       "    </tr>\n",
       "    <tr>\n",
       "      <th>5138</th>\n",
       "      <td>Frank Hamaker</td>\n",
       "      <td>Thaddeus Luster</td>\n",
       "      <td>0</td>\n",
       "      <td>0</td>\n",
       "      <td>2 of 3</td>\n",
       "      <td>0 of 0</td>\n",
       "      <td>66</td>\n",
       "      <td>0</td>\n",
       "      <td>14 of 15</td>\n",
       "      <td>0 of 0</td>\n",
       "      <td>...</td>\n",
       "      <td>0</td>\n",
       "      <td>1</td>\n",
       "      <td>Thaddeus Luster</td>\n",
       "      <td>r</td>\n",
       "      <td>Frank Hamaker</td>\n",
       "      <td>NaN</td>\n",
       "      <td>NaN</td>\n",
       "      <td>NaN</td>\n",
       "      <td>NaN</td>\n",
       "      <td>NaN</td>\n",
       "    </tr>\n",
       "    <tr>\n",
       "      <th>5139</th>\n",
       "      <td>Scott Morris</td>\n",
       "      <td>Sean Daugherty</td>\n",
       "      <td>0</td>\n",
       "      <td>0</td>\n",
       "      <td>1 of 1</td>\n",
       "      <td>0 of 4</td>\n",
       "      <td>100</td>\n",
       "      <td>0</td>\n",
       "      <td>2 of 2</td>\n",
       "      <td>1 of 5</td>\n",
       "      <td>...</td>\n",
       "      <td>0</td>\n",
       "      <td>0</td>\n",
       "      <td>Sean Daugherty</td>\n",
       "      <td>r</td>\n",
       "      <td>Scott Morris</td>\n",
       "      <td>5' 10\"</td>\n",
       "      <td>210 lbs.</td>\n",
       "      <td>NaN</td>\n",
       "      <td>Orthodox</td>\n",
       "      <td>NaN</td>\n",
       "    </tr>\n",
       "    <tr>\n",
       "      <th>5140</th>\n",
       "      <td>Gerard Gordeau</td>\n",
       "      <td>Kevin Rosier</td>\n",
       "      <td>1</td>\n",
       "      <td>0</td>\n",
       "      <td>11 of 17</td>\n",
       "      <td>0 of 3</td>\n",
       "      <td>64</td>\n",
       "      <td>0</td>\n",
       "      <td>11 of 17</td>\n",
       "      <td>0 of 3</td>\n",
       "      <td>...</td>\n",
       "      <td>0</td>\n",
       "      <td>6</td>\n",
       "      <td>Kevin Rosier</td>\n",
       "      <td>r</td>\n",
       "      <td>Gerard Gordeau</td>\n",
       "      <td>6' 5\"</td>\n",
       "      <td>216 lbs.</td>\n",
       "      <td>NaN</td>\n",
       "      <td>Orthodox</td>\n",
       "      <td>Mar 30, 1959</td>\n",
       "    </tr>\n",
       "    <tr>\n",
       "      <th>5141</th>\n",
       "      <td>Gerard Gordeau</td>\n",
       "      <td>Teila Tuli</td>\n",
       "      <td>0</td>\n",
       "      <td>0</td>\n",
       "      <td>3 of 5</td>\n",
       "      <td>0 of 1</td>\n",
       "      <td>60</td>\n",
       "      <td>0</td>\n",
       "      <td>3 of 5</td>\n",
       "      <td>0 of 1</td>\n",
       "      <td>...</td>\n",
       "      <td>0</td>\n",
       "      <td>2</td>\n",
       "      <td>Teila Tuli</td>\n",
       "      <td>r</td>\n",
       "      <td>Gerard Gordeau</td>\n",
       "      <td>6' 5\"</td>\n",
       "      <td>216 lbs.</td>\n",
       "      <td>NaN</td>\n",
       "      <td>Orthodox</td>\n",
       "      <td>Mar 30, 1959</td>\n",
       "    </tr>\n",
       "    <tr>\n",
       "      <th>5142</th>\n",
       "      <td>Kevin Rosier</td>\n",
       "      <td>Zane Frazier</td>\n",
       "      <td>2</td>\n",
       "      <td>0</td>\n",
       "      <td>15 of 27</td>\n",
       "      <td>12 of 28</td>\n",
       "      <td>55</td>\n",
       "      <td>42</td>\n",
       "      <td>38 of 53</td>\n",
       "      <td>13 of 29</td>\n",
       "      <td>...</td>\n",
       "      <td>100</td>\n",
       "      <td>5</td>\n",
       "      <td>Zane Frazier</td>\n",
       "      <td>r</td>\n",
       "      <td>Kevin Rosier</td>\n",
       "      <td>6' 4\"</td>\n",
       "      <td>275 lbs.</td>\n",
       "      <td>NaN</td>\n",
       "      <td>Orthodox</td>\n",
       "      <td>NaN</td>\n",
       "    </tr>\n",
       "  </tbody>\n",
       "</table>\n",
       "<p>5143 rows × 126 columns</p>\n",
       "</div>"
      ],
      "text/plain": [
       "           r_fighter        b_fighter  r_kd  b_kd  r_sig_str  b_sig_str  \\\n",
       "0       Henry Cejudo    Marlon Moraes     0     0  90 of 171  57 of 119   \n",
       "1       Henry Cejudo     TJ Dillashaw     1     0   18 of 23     1 of 3   \n",
       "2       Henry Cejudo    Sergio Pettis     0     0   36 of 83   25 of 98   \n",
       "3       Henry Cejudo      Wilson Reis     1     0   34 of 58    5 of 25   \n",
       "4       Henry Cejudo      Chico Camus     0     0  62 of 143  48 of 144   \n",
       "...              ...              ...   ...   ...        ...        ...   \n",
       "5138   Frank Hamaker  Thaddeus Luster     0     0     2 of 3     0 of 0   \n",
       "5139    Scott Morris   Sean Daugherty     0     0     1 of 1     0 of 4   \n",
       "5140  Gerard Gordeau     Kevin Rosier     1     0   11 of 17     0 of 3   \n",
       "5141  Gerard Gordeau       Teila Tuli     0     0     3 of 5     0 of 1   \n",
       "5142    Kevin Rosier     Zane Frazier     2     0   15 of 27   12 of 28   \n",
       "\n",
       "      r_sig_str_pct  b_sig_str_pct r_total_str b_total_str  ... b_ground_pct  \\\n",
       "0                52             47   99 of 182   59 of 121  ...          100   \n",
       "1                78             33    18 of 23      1 of 3  ...            0   \n",
       "2                43             25   85 of 148   38 of 112  ...           25   \n",
       "3                58             20    39 of 64     5 of 25  ...            0   \n",
       "4                43             33  133 of 219   59 of 157  ...          100   \n",
       "...             ...            ...         ...         ...  ...          ...   \n",
       "5138             66              0    14 of 15      0 of 0  ...            0   \n",
       "5139            100              0      2 of 2      1 of 5  ...            0   \n",
       "5140             64              0    11 of 17      0 of 3  ...            0   \n",
       "5141             60              0      3 of 5      0 of 1  ...            0   \n",
       "5142             55             42    38 of 53    13 of 29  ...          100   \n",
       "\n",
       "     ground_diff            loser  r_b_winner    fighter_name  height  \\\n",
       "0             25    Marlon Moraes           r    Henry Cejudo   5' 4\"   \n",
       "1             15     TJ Dillashaw           r    Henry Cejudo   5' 4\"   \n",
       "2             16    Sergio Pettis           r    Henry Cejudo   5' 4\"   \n",
       "3              8      Wilson Reis           r    Henry Cejudo   5' 4\"   \n",
       "4             -1      Chico Camus           r    Henry Cejudo   5' 4\"   \n",
       "...          ...              ...         ...             ...     ...   \n",
       "5138           1  Thaddeus Luster           r   Frank Hamaker     NaN   \n",
       "5139           0   Sean Daugherty           r    Scott Morris  5' 10\"   \n",
       "5140           6     Kevin Rosier           r  Gerard Gordeau   6' 5\"   \n",
       "5141           2       Teila Tuli           r  Gerard Gordeau   6' 5\"   \n",
       "5142           5     Zane Frazier           r    Kevin Rosier   6' 4\"   \n",
       "\n",
       "        weight  reach    stance           dob  \n",
       "0     135 lbs.    64\"  Orthodox  Feb 09, 1987  \n",
       "1     135 lbs.    64\"  Orthodox  Feb 09, 1987  \n",
       "2     135 lbs.    64\"  Orthodox  Feb 09, 1987  \n",
       "3     135 lbs.    64\"  Orthodox  Feb 09, 1987  \n",
       "4     135 lbs.    64\"  Orthodox  Feb 09, 1987  \n",
       "...        ...    ...       ...           ...  \n",
       "5138       NaN    NaN       NaN           NaN  \n",
       "5139  210 lbs.    NaN  Orthodox           NaN  \n",
       "5140  216 lbs.    NaN  Orthodox  Mar 30, 1959  \n",
       "5141  216 lbs.    NaN  Orthodox  Mar 30, 1959  \n",
       "5142  275 lbs.    NaN  Orthodox           NaN  \n",
       "\n",
       "[5143 rows x 126 columns]"
      ]
     },
     "execution_count": 38,
     "metadata": {},
     "output_type": "execute_result"
    }
   ],
   "source": [
    "r_combined"
   ]
  },
  {
   "cell_type": "code",
   "execution_count": 39,
   "metadata": {},
   "outputs": [],
   "source": [
    "b_combined = pd.merge(fights, fighters, left_on='b_fighter', right_on='fighter_name')"
   ]
  },
  {
   "cell_type": "code",
   "execution_count": 40,
   "metadata": {},
   "outputs": [
    {
     "data": {
      "text/html": [
       "<div>\n",
       "<style scoped>\n",
       "    .dataframe tbody tr th:only-of-type {\n",
       "        vertical-align: middle;\n",
       "    }\n",
       "\n",
       "    .dataframe tbody tr th {\n",
       "        vertical-align: top;\n",
       "    }\n",
       "\n",
       "    .dataframe thead th {\n",
       "        text-align: right;\n",
       "    }\n",
       "</style>\n",
       "<table border=\"1\" class=\"dataframe\">\n",
       "  <thead>\n",
       "    <tr style=\"text-align: right;\">\n",
       "      <th></th>\n",
       "      <th>r_fighter</th>\n",
       "      <th>b_fighter</th>\n",
       "      <th>r_kd</th>\n",
       "      <th>b_kd</th>\n",
       "      <th>r_sig_str</th>\n",
       "      <th>b_sig_str</th>\n",
       "      <th>r_sig_str_pct</th>\n",
       "      <th>b_sig_str_pct</th>\n",
       "      <th>r_total_str</th>\n",
       "      <th>b_total_str</th>\n",
       "      <th>...</th>\n",
       "      <th>b_ground_pct</th>\n",
       "      <th>ground_diff</th>\n",
       "      <th>loser</th>\n",
       "      <th>r_b_winner</th>\n",
       "      <th>fighter_name</th>\n",
       "      <th>height</th>\n",
       "      <th>weight</th>\n",
       "      <th>reach</th>\n",
       "      <th>stance</th>\n",
       "      <th>dob</th>\n",
       "    </tr>\n",
       "  </thead>\n",
       "  <tbody>\n",
       "    <tr>\n",
       "      <th>0</th>\n",
       "      <td>Henry Cejudo</td>\n",
       "      <td>Marlon Moraes</td>\n",
       "      <td>0</td>\n",
       "      <td>0</td>\n",
       "      <td>90 of 171</td>\n",
       "      <td>57 of 119</td>\n",
       "      <td>52</td>\n",
       "      <td>47</td>\n",
       "      <td>99 of 182</td>\n",
       "      <td>59 of 121</td>\n",
       "      <td>...</td>\n",
       "      <td>100</td>\n",
       "      <td>25</td>\n",
       "      <td>Marlon Moraes</td>\n",
       "      <td>r</td>\n",
       "      <td>Marlon Moraes</td>\n",
       "      <td>5' 6\"</td>\n",
       "      <td>135 lbs.</td>\n",
       "      <td>67\"</td>\n",
       "      <td>Orthodox</td>\n",
       "      <td>Apr 26, 1988</td>\n",
       "    </tr>\n",
       "    <tr>\n",
       "      <th>1</th>\n",
       "      <td>Raphael Assuncao</td>\n",
       "      <td>Marlon Moraes</td>\n",
       "      <td>0</td>\n",
       "      <td>1</td>\n",
       "      <td>2 of 12</td>\n",
       "      <td>10 of 23</td>\n",
       "      <td>16</td>\n",
       "      <td>43</td>\n",
       "      <td>3 of 13</td>\n",
       "      <td>12 of 25</td>\n",
       "      <td>...</td>\n",
       "      <td>60</td>\n",
       "      <td>-3</td>\n",
       "      <td>Raphael Assuncao</td>\n",
       "      <td>b</td>\n",
       "      <td>Marlon Moraes</td>\n",
       "      <td>5' 6\"</td>\n",
       "      <td>135 lbs.</td>\n",
       "      <td>67\"</td>\n",
       "      <td>Orthodox</td>\n",
       "      <td>Apr 26, 1988</td>\n",
       "    </tr>\n",
       "    <tr>\n",
       "      <th>2</th>\n",
       "      <td>Jimmie Rivera</td>\n",
       "      <td>Marlon Moraes</td>\n",
       "      <td>0</td>\n",
       "      <td>1</td>\n",
       "      <td>0 of 3</td>\n",
       "      <td>7 of 9</td>\n",
       "      <td>0</td>\n",
       "      <td>77</td>\n",
       "      <td>0 of 3</td>\n",
       "      <td>7 of 9</td>\n",
       "      <td>...</td>\n",
       "      <td>83</td>\n",
       "      <td>-5</td>\n",
       "      <td>Jimmie Rivera</td>\n",
       "      <td>b</td>\n",
       "      <td>Marlon Moraes</td>\n",
       "      <td>5' 6\"</td>\n",
       "      <td>135 lbs.</td>\n",
       "      <td>67\"</td>\n",
       "      <td>Orthodox</td>\n",
       "      <td>Apr 26, 1988</td>\n",
       "    </tr>\n",
       "    <tr>\n",
       "      <th>3</th>\n",
       "      <td>John Dodson</td>\n",
       "      <td>Marlon Moraes</td>\n",
       "      <td>1</td>\n",
       "      <td>0</td>\n",
       "      <td>43 of 105</td>\n",
       "      <td>45 of 131</td>\n",
       "      <td>40</td>\n",
       "      <td>34</td>\n",
       "      <td>47 of 109</td>\n",
       "      <td>45 of 131</td>\n",
       "      <td>...</td>\n",
       "      <td>0</td>\n",
       "      <td>1</td>\n",
       "      <td>John Dodson</td>\n",
       "      <td>b</td>\n",
       "      <td>Marlon Moraes</td>\n",
       "      <td>5' 6\"</td>\n",
       "      <td>135 lbs.</td>\n",
       "      <td>67\"</td>\n",
       "      <td>Orthodox</td>\n",
       "      <td>Apr 26, 1988</td>\n",
       "    </tr>\n",
       "    <tr>\n",
       "      <th>4</th>\n",
       "      <td>Raphael Assuncao</td>\n",
       "      <td>Marlon Moraes</td>\n",
       "      <td>0</td>\n",
       "      <td>0</td>\n",
       "      <td>43 of 134</td>\n",
       "      <td>44 of 150</td>\n",
       "      <td>32</td>\n",
       "      <td>29</td>\n",
       "      <td>43 of 134</td>\n",
       "      <td>44 of 150</td>\n",
       "      <td>...</td>\n",
       "      <td>0</td>\n",
       "      <td>0</td>\n",
       "      <td>Marlon Moraes</td>\n",
       "      <td>r</td>\n",
       "      <td>Marlon Moraes</td>\n",
       "      <td>5' 6\"</td>\n",
       "      <td>135 lbs.</td>\n",
       "      <td>67\"</td>\n",
       "      <td>Orthodox</td>\n",
       "      <td>Apr 26, 1988</td>\n",
       "    </tr>\n",
       "    <tr>\n",
       "      <th>...</th>\n",
       "      <td>...</td>\n",
       "      <td>...</td>\n",
       "      <td>...</td>\n",
       "      <td>...</td>\n",
       "      <td>...</td>\n",
       "      <td>...</td>\n",
       "      <td>...</td>\n",
       "      <td>...</td>\n",
       "      <td>...</td>\n",
       "      <td>...</td>\n",
       "      <td>...</td>\n",
       "      <td>...</td>\n",
       "      <td>...</td>\n",
       "      <td>...</td>\n",
       "      <td>...</td>\n",
       "      <td>...</td>\n",
       "      <td>...</td>\n",
       "      <td>...</td>\n",
       "      <td>...</td>\n",
       "      <td>...</td>\n",
       "      <td>...</td>\n",
       "    </tr>\n",
       "    <tr>\n",
       "      <th>5139</th>\n",
       "      <td>Royce Gracie</td>\n",
       "      <td>Gerard Gordeau</td>\n",
       "      <td>0</td>\n",
       "      <td>0</td>\n",
       "      <td>1 of 2</td>\n",
       "      <td>0 of 0</td>\n",
       "      <td>50</td>\n",
       "      <td>0</td>\n",
       "      <td>3 of 4</td>\n",
       "      <td>0 of 0</td>\n",
       "      <td>...</td>\n",
       "      <td>0</td>\n",
       "      <td>1</td>\n",
       "      <td>Gerard Gordeau</td>\n",
       "      <td>r</td>\n",
       "      <td>Gerard Gordeau</td>\n",
       "      <td>6' 5\"</td>\n",
       "      <td>216 lbs.</td>\n",
       "      <td>NaN</td>\n",
       "      <td>Orthodox</td>\n",
       "      <td>Mar 30, 1959</td>\n",
       "    </tr>\n",
       "    <tr>\n",
       "      <th>5140</th>\n",
       "      <td>Jason DeLucia</td>\n",
       "      <td>Trent Jenkins</td>\n",
       "      <td>0</td>\n",
       "      <td>0</td>\n",
       "      <td>3 of 9</td>\n",
       "      <td>1 of 7</td>\n",
       "      <td>33</td>\n",
       "      <td>14</td>\n",
       "      <td>3 of 9</td>\n",
       "      <td>1 of 7</td>\n",
       "      <td>...</td>\n",
       "      <td>0</td>\n",
       "      <td>0</td>\n",
       "      <td>Trent Jenkins</td>\n",
       "      <td>r</td>\n",
       "      <td>Trent Jenkins</td>\n",
       "      <td>6' 2\"</td>\n",
       "      <td>185 lbs.</td>\n",
       "      <td>NaN</td>\n",
       "      <td>NaN</td>\n",
       "      <td>NaN</td>\n",
       "    </tr>\n",
       "    <tr>\n",
       "      <th>5141</th>\n",
       "      <td>Gerard Gordeau</td>\n",
       "      <td>Kevin Rosier</td>\n",
       "      <td>1</td>\n",
       "      <td>0</td>\n",
       "      <td>11 of 17</td>\n",
       "      <td>0 of 3</td>\n",
       "      <td>64</td>\n",
       "      <td>0</td>\n",
       "      <td>11 of 17</td>\n",
       "      <td>0 of 3</td>\n",
       "      <td>...</td>\n",
       "      <td>0</td>\n",
       "      <td>6</td>\n",
       "      <td>Kevin Rosier</td>\n",
       "      <td>r</td>\n",
       "      <td>Kevin Rosier</td>\n",
       "      <td>6' 4\"</td>\n",
       "      <td>275 lbs.</td>\n",
       "      <td>NaN</td>\n",
       "      <td>Orthodox</td>\n",
       "      <td>NaN</td>\n",
       "    </tr>\n",
       "    <tr>\n",
       "      <th>5142</th>\n",
       "      <td>Royce Gracie</td>\n",
       "      <td>Art Jimmerson</td>\n",
       "      <td>0</td>\n",
       "      <td>0</td>\n",
       "      <td>0 of 3</td>\n",
       "      <td>0 of 0</td>\n",
       "      <td>0</td>\n",
       "      <td>0</td>\n",
       "      <td>4 of 7</td>\n",
       "      <td>0 of 0</td>\n",
       "      <td>...</td>\n",
       "      <td>0</td>\n",
       "      <td>0</td>\n",
       "      <td>Art Jimmerson</td>\n",
       "      <td>r</td>\n",
       "      <td>Art Jimmerson</td>\n",
       "      <td>6' 1\"</td>\n",
       "      <td>196 lbs.</td>\n",
       "      <td>NaN</td>\n",
       "      <td>Orthodox</td>\n",
       "      <td>Aug 04, 1963</td>\n",
       "    </tr>\n",
       "    <tr>\n",
       "      <th>5143</th>\n",
       "      <td>Gerard Gordeau</td>\n",
       "      <td>Teila Tuli</td>\n",
       "      <td>0</td>\n",
       "      <td>0</td>\n",
       "      <td>3 of 5</td>\n",
       "      <td>0 of 1</td>\n",
       "      <td>60</td>\n",
       "      <td>0</td>\n",
       "      <td>3 of 5</td>\n",
       "      <td>0 of 1</td>\n",
       "      <td>...</td>\n",
       "      <td>0</td>\n",
       "      <td>2</td>\n",
       "      <td>Teila Tuli</td>\n",
       "      <td>r</td>\n",
       "      <td>Teila Tuli</td>\n",
       "      <td>6' 0\"</td>\n",
       "      <td>430 lbs.</td>\n",
       "      <td>NaN</td>\n",
       "      <td>Orthodox</td>\n",
       "      <td>Jun 14, 1969</td>\n",
       "    </tr>\n",
       "  </tbody>\n",
       "</table>\n",
       "<p>5144 rows × 126 columns</p>\n",
       "</div>"
      ],
      "text/plain": [
       "             r_fighter       b_fighter  r_kd  b_kd  r_sig_str  b_sig_str  \\\n",
       "0         Henry Cejudo   Marlon Moraes     0     0  90 of 171  57 of 119   \n",
       "1     Raphael Assuncao   Marlon Moraes     0     1    2 of 12   10 of 23   \n",
       "2        Jimmie Rivera   Marlon Moraes     0     1     0 of 3     7 of 9   \n",
       "3          John Dodson   Marlon Moraes     1     0  43 of 105  45 of 131   \n",
       "4     Raphael Assuncao   Marlon Moraes     0     0  43 of 134  44 of 150   \n",
       "...                ...             ...   ...   ...        ...        ...   \n",
       "5139      Royce Gracie  Gerard Gordeau     0     0     1 of 2     0 of 0   \n",
       "5140     Jason DeLucia   Trent Jenkins     0     0     3 of 9     1 of 7   \n",
       "5141    Gerard Gordeau    Kevin Rosier     1     0   11 of 17     0 of 3   \n",
       "5142      Royce Gracie   Art Jimmerson     0     0     0 of 3     0 of 0   \n",
       "5143    Gerard Gordeau      Teila Tuli     0     0     3 of 5     0 of 1   \n",
       "\n",
       "      r_sig_str_pct  b_sig_str_pct r_total_str b_total_str  ... b_ground_pct  \\\n",
       "0                52             47   99 of 182   59 of 121  ...          100   \n",
       "1                16             43     3 of 13    12 of 25  ...           60   \n",
       "2                 0             77      0 of 3      7 of 9  ...           83   \n",
       "3                40             34   47 of 109   45 of 131  ...            0   \n",
       "4                32             29   43 of 134   44 of 150  ...            0   \n",
       "...             ...            ...         ...         ...  ...          ...   \n",
       "5139             50              0      3 of 4      0 of 0  ...            0   \n",
       "5140             33             14      3 of 9      1 of 7  ...            0   \n",
       "5141             64              0    11 of 17      0 of 3  ...            0   \n",
       "5142              0              0      4 of 7      0 of 0  ...            0   \n",
       "5143             60              0      3 of 5      0 of 1  ...            0   \n",
       "\n",
       "     ground_diff             loser  r_b_winner    fighter_name  height  \\\n",
       "0             25     Marlon Moraes           r   Marlon Moraes   5' 6\"   \n",
       "1             -3  Raphael Assuncao           b   Marlon Moraes   5' 6\"   \n",
       "2             -5     Jimmie Rivera           b   Marlon Moraes   5' 6\"   \n",
       "3              1       John Dodson           b   Marlon Moraes   5' 6\"   \n",
       "4              0     Marlon Moraes           r   Marlon Moraes   5' 6\"   \n",
       "...          ...               ...         ...             ...     ...   \n",
       "5139           1    Gerard Gordeau           r  Gerard Gordeau   6' 5\"   \n",
       "5140           0     Trent Jenkins           r   Trent Jenkins   6' 2\"   \n",
       "5141           6      Kevin Rosier           r    Kevin Rosier   6' 4\"   \n",
       "5142           0     Art Jimmerson           r   Art Jimmerson   6' 1\"   \n",
       "5143           2        Teila Tuli           r      Teila Tuli   6' 0\"   \n",
       "\n",
       "        weight  reach    stance           dob  \n",
       "0     135 lbs.    67\"  Orthodox  Apr 26, 1988  \n",
       "1     135 lbs.    67\"  Orthodox  Apr 26, 1988  \n",
       "2     135 lbs.    67\"  Orthodox  Apr 26, 1988  \n",
       "3     135 lbs.    67\"  Orthodox  Apr 26, 1988  \n",
       "4     135 lbs.    67\"  Orthodox  Apr 26, 1988  \n",
       "...        ...    ...       ...           ...  \n",
       "5139  216 lbs.    NaN  Orthodox  Mar 30, 1959  \n",
       "5140  185 lbs.    NaN       NaN           NaN  \n",
       "5141  275 lbs.    NaN  Orthodox           NaN  \n",
       "5142  196 lbs.    NaN  Orthodox  Aug 04, 1963  \n",
       "5143  430 lbs.    NaN  Orthodox  Jun 14, 1969  \n",
       "\n",
       "[5144 rows x 126 columns]"
      ]
     },
     "execution_count": 40,
     "metadata": {},
     "output_type": "execute_result"
    }
   ],
   "source": [
    "b_combined"
   ]
  },
  {
   "cell_type": "code",
   "execution_count": 41,
   "metadata": {},
   "outputs": [
    {
     "data": {
      "text/plain": [
       "63"
      ]
     },
     "execution_count": 41,
     "metadata": {},
     "output_type": "execute_result"
    }
   ],
   "source": [
    "r_combined.dob.isnull().sum()"
   ]
  },
  {
   "cell_type": "code",
   "execution_count": 42,
   "metadata": {},
   "outputs": [
    {
     "data": {
      "text/plain": [
       "172"
      ]
     },
     "execution_count": 42,
     "metadata": {},
     "output_type": "execute_result"
    }
   ],
   "source": [
    "b_combined.dob.isnull().sum()"
   ]
  },
  {
   "cell_type": "code",
   "execution_count": 43,
   "metadata": {},
   "outputs": [
    {
     "data": {
      "text/plain": [
       "41"
      ]
     },
     "execution_count": 43,
     "metadata": {},
     "output_type": "execute_result"
    }
   ],
   "source": [
    "len(r_combined[r_combined.dob.isnull()].fighter_name.unique())"
   ]
  },
  {
   "cell_type": "code",
   "execution_count": 44,
   "metadata": {},
   "outputs": [
    {
     "data": {
      "text/plain": [
       "124"
      ]
     },
     "execution_count": 44,
     "metadata": {},
     "output_type": "execute_result"
    }
   ],
   "source": [
    "len(b_combined[b_combined.dob.isnull()].fighter_name.unique())"
   ]
  },
  {
   "cell_type": "code",
   "execution_count": 45,
   "metadata": {},
   "outputs": [],
   "source": [
    "r = r_combined[r_combined.dob.isnull()].fighter_name.unique()\n",
    "b = b_combined[b_combined.dob.isnull()].fighter_name.unique()"
   ]
  },
  {
   "cell_type": "code",
   "execution_count": 46,
   "metadata": {},
   "outputs": [
    {
     "data": {
      "text/plain": [
       "139"
      ]
     },
     "execution_count": 46,
     "metadata": {},
     "output_type": "execute_result"
    }
   ],
   "source": [
    "len(set(r).union(set(b)))"
   ]
  },
  {
   "cell_type": "code",
   "execution_count": 47,
   "metadata": {},
   "outputs": [],
   "source": [
    "# So it looks like there are 139 people in fights with no birthdays provided.\n",
    "# It happens 63 times for red and 172 times for blue."
   ]
  },
  {
   "cell_type": "code",
   "execution_count": 48,
   "metadata": {},
   "outputs": [
    {
     "data": {
      "text/html": [
       "<div>\n",
       "<style scoped>\n",
       "    .dataframe tbody tr th:only-of-type {\n",
       "        vertical-align: middle;\n",
       "    }\n",
       "\n",
       "    .dataframe tbody tr th {\n",
       "        vertical-align: top;\n",
       "    }\n",
       "\n",
       "    .dataframe thead th {\n",
       "        text-align: right;\n",
       "    }\n",
       "</style>\n",
       "<table border=\"1\" class=\"dataframe\">\n",
       "  <thead>\n",
       "    <tr style=\"text-align: right;\">\n",
       "      <th></th>\n",
       "      <th>r_fighter</th>\n",
       "      <th>b_fighter</th>\n",
       "      <th>r_kd</th>\n",
       "      <th>b_kd</th>\n",
       "      <th>r_sig_str</th>\n",
       "      <th>b_sig_str</th>\n",
       "      <th>r_sig_str_pct</th>\n",
       "      <th>b_sig_str_pct</th>\n",
       "      <th>r_total_str</th>\n",
       "      <th>b_total_str</th>\n",
       "      <th>...</th>\n",
       "      <th>b_ground_att</th>\n",
       "      <th>r_ground_suc</th>\n",
       "      <th>b_ground_suc</th>\n",
       "      <th>r_ground_ratio</th>\n",
       "      <th>b_ground_ratio</th>\n",
       "      <th>r_ground_pct</th>\n",
       "      <th>b_ground_pct</th>\n",
       "      <th>ground_diff</th>\n",
       "      <th>loser</th>\n",
       "      <th>r_b_winner</th>\n",
       "    </tr>\n",
       "  </thead>\n",
       "  <tbody>\n",
       "    <tr>\n",
       "      <th>0</th>\n",
       "      <td>Henry Cejudo</td>\n",
       "      <td>Marlon Moraes</td>\n",
       "      <td>0</td>\n",
       "      <td>0</td>\n",
       "      <td>90 of 171</td>\n",
       "      <td>57 of 119</td>\n",
       "      <td>52</td>\n",
       "      <td>47</td>\n",
       "      <td>99 of 182</td>\n",
       "      <td>59 of 121</td>\n",
       "      <td>...</td>\n",
       "      <td>1</td>\n",
       "      <td>26</td>\n",
       "      <td>1</td>\n",
       "      <td>0.866667</td>\n",
       "      <td>1.0</td>\n",
       "      <td>86</td>\n",
       "      <td>100</td>\n",
       "      <td>25</td>\n",
       "      <td>Marlon Moraes</td>\n",
       "      <td>r</td>\n",
       "    </tr>\n",
       "    <tr>\n",
       "      <th>1</th>\n",
       "      <td>Valentina Shevchenko</td>\n",
       "      <td>Jessica Eye</td>\n",
       "      <td>1</td>\n",
       "      <td>0</td>\n",
       "      <td>8 of 11</td>\n",
       "      <td>2 of 12</td>\n",
       "      <td>72</td>\n",
       "      <td>16</td>\n",
       "      <td>37 of 40</td>\n",
       "      <td>42 of 52</td>\n",
       "      <td>...</td>\n",
       "      <td>0</td>\n",
       "      <td>1</td>\n",
       "      <td>0</td>\n",
       "      <td>1.000000</td>\n",
       "      <td>0.0</td>\n",
       "      <td>100</td>\n",
       "      <td>0</td>\n",
       "      <td>1</td>\n",
       "      <td>Jessica Eye</td>\n",
       "      <td>r</td>\n",
       "    </tr>\n",
       "    <tr>\n",
       "      <th>2</th>\n",
       "      <td>Tony Ferguson</td>\n",
       "      <td>Donald Cerrone</td>\n",
       "      <td>0</td>\n",
       "      <td>0</td>\n",
       "      <td>104 of 200</td>\n",
       "      <td>68 of 185</td>\n",
       "      <td>52</td>\n",
       "      <td>36</td>\n",
       "      <td>104 of 200</td>\n",
       "      <td>68 of 185</td>\n",
       "      <td>...</td>\n",
       "      <td>0</td>\n",
       "      <td>0</td>\n",
       "      <td>0</td>\n",
       "      <td>0.000000</td>\n",
       "      <td>0.0</td>\n",
       "      <td>0</td>\n",
       "      <td>0</td>\n",
       "      <td>0</td>\n",
       "      <td>Donald Cerrone</td>\n",
       "      <td>r</td>\n",
       "    </tr>\n",
       "    <tr>\n",
       "      <th>3</th>\n",
       "      <td>Jimmie Rivera</td>\n",
       "      <td>Petr Yan</td>\n",
       "      <td>0</td>\n",
       "      <td>2</td>\n",
       "      <td>73 of 192</td>\n",
       "      <td>56 of 189</td>\n",
       "      <td>38</td>\n",
       "      <td>29</td>\n",
       "      <td>76 of 195</td>\n",
       "      <td>58 of 192</td>\n",
       "      <td>...</td>\n",
       "      <td>10</td>\n",
       "      <td>4</td>\n",
       "      <td>4</td>\n",
       "      <td>1.000000</td>\n",
       "      <td>0.4</td>\n",
       "      <td>100</td>\n",
       "      <td>40</td>\n",
       "      <td>0</td>\n",
       "      <td>Jimmie Rivera</td>\n",
       "      <td>b</td>\n",
       "    </tr>\n",
       "    <tr>\n",
       "      <th>4</th>\n",
       "      <td>Tai Tuivasa</td>\n",
       "      <td>Blagoy Ivanov</td>\n",
       "      <td>0</td>\n",
       "      <td>1</td>\n",
       "      <td>64 of 144</td>\n",
       "      <td>73 of 123</td>\n",
       "      <td>44</td>\n",
       "      <td>59</td>\n",
       "      <td>66 of 146</td>\n",
       "      <td>81 of 131</td>\n",
       "      <td>...</td>\n",
       "      <td>6</td>\n",
       "      <td>0</td>\n",
       "      <td>6</td>\n",
       "      <td>0.000000</td>\n",
       "      <td>1.0</td>\n",
       "      <td>0</td>\n",
       "      <td>100</td>\n",
       "      <td>-6</td>\n",
       "      <td>Tai Tuivasa</td>\n",
       "      <td>b</td>\n",
       "    </tr>\n",
       "  </tbody>\n",
       "</table>\n",
       "<p>5 rows × 120 columns</p>\n",
       "</div>"
      ],
      "text/plain": [
       "              r_fighter       b_fighter  r_kd  b_kd   r_sig_str  b_sig_str  \\\n",
       "0          Henry Cejudo   Marlon Moraes     0     0   90 of 171  57 of 119   \n",
       "1  Valentina Shevchenko     Jessica Eye     1     0     8 of 11    2 of 12   \n",
       "2         Tony Ferguson  Donald Cerrone     0     0  104 of 200  68 of 185   \n",
       "3         Jimmie Rivera        Petr Yan     0     2   73 of 192  56 of 189   \n",
       "4           Tai Tuivasa   Blagoy Ivanov     0     1   64 of 144  73 of 123   \n",
       "\n",
       "   r_sig_str_pct  b_sig_str_pct r_total_str b_total_str  ... b_ground_att  \\\n",
       "0             52             47   99 of 182   59 of 121  ...            1   \n",
       "1             72             16    37 of 40    42 of 52  ...            0   \n",
       "2             52             36  104 of 200   68 of 185  ...            0   \n",
       "3             38             29   76 of 195   58 of 192  ...           10   \n",
       "4             44             59   66 of 146   81 of 131  ...            6   \n",
       "\n",
       "  r_ground_suc  b_ground_suc  r_ground_ratio  b_ground_ratio  r_ground_pct  \\\n",
       "0           26             1        0.866667             1.0            86   \n",
       "1            1             0        1.000000             0.0           100   \n",
       "2            0             0        0.000000             0.0             0   \n",
       "3            4             4        1.000000             0.4           100   \n",
       "4            0             6        0.000000             1.0             0   \n",
       "\n",
       "   b_ground_pct  ground_diff           loser  r_b_winner  \n",
       "0           100           25   Marlon Moraes           r  \n",
       "1             0            1     Jessica Eye           r  \n",
       "2             0            0  Donald Cerrone           r  \n",
       "3            40            0   Jimmie Rivera           b  \n",
       "4           100           -6     Tai Tuivasa           b  \n",
       "\n",
       "[5 rows x 120 columns]"
      ]
     },
     "execution_count": 48,
     "metadata": {},
     "output_type": "execute_result"
    }
   ],
   "source": [
    "fights.head()"
   ]
  },
  {
   "cell_type": "code",
   "execution_count": 49,
   "metadata": {},
   "outputs": [],
   "source": [
    "#b_combined.head(25)"
   ]
  },
  {
   "cell_type": "code",
   "execution_count": 50,
   "metadata": {},
   "outputs": [
    {
     "data": {
      "text/html": [
       "<div>\n",
       "<style scoped>\n",
       "    .dataframe tbody tr th:only-of-type {\n",
       "        vertical-align: middle;\n",
       "    }\n",
       "\n",
       "    .dataframe tbody tr th {\n",
       "        vertical-align: top;\n",
       "    }\n",
       "\n",
       "    .dataframe thead th {\n",
       "        text-align: right;\n",
       "    }\n",
       "</style>\n",
       "<table border=\"1\" class=\"dataframe\">\n",
       "  <thead>\n",
       "    <tr style=\"text-align: right;\">\n",
       "      <th></th>\n",
       "      <th>r_fighter</th>\n",
       "      <th>b_fighter</th>\n",
       "      <th>r_kd</th>\n",
       "      <th>b_kd</th>\n",
       "      <th>r_sig_str</th>\n",
       "      <th>b_sig_str</th>\n",
       "      <th>r_sig_str_pct</th>\n",
       "      <th>b_sig_str_pct</th>\n",
       "      <th>r_total_str</th>\n",
       "      <th>b_total_str</th>\n",
       "      <th>...</th>\n",
       "      <th>b_ground_att</th>\n",
       "      <th>r_ground_suc</th>\n",
       "      <th>b_ground_suc</th>\n",
       "      <th>r_ground_ratio</th>\n",
       "      <th>b_ground_ratio</th>\n",
       "      <th>r_ground_pct</th>\n",
       "      <th>b_ground_pct</th>\n",
       "      <th>ground_diff</th>\n",
       "      <th>loser</th>\n",
       "      <th>r_b_winner</th>\n",
       "    </tr>\n",
       "  </thead>\n",
       "  <tbody>\n",
       "    <tr>\n",
       "      <th>0</th>\n",
       "      <td>Henry Cejudo</td>\n",
       "      <td>Marlon Moraes</td>\n",
       "      <td>0</td>\n",
       "      <td>0</td>\n",
       "      <td>90 of 171</td>\n",
       "      <td>57 of 119</td>\n",
       "      <td>52</td>\n",
       "      <td>47</td>\n",
       "      <td>99 of 182</td>\n",
       "      <td>59 of 121</td>\n",
       "      <td>...</td>\n",
       "      <td>1</td>\n",
       "      <td>26</td>\n",
       "      <td>1</td>\n",
       "      <td>0.866667</td>\n",
       "      <td>1.000000</td>\n",
       "      <td>86</td>\n",
       "      <td>100</td>\n",
       "      <td>25</td>\n",
       "      <td>Marlon Moraes</td>\n",
       "      <td>r</td>\n",
       "    </tr>\n",
       "    <tr>\n",
       "      <th>197</th>\n",
       "      <td>Raphael Assuncao</td>\n",
       "      <td>Marlon Moraes</td>\n",
       "      <td>0</td>\n",
       "      <td>1</td>\n",
       "      <td>2 of 12</td>\n",
       "      <td>10 of 23</td>\n",
       "      <td>16</td>\n",
       "      <td>43</td>\n",
       "      <td>3 of 13</td>\n",
       "      <td>12 of 25</td>\n",
       "      <td>...</td>\n",
       "      <td>5</td>\n",
       "      <td>0</td>\n",
       "      <td>3</td>\n",
       "      <td>0.000000</td>\n",
       "      <td>0.600000</td>\n",
       "      <td>0</td>\n",
       "      <td>60</td>\n",
       "      <td>-3</td>\n",
       "      <td>Raphael Assuncao</td>\n",
       "      <td>b</td>\n",
       "    </tr>\n",
       "    <tr>\n",
       "      <th>511</th>\n",
       "      <td>Jimmie Rivera</td>\n",
       "      <td>Marlon Moraes</td>\n",
       "      <td>0</td>\n",
       "      <td>1</td>\n",
       "      <td>0 of 3</td>\n",
       "      <td>7 of 9</td>\n",
       "      <td>0</td>\n",
       "      <td>77</td>\n",
       "      <td>0 of 3</td>\n",
       "      <td>7 of 9</td>\n",
       "      <td>...</td>\n",
       "      <td>6</td>\n",
       "      <td>0</td>\n",
       "      <td>5</td>\n",
       "      <td>0.000000</td>\n",
       "      <td>0.833333</td>\n",
       "      <td>0</td>\n",
       "      <td>83</td>\n",
       "      <td>-5</td>\n",
       "      <td>Jimmie Rivera</td>\n",
       "      <td>b</td>\n",
       "    </tr>\n",
       "    <tr>\n",
       "      <th>720</th>\n",
       "      <td>Marlon Moraes</td>\n",
       "      <td>Aljamain Sterling</td>\n",
       "      <td>2</td>\n",
       "      <td>0</td>\n",
       "      <td>7 of 14</td>\n",
       "      <td>3 of 10</td>\n",
       "      <td>50</td>\n",
       "      <td>30</td>\n",
       "      <td>10 of 17</td>\n",
       "      <td>3 of 10</td>\n",
       "      <td>...</td>\n",
       "      <td>2</td>\n",
       "      <td>2</td>\n",
       "      <td>0</td>\n",
       "      <td>1.000000</td>\n",
       "      <td>0.000000</td>\n",
       "      <td>100</td>\n",
       "      <td>0</td>\n",
       "      <td>2</td>\n",
       "      <td>Aljamain Sterling</td>\n",
       "      <td>r</td>\n",
       "    </tr>\n",
       "    <tr>\n",
       "      <th>786</th>\n",
       "      <td>John Dodson</td>\n",
       "      <td>Marlon Moraes</td>\n",
       "      <td>1</td>\n",
       "      <td>0</td>\n",
       "      <td>43 of 105</td>\n",
       "      <td>45 of 131</td>\n",
       "      <td>40</td>\n",
       "      <td>34</td>\n",
       "      <td>47 of 109</td>\n",
       "      <td>45 of 131</td>\n",
       "      <td>...</td>\n",
       "      <td>0</td>\n",
       "      <td>1</td>\n",
       "      <td>0</td>\n",
       "      <td>1.000000</td>\n",
       "      <td>0.000000</td>\n",
       "      <td>100</td>\n",
       "      <td>0</td>\n",
       "      <td>1</td>\n",
       "      <td>John Dodson</td>\n",
       "      <td>b</td>\n",
       "    </tr>\n",
       "    <tr>\n",
       "      <th>989</th>\n",
       "      <td>Raphael Assuncao</td>\n",
       "      <td>Marlon Moraes</td>\n",
       "      <td>0</td>\n",
       "      <td>0</td>\n",
       "      <td>43 of 134</td>\n",
       "      <td>44 of 150</td>\n",
       "      <td>32</td>\n",
       "      <td>29</td>\n",
       "      <td>43 of 134</td>\n",
       "      <td>44 of 150</td>\n",
       "      <td>...</td>\n",
       "      <td>0</td>\n",
       "      <td>0</td>\n",
       "      <td>0</td>\n",
       "      <td>0.000000</td>\n",
       "      <td>0.000000</td>\n",
       "      <td>0</td>\n",
       "      <td>0</td>\n",
       "      <td>0</td>\n",
       "      <td>Marlon Moraes</td>\n",
       "      <td>r</td>\n",
       "    </tr>\n",
       "  </tbody>\n",
       "</table>\n",
       "<p>6 rows × 120 columns</p>\n",
       "</div>"
      ],
      "text/plain": [
       "            r_fighter          b_fighter  r_kd  b_kd  r_sig_str  b_sig_str  \\\n",
       "0        Henry Cejudo      Marlon Moraes     0     0  90 of 171  57 of 119   \n",
       "197  Raphael Assuncao      Marlon Moraes     0     1    2 of 12   10 of 23   \n",
       "511     Jimmie Rivera      Marlon Moraes     0     1     0 of 3     7 of 9   \n",
       "720     Marlon Moraes  Aljamain Sterling     2     0    7 of 14    3 of 10   \n",
       "786       John Dodson      Marlon Moraes     1     0  43 of 105  45 of 131   \n",
       "989  Raphael Assuncao      Marlon Moraes     0     0  43 of 134  44 of 150   \n",
       "\n",
       "     r_sig_str_pct  b_sig_str_pct r_total_str b_total_str  ... b_ground_att  \\\n",
       "0               52             47   99 of 182   59 of 121  ...            1   \n",
       "197             16             43     3 of 13    12 of 25  ...            5   \n",
       "511              0             77      0 of 3      7 of 9  ...            6   \n",
       "720             50             30    10 of 17     3 of 10  ...            2   \n",
       "786             40             34   47 of 109   45 of 131  ...            0   \n",
       "989             32             29   43 of 134   44 of 150  ...            0   \n",
       "\n",
       "    r_ground_suc  b_ground_suc  r_ground_ratio  b_ground_ratio  r_ground_pct  \\\n",
       "0             26             1        0.866667        1.000000            86   \n",
       "197            0             3        0.000000        0.600000             0   \n",
       "511            0             5        0.000000        0.833333             0   \n",
       "720            2             0        1.000000        0.000000           100   \n",
       "786            1             0        1.000000        0.000000           100   \n",
       "989            0             0        0.000000        0.000000             0   \n",
       "\n",
       "     b_ground_pct  ground_diff              loser  r_b_winner  \n",
       "0             100           25      Marlon Moraes           r  \n",
       "197            60           -3   Raphael Assuncao           b  \n",
       "511            83           -5      Jimmie Rivera           b  \n",
       "720             0            2  Aljamain Sterling           r  \n",
       "786             0            1        John Dodson           b  \n",
       "989             0            0      Marlon Moraes           r  \n",
       "\n",
       "[6 rows x 120 columns]"
      ]
     },
     "execution_count": 50,
     "metadata": {},
     "output_type": "execute_result"
    }
   ],
   "source": [
    "get_fights_for_fighter('Marlon Moraes')"
   ]
  },
  {
   "cell_type": "code",
   "execution_count": 51,
   "metadata": {},
   "outputs": [
    {
     "data": {
      "text/html": [
       "<div>\n",
       "<style scoped>\n",
       "    .dataframe tbody tr th:only-of-type {\n",
       "        vertical-align: middle;\n",
       "    }\n",
       "\n",
       "    .dataframe tbody tr th {\n",
       "        vertical-align: top;\n",
       "    }\n",
       "\n",
       "    .dataframe thead th {\n",
       "        text-align: right;\n",
       "    }\n",
       "</style>\n",
       "<table border=\"1\" class=\"dataframe\">\n",
       "  <thead>\n",
       "    <tr style=\"text-align: right;\">\n",
       "      <th></th>\n",
       "      <th>r_fighter</th>\n",
       "      <th>b_fighter</th>\n",
       "      <th>r_kd</th>\n",
       "      <th>b_kd</th>\n",
       "      <th>r_sig_str</th>\n",
       "      <th>b_sig_str</th>\n",
       "      <th>r_sig_str_pct</th>\n",
       "      <th>b_sig_str_pct</th>\n",
       "      <th>r_total_str</th>\n",
       "      <th>b_total_str</th>\n",
       "      <th>...</th>\n",
       "      <th>b_ground_pct</th>\n",
       "      <th>ground_diff</th>\n",
       "      <th>loser</th>\n",
       "      <th>r_b_winner</th>\n",
       "      <th>fighter_name</th>\n",
       "      <th>height</th>\n",
       "      <th>weight</th>\n",
       "      <th>reach</th>\n",
       "      <th>stance</th>\n",
       "      <th>dob</th>\n",
       "    </tr>\n",
       "  </thead>\n",
       "  <tbody>\n",
       "    <tr>\n",
       "      <th>2204</th>\n",
       "      <td>Marlon Moraes</td>\n",
       "      <td>Aljamain Sterling</td>\n",
       "      <td>2</td>\n",
       "      <td>0</td>\n",
       "      <td>7 of 14</td>\n",
       "      <td>3 of 10</td>\n",
       "      <td>50</td>\n",
       "      <td>30</td>\n",
       "      <td>10 of 17</td>\n",
       "      <td>3 of 10</td>\n",
       "      <td>...</td>\n",
       "      <td>0</td>\n",
       "      <td>2</td>\n",
       "      <td>Aljamain Sterling</td>\n",
       "      <td>r</td>\n",
       "      <td>Marlon Moraes</td>\n",
       "      <td>5' 6\"</td>\n",
       "      <td>135 lbs.</td>\n",
       "      <td>67\"</td>\n",
       "      <td>Orthodox</td>\n",
       "      <td>Apr 26, 1988</td>\n",
       "    </tr>\n",
       "  </tbody>\n",
       "</table>\n",
       "<p>1 rows × 126 columns</p>\n",
       "</div>"
      ],
      "text/plain": [
       "          r_fighter          b_fighter  r_kd  b_kd r_sig_str b_sig_str  \\\n",
       "2204  Marlon Moraes  Aljamain Sterling     2     0   7 of 14   3 of 10   \n",
       "\n",
       "      r_sig_str_pct  b_sig_str_pct r_total_str b_total_str  ... b_ground_pct  \\\n",
       "2204             50             30    10 of 17     3 of 10  ...            0   \n",
       "\n",
       "     ground_diff              loser  r_b_winner   fighter_name  height  \\\n",
       "2204           2  Aljamain Sterling           r  Marlon Moraes   5' 6\"   \n",
       "\n",
       "        weight  reach    stance           dob  \n",
       "2204  135 lbs.    67\"  Orthodox  Apr 26, 1988  \n",
       "\n",
       "[1 rows x 126 columns]"
      ]
     },
     "execution_count": 51,
     "metadata": {},
     "output_type": "execute_result"
    }
   ],
   "source": [
    "r_combined[r_combined['r_fighter'] == 'Marlon Moraes']"
   ]
  },
  {
   "cell_type": "code",
   "execution_count": 52,
   "metadata": {},
   "outputs": [
    {
     "data": {
      "text/html": [
       "<div>\n",
       "<style scoped>\n",
       "    .dataframe tbody tr th:only-of-type {\n",
       "        vertical-align: middle;\n",
       "    }\n",
       "\n",
       "    .dataframe tbody tr th {\n",
       "        vertical-align: top;\n",
       "    }\n",
       "\n",
       "    .dataframe thead th {\n",
       "        text-align: right;\n",
       "    }\n",
       "</style>\n",
       "<table border=\"1\" class=\"dataframe\">\n",
       "  <thead>\n",
       "    <tr style=\"text-align: right;\">\n",
       "      <th></th>\n",
       "      <th>r_fighter</th>\n",
       "      <th>b_fighter</th>\n",
       "      <th>r_kd</th>\n",
       "      <th>b_kd</th>\n",
       "      <th>r_sig_str</th>\n",
       "      <th>b_sig_str</th>\n",
       "      <th>r_sig_str_pct</th>\n",
       "      <th>b_sig_str_pct</th>\n",
       "      <th>r_total_str</th>\n",
       "      <th>b_total_str</th>\n",
       "      <th>...</th>\n",
       "      <th>b_ground_pct</th>\n",
       "      <th>ground_diff</th>\n",
       "      <th>loser</th>\n",
       "      <th>r_b_winner</th>\n",
       "      <th>fighter_name</th>\n",
       "      <th>height</th>\n",
       "      <th>weight</th>\n",
       "      <th>reach</th>\n",
       "      <th>stance</th>\n",
       "      <th>dob</th>\n",
       "    </tr>\n",
       "  </thead>\n",
       "  <tbody>\n",
       "    <tr>\n",
       "      <th>0</th>\n",
       "      <td>Henry Cejudo</td>\n",
       "      <td>Marlon Moraes</td>\n",
       "      <td>0</td>\n",
       "      <td>0</td>\n",
       "      <td>90 of 171</td>\n",
       "      <td>57 of 119</td>\n",
       "      <td>52</td>\n",
       "      <td>47</td>\n",
       "      <td>99 of 182</td>\n",
       "      <td>59 of 121</td>\n",
       "      <td>...</td>\n",
       "      <td>100</td>\n",
       "      <td>25</td>\n",
       "      <td>Marlon Moraes</td>\n",
       "      <td>r</td>\n",
       "      <td>Marlon Moraes</td>\n",
       "      <td>5' 6\"</td>\n",
       "      <td>135 lbs.</td>\n",
       "      <td>67\"</td>\n",
       "      <td>Orthodox</td>\n",
       "      <td>Apr 26, 1988</td>\n",
       "    </tr>\n",
       "    <tr>\n",
       "      <th>1</th>\n",
       "      <td>Raphael Assuncao</td>\n",
       "      <td>Marlon Moraes</td>\n",
       "      <td>0</td>\n",
       "      <td>1</td>\n",
       "      <td>2 of 12</td>\n",
       "      <td>10 of 23</td>\n",
       "      <td>16</td>\n",
       "      <td>43</td>\n",
       "      <td>3 of 13</td>\n",
       "      <td>12 of 25</td>\n",
       "      <td>...</td>\n",
       "      <td>60</td>\n",
       "      <td>-3</td>\n",
       "      <td>Raphael Assuncao</td>\n",
       "      <td>b</td>\n",
       "      <td>Marlon Moraes</td>\n",
       "      <td>5' 6\"</td>\n",
       "      <td>135 lbs.</td>\n",
       "      <td>67\"</td>\n",
       "      <td>Orthodox</td>\n",
       "      <td>Apr 26, 1988</td>\n",
       "    </tr>\n",
       "    <tr>\n",
       "      <th>2</th>\n",
       "      <td>Jimmie Rivera</td>\n",
       "      <td>Marlon Moraes</td>\n",
       "      <td>0</td>\n",
       "      <td>1</td>\n",
       "      <td>0 of 3</td>\n",
       "      <td>7 of 9</td>\n",
       "      <td>0</td>\n",
       "      <td>77</td>\n",
       "      <td>0 of 3</td>\n",
       "      <td>7 of 9</td>\n",
       "      <td>...</td>\n",
       "      <td>83</td>\n",
       "      <td>-5</td>\n",
       "      <td>Jimmie Rivera</td>\n",
       "      <td>b</td>\n",
       "      <td>Marlon Moraes</td>\n",
       "      <td>5' 6\"</td>\n",
       "      <td>135 lbs.</td>\n",
       "      <td>67\"</td>\n",
       "      <td>Orthodox</td>\n",
       "      <td>Apr 26, 1988</td>\n",
       "    </tr>\n",
       "    <tr>\n",
       "      <th>3</th>\n",
       "      <td>John Dodson</td>\n",
       "      <td>Marlon Moraes</td>\n",
       "      <td>1</td>\n",
       "      <td>0</td>\n",
       "      <td>43 of 105</td>\n",
       "      <td>45 of 131</td>\n",
       "      <td>40</td>\n",
       "      <td>34</td>\n",
       "      <td>47 of 109</td>\n",
       "      <td>45 of 131</td>\n",
       "      <td>...</td>\n",
       "      <td>0</td>\n",
       "      <td>1</td>\n",
       "      <td>John Dodson</td>\n",
       "      <td>b</td>\n",
       "      <td>Marlon Moraes</td>\n",
       "      <td>5' 6\"</td>\n",
       "      <td>135 lbs.</td>\n",
       "      <td>67\"</td>\n",
       "      <td>Orthodox</td>\n",
       "      <td>Apr 26, 1988</td>\n",
       "    </tr>\n",
       "    <tr>\n",
       "      <th>4</th>\n",
       "      <td>Raphael Assuncao</td>\n",
       "      <td>Marlon Moraes</td>\n",
       "      <td>0</td>\n",
       "      <td>0</td>\n",
       "      <td>43 of 134</td>\n",
       "      <td>44 of 150</td>\n",
       "      <td>32</td>\n",
       "      <td>29</td>\n",
       "      <td>43 of 134</td>\n",
       "      <td>44 of 150</td>\n",
       "      <td>...</td>\n",
       "      <td>0</td>\n",
       "      <td>0</td>\n",
       "      <td>Marlon Moraes</td>\n",
       "      <td>r</td>\n",
       "      <td>Marlon Moraes</td>\n",
       "      <td>5' 6\"</td>\n",
       "      <td>135 lbs.</td>\n",
       "      <td>67\"</td>\n",
       "      <td>Orthodox</td>\n",
       "      <td>Apr 26, 1988</td>\n",
       "    </tr>\n",
       "  </tbody>\n",
       "</table>\n",
       "<p>5 rows × 126 columns</p>\n",
       "</div>"
      ],
      "text/plain": [
       "          r_fighter      b_fighter  r_kd  b_kd  r_sig_str  b_sig_str  \\\n",
       "0      Henry Cejudo  Marlon Moraes     0     0  90 of 171  57 of 119   \n",
       "1  Raphael Assuncao  Marlon Moraes     0     1    2 of 12   10 of 23   \n",
       "2     Jimmie Rivera  Marlon Moraes     0     1     0 of 3     7 of 9   \n",
       "3       John Dodson  Marlon Moraes     1     0  43 of 105  45 of 131   \n",
       "4  Raphael Assuncao  Marlon Moraes     0     0  43 of 134  44 of 150   \n",
       "\n",
       "   r_sig_str_pct  b_sig_str_pct r_total_str b_total_str  ... b_ground_pct  \\\n",
       "0             52             47   99 of 182   59 of 121  ...          100   \n",
       "1             16             43     3 of 13    12 of 25  ...           60   \n",
       "2              0             77      0 of 3      7 of 9  ...           83   \n",
       "3             40             34   47 of 109   45 of 131  ...            0   \n",
       "4             32             29   43 of 134   44 of 150  ...            0   \n",
       "\n",
       "  ground_diff             loser  r_b_winner   fighter_name  height    weight  \\\n",
       "0          25     Marlon Moraes           r  Marlon Moraes   5' 6\"  135 lbs.   \n",
       "1          -3  Raphael Assuncao           b  Marlon Moraes   5' 6\"  135 lbs.   \n",
       "2          -5     Jimmie Rivera           b  Marlon Moraes   5' 6\"  135 lbs.   \n",
       "3           1       John Dodson           b  Marlon Moraes   5' 6\"  135 lbs.   \n",
       "4           0     Marlon Moraes           r  Marlon Moraes   5' 6\"  135 lbs.   \n",
       "\n",
       "   reach    stance           dob  \n",
       "0    67\"  Orthodox  Apr 26, 1988  \n",
       "1    67\"  Orthodox  Apr 26, 1988  \n",
       "2    67\"  Orthodox  Apr 26, 1988  \n",
       "3    67\"  Orthodox  Apr 26, 1988  \n",
       "4    67\"  Orthodox  Apr 26, 1988  \n",
       "\n",
       "[5 rows x 126 columns]"
      ]
     },
     "execution_count": 52,
     "metadata": {},
     "output_type": "execute_result"
    }
   ],
   "source": [
    "b_combined[b_combined['b_fighter'] == 'Marlon Moraes']"
   ]
  },
  {
   "cell_type": "code",
   "execution_count": 53,
   "metadata": {},
   "outputs": [
    {
     "data": {
      "text/html": [
       "<div>\n",
       "<style scoped>\n",
       "    .dataframe tbody tr th:only-of-type {\n",
       "        vertical-align: middle;\n",
       "    }\n",
       "\n",
       "    .dataframe tbody tr th {\n",
       "        vertical-align: top;\n",
       "    }\n",
       "\n",
       "    .dataframe thead th {\n",
       "        text-align: right;\n",
       "    }\n",
       "</style>\n",
       "<table border=\"1\" class=\"dataframe\">\n",
       "  <thead>\n",
       "    <tr style=\"text-align: right;\">\n",
       "      <th></th>\n",
       "      <th>date</th>\n",
       "      <th>dob</th>\n",
       "    </tr>\n",
       "  </thead>\n",
       "  <tbody>\n",
       "    <tr>\n",
       "      <th>0</th>\n",
       "      <td>June 08, 2019</td>\n",
       "      <td>Apr 26, 1988</td>\n",
       "    </tr>\n",
       "    <tr>\n",
       "      <th>1</th>\n",
       "      <td>February 02, 2019</td>\n",
       "      <td>Apr 26, 1988</td>\n",
       "    </tr>\n",
       "    <tr>\n",
       "      <th>2</th>\n",
       "      <td>June 01, 2018</td>\n",
       "      <td>Apr 26, 1988</td>\n",
       "    </tr>\n",
       "    <tr>\n",
       "      <th>3</th>\n",
       "      <td>November 11, 2017</td>\n",
       "      <td>Apr 26, 1988</td>\n",
       "    </tr>\n",
       "    <tr>\n",
       "      <th>4</th>\n",
       "      <td>June 03, 2017</td>\n",
       "      <td>Apr 26, 1988</td>\n",
       "    </tr>\n",
       "  </tbody>\n",
       "</table>\n",
       "</div>"
      ],
      "text/plain": [
       "                date           dob\n",
       "0      June 08, 2019  Apr 26, 1988\n",
       "1  February 02, 2019  Apr 26, 1988\n",
       "2      June 01, 2018  Apr 26, 1988\n",
       "3  November 11, 2017  Apr 26, 1988\n",
       "4      June 03, 2017  Apr 26, 1988"
      ]
     },
     "execution_count": 53,
     "metadata": {},
     "output_type": "execute_result"
    }
   ],
   "source": [
    "mmb = b_combined[b_combined['b_fighter'] == 'Marlon Moraes']\n",
    "mmb[['date', 'dob']]"
   ]
  },
  {
   "cell_type": "code",
   "execution_count": 54,
   "metadata": {},
   "outputs": [],
   "source": [
    "from datetime import date"
   ]
  },
  {
   "cell_type": "code",
   "execution_count": 55,
   "metadata": {},
   "outputs": [
    {
     "ename": "TypeError",
     "evalue": "an integer is required (got type str)",
     "output_type": "error",
     "traceback": [
      "\u001b[1;31m---------------------------------------------------------------------------\u001b[0m",
      "\u001b[1;31mTypeError\u001b[0m                                 Traceback (most recent call last)",
      "\u001b[1;32m<ipython-input-55-870501c38af7>\u001b[0m in \u001b[0;36m<module>\u001b[1;34m\u001b[0m\n\u001b[1;32m----> 1\u001b[1;33m \u001b[0mdate\u001b[0m\u001b[1;33m(\u001b[0m\u001b[0mmmb\u001b[0m\u001b[1;33m.\u001b[0m\u001b[0miloc\u001b[0m\u001b[1;33m[\u001b[0m\u001b[1;36m0\u001b[0m\u001b[1;33m]\u001b[0m\u001b[1;33m.\u001b[0m\u001b[0mdate\u001b[0m\u001b[1;33m)\u001b[0m\u001b[1;33m\u001b[0m\u001b[1;33m\u001b[0m\u001b[0m\n\u001b[0m",
      "\u001b[1;31mTypeError\u001b[0m: an integer is required (got type str)"
     ]
    }
   ],
   "source": [
    "date(mmb.iloc[0].date)"
   ]
  },
  {
   "cell_type": "code",
   "execution_count": 56,
   "metadata": {},
   "outputs": [],
   "source": [
    "from datetime import datetime"
   ]
  },
  {
   "cell_type": "code",
   "execution_count": 57,
   "metadata": {},
   "outputs": [
    {
     "ename": "TypeError",
     "evalue": "an integer is required (got type str)",
     "output_type": "error",
     "traceback": [
      "\u001b[1;31m---------------------------------------------------------------------------\u001b[0m",
      "\u001b[1;31mTypeError\u001b[0m                                 Traceback (most recent call last)",
      "\u001b[1;32m<ipython-input-57-fde65060581d>\u001b[0m in \u001b[0;36m<module>\u001b[1;34m\u001b[0m\n\u001b[1;32m----> 1\u001b[1;33m \u001b[0mdatetime\u001b[0m\u001b[1;33m(\u001b[0m\u001b[0mmmb\u001b[0m\u001b[1;33m.\u001b[0m\u001b[0miloc\u001b[0m\u001b[1;33m[\u001b[0m\u001b[1;36m0\u001b[0m\u001b[1;33m]\u001b[0m\u001b[1;33m.\u001b[0m\u001b[0mdate\u001b[0m\u001b[1;33m)\u001b[0m\u001b[1;33m\u001b[0m\u001b[1;33m\u001b[0m\u001b[0m\n\u001b[0m",
      "\u001b[1;31mTypeError\u001b[0m: an integer is required (got type str)"
     ]
    }
   ],
   "source": [
    "datetime(mmb.iloc[0].date)"
   ]
  },
  {
   "cell_type": "code",
   "execution_count": 58,
   "metadata": {},
   "outputs": [
    {
     "ename": "TypeError",
     "evalue": "an integer is required (got type str)",
     "output_type": "error",
     "traceback": [
      "\u001b[1;31m---------------------------------------------------------------------------\u001b[0m",
      "\u001b[1;31mTypeError\u001b[0m                                 Traceback (most recent call last)",
      "\u001b[1;32m<ipython-input-58-b194e347c553>\u001b[0m in \u001b[0;36m<module>\u001b[1;34m\u001b[0m\n\u001b[1;32m----> 1\u001b[1;33m \u001b[0mdate\u001b[0m\u001b[1;33m(\u001b[0m\u001b[0mmonth\u001b[0m\u001b[1;33m=\u001b[0m\u001b[1;34m'June'\u001b[0m\u001b[1;33m,\u001b[0m \u001b[0mday\u001b[0m\u001b[1;33m=\u001b[0m\u001b[1;34m'08'\u001b[0m\u001b[1;33m,\u001b[0m \u001b[0myear\u001b[0m\u001b[1;33m=\u001b[0m\u001b[1;34m'2019'\u001b[0m\u001b[1;33m)\u001b[0m\u001b[1;33m\u001b[0m\u001b[1;33m\u001b[0m\u001b[0m\n\u001b[0m",
      "\u001b[1;31mTypeError\u001b[0m: an integer is required (got type str)"
     ]
    }
   ],
   "source": [
    "date(month='June', day='08', year='2019')"
   ]
  },
  {
   "cell_type": "code",
   "execution_count": 59,
   "metadata": {},
   "outputs": [
    {
     "name": "stdout",
     "output_type": "stream",
     "text": [
      "2005 6 1 13 33 0\n"
     ]
    }
   ],
   "source": [
    "from dateutil import parser\n",
    "dt = parser.parse(\"Jun 1 2005  1:33PM\")\n",
    "print(dt.year, dt.month, dt.day,dt.hour, dt.minute, dt.second)"
   ]
  },
  {
   "cell_type": "code",
   "execution_count": 60,
   "metadata": {},
   "outputs": [
    {
     "data": {
      "text/plain": [
       "datetime.datetime(2019, 6, 8, 0, 0)"
      ]
     },
     "execution_count": 60,
     "metadata": {},
     "output_type": "execute_result"
    }
   ],
   "source": [
    "parser.parse('june 08, 2019')"
   ]
  },
  {
   "cell_type": "code",
   "execution_count": 61,
   "metadata": {},
   "outputs": [],
   "source": [
    "d1 = parser.parse(mmb.iloc[0].date)"
   ]
  },
  {
   "cell_type": "code",
   "execution_count": 62,
   "metadata": {},
   "outputs": [],
   "source": [
    "d2 = parser.parse(mmb.iloc[0].dob)"
   ]
  },
  {
   "cell_type": "code",
   "execution_count": 63,
   "metadata": {},
   "outputs": [
    {
     "data": {
      "text/plain": [
       "datetime.timedelta(days=11365)"
      ]
     },
     "execution_count": 63,
     "metadata": {},
     "output_type": "execute_result"
    }
   ],
   "source": [
    "d1 - d2"
   ]
  },
  {
   "cell_type": "code",
   "execution_count": 64,
   "metadata": {},
   "outputs": [
    {
     "data": {
      "text/plain": [
       "datetime.timedelta(days=31, seconds=11835, microseconds=616438)"
      ]
     },
     "execution_count": 64,
     "metadata": {},
     "output_type": "execute_result"
    }
   ],
   "source": [
    "(d1 - d2) / 365"
   ]
  },
  {
   "cell_type": "code",
   "execution_count": 65,
   "metadata": {},
   "outputs": [],
   "source": [
    "raw_age = d1 - d2"
   ]
  },
  {
   "cell_type": "code",
   "execution_count": 66,
   "metadata": {},
   "outputs": [
    {
     "data": {
      "text/plain": [
       "datetime.timedelta(days=11365)"
      ]
     },
     "execution_count": 66,
     "metadata": {},
     "output_type": "execute_result"
    }
   ],
   "source": [
    "raw_age"
   ]
  },
  {
   "cell_type": "code",
   "execution_count": 67,
   "metadata": {},
   "outputs": [
    {
     "data": {
      "text/plain": [
       "11365"
      ]
     },
     "execution_count": 67,
     "metadata": {},
     "output_type": "execute_result"
    }
   ],
   "source": [
    "raw_age.days"
   ]
  },
  {
   "cell_type": "code",
   "execution_count": 68,
   "metadata": {},
   "outputs": [
    {
     "data": {
      "text/plain": [
       "31.136986301369863"
      ]
     },
     "execution_count": 68,
     "metadata": {},
     "output_type": "execute_result"
    }
   ],
   "source": [
    "11365 / 365"
   ]
  },
  {
   "cell_type": "code",
   "execution_count": null,
   "metadata": {},
   "outputs": [],
   "source": []
  },
  {
   "cell_type": "markdown",
   "metadata": {},
   "source": [
    "Let's make a dataframe with the stats for both fighters.\n",
    "First, merge on red or blue, then change a few column names, then merge on the other color, and change some new columns names.\n",
    "\n",
    "Drop fighter_name.\n",
    "\n",
    "Change fight dates and birthdays to datetime objects."
   ]
  },
  {
   "cell_type": "code",
   "execution_count": 69,
   "metadata": {},
   "outputs": [],
   "source": [
    "combined = pd.merge(fights, fighters, left_on='r_fighter', right_on='fighter_name')"
   ]
  },
  {
   "cell_type": "code",
   "execution_count": 70,
   "metadata": {},
   "outputs": [
    {
     "data": {
      "text/plain": [
       "Index(['r_fighter', 'b_fighter', 'r_kd', 'b_kd', 'r_sig_str', 'b_sig_str',\n",
       "       'r_sig_str_pct', 'b_sig_str_pct', 'r_total_str', 'b_total_str',\n",
       "       ...\n",
       "       'b_ground_pct', 'ground_diff', 'loser', 'r_b_winner', 'fighter_name',\n",
       "       'height', 'weight', 'reach', 'stance', 'dob'],\n",
       "      dtype='object', length=126)"
      ]
     },
     "execution_count": 70,
     "metadata": {},
     "output_type": "execute_result"
    }
   ],
   "source": [
    "combined.columns"
   ]
  },
  {
   "cell_type": "code",
   "execution_count": 71,
   "metadata": {},
   "outputs": [
    {
     "data": {
      "text/html": [
       "<div>\n",
       "<style scoped>\n",
       "    .dataframe tbody tr th:only-of-type {\n",
       "        vertical-align: middle;\n",
       "    }\n",
       "\n",
       "    .dataframe tbody tr th {\n",
       "        vertical-align: top;\n",
       "    }\n",
       "\n",
       "    .dataframe thead th {\n",
       "        text-align: right;\n",
       "    }\n",
       "</style>\n",
       "<table border=\"1\" class=\"dataframe\">\n",
       "  <thead>\n",
       "    <tr style=\"text-align: right;\">\n",
       "      <th></th>\n",
       "      <th>r_fighter</th>\n",
       "      <th>b_fighter</th>\n",
       "      <th>r_kd</th>\n",
       "      <th>b_kd</th>\n",
       "      <th>r_sig_str</th>\n",
       "      <th>b_sig_str</th>\n",
       "      <th>r_sig_str_pct</th>\n",
       "      <th>b_sig_str_pct</th>\n",
       "      <th>r_total_str</th>\n",
       "      <th>b_total_str</th>\n",
       "      <th>...</th>\n",
       "      <th>b_ground_pct</th>\n",
       "      <th>ground_diff</th>\n",
       "      <th>loser</th>\n",
       "      <th>r_b_winner</th>\n",
       "      <th>fighter_name</th>\n",
       "      <th>height</th>\n",
       "      <th>weight</th>\n",
       "      <th>reach</th>\n",
       "      <th>stance</th>\n",
       "      <th>dob</th>\n",
       "    </tr>\n",
       "  </thead>\n",
       "  <tbody>\n",
       "    <tr>\n",
       "      <th>0</th>\n",
       "      <td>Henry Cejudo</td>\n",
       "      <td>Marlon Moraes</td>\n",
       "      <td>0</td>\n",
       "      <td>0</td>\n",
       "      <td>90 of 171</td>\n",
       "      <td>57 of 119</td>\n",
       "      <td>52</td>\n",
       "      <td>47</td>\n",
       "      <td>99 of 182</td>\n",
       "      <td>59 of 121</td>\n",
       "      <td>...</td>\n",
       "      <td>100</td>\n",
       "      <td>25</td>\n",
       "      <td>Marlon Moraes</td>\n",
       "      <td>r</td>\n",
       "      <td>Henry Cejudo</td>\n",
       "      <td>5' 4\"</td>\n",
       "      <td>135 lbs.</td>\n",
       "      <td>64\"</td>\n",
       "      <td>Orthodox</td>\n",
       "      <td>Feb 09, 1987</td>\n",
       "    </tr>\n",
       "    <tr>\n",
       "      <th>1</th>\n",
       "      <td>Henry Cejudo</td>\n",
       "      <td>TJ Dillashaw</td>\n",
       "      <td>1</td>\n",
       "      <td>0</td>\n",
       "      <td>18 of 23</td>\n",
       "      <td>1 of 3</td>\n",
       "      <td>78</td>\n",
       "      <td>33</td>\n",
       "      <td>18 of 23</td>\n",
       "      <td>1 of 3</td>\n",
       "      <td>...</td>\n",
       "      <td>0</td>\n",
       "      <td>15</td>\n",
       "      <td>TJ Dillashaw</td>\n",
       "      <td>r</td>\n",
       "      <td>Henry Cejudo</td>\n",
       "      <td>5' 4\"</td>\n",
       "      <td>135 lbs.</td>\n",
       "      <td>64\"</td>\n",
       "      <td>Orthodox</td>\n",
       "      <td>Feb 09, 1987</td>\n",
       "    </tr>\n",
       "    <tr>\n",
       "      <th>2</th>\n",
       "      <td>Henry Cejudo</td>\n",
       "      <td>Sergio Pettis</td>\n",
       "      <td>0</td>\n",
       "      <td>0</td>\n",
       "      <td>36 of 83</td>\n",
       "      <td>25 of 98</td>\n",
       "      <td>43</td>\n",
       "      <td>25</td>\n",
       "      <td>85 of 148</td>\n",
       "      <td>38 of 112</td>\n",
       "      <td>...</td>\n",
       "      <td>25</td>\n",
       "      <td>16</td>\n",
       "      <td>Sergio Pettis</td>\n",
       "      <td>r</td>\n",
       "      <td>Henry Cejudo</td>\n",
       "      <td>5' 4\"</td>\n",
       "      <td>135 lbs.</td>\n",
       "      <td>64\"</td>\n",
       "      <td>Orthodox</td>\n",
       "      <td>Feb 09, 1987</td>\n",
       "    </tr>\n",
       "    <tr>\n",
       "      <th>3</th>\n",
       "      <td>Henry Cejudo</td>\n",
       "      <td>Wilson Reis</td>\n",
       "      <td>1</td>\n",
       "      <td>0</td>\n",
       "      <td>34 of 58</td>\n",
       "      <td>5 of 25</td>\n",
       "      <td>58</td>\n",
       "      <td>20</td>\n",
       "      <td>39 of 64</td>\n",
       "      <td>5 of 25</td>\n",
       "      <td>...</td>\n",
       "      <td>0</td>\n",
       "      <td>8</td>\n",
       "      <td>Wilson Reis</td>\n",
       "      <td>r</td>\n",
       "      <td>Henry Cejudo</td>\n",
       "      <td>5' 4\"</td>\n",
       "      <td>135 lbs.</td>\n",
       "      <td>64\"</td>\n",
       "      <td>Orthodox</td>\n",
       "      <td>Feb 09, 1987</td>\n",
       "    </tr>\n",
       "    <tr>\n",
       "      <th>4</th>\n",
       "      <td>Henry Cejudo</td>\n",
       "      <td>Chico Camus</td>\n",
       "      <td>0</td>\n",
       "      <td>0</td>\n",
       "      <td>62 of 143</td>\n",
       "      <td>48 of 144</td>\n",
       "      <td>43</td>\n",
       "      <td>33</td>\n",
       "      <td>133 of 219</td>\n",
       "      <td>59 of 157</td>\n",
       "      <td>...</td>\n",
       "      <td>100</td>\n",
       "      <td>-1</td>\n",
       "      <td>Chico Camus</td>\n",
       "      <td>r</td>\n",
       "      <td>Henry Cejudo</td>\n",
       "      <td>5' 4\"</td>\n",
       "      <td>135 lbs.</td>\n",
       "      <td>64\"</td>\n",
       "      <td>Orthodox</td>\n",
       "      <td>Feb 09, 1987</td>\n",
       "    </tr>\n",
       "  </tbody>\n",
       "</table>\n",
       "<p>5 rows × 126 columns</p>\n",
       "</div>"
      ],
      "text/plain": [
       "      r_fighter      b_fighter  r_kd  b_kd  r_sig_str  b_sig_str  \\\n",
       "0  Henry Cejudo  Marlon Moraes     0     0  90 of 171  57 of 119   \n",
       "1  Henry Cejudo   TJ Dillashaw     1     0   18 of 23     1 of 3   \n",
       "2  Henry Cejudo  Sergio Pettis     0     0   36 of 83   25 of 98   \n",
       "3  Henry Cejudo    Wilson Reis     1     0   34 of 58    5 of 25   \n",
       "4  Henry Cejudo    Chico Camus     0     0  62 of 143  48 of 144   \n",
       "\n",
       "   r_sig_str_pct  b_sig_str_pct r_total_str b_total_str  ... b_ground_pct  \\\n",
       "0             52             47   99 of 182   59 of 121  ...          100   \n",
       "1             78             33    18 of 23      1 of 3  ...            0   \n",
       "2             43             25   85 of 148   38 of 112  ...           25   \n",
       "3             58             20    39 of 64     5 of 25  ...            0   \n",
       "4             43             33  133 of 219   59 of 157  ...          100   \n",
       "\n",
       "  ground_diff          loser  r_b_winner  fighter_name  height    weight  \\\n",
       "0          25  Marlon Moraes           r  Henry Cejudo   5' 4\"  135 lbs.   \n",
       "1          15   TJ Dillashaw           r  Henry Cejudo   5' 4\"  135 lbs.   \n",
       "2          16  Sergio Pettis           r  Henry Cejudo   5' 4\"  135 lbs.   \n",
       "3           8    Wilson Reis           r  Henry Cejudo   5' 4\"  135 lbs.   \n",
       "4          -1    Chico Camus           r  Henry Cejudo   5' 4\"  135 lbs.   \n",
       "\n",
       "   reach    stance           dob  \n",
       "0    64\"  Orthodox  Feb 09, 1987  \n",
       "1    64\"  Orthodox  Feb 09, 1987  \n",
       "2    64\"  Orthodox  Feb 09, 1987  \n",
       "3    64\"  Orthodox  Feb 09, 1987  \n",
       "4    64\"  Orthodox  Feb 09, 1987  \n",
       "\n",
       "[5 rows x 126 columns]"
      ]
     },
     "execution_count": 71,
     "metadata": {},
     "output_type": "execute_result"
    }
   ],
   "source": [
    "combined.head()"
   ]
  },
  {
   "cell_type": "code",
   "execution_count": 72,
   "metadata": {},
   "outputs": [],
   "source": [
    "combined = combined.drop('fighter_name', axis=1)"
   ]
  },
  {
   "cell_type": "code",
   "execution_count": 73,
   "metadata": {},
   "outputs": [
    {
     "data": {
      "text/html": [
       "<div>\n",
       "<style scoped>\n",
       "    .dataframe tbody tr th:only-of-type {\n",
       "        vertical-align: middle;\n",
       "    }\n",
       "\n",
       "    .dataframe tbody tr th {\n",
       "        vertical-align: top;\n",
       "    }\n",
       "\n",
       "    .dataframe thead th {\n",
       "        text-align: right;\n",
       "    }\n",
       "</style>\n",
       "<table border=\"1\" class=\"dataframe\">\n",
       "  <thead>\n",
       "    <tr style=\"text-align: right;\">\n",
       "      <th></th>\n",
       "      <th>r_fighter</th>\n",
       "      <th>b_fighter</th>\n",
       "      <th>r_kd</th>\n",
       "      <th>b_kd</th>\n",
       "      <th>r_sig_str</th>\n",
       "      <th>b_sig_str</th>\n",
       "      <th>r_sig_str_pct</th>\n",
       "      <th>b_sig_str_pct</th>\n",
       "      <th>r_total_str</th>\n",
       "      <th>b_total_str</th>\n",
       "      <th>...</th>\n",
       "      <th>r_ground_pct</th>\n",
       "      <th>b_ground_pct</th>\n",
       "      <th>ground_diff</th>\n",
       "      <th>loser</th>\n",
       "      <th>r_b_winner</th>\n",
       "      <th>height</th>\n",
       "      <th>weight</th>\n",
       "      <th>reach</th>\n",
       "      <th>stance</th>\n",
       "      <th>dob</th>\n",
       "    </tr>\n",
       "  </thead>\n",
       "  <tbody>\n",
       "    <tr>\n",
       "      <th>0</th>\n",
       "      <td>Henry Cejudo</td>\n",
       "      <td>Marlon Moraes</td>\n",
       "      <td>0</td>\n",
       "      <td>0</td>\n",
       "      <td>90 of 171</td>\n",
       "      <td>57 of 119</td>\n",
       "      <td>52</td>\n",
       "      <td>47</td>\n",
       "      <td>99 of 182</td>\n",
       "      <td>59 of 121</td>\n",
       "      <td>...</td>\n",
       "      <td>86</td>\n",
       "      <td>100</td>\n",
       "      <td>25</td>\n",
       "      <td>Marlon Moraes</td>\n",
       "      <td>r</td>\n",
       "      <td>5' 4\"</td>\n",
       "      <td>135 lbs.</td>\n",
       "      <td>64\"</td>\n",
       "      <td>Orthodox</td>\n",
       "      <td>Feb 09, 1987</td>\n",
       "    </tr>\n",
       "    <tr>\n",
       "      <th>1</th>\n",
       "      <td>Henry Cejudo</td>\n",
       "      <td>TJ Dillashaw</td>\n",
       "      <td>1</td>\n",
       "      <td>0</td>\n",
       "      <td>18 of 23</td>\n",
       "      <td>1 of 3</td>\n",
       "      <td>78</td>\n",
       "      <td>33</td>\n",
       "      <td>18 of 23</td>\n",
       "      <td>1 of 3</td>\n",
       "      <td>...</td>\n",
       "      <td>88</td>\n",
       "      <td>0</td>\n",
       "      <td>15</td>\n",
       "      <td>TJ Dillashaw</td>\n",
       "      <td>r</td>\n",
       "      <td>5' 4\"</td>\n",
       "      <td>135 lbs.</td>\n",
       "      <td>64\"</td>\n",
       "      <td>Orthodox</td>\n",
       "      <td>Feb 09, 1987</td>\n",
       "    </tr>\n",
       "    <tr>\n",
       "      <th>2</th>\n",
       "      <td>Henry Cejudo</td>\n",
       "      <td>Sergio Pettis</td>\n",
       "      <td>0</td>\n",
       "      <td>0</td>\n",
       "      <td>36 of 83</td>\n",
       "      <td>25 of 98</td>\n",
       "      <td>43</td>\n",
       "      <td>25</td>\n",
       "      <td>85 of 148</td>\n",
       "      <td>38 of 112</td>\n",
       "      <td>...</td>\n",
       "      <td>70</td>\n",
       "      <td>25</td>\n",
       "      <td>16</td>\n",
       "      <td>Sergio Pettis</td>\n",
       "      <td>r</td>\n",
       "      <td>5' 4\"</td>\n",
       "      <td>135 lbs.</td>\n",
       "      <td>64\"</td>\n",
       "      <td>Orthodox</td>\n",
       "      <td>Feb 09, 1987</td>\n",
       "    </tr>\n",
       "    <tr>\n",
       "      <th>3</th>\n",
       "      <td>Henry Cejudo</td>\n",
       "      <td>Wilson Reis</td>\n",
       "      <td>1</td>\n",
       "      <td>0</td>\n",
       "      <td>34 of 58</td>\n",
       "      <td>5 of 25</td>\n",
       "      <td>58</td>\n",
       "      <td>20</td>\n",
       "      <td>39 of 64</td>\n",
       "      <td>5 of 25</td>\n",
       "      <td>...</td>\n",
       "      <td>57</td>\n",
       "      <td>0</td>\n",
       "      <td>8</td>\n",
       "      <td>Wilson Reis</td>\n",
       "      <td>r</td>\n",
       "      <td>5' 4\"</td>\n",
       "      <td>135 lbs.</td>\n",
       "      <td>64\"</td>\n",
       "      <td>Orthodox</td>\n",
       "      <td>Feb 09, 1987</td>\n",
       "    </tr>\n",
       "    <tr>\n",
       "      <th>4</th>\n",
       "      <td>Henry Cejudo</td>\n",
       "      <td>Chico Camus</td>\n",
       "      <td>0</td>\n",
       "      <td>0</td>\n",
       "      <td>62 of 143</td>\n",
       "      <td>48 of 144</td>\n",
       "      <td>43</td>\n",
       "      <td>33</td>\n",
       "      <td>133 of 219</td>\n",
       "      <td>59 of 157</td>\n",
       "      <td>...</td>\n",
       "      <td>0</td>\n",
       "      <td>100</td>\n",
       "      <td>-1</td>\n",
       "      <td>Chico Camus</td>\n",
       "      <td>r</td>\n",
       "      <td>5' 4\"</td>\n",
       "      <td>135 lbs.</td>\n",
       "      <td>64\"</td>\n",
       "      <td>Orthodox</td>\n",
       "      <td>Feb 09, 1987</td>\n",
       "    </tr>\n",
       "  </tbody>\n",
       "</table>\n",
       "<p>5 rows × 125 columns</p>\n",
       "</div>"
      ],
      "text/plain": [
       "      r_fighter      b_fighter  r_kd  b_kd  r_sig_str  b_sig_str  \\\n",
       "0  Henry Cejudo  Marlon Moraes     0     0  90 of 171  57 of 119   \n",
       "1  Henry Cejudo   TJ Dillashaw     1     0   18 of 23     1 of 3   \n",
       "2  Henry Cejudo  Sergio Pettis     0     0   36 of 83   25 of 98   \n",
       "3  Henry Cejudo    Wilson Reis     1     0   34 of 58    5 of 25   \n",
       "4  Henry Cejudo    Chico Camus     0     0  62 of 143  48 of 144   \n",
       "\n",
       "   r_sig_str_pct  b_sig_str_pct r_total_str b_total_str  ... r_ground_pct  \\\n",
       "0             52             47   99 of 182   59 of 121  ...           86   \n",
       "1             78             33    18 of 23      1 of 3  ...           88   \n",
       "2             43             25   85 of 148   38 of 112  ...           70   \n",
       "3             58             20    39 of 64     5 of 25  ...           57   \n",
       "4             43             33  133 of 219   59 of 157  ...            0   \n",
       "\n",
       "  b_ground_pct  ground_diff          loser  r_b_winner  height    weight  \\\n",
       "0          100           25  Marlon Moraes           r   5' 4\"  135 lbs.   \n",
       "1            0           15   TJ Dillashaw           r   5' 4\"  135 lbs.   \n",
       "2           25           16  Sergio Pettis           r   5' 4\"  135 lbs.   \n",
       "3            0            8    Wilson Reis           r   5' 4\"  135 lbs.   \n",
       "4          100           -1    Chico Camus           r   5' 4\"  135 lbs.   \n",
       "\n",
       "   reach    stance           dob  \n",
       "0    64\"  Orthodox  Feb 09, 1987  \n",
       "1    64\"  Orthodox  Feb 09, 1987  \n",
       "2    64\"  Orthodox  Feb 09, 1987  \n",
       "3    64\"  Orthodox  Feb 09, 1987  \n",
       "4    64\"  Orthodox  Feb 09, 1987  \n",
       "\n",
       "[5 rows x 125 columns]"
      ]
     },
     "execution_count": 73,
     "metadata": {},
     "output_type": "execute_result"
    }
   ],
   "source": [
    "combined.head()"
   ]
  },
  {
   "cell_type": "code",
   "execution_count": 74,
   "metadata": {},
   "outputs": [],
   "source": [
    "combined = combined.rename(columns={'height': 'r_height', 'weight': 'r_weight', 'reach': 'r_reach', 'stance': 'r_stance', 'dob': 'r_dob'})"
   ]
  },
  {
   "cell_type": "code",
   "execution_count": 75,
   "metadata": {},
   "outputs": [
    {
     "data": {
      "text/html": [
       "<div>\n",
       "<style scoped>\n",
       "    .dataframe tbody tr th:only-of-type {\n",
       "        vertical-align: middle;\n",
       "    }\n",
       "\n",
       "    .dataframe tbody tr th {\n",
       "        vertical-align: top;\n",
       "    }\n",
       "\n",
       "    .dataframe thead th {\n",
       "        text-align: right;\n",
       "    }\n",
       "</style>\n",
       "<table border=\"1\" class=\"dataframe\">\n",
       "  <thead>\n",
       "    <tr style=\"text-align: right;\">\n",
       "      <th></th>\n",
       "      <th>r_fighter</th>\n",
       "      <th>b_fighter</th>\n",
       "      <th>r_kd</th>\n",
       "      <th>b_kd</th>\n",
       "      <th>r_sig_str</th>\n",
       "      <th>b_sig_str</th>\n",
       "      <th>r_sig_str_pct</th>\n",
       "      <th>b_sig_str_pct</th>\n",
       "      <th>r_total_str</th>\n",
       "      <th>b_total_str</th>\n",
       "      <th>...</th>\n",
       "      <th>r_ground_pct</th>\n",
       "      <th>b_ground_pct</th>\n",
       "      <th>ground_diff</th>\n",
       "      <th>loser</th>\n",
       "      <th>r_b_winner</th>\n",
       "      <th>r_height</th>\n",
       "      <th>r_weight</th>\n",
       "      <th>r_reach</th>\n",
       "      <th>r_stance</th>\n",
       "      <th>r_dob</th>\n",
       "    </tr>\n",
       "  </thead>\n",
       "  <tbody>\n",
       "    <tr>\n",
       "      <th>0</th>\n",
       "      <td>Henry Cejudo</td>\n",
       "      <td>Marlon Moraes</td>\n",
       "      <td>0</td>\n",
       "      <td>0</td>\n",
       "      <td>90 of 171</td>\n",
       "      <td>57 of 119</td>\n",
       "      <td>52</td>\n",
       "      <td>47</td>\n",
       "      <td>99 of 182</td>\n",
       "      <td>59 of 121</td>\n",
       "      <td>...</td>\n",
       "      <td>86</td>\n",
       "      <td>100</td>\n",
       "      <td>25</td>\n",
       "      <td>Marlon Moraes</td>\n",
       "      <td>r</td>\n",
       "      <td>5' 4\"</td>\n",
       "      <td>135 lbs.</td>\n",
       "      <td>64\"</td>\n",
       "      <td>Orthodox</td>\n",
       "      <td>Feb 09, 1987</td>\n",
       "    </tr>\n",
       "    <tr>\n",
       "      <th>1</th>\n",
       "      <td>Henry Cejudo</td>\n",
       "      <td>TJ Dillashaw</td>\n",
       "      <td>1</td>\n",
       "      <td>0</td>\n",
       "      <td>18 of 23</td>\n",
       "      <td>1 of 3</td>\n",
       "      <td>78</td>\n",
       "      <td>33</td>\n",
       "      <td>18 of 23</td>\n",
       "      <td>1 of 3</td>\n",
       "      <td>...</td>\n",
       "      <td>88</td>\n",
       "      <td>0</td>\n",
       "      <td>15</td>\n",
       "      <td>TJ Dillashaw</td>\n",
       "      <td>r</td>\n",
       "      <td>5' 4\"</td>\n",
       "      <td>135 lbs.</td>\n",
       "      <td>64\"</td>\n",
       "      <td>Orthodox</td>\n",
       "      <td>Feb 09, 1987</td>\n",
       "    </tr>\n",
       "    <tr>\n",
       "      <th>2</th>\n",
       "      <td>Henry Cejudo</td>\n",
       "      <td>Sergio Pettis</td>\n",
       "      <td>0</td>\n",
       "      <td>0</td>\n",
       "      <td>36 of 83</td>\n",
       "      <td>25 of 98</td>\n",
       "      <td>43</td>\n",
       "      <td>25</td>\n",
       "      <td>85 of 148</td>\n",
       "      <td>38 of 112</td>\n",
       "      <td>...</td>\n",
       "      <td>70</td>\n",
       "      <td>25</td>\n",
       "      <td>16</td>\n",
       "      <td>Sergio Pettis</td>\n",
       "      <td>r</td>\n",
       "      <td>5' 4\"</td>\n",
       "      <td>135 lbs.</td>\n",
       "      <td>64\"</td>\n",
       "      <td>Orthodox</td>\n",
       "      <td>Feb 09, 1987</td>\n",
       "    </tr>\n",
       "    <tr>\n",
       "      <th>3</th>\n",
       "      <td>Henry Cejudo</td>\n",
       "      <td>Wilson Reis</td>\n",
       "      <td>1</td>\n",
       "      <td>0</td>\n",
       "      <td>34 of 58</td>\n",
       "      <td>5 of 25</td>\n",
       "      <td>58</td>\n",
       "      <td>20</td>\n",
       "      <td>39 of 64</td>\n",
       "      <td>5 of 25</td>\n",
       "      <td>...</td>\n",
       "      <td>57</td>\n",
       "      <td>0</td>\n",
       "      <td>8</td>\n",
       "      <td>Wilson Reis</td>\n",
       "      <td>r</td>\n",
       "      <td>5' 4\"</td>\n",
       "      <td>135 lbs.</td>\n",
       "      <td>64\"</td>\n",
       "      <td>Orthodox</td>\n",
       "      <td>Feb 09, 1987</td>\n",
       "    </tr>\n",
       "    <tr>\n",
       "      <th>4</th>\n",
       "      <td>Henry Cejudo</td>\n",
       "      <td>Chico Camus</td>\n",
       "      <td>0</td>\n",
       "      <td>0</td>\n",
       "      <td>62 of 143</td>\n",
       "      <td>48 of 144</td>\n",
       "      <td>43</td>\n",
       "      <td>33</td>\n",
       "      <td>133 of 219</td>\n",
       "      <td>59 of 157</td>\n",
       "      <td>...</td>\n",
       "      <td>0</td>\n",
       "      <td>100</td>\n",
       "      <td>-1</td>\n",
       "      <td>Chico Camus</td>\n",
       "      <td>r</td>\n",
       "      <td>5' 4\"</td>\n",
       "      <td>135 lbs.</td>\n",
       "      <td>64\"</td>\n",
       "      <td>Orthodox</td>\n",
       "      <td>Feb 09, 1987</td>\n",
       "    </tr>\n",
       "  </tbody>\n",
       "</table>\n",
       "<p>5 rows × 125 columns</p>\n",
       "</div>"
      ],
      "text/plain": [
       "      r_fighter      b_fighter  r_kd  b_kd  r_sig_str  b_sig_str  \\\n",
       "0  Henry Cejudo  Marlon Moraes     0     0  90 of 171  57 of 119   \n",
       "1  Henry Cejudo   TJ Dillashaw     1     0   18 of 23     1 of 3   \n",
       "2  Henry Cejudo  Sergio Pettis     0     0   36 of 83   25 of 98   \n",
       "3  Henry Cejudo    Wilson Reis     1     0   34 of 58    5 of 25   \n",
       "4  Henry Cejudo    Chico Camus     0     0  62 of 143  48 of 144   \n",
       "\n",
       "   r_sig_str_pct  b_sig_str_pct r_total_str b_total_str  ... r_ground_pct  \\\n",
       "0             52             47   99 of 182   59 of 121  ...           86   \n",
       "1             78             33    18 of 23      1 of 3  ...           88   \n",
       "2             43             25   85 of 148   38 of 112  ...           70   \n",
       "3             58             20    39 of 64     5 of 25  ...           57   \n",
       "4             43             33  133 of 219   59 of 157  ...            0   \n",
       "\n",
       "  b_ground_pct  ground_diff          loser  r_b_winner  r_height  r_weight  \\\n",
       "0          100           25  Marlon Moraes           r     5' 4\"  135 lbs.   \n",
       "1            0           15   TJ Dillashaw           r     5' 4\"  135 lbs.   \n",
       "2           25           16  Sergio Pettis           r     5' 4\"  135 lbs.   \n",
       "3            0            8    Wilson Reis           r     5' 4\"  135 lbs.   \n",
       "4          100           -1    Chico Camus           r     5' 4\"  135 lbs.   \n",
       "\n",
       "   r_reach  r_stance         r_dob  \n",
       "0      64\"  Orthodox  Feb 09, 1987  \n",
       "1      64\"  Orthodox  Feb 09, 1987  \n",
       "2      64\"  Orthodox  Feb 09, 1987  \n",
       "3      64\"  Orthodox  Feb 09, 1987  \n",
       "4      64\"  Orthodox  Feb 09, 1987  \n",
       "\n",
       "[5 rows x 125 columns]"
      ]
     },
     "execution_count": 75,
     "metadata": {},
     "output_type": "execute_result"
    }
   ],
   "source": [
    "combined.head()"
   ]
  },
  {
   "cell_type": "code",
   "execution_count": 76,
   "metadata": {},
   "outputs": [],
   "source": [
    "c1 = list(combined.columns)"
   ]
  },
  {
   "cell_type": "code",
   "execution_count": 77,
   "metadata": {},
   "outputs": [
    {
     "data": {
      "text/plain": [
       "Index(['fighter_name', 'height', 'weight', 'reach', 'stance', 'dob'], dtype='object')"
      ]
     },
     "execution_count": 77,
     "metadata": {},
     "output_type": "execute_result"
    }
   ],
   "source": [
    "fighters.columns"
   ]
  },
  {
   "cell_type": "code",
   "execution_count": 78,
   "metadata": {},
   "outputs": [
    {
     "data": {
      "text/plain": [
       "Index(['height', 'weight', 'reach', 'stance', 'dob'], dtype='object')"
      ]
     },
     "execution_count": 78,
     "metadata": {},
     "output_type": "execute_result"
    }
   ],
   "source": [
    "fighters.columns[1:]"
   ]
  },
  {
   "cell_type": "code",
   "execution_count": 79,
   "metadata": {},
   "outputs": [],
   "source": [
    "cols_to_rename = list(fighters.columns[1:])"
   ]
  },
  {
   "cell_type": "code",
   "execution_count": 80,
   "metadata": {},
   "outputs": [
    {
     "data": {
      "text/plain": [
       "list"
      ]
     },
     "execution_count": 80,
     "metadata": {},
     "output_type": "execute_result"
    }
   ],
   "source": [
    "type(cols_to_rename)"
   ]
  },
  {
   "cell_type": "code",
   "execution_count": 81,
   "metadata": {},
   "outputs": [
    {
     "data": {
      "text/plain": [
       "['height', 'weight', 'reach', 'stance', 'dob']"
      ]
     },
     "execution_count": 81,
     "metadata": {},
     "output_type": "execute_result"
    }
   ],
   "source": [
    "cols_to_rename"
   ]
  },
  {
   "cell_type": "code",
   "execution_count": 82,
   "metadata": {},
   "outputs": [],
   "source": [
    "def get_column_name_replacements(prefix):\n",
    "    column_name_replacements = {}\n",
    "    for column in cols_to_rename:\n",
    "        column_name_replacements[column] = prefix + column\n",
    "    return column_name_replacements"
   ]
  },
  {
   "cell_type": "code",
   "execution_count": 83,
   "metadata": {},
   "outputs": [
    {
     "data": {
      "text/plain": [
       "{'height': 'r_height',\n",
       " 'weight': 'r_weight',\n",
       " 'reach': 'r_reach',\n",
       " 'stance': 'r_stance',\n",
       " 'dob': 'r_dob'}"
      ]
     },
     "execution_count": 83,
     "metadata": {},
     "output_type": "execute_result"
    }
   ],
   "source": [
    "get_column_name_replacements('r_')"
   ]
  },
  {
   "cell_type": "code",
   "execution_count": 84,
   "metadata": {},
   "outputs": [],
   "source": [
    "# Now remake combined and don't manually rename columns\n",
    "combined = pd.merge(fights, fighters, left_on='r_fighter', right_on='fighter_name')\n",
    "combined = combined.drop('fighter_name', axis=1)\n",
    "combined = combined.rename(columns=get_column_name_replacements('r_'))"
   ]
  },
  {
   "cell_type": "code",
   "execution_count": 85,
   "metadata": {},
   "outputs": [],
   "source": [
    "c2 = list(combined.columns)"
   ]
  },
  {
   "cell_type": "code",
   "execution_count": 86,
   "metadata": {},
   "outputs": [
    {
     "data": {
      "text/plain": [
       "True"
      ]
     },
     "execution_count": 86,
     "metadata": {},
     "output_type": "execute_result"
    }
   ],
   "source": [
    "c2 == c1"
   ]
  },
  {
   "cell_type": "code",
   "execution_count": 87,
   "metadata": {},
   "outputs": [],
   "source": [
    "#Now do the same with blue"
   ]
  },
  {
   "cell_type": "code",
   "execution_count": 88,
   "metadata": {},
   "outputs": [],
   "source": [
    "combined = pd.merge(combined, fighters, left_on='b_fighter', right_on='fighter_name')"
   ]
  },
  {
   "cell_type": "code",
   "execution_count": 89,
   "metadata": {},
   "outputs": [
    {
     "data": {
      "text/html": [
       "<div>\n",
       "<style scoped>\n",
       "    .dataframe tbody tr th:only-of-type {\n",
       "        vertical-align: middle;\n",
       "    }\n",
       "\n",
       "    .dataframe tbody tr th {\n",
       "        vertical-align: top;\n",
       "    }\n",
       "\n",
       "    .dataframe thead th {\n",
       "        text-align: right;\n",
       "    }\n",
       "</style>\n",
       "<table border=\"1\" class=\"dataframe\">\n",
       "  <thead>\n",
       "    <tr style=\"text-align: right;\">\n",
       "      <th></th>\n",
       "      <th>r_fighter</th>\n",
       "      <th>b_fighter</th>\n",
       "      <th>r_kd</th>\n",
       "      <th>b_kd</th>\n",
       "      <th>r_sig_str</th>\n",
       "      <th>b_sig_str</th>\n",
       "      <th>r_sig_str_pct</th>\n",
       "      <th>b_sig_str_pct</th>\n",
       "      <th>r_total_str</th>\n",
       "      <th>b_total_str</th>\n",
       "      <th>...</th>\n",
       "      <th>r_weight</th>\n",
       "      <th>r_reach</th>\n",
       "      <th>r_stance</th>\n",
       "      <th>r_dob</th>\n",
       "      <th>fighter_name</th>\n",
       "      <th>height</th>\n",
       "      <th>weight</th>\n",
       "      <th>reach</th>\n",
       "      <th>stance</th>\n",
       "      <th>dob</th>\n",
       "    </tr>\n",
       "  </thead>\n",
       "  <tbody>\n",
       "    <tr>\n",
       "      <th>0</th>\n",
       "      <td>Henry Cejudo</td>\n",
       "      <td>Marlon Moraes</td>\n",
       "      <td>0</td>\n",
       "      <td>0</td>\n",
       "      <td>90 of 171</td>\n",
       "      <td>57 of 119</td>\n",
       "      <td>52</td>\n",
       "      <td>47</td>\n",
       "      <td>99 of 182</td>\n",
       "      <td>59 of 121</td>\n",
       "      <td>...</td>\n",
       "      <td>135 lbs.</td>\n",
       "      <td>64\"</td>\n",
       "      <td>Orthodox</td>\n",
       "      <td>Feb 09, 1987</td>\n",
       "      <td>Marlon Moraes</td>\n",
       "      <td>5' 6\"</td>\n",
       "      <td>135 lbs.</td>\n",
       "      <td>67\"</td>\n",
       "      <td>Orthodox</td>\n",
       "      <td>Apr 26, 1988</td>\n",
       "    </tr>\n",
       "    <tr>\n",
       "      <th>1</th>\n",
       "      <td>Jimmie Rivera</td>\n",
       "      <td>Marlon Moraes</td>\n",
       "      <td>0</td>\n",
       "      <td>1</td>\n",
       "      <td>0 of 3</td>\n",
       "      <td>7 of 9</td>\n",
       "      <td>0</td>\n",
       "      <td>77</td>\n",
       "      <td>0 of 3</td>\n",
       "      <td>7 of 9</td>\n",
       "      <td>...</td>\n",
       "      <td>135 lbs.</td>\n",
       "      <td>68\"</td>\n",
       "      <td>Orthodox</td>\n",
       "      <td>Jun 29, 1989</td>\n",
       "      <td>Marlon Moraes</td>\n",
       "      <td>5' 6\"</td>\n",
       "      <td>135 lbs.</td>\n",
       "      <td>67\"</td>\n",
       "      <td>Orthodox</td>\n",
       "      <td>Apr 26, 1988</td>\n",
       "    </tr>\n",
       "    <tr>\n",
       "      <th>2</th>\n",
       "      <td>John Dodson</td>\n",
       "      <td>Marlon Moraes</td>\n",
       "      <td>1</td>\n",
       "      <td>0</td>\n",
       "      <td>43 of 105</td>\n",
       "      <td>45 of 131</td>\n",
       "      <td>40</td>\n",
       "      <td>34</td>\n",
       "      <td>47 of 109</td>\n",
       "      <td>45 of 131</td>\n",
       "      <td>...</td>\n",
       "      <td>135 lbs.</td>\n",
       "      <td>66\"</td>\n",
       "      <td>Orthodox</td>\n",
       "      <td>Sep 26, 1984</td>\n",
       "      <td>Marlon Moraes</td>\n",
       "      <td>5' 6\"</td>\n",
       "      <td>135 lbs.</td>\n",
       "      <td>67\"</td>\n",
       "      <td>Orthodox</td>\n",
       "      <td>Apr 26, 1988</td>\n",
       "    </tr>\n",
       "    <tr>\n",
       "      <th>3</th>\n",
       "      <td>Raphael Assuncao</td>\n",
       "      <td>Marlon Moraes</td>\n",
       "      <td>0</td>\n",
       "      <td>1</td>\n",
       "      <td>2 of 12</td>\n",
       "      <td>10 of 23</td>\n",
       "      <td>16</td>\n",
       "      <td>43</td>\n",
       "      <td>3 of 13</td>\n",
       "      <td>12 of 25</td>\n",
       "      <td>...</td>\n",
       "      <td>135 lbs.</td>\n",
       "      <td>66\"</td>\n",
       "      <td>Orthodox</td>\n",
       "      <td>Jul 19, 1982</td>\n",
       "      <td>Marlon Moraes</td>\n",
       "      <td>5' 6\"</td>\n",
       "      <td>135 lbs.</td>\n",
       "      <td>67\"</td>\n",
       "      <td>Orthodox</td>\n",
       "      <td>Apr 26, 1988</td>\n",
       "    </tr>\n",
       "    <tr>\n",
       "      <th>4</th>\n",
       "      <td>Raphael Assuncao</td>\n",
       "      <td>Marlon Moraes</td>\n",
       "      <td>0</td>\n",
       "      <td>0</td>\n",
       "      <td>43 of 134</td>\n",
       "      <td>44 of 150</td>\n",
       "      <td>32</td>\n",
       "      <td>29</td>\n",
       "      <td>43 of 134</td>\n",
       "      <td>44 of 150</td>\n",
       "      <td>...</td>\n",
       "      <td>135 lbs.</td>\n",
       "      <td>66\"</td>\n",
       "      <td>Orthodox</td>\n",
       "      <td>Jul 19, 1982</td>\n",
       "      <td>Marlon Moraes</td>\n",
       "      <td>5' 6\"</td>\n",
       "      <td>135 lbs.</td>\n",
       "      <td>67\"</td>\n",
       "      <td>Orthodox</td>\n",
       "      <td>Apr 26, 1988</td>\n",
       "    </tr>\n",
       "  </tbody>\n",
       "</table>\n",
       "<p>5 rows × 131 columns</p>\n",
       "</div>"
      ],
      "text/plain": [
       "          r_fighter      b_fighter  r_kd  b_kd  r_sig_str  b_sig_str  \\\n",
       "0      Henry Cejudo  Marlon Moraes     0     0  90 of 171  57 of 119   \n",
       "1     Jimmie Rivera  Marlon Moraes     0     1     0 of 3     7 of 9   \n",
       "2       John Dodson  Marlon Moraes     1     0  43 of 105  45 of 131   \n",
       "3  Raphael Assuncao  Marlon Moraes     0     1    2 of 12   10 of 23   \n",
       "4  Raphael Assuncao  Marlon Moraes     0     0  43 of 134  44 of 150   \n",
       "\n",
       "   r_sig_str_pct  b_sig_str_pct r_total_str b_total_str  ...  r_weight  \\\n",
       "0             52             47   99 of 182   59 of 121  ...  135 lbs.   \n",
       "1              0             77      0 of 3      7 of 9  ...  135 lbs.   \n",
       "2             40             34   47 of 109   45 of 131  ...  135 lbs.   \n",
       "3             16             43     3 of 13    12 of 25  ...  135 lbs.   \n",
       "4             32             29   43 of 134   44 of 150  ...  135 lbs.   \n",
       "\n",
       "  r_reach  r_stance         r_dob   fighter_name  height    weight  reach  \\\n",
       "0     64\"  Orthodox  Feb 09, 1987  Marlon Moraes   5' 6\"  135 lbs.    67\"   \n",
       "1     68\"  Orthodox  Jun 29, 1989  Marlon Moraes   5' 6\"  135 lbs.    67\"   \n",
       "2     66\"  Orthodox  Sep 26, 1984  Marlon Moraes   5' 6\"  135 lbs.    67\"   \n",
       "3     66\"  Orthodox  Jul 19, 1982  Marlon Moraes   5' 6\"  135 lbs.    67\"   \n",
       "4     66\"  Orthodox  Jul 19, 1982  Marlon Moraes   5' 6\"  135 lbs.    67\"   \n",
       "\n",
       "     stance           dob  \n",
       "0  Orthodox  Apr 26, 1988  \n",
       "1  Orthodox  Apr 26, 1988  \n",
       "2  Orthodox  Apr 26, 1988  \n",
       "3  Orthodox  Apr 26, 1988  \n",
       "4  Orthodox  Apr 26, 1988  \n",
       "\n",
       "[5 rows x 131 columns]"
      ]
     },
     "execution_count": 89,
     "metadata": {},
     "output_type": "execute_result"
    }
   ],
   "source": [
    "combined.head()"
   ]
  },
  {
   "cell_type": "code",
   "execution_count": 90,
   "metadata": {},
   "outputs": [],
   "source": [
    "combined = combined.drop('fighter_name', axis=1)\n",
    "combined = combined.rename(columns=get_column_name_replacements('b_'))"
   ]
  },
  {
   "cell_type": "code",
   "execution_count": 91,
   "metadata": {},
   "outputs": [
    {
     "data": {
      "text/html": [
       "<div>\n",
       "<style scoped>\n",
       "    .dataframe tbody tr th:only-of-type {\n",
       "        vertical-align: middle;\n",
       "    }\n",
       "\n",
       "    .dataframe tbody tr th {\n",
       "        vertical-align: top;\n",
       "    }\n",
       "\n",
       "    .dataframe thead th {\n",
       "        text-align: right;\n",
       "    }\n",
       "</style>\n",
       "<table border=\"1\" class=\"dataframe\">\n",
       "  <thead>\n",
       "    <tr style=\"text-align: right;\">\n",
       "      <th></th>\n",
       "      <th>r_fighter</th>\n",
       "      <th>b_fighter</th>\n",
       "      <th>r_kd</th>\n",
       "      <th>b_kd</th>\n",
       "      <th>r_sig_str</th>\n",
       "      <th>b_sig_str</th>\n",
       "      <th>r_sig_str_pct</th>\n",
       "      <th>b_sig_str_pct</th>\n",
       "      <th>r_total_str</th>\n",
       "      <th>b_total_str</th>\n",
       "      <th>...</th>\n",
       "      <th>r_height</th>\n",
       "      <th>r_weight</th>\n",
       "      <th>r_reach</th>\n",
       "      <th>r_stance</th>\n",
       "      <th>r_dob</th>\n",
       "      <th>b_height</th>\n",
       "      <th>b_weight</th>\n",
       "      <th>b_reach</th>\n",
       "      <th>b_stance</th>\n",
       "      <th>b_dob</th>\n",
       "    </tr>\n",
       "  </thead>\n",
       "  <tbody>\n",
       "    <tr>\n",
       "      <th>0</th>\n",
       "      <td>Henry Cejudo</td>\n",
       "      <td>Marlon Moraes</td>\n",
       "      <td>0</td>\n",
       "      <td>0</td>\n",
       "      <td>90 of 171</td>\n",
       "      <td>57 of 119</td>\n",
       "      <td>52</td>\n",
       "      <td>47</td>\n",
       "      <td>99 of 182</td>\n",
       "      <td>59 of 121</td>\n",
       "      <td>...</td>\n",
       "      <td>5' 4\"</td>\n",
       "      <td>135 lbs.</td>\n",
       "      <td>64\"</td>\n",
       "      <td>Orthodox</td>\n",
       "      <td>Feb 09, 1987</td>\n",
       "      <td>5' 6\"</td>\n",
       "      <td>135 lbs.</td>\n",
       "      <td>67\"</td>\n",
       "      <td>Orthodox</td>\n",
       "      <td>Apr 26, 1988</td>\n",
       "    </tr>\n",
       "    <tr>\n",
       "      <th>1</th>\n",
       "      <td>Jimmie Rivera</td>\n",
       "      <td>Marlon Moraes</td>\n",
       "      <td>0</td>\n",
       "      <td>1</td>\n",
       "      <td>0 of 3</td>\n",
       "      <td>7 of 9</td>\n",
       "      <td>0</td>\n",
       "      <td>77</td>\n",
       "      <td>0 of 3</td>\n",
       "      <td>7 of 9</td>\n",
       "      <td>...</td>\n",
       "      <td>5' 4\"</td>\n",
       "      <td>135 lbs.</td>\n",
       "      <td>68\"</td>\n",
       "      <td>Orthodox</td>\n",
       "      <td>Jun 29, 1989</td>\n",
       "      <td>5' 6\"</td>\n",
       "      <td>135 lbs.</td>\n",
       "      <td>67\"</td>\n",
       "      <td>Orthodox</td>\n",
       "      <td>Apr 26, 1988</td>\n",
       "    </tr>\n",
       "    <tr>\n",
       "      <th>2</th>\n",
       "      <td>John Dodson</td>\n",
       "      <td>Marlon Moraes</td>\n",
       "      <td>1</td>\n",
       "      <td>0</td>\n",
       "      <td>43 of 105</td>\n",
       "      <td>45 of 131</td>\n",
       "      <td>40</td>\n",
       "      <td>34</td>\n",
       "      <td>47 of 109</td>\n",
       "      <td>45 of 131</td>\n",
       "      <td>...</td>\n",
       "      <td>5' 3\"</td>\n",
       "      <td>135 lbs.</td>\n",
       "      <td>66\"</td>\n",
       "      <td>Orthodox</td>\n",
       "      <td>Sep 26, 1984</td>\n",
       "      <td>5' 6\"</td>\n",
       "      <td>135 lbs.</td>\n",
       "      <td>67\"</td>\n",
       "      <td>Orthodox</td>\n",
       "      <td>Apr 26, 1988</td>\n",
       "    </tr>\n",
       "    <tr>\n",
       "      <th>3</th>\n",
       "      <td>Raphael Assuncao</td>\n",
       "      <td>Marlon Moraes</td>\n",
       "      <td>0</td>\n",
       "      <td>1</td>\n",
       "      <td>2 of 12</td>\n",
       "      <td>10 of 23</td>\n",
       "      <td>16</td>\n",
       "      <td>43</td>\n",
       "      <td>3 of 13</td>\n",
       "      <td>12 of 25</td>\n",
       "      <td>...</td>\n",
       "      <td>5' 5\"</td>\n",
       "      <td>135 lbs.</td>\n",
       "      <td>66\"</td>\n",
       "      <td>Orthodox</td>\n",
       "      <td>Jul 19, 1982</td>\n",
       "      <td>5' 6\"</td>\n",
       "      <td>135 lbs.</td>\n",
       "      <td>67\"</td>\n",
       "      <td>Orthodox</td>\n",
       "      <td>Apr 26, 1988</td>\n",
       "    </tr>\n",
       "    <tr>\n",
       "      <th>4</th>\n",
       "      <td>Raphael Assuncao</td>\n",
       "      <td>Marlon Moraes</td>\n",
       "      <td>0</td>\n",
       "      <td>0</td>\n",
       "      <td>43 of 134</td>\n",
       "      <td>44 of 150</td>\n",
       "      <td>32</td>\n",
       "      <td>29</td>\n",
       "      <td>43 of 134</td>\n",
       "      <td>44 of 150</td>\n",
       "      <td>...</td>\n",
       "      <td>5' 5\"</td>\n",
       "      <td>135 lbs.</td>\n",
       "      <td>66\"</td>\n",
       "      <td>Orthodox</td>\n",
       "      <td>Jul 19, 1982</td>\n",
       "      <td>5' 6\"</td>\n",
       "      <td>135 lbs.</td>\n",
       "      <td>67\"</td>\n",
       "      <td>Orthodox</td>\n",
       "      <td>Apr 26, 1988</td>\n",
       "    </tr>\n",
       "  </tbody>\n",
       "</table>\n",
       "<p>5 rows × 130 columns</p>\n",
       "</div>"
      ],
      "text/plain": [
       "          r_fighter      b_fighter  r_kd  b_kd  r_sig_str  b_sig_str  \\\n",
       "0      Henry Cejudo  Marlon Moraes     0     0  90 of 171  57 of 119   \n",
       "1     Jimmie Rivera  Marlon Moraes     0     1     0 of 3     7 of 9   \n",
       "2       John Dodson  Marlon Moraes     1     0  43 of 105  45 of 131   \n",
       "3  Raphael Assuncao  Marlon Moraes     0     1    2 of 12   10 of 23   \n",
       "4  Raphael Assuncao  Marlon Moraes     0     0  43 of 134  44 of 150   \n",
       "\n",
       "   r_sig_str_pct  b_sig_str_pct r_total_str b_total_str  ... r_height  \\\n",
       "0             52             47   99 of 182   59 of 121  ...    5' 4\"   \n",
       "1              0             77      0 of 3      7 of 9  ...    5' 4\"   \n",
       "2             40             34   47 of 109   45 of 131  ...    5' 3\"   \n",
       "3             16             43     3 of 13    12 of 25  ...    5' 5\"   \n",
       "4             32             29   43 of 134   44 of 150  ...    5' 5\"   \n",
       "\n",
       "   r_weight  r_reach  r_stance         r_dob  b_height  b_weight  b_reach  \\\n",
       "0  135 lbs.      64\"  Orthodox  Feb 09, 1987     5' 6\"  135 lbs.      67\"   \n",
       "1  135 lbs.      68\"  Orthodox  Jun 29, 1989     5' 6\"  135 lbs.      67\"   \n",
       "2  135 lbs.      66\"  Orthodox  Sep 26, 1984     5' 6\"  135 lbs.      67\"   \n",
       "3  135 lbs.      66\"  Orthodox  Jul 19, 1982     5' 6\"  135 lbs.      67\"   \n",
       "4  135 lbs.      66\"  Orthodox  Jul 19, 1982     5' 6\"  135 lbs.      67\"   \n",
       "\n",
       "   b_stance         b_dob  \n",
       "0  Orthodox  Apr 26, 1988  \n",
       "1  Orthodox  Apr 26, 1988  \n",
       "2  Orthodox  Apr 26, 1988  \n",
       "3  Orthodox  Apr 26, 1988  \n",
       "4  Orthodox  Apr 26, 1988  \n",
       "\n",
       "[5 rows x 130 columns]"
      ]
     },
     "execution_count": 91,
     "metadata": {},
     "output_type": "execute_result"
    }
   ],
   "source": [
    "combined.head()"
   ]
  },
  {
   "cell_type": "code",
   "execution_count": 92,
   "metadata": {},
   "outputs": [
    {
     "data": {
      "text/plain": [
       "Index(['r_fighter', 'b_fighter', 'r_kd', 'b_kd', 'r_sig_str', 'b_sig_str',\n",
       "       'r_sig_str_pct', 'b_sig_str_pct', 'r_total_str', 'b_total_str',\n",
       "       ...\n",
       "       'r_height', 'r_weight', 'r_reach', 'r_stance', 'r_dob', 'b_height',\n",
       "       'b_weight', 'b_reach', 'b_stance', 'b_dob'],\n",
       "      dtype='object', length=130)"
      ]
     },
     "execution_count": 92,
     "metadata": {},
     "output_type": "execute_result"
    }
   ],
   "source": [
    "combined.columns"
   ]
  },
  {
   "cell_type": "code",
   "execution_count": 93,
   "metadata": {},
   "outputs": [],
   "source": [
    "# Now, convert dates and add and r_age and b_age column.\n",
    "# We also need to do something with the missing dates."
   ]
  },
  {
   "cell_type": "code",
   "execution_count": 94,
   "metadata": {},
   "outputs": [
    {
     "ename": "ParserError",
     "evalue": "String does not contain a date: ",
     "output_type": "error",
     "traceback": [
      "\u001b[1;31m---------------------------------------------------------------------------\u001b[0m",
      "\u001b[1;31mParserError\u001b[0m                               Traceback (most recent call last)",
      "\u001b[1;32m<ipython-input-94-b68b2d8038f2>\u001b[0m in \u001b[0;36m<module>\u001b[1;34m\u001b[0m\n\u001b[1;32m----> 1\u001b[1;33m \u001b[0mparser\u001b[0m\u001b[1;33m.\u001b[0m\u001b[0mparse\u001b[0m\u001b[1;33m(\u001b[0m\u001b[1;34m\"\"\u001b[0m\u001b[1;33m)\u001b[0m\u001b[1;33m\u001b[0m\u001b[1;33m\u001b[0m\u001b[0m\n\u001b[0m",
      "\u001b[1;32m~\\anaconda3\\lib\\site-packages\\dateutil\\parser\\_parser.py\u001b[0m in \u001b[0;36mparse\u001b[1;34m(timestr, parserinfo, **kwargs)\u001b[0m\n\u001b[0;32m   1372\u001b[0m         \u001b[1;32mreturn\u001b[0m \u001b[0mparser\u001b[0m\u001b[1;33m(\u001b[0m\u001b[0mparserinfo\u001b[0m\u001b[1;33m)\u001b[0m\u001b[1;33m.\u001b[0m\u001b[0mparse\u001b[0m\u001b[1;33m(\u001b[0m\u001b[0mtimestr\u001b[0m\u001b[1;33m,\u001b[0m \u001b[1;33m**\u001b[0m\u001b[0mkwargs\u001b[0m\u001b[1;33m)\u001b[0m\u001b[1;33m\u001b[0m\u001b[1;33m\u001b[0m\u001b[0m\n\u001b[0;32m   1373\u001b[0m     \u001b[1;32melse\u001b[0m\u001b[1;33m:\u001b[0m\u001b[1;33m\u001b[0m\u001b[1;33m\u001b[0m\u001b[0m\n\u001b[1;32m-> 1374\u001b[1;33m         \u001b[1;32mreturn\u001b[0m \u001b[0mDEFAULTPARSER\u001b[0m\u001b[1;33m.\u001b[0m\u001b[0mparse\u001b[0m\u001b[1;33m(\u001b[0m\u001b[0mtimestr\u001b[0m\u001b[1;33m,\u001b[0m \u001b[1;33m**\u001b[0m\u001b[0mkwargs\u001b[0m\u001b[1;33m)\u001b[0m\u001b[1;33m\u001b[0m\u001b[1;33m\u001b[0m\u001b[0m\n\u001b[0m\u001b[0;32m   1375\u001b[0m \u001b[1;33m\u001b[0m\u001b[0m\n\u001b[0;32m   1376\u001b[0m \u001b[1;33m\u001b[0m\u001b[0m\n",
      "\u001b[1;32m~\\anaconda3\\lib\\site-packages\\dateutil\\parser\\_parser.py\u001b[0m in \u001b[0;36mparse\u001b[1;34m(self, timestr, default, ignoretz, tzinfos, **kwargs)\u001b[0m\n\u001b[0;32m    650\u001b[0m \u001b[1;33m\u001b[0m\u001b[0m\n\u001b[0;32m    651\u001b[0m         \u001b[1;32mif\u001b[0m \u001b[0mlen\u001b[0m\u001b[1;33m(\u001b[0m\u001b[0mres\u001b[0m\u001b[1;33m)\u001b[0m \u001b[1;33m==\u001b[0m \u001b[1;36m0\u001b[0m\u001b[1;33m:\u001b[0m\u001b[1;33m\u001b[0m\u001b[1;33m\u001b[0m\u001b[0m\n\u001b[1;32m--> 652\u001b[1;33m             \u001b[1;32mraise\u001b[0m \u001b[0mParserError\u001b[0m\u001b[1;33m(\u001b[0m\u001b[1;34m\"String does not contain a date: %s\"\u001b[0m\u001b[1;33m,\u001b[0m \u001b[0mtimestr\u001b[0m\u001b[1;33m)\u001b[0m\u001b[1;33m\u001b[0m\u001b[1;33m\u001b[0m\u001b[0m\n\u001b[0m\u001b[0;32m    653\u001b[0m \u001b[1;33m\u001b[0m\u001b[0m\n\u001b[0;32m    654\u001b[0m         \u001b[1;32mtry\u001b[0m\u001b[1;33m:\u001b[0m\u001b[1;33m\u001b[0m\u001b[1;33m\u001b[0m\u001b[0m\n",
      "\u001b[1;31mParserError\u001b[0m: String does not contain a date: "
     ]
    }
   ],
   "source": [
    "parser.parse(\"\")"
   ]
  },
  {
   "cell_type": "code",
   "execution_count": 95,
   "metadata": {},
   "outputs": [],
   "source": [
    "# We'll have trouble trying to convert an empty date cell into a datetime.\n",
    "# But even if we handle the exception in the .apply(), we'll still have some blank entries."
   ]
  },
  {
   "cell_type": "code",
   "execution_count": 96,
   "metadata": {},
   "outputs": [
    {
     "data": {
      "text/plain": [
       "(63, 130)"
      ]
     },
     "execution_count": 96,
     "metadata": {},
     "output_type": "execute_result"
    }
   ],
   "source": [
    "combined[combined.r_dob.isnull()].shape"
   ]
  },
  {
   "cell_type": "code",
   "execution_count": 97,
   "metadata": {},
   "outputs": [
    {
     "data": {
      "text/plain": [
       "(172, 130)"
      ]
     },
     "execution_count": 97,
     "metadata": {},
     "output_type": "execute_result"
    }
   ],
   "source": [
    "combined[combined.b_dob.isnull()].shape"
   ]
  },
  {
   "cell_type": "code",
   "execution_count": 98,
   "metadata": {},
   "outputs": [],
   "source": [
    "# Still getting 63 and 172, so the earlier analysis seems correct."
   ]
  },
  {
   "cell_type": "code",
   "execution_count": 99,
   "metadata": {},
   "outputs": [
    {
     "data": {
      "text/plain": [
       "(5143, 130)"
      ]
     },
     "execution_count": 99,
     "metadata": {},
     "output_type": "execute_result"
    }
   ],
   "source": [
    "combined.shape"
   ]
  },
  {
   "cell_type": "code",
   "execution_count": 100,
   "metadata": {},
   "outputs": [
    {
     "data": {
      "text/plain": [
       "0.01224965973167412"
      ]
     },
     "execution_count": 100,
     "metadata": {},
     "output_type": "execute_result"
    }
   ],
   "source": [
    "combined[combined.r_dob.isnull()].shape[0] / combined.shape[0]"
   ]
  },
  {
   "cell_type": "code",
   "execution_count": 101,
   "metadata": {},
   "outputs": [
    {
     "data": {
      "text/plain": [
       "0.033443515457903944"
      ]
     },
     "execution_count": 101,
     "metadata": {},
     "output_type": "execute_result"
    }
   ],
   "source": [
    "combined[combined.b_dob.isnull()].shape[0] / combined.shape[0]"
   ]
  },
  {
   "cell_type": "code",
   "execution_count": 102,
   "metadata": {},
   "outputs": [],
   "source": [
    "# 1.2% and 3.3% respectively.  It is fine to just drop these?  That seems easiest.  There is a possbility of some bias, but for now, let's try that."
   ]
  },
  {
   "cell_type": "code",
   "execution_count": 103,
   "metadata": {},
   "outputs": [],
   "source": [
    "all_combined = combined"
   ]
  },
  {
   "cell_type": "code",
   "execution_count": 104,
   "metadata": {},
   "outputs": [],
   "source": [
    "combined = combined[combined.r_dob.isnull() == False]\n",
    "combined = combined[combined.b_dob.isnull() == False]"
   ]
  },
  {
   "cell_type": "code",
   "execution_count": 105,
   "metadata": {},
   "outputs": [
    {
     "data": {
      "text/plain": [
       "(4948, 130)"
      ]
     },
     "execution_count": 105,
     "metadata": {},
     "output_type": "execute_result"
    }
   ],
   "source": [
    "combined.shape"
   ]
  },
  {
   "cell_type": "code",
   "execution_count": 106,
   "metadata": {},
   "outputs": [
    {
     "data": {
      "text/plain": [
       "(5143, 130)"
      ]
     },
     "execution_count": 106,
     "metadata": {},
     "output_type": "execute_result"
    }
   ],
   "source": [
    "all_combined.shape"
   ]
  },
  {
   "cell_type": "code",
   "execution_count": 107,
   "metadata": {},
   "outputs": [
    {
     "data": {
      "text/plain": [
       "195"
      ]
     },
     "execution_count": 107,
     "metadata": {},
     "output_type": "execute_result"
    }
   ],
   "source": [
    "all_combined.shape[0] - combined.shape[0]"
   ]
  },
  {
   "cell_type": "code",
   "execution_count": 108,
   "metadata": {},
   "outputs": [],
   "source": [
    "# looks like a few rows had two blanks, so the total loss was less than 63 + 172 = 235"
   ]
  },
  {
   "cell_type": "code",
   "execution_count": 109,
   "metadata": {},
   "outputs": [
    {
     "data": {
      "text/plain": [
       "0.0379156134551818"
      ]
     },
     "execution_count": 109,
     "metadata": {},
     "output_type": "execute_result"
    }
   ],
   "source": [
    "(all_combined.shape[0] - combined.shape[0]) / all_combined.shape[0]"
   ]
  },
  {
   "cell_type": "code",
   "execution_count": 110,
   "metadata": {},
   "outputs": [],
   "source": [
    "# lost about 3.8%"
   ]
  },
  {
   "cell_type": "code",
   "execution_count": 111,
   "metadata": {},
   "outputs": [
    {
     "data": {
      "text/plain": [
       "dtype('O')"
      ]
     },
     "execution_count": 111,
     "metadata": {},
     "output_type": "execute_result"
    }
   ],
   "source": [
    "combined.date.dtype"
   ]
  },
  {
   "cell_type": "code",
   "execution_count": 112,
   "metadata": {},
   "outputs": [],
   "source": [
    "combined.date = combined.date.apply(lambda d: parser.parse(d))"
   ]
  },
  {
   "cell_type": "code",
   "execution_count": 113,
   "metadata": {},
   "outputs": [
    {
     "data": {
      "text/plain": [
       "dtype('<M8[ns]')"
      ]
     },
     "execution_count": 113,
     "metadata": {},
     "output_type": "execute_result"
    }
   ],
   "source": [
    "combined.date.dtype"
   ]
  },
  {
   "cell_type": "code",
   "execution_count": 114,
   "metadata": {},
   "outputs": [
    {
     "data": {
      "text/plain": [
       "pandas._libs.tslibs.timestamps.Timestamp"
      ]
     },
     "execution_count": 114,
     "metadata": {},
     "output_type": "execute_result"
    }
   ],
   "source": [
    "type(combined.date.iloc[0])"
   ]
  },
  {
   "cell_type": "code",
   "execution_count": 115,
   "metadata": {},
   "outputs": [],
   "source": [
    "combined.r_dob = combined.r_dob.apply(lambda d: parser.parse(d))"
   ]
  },
  {
   "cell_type": "code",
   "execution_count": 116,
   "metadata": {},
   "outputs": [],
   "source": [
    "combined.b_dob = combined.b_dob.apply(lambda d: parser.parse(d))"
   ]
  },
  {
   "cell_type": "code",
   "execution_count": 117,
   "metadata": {},
   "outputs": [
    {
     "data": {
      "text/plain": [
       "32.347945205479455"
      ]
     },
     "execution_count": 117,
     "metadata": {},
     "output_type": "execute_result"
    }
   ],
   "source": [
    "(combined.iloc[0].date - combined.iloc[0].r_dob).days / 365"
   ]
  },
  {
   "cell_type": "code",
   "execution_count": 118,
   "metadata": {},
   "outputs": [
    {
     "data": {
      "text/html": [
       "<div>\n",
       "<style scoped>\n",
       "    .dataframe tbody tr th:only-of-type {\n",
       "        vertical-align: middle;\n",
       "    }\n",
       "\n",
       "    .dataframe tbody tr th {\n",
       "        vertical-align: top;\n",
       "    }\n",
       "\n",
       "    .dataframe thead th {\n",
       "        text-align: right;\n",
       "    }\n",
       "</style>\n",
       "<table border=\"1\" class=\"dataframe\">\n",
       "  <thead>\n",
       "    <tr style=\"text-align: right;\">\n",
       "      <th></th>\n",
       "      <th>r_fighter</th>\n",
       "      <th>b_fighter</th>\n",
       "      <th>r_kd</th>\n",
       "      <th>b_kd</th>\n",
       "      <th>r_sig_str</th>\n",
       "      <th>b_sig_str</th>\n",
       "      <th>r_sig_str_pct</th>\n",
       "      <th>b_sig_str_pct</th>\n",
       "      <th>r_total_str</th>\n",
       "      <th>b_total_str</th>\n",
       "      <th>...</th>\n",
       "      <th>r_height</th>\n",
       "      <th>r_weight</th>\n",
       "      <th>r_reach</th>\n",
       "      <th>r_stance</th>\n",
       "      <th>r_dob</th>\n",
       "      <th>b_height</th>\n",
       "      <th>b_weight</th>\n",
       "      <th>b_reach</th>\n",
       "      <th>b_stance</th>\n",
       "      <th>b_dob</th>\n",
       "    </tr>\n",
       "  </thead>\n",
       "  <tbody>\n",
       "    <tr>\n",
       "      <th>0</th>\n",
       "      <td>Henry Cejudo</td>\n",
       "      <td>Marlon Moraes</td>\n",
       "      <td>0</td>\n",
       "      <td>0</td>\n",
       "      <td>90 of 171</td>\n",
       "      <td>57 of 119</td>\n",
       "      <td>52</td>\n",
       "      <td>47</td>\n",
       "      <td>99 of 182</td>\n",
       "      <td>59 of 121</td>\n",
       "      <td>...</td>\n",
       "      <td>5' 4\"</td>\n",
       "      <td>135 lbs.</td>\n",
       "      <td>64\"</td>\n",
       "      <td>Orthodox</td>\n",
       "      <td>1987-02-09</td>\n",
       "      <td>5' 6\"</td>\n",
       "      <td>135 lbs.</td>\n",
       "      <td>67\"</td>\n",
       "      <td>Orthodox</td>\n",
       "      <td>1988-04-26</td>\n",
       "    </tr>\n",
       "    <tr>\n",
       "      <th>1</th>\n",
       "      <td>Jimmie Rivera</td>\n",
       "      <td>Marlon Moraes</td>\n",
       "      <td>0</td>\n",
       "      <td>1</td>\n",
       "      <td>0 of 3</td>\n",
       "      <td>7 of 9</td>\n",
       "      <td>0</td>\n",
       "      <td>77</td>\n",
       "      <td>0 of 3</td>\n",
       "      <td>7 of 9</td>\n",
       "      <td>...</td>\n",
       "      <td>5' 4\"</td>\n",
       "      <td>135 lbs.</td>\n",
       "      <td>68\"</td>\n",
       "      <td>Orthodox</td>\n",
       "      <td>1989-06-29</td>\n",
       "      <td>5' 6\"</td>\n",
       "      <td>135 lbs.</td>\n",
       "      <td>67\"</td>\n",
       "      <td>Orthodox</td>\n",
       "      <td>1988-04-26</td>\n",
       "    </tr>\n",
       "    <tr>\n",
       "      <th>2</th>\n",
       "      <td>John Dodson</td>\n",
       "      <td>Marlon Moraes</td>\n",
       "      <td>1</td>\n",
       "      <td>0</td>\n",
       "      <td>43 of 105</td>\n",
       "      <td>45 of 131</td>\n",
       "      <td>40</td>\n",
       "      <td>34</td>\n",
       "      <td>47 of 109</td>\n",
       "      <td>45 of 131</td>\n",
       "      <td>...</td>\n",
       "      <td>5' 3\"</td>\n",
       "      <td>135 lbs.</td>\n",
       "      <td>66\"</td>\n",
       "      <td>Orthodox</td>\n",
       "      <td>1984-09-26</td>\n",
       "      <td>5' 6\"</td>\n",
       "      <td>135 lbs.</td>\n",
       "      <td>67\"</td>\n",
       "      <td>Orthodox</td>\n",
       "      <td>1988-04-26</td>\n",
       "    </tr>\n",
       "    <tr>\n",
       "      <th>3</th>\n",
       "      <td>Raphael Assuncao</td>\n",
       "      <td>Marlon Moraes</td>\n",
       "      <td>0</td>\n",
       "      <td>1</td>\n",
       "      <td>2 of 12</td>\n",
       "      <td>10 of 23</td>\n",
       "      <td>16</td>\n",
       "      <td>43</td>\n",
       "      <td>3 of 13</td>\n",
       "      <td>12 of 25</td>\n",
       "      <td>...</td>\n",
       "      <td>5' 5\"</td>\n",
       "      <td>135 lbs.</td>\n",
       "      <td>66\"</td>\n",
       "      <td>Orthodox</td>\n",
       "      <td>1982-07-19</td>\n",
       "      <td>5' 6\"</td>\n",
       "      <td>135 lbs.</td>\n",
       "      <td>67\"</td>\n",
       "      <td>Orthodox</td>\n",
       "      <td>1988-04-26</td>\n",
       "    </tr>\n",
       "    <tr>\n",
       "      <th>4</th>\n",
       "      <td>Raphael Assuncao</td>\n",
       "      <td>Marlon Moraes</td>\n",
       "      <td>0</td>\n",
       "      <td>0</td>\n",
       "      <td>43 of 134</td>\n",
       "      <td>44 of 150</td>\n",
       "      <td>32</td>\n",
       "      <td>29</td>\n",
       "      <td>43 of 134</td>\n",
       "      <td>44 of 150</td>\n",
       "      <td>...</td>\n",
       "      <td>5' 5\"</td>\n",
       "      <td>135 lbs.</td>\n",
       "      <td>66\"</td>\n",
       "      <td>Orthodox</td>\n",
       "      <td>1982-07-19</td>\n",
       "      <td>5' 6\"</td>\n",
       "      <td>135 lbs.</td>\n",
       "      <td>67\"</td>\n",
       "      <td>Orthodox</td>\n",
       "      <td>1988-04-26</td>\n",
       "    </tr>\n",
       "  </tbody>\n",
       "</table>\n",
       "<p>5 rows × 130 columns</p>\n",
       "</div>"
      ],
      "text/plain": [
       "          r_fighter      b_fighter  r_kd  b_kd  r_sig_str  b_sig_str  \\\n",
       "0      Henry Cejudo  Marlon Moraes     0     0  90 of 171  57 of 119   \n",
       "1     Jimmie Rivera  Marlon Moraes     0     1     0 of 3     7 of 9   \n",
       "2       John Dodson  Marlon Moraes     1     0  43 of 105  45 of 131   \n",
       "3  Raphael Assuncao  Marlon Moraes     0     1    2 of 12   10 of 23   \n",
       "4  Raphael Assuncao  Marlon Moraes     0     0  43 of 134  44 of 150   \n",
       "\n",
       "   r_sig_str_pct  b_sig_str_pct r_total_str b_total_str  ... r_height  \\\n",
       "0             52             47   99 of 182   59 of 121  ...    5' 4\"   \n",
       "1              0             77      0 of 3      7 of 9  ...    5' 4\"   \n",
       "2             40             34   47 of 109   45 of 131  ...    5' 3\"   \n",
       "3             16             43     3 of 13    12 of 25  ...    5' 5\"   \n",
       "4             32             29   43 of 134   44 of 150  ...    5' 5\"   \n",
       "\n",
       "   r_weight  r_reach  r_stance      r_dob  b_height  b_weight  b_reach  \\\n",
       "0  135 lbs.      64\"  Orthodox 1987-02-09     5' 6\"  135 lbs.      67\"   \n",
       "1  135 lbs.      68\"  Orthodox 1989-06-29     5' 6\"  135 lbs.      67\"   \n",
       "2  135 lbs.      66\"  Orthodox 1984-09-26     5' 6\"  135 lbs.      67\"   \n",
       "3  135 lbs.      66\"  Orthodox 1982-07-19     5' 6\"  135 lbs.      67\"   \n",
       "4  135 lbs.      66\"  Orthodox 1982-07-19     5' 6\"  135 lbs.      67\"   \n",
       "\n",
       "   b_stance      b_dob  \n",
       "0  Orthodox 1988-04-26  \n",
       "1  Orthodox 1988-04-26  \n",
       "2  Orthodox 1988-04-26  \n",
       "3  Orthodox 1988-04-26  \n",
       "4  Orthodox 1988-04-26  \n",
       "\n",
       "[5 rows x 130 columns]"
      ]
     },
     "execution_count": 118,
     "metadata": {},
     "output_type": "execute_result"
    }
   ],
   "source": [
    "combined.head()"
   ]
  },
  {
   "cell_type": "code",
   "execution_count": 119,
   "metadata": {},
   "outputs": [
    {
     "data": {
      "text/plain": [
       "31.136986301369863"
      ]
     },
     "execution_count": 119,
     "metadata": {},
     "output_type": "execute_result"
    }
   ],
   "source": [
    "(combined.iloc[0].date - combined.iloc[0].b_dob).days / 365"
   ]
  },
  {
   "cell_type": "code",
   "execution_count": null,
   "metadata": {},
   "outputs": [],
   "source": []
  },
  {
   "cell_type": "code",
   "execution_count": 120,
   "metadata": {},
   "outputs": [],
   "source": [
    "combined['r_age'] = (combined.date - combined.r_dob).apply(lambda t: t.days / 365)"
   ]
  },
  {
   "cell_type": "code",
   "execution_count": 121,
   "metadata": {},
   "outputs": [],
   "source": [
    "combined['b_age'] = (combined.date - combined.b_dob).apply(lambda t: t.days / 365)"
   ]
  },
  {
   "cell_type": "code",
   "execution_count": 122,
   "metadata": {},
   "outputs": [
    {
     "data": {
      "text/html": [
       "<div>\n",
       "<style scoped>\n",
       "    .dataframe tbody tr th:only-of-type {\n",
       "        vertical-align: middle;\n",
       "    }\n",
       "\n",
       "    .dataframe tbody tr th {\n",
       "        vertical-align: top;\n",
       "    }\n",
       "\n",
       "    .dataframe thead th {\n",
       "        text-align: right;\n",
       "    }\n",
       "</style>\n",
       "<table border=\"1\" class=\"dataframe\">\n",
       "  <thead>\n",
       "    <tr style=\"text-align: right;\">\n",
       "      <th></th>\n",
       "      <th>r_fighter</th>\n",
       "      <th>b_fighter</th>\n",
       "      <th>r_kd</th>\n",
       "      <th>b_kd</th>\n",
       "      <th>r_sig_str</th>\n",
       "      <th>b_sig_str</th>\n",
       "      <th>r_sig_str_pct</th>\n",
       "      <th>b_sig_str_pct</th>\n",
       "      <th>r_total_str</th>\n",
       "      <th>b_total_str</th>\n",
       "      <th>...</th>\n",
       "      <th>r_reach</th>\n",
       "      <th>r_stance</th>\n",
       "      <th>r_dob</th>\n",
       "      <th>b_height</th>\n",
       "      <th>b_weight</th>\n",
       "      <th>b_reach</th>\n",
       "      <th>b_stance</th>\n",
       "      <th>b_dob</th>\n",
       "      <th>r_age</th>\n",
       "      <th>b_age</th>\n",
       "    </tr>\n",
       "  </thead>\n",
       "  <tbody>\n",
       "    <tr>\n",
       "      <th>0</th>\n",
       "      <td>Henry Cejudo</td>\n",
       "      <td>Marlon Moraes</td>\n",
       "      <td>0</td>\n",
       "      <td>0</td>\n",
       "      <td>90 of 171</td>\n",
       "      <td>57 of 119</td>\n",
       "      <td>52</td>\n",
       "      <td>47</td>\n",
       "      <td>99 of 182</td>\n",
       "      <td>59 of 121</td>\n",
       "      <td>...</td>\n",
       "      <td>64\"</td>\n",
       "      <td>Orthodox</td>\n",
       "      <td>1987-02-09</td>\n",
       "      <td>5' 6\"</td>\n",
       "      <td>135 lbs.</td>\n",
       "      <td>67\"</td>\n",
       "      <td>Orthodox</td>\n",
       "      <td>1988-04-26</td>\n",
       "      <td>32.347945</td>\n",
       "      <td>31.136986</td>\n",
       "    </tr>\n",
       "    <tr>\n",
       "      <th>1</th>\n",
       "      <td>Jimmie Rivera</td>\n",
       "      <td>Marlon Moraes</td>\n",
       "      <td>0</td>\n",
       "      <td>1</td>\n",
       "      <td>0 of 3</td>\n",
       "      <td>7 of 9</td>\n",
       "      <td>0</td>\n",
       "      <td>77</td>\n",
       "      <td>0 of 3</td>\n",
       "      <td>7 of 9</td>\n",
       "      <td>...</td>\n",
       "      <td>68\"</td>\n",
       "      <td>Orthodox</td>\n",
       "      <td>1989-06-29</td>\n",
       "      <td>5' 6\"</td>\n",
       "      <td>135 lbs.</td>\n",
       "      <td>67\"</td>\n",
       "      <td>Orthodox</td>\n",
       "      <td>1988-04-26</td>\n",
       "      <td>28.942466</td>\n",
       "      <td>30.117808</td>\n",
       "    </tr>\n",
       "    <tr>\n",
       "      <th>2</th>\n",
       "      <td>John Dodson</td>\n",
       "      <td>Marlon Moraes</td>\n",
       "      <td>1</td>\n",
       "      <td>0</td>\n",
       "      <td>43 of 105</td>\n",
       "      <td>45 of 131</td>\n",
       "      <td>40</td>\n",
       "      <td>34</td>\n",
       "      <td>47 of 109</td>\n",
       "      <td>45 of 131</td>\n",
       "      <td>...</td>\n",
       "      <td>66\"</td>\n",
       "      <td>Orthodox</td>\n",
       "      <td>1984-09-26</td>\n",
       "      <td>5' 6\"</td>\n",
       "      <td>135 lbs.</td>\n",
       "      <td>67\"</td>\n",
       "      <td>Orthodox</td>\n",
       "      <td>1988-04-26</td>\n",
       "      <td>33.147945</td>\n",
       "      <td>29.564384</td>\n",
       "    </tr>\n",
       "    <tr>\n",
       "      <th>3</th>\n",
       "      <td>Raphael Assuncao</td>\n",
       "      <td>Marlon Moraes</td>\n",
       "      <td>0</td>\n",
       "      <td>1</td>\n",
       "      <td>2 of 12</td>\n",
       "      <td>10 of 23</td>\n",
       "      <td>16</td>\n",
       "      <td>43</td>\n",
       "      <td>3 of 13</td>\n",
       "      <td>12 of 25</td>\n",
       "      <td>...</td>\n",
       "      <td>66\"</td>\n",
       "      <td>Orthodox</td>\n",
       "      <td>1982-07-19</td>\n",
       "      <td>5' 6\"</td>\n",
       "      <td>135 lbs.</td>\n",
       "      <td>67\"</td>\n",
       "      <td>Orthodox</td>\n",
       "      <td>1988-04-26</td>\n",
       "      <td>36.567123</td>\n",
       "      <td>30.791781</td>\n",
       "    </tr>\n",
       "    <tr>\n",
       "      <th>4</th>\n",
       "      <td>Raphael Assuncao</td>\n",
       "      <td>Marlon Moraes</td>\n",
       "      <td>0</td>\n",
       "      <td>0</td>\n",
       "      <td>43 of 134</td>\n",
       "      <td>44 of 150</td>\n",
       "      <td>32</td>\n",
       "      <td>29</td>\n",
       "      <td>43 of 134</td>\n",
       "      <td>44 of 150</td>\n",
       "      <td>...</td>\n",
       "      <td>66\"</td>\n",
       "      <td>Orthodox</td>\n",
       "      <td>1982-07-19</td>\n",
       "      <td>5' 6\"</td>\n",
       "      <td>135 lbs.</td>\n",
       "      <td>67\"</td>\n",
       "      <td>Orthodox</td>\n",
       "      <td>1988-04-26</td>\n",
       "      <td>34.898630</td>\n",
       "      <td>29.123288</td>\n",
       "    </tr>\n",
       "  </tbody>\n",
       "</table>\n",
       "<p>5 rows × 132 columns</p>\n",
       "</div>"
      ],
      "text/plain": [
       "          r_fighter      b_fighter  r_kd  b_kd  r_sig_str  b_sig_str  \\\n",
       "0      Henry Cejudo  Marlon Moraes     0     0  90 of 171  57 of 119   \n",
       "1     Jimmie Rivera  Marlon Moraes     0     1     0 of 3     7 of 9   \n",
       "2       John Dodson  Marlon Moraes     1     0  43 of 105  45 of 131   \n",
       "3  Raphael Assuncao  Marlon Moraes     0     1    2 of 12   10 of 23   \n",
       "4  Raphael Assuncao  Marlon Moraes     0     0  43 of 134  44 of 150   \n",
       "\n",
       "   r_sig_str_pct  b_sig_str_pct r_total_str b_total_str  ... r_reach  \\\n",
       "0             52             47   99 of 182   59 of 121  ...     64\"   \n",
       "1              0             77      0 of 3      7 of 9  ...     68\"   \n",
       "2             40             34   47 of 109   45 of 131  ...     66\"   \n",
       "3             16             43     3 of 13    12 of 25  ...     66\"   \n",
       "4             32             29   43 of 134   44 of 150  ...     66\"   \n",
       "\n",
       "   r_stance      r_dob  b_height  b_weight  b_reach  b_stance      b_dob  \\\n",
       "0  Orthodox 1987-02-09     5' 6\"  135 lbs.      67\"  Orthodox 1988-04-26   \n",
       "1  Orthodox 1989-06-29     5' 6\"  135 lbs.      67\"  Orthodox 1988-04-26   \n",
       "2  Orthodox 1984-09-26     5' 6\"  135 lbs.      67\"  Orthodox 1988-04-26   \n",
       "3  Orthodox 1982-07-19     5' 6\"  135 lbs.      67\"  Orthodox 1988-04-26   \n",
       "4  Orthodox 1982-07-19     5' 6\"  135 lbs.      67\"  Orthodox 1988-04-26   \n",
       "\n",
       "       r_age      b_age  \n",
       "0  32.347945  31.136986  \n",
       "1  28.942466  30.117808  \n",
       "2  33.147945  29.564384  \n",
       "3  36.567123  30.791781  \n",
       "4  34.898630  29.123288  \n",
       "\n",
       "[5 rows x 132 columns]"
      ]
     },
     "execution_count": 122,
     "metadata": {},
     "output_type": "execute_result"
    }
   ],
   "source": [
    "combined.head()"
   ]
  },
  {
   "cell_type": "code",
   "execution_count": 123,
   "metadata": {},
   "outputs": [
    {
     "data": {
      "text/plain": [
       "<matplotlib.axes._subplots.AxesSubplot at 0x28a574dbd88>"
      ]
     },
     "execution_count": 123,
     "metadata": {},
     "output_type": "execute_result"
    },
    {
     "data": {
      "image/png": "[encoded data removed]",
      "text/plain": [
       "<Figure size 432x288 with 1 Axes>"
      ]
     },
     "metadata": {
      "needs_background": "light"
     },
     "output_type": "display_data"
    }
   ],
   "source": [
    "sns.distplot(combined.r_age)"
   ]
  },
  {
   "cell_type": "code",
   "execution_count": 124,
   "metadata": {},
   "outputs": [
    {
     "data": {
      "text/plain": [
       "<matplotlib.axes._subplots.AxesSubplot at 0x28a574df988>"
      ]
     },
     "execution_count": 124,
     "metadata": {},
     "output_type": "execute_result"
    },
    {
     "data": {
      "image/png": "[encoded data removed]",
      "text/plain": [
       "<Figure size 432x288 with 1 Axes>"
      ]
     },
     "metadata": {
      "needs_background": "light"
     },
     "output_type": "display_data"
    }
   ],
   "source": [
    "sns.distplot(combined.b_age)"
   ]
  },
  {
   "cell_type": "code",
   "execution_count": 125,
   "metadata": {},
   "outputs": [
    {
     "name": "stdout",
     "output_type": "stream",
     "text": [
      "29.997536572131057\n",
      "29.701028227815886\n"
     ]
    }
   ],
   "source": [
    "print(combined.r_age.mean())\n",
    "print(combined.b_age.mean())"
   ]
  },
  {
   "cell_type": "code",
   "execution_count": 126,
   "metadata": {},
   "outputs": [
    {
     "data": {
      "text/plain": [
       "count    4948.000000\n",
       "mean       29.997537\n",
       "std         4.130975\n",
       "min        19.789041\n",
       "25%        26.986301\n",
       "50%        29.839726\n",
       "75%        32.699315\n",
       "max        47.216438\n",
       "Name: r_age, dtype: float64"
      ]
     },
     "execution_count": 126,
     "metadata": {},
     "output_type": "execute_result"
    }
   ],
   "source": [
    "combined.r_age.describe()"
   ]
  },
  {
   "cell_type": "code",
   "execution_count": 127,
   "metadata": {},
   "outputs": [
    {
     "data": {
      "text/plain": [
       "count    4948.000000\n",
       "mean       29.701028\n",
       "std         4.058802\n",
       "min        18.553425\n",
       "25%        26.783562\n",
       "50%        29.439726\n",
       "75%        32.221918\n",
       "max        51.926027\n",
       "Name: b_age, dtype: float64"
      ]
     },
     "execution_count": 127,
     "metadata": {},
     "output_type": "execute_result"
    }
   ],
   "source": [
    "combined.b_age.describe()"
   ]
  },
  {
   "cell_type": "code",
   "execution_count": 128,
   "metadata": {},
   "outputs": [],
   "source": [
    "combined['age_diff'] = combined.r_age - combined.b_age"
   ]
  },
  {
   "cell_type": "code",
   "execution_count": 129,
   "metadata": {},
   "outputs": [
    {
     "data": {
      "text/html": [
       "<div>\n",
       "<style scoped>\n",
       "    .dataframe tbody tr th:only-of-type {\n",
       "        vertical-align: middle;\n",
       "    }\n",
       "\n",
       "    .dataframe tbody tr th {\n",
       "        vertical-align: top;\n",
       "    }\n",
       "\n",
       "    .dataframe thead th {\n",
       "        text-align: right;\n",
       "    }\n",
       "</style>\n",
       "<table border=\"1\" class=\"dataframe\">\n",
       "  <thead>\n",
       "    <tr style=\"text-align: right;\">\n",
       "      <th></th>\n",
       "      <th>r_fighter</th>\n",
       "      <th>b_fighter</th>\n",
       "      <th>r_kd</th>\n",
       "      <th>b_kd</th>\n",
       "      <th>r_sig_str</th>\n",
       "      <th>b_sig_str</th>\n",
       "      <th>r_sig_str_pct</th>\n",
       "      <th>b_sig_str_pct</th>\n",
       "      <th>r_total_str</th>\n",
       "      <th>b_total_str</th>\n",
       "      <th>...</th>\n",
       "      <th>r_stance</th>\n",
       "      <th>r_dob</th>\n",
       "      <th>b_height</th>\n",
       "      <th>b_weight</th>\n",
       "      <th>b_reach</th>\n",
       "      <th>b_stance</th>\n",
       "      <th>b_dob</th>\n",
       "      <th>r_age</th>\n",
       "      <th>b_age</th>\n",
       "      <th>age_diff</th>\n",
       "    </tr>\n",
       "  </thead>\n",
       "  <tbody>\n",
       "    <tr>\n",
       "      <th>0</th>\n",
       "      <td>Henry Cejudo</td>\n",
       "      <td>Marlon Moraes</td>\n",
       "      <td>0</td>\n",
       "      <td>0</td>\n",
       "      <td>90 of 171</td>\n",
       "      <td>57 of 119</td>\n",
       "      <td>52</td>\n",
       "      <td>47</td>\n",
       "      <td>99 of 182</td>\n",
       "      <td>59 of 121</td>\n",
       "      <td>...</td>\n",
       "      <td>Orthodox</td>\n",
       "      <td>1987-02-09</td>\n",
       "      <td>5' 6\"</td>\n",
       "      <td>135 lbs.</td>\n",
       "      <td>67\"</td>\n",
       "      <td>Orthodox</td>\n",
       "      <td>1988-04-26</td>\n",
       "      <td>32.347945</td>\n",
       "      <td>31.136986</td>\n",
       "      <td>1.210959</td>\n",
       "    </tr>\n",
       "    <tr>\n",
       "      <th>1</th>\n",
       "      <td>Jimmie Rivera</td>\n",
       "      <td>Marlon Moraes</td>\n",
       "      <td>0</td>\n",
       "      <td>1</td>\n",
       "      <td>0 of 3</td>\n",
       "      <td>7 of 9</td>\n",
       "      <td>0</td>\n",
       "      <td>77</td>\n",
       "      <td>0 of 3</td>\n",
       "      <td>7 of 9</td>\n",
       "      <td>...</td>\n",
       "      <td>Orthodox</td>\n",
       "      <td>1989-06-29</td>\n",
       "      <td>5' 6\"</td>\n",
       "      <td>135 lbs.</td>\n",
       "      <td>67\"</td>\n",
       "      <td>Orthodox</td>\n",
       "      <td>1988-04-26</td>\n",
       "      <td>28.942466</td>\n",
       "      <td>30.117808</td>\n",
       "      <td>-1.175342</td>\n",
       "    </tr>\n",
       "    <tr>\n",
       "      <th>2</th>\n",
       "      <td>John Dodson</td>\n",
       "      <td>Marlon Moraes</td>\n",
       "      <td>1</td>\n",
       "      <td>0</td>\n",
       "      <td>43 of 105</td>\n",
       "      <td>45 of 131</td>\n",
       "      <td>40</td>\n",
       "      <td>34</td>\n",
       "      <td>47 of 109</td>\n",
       "      <td>45 of 131</td>\n",
       "      <td>...</td>\n",
       "      <td>Orthodox</td>\n",
       "      <td>1984-09-26</td>\n",
       "      <td>5' 6\"</td>\n",
       "      <td>135 lbs.</td>\n",
       "      <td>67\"</td>\n",
       "      <td>Orthodox</td>\n",
       "      <td>1988-04-26</td>\n",
       "      <td>33.147945</td>\n",
       "      <td>29.564384</td>\n",
       "      <td>3.583562</td>\n",
       "    </tr>\n",
       "    <tr>\n",
       "      <th>3</th>\n",
       "      <td>Raphael Assuncao</td>\n",
       "      <td>Marlon Moraes</td>\n",
       "      <td>0</td>\n",
       "      <td>1</td>\n",
       "      <td>2 of 12</td>\n",
       "      <td>10 of 23</td>\n",
       "      <td>16</td>\n",
       "      <td>43</td>\n",
       "      <td>3 of 13</td>\n",
       "      <td>12 of 25</td>\n",
       "      <td>...</td>\n",
       "      <td>Orthodox</td>\n",
       "      <td>1982-07-19</td>\n",
       "      <td>5' 6\"</td>\n",
       "      <td>135 lbs.</td>\n",
       "      <td>67\"</td>\n",
       "      <td>Orthodox</td>\n",
       "      <td>1988-04-26</td>\n",
       "      <td>36.567123</td>\n",
       "      <td>30.791781</td>\n",
       "      <td>5.775342</td>\n",
       "    </tr>\n",
       "    <tr>\n",
       "      <th>4</th>\n",
       "      <td>Raphael Assuncao</td>\n",
       "      <td>Marlon Moraes</td>\n",
       "      <td>0</td>\n",
       "      <td>0</td>\n",
       "      <td>43 of 134</td>\n",
       "      <td>44 of 150</td>\n",
       "      <td>32</td>\n",
       "      <td>29</td>\n",
       "      <td>43 of 134</td>\n",
       "      <td>44 of 150</td>\n",
       "      <td>...</td>\n",
       "      <td>Orthodox</td>\n",
       "      <td>1982-07-19</td>\n",
       "      <td>5' 6\"</td>\n",
       "      <td>135 lbs.</td>\n",
       "      <td>67\"</td>\n",
       "      <td>Orthodox</td>\n",
       "      <td>1988-04-26</td>\n",
       "      <td>34.898630</td>\n",
       "      <td>29.123288</td>\n",
       "      <td>5.775342</td>\n",
       "    </tr>\n",
       "  </tbody>\n",
       "</table>\n",
       "<p>5 rows × 133 columns</p>\n",
       "</div>"
      ],
      "text/plain": [
       "          r_fighter      b_fighter  r_kd  b_kd  r_sig_str  b_sig_str  \\\n",
       "0      Henry Cejudo  Marlon Moraes     0     0  90 of 171  57 of 119   \n",
       "1     Jimmie Rivera  Marlon Moraes     0     1     0 of 3     7 of 9   \n",
       "2       John Dodson  Marlon Moraes     1     0  43 of 105  45 of 131   \n",
       "3  Raphael Assuncao  Marlon Moraes     0     1    2 of 12   10 of 23   \n",
       "4  Raphael Assuncao  Marlon Moraes     0     0  43 of 134  44 of 150   \n",
       "\n",
       "   r_sig_str_pct  b_sig_str_pct r_total_str b_total_str  ...  r_stance  \\\n",
       "0             52             47   99 of 182   59 of 121  ...  Orthodox   \n",
       "1              0             77      0 of 3      7 of 9  ...  Orthodox   \n",
       "2             40             34   47 of 109   45 of 131  ...  Orthodox   \n",
       "3             16             43     3 of 13    12 of 25  ...  Orthodox   \n",
       "4             32             29   43 of 134   44 of 150  ...  Orthodox   \n",
       "\n",
       "       r_dob  b_height  b_weight  b_reach  b_stance      b_dob      r_age  \\\n",
       "0 1987-02-09     5' 6\"  135 lbs.      67\"  Orthodox 1988-04-26  32.347945   \n",
       "1 1989-06-29     5' 6\"  135 lbs.      67\"  Orthodox 1988-04-26  28.942466   \n",
       "2 1984-09-26     5' 6\"  135 lbs.      67\"  Orthodox 1988-04-26  33.147945   \n",
       "3 1982-07-19     5' 6\"  135 lbs.      67\"  Orthodox 1988-04-26  36.567123   \n",
       "4 1982-07-19     5' 6\"  135 lbs.      67\"  Orthodox 1988-04-26  34.898630   \n",
       "\n",
       "       b_age  age_diff  \n",
       "0  31.136986  1.210959  \n",
       "1  30.117808 -1.175342  \n",
       "2  29.564384  3.583562  \n",
       "3  30.791781  5.775342  \n",
       "4  29.123288  5.775342  \n",
       "\n",
       "[5 rows x 133 columns]"
      ]
     },
     "execution_count": 129,
     "metadata": {},
     "output_type": "execute_result"
    }
   ],
   "source": [
    "combined.head()"
   ]
  },
  {
   "cell_type": "code",
   "execution_count": 130,
   "metadata": {},
   "outputs": [
    {
     "data": {
      "text/plain": [
       "<matplotlib.axes._subplots.AxesSubplot at 0x28a57786108>"
      ]
     },
     "execution_count": 130,
     "metadata": {},
     "output_type": "execute_result"
    },
    {
     "data": {
      "image/png": "[encoded data removed]",
      "text/plain": [
       "<Figure size 432x288 with 1 Axes>"
      ]
     },
     "metadata": {
      "needs_background": "light"
     },
     "output_type": "display_data"
    }
   ],
   "source": [
    "sns.distplot(combined.age_diff)"
   ]
  },
  {
   "cell_type": "code",
   "execution_count": 131,
   "metadata": {},
   "outputs": [
    {
     "data": {
      "text/plain": [
       "count    4948.000000\n",
       "mean        0.296508\n",
       "std         5.210422\n",
       "min       -23.895890\n",
       "25%        -3.104795\n",
       "50%         0.221918\n",
       "75%         3.850000\n",
       "max        17.068493\n",
       "Name: age_diff, dtype: float64"
      ]
     },
     "execution_count": 131,
     "metadata": {},
     "output_type": "execute_result"
    }
   ],
   "source": [
    "combined.age_diff.describe()"
   ]
  },
  {
   "cell_type": "code",
   "execution_count": 132,
   "metadata": {},
   "outputs": [
    {
     "data": {
      "text/html": [
       "<div>\n",
       "<style scoped>\n",
       "    .dataframe tbody tr th:only-of-type {\n",
       "        vertical-align: middle;\n",
       "    }\n",
       "\n",
       "    .dataframe tbody tr th {\n",
       "        vertical-align: top;\n",
       "    }\n",
       "\n",
       "    .dataframe thead th {\n",
       "        text-align: right;\n",
       "    }\n",
       "</style>\n",
       "<table border=\"1\" class=\"dataframe\">\n",
       "  <thead>\n",
       "    <tr style=\"text-align: right;\">\n",
       "      <th></th>\n",
       "      <th>r_fighter</th>\n",
       "      <th>b_fighter</th>\n",
       "      <th>r_age</th>\n",
       "      <th>b_age</th>\n",
       "      <th>r_b_winner</th>\n",
       "      <th>winner</th>\n",
       "    </tr>\n",
       "  </thead>\n",
       "  <tbody>\n",
       "    <tr>\n",
       "      <th>4824</th>\n",
       "      <td>Randy Couture</td>\n",
       "      <td>James Toney</td>\n",
       "      <td>47.216438</td>\n",
       "      <td>42.038356</td>\n",
       "      <td>r</td>\n",
       "      <td>Randy Couture</td>\n",
       "    </tr>\n",
       "    <tr>\n",
       "      <th>3021</th>\n",
       "      <td>Randy Couture</td>\n",
       "      <td>Mark Coleman</td>\n",
       "      <td>46.660274</td>\n",
       "      <td>45.161644</td>\n",
       "      <td>r</td>\n",
       "      <td>Randy Couture</td>\n",
       "    </tr>\n",
       "    <tr>\n",
       "      <th>3002</th>\n",
       "      <td>Randy Couture</td>\n",
       "      <td>Brandon Vera</td>\n",
       "      <td>46.430137</td>\n",
       "      <td>32.117808</td>\n",
       "      <td>r</td>\n",
       "      <td>Randy Couture</td>\n",
       "    </tr>\n",
       "    <tr>\n",
       "      <th>3058</th>\n",
       "      <td>Dan Henderson</td>\n",
       "      <td>Hector Lombard</td>\n",
       "      <td>45.810959</td>\n",
       "      <td>38.361644</td>\n",
       "      <td>r</td>\n",
       "      <td>Dan Henderson</td>\n",
       "    </tr>\n",
       "    <tr>\n",
       "      <th>1952</th>\n",
       "      <td>Mark Hunt</td>\n",
       "      <td>Justin Willis</td>\n",
       "      <td>44.723288</td>\n",
       "      <td>31.391781</td>\n",
       "      <td>b</td>\n",
       "      <td>Justin Willis</td>\n",
       "    </tr>\n",
       "    <tr>\n",
       "      <th>...</th>\n",
       "      <td>...</td>\n",
       "      <td>...</td>\n",
       "      <td>...</td>\n",
       "      <td>...</td>\n",
       "      <td>...</td>\n",
       "      <td>...</td>\n",
       "    </tr>\n",
       "    <tr>\n",
       "      <th>560</th>\n",
       "      <td>Sage Northcutt</td>\n",
       "      <td>Bryan Barberena</td>\n",
       "      <td>19.928767</td>\n",
       "      <td>26.761644</td>\n",
       "      <td>b</td>\n",
       "      <td>Bryan Barberena</td>\n",
       "    </tr>\n",
       "    <tr>\n",
       "      <th>3047</th>\n",
       "      <td>Jake Matthews</td>\n",
       "      <td>Dashon Johnson</td>\n",
       "      <td>19.871233</td>\n",
       "      <td>26.441096</td>\n",
       "      <td>r</td>\n",
       "      <td>Jake Matthews</td>\n",
       "    </tr>\n",
       "    <tr>\n",
       "      <th>3629</th>\n",
       "      <td>Vitor Belfort</td>\n",
       "      <td>Tra Telligman</td>\n",
       "      <td>19.868493</td>\n",
       "      <td>32.021918</td>\n",
       "      <td>r</td>\n",
       "      <td>Vitor Belfort</td>\n",
       "    </tr>\n",
       "    <tr>\n",
       "      <th>3627</th>\n",
       "      <td>Vitor Belfort</td>\n",
       "      <td>Scott Ferrozzo</td>\n",
       "      <td>19.868493</td>\n",
       "      <td>31.808219</td>\n",
       "      <td>r</td>\n",
       "      <td>Vitor Belfort</td>\n",
       "    </tr>\n",
       "    <tr>\n",
       "      <th>2624</th>\n",
       "      <td>Sage Northcutt</td>\n",
       "      <td>Cody Pfister</td>\n",
       "      <td>19.789041</td>\n",
       "      <td>25.430137</td>\n",
       "      <td>r</td>\n",
       "      <td>Sage Northcutt</td>\n",
       "    </tr>\n",
       "  </tbody>\n",
       "</table>\n",
       "<p>4948 rows × 6 columns</p>\n",
       "</div>"
      ],
      "text/plain": [
       "           r_fighter        b_fighter      r_age      b_age r_b_winner  \\\n",
       "4824   Randy Couture      James Toney  47.216438  42.038356          r   \n",
       "3021   Randy Couture     Mark Coleman  46.660274  45.161644          r   \n",
       "3002   Randy Couture     Brandon Vera  46.430137  32.117808          r   \n",
       "3058   Dan Henderson   Hector Lombard  45.810959  38.361644          r   \n",
       "1952       Mark Hunt    Justin Willis  44.723288  31.391781          b   \n",
       "...              ...              ...        ...        ...        ...   \n",
       "560   Sage Northcutt  Bryan Barberena  19.928767  26.761644          b   \n",
       "3047   Jake Matthews   Dashon Johnson  19.871233  26.441096          r   \n",
       "3629   Vitor Belfort    Tra Telligman  19.868493  32.021918          r   \n",
       "3627   Vitor Belfort   Scott Ferrozzo  19.868493  31.808219          r   \n",
       "2624  Sage Northcutt     Cody Pfister  19.789041  25.430137          r   \n",
       "\n",
       "               winner  \n",
       "4824    Randy Couture  \n",
       "3021    Randy Couture  \n",
       "3002    Randy Couture  \n",
       "3058    Dan Henderson  \n",
       "1952    Justin Willis  \n",
       "...               ...  \n",
       "560   Bryan Barberena  \n",
       "3047    Jake Matthews  \n",
       "3629    Vitor Belfort  \n",
       "3627    Vitor Belfort  \n",
       "2624   Sage Northcutt  \n",
       "\n",
       "[4948 rows x 6 columns]"
      ]
     },
     "execution_count": 132,
     "metadata": {},
     "output_type": "execute_result"
    }
   ],
   "source": [
    "# Just curious about the fights with the older people.\n",
    "combined.sort_values('r_age', ascending=False)[['r_fighter', 'b_fighter', 'r_age', 'b_age', 'r_b_winner', 'winner']]"
   ]
  },
  {
   "cell_type": "code",
   "execution_count": 133,
   "metadata": {},
   "outputs": [
    {
     "data": {
      "text/html": [
       "<div>\n",
       "<style scoped>\n",
       "    .dataframe tbody tr th:only-of-type {\n",
       "        vertical-align: middle;\n",
       "    }\n",
       "\n",
       "    .dataframe tbody tr th {\n",
       "        vertical-align: top;\n",
       "    }\n",
       "\n",
       "    .dataframe thead th {\n",
       "        text-align: right;\n",
       "    }\n",
       "</style>\n",
       "<table border=\"1\" class=\"dataframe\">\n",
       "  <thead>\n",
       "    <tr style=\"text-align: right;\">\n",
       "      <th></th>\n",
       "      <th>r_fighter</th>\n",
       "      <th>b_fighter</th>\n",
       "      <th>r_age</th>\n",
       "      <th>b_age</th>\n",
       "      <th>r_b_winner</th>\n",
       "      <th>winner</th>\n",
       "    </tr>\n",
       "  </thead>\n",
       "  <tbody>\n",
       "    <tr>\n",
       "      <th>5126</th>\n",
       "      <td>Royce Gracie</td>\n",
       "      <td>Ron van Clief</td>\n",
       "      <td>28.030137</td>\n",
       "      <td>51.926027</td>\n",
       "      <td>r</td>\n",
       "      <td>Royce Gracie</td>\n",
       "    </tr>\n",
       "    <tr>\n",
       "      <th>3599</th>\n",
       "      <td>Lyoto Machida</td>\n",
       "      <td>Randy Couture</td>\n",
       "      <td>32.939726</td>\n",
       "      <td>47.887671</td>\n",
       "      <td>r</td>\n",
       "      <td>Lyoto Machida</td>\n",
       "    </tr>\n",
       "    <tr>\n",
       "      <th>3602</th>\n",
       "      <td>Minotauro Nogueira</td>\n",
       "      <td>Randy Couture</td>\n",
       "      <td>33.263014</td>\n",
       "      <td>46.219178</td>\n",
       "      <td>r</td>\n",
       "      <td>Minotauro Nogueira</td>\n",
       "    </tr>\n",
       "    <tr>\n",
       "      <th>2203</th>\n",
       "      <td>Michael Bisping</td>\n",
       "      <td>Dan Henderson</td>\n",
       "      <td>37.635616</td>\n",
       "      <td>46.156164</td>\n",
       "      <td>r</td>\n",
       "      <td>Michael Bisping</td>\n",
       "    </tr>\n",
       "    <tr>\n",
       "      <th>3600</th>\n",
       "      <td>Brock Lesnar</td>\n",
       "      <td>Randy Couture</td>\n",
       "      <td>31.367123</td>\n",
       "      <td>45.432877</td>\n",
       "      <td>r</td>\n",
       "      <td>Brock Lesnar</td>\n",
       "    </tr>\n",
       "    <tr>\n",
       "      <th>...</th>\n",
       "      <td>...</td>\n",
       "      <td>...</td>\n",
       "      <td>...</td>\n",
       "      <td>...</td>\n",
       "      <td>...</td>\n",
       "      <td>...</td>\n",
       "    </tr>\n",
       "    <tr>\n",
       "      <th>3964</th>\n",
       "      <td>Syuri Kondo</td>\n",
       "      <td>Chanmi Jeon</td>\n",
       "      <td>28.638356</td>\n",
       "      <td>20.082192</td>\n",
       "      <td>r</td>\n",
       "      <td>Syuri Kondo</td>\n",
       "    </tr>\n",
       "    <tr>\n",
       "      <th>3324</th>\n",
       "      <td>Jessica Andrade</td>\n",
       "      <td>Larissa Pacheco</td>\n",
       "      <td>22.983562</td>\n",
       "      <td>20.030137</td>\n",
       "      <td>r</td>\n",
       "      <td>Jessica Andrade</td>\n",
       "    </tr>\n",
       "    <tr>\n",
       "      <th>3965</th>\n",
       "      <td>JJ Aldrich</td>\n",
       "      <td>Chanmi Jeon</td>\n",
       "      <td>24.712329</td>\n",
       "      <td>19.797260</td>\n",
       "      <td>r</td>\n",
       "      <td>JJ Aldrich</td>\n",
       "    </tr>\n",
       "    <tr>\n",
       "      <th>4389</th>\n",
       "      <td>Francisco Trevino</td>\n",
       "      <td>Sage Northcutt</td>\n",
       "      <td>33.816438</td>\n",
       "      <td>19.602740</td>\n",
       "      <td>b</td>\n",
       "      <td>Sage Northcutt</td>\n",
       "    </tr>\n",
       "    <tr>\n",
       "      <th>4120</th>\n",
       "      <td>Spencer Fisher</td>\n",
       "      <td>Dan Lauzon</td>\n",
       "      <td>30.452055</td>\n",
       "      <td>18.553425</td>\n",
       "      <td>r</td>\n",
       "      <td>Spencer Fisher</td>\n",
       "    </tr>\n",
       "  </tbody>\n",
       "</table>\n",
       "<p>4948 rows × 6 columns</p>\n",
       "</div>"
      ],
      "text/plain": [
       "               r_fighter        b_fighter      r_age      b_age r_b_winner  \\\n",
       "5126        Royce Gracie    Ron van Clief  28.030137  51.926027          r   \n",
       "3599       Lyoto Machida    Randy Couture  32.939726  47.887671          r   \n",
       "3602  Minotauro Nogueira    Randy Couture  33.263014  46.219178          r   \n",
       "2203     Michael Bisping    Dan Henderson  37.635616  46.156164          r   \n",
       "3600        Brock Lesnar    Randy Couture  31.367123  45.432877          r   \n",
       "...                  ...              ...        ...        ...        ...   \n",
       "3964         Syuri Kondo      Chanmi Jeon  28.638356  20.082192          r   \n",
       "3324     Jessica Andrade  Larissa Pacheco  22.983562  20.030137          r   \n",
       "3965          JJ Aldrich      Chanmi Jeon  24.712329  19.797260          r   \n",
       "4389   Francisco Trevino   Sage Northcutt  33.816438  19.602740          b   \n",
       "4120      Spencer Fisher       Dan Lauzon  30.452055  18.553425          r   \n",
       "\n",
       "                  winner  \n",
       "5126        Royce Gracie  \n",
       "3599       Lyoto Machida  \n",
       "3602  Minotauro Nogueira  \n",
       "2203     Michael Bisping  \n",
       "3600        Brock Lesnar  \n",
       "...                  ...  \n",
       "3964         Syuri Kondo  \n",
       "3324     Jessica Andrade  \n",
       "3965          JJ Aldrich  \n",
       "4389      Sage Northcutt  \n",
       "4120      Spencer Fisher  \n",
       "\n",
       "[4948 rows x 6 columns]"
      ]
     },
     "execution_count": 133,
     "metadata": {},
     "output_type": "execute_result"
    }
   ],
   "source": [
    "combined.sort_values('b_age', ascending=False)[['r_fighter', 'b_fighter', 'r_age', 'b_age', 'r_b_winner', 'winner']]"
   ]
  },
  {
   "cell_type": "code",
   "execution_count": 134,
   "metadata": {},
   "outputs": [
    {
     "data": {
      "text/html": [
       "<div>\n",
       "<style scoped>\n",
       "    .dataframe tbody tr th:only-of-type {\n",
       "        vertical-align: middle;\n",
       "    }\n",
       "\n",
       "    .dataframe tbody tr th {\n",
       "        vertical-align: top;\n",
       "    }\n",
       "\n",
       "    .dataframe thead th {\n",
       "        text-align: right;\n",
       "    }\n",
       "</style>\n",
       "<table border=\"1\" class=\"dataframe\">\n",
       "  <thead>\n",
       "    <tr style=\"text-align: right;\">\n",
       "      <th></th>\n",
       "      <th>r_fighter</th>\n",
       "      <th>b_fighter</th>\n",
       "      <th>r_age</th>\n",
       "      <th>b_age</th>\n",
       "      <th>r_b_winner</th>\n",
       "      <th>winner</th>\n",
       "      <th>win_by</th>\n",
       "    </tr>\n",
       "  </thead>\n",
       "  <tbody>\n",
       "    <tr>\n",
       "      <th>1186</th>\n",
       "      <td>Randy Couture</td>\n",
       "      <td>Vitor Belfort</td>\n",
       "      <td>41.194521</td>\n",
       "      <td>27.408219</td>\n",
       "      <td>r</td>\n",
       "      <td>Randy Couture</td>\n",
       "      <td>TKO - Doctor's Stoppage</td>\n",
       "    </tr>\n",
       "    <tr>\n",
       "      <th>1187</th>\n",
       "      <td>Randy Couture</td>\n",
       "      <td>Vitor Belfort</td>\n",
       "      <td>34.345205</td>\n",
       "      <td>20.558904</td>\n",
       "      <td>r</td>\n",
       "      <td>Randy Couture</td>\n",
       "      <td>KO/TKO</td>\n",
       "    </tr>\n",
       "    <tr>\n",
       "      <th>1398</th>\n",
       "      <td>Randy Couture</td>\n",
       "      <td>Tim Sylvia</td>\n",
       "      <td>43.726027</td>\n",
       "      <td>31.013699</td>\n",
       "      <td>r</td>\n",
       "      <td>Randy Couture</td>\n",
       "      <td>Decision - Unanimous</td>\n",
       "    </tr>\n",
       "    <tr>\n",
       "      <th>2131</th>\n",
       "      <td>Randy Couture</td>\n",
       "      <td>Gabriel Gonzaga</td>\n",
       "      <td>44.205479</td>\n",
       "      <td>28.290411</td>\n",
       "      <td>r</td>\n",
       "      <td>Randy Couture</td>\n",
       "      <td>KO/TKO</td>\n",
       "    </tr>\n",
       "    <tr>\n",
       "      <th>3002</th>\n",
       "      <td>Randy Couture</td>\n",
       "      <td>Brandon Vera</td>\n",
       "      <td>46.430137</td>\n",
       "      <td>32.117808</td>\n",
       "      <td>r</td>\n",
       "      <td>Randy Couture</td>\n",
       "      <td>Decision - Unanimous</td>\n",
       "    </tr>\n",
       "    <tr>\n",
       "      <th>3017</th>\n",
       "      <td>Randy Couture</td>\n",
       "      <td>Chuck Liddell</td>\n",
       "      <td>39.983562</td>\n",
       "      <td>33.490411</td>\n",
       "      <td>r</td>\n",
       "      <td>Randy Couture</td>\n",
       "      <td>KO/TKO</td>\n",
       "    </tr>\n",
       "    <tr>\n",
       "      <th>3021</th>\n",
       "      <td>Randy Couture</td>\n",
       "      <td>Mark Coleman</td>\n",
       "      <td>46.660274</td>\n",
       "      <td>45.161644</td>\n",
       "      <td>r</td>\n",
       "      <td>Randy Couture</td>\n",
       "      <td>Submission</td>\n",
       "    </tr>\n",
       "    <tr>\n",
       "      <th>3501</th>\n",
       "      <td>Randy Couture</td>\n",
       "      <td>Tito Ortiz</td>\n",
       "      <td>40.290411</td>\n",
       "      <td>28.693151</td>\n",
       "      <td>r</td>\n",
       "      <td>Randy Couture</td>\n",
       "      <td>Decision - Unanimous</td>\n",
       "    </tr>\n",
       "    <tr>\n",
       "      <th>3598</th>\n",
       "      <td>Vitor Belfort</td>\n",
       "      <td>Randy Couture</td>\n",
       "      <td>26.852055</td>\n",
       "      <td>40.638356</td>\n",
       "      <td>r</td>\n",
       "      <td>Vitor Belfort</td>\n",
       "      <td>TKO - Doctor's Stoppage</td>\n",
       "    </tr>\n",
       "    <tr>\n",
       "      <th>3599</th>\n",
       "      <td>Lyoto Machida</td>\n",
       "      <td>Randy Couture</td>\n",
       "      <td>32.939726</td>\n",
       "      <td>47.887671</td>\n",
       "      <td>r</td>\n",
       "      <td>Lyoto Machida</td>\n",
       "      <td>KO/TKO</td>\n",
       "    </tr>\n",
       "    <tr>\n",
       "      <th>3600</th>\n",
       "      <td>Brock Lesnar</td>\n",
       "      <td>Randy Couture</td>\n",
       "      <td>31.367123</td>\n",
       "      <td>45.432877</td>\n",
       "      <td>r</td>\n",
       "      <td>Brock Lesnar</td>\n",
       "      <td>KO/TKO</td>\n",
       "    </tr>\n",
       "    <tr>\n",
       "      <th>3601</th>\n",
       "      <td>Josh Barnett</td>\n",
       "      <td>Randy Couture</td>\n",
       "      <td>24.378082</td>\n",
       "      <td>38.775342</td>\n",
       "      <td>r</td>\n",
       "      <td>Josh Barnett</td>\n",
       "      <td>KO/TKO</td>\n",
       "    </tr>\n",
       "    <tr>\n",
       "      <th>3602</th>\n",
       "      <td>Minotauro Nogueira</td>\n",
       "      <td>Randy Couture</td>\n",
       "      <td>33.263014</td>\n",
       "      <td>46.219178</td>\n",
       "      <td>r</td>\n",
       "      <td>Minotauro Nogueira</td>\n",
       "      <td>Decision - Unanimous</td>\n",
       "    </tr>\n",
       "    <tr>\n",
       "      <th>3603</th>\n",
       "      <td>Chuck Liddell</td>\n",
       "      <td>Randy Couture</td>\n",
       "      <td>36.158904</td>\n",
       "      <td>42.652055</td>\n",
       "      <td>r</td>\n",
       "      <td>Chuck Liddell</td>\n",
       "      <td>KO/TKO</td>\n",
       "    </tr>\n",
       "    <tr>\n",
       "      <th>3604</th>\n",
       "      <td>Chuck Liddell</td>\n",
       "      <td>Randy Couture</td>\n",
       "      <td>35.353425</td>\n",
       "      <td>41.846575</td>\n",
       "      <td>r</td>\n",
       "      <td>Chuck Liddell</td>\n",
       "      <td>KO/TKO</td>\n",
       "    </tr>\n",
       "    <tr>\n",
       "      <th>3605</th>\n",
       "      <td>Ricco Rodriguez</td>\n",
       "      <td>Randy Couture</td>\n",
       "      <td>25.123288</td>\n",
       "      <td>39.293151</td>\n",
       "      <td>r</td>\n",
       "      <td>Ricco Rodriguez</td>\n",
       "      <td>KO/TKO</td>\n",
       "    </tr>\n",
       "    <tr>\n",
       "      <th>4748</th>\n",
       "      <td>Randy Couture</td>\n",
       "      <td>Pedro Rizzo</td>\n",
       "      <td>38.391781</td>\n",
       "      <td>27.520548</td>\n",
       "      <td>r</td>\n",
       "      <td>Randy Couture</td>\n",
       "      <td>KO/TKO</td>\n",
       "    </tr>\n",
       "    <tr>\n",
       "      <th>4749</th>\n",
       "      <td>Randy Couture</td>\n",
       "      <td>Pedro Rizzo</td>\n",
       "      <td>37.893151</td>\n",
       "      <td>27.021918</td>\n",
       "      <td>r</td>\n",
       "      <td>Randy Couture</td>\n",
       "      <td>Decision - Unanimous</td>\n",
       "    </tr>\n",
       "    <tr>\n",
       "      <th>4824</th>\n",
       "      <td>Randy Couture</td>\n",
       "      <td>James Toney</td>\n",
       "      <td>47.216438</td>\n",
       "      <td>42.038356</td>\n",
       "      <td>r</td>\n",
       "      <td>Randy Couture</td>\n",
       "      <td>Submission</td>\n",
       "    </tr>\n",
       "    <tr>\n",
       "      <th>4825</th>\n",
       "      <td>Randy Couture</td>\n",
       "      <td>Mike van Arsdale</td>\n",
       "      <td>42.191781</td>\n",
       "      <td>40.194521</td>\n",
       "      <td>r</td>\n",
       "      <td>Randy Couture</td>\n",
       "      <td>Submission</td>\n",
       "    </tr>\n",
       "    <tr>\n",
       "      <th>4827</th>\n",
       "      <td>Randy Couture</td>\n",
       "      <td>Kevin Randleman</td>\n",
       "      <td>37.432877</td>\n",
       "      <td>29.293151</td>\n",
       "      <td>r</td>\n",
       "      <td>Randy Couture</td>\n",
       "      <td>KO/TKO</td>\n",
       "    </tr>\n",
       "    <tr>\n",
       "      <th>4830</th>\n",
       "      <td>Randy Couture</td>\n",
       "      <td>Maurice Smith</td>\n",
       "      <td>34.523288</td>\n",
       "      <td>36.046575</td>\n",
       "      <td>r</td>\n",
       "      <td>Randy Couture</td>\n",
       "      <td>Decision - Majority</td>\n",
       "    </tr>\n",
       "    <tr>\n",
       "      <th>4834</th>\n",
       "      <td>Randy Couture</td>\n",
       "      <td>Tony Halme</td>\n",
       "      <td>33.961644</td>\n",
       "      <td>34.419178</td>\n",
       "      <td>r</td>\n",
       "      <td>Randy Couture</td>\n",
       "      <td>Submission</td>\n",
       "    </tr>\n",
       "  </tbody>\n",
       "</table>\n",
       "</div>"
      ],
      "text/plain": [
       "               r_fighter         b_fighter      r_age      b_age r_b_winner  \\\n",
       "1186       Randy Couture     Vitor Belfort  41.194521  27.408219          r   \n",
       "1187       Randy Couture     Vitor Belfort  34.345205  20.558904          r   \n",
       "1398       Randy Couture        Tim Sylvia  43.726027  31.013699          r   \n",
       "2131       Randy Couture   Gabriel Gonzaga  44.205479  28.290411          r   \n",
       "3002       Randy Couture      Brandon Vera  46.430137  32.117808          r   \n",
       "3017       Randy Couture     Chuck Liddell  39.983562  33.490411          r   \n",
       "3021       Randy Couture      Mark Coleman  46.660274  45.161644          r   \n",
       "3501       Randy Couture        Tito Ortiz  40.290411  28.693151          r   \n",
       "3598       Vitor Belfort     Randy Couture  26.852055  40.638356          r   \n",
       "3599       Lyoto Machida     Randy Couture  32.939726  47.887671          r   \n",
       "3600        Brock Lesnar     Randy Couture  31.367123  45.432877          r   \n",
       "3601        Josh Barnett     Randy Couture  24.378082  38.775342          r   \n",
       "3602  Minotauro Nogueira     Randy Couture  33.263014  46.219178          r   \n",
       "3603       Chuck Liddell     Randy Couture  36.158904  42.652055          r   \n",
       "3604       Chuck Liddell     Randy Couture  35.353425  41.846575          r   \n",
       "3605     Ricco Rodriguez     Randy Couture  25.123288  39.293151          r   \n",
       "4748       Randy Couture       Pedro Rizzo  38.391781  27.520548          r   \n",
       "4749       Randy Couture       Pedro Rizzo  37.893151  27.021918          r   \n",
       "4824       Randy Couture       James Toney  47.216438  42.038356          r   \n",
       "4825       Randy Couture  Mike van Arsdale  42.191781  40.194521          r   \n",
       "4827       Randy Couture   Kevin Randleman  37.432877  29.293151          r   \n",
       "4830       Randy Couture     Maurice Smith  34.523288  36.046575          r   \n",
       "4834       Randy Couture        Tony Halme  33.961644  34.419178          r   \n",
       "\n",
       "                  winner                   win_by  \n",
       "1186       Randy Couture  TKO - Doctor's Stoppage  \n",
       "1187       Randy Couture                   KO/TKO  \n",
       "1398       Randy Couture     Decision - Unanimous  \n",
       "2131       Randy Couture                   KO/TKO  \n",
       "3002       Randy Couture     Decision - Unanimous  \n",
       "3017       Randy Couture                   KO/TKO  \n",
       "3021       Randy Couture               Submission  \n",
       "3501       Randy Couture     Decision - Unanimous  \n",
       "3598       Vitor Belfort  TKO - Doctor's Stoppage  \n",
       "3599       Lyoto Machida                   KO/TKO  \n",
       "3600        Brock Lesnar                   KO/TKO  \n",
       "3601        Josh Barnett                   KO/TKO  \n",
       "3602  Minotauro Nogueira     Decision - Unanimous  \n",
       "3603       Chuck Liddell                   KO/TKO  \n",
       "3604       Chuck Liddell                   KO/TKO  \n",
       "3605     Ricco Rodriguez                   KO/TKO  \n",
       "4748       Randy Couture                   KO/TKO  \n",
       "4749       Randy Couture     Decision - Unanimous  \n",
       "4824       Randy Couture               Submission  \n",
       "4825       Randy Couture               Submission  \n",
       "4827       Randy Couture                   KO/TKO  \n",
       "4830       Randy Couture      Decision - Majority  \n",
       "4834       Randy Couture               Submission  "
      ]
     },
     "execution_count": 134,
     "metadata": {},
     "output_type": "execute_result"
    }
   ],
   "source": [
    "get_fights_for_fighter('Randy Couture', combined)[['r_fighter', 'b_fighter', 'r_age', 'b_age', 'r_b_winner', 'winner', 'win_by']]"
   ]
  },
  {
   "cell_type": "code",
   "execution_count": 135,
   "metadata": {},
   "outputs": [],
   "source": [
    "# Now change height to inches and convert height, weight, and reach to a number, not a string with \"lbs.\" or \" after it"
   ]
  },
  {
   "cell_type": "code",
   "execution_count": 136,
   "metadata": {},
   "outputs": [
    {
     "data": {
      "text/html": [
       "<div>\n",
       "<style scoped>\n",
       "    .dataframe tbody tr th:only-of-type {\n",
       "        vertical-align: middle;\n",
       "    }\n",
       "\n",
       "    .dataframe tbody tr th {\n",
       "        vertical-align: top;\n",
       "    }\n",
       "\n",
       "    .dataframe thead th {\n",
       "        text-align: right;\n",
       "    }\n",
       "</style>\n",
       "<table border=\"1\" class=\"dataframe\">\n",
       "  <thead>\n",
       "    <tr style=\"text-align: right;\">\n",
       "      <th></th>\n",
       "      <th>r_weight</th>\n",
       "      <th>r_height</th>\n",
       "      <th>r_reach</th>\n",
       "    </tr>\n",
       "  </thead>\n",
       "  <tbody>\n",
       "    <tr>\n",
       "      <th>0</th>\n",
       "      <td>135 lbs.</td>\n",
       "      <td>5' 4\"</td>\n",
       "      <td>64\"</td>\n",
       "    </tr>\n",
       "    <tr>\n",
       "      <th>1</th>\n",
       "      <td>135 lbs.</td>\n",
       "      <td>5' 4\"</td>\n",
       "      <td>68\"</td>\n",
       "    </tr>\n",
       "    <tr>\n",
       "      <th>2</th>\n",
       "      <td>135 lbs.</td>\n",
       "      <td>5' 3\"</td>\n",
       "      <td>66\"</td>\n",
       "    </tr>\n",
       "    <tr>\n",
       "      <th>3</th>\n",
       "      <td>135 lbs.</td>\n",
       "      <td>5' 5\"</td>\n",
       "      <td>66\"</td>\n",
       "    </tr>\n",
       "    <tr>\n",
       "      <th>4</th>\n",
       "      <td>135 lbs.</td>\n",
       "      <td>5' 5\"</td>\n",
       "      <td>66\"</td>\n",
       "    </tr>\n",
       "  </tbody>\n",
       "</table>\n",
       "</div>"
      ],
      "text/plain": [
       "   r_weight r_height r_reach\n",
       "0  135 lbs.    5' 4\"     64\"\n",
       "1  135 lbs.    5' 4\"     68\"\n",
       "2  135 lbs.    5' 3\"     66\"\n",
       "3  135 lbs.    5' 5\"     66\"\n",
       "4  135 lbs.    5' 5\"     66\""
      ]
     },
     "execution_count": 136,
     "metadata": {},
     "output_type": "execute_result"
    }
   ],
   "source": [
    "combined[['r_weight', 'r_height', 'r_reach']].head()"
   ]
  },
  {
   "cell_type": "code",
   "execution_count": 137,
   "metadata": {},
   "outputs": [
    {
     "data": {
      "text/plain": [
       "6' 1\"     597\n",
       "6' 0\"     588\n",
       "5' 9\"     489\n",
       "5' 10\"    487\n",
       "5' 11\"    469\n",
       "5' 8\"     384\n",
       "6' 2\"     381\n",
       "5' 6\"     350\n",
       "6' 3\"     308\n",
       "5' 7\"     300\n",
       "6' 4\"     150\n",
       "5' 5\"     140\n",
       "5' 4\"     114\n",
       "5' 3\"      63\n",
       "6' 5\"      33\n",
       "6' 6\"      29\n",
       "5' 1\"      25\n",
       "6' 11\"     14\n",
       "6' 8\"      10\n",
       "5' 2\"       7\n",
       "6' 7\"       5\n",
       "6' 10\"      3\n",
       "5' 0\"       2\n",
       "Name: r_height, dtype: int64"
      ]
     },
     "execution_count": 137,
     "metadata": {},
     "output_type": "execute_result"
    }
   ],
   "source": [
    "combined.r_height.value_counts()"
   ]
  },
  {
   "cell_type": "code",
   "execution_count": 138,
   "metadata": {},
   "outputs": [
    {
     "data": {
      "text/plain": [
       "6' 0\"     590\n",
       "5' 10\"    587\n",
       "5' 11\"    498\n",
       "6' 1\"     485\n",
       "5' 9\"     478\n",
       "5' 8\"     420\n",
       "6' 2\"     365\n",
       "6' 3\"     324\n",
       "5' 7\"     305\n",
       "5' 6\"     299\n",
       "6' 4\"     166\n",
       "5' 5\"     147\n",
       "5' 4\"      79\n",
       "5' 3\"      74\n",
       "6' 5\"      37\n",
       "5' 1\"      25\n",
       "6' 6\"      23\n",
       "6' 7\"      12\n",
       "5' 2\"       9\n",
       "6' 8\"       7\n",
       "6' 11\"      7\n",
       "6' 10\"      6\n",
       "5' 0\"       3\n",
       "Name: b_height, dtype: int64"
      ]
     },
     "execution_count": 138,
     "metadata": {},
     "output_type": "execute_result"
    }
   ],
   "source": [
    "combined.b_height.value_counts()"
   ]
  },
  {
   "cell_type": "code",
   "execution_count": 139,
   "metadata": {},
   "outputs": [
    {
     "data": {
      "text/plain": [
       "74\"    458\n",
       "70\"    452\n",
       "72\"    448\n",
       "71\"    430\n",
       "73\"    405\n",
       "75\"    371\n",
       "76\"    328\n",
       "68\"    236\n",
       "77\"    206\n",
       "69\"    199\n",
       "67\"    160\n",
       "78\"    132\n",
       "66\"    132\n",
       "65\"    110\n",
       "79\"     96\n",
       "64\"     90\n",
       "80\"     74\n",
       "63\"     42\n",
       "62\"     26\n",
       "81\"     24\n",
       "82\"     20\n",
       "84\"     12\n",
       "60\"      8\n",
       "83\"      4\n",
       "61\"      3\n",
       "Name: b_reach, dtype: int64"
      ]
     },
     "execution_count": 139,
     "metadata": {},
     "output_type": "execute_result"
    }
   ],
   "source": [
    "combined.b_reach.value_counts()"
   ]
  },
  {
   "cell_type": "code",
   "execution_count": 140,
   "metadata": {},
   "outputs": [
    {
     "data": {
      "text/plain": [
       "70\"    492\n",
       "74\"    479\n",
       "73\"    449\n",
       "75\"    425\n",
       "71\"    421\n",
       "72\"    409\n",
       "76\"    365\n",
       "68\"    275\n",
       "77\"    254\n",
       "69\"    205\n",
       "66\"    158\n",
       "67\"    156\n",
       "65\"    129\n",
       "79\"    121\n",
       "78\"    116\n",
       "80\"     89\n",
       "64\"     72\n",
       "63\"     54\n",
       "84\"     31\n",
       "81\"     22\n",
       "82\"     18\n",
       "62\"     15\n",
       "60\"      9\n",
       "83\"      6\n",
       "Name: r_reach, dtype: int64"
      ]
     },
     "execution_count": 140,
     "metadata": {},
     "output_type": "execute_result"
    }
   ],
   "source": [
    "combined.r_reach.value_counts()"
   ]
  },
  {
   "cell_type": "code",
   "execution_count": 141,
   "metadata": {},
   "outputs": [
    {
     "data": {
      "text/plain": [
       "6' 0\"     389\n",
       "5' 9\"     327\n",
       "5' 10\"    322\n",
       "5' 11\"    312\n",
       "6' 1\"     261\n",
       "5' 8\"     249\n",
       "5' 7\"     226\n",
       "6' 2\"     218\n",
       "5' 6\"     181\n",
       "6' 3\"     172\n",
       "5' 5\"      99\n",
       "6' 4\"      83\n",
       "5' 4\"      69\n",
       "5' 3\"      37\n",
       "6' 5\"      36\n",
       "6' 6\"      16\n",
       "5' 2\"      11\n",
       "6' 7\"      11\n",
       "5' 1\"      10\n",
       "6' 8\"       9\n",
       "6' 10\"      3\n",
       "6' 11\"      3\n",
       "5' 0\"       2\n",
       "4' 11\"      1\n",
       "6' 9\"       1\n",
       "7' 2\"       1\n",
       "7' 5\"       1\n",
       "Name: height, dtype: int64"
      ]
     },
     "execution_count": 141,
     "metadata": {},
     "output_type": "execute_result"
    }
   ],
   "source": [
    "fighters.height.value_counts()"
   ]
  },
  {
   "cell_type": "code",
   "execution_count": 142,
   "metadata": {},
   "outputs": [
    {
     "data": {
      "text/plain": [
       "263"
      ]
     },
     "execution_count": 142,
     "metadata": {},
     "output_type": "execute_result"
    }
   ],
   "source": [
    "fighters.height.isnull().sum()"
   ]
  },
  {
   "cell_type": "code",
   "execution_count": 143,
   "metadata": {},
   "outputs": [
    {
     "data": {
      "text/plain": [
       "{'Edward Faaloloto',\n",
       " 'Felix Lee Mitchell',\n",
       " 'Frank Caracci',\n",
       " 'Frank Hamaker',\n",
       " 'Jack Nilson',\n",
       " 'Noe Hernandez',\n",
       " 'Ray Wizard',\n",
       " 'Saeed Hosseini',\n",
       " 'Sam Fulton',\n",
       " 'Tom Blackledge'}"
      ]
     },
     "execution_count": 143,
     "metadata": {},
     "output_type": "execute_result"
    }
   ],
   "source": [
    "# So 263 people have not height given.  How many of them are in actual fights?\n",
    "set(fighters[fighters.height.isnull()].fighter_name).intersection(actual_fighters)"
   ]
  },
  {
   "cell_type": "code",
   "execution_count": 144,
   "metadata": {},
   "outputs": [
    {
     "data": {
      "text/html": [
       "<div>\n",
       "<style scoped>\n",
       "    .dataframe tbody tr th:only-of-type {\n",
       "        vertical-align: middle;\n",
       "    }\n",
       "\n",
       "    .dataframe tbody tr th {\n",
       "        vertical-align: top;\n",
       "    }\n",
       "\n",
       "    .dataframe thead th {\n",
       "        text-align: right;\n",
       "    }\n",
       "</style>\n",
       "<table border=\"1\" class=\"dataframe\">\n",
       "  <thead>\n",
       "    <tr style=\"text-align: right;\">\n",
       "      <th></th>\n",
       "      <th>r_fighter</th>\n",
       "      <th>b_fighter</th>\n",
       "      <th>r_kd</th>\n",
       "      <th>b_kd</th>\n",
       "      <th>r_sig_str</th>\n",
       "      <th>b_sig_str</th>\n",
       "      <th>r_sig_str_pct</th>\n",
       "      <th>b_sig_str_pct</th>\n",
       "      <th>r_total_str</th>\n",
       "      <th>b_total_str</th>\n",
       "      <th>...</th>\n",
       "      <th>r_stance</th>\n",
       "      <th>r_dob</th>\n",
       "      <th>b_height</th>\n",
       "      <th>b_weight</th>\n",
       "      <th>b_reach</th>\n",
       "      <th>b_stance</th>\n",
       "      <th>b_dob</th>\n",
       "      <th>r_age</th>\n",
       "      <th>b_age</th>\n",
       "      <th>age_diff</th>\n",
       "    </tr>\n",
       "  </thead>\n",
       "  <tbody>\n",
       "  </tbody>\n",
       "</table>\n",
       "<p>0 rows × 133 columns</p>\n",
       "</div>"
      ],
      "text/plain": [
       "Empty DataFrame\n",
       "Columns: [r_fighter, b_fighter, r_kd, b_kd, r_sig_str, b_sig_str, r_sig_str_pct, b_sig_str_pct, r_total_str, b_total_str, r_td, b_td, r_td_pct, b_td_pct, r_sub_att, b_sub_att, r_pass, b_pass, r_rev, b_rev, r_head, b_head, r_body, b_body, r_leg, b_leg, r_distance, b_distance, r_clinch, b_clinch, r_ground, b_ground, win_by, last_round, last_round_time, format, referee, date, location, fight_type, winner, r_sig_str_att, b_sig_str_att, r_sig_str_suc, b_sig_str_suc, r_sig_str_ratio, b_sig_str_ratio, sig_str_diff, r_total_str_att, b_total_str_att, r_total_str_suc, b_total_str_suc, r_total_str_ratio, b_total_str_ratio, r_total_str_pct, b_total_str_pct, total_str_diff, r_td_att, b_td_att, r_td_suc, b_td_suc, r_td_ratio, b_td_ratio, td_diff, r_head_att, b_head_att, r_head_suc, b_head_suc, r_head_ratio, b_head_ratio, r_head_pct, b_head_pct, head_diff, r_body_att, b_body_att, r_body_suc, b_body_suc, r_body_ratio, b_body_ratio, r_body_pct, b_body_pct, body_diff, r_leg_att, b_leg_att, r_leg_suc, b_leg_suc, r_leg_ratio, b_leg_ratio, r_leg_pct, b_leg_pct, leg_diff, r_distance_att, b_distance_att, r_distance_suc, b_distance_suc, r_distance_ratio, b_distance_ratio, r_distance_pct, b_distance_pct, distance_diff, ...]\n",
       "Index: []\n",
       "\n",
       "[0 rows x 133 columns]"
      ]
     },
     "execution_count": 144,
     "metadata": {},
     "output_type": "execute_result"
    }
   ],
   "source": [
    "#So 10.  How many fights are they in?\n",
    "combined[combined.r_height.isnull()]"
   ]
  },
  {
   "cell_type": "code",
   "execution_count": 145,
   "metadata": {},
   "outputs": [
    {
     "data": {
      "text/html": [
       "<div>\n",
       "<style scoped>\n",
       "    .dataframe tbody tr th:only-of-type {\n",
       "        vertical-align: middle;\n",
       "    }\n",
       "\n",
       "    .dataframe tbody tr th {\n",
       "        vertical-align: top;\n",
       "    }\n",
       "\n",
       "    .dataframe thead th {\n",
       "        text-align: right;\n",
       "    }\n",
       "</style>\n",
       "<table border=\"1\" class=\"dataframe\">\n",
       "  <thead>\n",
       "    <tr style=\"text-align: right;\">\n",
       "      <th></th>\n",
       "      <th>r_fighter</th>\n",
       "      <th>b_fighter</th>\n",
       "      <th>r_kd</th>\n",
       "      <th>b_kd</th>\n",
       "      <th>r_sig_str</th>\n",
       "      <th>b_sig_str</th>\n",
       "      <th>r_sig_str_pct</th>\n",
       "      <th>b_sig_str_pct</th>\n",
       "      <th>r_total_str</th>\n",
       "      <th>b_total_str</th>\n",
       "      <th>...</th>\n",
       "      <th>r_stance</th>\n",
       "      <th>r_dob</th>\n",
       "      <th>b_height</th>\n",
       "      <th>b_weight</th>\n",
       "      <th>b_reach</th>\n",
       "      <th>b_stance</th>\n",
       "      <th>b_dob</th>\n",
       "      <th>r_age</th>\n",
       "      <th>b_age</th>\n",
       "      <th>age_diff</th>\n",
       "    </tr>\n",
       "  </thead>\n",
       "  <tbody>\n",
       "    <tr>\n",
       "      <th>3238</th>\n",
       "      <td>Michael Johnson</td>\n",
       "      <td>Edward Faaloloto</td>\n",
       "      <td>1</td>\n",
       "      <td>0</td>\n",
       "      <td>27 of 73</td>\n",
       "      <td>17 of 43</td>\n",
       "      <td>36</td>\n",
       "      <td>39</td>\n",
       "      <td>29 of 75</td>\n",
       "      <td>21 of 47</td>\n",
       "      <td>...</td>\n",
       "      <td>Southpaw</td>\n",
       "      <td>1986-06-04</td>\n",
       "      <td>NaN</td>\n",
       "      <td>155 lbs.</td>\n",
       "      <td>70\"</td>\n",
       "      <td>NaN</td>\n",
       "      <td>1984-07-15</td>\n",
       "      <td>25.076712</td>\n",
       "      <td>26.964384</td>\n",
       "      <td>-1.887671</td>\n",
       "    </tr>\n",
       "    <tr>\n",
       "      <th>3239</th>\n",
       "      <td>Terry Etim</td>\n",
       "      <td>Edward Faaloloto</td>\n",
       "      <td>0</td>\n",
       "      <td>0</td>\n",
       "      <td>5 of 6</td>\n",
       "      <td>0 of 3</td>\n",
       "      <td>83</td>\n",
       "      <td>0</td>\n",
       "      <td>5 of 6</td>\n",
       "      <td>0 of 3</td>\n",
       "      <td>...</td>\n",
       "      <td>Orthodox</td>\n",
       "      <td>1986-01-11</td>\n",
       "      <td>NaN</td>\n",
       "      <td>155 lbs.</td>\n",
       "      <td>70\"</td>\n",
       "      <td>NaN</td>\n",
       "      <td>1984-07-15</td>\n",
       "      <td>25.832877</td>\n",
       "      <td>27.326027</td>\n",
       "      <td>-1.493151</td>\n",
       "    </tr>\n",
       "  </tbody>\n",
       "</table>\n",
       "<p>2 rows × 133 columns</p>\n",
       "</div>"
      ],
      "text/plain": [
       "            r_fighter         b_fighter  r_kd  b_kd r_sig_str b_sig_str  \\\n",
       "3238  Michael Johnson  Edward Faaloloto     1     0  27 of 73  17 of 43   \n",
       "3239       Terry Etim  Edward Faaloloto     0     0    5 of 6    0 of 3   \n",
       "\n",
       "      r_sig_str_pct  b_sig_str_pct r_total_str b_total_str  ...  r_stance  \\\n",
       "3238             36             39    29 of 75    21 of 47  ...  Southpaw   \n",
       "3239             83              0      5 of 6      0 of 3  ...  Orthodox   \n",
       "\n",
       "          r_dob  b_height  b_weight  b_reach  b_stance      b_dob      r_age  \\\n",
       "3238 1986-06-04       NaN  155 lbs.      70\"       NaN 1984-07-15  25.076712   \n",
       "3239 1986-01-11       NaN  155 lbs.      70\"       NaN 1984-07-15  25.832877   \n",
       "\n",
       "          b_age  age_diff  \n",
       "3238  26.964384 -1.887671  \n",
       "3239  27.326027 -1.493151  \n",
       "\n",
       "[2 rows x 133 columns]"
      ]
     },
     "execution_count": 145,
     "metadata": {},
     "output_type": "execute_result"
    }
   ],
   "source": [
    "combined[combined.b_height.isnull()]"
   ]
  },
  {
   "cell_type": "code",
   "execution_count": 146,
   "metadata": {},
   "outputs": [],
   "source": [
    "# Now I'm confused.  Maybe those fights were already elminated when we dropped the rows with no dob.  So based on this, if we disregard fighters with no height, we will only miss two fights we would not miss already."
   ]
  },
  {
   "cell_type": "code",
   "execution_count": 147,
   "metadata": {},
   "outputs": [
    {
     "data": {
      "text/plain": [
       "0   1987-02-09\n",
       "1   1989-06-29\n",
       "2   1984-09-26\n",
       "3   1982-07-19\n",
       "4   1982-07-19\n",
       "Name: r_dob, dtype: datetime64[ns]"
      ]
     },
     "execution_count": 147,
     "metadata": {},
     "output_type": "execute_result"
    }
   ],
   "source": [
    "combined.r_dob.head()"
   ]
  },
  {
   "cell_type": "code",
   "execution_count": null,
   "metadata": {},
   "outputs": [],
   "source": []
  },
  {
   "cell_type": "code",
   "execution_count": null,
   "metadata": {},
   "outputs": [],
   "source": []
  },
  {
   "cell_type": "code",
   "execution_count": 150,
   "metadata": {},
   "outputs": [
    {
     "name": "stdout",
     "output_type": "stream",
     "text": [
      "<class 'pandas.core.frame.DataFrame'>\n",
      "Int64Index: 4393 entries, 0 to 4392\n",
      "Columns: 136 entries, r_fighter to reach_diff\n",
      "dtypes: datetime64[ns](3), float64(21), int64(81), object(31)\n",
      "memory usage: 4.6+ MB\n"
     ]
    }
   ],
   "source": [
    "# reload, with new API featuresabs\n",
    "import fighters_cleanser, constants\n",
    "fights = fighters_cleanser.load_cleanse_and_merge(constants.DEFAULT_FIGHTERS_FILE_NAME, constants.DEFAULT_FIGHTS_FILE_NAME)\n",
    "fights.info()"
   ]
  },
  {
   "cell_type": "code",
   "execution_count": 152,
   "metadata": {},
   "outputs": [
    {
     "data": {
      "text/html": [
       "<div>\n",
       "<style scoped>\n",
       "    .dataframe tbody tr th:only-of-type {\n",
       "        vertical-align: middle;\n",
       "    }\n",
       "\n",
       "    .dataframe tbody tr th {\n",
       "        vertical-align: top;\n",
       "    }\n",
       "\n",
       "    .dataframe thead th {\n",
       "        text-align: right;\n",
       "    }\n",
       "</style>\n",
       "<table border=\"1\" class=\"dataframe\">\n",
       "  <thead>\n",
       "    <tr style=\"text-align: right;\">\n",
       "      <th></th>\n",
       "      <th>r_fighter</th>\n",
       "      <th>b_fighter</th>\n",
       "      <th>r_kd</th>\n",
       "      <th>b_kd</th>\n",
       "      <th>r_sig_str</th>\n",
       "      <th>b_sig_str</th>\n",
       "      <th>r_sig_str_pct</th>\n",
       "      <th>b_sig_str_pct</th>\n",
       "      <th>r_total_str</th>\n",
       "      <th>b_total_str</th>\n",
       "      <th>...</th>\n",
       "      <th>b_weight</th>\n",
       "      <th>b_reach</th>\n",
       "      <th>b_stance</th>\n",
       "      <th>b_dob</th>\n",
       "      <th>r_age</th>\n",
       "      <th>b_age</th>\n",
       "      <th>age_diff</th>\n",
       "      <th>height_diff</th>\n",
       "      <th>weight_diff</th>\n",
       "      <th>reach_diff</th>\n",
       "    </tr>\n",
       "  </thead>\n",
       "  <tbody>\n",
       "    <tr>\n",
       "      <th>0</th>\n",
       "      <td>Henry Cejudo</td>\n",
       "      <td>Marlon Moraes</td>\n",
       "      <td>0</td>\n",
       "      <td>0</td>\n",
       "      <td>90 of 171</td>\n",
       "      <td>57 of 119</td>\n",
       "      <td>52</td>\n",
       "      <td>47</td>\n",
       "      <td>99 of 182</td>\n",
       "      <td>59 of 121</td>\n",
       "      <td>...</td>\n",
       "      <td>135</td>\n",
       "      <td>67</td>\n",
       "      <td>Orthodox</td>\n",
       "      <td>1988-04-26</td>\n",
       "      <td>32.347945</td>\n",
       "      <td>31.136986</td>\n",
       "      <td>1.210959</td>\n",
       "      <td>-2</td>\n",
       "      <td>0</td>\n",
       "      <td>-3</td>\n",
       "    </tr>\n",
       "    <tr>\n",
       "      <th>1</th>\n",
       "      <td>Jimmie Rivera</td>\n",
       "      <td>Marlon Moraes</td>\n",
       "      <td>0</td>\n",
       "      <td>1</td>\n",
       "      <td>0 of 3</td>\n",
       "      <td>7 of 9</td>\n",
       "      <td>0</td>\n",
       "      <td>77</td>\n",
       "      <td>0 of 3</td>\n",
       "      <td>7 of 9</td>\n",
       "      <td>...</td>\n",
       "      <td>135</td>\n",
       "      <td>67</td>\n",
       "      <td>Orthodox</td>\n",
       "      <td>1988-04-26</td>\n",
       "      <td>28.942466</td>\n",
       "      <td>30.117808</td>\n",
       "      <td>-1.175342</td>\n",
       "      <td>-2</td>\n",
       "      <td>0</td>\n",
       "      <td>1</td>\n",
       "    </tr>\n",
       "    <tr>\n",
       "      <th>2</th>\n",
       "      <td>John Dodson</td>\n",
       "      <td>Marlon Moraes</td>\n",
       "      <td>1</td>\n",
       "      <td>0</td>\n",
       "      <td>43 of 105</td>\n",
       "      <td>45 of 131</td>\n",
       "      <td>40</td>\n",
       "      <td>34</td>\n",
       "      <td>47 of 109</td>\n",
       "      <td>45 of 131</td>\n",
       "      <td>...</td>\n",
       "      <td>135</td>\n",
       "      <td>67</td>\n",
       "      <td>Orthodox</td>\n",
       "      <td>1988-04-26</td>\n",
       "      <td>33.147945</td>\n",
       "      <td>29.564384</td>\n",
       "      <td>3.583562</td>\n",
       "      <td>-3</td>\n",
       "      <td>0</td>\n",
       "      <td>-1</td>\n",
       "    </tr>\n",
       "    <tr>\n",
       "      <th>3</th>\n",
       "      <td>Raphael Assuncao</td>\n",
       "      <td>Marlon Moraes</td>\n",
       "      <td>0</td>\n",
       "      <td>1</td>\n",
       "      <td>2 of 12</td>\n",
       "      <td>10 of 23</td>\n",
       "      <td>16</td>\n",
       "      <td>43</td>\n",
       "      <td>3 of 13</td>\n",
       "      <td>12 of 25</td>\n",
       "      <td>...</td>\n",
       "      <td>135</td>\n",
       "      <td>67</td>\n",
       "      <td>Orthodox</td>\n",
       "      <td>1988-04-26</td>\n",
       "      <td>36.567123</td>\n",
       "      <td>30.791781</td>\n",
       "      <td>5.775342</td>\n",
       "      <td>-1</td>\n",
       "      <td>0</td>\n",
       "      <td>-1</td>\n",
       "    </tr>\n",
       "    <tr>\n",
       "      <th>4</th>\n",
       "      <td>Raphael Assuncao</td>\n",
       "      <td>Marlon Moraes</td>\n",
       "      <td>0</td>\n",
       "      <td>0</td>\n",
       "      <td>43 of 134</td>\n",
       "      <td>44 of 150</td>\n",
       "      <td>32</td>\n",
       "      <td>29</td>\n",
       "      <td>43 of 134</td>\n",
       "      <td>44 of 150</td>\n",
       "      <td>...</td>\n",
       "      <td>135</td>\n",
       "      <td>67</td>\n",
       "      <td>Orthodox</td>\n",
       "      <td>1988-04-26</td>\n",
       "      <td>34.898630</td>\n",
       "      <td>29.123288</td>\n",
       "      <td>5.775342</td>\n",
       "      <td>-1</td>\n",
       "      <td>0</td>\n",
       "      <td>-1</td>\n",
       "    </tr>\n",
       "  </tbody>\n",
       "</table>\n",
       "<p>5 rows × 136 columns</p>\n",
       "</div>"
      ],
      "text/plain": [
       "          r_fighter      b_fighter  r_kd  b_kd  r_sig_str  b_sig_str  \\\n",
       "0      Henry Cejudo  Marlon Moraes     0     0  90 of 171  57 of 119   \n",
       "1     Jimmie Rivera  Marlon Moraes     0     1     0 of 3     7 of 9   \n",
       "2       John Dodson  Marlon Moraes     1     0  43 of 105  45 of 131   \n",
       "3  Raphael Assuncao  Marlon Moraes     0     1    2 of 12   10 of 23   \n",
       "4  Raphael Assuncao  Marlon Moraes     0     0  43 of 134  44 of 150   \n",
       "\n",
       "   r_sig_str_pct  b_sig_str_pct r_total_str b_total_str  ... b_weight b_reach  \\\n",
       "0             52             47   99 of 182   59 of 121  ...      135      67   \n",
       "1              0             77      0 of 3      7 of 9  ...      135      67   \n",
       "2             40             34   47 of 109   45 of 131  ...      135      67   \n",
       "3             16             43     3 of 13    12 of 25  ...      135      67   \n",
       "4             32             29   43 of 134   44 of 150  ...      135      67   \n",
       "\n",
       "   b_stance      b_dob      r_age      b_age  age_diff  height_diff  \\\n",
       "0  Orthodox 1988-04-26  32.347945  31.136986  1.210959           -2   \n",
       "1  Orthodox 1988-04-26  28.942466  30.117808 -1.175342           -2   \n",
       "2  Orthodox 1988-04-26  33.147945  29.564384  3.583562           -3   \n",
       "3  Orthodox 1988-04-26  36.567123  30.791781  5.775342           -1   \n",
       "4  Orthodox 1988-04-26  34.898630  29.123288  5.775342           -1   \n",
       "\n",
       "   weight_diff  reach_diff  \n",
       "0            0          -3  \n",
       "1            0           1  \n",
       "2            0          -1  \n",
       "3            0          -1  \n",
       "4            0          -1  \n",
       "\n",
       "[5 rows x 136 columns]"
      ]
     },
     "execution_count": 152,
     "metadata": {},
     "output_type": "execute_result"
    }
   ],
   "source": [
    "fights.head()"
   ]
  },
  {
   "cell_type": "code",
   "execution_count": 151,
   "metadata": {},
   "outputs": [
    {
     "ename": "RuntimeError",
     "evalue": "Selected KDE bandwidth is 0. Cannot estiamte density.",
     "output_type": "error",
     "traceback": [
      "\u001b[1;31m---------------------------------------------------------------------------\u001b[0m",
      "\u001b[1;31mValueError\u001b[0m                                Traceback (most recent call last)",
      "\u001b[1;32m~\\anaconda3\\lib\\site-packages\\statsmodels\\nonparametric\\kde.py\u001b[0m in \u001b[0;36mkdensityfft\u001b[1;34m(X, kernel, bw, weights, gridsize, adjust, clip, cut, retgrid)\u001b[0m\n\u001b[0;32m    450\u001b[0m     \u001b[1;32mtry\u001b[0m\u001b[1;33m:\u001b[0m\u001b[1;33m\u001b[0m\u001b[1;33m\u001b[0m\u001b[0m\n\u001b[1;32m--> 451\u001b[1;33m         \u001b[0mbw\u001b[0m \u001b[1;33m=\u001b[0m \u001b[0mfloat\u001b[0m\u001b[1;33m(\u001b[0m\u001b[0mbw\u001b[0m\u001b[1;33m)\u001b[0m\u001b[1;33m\u001b[0m\u001b[1;33m\u001b[0m\u001b[0m\n\u001b[0m\u001b[0;32m    452\u001b[0m     \u001b[1;32mexcept\u001b[0m\u001b[1;33m:\u001b[0m\u001b[1;33m\u001b[0m\u001b[1;33m\u001b[0m\u001b[0m\n",
      "\u001b[1;31mValueError\u001b[0m: could not convert string to float: 'scott'",
      "\nDuring handling of the above exception, another exception occurred:\n",
      "\u001b[1;31mRuntimeError\u001b[0m                              Traceback (most recent call last)",
      "\u001b[1;32m<ipython-input-151-2ebd70e43fb4>\u001b[0m in \u001b[0;36m<module>\u001b[1;34m\u001b[0m\n\u001b[1;32m----> 1\u001b[1;33m \u001b[0msns\u001b[0m\u001b[1;33m.\u001b[0m\u001b[0mdistplot\u001b[0m\u001b[1;33m(\u001b[0m\u001b[0mfights\u001b[0m\u001b[1;33m.\u001b[0m\u001b[0mweight_diff\u001b[0m\u001b[1;33m)\u001b[0m\u001b[1;33m\u001b[0m\u001b[1;33m\u001b[0m\u001b[0m\n\u001b[0m",
      "\u001b[1;32m~\\anaconda3\\lib\\site-packages\\seaborn\\distributions.py\u001b[0m in \u001b[0;36mdistplot\u001b[1;34m(a, bins, hist, kde, rug, fit, hist_kws, kde_kws, rug_kws, fit_kws, color, vertical, norm_hist, axlabel, label, ax)\u001b[0m\n\u001b[0;32m    231\u001b[0m     \u001b[1;32mif\u001b[0m \u001b[0mkde\u001b[0m\u001b[1;33m:\u001b[0m\u001b[1;33m\u001b[0m\u001b[1;33m\u001b[0m\u001b[0m\n\u001b[0;32m    232\u001b[0m         \u001b[0mkde_color\u001b[0m \u001b[1;33m=\u001b[0m \u001b[0mkde_kws\u001b[0m\u001b[1;33m.\u001b[0m\u001b[0mpop\u001b[0m\u001b[1;33m(\u001b[0m\u001b[1;34m\"color\"\u001b[0m\u001b[1;33m,\u001b[0m \u001b[0mcolor\u001b[0m\u001b[1;33m)\u001b[0m\u001b[1;33m\u001b[0m\u001b[1;33m\u001b[0m\u001b[0m\n\u001b[1;32m--> 233\u001b[1;33m         \u001b[0mkdeplot\u001b[0m\u001b[1;33m(\u001b[0m\u001b[0ma\u001b[0m\u001b[1;33m,\u001b[0m \u001b[0mvertical\u001b[0m\u001b[1;33m=\u001b[0m\u001b[0mvertical\u001b[0m\u001b[1;33m,\u001b[0m \u001b[0max\u001b[0m\u001b[1;33m=\u001b[0m\u001b[0max\u001b[0m\u001b[1;33m,\u001b[0m \u001b[0mcolor\u001b[0m\u001b[1;33m=\u001b[0m\u001b[0mkde_color\u001b[0m\u001b[1;33m,\u001b[0m \u001b[1;33m**\u001b[0m\u001b[0mkde_kws\u001b[0m\u001b[1;33m)\u001b[0m\u001b[1;33m\u001b[0m\u001b[1;33m\u001b[0m\u001b[0m\n\u001b[0m\u001b[0;32m    234\u001b[0m         \u001b[1;32mif\u001b[0m \u001b[0mkde_color\u001b[0m \u001b[1;33m!=\u001b[0m \u001b[0mcolor\u001b[0m\u001b[1;33m:\u001b[0m\u001b[1;33m\u001b[0m\u001b[1;33m\u001b[0m\u001b[0m\n\u001b[0;32m    235\u001b[0m             \u001b[0mkde_kws\u001b[0m\u001b[1;33m[\u001b[0m\u001b[1;34m\"color\"\u001b[0m\u001b[1;33m]\u001b[0m \u001b[1;33m=\u001b[0m \u001b[0mkde_color\u001b[0m\u001b[1;33m\u001b[0m\u001b[1;33m\u001b[0m\u001b[0m\n",
      "\u001b[1;32m~\\anaconda3\\lib\\site-packages\\seaborn\\distributions.py\u001b[0m in \u001b[0;36mkdeplot\u001b[1;34m(data, data2, shade, vertical, kernel, bw, gridsize, cut, clip, legend, cumulative, shade_lowest, cbar, cbar_ax, cbar_kws, ax, **kwargs)\u001b[0m\n\u001b[0;32m    703\u001b[0m         ax = _univariate_kdeplot(data, shade, vertical, kernel, bw,\n\u001b[0;32m    704\u001b[0m                                  \u001b[0mgridsize\u001b[0m\u001b[1;33m,\u001b[0m \u001b[0mcut\u001b[0m\u001b[1;33m,\u001b[0m \u001b[0mclip\u001b[0m\u001b[1;33m,\u001b[0m \u001b[0mlegend\u001b[0m\u001b[1;33m,\u001b[0m \u001b[0max\u001b[0m\u001b[1;33m,\u001b[0m\u001b[1;33m\u001b[0m\u001b[1;33m\u001b[0m\u001b[0m\n\u001b[1;32m--> 705\u001b[1;33m                                  cumulative=cumulative, **kwargs)\n\u001b[0m\u001b[0;32m    706\u001b[0m \u001b[1;33m\u001b[0m\u001b[0m\n\u001b[0;32m    707\u001b[0m     \u001b[1;32mreturn\u001b[0m \u001b[0max\u001b[0m\u001b[1;33m\u001b[0m\u001b[1;33m\u001b[0m\u001b[0m\n",
      "\u001b[1;32m~\\anaconda3\\lib\\site-packages\\seaborn\\distributions.py\u001b[0m in \u001b[0;36m_univariate_kdeplot\u001b[1;34m(data, shade, vertical, kernel, bw, gridsize, cut, clip, legend, ax, cumulative, **kwargs)\u001b[0m\n\u001b[0;32m    293\u001b[0m         x, y = _statsmodels_univariate_kde(data, kernel, bw,\n\u001b[0;32m    294\u001b[0m                                            \u001b[0mgridsize\u001b[0m\u001b[1;33m,\u001b[0m \u001b[0mcut\u001b[0m\u001b[1;33m,\u001b[0m \u001b[0mclip\u001b[0m\u001b[1;33m,\u001b[0m\u001b[1;33m\u001b[0m\u001b[1;33m\u001b[0m\u001b[0m\n\u001b[1;32m--> 295\u001b[1;33m                                            cumulative=cumulative)\n\u001b[0m\u001b[0;32m    296\u001b[0m     \u001b[1;32melse\u001b[0m\u001b[1;33m:\u001b[0m\u001b[1;33m\u001b[0m\u001b[1;33m\u001b[0m\u001b[0m\n\u001b[0;32m    297\u001b[0m         \u001b[1;31m# Fall back to scipy if missing statsmodels\u001b[0m\u001b[1;33m\u001b[0m\u001b[1;33m\u001b[0m\u001b[1;33m\u001b[0m\u001b[0m\n",
      "\u001b[1;32m~\\anaconda3\\lib\\site-packages\\seaborn\\distributions.py\u001b[0m in \u001b[0;36m_statsmodels_univariate_kde\u001b[1;34m(data, kernel, bw, gridsize, cut, clip, cumulative)\u001b[0m\n\u001b[0;32m    365\u001b[0m     \u001b[0mfft\u001b[0m \u001b[1;33m=\u001b[0m \u001b[0mkernel\u001b[0m \u001b[1;33m==\u001b[0m \u001b[1;34m\"gau\"\u001b[0m\u001b[1;33m\u001b[0m\u001b[1;33m\u001b[0m\u001b[0m\n\u001b[0;32m    366\u001b[0m     \u001b[0mkde\u001b[0m \u001b[1;33m=\u001b[0m \u001b[0msmnp\u001b[0m\u001b[1;33m.\u001b[0m\u001b[0mKDEUnivariate\u001b[0m\u001b[1;33m(\u001b[0m\u001b[0mdata\u001b[0m\u001b[1;33m)\u001b[0m\u001b[1;33m\u001b[0m\u001b[1;33m\u001b[0m\u001b[0m\n\u001b[1;32m--> 367\u001b[1;33m     \u001b[0mkde\u001b[0m\u001b[1;33m.\u001b[0m\u001b[0mfit\u001b[0m\u001b[1;33m(\u001b[0m\u001b[0mkernel\u001b[0m\u001b[1;33m,\u001b[0m \u001b[0mbw\u001b[0m\u001b[1;33m,\u001b[0m \u001b[0mfft\u001b[0m\u001b[1;33m,\u001b[0m \u001b[0mgridsize\u001b[0m\u001b[1;33m=\u001b[0m\u001b[0mgridsize\u001b[0m\u001b[1;33m,\u001b[0m \u001b[0mcut\u001b[0m\u001b[1;33m=\u001b[0m\u001b[0mcut\u001b[0m\u001b[1;33m,\u001b[0m \u001b[0mclip\u001b[0m\u001b[1;33m=\u001b[0m\u001b[0mclip\u001b[0m\u001b[1;33m)\u001b[0m\u001b[1;33m\u001b[0m\u001b[1;33m\u001b[0m\u001b[0m\n\u001b[0m\u001b[0;32m    368\u001b[0m     \u001b[1;32mif\u001b[0m \u001b[0mcumulative\u001b[0m\u001b[1;33m:\u001b[0m\u001b[1;33m\u001b[0m\u001b[1;33m\u001b[0m\u001b[0m\n\u001b[0;32m    369\u001b[0m         \u001b[0mgrid\u001b[0m\u001b[1;33m,\u001b[0m \u001b[0my\u001b[0m \u001b[1;33m=\u001b[0m \u001b[0mkde\u001b[0m\u001b[1;33m.\u001b[0m\u001b[0msupport\u001b[0m\u001b[1;33m,\u001b[0m \u001b[0mkde\u001b[0m\u001b[1;33m.\u001b[0m\u001b[0mcdf\u001b[0m\u001b[1;33m\u001b[0m\u001b[1;33m\u001b[0m\u001b[0m\n",
      "\u001b[1;32m~\\anaconda3\\lib\\site-packages\\statsmodels\\nonparametric\\kde.py\u001b[0m in \u001b[0;36mfit\u001b[1;34m(self, kernel, bw, fft, weights, gridsize, adjust, cut, clip)\u001b[0m\n\u001b[0;32m    138\u001b[0m             density, grid, bw = kdensityfft(endog, kernel=kernel, bw=bw,\n\u001b[0;32m    139\u001b[0m                     \u001b[0madjust\u001b[0m\u001b[1;33m=\u001b[0m\u001b[0madjust\u001b[0m\u001b[1;33m,\u001b[0m \u001b[0mweights\u001b[0m\u001b[1;33m=\u001b[0m\u001b[0mweights\u001b[0m\u001b[1;33m,\u001b[0m \u001b[0mgridsize\u001b[0m\u001b[1;33m=\u001b[0m\u001b[0mgridsize\u001b[0m\u001b[1;33m,\u001b[0m\u001b[1;33m\u001b[0m\u001b[1;33m\u001b[0m\u001b[0m\n\u001b[1;32m--> 140\u001b[1;33m                     clip=clip, cut=cut)\n\u001b[0m\u001b[0;32m    141\u001b[0m         \u001b[1;32melse\u001b[0m\u001b[1;33m:\u001b[0m\u001b[1;33m\u001b[0m\u001b[1;33m\u001b[0m\u001b[0m\n\u001b[0;32m    142\u001b[0m             density, grid, bw = kdensity(endog, kernel=kernel, bw=bw,\n",
      "\u001b[1;32m~\\anaconda3\\lib\\site-packages\\statsmodels\\nonparametric\\kde.py\u001b[0m in \u001b[0;36mkdensityfft\u001b[1;34m(X, kernel, bw, weights, gridsize, adjust, clip, cut, retgrid)\u001b[0m\n\u001b[0;32m    451\u001b[0m         \u001b[0mbw\u001b[0m \u001b[1;33m=\u001b[0m \u001b[0mfloat\u001b[0m\u001b[1;33m(\u001b[0m\u001b[0mbw\u001b[0m\u001b[1;33m)\u001b[0m\u001b[1;33m\u001b[0m\u001b[1;33m\u001b[0m\u001b[0m\n\u001b[0;32m    452\u001b[0m     \u001b[1;32mexcept\u001b[0m\u001b[1;33m:\u001b[0m\u001b[1;33m\u001b[0m\u001b[1;33m\u001b[0m\u001b[0m\n\u001b[1;32m--> 453\u001b[1;33m         \u001b[0mbw\u001b[0m \u001b[1;33m=\u001b[0m \u001b[0mbandwidths\u001b[0m\u001b[1;33m.\u001b[0m\u001b[0mselect_bandwidth\u001b[0m\u001b[1;33m(\u001b[0m\u001b[0mX\u001b[0m\u001b[1;33m,\u001b[0m \u001b[0mbw\u001b[0m\u001b[1;33m,\u001b[0m \u001b[0mkern\u001b[0m\u001b[1;33m)\u001b[0m \u001b[1;31m# will cross-val fit this pattern?\u001b[0m\u001b[1;33m\u001b[0m\u001b[1;33m\u001b[0m\u001b[0m\n\u001b[0m\u001b[0;32m    454\u001b[0m     \u001b[0mbw\u001b[0m \u001b[1;33m*=\u001b[0m \u001b[0madjust\u001b[0m\u001b[1;33m\u001b[0m\u001b[1;33m\u001b[0m\u001b[0m\n\u001b[0;32m    455\u001b[0m \u001b[1;33m\u001b[0m\u001b[0m\n",
      "\u001b[1;32m~\\anaconda3\\lib\\site-packages\\statsmodels\\nonparametric\\bandwidths.py\u001b[0m in \u001b[0;36mselect_bandwidth\u001b[1;34m(x, bw, kernel)\u001b[0m\n\u001b[0;32m    172\u001b[0m         \u001b[1;31m# eventually this can fall back on another selection criterion.\u001b[0m\u001b[1;33m\u001b[0m\u001b[1;33m\u001b[0m\u001b[1;33m\u001b[0m\u001b[0m\n\u001b[0;32m    173\u001b[0m         \u001b[0merr\u001b[0m \u001b[1;33m=\u001b[0m \u001b[1;34m\"Selected KDE bandwidth is 0. Cannot estiamte density.\"\u001b[0m\u001b[1;33m\u001b[0m\u001b[1;33m\u001b[0m\u001b[0m\n\u001b[1;32m--> 174\u001b[1;33m         \u001b[1;32mraise\u001b[0m \u001b[0mRuntimeError\u001b[0m\u001b[1;33m(\u001b[0m\u001b[0merr\u001b[0m\u001b[1;33m)\u001b[0m\u001b[1;33m\u001b[0m\u001b[1;33m\u001b[0m\u001b[0m\n\u001b[0m\u001b[0;32m    175\u001b[0m     \u001b[1;32melse\u001b[0m\u001b[1;33m:\u001b[0m\u001b[1;33m\u001b[0m\u001b[1;33m\u001b[0m\u001b[0m\n\u001b[0;32m    176\u001b[0m         \u001b[1;32mreturn\u001b[0m \u001b[0mbandwidth\u001b[0m\u001b[1;33m\u001b[0m\u001b[1;33m\u001b[0m\u001b[0m\n",
      "\u001b[1;31mRuntimeError\u001b[0m: Selected KDE bandwidth is 0. Cannot estiamte density."
     ]
    },
    {
     "data": {
      "image/png": "[encoded data removed]",
      "text/plain": [
       "<Figure size 432x288 with 1 Axes>"
      ]
     },
     "metadata": {
      "needs_background": "light"
     },
     "output_type": "display_data"
    }
   ],
   "source": [
    "sns.distplot(fights.weight_diff)"
   ]
  },
  {
   "cell_type": "code",
   "execution_count": 153,
   "metadata": {},
   "outputs": [
    {
     "data": {
      "text/plain": [
       "<matplotlib.axes._subplots.AxesSubplot at 0x28a5de2c588>"
      ]
     },
     "execution_count": 153,
     "metadata": {},
     "output_type": "execute_result"
    },
    {
     "data": {
      "image/png": "[encoded data removed]",
      "text/plain": [
       "<Figure size 432x288 with 1 Axes>"
      ]
     },
     "metadata": {
      "needs_background": "light"
     },
     "output_type": "display_data"
    }
   ],
   "source": [
    "sns.distplot(fights.height_diff)"
   ]
  },
  {
   "cell_type": "code",
   "execution_count": 154,
   "metadata": {},
   "outputs": [
    {
     "data": {
      "text/plain": [
       "<matplotlib.axes._subplots.AxesSubplot at 0x28a5d8da388>"
      ]
     },
     "execution_count": 154,
     "metadata": {},
     "output_type": "execute_result"
    },
    {
     "data": {
      "image/png": "[encoded data removed]",
      "text/plain": [
       "<Figure size 432x288 with 1 Axes>"
      ]
     },
     "metadata": {
      "needs_background": "light"
     },
     "output_type": "display_data"
    }
   ],
   "source": [
    "sns.distplot(fights.age_diff)"
   ]
  },
  {
   "cell_type": "code",
   "execution_count": 155,
   "metadata": {},
   "outputs": [
    {
     "data": {
      "text/plain": [
       "<matplotlib.axes._subplots.AxesSubplot at 0x28a5deadd48>"
      ]
     },
     "execution_count": 155,
     "metadata": {},
     "output_type": "execute_result"
    },
    {
     "data": {
      "image/png": "[encoded data removed]",
      "text/plain": [
       "<Figure size 432x288 with 1 Axes>"
      ]
     },
     "metadata": {
      "needs_background": "light"
     },
     "output_type": "display_data"
    }
   ],
   "source": [
    "sns.distplot(fights.reach_diff)"
   ]
  },
  {
   "cell_type": "code",
   "execution_count": 156,
   "metadata": {},
   "outputs": [
    {
     "data": {
      "text/plain": [
       "r       0.630776\n",
       "b       0.353062\n",
       "None    0.016162\n",
       "Name: r_b_winner, dtype: float64"
      ]
     },
     "execution_count": 156,
     "metadata": {},
     "output_type": "execute_result"
    }
   ],
   "source": [
    "fights.r_b_winner.value_counts() / fights.shape[0]"
   ]
  },
  {
   "cell_type": "code",
   "execution_count": null,
   "metadata": {},
   "outputs": [],
   "source": []
  }
 ],
 "metadata": {
  "kernelspec": {
   "display_name": "Python 3",
   "language": "python",
   "name": "python3"
  },
  "language_info": {
   "codemirror_mode": {
    "name": "ipython",
    "version": 3
   },
   "file_extension": ".py",
   "mimetype": "text/x-python",
   "name": "python",
   "nbconvert_exporter": "python",
   "pygments_lexer": "ipython3",
   "version": "3.7.9"
  }
 },
 "nbformat": 4,
 "nbformat_minor": 4
}
